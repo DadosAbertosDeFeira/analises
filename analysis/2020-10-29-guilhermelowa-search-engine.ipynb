{
 "cells": [
  {
   "source": [
    "# Buscador\n",
    "\n",
    "Esse notebook implementa um buscador simples. \n",
    "A representação pra cada texto é criada a partir da TF-IDF.\n",
    "A representação da query (consulta, ou termos buscados)\n",
    "é construída a partir do vocabulário dos textos.\n",
    "O ranqueamento dos resultados é feito de acordo com\n",
    "a semelhança cosseno da query pros textos.\n",
    "\n",
    "Há várias oportunidades de melhoria. \n",
    "Algumas delas são discutidas ao longo do notebook.\n",
    "\n",
    "Os resultados, mesmo deste buscador ingênuo,\n",
    "são bastante satisfatórios.\n",
    "O buscador é capaz de retornar leis (neste caso)\n",
    "relacionadas à localidades ou personalidades.\n",
    "No entanto, o mesmo mecanismo pode ser utilizado\n",
    "pra quaisquer outros textos, por exemplo o Diário Oficial.\n",
    "Alguns exemplos de buscas são: \n",
    "\n",
    "\"winterianus\" - retorna a Lei Municipal sobre citronelas;\n",
    "\n",
    "\"Elydio Azevedo\" - retorna Lei Municipal que concede título de cidadão feirense;\n",
    "\n",
    "\"Rua Espassonavel\" - retorna Lei Municipal que cita a rua."
   ],
   "cell_type": "markdown",
   "metadata": {}
  },
  {
   "cell_type": "code",
   "execution_count": null,
   "metadata": {},
   "outputs": [],
   "source": [
    "import pandas as pd"
   ]
  },
  {
   "cell_type": "code",
   "execution_count": null,
   "metadata": {
    "tags": []
   },
   "outputs": [],
   "source": [
    "laws = pd.read_json('leis.json')\n",
    "laws.drop(['documento'], inplace=True, axis=1)\n",
    "print(laws.info())\n",
    "print(laws.nunique())"
   ]
  },
  {
   "cell_type": "code",
   "execution_count": null,
   "metadata": {},
   "outputs": [],
   "source": [
    "laws"
   ]
  },
  {
   "cell_type": "code",
   "execution_count": null,
   "metadata": {},
   "outputs": [],
   "source": [
    "print(laws.loc[len(laws)-1, 'texto'])"
   ]
  },
  {
   "cell_type": "markdown",
   "metadata": {},
   "source": [
    "# Buscas por texto\n",
    "\n",
    "No notebook _similar_laws_ vimos que TF-IDF encontra Leis bastante similares entre si.\n",
    "Será que conseguimos também encontrar leis similares a uma query?\n",
    "\n",
    "Primeiro, devemos construir a representação das leis com TF-IDF.\n",
    "Após termos as representações,\n",
    "limpamos o texto da consulta utilizando o mesmo método de limpeza das leis.\n",
    "Depois, criar uma representação da consulta utilizando o IDF do modelo treinado.\n",
    "Finalmente, calcular a similaridade desta consulta\n",
    "para todas as leis na base e retornar as mais próximas."
   ]
  },
  {
   "cell_type": "code",
   "execution_count": null,
   "metadata": {},
   "outputs": [],
   "source": [
    "from scripts.nlp import remove_portuguese_stopwords\n",
    "laws['texto_limpo'] = laws['texto'].apply(remove_portuguese_stopwords)"
   ]
  },
  {
   "cell_type": "code",
   "execution_count": null,
   "metadata": {},
   "outputs": [],
   "source": [
    "from sklearn.feature_extraction.text import CountVectorizer, TfidfTransformer\n",
    "vectorizer = CountVectorizer()\n",
    "X = vectorizer.fit_transform(laws['texto_limpo'])\n",
    "X"
   ]
  },
  {
   "cell_type": "code",
   "execution_count": null,
   "metadata": {
    "tags": []
   },
   "outputs": [],
   "source": [
    "transformer = TfidfTransformer()\n",
    "X_tfidf = transformer.fit_transform(X)\n",
    "\n",
    "X_tfidf"
   ]
  },
  {
   "cell_type": "code",
   "execution_count": null,
   "metadata": {},
   "outputs": [],
   "source": [
    "query = ['rua espassonavel']\n",
    "query[0] = remove_portuguese_stopwords(query[0])\n",
    "query = vectorizer.transform(query)\n",
    "query = transformer.transform(query)"
   ]
  },
  {
   "cell_type": "code",
   "execution_count": null,
   "metadata": {
    "tags": []
   },
   "outputs": [],
   "source": [
    "from sklearn.metrics.pairwise import cosine_similarity\n",
    "import numpy as np\n",
    "\n",
    "best_matches = cosine_similarity(query, X_tfidf)\n",
    "best_matches_idx = np.argsort(best_matches)\n",
    "for i in range(1,5):\n",
    "    idx = best_matches_idx[0, -i]\n",
    "    print(laws.loc[idx, 'texto'])\n",
    "    print('\\n---Next Result:---\\n')"
   ]
  },
  {
   "cell_type": "markdown",
   "metadata": {},
   "source": [
    "Tcharam! Feito um buscador simples!\n",
    "\n",
    "Existem limitações.\n",
    "A sequência e composição das palavras é uma delas, por exemplo.\n",
    "Não adianta buscar pelo nome - sobrenome de uma pessoa.\n",
    "Ele vai retornar resultados onde\n",
    "algum destes termos sejam mais frequentes.\n",
    "Não existe as aspas do Google pra dizer\n",
    "\"busque por este termo todo junto\".\n",
    "\n",
    "Por exemplo, se eu buscar Elydio,\n",
    "o primeiro resultado é a Lei conferindo\n",
    "cidadania à Elydio Azevedo Lopes.\n",
    "Perfeito.\n",
    "Mas se eu buscar Azevedo Lopes,\n",
    "o primeiro resultado sequer tem Azevedo,\n",
    "mas o nome Lopes aparece mais de uma vez.\n",
    "\n",
    "Uma das formas de contornar essa dificuldade é\n",
    "usar bigramas ou n-gramas maiores.\n"
   ]
  },
  {
   "cell_type": "markdown",
   "metadata": {},
   "source": [
    "## Outras opções\n",
    "### Indexar\n",
    "Há outras formas de indexar os documentos\n",
    "e de recuperar, também simples.\n",
    "Uma outra forma de indexar, por exemplo,\n",
    "é fazer um vetor pra cada palavra\n",
    "contando as palavras vizinhas.\n",
    "E depois, o vetor do documento seria\n",
    "a soma dos vetores das palavras.\n",
    "É uma forma interessante porque\n",
    "pode gerar visualizações interessantes\n",
    "entre a similaridade das palavras.\n",
    "Por exemplo, no corpus das Leis Municipais,\n",
    "a quais palavras EDUCAÇÃO mais se assemelha?\n",
    "Ou SAÚDE? Etc.\n",
    "\n",
    "Outra forma é contar n-gramas - por exemplo,\n",
    "bi-gramas: duas palavras juntas formando um token.\n",
    "Dessa forma, você possui uma matriz maior\n",
    "e de certa forma uma relação entre a sequencialidade das palavras,\n",
    "que pode ser útil pra nomes de pessoas e bairros,\n",
    "como citado acima.\n",
    "\n",
    "### Recuperar\n",
    "Outra forma de recuperar é por\n",
    "_local sensitive hashing_.\n",
    "Divide em vários planos múltiplas vezes\n",
    "e retorna os resultados que estão na mesma região da query.\n",
    "No entanto,\n",
    "o corpus não é grande o suficiente pra precisar essa estratégia,\n",
    "que é mais pra grandes corpora.\n",
    "O método acima\n",
    "(calcular a simlaridade cosseno e retornar os maiores valores)\n",
    "é rápido o suficiente pra parecer instantâneo.\n",
    "Talvez com uma demanda mais alta pelo servidor\n",
    "venha a necessidade de aumentar a velocidade da busca,\n",
    "porém por enquanto não é o caso.\n",
    "\n",
    "Há ainda um [novo método]\n",
    "(https://ai.googleblog.com/2020/07/announcing-scann-efficient-vector.html)\n",
    "e uma lib pra isso,\n",
    "lançada pelo Google recentemente,\n",
    "no dia 28 de Julho de 2020.\n",
    "\n",
    "### Avaliação\n",
    "Com múltiplas formas de indexar e recuperar vem o dilema:\n",
    "como avaliar se uma é melhor que a outra?\n",
    "Repetir o processo acima pra todas as opções?\n",
    "Isto é, mostrar N melhores resultados e comparar manualmente?\n",
    "Ou colocar labels em algumas leis?\n",
    "Ex: essa lei trata disso, com tais entidades.\n",
    "Checar formas de avaliação.\n",
    "Se tivesse em produção,\n",
    "poderiamos avaliar por _click through rate_ (CTR) por ex,\n",
    "mas não é o caso"
   ]
  }
 ],
 "metadata": {
  "language_info": {
   "codemirror_mode": {
    "name": "ipython",
    "version": 3
   },
   "file_extension": ".py",
   "mimetype": "text/x-python",
   "name": "python",
   "nbconvert_exporter": "python",
   "pygments_lexer": "ipython3",
   "version": "3.8.2-final"
  },
  "orig_nbformat": 2,
  "kernelspec": {
   "name": "python38264bitdafsaanalisesb94857b5318c463e9159f3e68c6000f6",
   "display_name": "Python 3.8.2 64-bit ('dafsa-analises')"
  }
 },
 "nbformat": 4,
 "nbformat_minor": 2
}
