{
 "cells": [
  {
   "source": [
    "# Buscador\n",
    "\n",
    "Esse notebook implementa um buscador simples. \n",
    "A representação pra cada texto é criada a partir da TF-IDF.\n",
    "A representação da query (consulta, ou termos buscados)\n",
    "é construída a partir do vocabulário dos textos.\n",
    "O ranqueamento dos resultados é feito de acordo com\n",
    "a semelhança cosseno da query pros textos.\n",
    "\n",
    "Há várias oportunidades de melhoria. \n",
    "Algumas delas são discutidas ao longo do notebook.\n",
    "\n",
    "Os resultados, mesmo deste buscador ingênuo,\n",
    "são bastante satisfatórios.\n",
    "O buscador é capaz de retornar leis (neste caso)\n",
    "relacionadas à localidades ou personalidades.\n",
    "No entanto, o mesmo mecanismo pode ser utilizado\n",
    "pra quaisquer outros textos, por exemplo o Diário Oficial.\n",
    "Alguns exemplos de buscas são: \n",
    "\n",
    "\"winterianus\" - retorna a Lei Municipal sobre citronelas;\n",
    "\n",
    "\"Elydio Azevedo\" - retorna Lei Municipal que concede título de cidadão feirense;\n",
    "\n",
    "\"Rua Espassonavel\" - retorna Lei Municipal que cita a rua."
   ],
   "cell_type": "markdown",
   "metadata": {}
  },
  {
   "cell_type": "code",
   "execution_count": 6,
   "metadata": {},
   "outputs": [],
   "source": [
    "import pandas as pd"
   ]
  },
  {
   "cell_type": "code",
   "execution_count": 7,
   "metadata": {
    "tags": []
   },
   "outputs": [
    {
     "output_type": "stream",
     "name": "stdout",
     "text": [
      "<class 'pandas.core.frame.DataFrame'>\nRangeIndex: 6033 entries, 0 to 6032\nData columns (total 4 columns):\n #   Column     Non-Null Count  Dtype \n---  ------     --------------  ----- \n 0   titulo     6033 non-null   object\n 1   categoria  6033 non-null   object\n 2   resumo     6033 non-null   object\n 3   texto      6033 non-null   object\ndtypes: object(4)\nmemory usage: 188.7+ KB\nNone\ntitulo       6033\ncategoria       8\nresumo       4961\ntexto        6029\ndtype: int64\n"
     ]
    }
   ],
   "source": [
    "laws = pd.read_json('leis.json')\n",
    "laws.drop(['documento'], inplace=True, axis=1)\n",
    "print(laws.info())\n",
    "print(laws.nunique())"
   ]
  },
  {
   "cell_type": "code",
   "execution_count": 8,
   "metadata": {},
   "outputs": [
    {
     "output_type": "execute_result",
     "data": {
      "text/plain": [
       "                                            titulo   categoria  \\\n",
       "0     DECRETO Nº 8854, de 28 de fevereiro de 2013.    Decretos   \n",
       "1     DECRETO Nº 8849, de 25 de fevereiro de 2013.    Decretos   \n",
       "2     DECRETO Nº 8853, de 27 de fevereiro de 2013.    Decretos   \n",
       "3          DECRETO Nº 8967, de 17 de julho de 2013    Decretos   \n",
       "4          DECRETO Nº 8982, de 30 de julho de 2013    Decretos   \n",
       "...                                            ...         ...   \n",
       "6028                         RESOLUÇÃO Nº 125/1980  Resoluções   \n",
       "6029                         RESOLUÇÃO Nº 403/2003  Resoluções   \n",
       "6030                         RESOLUÇÃO Nº 492/2014  Resoluções   \n",
       "6031                         RESOLUÇÃO Nº 382/2001  Resoluções   \n",
       "6032                         RESOLUÇÃO Nº 431/2004  Resoluções   \n",
       "\n",
       "                                                 resumo  \\\n",
       "0     DELEGA COMPETÊNCIA À SECRETARIA MUNICIPAL DE P...   \n",
       "1     ABRE CRÉDITO SUPLEMENTAR AO ORÇAMENTO DO MUNIC...   \n",
       "2     NOMEIA MEMBROS DO CONSELHO MUNICIPAL DE DESENV...   \n",
       "3     ALTERA O QUADRO DE DETALHAMENTO DE DESPESA DO ...   \n",
       "4     AUTORIZA O FUNCIONAMENTO DE ESTABELECIMENTOS C...   \n",
       "...                                                 ...   \n",
       "6028  DISPÕE SOBRE A CONCESSÃO DE TÍTULO DE CIDADÃO ...   \n",
       "6029  AUTORIZA A MESA DIRETIVA DO PODER LEGISLATIVO ...   \n",
       "6030  INSTITUI A SEGUNDA SEMANA DO MÊS DE AGOSTO EM ...   \n",
       "6031  CRIA A MEDALHA VEREADOR DIVAL FIGUEIREDO MACHA...   \n",
       "6032  MODIFICA E SUPRIME DISPOSITIVOS DA RESOLUÇÃO N...   \n",
       "\n",
       "                                                  texto  \n",
       "0     O PREFEITO MUNICIPAL DE FEIRA DE SANTANA, Esta...  \n",
       "1     O PREFEITO MUNICIPAL DE FEIRA DE SANTANA, Esta...  \n",
       "2     O PREFEITO MUNICIPAL DE FEIRA DE SANTANA, Esta...  \n",
       "3     O PREFEITO MUNICIPAL DE FEIRA DE SANTANA, Esta...  \n",
       "4     O PREFEITO MUNICIPAL DE FEIRA DE SANTANA, Esta...  \n",
       "...                                                 ...  \n",
       "6028  Faço saber que a Câmara Municipal aprovou e eu...  \n",
       "6029  A CÂMARA MUNICIPAL DE FEIRA DE SANTANA, Estado...  \n",
       "6030  A CÂMARA MUNICIPAL DE FEIRA DE SANTANA, Estado...  \n",
       "6031  A CÂMARA MUNICIPAL DE FEIRA DE SANTANA, Estado...  \n",
       "6032  A CÂMARA MUNICIPAL DE FEIRA DE SANTANA, Estado...  \n",
       "\n",
       "[6033 rows x 4 columns]"
      ],
      "text/html": "<div>\n<style scoped>\n    .dataframe tbody tr th:only-of-type {\n        vertical-align: middle;\n    }\n\n    .dataframe tbody tr th {\n        vertical-align: top;\n    }\n\n    .dataframe thead th {\n        text-align: right;\n    }\n</style>\n<table border=\"1\" class=\"dataframe\">\n  <thead>\n    <tr style=\"text-align: right;\">\n      <th></th>\n      <th>titulo</th>\n      <th>categoria</th>\n      <th>resumo</th>\n      <th>texto</th>\n    </tr>\n  </thead>\n  <tbody>\n    <tr>\n      <th>0</th>\n      <td>DECRETO Nº 8854, de 28 de fevereiro de 2013.</td>\n      <td>Decretos</td>\n      <td>DELEGA COMPETÊNCIA À SECRETARIA MUNICIPAL DE P...</td>\n      <td>O PREFEITO MUNICIPAL DE FEIRA DE SANTANA, Esta...</td>\n    </tr>\n    <tr>\n      <th>1</th>\n      <td>DECRETO Nº 8849, de 25 de fevereiro de 2013.</td>\n      <td>Decretos</td>\n      <td>ABRE CRÉDITO SUPLEMENTAR AO ORÇAMENTO DO MUNIC...</td>\n      <td>O PREFEITO MUNICIPAL DE FEIRA DE SANTANA, Esta...</td>\n    </tr>\n    <tr>\n      <th>2</th>\n      <td>DECRETO Nº 8853, de 27 de fevereiro de 2013.</td>\n      <td>Decretos</td>\n      <td>NOMEIA MEMBROS DO CONSELHO MUNICIPAL DE DESENV...</td>\n      <td>O PREFEITO MUNICIPAL DE FEIRA DE SANTANA, Esta...</td>\n    </tr>\n    <tr>\n      <th>3</th>\n      <td>DECRETO Nº 8967, de 17 de julho de 2013</td>\n      <td>Decretos</td>\n      <td>ALTERA O QUADRO DE DETALHAMENTO DE DESPESA DO ...</td>\n      <td>O PREFEITO MUNICIPAL DE FEIRA DE SANTANA, Esta...</td>\n    </tr>\n    <tr>\n      <th>4</th>\n      <td>DECRETO Nº 8982, de 30 de julho de 2013</td>\n      <td>Decretos</td>\n      <td>AUTORIZA O FUNCIONAMENTO DE ESTABELECIMENTOS C...</td>\n      <td>O PREFEITO MUNICIPAL DE FEIRA DE SANTANA, Esta...</td>\n    </tr>\n    <tr>\n      <th>...</th>\n      <td>...</td>\n      <td>...</td>\n      <td>...</td>\n      <td>...</td>\n    </tr>\n    <tr>\n      <th>6028</th>\n      <td>RESOLUÇÃO Nº 125/1980</td>\n      <td>Resoluções</td>\n      <td>DISPÕE SOBRE A CONCESSÃO DE TÍTULO DE CIDADÃO ...</td>\n      <td>Faço saber que a Câmara Municipal aprovou e eu...</td>\n    </tr>\n    <tr>\n      <th>6029</th>\n      <td>RESOLUÇÃO Nº 403/2003</td>\n      <td>Resoluções</td>\n      <td>AUTORIZA A MESA DIRETIVA DO PODER LEGISLATIVO ...</td>\n      <td>A CÂMARA MUNICIPAL DE FEIRA DE SANTANA, Estado...</td>\n    </tr>\n    <tr>\n      <th>6030</th>\n      <td>RESOLUÇÃO Nº 492/2014</td>\n      <td>Resoluções</td>\n      <td>INSTITUI A SEGUNDA SEMANA DO MÊS DE AGOSTO EM ...</td>\n      <td>A CÂMARA MUNICIPAL DE FEIRA DE SANTANA, Estado...</td>\n    </tr>\n    <tr>\n      <th>6031</th>\n      <td>RESOLUÇÃO Nº 382/2001</td>\n      <td>Resoluções</td>\n      <td>CRIA A MEDALHA VEREADOR DIVAL FIGUEIREDO MACHA...</td>\n      <td>A CÂMARA MUNICIPAL DE FEIRA DE SANTANA, Estado...</td>\n    </tr>\n    <tr>\n      <th>6032</th>\n      <td>RESOLUÇÃO Nº 431/2004</td>\n      <td>Resoluções</td>\n      <td>MODIFICA E SUPRIME DISPOSITIVOS DA RESOLUÇÃO N...</td>\n      <td>A CÂMARA MUNICIPAL DE FEIRA DE SANTANA, Estado...</td>\n    </tr>\n  </tbody>\n</table>\n<p>6033 rows × 4 columns</p>\n</div>"
     },
     "metadata": {},
     "execution_count": 8
    }
   ],
   "source": [
    "laws"
   ]
  },
  {
   "cell_type": "code",
   "execution_count": 9,
   "metadata": {},
   "outputs": [
    {
     "output_type": "stream",
     "name": "stdout",
     "text": [
      "A CÂMARA MUNICIPAL DE FEIRA DE SANTANA, Estado da Bahia, na conformidade do artigo 70, Inciso V, da Lei Municipal nº37, de 05 de Abril de 1990 e, artigos 287, § 2º e, 420, do Regimento Interno, promulga a seguinte Resolução:\n\nArt. 1ºDê-se aos dispositivos abaixo mencionados, da Resolução nº393/2002 - Regimento Interno, as seguintes redações:\n\n\"Art. 7º A Mesa Diretora da Câmara compor-se-á do Presidente, Primeiro e Segundo Secretários, com mandato de 02 ( dois ) anos, admitida a recondução para a eleição subsequente.\n\n§ 4º Se, hora regimental, não estiver presente o Presidente, abrirá os trabalhos o Vice-Presidente ou, na falta deste, o Primeiro ou Segundo Secretários, na sequência, ou ainda, caso estes não estejam presentes, o Vereador mais votado nas eleições municipais.\"\n\n\"Art. 33 Compete, privativamente, ao Vice-Presidente:\"\n\n\"Art. 36 ...\n\nI - ...\n\ne) acompanhar e supervisionar a Ata da Sessão, proceder a sua leitura e assiná-la depois do Presidente e do Vice-Presidente.\n\nII - ...\n\nc) assinar, depois do Presidente e do Vice-Presidente, os atos da Mesa Diretora.\n\nParágrafo Único - O Primeiro Secretário será substituído em suas faltas, ausências, impedimentos ou licenças, havendo nas duas últimas hipóteses investidura na plenitude da respectiva função, pelo Segundo Secretário.\"\n\n\"Art. 48 As Comissões Permanentes, em número de 05 ( cinco ), são as seguinte:\n\nI - ...\n\nII - ...\n\nIII - ...\n\nIV - ...\n\nV - Comissão de Meio Ambiente, Direitos Humanos e Defesa do Consumidor.\"\n\n\"Art. 57 ...\n\nI - ...\n\nII - ...\n\nIII - ...\n\nIV - ...\n\nV - da Comissão de Meio Ambiente, Direitos Humanos e Defesa do Consumidor.\"\n\n\"a) ...\n\n1 - ...\n2 - ...\n3 - ...\nb) ...\nc) ...\nd) ...\ne) opinar sobre todas as proposições que digam respeito aos direitos humanos, especialmente àquelas que envolvam matérias referentes à criança, adolescente e idoso;\nf) propor iniciativas relacionadas a direitos humanos;\ng) receber reclamações e encaminhá-las aos órgãos competentes;\nh) propor ações de combate ao rascismo e discriminação de qualquer natureza, bem como manter intercâmbio com órgãos públicos, entidades civis e filantrópicas sem fins lucrativos, para atender o disposto na alínea anterior;\ni) divulga a legislação que trata dos direitos da mulher trabalhadora urbana e rural;\nj) propor ações de combate à violência e prostituição infanto-juvenil;\nk) opinar sobre proposições que versem a respeito da saúde da mulher, planejamento familiar e assistência social;\nl) fiscalizar, em conjunto com a Delegacia Regional do Trabalho, a instalação de creches nas empresas e demais locais de trabalhos, exigidos por lei;\nm) opinar sobre proposições relativas a produtos, serviços e, quando cabível, contratos que norteiam as relações de consumo;\nn) desenvolver ampla divulgação da legislação e dos programas de defesa do consumidor;\no) propor a criação de políticas e instrumentos de defesa do consumidor, em conjunto com os demais órgãos públicos e particulares;\np) fiscalizar os produtos de consumo e seu fornecimento, e zelar pela sua qualidade;\nq) receber reclamações e encaminhá-las ao órgão competente.\"\n\n\"Art. 164 O Líder e Vice-Líder podem fazer parte de Comissões Permanentes e Temporárias, exceto o Líder e Vice-Líder do Governo.\"\n\n\"Art. 168 Lavrar-se-á a ata, com o resumo dos trabalhos de cada sessão, cujo redação obedecerá ao padrão uniforme adotado pela Mesa Diretora.\"\n\n\"Art. 188 As atas serão organizadas em anais, por ordem cronológica, por período legislativo e recolhidas ao Arquivo da Câmara.\"\n\n\"Art. 190 Os Vereadores só poderão falar sobre a ata para impugná-la ou retificá-la no todo em parte, logo após a leitura da mesma.\n\n§ 1º A discussão sobre a impugnação ou retificação da ata não poderá exceder o tempo destinado ao Grande Expediente, que nesta hipótese ficará prejudicado.\"\n\n\"Art. 199 Aberto a sessão, o Segundo Secretário fará a leitura da ata anterior, que o Presidente submeterá à apreciação do Plenário.\"\n\n\"Art. 200 Após a leitura da ata, o Primeiro Secretário procederá a leitura de:\"\n\n\"Art. 413 - ...\n\nParágrafo Único - Caso o Presidente da Câmara não promulgue a lei, caberá ao Vice-Presidente promulgá-la.\"\n\n\"Art. 418 - ...\n\n§ 2º Se lei não for promulgada dentro de 48 ( quarenta e oito ) horas o Presidente da Câmara Municipal a promulgará, e se este em igual prazo, não o fizer, fá-lo-á obrigatoriamente, o Vice-Presidente.\"\n\nArt. 2ºDê-se ao capítulo III, do Título VII - Da Elaboração Legislativo Especial, a seguinte redação:\n\n\n\"CapítuloIII\nDA CONCESSÃO DE HONRARIAS\n\n\nSEÇÃO I\nDAS HONRARIAS\"\n\n\n\n\"Art. 402 - A Câmara Municipal concederá o Título Honorífico de Cidadão Feirense a pessoas, pelos seus relevantes e notórios serviços prestados ao Município e ao seu povo.\"\n\n\"Art. 403 - A Câmara Municipal também concederá:\n\na) Comenda - Maria Quitéria, Áureo Filho, Filinto Justiniano Ferreira Bastos, Padre Ovídio Alves de São Boaventura, Godofredo Rebello de Figueiredo Filho, Maestro Tertuliano Ferreira Santos, Armando Curvelo de Menezes e, Dr. Gastão Guimarães;\nb) Medalhas - Mérito de Meio Ambiente, Fundação Senhor dos Passos, Vereador Dival Figueiredo Machado, Missionário Roderick Murdo Gillanders, Mérito Rotário, Zumbi dos Palmares e Arquiteto Anápio Aurélio de Miranda;\nc) Certificados - Verde e, de Excelência.\"\n\n\n\"SEÇÃO\nDISPOSIÇÕES GERAIS\"\n\n\n\"Art. 404 - O Projeto de Decreto Legislativo destinado a concessão de honrarias, deverá ser apresentado por, no mínimo, 2/3 ( dois terços ) dos membros da Câmara e, acompanhado de justificativa, além de, biografia quando inerente a pessoa física.\n\n§ 1º Recebido o Projeto de Decreto Legislativo, o mesmo após lido, será encaminhado à Comissão de Constituição Justiça e Redação que, dentro de 10 ( dez ) dias, emitirá parecer fundamentado, o qual após lido será pautado para a Ordem do Dia da sessão seguinte.\n\n§ 2º Será considerado aprovado o Projeto de Decreto Legislativo que obtiver 2/3 ( dois terços ) de votos favoráveis dos membros da Câmara.\n\n§ 3º Cada Vereador poderá apresentar 08 ( oito ) projetos de Decreto Legislativo por legislatura destinados a concessão do Título de Cidadão Feirense, enquanto que as demais Honrarias tem suas quantidades estabelecidas nas Resoluções que as instituíram.\"\n\n\"Art. 405 - As honrarias poderão ser cassadas, caso os homenageados tenham comprovadamente praticado atos que colidam com os motivos que as ensejam\n\nParágrafo Único - Aplicam-se os dispositivos desta Seção, no que couber, ao Projeto de Decreto Legislativo de cassação da honraria\"\n\nArt. 3ºSuprima-se os dispositivos abaixo mencionados, e dê-se nova numeração aos demais:\n\n\"a) artigos - 34,37. 87, 99, 100, 102, 124, 187, 189, 191, 192, 193, 223, 356, 417;\nb) parágrafos - 3º do art. 101, 4º do art. 135 e único do art. 199;\"\n\nArt. 4ºEsta Resolução entrará em vigor na data de sua publicação, produzindo seus efeitos a partir de 1º de Janeiro de 2005, revogadas as disposições em contrário.\n\nMESA DIRETIVA DA CÂMARA MUNICIPAL DE FEIRA DE SANTANA, 26 de Outubro de 2004.\n\nVer. ANTÔNIO CARLOS DALTRO COELHO\nPresidente\n\nVer. GENÉSIO SERAFIM DE LIMA\n1º Secretário\n\nVer. JORGE RAIMUNDO DE OLIVEIRA SILVA\n2º Secretário\n"
     ]
    }
   ],
   "source": [
    "print(laws.loc[len(laws)-1, 'texto'])"
   ]
  },
  {
   "cell_type": "markdown",
   "metadata": {},
   "source": [
    "# Buscas por texto\n",
    "\n",
    "No notebook _similar_laws_ vimos que TF-IDF encontra Leis bastante similares entre si.\n",
    "Será que conseguimos também encontrar leis similares a uma query?\n",
    "\n",
    "Primeiro, devemos construir a representação das leis com TF-IDF.\n",
    "Após termos as representações,\n",
    "limpamos o texto da consulta utilizando o mesmo método de limpeza das leis.\n",
    "Depois, criar uma representação da consulta utilizando o IDF do modelo treinado.\n",
    "Finalmente, calcular a similaridade desta consulta\n",
    "para todas as leis na base e retornar as mais próximas."
   ]
  },
  {
   "cell_type": "code",
   "execution_count": 5,
   "metadata": {},
   "outputs": [],
   "source": [
    "from scripts.parsers import clean_text\n",
    "laws['texto_limpo'] = laws['texto'].apply(clean_text)"
   ]
  },
  {
   "cell_type": "code",
   "execution_count": 6,
   "metadata": {},
   "outputs": [
    {
     "output_type": "execute_result",
     "data": {
      "text/plain": [
       "<6033x30209 sparse matrix of type '<class 'numpy.int64'>'\n",
       "\twith 625873 stored elements in Compressed Sparse Row format>"
      ]
     },
     "metadata": {},
     "execution_count": 6
    }
   ],
   "source": [
    "from sklearn.feature_extraction.text import CountVectorizer, TfidfTransformer\n",
    "vectorizer = CountVectorizer()\n",
    "X = vectorizer.fit_transform(laws['texto_limpo'])\n",
    "X"
   ]
  },
  {
   "cell_type": "code",
   "execution_count": 7,
   "metadata": {
    "tags": []
   },
   "outputs": [
    {
     "output_type": "execute_result",
     "data": {
      "text/plain": [
       "<6033x30209 sparse matrix of type '<class 'numpy.float64'>'\n",
       "\twith 625873 stored elements in Compressed Sparse Row format>"
      ]
     },
     "metadata": {},
     "execution_count": 7
    }
   ],
   "source": [
    "transformer = TfidfTransformer()\n",
    "X_tfidf = transformer.fit_transform(X)\n",
    "\n",
    "X_tfidf"
   ]
  },
  {
   "cell_type": "code",
   "execution_count": 21,
   "metadata": {},
   "outputs": [],
   "source": [
    "query = ['rua espassonavel']\n",
    "query[0] = clean_text(query[0])\n",
    "query = vectorizer.transform(query)\n",
    "query = transformer.transform(query)"
   ]
  },
  {
   "cell_type": "code",
   "execution_count": 18,
   "metadata": {
    "tags": []
   },
   "outputs": [
    {
     "output_type": "stream",
     "name": "stdout",
     "text": [
      "Autor: Cintia Daltro Machado\n\nO PREFEITO MUNICIPAL DE FEIRA DE SANTANA, Estado da Bahia, FAÇO saber que a Câmara Municipal, através do Projeto de Lei nº 158/2007, de autoria da Edil Cíntia Daltro Machado, decretou e eu sanciono a seguinte Lei:\n\nArt. 1ºFica considerada de utilidade pública a IGREJA EVANGÉLICA PENTECOSTAL MONTE CARMELO, com sede provisória na Rua Espassonavel, nº 195, Bairro George Américo, neste Município de Feira de Santana.\n\nArt. 2ºEsta Lei entrará em vigor na data de sua publicação, revogadas as disposições em contrário.\n\nPREFEITURA MUNICIPAL DE FEIRA DE SANTANA, em 27 de Fevereiro de 2008.\n\nJOSÉ RONALDO DE CARVALHO\nPrefeito\n\n---Next Result:---\n\nO PREFEITO MUNICIPAL DE FEIRA DE SANTANA, Estado da Bahia, no uso de suas atribuições. Faço saber que a Câmara Municipal, através do Projeto de Lei nº 163/2017, deste Poder Executivo, decretou e eu sanciono a seguinte Lei:\n\nArt. 1ºOs Logradouros do Conjunto Habitacional Núcleo Conceição, localizados ao lado direito da Rua Itatiaia no bairro Conceição, neste Município, passam a denominar-se:\n\nI - Rua A passará a ser Rua Elidio Azevedo Lopes;\n\nII - Rua B passará a ser Rua Lênio Braga;\n\nIII - Rua C passará a ser Rua da Bíblia;\n\nIV - Rua D passará a ser Rua Emanoel Portugal;\n\nV - Rua E passará a ser Rua São Caetano;\n\nVI - Rua F passará a ser Rua Francisca dos Santos Gomes;\n\nVII - Rua G passará a ser Rua da Fraternidade;\n\nVIII - Rua H passará a ser Rua Dr Adolfo Luna Neto;\n\nIX - Rua I passará a ser Rua Uruçu;\n\nX - Rua J passará a ser Rua Jorrinho;\n\nXI - Rua L passará a ser Rua Acotirene;\n\nXII - Rua M passará a ser Rua Dr. Osvaldo Pirajá;\n\nXIII - Rua Pavão continuará como Rua Pavão;\n\nXIV - Rua O passará a ser Rua Púrpura;\n\nXV - Rua P passará a ser Rua Carmesim;\n\nXVI - Rua Q passará a ser Rua Bronze;\n\nXVII - Rua R passará a ser Rua Pedra de Ônix;\n\nXVIII - Rua S passará a ser Rua dos Reis;\n\nXIX - Rua T passará a ser Rua Paulo Costa Lima;\n\nXX - Rua U passará a ser Rua Esperança;\n\nXXI - Rua V passará a ser Rua Fernando Pessoa;\n\nXXII - Rua X passará a ser Rua da Sabedoria;\n\nXXIII - Rua Z passará a ser Rua Pedro Matos;\n\nXXIV - Rua W passará a ser Rua Arca de Noé;\n\nXXV - Rua Itatiaia continuará a ser Rua Itatiaia.\n\nArt. 2ºO Poder Executivo Municipal providenciará a fixação de placas com as respectivas denominações.\n\nArt. 3ºEsta Lei entrará em vigor na data de sua publicação, revogadas as disposições contrárias.\n\nGabinete do Prefeito Municipal, 06 de outubro de 2017.\n\nJOSÉ RONALDO DE CARVALHO\nPREFEITO MUNICIPAL\n\nMARIO COSTA BORGES\nCHEFE DE GABINETE DO PREFEITO\n\nCLEUDSON SANTOS ALMEIDA\nPROCURADOR GERAL DO MUNICÍPIO\n\nCARLOS ALBERTO OLIVEIRA BRITO\nSECRETÁRIO MUNICIPAL DE PLANEJAMENTO\n\nPUBLICADO NO DIÁRIO OFICIAL ELETRÔNICO DIA 07 DE OUTUBRO DE 2017.\n\n---Next Result:---\n\nO PREFEITO MUNICIPAL DE FEIRA DE SANTANA, Estado da Bahia, no uso de suas atribuições, Faço Saber que a Câmara Municipal, através do Projeto de Lei nº 168/2017, deste Poder Executivo, decretou e eu sanciono a seguinte Lei:\n\nArt. 1ºOs Logradouros do Loteamento Jardim Anchieta, localizados no bairro da Mangabeira, passarão a ter as seguintes denominações:\n\nI - Rua 1 passará a ser Avenida Sete Lagoas;\n\nII - Rua 2 passará a ser Rua Ibititá;\n\nIII - Rua 3 passará a ser Rua Ibitiane;\n\nIV - Rua 4 passará a ser Rua Ibotira;\n\nV - Rua 5 passará a ser Rua Icaraí;\n\nVI - Rua 6 passará a ser Rua Igapora;\n\nVII - Rua 7 passará a ser Rua Delta;\n\nVIII - Rua 8 passará a ser Rua Valmir Ferreira Mendes;\n\nIX - Rua 9 passará a ser Rua Igarapana;\n\nX - Rua 10 passará a ser Rua Miguel Souza Filho;\n\nXI - Rua 11 passará a ser Rua Igarapemirim;\n\nXII - Rua 12 passará a ser Rua Jean Barbara;\n\nXIII - Rua 13 passará a ser Travessa Icaraí;\n\nXIV - Rua 14 passará a ser Rua Iguaraci;\n\nXV - Rua 15 passará a ser Rua Iguatu;\n\nXVI - Rua 16 passará a ser Rua Eunápolis;\n\nXVII - Rua 01 passará a ser Travessa Edson Pereira Porto (Etapa 02);\n\nXVIII - Rua 02 passa a ser Rua Cecílio Moreira Diogo (Etapa 02);\n\nXIX - Rua 03 passará a ser Rua José Araújo Diogo (Etapa 02);\n\nXX - Rua 4 passara a ser Rua ..Sinval Galeão (Etapa 02).\n\nArt. 2ºO Poder Executivo Municipal providenciará a fixação de placas com as respectivas denominações.\n\nArt. 3ºEsta Lei entrará em vigor na data de sua publicação, revogadas as disposições contrárias.\n\nGabinete do Prefeito Municipal, 06 de outubro de 2017.\n\nJOSÉ RONALDO DE CARVALHO\nPREFEITO MUNICIPAL\n\nMARIO COSTA BORGES\nCHEFE DE GABINETE DO PREFEITO\n\nCLEUDSON SANTOS ALMEIDA\nPROCURADOR GERAL DO MUNICÍPIO\n\nCARLOS ALBERTO OLIVEIRA BRITO\nSECRETÁRIO MUNICIPAL DE PLANEJAMENTO\n\nPUBLICADO NO DIÁRIO OFICIAL ELETRÔNICO DIA 07 DE OUTUBRO DE 2017.\n\n---Next Result:---\n\nO PREFEITO MUNICIPAL DE FEIRA DE SANTANA, Estado da Bahia, no uso de suas atribuições, Faço Saber que a Câmara Municipal, através do Projeto de Lei nº 170/2017, deste Poder Executivo, decretou e eu sanciono a seguinte Lei:\n\nArt. 1ºOs Logradouros do Loteamento Parque Ibirapuera, localizados no bairro do Santo Antônio dos Prazeres passarão a ter as seguintes denominações:\n\nI - Rua 1 passará a ser Rua Vera Ottan;\n\nII - Rua 2 passará a ser Rua Manoel Rocha;\n\nIII - Rua 3 passará a ser Rua Ibirapuera;\n\nIV - Rua 4 passará a ser Rua Eldorado;\n\nV - Rua 5 passará a ser..Rua João Francisco Pinheiro;\n\nVI - Rua 6 passará a ser Rua Martinópolis;\n\nVII - Rua 7 passará a ser Rua Quito;\n\nVIII - Rua 8 passará a ser Rua Ervânia;\n\nIX - Rua 9 passará a ser Rua Erebanco;\n\nX - Rua 10 passará a ser Rua Estiva;\n\nXI - Rua 11 passará a ser Rua Estônio Velho;\n\nXII - Rua 12 passará a ser Rua Marivalda;\n\nXIII - Rua 13 passará a ser Rua Extrema.\n\nArt. 2ºO Poder Executivo Municipal providenciará a fixação de placas com as respectivas denominações.\n\nArt. 3ºEsta Lei entrará em vigor na data de sua publicação, revogadas as disposições contrárias.\n\nGabinete do Prefeito Municipal, 06 de outubro de 2017.\n\nJOSÉ RONALDO DE CARVALHO\nPREFEITO MUNICIPAL\n\nMARIO COSTA BORGES\nCHEFE DE GABINETE DO PREFEITO\n\nCLEUDSON SANTOS ALMEIDA\nPROCURADOR GERAL DO MUNICÍPIO\n\nCARLOS ALBERTO OLIVEIRA BRITO\nSECRETÁRIO MUNICIPAL DE PLANEJAMENTO\n\nPUBLICADO NO DIÁRIO OFICIAL ELETRÔNICO DIA 07 DE OUTUBRO DE 2017.\n\n---Next Result:---\n\n"
     ]
    }
   ],
   "source": [
    "from sklearn.metrics.pairwise import cosine_similarity\n",
    "import numpy as np\n",
    "\n",
    "best_matches = cosine_similarity(query, X_tfidf)\n",
    "best_matches_idx = np.argsort(best_matches)\n",
    "for i in range(1,5):\n",
    "    idx = best_matches_idx[0, -i]\n",
    "    print(laws.loc[idx, 'texto'])\n",
    "    print('\\n---Next Result:---\\n')"
   ]
  },
  {
   "cell_type": "markdown",
   "metadata": {},
   "source": [
    "Tcharam! Feito um buscador simples!\n",
    "\n",
    "Existem limitações.\n",
    "A sequência e composição das palavras é uma delas, por exemplo.\n",
    "Não adianta buscar pelo nome - sobrenome de uma pessoa.\n",
    "Ele vai retornar resultados onde\n",
    "algum destes termos sejam mais frequentes.\n",
    "Não existe as aspas do Google pra dizer\n",
    "\"busque por este termo todo junto\".\n",
    "\n",
    "Por exemplo, se eu buscar Elydio,\n",
    "o primeiro resultado é a Lei conferindo\n",
    "cidadania à Elydio Azevedo Lopes.\n",
    "Perfeito.\n",
    "Mas se eu buscar Azevedo Lopes,\n",
    "o primeiro resultado sequer tem Azevedo,\n",
    "mas o nome Lopes aparece mais de uma vez.\n",
    "\n",
    "Uma das formas de contornar essa dificuldade é\n",
    "usar bigramas ou n-gramas maiores.\n"
   ]
  },
  {
   "cell_type": "markdown",
   "metadata": {},
   "source": [
    "## Outras opções\n",
    "### Indexar\n",
    "Há outras formas de indexar os documentos\n",
    "e de recuperar, também simples.\n",
    "Uma outra forma de indexar, por exemplo,\n",
    "é fazer um vetor pra cada palavra\n",
    "contando as palavras vizinhas.\n",
    "E depois, o vetor do documento seria\n",
    "a soma dos vetores das palavras.\n",
    "É uma forma interessante porque\n",
    "pode gerar visualizações interessantes\n",
    "entre a similaridade das palavras.\n",
    "Por exemplo, no corpus das Leis Municipais,\n",
    "a quais palavras EDUCAÇÃO mais se assemelha?\n",
    "Ou SAÚDE? Etc.\n",
    "\n",
    "Outra forma é contar n-gramas - por exemplo,\n",
    "bi-gramas: duas palavras juntas formando um token.\n",
    "Dessa forma, você possui uma matriz maior\n",
    "e de certa forma uma relação entre a sequencialidade das palavras,\n",
    "que pode ser útil pra nomes de pessoas e bairros,\n",
    "como citado acima.\n",
    "\n",
    "### Recuperar\n",
    "Outra forma de recuperar é por\n",
    "_local sensitive hashing_.\n",
    "Divide em vários planos múltiplas vezes\n",
    "e retorna os resultados que estão na mesma região da query.\n",
    "No entanto,\n",
    "o corpus não é grande o suficiente pra precisar essa estratégia,\n",
    "que é mais pra grandes corpora.\n",
    "O método acima\n",
    "(calcular a simlaridade cosseno e retornar os maiores valores)\n",
    "é rápido o suficiente pra parecer instantâneo.\n",
    "Talvez com uma demanda mais alta pelo servidor\n",
    "venha a necessidade de aumentar a velocidade da busca,\n",
    "porém por enquanto não é o caso.\n",
    "\n",
    "Há ainda um [novo método]\n",
    "(https://ai.googleblog.com/2020/07/announcing-scann-efficient-vector.html)\n",
    "e uma lib pra isso,\n",
    "lançada pelo Google recentemente,\n",
    "no dia 28 de Julho de 2020.\n",
    "\n",
    "### Avaliação\n",
    "Com múltiplas formas de indexar e recuperar vem o dilema:\n",
    "como avaliar se uma é melhor que a outra?\n",
    "Repetir o processo acima pra todas as opções?\n",
    "Isto é, mostrar N melhores resultados e comparar manualmente?\n",
    "Ou colocar labels em algumas leis?\n",
    "Ex: essa lei trata disso, com tais entidades.\n",
    "Checar formas de avaliação.\n",
    "Se tivesse em produção,\n",
    "poderiamos avaliar por _click through rate_ (CTR) por ex,\n",
    "mas não é o caso"
   ]
  }
 ],
 "metadata": {
  "language_info": {
   "codemirror_mode": {
    "name": "ipython",
    "version": 3
   },
   "file_extension": ".py",
   "mimetype": "text/x-python",
   "name": "python",
   "nbconvert_exporter": "python",
   "pygments_lexer": "ipython3",
   "version": "3.8.2-final"
  },
  "orig_nbformat": 2,
  "kernelspec": {
   "name": "python38264bitdafsaanalisesb94857b5318c463e9159f3e68c6000f6",
   "display_name": "Python 3.8.2 64-bit ('dafsa-analises')"
  }
 },
 "nbformat": 4,
 "nbformat_minor": 2
}
