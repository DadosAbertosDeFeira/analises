{
  "nbformat": 4,
  "nbformat_minor": 0,
  "metadata": {
    "language_info": {
      "codemirror_mode": {
        "name": "ipython",
        "version": 3
      },
      "file_extension": ".py",
      "mimetype": "text/x-python",
      "name": "python",
      "nbconvert_exporter": "python",
      "pygments_lexer": "ipython3",
      "version": "3.8.2-final"
    },
    "orig_nbformat": 2,
    "kernelspec": {
      "name": "python38264bitdafsaanalisesb94857b5318c463e9159f3e68c6000f6",
      "display_name": "Python 3.8.2 64-bit ('dafsa-analises')"
    },
    "colab": {
      "name": "semelhanca_leis.ipynb",
      "provenance": [],
      "collapsed_sections": []
    }
  },
  "cells": [
    {
      "source": [
        "# Semelhança de documentos\n",
        "\n",
        "A função desse notebook é criar representações para o texto dos documentos, exibir textos semelhantes e com isso avaliar as representações.\n",
        "Os textos semelhantes são um teste para a representação do texto: se os textos mostrados não são semelhantes, então a representação não é boa; se são semelhantes, então a representação um pouco melhor."
      ],
      "cell_type": "markdown",
      "metadata": {}
    },
    {
      "cell_type": "code",
      "metadata": {
        "id": "Fw0cBhm80T-w",
        "colab_type": "code",
        "colab": {}
      },
      "source": [
        "import pandas as pd\n",
        "import matplotlib.pyplot as plt"
      ],
      "execution_count": 18,
      "outputs": []
    },
    {
      "cell_type": "code",
      "metadata": {
        "id": "t9rDGqZO0cbK",
        "colab_type": "code",
        "colab": {
          "resources": {
            "http://localhost:8080/nbextensions/google.colab/files.js": {
              "data": "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",
              "ok": true,
              "headers": [
                [
                  "content-type",
                  "application/javascript"
                ]
              ],
              "status": 200,
              "status_text": "OK"
            }
          },
          "base_uri": "https://localhost:8080/",
          "height": 79
        },
        "outputId": "f084561d-b993-4e0d-f456-a01a0f3cb626"
      },
      "source": [
        "# Importa arquivos\n",
        "# Descomente pra usar no Google Colab\n",
        "# from google.colab import files\n",
        "# import os.path\n",
        "\n",
        "laws_file = 'leis.json'\n",
        "\n",
        "# if (not os.path.isfile(laws_file)):\n",
        "#     uploaded = files.upload()"
      ],
      "execution_count": 19,
      "outputs": []
    },
    {
      "cell_type": "code",
      "metadata": {
        "tags": [],
        "id": "SvTVbdbn0T-8",
        "colab_type": "code",
        "colab": {
          "base_uri": "https://localhost:8080/",
          "height": 312
        },
        "outputId": "84f7d034-d28f-4582-9842-a1925c045c26"
      },
      "source": [
        "laws = pd.read_json(laws_file)\n",
        "laws.drop(['documento'], inplace=True, axis=1)\n",
        "laws.describe().T"
      ],
      "execution_count": 36,
      "outputs": [
        {
          "output_type": "execute_result",
          "data": {
            "text/plain": [
              "          count unique                                                top  \\\n",
              "titulo     6033   6033           DECRETO LEGISLATIVO Nº 86, DE 12/12/2007   \n",
              "categoria  6033      8                                    Leis Ordinárias   \n",
              "resumo     6033   4961  DISPÕE SOBRE A CONCESSÃO DO TÍTULO DE CIDADÃO ...   \n",
              "texto      6033   6029  Conteúdo obsoleto:\\nEste  Ato não tem mais efe...   \n",
              "\n",
              "           freq  \n",
              "titulo        1  \n",
              "categoria  3367  \n",
              "resumo      153  \n",
              "texto         3  "
            ],
            "text/html": "<div>\n<style scoped>\n    .dataframe tbody tr th:only-of-type {\n        vertical-align: middle;\n    }\n\n    .dataframe tbody tr th {\n        vertical-align: top;\n    }\n\n    .dataframe thead th {\n        text-align: right;\n    }\n</style>\n<table border=\"1\" class=\"dataframe\">\n  <thead>\n    <tr style=\"text-align: right;\">\n      <th></th>\n      <th>count</th>\n      <th>unique</th>\n      <th>top</th>\n      <th>freq</th>\n    </tr>\n  </thead>\n  <tbody>\n    <tr>\n      <th>titulo</th>\n      <td>6033</td>\n      <td>6033</td>\n      <td>DECRETO LEGISLATIVO Nº 86, DE 12/12/2007</td>\n      <td>1</td>\n    </tr>\n    <tr>\n      <th>categoria</th>\n      <td>6033</td>\n      <td>8</td>\n      <td>Leis Ordinárias</td>\n      <td>3367</td>\n    </tr>\n    <tr>\n      <th>resumo</th>\n      <td>6033</td>\n      <td>4961</td>\n      <td>DISPÕE SOBRE A CONCESSÃO DO TÍTULO DE CIDADÃO ...</td>\n      <td>153</td>\n    </tr>\n    <tr>\n      <th>texto</th>\n      <td>6033</td>\n      <td>6029</td>\n      <td>Conteúdo obsoleto:\\nEste  Ato não tem mais efe...</td>\n      <td>3</td>\n    </tr>\n  </tbody>\n</table>\n</div>"
          },
          "metadata": {},
          "execution_count": 36
        }
      ]
    },
    {
      "cell_type": "code",
      "metadata": {
        "id": "IHdRkZoU0T_H",
        "colab_type": "code",
        "colab": {
          "base_uri": "https://localhost:8080/",
          "height": 424
        },
        "outputId": "731a47c1-d4e0-4f50-83d4-fbd8e1e33ca6"
      },
      "source": [
        "laws.sample(10)"
      ],
      "execution_count": 37,
      "outputs": [
        {
          "output_type": "execute_result",
          "data": {
            "text/plain": [
              "                                        titulo              categoria  \\\n",
              "3781  DECRETO LEGISLATIVO Nº 26, DE 16/10/2001  Decretos Legislativos   \n",
              "1085                            LEI Nº 1717/93        Leis Ordinárias   \n",
              "1997                          LEI Nº 2424/2003        Leis Ordinárias   \n",
              "2573                            LEI Nº 1735/94        Leis Ordinárias   \n",
              "2143     LEI Nº 3749, DE 06 DE OUTUBRO DE 2017        Leis Ordinárias   \n",
              "5936                      RESOLUÇÃO Nº 88/1970             Resoluções   \n",
              "2678      LEI Nº 2650, DE 29 DE MARÇO DE 2006.        Leis Ordinárias   \n",
              "2832       LEI Nº 2070, de 04 de junho de 1999        Leis Ordinárias   \n",
              "755                           LEI Nº 2902/2008        Leis Ordinárias   \n",
              "3040    LEI Nº 1318, de 09 de novembro de 1990        Leis Ordinárias   \n",
              "\n",
              "                                                 resumo  \\\n",
              "3781  REJEITA AS CONTAS DA PREFEITURA MUNICIPAL DE P...   \n",
              "1085  DENOMINA LOGRADOURO PÚBLICO, E DÁ OUTRAS PROVI...   \n",
              "1997  CONSIDERA DE UTILIDADE PÚBLICA A ASSOCIAÇÃO CO...   \n",
              "2573  CONSIDERA DE UTILIDADE PÚBLICA A ASSOCIAÇÃO CO...   \n",
              "2143  \"Dispõe sobre a denominação de logradouros púb...   \n",
              "5936  DISPÕE SOBRE A CONCESSÃO DE TÍTULO DE CIDADÃO ...   \n",
              "2678  CONSIDERA DE UTILIDADE PÚBLICA A ASSOCIAÇÃO MI...   \n",
              "2832  ESTABELECE NORMAS PARA FUNCIONAMENTO DE PANIFI...   \n",
              "755   DISPÕE SOBRE A DENOMINAÇÃO DE LOGRADOURO PÚBLI...   \n",
              "3040  CONSIDERA DE UTILIDADE PÚBLICA A FUNDAÇÃO DE A...   \n",
              "\n",
              "                                                  texto  \n",
              "3781  Visualizar Ato:Decreto Legislativo nº 26/2001 ...  \n",
              "1085  O PREFEITO MUNICIPAL DE FEIRA DE SANTANA, ESTA...  \n",
              "1997  Autor: Otávio Joel de Araújo\\n\\nO PREFEITO MUN...  \n",
              "2573  O PREFEITO MUNICIPAL DE FEIRA DE SANTANA, ESTA...  \n",
              "2143  O PREFEITO MUNICIPAL DE FEIRA DE SANTANA, Esta...  \n",
              "5936  A CÂMARA MUNICIPAL DE FEIRA DE SANTANA, ESTADO...  \n",
              "2678  O Prefeito Municipal de Feira de Santana, Esta...  \n",
              "2832  O PREFEITO MUNICIPAL DE FEIRA DE SANTANA, Esta...  \n",
              "755   Autor: Antonio Renildo Brito dos Santos\\n\\nO P...  \n",
              "3040  O PREFEITO MUNICIPAL DE FEIRA DE SANTANA, ESTA...  "
            ],
            "text/html": "<div>\n<style scoped>\n    .dataframe tbody tr th:only-of-type {\n        vertical-align: middle;\n    }\n\n    .dataframe tbody tr th {\n        vertical-align: top;\n    }\n\n    .dataframe thead th {\n        text-align: right;\n    }\n</style>\n<table border=\"1\" class=\"dataframe\">\n  <thead>\n    <tr style=\"text-align: right;\">\n      <th></th>\n      <th>titulo</th>\n      <th>categoria</th>\n      <th>resumo</th>\n      <th>texto</th>\n    </tr>\n  </thead>\n  <tbody>\n    <tr>\n      <th>3781</th>\n      <td>DECRETO LEGISLATIVO Nº 26, DE 16/10/2001</td>\n      <td>Decretos Legislativos</td>\n      <td>REJEITA AS CONTAS DA PREFEITURA MUNICIPAL DE P...</td>\n      <td>Visualizar Ato:Decreto Legislativo nº 26/2001 ...</td>\n    </tr>\n    <tr>\n      <th>1085</th>\n      <td>LEI Nº 1717/93</td>\n      <td>Leis Ordinárias</td>\n      <td>DENOMINA LOGRADOURO PÚBLICO, E DÁ OUTRAS PROVI...</td>\n      <td>O PREFEITO MUNICIPAL DE FEIRA DE SANTANA, ESTA...</td>\n    </tr>\n    <tr>\n      <th>1997</th>\n      <td>LEI Nº 2424/2003</td>\n      <td>Leis Ordinárias</td>\n      <td>CONSIDERA DE UTILIDADE PÚBLICA A ASSOCIAÇÃO CO...</td>\n      <td>Autor: Otávio Joel de Araújo\\n\\nO PREFEITO MUN...</td>\n    </tr>\n    <tr>\n      <th>2573</th>\n      <td>LEI Nº 1735/94</td>\n      <td>Leis Ordinárias</td>\n      <td>CONSIDERA DE UTILIDADE PÚBLICA A ASSOCIAÇÃO CO...</td>\n      <td>O PREFEITO MUNICIPAL DE FEIRA DE SANTANA, ESTA...</td>\n    </tr>\n    <tr>\n      <th>2143</th>\n      <td>LEI Nº 3749, DE 06 DE OUTUBRO DE 2017</td>\n      <td>Leis Ordinárias</td>\n      <td>\"Dispõe sobre a denominação de logradouros púb...</td>\n      <td>O PREFEITO MUNICIPAL DE FEIRA DE SANTANA, Esta...</td>\n    </tr>\n    <tr>\n      <th>5936</th>\n      <td>RESOLUÇÃO Nº 88/1970</td>\n      <td>Resoluções</td>\n      <td>DISPÕE SOBRE A CONCESSÃO DE TÍTULO DE CIDADÃO ...</td>\n      <td>A CÂMARA MUNICIPAL DE FEIRA DE SANTANA, ESTADO...</td>\n    </tr>\n    <tr>\n      <th>2678</th>\n      <td>LEI Nº 2650, DE 29 DE MARÇO DE 2006.</td>\n      <td>Leis Ordinárias</td>\n      <td>CONSIDERA DE UTILIDADE PÚBLICA A ASSOCIAÇÃO MI...</td>\n      <td>O Prefeito Municipal de Feira de Santana, Esta...</td>\n    </tr>\n    <tr>\n      <th>2832</th>\n      <td>LEI Nº 2070, de 04 de junho de 1999</td>\n      <td>Leis Ordinárias</td>\n      <td>ESTABELECE NORMAS PARA FUNCIONAMENTO DE PANIFI...</td>\n      <td>O PREFEITO MUNICIPAL DE FEIRA DE SANTANA, Esta...</td>\n    </tr>\n    <tr>\n      <th>755</th>\n      <td>LEI Nº 2902/2008</td>\n      <td>Leis Ordinárias</td>\n      <td>DISPÕE SOBRE A DENOMINAÇÃO DE LOGRADOURO PÚBLI...</td>\n      <td>Autor: Antonio Renildo Brito dos Santos\\n\\nO P...</td>\n    </tr>\n    <tr>\n      <th>3040</th>\n      <td>LEI Nº 1318, de 09 de novembro de 1990</td>\n      <td>Leis Ordinárias</td>\n      <td>CONSIDERA DE UTILIDADE PÚBLICA A FUNDAÇÃO DE A...</td>\n      <td>O PREFEITO MUNICIPAL DE FEIRA DE SANTANA, ESTA...</td>\n    </tr>\n  </tbody>\n</table>\n</div>"
          },
          "metadata": {},
          "execution_count": 37
        }
      ]
    },
    {
      "cell_type": "code",
      "metadata": {
        "id": "7bY1XZSe0T_O",
        "colab_type": "code",
        "colab": {
          "base_uri": "https://localhost:8080/",
          "height": 106
        },
        "outputId": "104ae31c-0044-4273-b2f9-00838ffec295"
      },
      "source": [
        "# Exemplo de texto de lei\n",
        "print(laws.loc[len(laws)-1, 'texto'])"
      ],
      "execution_count": 38,
      "outputs": [
        {
          "output_type": "stream",
          "name": "stdout",
          "text": [
            "A CÂMARA MUNICIPAL DE FEIRA DE SANTANA, Estado da Bahia, na conformidade do artigo 70, Inciso V, da Lei Municipal nº37, de 05 de Abril de 1990 e, artigos 287, § 2º e, 420, do Regimento Interno, promulga a seguinte Resolução:\n\nArt. 1ºDê-se aos dispositivos abaixo mencionados, da Resolução nº393/2002 - Regimento Interno, as seguintes redações:\n\n\"Art. 7º A Mesa Diretora da Câmara compor-se-á do Presidente, Primeiro e Segundo Secretários, com mandato de 02 ( dois ) anos, admitida a recondução para a eleição subsequente.\n\n§ 4º Se, hora regimental, não estiver presente o Presidente, abrirá os trabalhos o Vice-Presidente ou, na falta deste, o Primeiro ou Segundo Secretários, na sequência, ou ainda, caso estes não estejam presentes, o Vereador mais votado nas eleições municipais.\"\n\n\"Art. 33 Compete, privativamente, ao Vice-Presidente:\"\n\n\"Art. 36 ...\n\nI - ...\n\ne) acompanhar e supervisionar a Ata da Sessão, proceder a sua leitura e assiná-la depois do Presidente e do Vice-Presidente.\n\nII - ...\n\nc) assinar, depois do Presidente e do Vice-Presidente, os atos da Mesa Diretora.\n\nParágrafo Único - O Primeiro Secretário será substituído em suas faltas, ausências, impedimentos ou licenças, havendo nas duas últimas hipóteses investidura na plenitude da respectiva função, pelo Segundo Secretário.\"\n\n\"Art. 48 As Comissões Permanentes, em número de 05 ( cinco ), são as seguinte:\n\nI - ...\n\nII - ...\n\nIII - ...\n\nIV - ...\n\nV - Comissão de Meio Ambiente, Direitos Humanos e Defesa do Consumidor.\"\n\n\"Art. 57 ...\n\nI - ...\n\nII - ...\n\nIII - ...\n\nIV - ...\n\nV - da Comissão de Meio Ambiente, Direitos Humanos e Defesa do Consumidor.\"\n\n\"a) ...\n\n1 - ...\n2 - ...\n3 - ...\nb) ...\nc) ...\nd) ...\ne) opinar sobre todas as proposições que digam respeito aos direitos humanos, especialmente àquelas que envolvam matérias referentes à criança, adolescente e idoso;\nf) propor iniciativas relacionadas a direitos humanos;\ng) receber reclamações e encaminhá-las aos órgãos competentes;\nh) propor ações de combate ao rascismo e discriminação de qualquer natureza, bem como manter intercâmbio com órgãos públicos, entidades civis e filantrópicas sem fins lucrativos, para atender o disposto na alínea anterior;\ni) divulga a legislação que trata dos direitos da mulher trabalhadora urbana e rural;\nj) propor ações de combate à violência e prostituição infanto-juvenil;\nk) opinar sobre proposições que versem a respeito da saúde da mulher, planejamento familiar e assistência social;\nl) fiscalizar, em conjunto com a Delegacia Regional do Trabalho, a instalação de creches nas empresas e demais locais de trabalhos, exigidos por lei;\nm) opinar sobre proposições relativas a produtos, serviços e, quando cabível, contratos que norteiam as relações de consumo;\nn) desenvolver ampla divulgação da legislação e dos programas de defesa do consumidor;\no) propor a criação de políticas e instrumentos de defesa do consumidor, em conjunto com os demais órgãos públicos e particulares;\np) fiscalizar os produtos de consumo e seu fornecimento, e zelar pela sua qualidade;\nq) receber reclamações e encaminhá-las ao órgão competente.\"\n\n\"Art. 164 O Líder e Vice-Líder podem fazer parte de Comissões Permanentes e Temporárias, exceto o Líder e Vice-Líder do Governo.\"\n\n\"Art. 168 Lavrar-se-á a ata, com o resumo dos trabalhos de cada sessão, cujo redação obedecerá ao padrão uniforme adotado pela Mesa Diretora.\"\n\n\"Art. 188 As atas serão organizadas em anais, por ordem cronológica, por período legislativo e recolhidas ao Arquivo da Câmara.\"\n\n\"Art. 190 Os Vereadores só poderão falar sobre a ata para impugná-la ou retificá-la no todo em parte, logo após a leitura da mesma.\n\n§ 1º A discussão sobre a impugnação ou retificação da ata não poderá exceder o tempo destinado ao Grande Expediente, que nesta hipótese ficará prejudicado.\"\n\n\"Art. 199 Aberto a sessão, o Segundo Secretário fará a leitura da ata anterior, que o Presidente submeterá à apreciação do Plenário.\"\n\n\"Art. 200 Após a leitura da ata, o Primeiro Secretário procederá a leitura de:\"\n\n\"Art. 413 - ...\n\nParágrafo Único - Caso o Presidente da Câmara não promulgue a lei, caberá ao Vice-Presidente promulgá-la.\"\n\n\"Art. 418 - ...\n\n§ 2º Se lei não for promulgada dentro de 48 ( quarenta e oito ) horas o Presidente da Câmara Municipal a promulgará, e se este em igual prazo, não o fizer, fá-lo-á obrigatoriamente, o Vice-Presidente.\"\n\nArt. 2ºDê-se ao capítulo III, do Título VII - Da Elaboração Legislativo Especial, a seguinte redação:\n\n\n\"CapítuloIII\nDA CONCESSÃO DE HONRARIAS\n\n\nSEÇÃO I\nDAS HONRARIAS\"\n\n\n\n\"Art. 402 - A Câmara Municipal concederá o Título Honorífico de Cidadão Feirense a pessoas, pelos seus relevantes e notórios serviços prestados ao Município e ao seu povo.\"\n\n\"Art. 403 - A Câmara Municipal também concederá:\n\na) Comenda - Maria Quitéria, Áureo Filho, Filinto Justiniano Ferreira Bastos, Padre Ovídio Alves de São Boaventura, Godofredo Rebello de Figueiredo Filho, Maestro Tertuliano Ferreira Santos, Armando Curvelo de Menezes e, Dr. Gastão Guimarães;\nb) Medalhas - Mérito de Meio Ambiente, Fundação Senhor dos Passos, Vereador Dival Figueiredo Machado, Missionário Roderick Murdo Gillanders, Mérito Rotário, Zumbi dos Palmares e Arquiteto Anápio Aurélio de Miranda;\nc) Certificados - Verde e, de Excelência.\"\n\n\n\"SEÇÃO\nDISPOSIÇÕES GERAIS\"\n\n\n\"Art. 404 - O Projeto de Decreto Legislativo destinado a concessão de honrarias, deverá ser apresentado por, no mínimo, 2/3 ( dois terços ) dos membros da Câmara e, acompanhado de justificativa, além de, biografia quando inerente a pessoa física.\n\n§ 1º Recebido o Projeto de Decreto Legislativo, o mesmo após lido, será encaminhado à Comissão de Constituição Justiça e Redação que, dentro de 10 ( dez ) dias, emitirá parecer fundamentado, o qual após lido será pautado para a Ordem do Dia da sessão seguinte.\n\n§ 2º Será considerado aprovado o Projeto de Decreto Legislativo que obtiver 2/3 ( dois terços ) de votos favoráveis dos membros da Câmara.\n\n§ 3º Cada Vereador poderá apresentar 08 ( oito ) projetos de Decreto Legislativo por legislatura destinados a concessão do Título de Cidadão Feirense, enquanto que as demais Honrarias tem suas quantidades estabelecidas nas Resoluções que as instituíram.\"\n\n\"Art. 405 - As honrarias poderão ser cassadas, caso os homenageados tenham comprovadamente praticado atos que colidam com os motivos que as ensejam\n\nParágrafo Único - Aplicam-se os dispositivos desta Seção, no que couber, ao Projeto de Decreto Legislativo de cassação da honraria\"\n\nArt. 3ºSuprima-se os dispositivos abaixo mencionados, e dê-se nova numeração aos demais:\n\n\"a) artigos - 34,37. 87, 99, 100, 102, 124, 187, 189, 191, 192, 193, 223, 356, 417;\nb) parágrafos - 3º do art. 101, 4º do art. 135 e único do art. 199;\"\n\nArt. 4ºEsta Resolução entrará em vigor na data de sua publicação, produzindo seus efeitos a partir de 1º de Janeiro de 2005, revogadas as disposições em contrário.\n\nMESA DIRETIVA DA CÂMARA MUNICIPAL DE FEIRA DE SANTANA, 26 de Outubro de 2004.\n\nVer. ANTÔNIO CARLOS DALTRO COELHO\nPresidente\n\nVer. GENÉSIO SERAFIM DE LIMA\n1º Secretário\n\nVer. JORGE RAIMUNDO DE OLIVEIRA SILVA\n2º Secretário\n"
          ]
        }
      ]
    },
    {
      "cell_type": "markdown",
      "metadata": {
        "id": "o3JpPMrw0T_Z",
        "colab_type": "text"
      },
      "source": [
        "## Comparando documentos: representação e calculo de similaridade\n",
        "\n",
        "Para comparar quão parecido são dois documentos, primeiro temos que transformar estes documentos para uma representação que o computador consiga calcular alguma coisa a respeito. Existem alguns métodos para isto. Neste notebook temos 3: TF, TF-IDF e vetores de palavras. Para calcular a similaridade, também existem alguns métodos diferentes. Utilizamos similaridade do cosseno.\n",
        "\n",
        "### Term Frequency (TF)\n",
        "\n",
        "A primeira representação construída é bastante ingênua:\n",
        "apenas conta a quantidade de vezes que cada palavra apareceu em cada texto e atribuir um vetor pra esse texto.\n",
        "Cada posição do vetor é uma palavra e cada valor representa quantas vezes essa palavra apareceu no dado texto.\n",
        "Todos os textos, portanto, são representados por uma matriz de dimensões _m_ x _n_,\n",
        " onde _m_ é o número de textos e _n_ é o número de palavras únicas (tamanho do vocabulário)."
      ]
    },
    {
      "cell_type": "code",
      "metadata": {
        "id": "SEh4OLr-0T_b",
        "colab_type": "code",
        "colab": {}
      },
      "source": [
        "from scripts.parsers import clean_text\n",
        "laws['texto_limpo'] = laws['texto'].apply(clean_text)"
      ],
      "execution_count": 23,
      "outputs": []
    },
    {
      "cell_type": "code",
      "metadata": {
        "id": "1SPaMnra0T_g",
        "colab_type": "code",
        "colab": {
          "base_uri": "https://localhost:8080/",
          "height": 52
        },
        "outputId": "bdabe518-a835-4d1e-f5cd-17744618cf27"
      },
      "source": [
        "# Generates document matrix\n",
        "from sklearn.feature_extraction.text import CountVectorizer, TfidfTransformer\n",
        "vectorizer = CountVectorizer()\n",
        "tf_representation = vectorizer.fit_transform(laws['texto_limpo'])\n",
        "tf_representation"
      ],
      "execution_count": 24,
      "outputs": [
        {
          "output_type": "execute_result",
          "data": {
            "text/plain": [
              "<6033x30209 sparse matrix of type '<class 'numpy.int64'>'\n",
              "\twith 625873 stored elements in Compressed Sparse Row format>"
            ]
          },
          "metadata": {},
          "execution_count": 24
        }
      ]
    },
    {
      "source": [
        "Com a matriz de documentos ~literalmente~ em mãos,\n",
        "vamos calcular a similaridade entre dois textos.\n",
        "A similaridade é calculada pela similaridade do cosseno (ver algebra linear).\n",
        "Existem outras medidas pra calcular similaridade / distância.\n",
        "Uma discussão sobre isso [aqui](https://cmry.github.io/notes/euclidean-v-cosine)."
      ],
      "cell_type": "markdown",
      "metadata": {}
    },
    {
      "cell_type": "code",
      "metadata": {
        "id": "QZImYpcZ0T_k",
        "colab_type": "code",
        "colab": {}
      },
      "source": [
        "from sklearn.metrics.pairwise import cosine_similarity\n",
        "import numpy as np\n",
        "\n",
        "cos_sim_matrix = cosine_similarity(tf_representation, dense_output=True)\n",
        "# sorts ascending, per row, the indexes of the documents according to their cossine similarity\n",
        "cos_sim_argsort = np.argsort(cos_sim_matrix) "
      ],
      "execution_count": 25,
      "outputs": []
    },
    {
      "cell_type": "code",
      "metadata": {
        "tags": [],
        "id": "D1Qr2msI0T_o",
        "colab_type": "code",
        "colab": {
          "base_uri": "https://localhost:8080/",
          "height": 34
        },
        "outputId": "1bfd3a37-6ef9-488e-d315-2316f2325f9c"
      },
      "source": [
        "most_similar_indexes_tf = cos_sim_argsort[:,-2] # -1 is the same text\n",
        "tf_similarities = [cos_sim_matrix[i, ind] for i, ind in enumerate(most_similar_indexes_tf)] "
      ],
      "execution_count": 26,
      "outputs": []
    },
    {
      "cell_type": "code",
      "metadata": {
        "tags": [],
        "id": "Px1gHxey0T_y",
        "colab_type": "code",
        "colab": {
          "base_uri": "https://localhost:8080/",
          "height": 1000
        },
        "outputId": "fd18530f-37b5-498d-b2ef-05f7936a3a49"
      },
      "source": [
        "def print_laws(original_law_index, compared_law_index: int):\n",
        "    print(f'- - - LEI: {original_law_index}: - - -\\n\\n')\n",
        "    print(laws.loc[original_law_index, 'texto'])\n",
        "    print(f'\\n\\n- - - LEI COMPARADA: {compared_law_index} - - -\\n\\n')\n",
        "    print(laws.loc[compared_law_index, 'texto'])"
      ],
      "execution_count": 27,
      "outputs": []
    },
    {
      "cell_type": "code",
      "execution_count": 28,
      "metadata": {},
      "outputs": [
        {
          "output_type": "stream",
          "name": "stdout",
          "text": [
            "Maximum similarity between two laws: 1.0000000000000013\n- - - LEI: 5949: - - -\n\n\nA CÂMARA MUNICIPAL DE FEIRA DE SANTANA, Estado da Bahia, na conformidade do Art. 70, inciso VII, da Lei Municipal nº37de 05 de abril de 1990, e Artigos 72, inciso III e 138 § 2º, do Regimento Interno, Promulga a seguinte Resolução:\n\nArt. 1ºFicam reajustados em 12% (doze por cento), os valores dos vencimentos dos servidores da Câmara Municipal de Feira de Santana, referentes ao mês de maio do corrente ano.\n\nArt. 2ºAs despesas decorrentes desta Resolução correrão por conta de verba orçamentária desta Câmara.\n\nArt. 3ºEsta Resolução entrará em vigor na data da sua publicação e seus efeitos a partir de 1º de maio de 1996, revogadas as disposições em contrário.\n\nMESA DIRETIVA DA CÂMARA MUNICIPAL DE FEIRA DE SANTANA, EM 18 DE JUNHO DE 1996.\n\nJOSÉ FLANTILDES RIBEIRO DE OLIVEIRA\nPresidente\n\nJOSÉ MARCONE PAULO DE SOUSA\n1º Vice-Presidente\n\nSEVERINO SOARES\n1º Secretário\n\nNANTES BELLAS VIEIRA\n2º Secretário\n\n\n- - - LEI COMPARADA: 6026 - - -\n\n\nA CÂMARA MUNICIPAL DE FEIRA DE SANTANA, Estado da Bahia, na conformidade do Art. 70, inciso VII, da Lei Municipal nº37de 05 de abril de 1990, e Artigos 72, inciso III e 138 § 2º, do Regimento Interno, Promulga a seguinte Resolução:\n\nArt. 1ºFicam reajustados em 12% (doze por cento), os valores dos vencimentos dos servidores da Câmara Municipal de Feira de Santana, referentes ao mês de maio do corrente ano.\n\nArt. 2ºAs despesas decorrentes desta Resolução correrão por conta de verba orçamentária desta Câmara.\n\nArt. 3ºEsta Resolução entrará em vigor na data da sua publicação e seus efeitos a partir de 1º de maio de 1996, revogadas as disposições em contrário.\n\nMESA DIRETIVA DA CÂMARA MUNICIPAL DE FEIRA DE SANTANA, EM 18 DE JUNHO DE 1996.\n\nJOSÉ FLANTILDES RIBEIRO DE OLIVEIRA\nPresidente\n\nJOSÉ MARCONE PAULO DE SOUSA\n1º Vice-Presidente\n\nSEVERINO SOARES\n1º Secretário\n\nNANTES BELLAS VIEIRA\n2º Secretário\n"
          ]
        }
      ],
      "source": [
        "max_sim_overall = np.max(tf_similarities)\n",
        "print(f'Maximum similarity between two laws: {max_sim_overall}')\n",
        "\n",
        "original_law_index = np.argmax(tf_similarities)\n",
        "most_similar_law_index = most_similar_indexes_tf[original_law_index]\n",
        "\n",
        "print_laws(original_law_index, most_similar_law_index)"
      ]
    },
    {
      "cell_type": "markdown",
      "metadata": {
        "id": "2JBmGOe10T_3",
        "colab_type": "text"
      },
      "source": [
        "As leis 5949 e 6026 são idênticas.\n",
        "Opa! Lei 13 e Lei 118 são a mesma lei, com 3 dias de diferença. Por que existe isso?"
      ]
    },
    {
      "source": [
        "### TF-IDF\n",
        "\n",
        "Outra representação possível para os textos é TF-IDF. \n",
        "Ainda contamos a frequência de cada termo (TF), \n",
        "porém ponderamos esta frequência pela raridade da palavra, \n",
        "medida pela frequência inversa que ela aparece nos documentos (Inverse Document Frequency). \n",
        "Ou seja, quanto mais rara é a palavra no corpus, \n",
        "mais ela caracteriza o texto em que ela aparece, maior será o peso dela."
      ],
      "cell_type": "markdown",
      "metadata": {}
    },
    {
      "cell_type": "code",
      "metadata": {
        "tags": [],
        "id": "NzYMpD_P0T_3",
        "colab_type": "code",
        "colab": {
          "base_uri": "https://localhost:8080/",
          "height": 52
        },
        "outputId": "43a460b6-2869-4f73-92ae-402bde4416e1"
      },
      "source": [
        "transformer = TfidfTransformer()\n",
        "tfidf_representation = transformer.fit_transform(tf_representation)\n",
        "\n",
        "cos_sim_tfidf = cosine_similarity(tfidf_representation, dense_output=True)\n",
        "cos_sim_tfidf_sorted_idxs = np.argsort(cos_sim_tfidf)\n",
        "\n",
        "tfidf_representation"
      ],
      "execution_count": 29,
      "outputs": [
        {
          "output_type": "execute_result",
          "data": {
            "text/plain": [
              "<6033x30209 sparse matrix of type '<class 'numpy.float64'>'\n",
              "\twith 625873 stored elements in Compressed Sparse Row format>"
            ]
          },
          "metadata": {},
          "execution_count": 29
        }
      ]
    },
    {
      "cell_type": "code",
      "metadata": {
        "tags": [],
        "id": "Nh12GLZi0T_9",
        "colab_type": "code",
        "colab": {
          "base_uri": "https://localhost:8080/",
          "height": 1000
        },
        "outputId": "1b916cfb-fdfc-43ca-d017-4dec67d56fe2"
      },
      "source": [
        "most_similar_law_idx = cos_sim_tfidf_sorted_idxs[original_law_index, -2]\n",
        "tfidf_similarity = cos_sim_tfidf[original_law_index, most_similar_law_idx]\n",
        "\n",
        "print(f'Given same law, the highest similarity using TF-IDF is: {tfidf_similarity}')\n",
        "print_laws(original_law_index, most_similar_law_idx)"
      ],
      "execution_count": 30,
      "outputs": [
        {
          "output_type": "stream",
          "name": "stdout",
          "text": [
            "Given same law, the highest similarity using TF-IDF is: 1.0000000000000002\n- - - LEI: 5949: - - -\n\n\nA CÂMARA MUNICIPAL DE FEIRA DE SANTANA, Estado da Bahia, na conformidade do Art. 70, inciso VII, da Lei Municipal nº37de 05 de abril de 1990, e Artigos 72, inciso III e 138 § 2º, do Regimento Interno, Promulga a seguinte Resolução:\n\nArt. 1ºFicam reajustados em 12% (doze por cento), os valores dos vencimentos dos servidores da Câmara Municipal de Feira de Santana, referentes ao mês de maio do corrente ano.\n\nArt. 2ºAs despesas decorrentes desta Resolução correrão por conta de verba orçamentária desta Câmara.\n\nArt. 3ºEsta Resolução entrará em vigor na data da sua publicação e seus efeitos a partir de 1º de maio de 1996, revogadas as disposições em contrário.\n\nMESA DIRETIVA DA CÂMARA MUNICIPAL DE FEIRA DE SANTANA, EM 18 DE JUNHO DE 1996.\n\nJOSÉ FLANTILDES RIBEIRO DE OLIVEIRA\nPresidente\n\nJOSÉ MARCONE PAULO DE SOUSA\n1º Vice-Presidente\n\nSEVERINO SOARES\n1º Secretário\n\nNANTES BELLAS VIEIRA\n2º Secretário\n\n\n- - - LEI COMPARADA: 6026 - - -\n\n\nA CÂMARA MUNICIPAL DE FEIRA DE SANTANA, Estado da Bahia, na conformidade do Art. 70, inciso VII, da Lei Municipal nº37de 05 de abril de 1990, e Artigos 72, inciso III e 138 § 2º, do Regimento Interno, Promulga a seguinte Resolução:\n\nArt. 1ºFicam reajustados em 12% (doze por cento), os valores dos vencimentos dos servidores da Câmara Municipal de Feira de Santana, referentes ao mês de maio do corrente ano.\n\nArt. 2ºAs despesas decorrentes desta Resolução correrão por conta de verba orçamentária desta Câmara.\n\nArt. 3ºEsta Resolução entrará em vigor na data da sua publicação e seus efeitos a partir de 1º de maio de 1996, revogadas as disposições em contrário.\n\nMESA DIRETIVA DA CÂMARA MUNICIPAL DE FEIRA DE SANTANA, EM 18 DE JUNHO DE 1996.\n\nJOSÉ FLANTILDES RIBEIRO DE OLIVEIRA\nPresidente\n\nJOSÉ MARCONE PAULO DE SOUSA\n1º Vice-Presidente\n\nSEVERINO SOARES\n1º Secretário\n\nNANTES BELLAS VIEIRA\n2º Secretário\n"
          ]
        }
      ]
    },
    {
      "source": [
        "Mostram a mesma lei. O que faz sentido, já que as leis são idênticas."
      ],
      "cell_type": "markdown",
      "metadata": {}
    },
    {
      "cell_type": "code",
      "metadata": {
        "tags": [],
        "id": "L_ofWndW0UAC",
        "colab_type": "code",
        "colab": {
          "base_uri": "https://localhost:8080/",
          "height": 34
        },
        "outputId": "422a20d3-4355-476e-8ded-5594ed8cca23"
      },
      "source": [
        "most_similar_indexes_tfidf = cos_sim_tfidf_sorted_idxs[:,-2]\n",
        "\n",
        "same_result = (most_similar_indexes_tf == most_similar_indexes_tfidf)\n",
        "print(same_result)\n",
        "print(f\"Agrees on {sum(same_result) / len(same_result) * 100}% of the results\")"
      ],
      "execution_count": 31,
      "outputs": [
        {
          "output_type": "stream",
          "name": "stdout",
          "text": [
            "[False  True  True ...  True  True False]\nAgrees on 40.44422343775899% of the results\n"
          ]
        }
      ]
    },
    {
      "source": [
        "A lei mais semelhante de acordo com TF e TF-IDF é a mesma 40% das vezes.\n",
        "\n",
        "Vamos dar uma olhada em algumas leis onde os resultados diferem, para ter uma intuição sobre qual representação é melhor para as leis.\n",
        "\n",
        "Vamo sortear indices aleatorios desse vetor e ler as leis que eles representam e as similaridades"
      ],
      "cell_type": "markdown",
      "metadata": {}
    },
    {
      "cell_type": "code",
      "metadata": {
        "tags": [],
        "id": "Z2x3NEDM0UAb",
        "colab_type": "code",
        "colab": {
          "base_uri": "https://localhost:8080/",
          "height": 34
        },
        "outputId": "b263fba8-0fab-4523-dd04-9e36dd189f2e"
      },
      "source": [
        "different_result_indexes = [i for i, _ in enumerate(same_result) if not same_result[i]]\n",
        "comparisons_count = 10\n",
        "drafted_indexes = np.random.randint(0, high=len(different_result_indexes)-1, size=comparisons_count)\n",
        "drafted_laws = [different_result_indexes[i] for i in drafted_indexes]\n",
        "print(drafted_laws)"
      ],
      "execution_count": 32,
      "outputs": [
        {
          "output_type": "stream",
          "name": "stdout",
          "text": [
            "[4287, 5572, 5177, 5087, 3381, 3828, 4757, 2195, 2390, 479]\n"
          ]
        }
      ]
    },
    {
      "cell_type": "code",
      "metadata": {
        "tags": [
          "outputPrepend"
        ],
        "id": "eNvPyncl0UAg",
        "colab_type": "code",
        "colab": {
          "base_uri": "https://localhost:8080/",
          "height": 1000
        },
        "outputId": "9d91fe26-62de-411d-9cc2-90f3282cb51c"
      },
      "source": [
        "for i in drafted_laws:\n",
        "    print(f'\\n\\nCOMPARACAO UTILIZANDO TF:\\n\\n')\n",
        "    print_laws(i, most_similar_indexes_tf[i])\n",
        "    print('\\n\\nCOMPARACAO UTILIZANDO TF-IDF:\\n\\n')\n",
        "    print_laws(i, most_similar_indexes_tfidf[i])"
      ],
      "execution_count": 33,
      "outputs": [
        {
          "output_type": "stream",
          "name": "stdout",
          "text": [
            "es em contrário.\n\nPREFEITURA MUNICIPAL DE FEIRA DE SANTANA, em 03 de Junho de 2009.\n\nDR. TARCÍZIO SUZART PIMENTA JÚNIOR\nPrefeito\n\n\nCOMPARACAO UTILIZANDO TF:\n\n\n- - - LEI: 2390: - - -\n\n\nAutor: José Sebastião Alves de Souza\n\nO PREFEITO MUNICIPAL DE FEIRA DE SANTANA, Estado da Bahia, FAÇO saber que a Câmara Municipal, através do projeto de Lei nº 126/2009, de autoria do Edil José Sebastião Alves de Souza, decretou e eu sanciono a seguinte Lei:\n\nArt. 1ºOs parágrafos 3º e 4º, do artigo 7º da Lei Municipal nº2.397de janeiro de 2003, alterada pela Lei Municipal nº2.399/2003 e altera pela Municipal nº2.794/2007, passam a vigorar com a seguinte redação:\n\n\"Art. 7º ...\n\n§ 3º Para a execução de transporte complementar ficam as concessionárias autorizadas a contratar, com a anuência prévia da Secretaria Municipal de Transporte e Trânsito, os serviços de operadores autônomos e/ou cooperativas criadas especialmente para operar no transporte coletivo urbano\".\n\n\"§ 4º A rescisão total ou parcial do contrato previsto no parágrafo antecedente será previamente comunicada à Secretaria Municipal de Transporte e Trânsito, com fins de atualização e manutenção de dados cadastrais para efeito de controle e fiscalização\".\n\nArt. 2ºO inciso VIII do artigo 41, da Lei Municipal nº2.397de 23 de Janeiro de 2003, alterada pela Lei Municipal nº2.399/2003 e alterada pela Lei Municipal nº2.794/2007, passa a vigorar com a seguinte redação:\n\n\"Art. 41 - ...\n\nVIII - Policiais militares com ou sem farda e, civis e comissários de menores poderão entrar e sair pela porta de entrada dos veículos sem limite de utilização, portando a carteira de identificação\".\n\nArt. 3ºO artigo 44 da Lei Municipal nº2.397de Janeiro de 2003, alterada pela Lei Municipal nº2.399/2003 e alterada pela Lei Municipal nº2.794/2007, passa a vigorar com a seguinte redação:\n\n\"Art. 44º Os artigos deverão circular com tacógrafo u outro equipamento de registro diário aferido, contador de passageiros lacrado, legenda afixada no pára-brisa traseiro em local visível, fornecido pelo Órgão de gestão, medindo exatos 20 cm (vinte centímetros) de largura por 35cm (trinta e cinco centímetros) de comprimento, nas cores preta e branca, letras e fundo de legenda respectivamente com os dizeres: COMO ESTOU DIRIGINDO? - FONE: (75) 3603-7307\".\n\nArt. 4ºO inciso IV - do artigo 62, da Lei Municipal nº2.397de Janeiro de 2003, alterada pela Lei Municipal nº2.399/2003 e alterada pela Lei Municipal nº2.794/2007, passa a vigorar com a seguinte redação:\n\n\"IV - Grupo IV - as infrações abaixo enumeradas:\n\n4.01 - manutenção em serviço de veículo cuja retirada do tráfego tenha sido determinada pelo órgão de gestão;\n4.02 - estiver operando veículo sem a devida licença do Órgão de gestão;\n4.03 - impedir a ação fiscalizadora do órgão de gestão;\n4.04 - não atendimento às determinações do órgão de gestão;\n4.05 - descumprimento do inciso XXV do artigo 34 desta Lei;\n5.06 - praticar cobrança de tarifa do usuário do transporte complementar;\n5.07 - Veículo flagrado pela fiscalização do órgão de gestão; circulando em descumprimento ao disposto no artigo 44 desta Lei\".\n\nArt. 5ºfica o Poder Executivo Municipal, autorizado a abrir crédito suplementar em favor do órgão de gestão do serviço de transporte coletivo de passageiros do Município de Feira de Santana, para viabilizar o cumprimento do disposto no artigo 44 da presente Lei.\n\nArt. 6ºO órgão do serviço terá 120 (cento e vinte) dias para disponibilizar as legendas padronizadas para os operadores com as especificações contidas no artigo 44 da presente Lei.\n\nArt. 7ºO descumprimento do disposto no artigo antecedente acarretará ao chefe do órgão de gestão do serviço de transporte coletivo de passageiros do Município de Feira de Santana, sanções administrativas na legislação vigente e naLei Orgânicado Município.\n\nArt. 8ºEsta Lei entrará em vigor na data de sua publicação, revogadas as disposições em contrário.\n\nPREFEITURA MUNICIPAL DE FEIRA DE SANTANA, em 10 de Agosto de 2009.\n\nDR. TARCÍZIO SUZART PIMENTA JÚNIOR\nPrefeito\n\n\n- - - LEI COMPARADA: 466 - - -\n\n\nO PREFEITO MUNICIPAL DE FEIRA DE SANTANA, ESTADO DA BAHIA, no uso de suas atribuições. Faço saber que a Câmara Municipal, através do Projeto de LEI Nº 113/2018, deste Poder Executivo, decretou e eu sanciono a seguinte Lei Municipal.\n\nArt. 1ºFica o Poder Executivo Municipal autorizado a conceder recursos, mediante Termo de Fomento, às Organizações da Sociedade Civil abaixo relacionadas, conforme disposto no art. 31, Inciso II, da Lei Federal Nº 13.019/14 e art. 5, § 4º do Decreto Municipal Nº10.166/17; art. 16 e 17 da Lei 4.320/64 e art. 26 da Lei Complementar Nº 101/2000.___________________________________________________________________________________\n|         ENTIDADES         |            CNPJ           | VALOR DO TERMO DE PARCERIA|\n|===========================|===========================|===========================|\n|Associação     Filantrópica|07.103.116/0001-03         |               R$ 27.000,00|\n|Prontos para Servir        |                           |                           |\n|---------------------------|---------------------------|---------------------------|\n|Centro  Comunitário  Luz  e|06.716.535/0001-40         |               R$ 24.000,00|\n|Labor                      |                           |                           |\n|---------------------------|---------------------------|---------------------------|\n|União Baiana de Cegos      |11.757.342/0001-77         |               R$ 15.000,00|\n|---------------------------|---------------------------|---------------------------|\n|Liga Feirense de Desportos |13.615.612/0001-30         |              R$ 151.380,00|\n|---------------------------|---------------------------|---------------------------|\n|Associação   Comercial   de|16.246.563/0001-02         |               R$ 20.000,00|\n|Feira de Santana           |                           |                           |\n|___________________________|___________________________|___________________________| * tabela formatada pela equipe técnica do LeisMunicipais.com.br\nParágrafo único. O Termo de Fomento acordado com o Município usará a dotação orçamentária: Elemento de Despesa 33.50.43.\n\nArt. 2ºA entidade beneficiada com os recursos públicos deverá observar a legislação pertinente, tanto para recebimento dos recursos pleiteados, quanto para a respectiva prestação de contas, em especial, a LEI Nº 13.019/14 e Decreto Municipal Nº10.166/17.\n\nArt. 3ºEsta Lei entra em vigor na data de sua publicação, revogadas as disposições em contrário.\n\nGabinete do Prefeito, 05 de julho de 2018.\n\nCOLBERT MARTINS DA SILVA FILHO\nPREFEITO MUNICIPAL\n\nMARIO COSTA BORGES\nCHEFE DE GABINETE DO PREFEITO\n\nCLEUDSON SANTOS ALMEIDA\nPROCURADOR GERAL DO MUNICÍPIO\n\nPUBLICADO NO DIÁRIO OFICIAL DIA 06 DE JULHO DE 2018\n\n\nCOMPARACAO UTILIZANDO TF-IDF:\n\n\n- - - LEI: 2390: - - -\n\n\nAutor: José Sebastião Alves de Souza\n\nO PREFEITO MUNICIPAL DE FEIRA DE SANTANA, Estado da Bahia, FAÇO saber que a Câmara Municipal, através do projeto de Lei nº 126/2009, de autoria do Edil José Sebastião Alves de Souza, decretou e eu sanciono a seguinte Lei:\n\nArt. 1ºOs parágrafos 3º e 4º, do artigo 7º da Lei Municipal nº2.397de janeiro de 2003, alterada pela Lei Municipal nº2.399/2003 e altera pela Municipal nº2.794/2007, passam a vigorar com a seguinte redação:\n\n\"Art. 7º ...\n\n§ 3º Para a execução de transporte complementar ficam as concessionárias autorizadas a contratar, com a anuência prévia da Secretaria Municipal de Transporte e Trânsito, os serviços de operadores autônomos e/ou cooperativas criadas especialmente para operar no transporte coletivo urbano\".\n\n\"§ 4º A rescisão total ou parcial do contrato previsto no parágrafo antecedente será previamente comunicada à Secretaria Municipal de Transporte e Trânsito, com fins de atualização e manutenção de dados cadastrais para efeito de controle e fiscalização\".\n\nArt. 2ºO inciso VIII do artigo 41, da Lei Municipal nº2.397de 23 de Janeiro de 2003, alterada pela Lei Municipal nº2.399/2003 e alterada pela Lei Municipal nº2.794/2007, passa a vigorar com a seguinte redação:\n\n\"Art. 41 - ...\n\nVIII - Policiais militares com ou sem farda e, civis e comissários de menores poderão entrar e sair pela porta de entrada dos veículos sem limite de utilização, portando a carteira de identificação\".\n\nArt. 3ºO artigo 44 da Lei Municipal nº2.397de Janeiro de 2003, alterada pela Lei Municipal nº2.399/2003 e alterada pela Lei Municipal nº2.794/2007, passa a vigorar com a seguinte redação:\n\n\"Art. 44º Os artigos deverão circular com tacógrafo u outro equipamento de registro diário aferido, contador de passageiros lacrado, legenda afixada no pára-brisa traseiro em local visível, fornecido pelo Órgão de gestão, medindo exatos 20 cm (vinte centímetros) de largura por 35cm (trinta e cinco centímetros) de comprimento, nas cores preta e branca, letras e fundo de legenda respectivamente com os dizeres: COMO ESTOU DIRIGINDO? - FONE: (75) 3603-7307\".\n\nArt. 4ºO inciso IV - do artigo 62, da Lei Municipal nº2.397de Janeiro de 2003, alterada pela Lei Municipal nº2.399/2003 e alterada pela Lei Municipal nº2.794/2007, passa a vigorar com a seguinte redação:\n\n\"IV - Grupo IV - as infrações abaixo enumeradas:\n\n4.01 - manutenção em serviço de veículo cuja retirada do tráfego tenha sido determinada pelo órgão de gestão;\n4.02 - estiver operando veículo sem a devida licença do Órgão de gestão;\n4.03 - impedir a ação fiscalizadora do órgão de gestão;\n4.04 - não atendimento às determinações do órgão de gestão;\n4.05 - descumprimento do inciso XXV do artigo 34 desta Lei;\n5.06 - praticar cobrança de tarifa do usuário do transporte complementar;\n5.07 - Veículo flagrado pela fiscalização do órgão de gestão; circulando em descumprimento ao disposto no artigo 44 desta Lei\".\n\nArt. 5ºfica o Poder Executivo Municipal, autorizado a abrir crédito suplementar em favor do órgão de gestão do serviço de transporte coletivo de passageiros do Município de Feira de Santana, para viabilizar o cumprimento do disposto no artigo 44 da presente Lei.\n\nArt. 6ºO órgão do serviço terá 120 (cento e vinte) dias para disponibilizar as legendas padronizadas para os operadores com as especificações contidas no artigo 44 da presente Lei.\n\nArt. 7ºO descumprimento do disposto no artigo antecedente acarretará ao chefe do órgão de gestão do serviço de transporte coletivo de passageiros do Município de Feira de Santana, sanções administrativas na legislação vigente e naLei Orgânicado Município.\n\nArt. 8ºEsta Lei entrará em vigor na data de sua publicação, revogadas as disposições em contrário.\n\nPREFEITURA MUNICIPAL DE FEIRA DE SANTANA, em 10 de Agosto de 2009.\n\nDR. TARCÍZIO SUZART PIMENTA JÚNIOR\nPrefeito\n\n\n- - - LEI COMPARADA: 188 - - -\n\n\nO PREFEITO MUNICIPAL DE FEIRA DE SANTANA, Estado da Bahia, no uso de suas atribuições legais e com base na autorização contida na Lei Nº3.350, de 11 de dezembro de 2012, art. 6º, inciso I, DECRETA:\n\nArt. 1ºFica aberto Crédito Suplementar ao Orçamento do Município no valor de R$ 408.000,00 (quatrocentos e oito mil reais), conforme detalhamento abaixo:_________________________________________________\n|CLASS.|  PROGRAMÁTICA |ECONÔMICA|FONTE|VALOR (R$)|\n| INST.|               |         |     |          |\n|======|===============|=========|=====|==========|\n| 08.08|04.122.001.2025|3.3.90.36| 0000|130.000,00|\n|------|---------------|---------|-----|----------|\n| 21.27|06.181.002.2062|3.3.90.39| 0000| 78.000,00|\n|------|---------------|---------|-----|----------|\n| 21.27|04.122.001.2065|3.3.90.39| 0000|200.000,00|\n|------|---------------|---------|-----|----------|\n|      |               |         |TOTAL|408.000,00|\n|______|_______________|_________|_____|__________| * tabela formatada pela equipe técnica do LeisMunicipais.com.br\nArt. 2ºOs recursos disponíveis para acorrer às despesas decorrentes do presente crédito suplementar correrão à conta de anulações nas dotações abaixo detalhadas:_________________________________________________\n|CLASS.|  PROGRAMÁTICA |ECONÔMICA|FONTE|VALOR (R$)|\n| INST.|               |         |     |          |\n|======|===============|=========|=====|==========|\n| 08.08|04.121.008.2027|3.3.90.39| 0000|130.000,00|\n|------|---------------|---------|-----|----------|\n| 21.27|04.182.002.2007|3.3.90.30| 0000| 16.000,00|\n|------|---------------|---------|-----|----------|\n| 21.27|04.182.002.2007|3.3.90.32| 0000|  5.000,00|\n|------|---------------|---------|-----|----------|\n| 21.27|04.182.002.2007|3.3.90.36| 0000|  5.000,00|\n|------|---------------|---------|-----|----------|\n| 21.27|04.182.002.2007|3.3.90.39| 0000|  5.000,00|\n|------|---------------|---------|-----|----------|\n| 21.27|04.182.002.2007|4.4.90.52| 0000|120.000,00|\n|------|---------------|---------|-----|----------|\n| 21.27|06.181.002.2055|3.3.90.30| 0000| 30.000,00|\n|------|---------------|---------|-----|----------|\n| 21.27|06.181.002.2055|3.3.90.32| 0000|  4.000,00|\n|------|---------------|---------|-----|----------|\n| 21.27|06.181.002.2055|3.3.90.33| 0000|  6.000,00|\n|------|---------------|---------|-----|----------|\n| 21.27|06.181.002.2055|3.3.90.35| 0000|  5.000,00|\n|------|---------------|---------|-----|----------|\n| 21.27|06.181.002.2055|3.3.90.36| 0000|  3.000,00|\n|------|---------------|---------|-----|----------|\n| 21.27|06.181.002.2055|4.4.90.52| 0000| 15.000,00|\n|------|---------------|---------|-----|----------|\n| 21.27|06.181.002.2055|4.4.90.93| 0000|  1.000,00|\n|------|---------------|---------|-----|----------|\n| 21.27|06.181.002.2062|4.4.90.52| 0000| 63.000,00|\n|------|---------------|---------|-----|----------|\n|      |               |         |TOTAL|408.000,00|\n|______|_______________|_________|_____|__________| * tabela formatada pela equipe técnica do LeisMunicipais.com.br\nArt. 3ºFica a Contabilidade Municipal autorizada a efetuar os registros contábeis necessários ao cumprimento deste Decreto.\n\nArt. 4ºEste Decreto entra em vigor na data da sua publicação.\n\nGabinete do Prefeito Municipal, 25 de janeiro de 2013.\n\nJOSÉ RONALDO DE CARVALHO\nPrefeito Municipal\n\n\nCOMPARACAO UTILIZANDO TF:\n\n\n- - - LEI: 479: - - -\n\n\nAutor: Ildes Ferreira de Oliveira\n\nO PREFEITO MUNICIPAL DE FEIRA DE SANTANA, Estado da Bahia, FAÇO saber que a Câmara Municipal, através do Projeto de Lei nº 04/2000, de autoria do Edil Ildes Ferreira de oliveira, decretou e eu sanciono a seguinte Lei:\n\nArt. 1ºDê-se ao artigo 2º da Lei nº2.001/98 a seguinte redação:\n\n\"Art. 2º A partir da segunda hora de serviço, os estabelecimentos estão obrigados a calcular o valor a ser cobrado dos usuários de forma proporcional ao tempo efetivamente utilizado.\"\n\nArt. 2ºDê-se ao artigo 3º da referida Lei a seguinte redação:\n\n\"Art. 3º O não cumprimento desta Lei implica nas seguintes penalidades a serem aplicadas sucessivamente:\n\na) advertências;\nb) multa de 500 (quinhentas) UFIR`s;\nc) multa de 1.000 (um mil) UFIR`s;\nd) suspensão da licença de funcionamento;\ne) cassação do alvará de licença.\"\n\nArt. 3ºOs artigos 2º, 3º e 4º passam a ser 4º, 5º e 6º respectivamente.\n\nArt. 4ºEsta Lei entrará em vigor na data da sua publicação, revogadas as disposições em contrário.\n\nPREFEITURA MUNICIPAL DE FEIRA DE SANTANA, EM 29 DE MARÇO DE 2000.\n\nCLAILTON COSTA MASCARENHAS\nPrefeito\n\n\n- - - LEI COMPARADA: 1994 - - -\n\n\nAutor: Ildes Ferreira de Oliveira\n\nO PREFEITO MUNICIPAL DE FEIRA DE SANTANA, Estado da Bahia, FAÇO saber que a Câmara Municipal, através do Projeto de Lei nº 138/99, de autoria do Edil Ildes Ferreira de Oliveira, decretou e eu sanciono a seguinte Lei:\n\nArt. 1ºDê-se ao Art. 1º da Lei nº2.084/99 a seguinte redação:\n\n\"Art. 1º Fica considerada de Utilidade Pública a ASSOCIAÇÃO DE DESENVOLVIMENTO SOCIAL E COMUNITÁRIO DO BAIRRO SANTA MÔNICA (ADESC), fundada em 1º de agosto de 1998, registrada como Pessoa Jurídica sob nº 50.030, CGC. 03.003.306/0001-90, situada à Rua Nossa Senhora da Conceição nº 122 - Bairro Santa Mônica, CEP 44.050-710, Feira de Santana.\"\n\nArt. 2ºEsta Lei entrará em vigor na data da sua publicação, revogadas as disposições em contrário.\n\nPREFEITURA MUNICIPAL DE FEIRA DE SANTANA, EM 1º DE DEZEMBRO DE 1999.\n\nCLAILTON COSTA MASCARENHAS\nPrefeito\n\n\nCOMPARACAO UTILIZANDO TF-IDF:\n\n\n- - - LEI: 479: - - -\n\n\nAutor: Ildes Ferreira de Oliveira\n\nO PREFEITO MUNICIPAL DE FEIRA DE SANTANA, Estado da Bahia, FAÇO saber que a Câmara Municipal, através do Projeto de Lei nº 04/2000, de autoria do Edil Ildes Ferreira de oliveira, decretou e eu sanciono a seguinte Lei:\n\nArt. 1ºDê-se ao artigo 2º da Lei nº2.001/98 a seguinte redação:\n\n\"Art. 2º A partir da segunda hora de serviço, os estabelecimentos estão obrigados a calcular o valor a ser cobrado dos usuários de forma proporcional ao tempo efetivamente utilizado.\"\n\nArt. 2ºDê-se ao artigo 3º da referida Lei a seguinte redação:\n\n\"Art. 3º O não cumprimento desta Lei implica nas seguintes penalidades a serem aplicadas sucessivamente:\n\na) advertências;\nb) multa de 500 (quinhentas) UFIR`s;\nc) multa de 1.000 (um mil) UFIR`s;\nd) suspensão da licença de funcionamento;\ne) cassação do alvará de licença.\"\n\nArt. 3ºOs artigos 2º, 3º e 4º passam a ser 4º, 5º e 6º respectivamente.\n\nArt. 4ºEsta Lei entrará em vigor na data da sua publicação, revogadas as disposições em contrário.\n\nPREFEITURA MUNICIPAL DE FEIRA DE SANTANA, EM 29 DE MARÇO DE 2000.\n\nCLAILTON COSTA MASCARENHAS\nPrefeito\n\n\n- - - LEI COMPARADA: 128 - - -\n\n\nO PREFEITO MUNICIPAL DE FEIRA DE SANTANA, Estado da Bahia, no uso de suas atribuições legais e com fundamento no art. 37, § 2º, da Lei nº3.327, de 11 de junho de 2012 e art. 7º, inciso V, da Lei nº3.350, de 11 de dezembro de 2012, DECRETA:\n\nArt. 1ºFica alterado o Quadro de Detalhamento de Despesa de 2013, no valor de R$ 3.090.500,00 (três milhões noventa mil e quinhentos reais), na forma indicada no Anexo a este Decreto.\n\nArt. 2ºFica a Contabilidade Municipal autorizada a efetuar os registros contábeis necessários ao cumprimento deste Decreto.\n\nArt. 3ºEste Decreto entra em vigor na data de sua publicação.\n\nArt. 4ºRevogam-se as disposições em contrário.\n\nGabinete do Prefeito, 26 de março de 2013.\n\nJOSÉ RONALDO DE CARVALHO\nPrefeito Municipal\n\nANEXO__________________________________________________________________________\n|Classificação|  Programática |Econômica|Fonte de|  Acréscimo |   Redução  |\n|Institucional|               |         |Recursos|            |            |\n|=============|===============|=========|========|============|============|\n|      11.1111|10.301.025.2061|3.3.90.39|    0002|1.090.500,00|            |\n|-------------|---------------|---------|--------|------------|------------|\n|      11.1111|10.301.025.2061|3.3.90.33|    0002|            |      500,00|\n|-------------|---------------|---------|--------|------------|------------|\n|      11.1111|10.301.025.2061|3.3.90.35|    0002|            |  450.000,00|\n|-------------|---------------|---------|--------|------------|------------|\n|      11.1111|10.301.025.2061|3.3.90.36|    0002|            |  490.000,00|\n|-------------|---------------|---------|--------|------------|------------|\n|      11.1111|10.301.025.2061|3.3.90.92|    0002|            |  150.000,00|\n|-------------|---------------|---------|--------|------------|------------|\n|      11.1111|10.301.025.2061|3.3.90.39|    0014|2.000.000,00|            |\n|-------------|---------------|---------|--------|------------|------------|\n|      11.1111|10.301.025.2061|3.3.90.30|    0014|            |1.000.000,00|\n|-------------|---------------|---------|--------|------------|------------|\n|      11.1111|10.301.025.2061|3.3.90.36|    0014|            |  450.000,00|\n|-------------|---------------|---------|--------|------------|------------|\n|      11.1111|10.301.025.2061|3.3.90.46|    0014|            |  550.000,00|\n|-------------|---------------|---------|--------|------------|------------|\n|             |TOTAL          |         |        |3.090.500,00|3.090.500,00|\n|_____________|_______________|_________|________|____________|____________| * tabela formatada pela equipe técnica do LeisMunicipais.com.br\n\n"
          ]
        }
      ]
    },
    {
      "cell_type": "markdown",
      "metadata": {
        "id": "t4MMxx8J0UAl",
        "colab_type": "text"
      },
      "source": [
        "Como é um sorteio, cada vez que você rodar esse notebook vai ter resultados diferentes. Fique a vontade pra fazer um PR com a comparação de leis diferentes. Abaixo estão comparações da primeira vez que rodei\n",
        "\n",
        "### Lei 1018\n",
        "Lei 1018 é sobre proibição de homenagens a condenados por corrupção. TF trouxe uma lei sobre tornar uma associação pública. TF-IDF trouxe uma lei sobre evento de comemoração de adoção animal. Todas duas erraram.\n",
        "\n",
        "### Lei 5776\n",
        "Lei 5776 sobre pagamento servidor público. TF trouxe: leitura da bíblia na abertura da câmara (que bizarro, diga-se de passagem). TF-IDF: aposentadoria diretor valor vencimento etc. Ambas as leis parecem ter sido trazidas como semelhantes pq dos nomes próprios contidos nas leis.\n",
        "\n",
        "### Lei 2789\n",
        "Lei 2789 (mil anos da revolução francesa) sobre obrigatoriedade de um servidor formado em primeiros socorros em escolas. TF: faço saber inkaba instituto de karate. TF-IDF: faço saber associação estrela jaco. Novamente as semelhanças são os nomes próprios nas leis.\n",
        "\n",
        "### Lei 1772\n",
        "Lei 1772: faço saber sindicato trabalhadores rurais. TF: faço saber associação profissionais sexo. TF-IDF: faço saber associação pequenos agricultures apaeb - a rua da sede é a mesma da lei comparada. \n",
        "\n",
        "TF-IDF se saiu melhor nessa. Os nomes das pessoas em TF eram os mesmos da Lei, mas em TF-IDF não. O fator decisivo aqui foi o nome da rua, que era o mesmo. Ponto pra TF-IDF.\n",
        "\n",
        "### Lei 530\n",
        "Lei 530: faço saber igreja ministerio pentecostal fogo gloria. rua volta redonda bairro campo limpo.\n",
        "TF: faço saber instituto nobre sede rodovia br km cis. nomes das pessoas iguais.\n",
        "TF-IDF: faço saber igreja evangelica pentecostal monte carmelo rua espassonavel bairro george americo. prefeitos diferentes.\n",
        "\n",
        "### Lei 4810\n",
        "Lei: comenda. nomes: godofredo rebell figueiredo filho, raymundo luiz oliveira lopes. \n",
        "TF: comenda. nomes: godofredo rebello figueiredo filho, nilton bellas vieira.\n",
        "TF-IDF: comenda. nomes: godofredo rebello figueiredo filho, raimundo antonio carneiro pinto.\n",
        "\n",
        "As duas acertaram\n",
        "\n",
        "### Lei 5238 \n",
        "Lei 5238: promulgação de novas vias públicas. A via por TF-IDF passa por mais ruas iguais.\n",
        "\n",
        "### Lei 5383\n",
        "Lei promulga academia de ginástica. TF: promulga empresas serviço funerario. TF-IDF: promulga novos aparelhos de ginástica.\n",
        "\n",
        "### Outras\n",
        "As outras leis eram: \"_visualizar legislativo ba_\". Ambas trouxeram textos idênticos."
      ]
    },
    {
      "cell_type": "markdown",
      "metadata": {
        "id": "mwB0E6_80UAm",
        "colab_type": "text"
      },
      "source": [
        "Ok! Massa! Funciona!\n",
        "\n",
        "Pelos resultados acima, TF-IDF se saiu melhor. \n",
        "Inclusive pra retornar semelhança por nomes de ruas e de bairros, que é o que a gente quer pras buscas.\n",
        "\n",
        "Mesmo com 28k features, o resultado foi bastante rápido. \n",
        "Caso tivessemos um corpus maior, poderíamos ainda usar PCA pra reduzir as dimensões e ainda assim calcular a similaridade mantendo as relações entre os documentos."
      ]
    },
    {
      "source": [
        "### Vetor de palavras - word embedding\n",
        "\n",
        "***AVISO! ESTA PARTE GASTA MUITA MEMÓRIA!***\n",
        "\n",
        "A ideia dessa representação é criar um vetor pra cada palavra, com base nas palavras vizinhas.\n",
        "\n",
        "Isto vem da hipótese linguística distribucional: uma palavra é parecida com outra se suas vizinhas são as mesmas.\n",
        "\n",
        "Ou ainda: \"conhecerás a palavra pelas compainhas que ela mantém\".\n",
        "\n",
        "Na prática, vamos utilizar um método bem simples baseado nesta hipótese.\n",
        "Cada palavra é representada por um vetor de _n_ dimensões, onde _n_ é o tamanho do vocabulário.\n",
        "Os valores de cada dimensão é a frequência com que a palavra representada por esta dimensão aparece como vizinha da palavra sendo representada.\n",
        "A vizinhança pode variar. Neste caso, temos como vizinhas palavras até 2 tokens de distância. \n",
        "Portanto, na frase \"dados abertos de feira é massa\", a palavra \"_de_\" é vizinha de todas as palavras, exceto \"_massa_\"."
      ],
      "cell_type": "markdown",
      "metadata": {}
    },
    {
      "cell_type": "code",
      "metadata": {
        "tags": [],
        "id": "wS-15fVG0UAn",
        "colab_type": "code",
        "colab": {
          "base_uri": "https://localhost:8080/",
          "height": 52
        },
        "outputId": "53ce1ce4-ac2c-40fd-afae-d1b2dd1c7203"
      },
      "source": [
        "cleaned_text = ' '.join(laws['texto_limpo'].tolist())\n",
        "cleaned_text = cleaned_text.split()\n",
        "unique_words = set(cleaned_text)\n",
        "print(f\"Text length: {len(cleaned_text)}\")\n",
        "print(f\"Vocabulary length: {len(unique_words)}\")"
      ],
      "execution_count": null,
      "outputs": []
    },
    {
      "cell_type": "code",
      "metadata": {
        "id": "VTXaa1WD0UAr",
        "colab_type": "code",
        "colab": {}
      },
      "source": [
        "word_indexes = {}\n",
        "for i, word in enumerate(unique_words):\n",
        "    word_indexes[word] = i"
      ],
      "execution_count": null,
      "outputs": []
    },
    {
      "cell_type": "code",
      "metadata": {
        "id": "fIXTyXpb0UAv",
        "colab_type": "code",
        "colab": {
          "base_uri": "https://localhost:8080/",
          "height": 139
        },
        "outputId": "c6ea58f9-5618-47be-e21f-9b4a08279546"
      },
      "source": [
        "# Esta parte consome muita memória\n",
        "# pra rodar esta parte, descomente a linha abaixo\n",
        "# word_embedding_matrix = np.zeros((len(unique_words), len(unique_words)), dtype=np.int16)\n",
        "word_embedding_matrix"
      ],
      "execution_count": null,
      "outputs": []
    },
    {
      "cell_type": "code",
      "metadata": {
        "id": "3oDi3dF-0UAx",
        "colab_type": "code",
        "colab": {
          "base_uri": "https://localhost:8080/",
          "height": 139
        },
        "outputId": "d01c813c-0421-44ad-d3e4-da2b0ed6be7d"
      },
      "source": [
        "neighborhood = 2\n",
        "for idx, word in enumerate(cleaned_text):\n",
        "    for i in range(1, neighborhood):\n",
        "        neighbor_word = cleaned_text[idx+i]\n",
        "\n",
        "        word_idx = word_indexes[word]\n",
        "        neighbor_index = word_indexes[neighbor_word]\n",
        "\n",
        "        word_embedding_matrix[word_idx, neighbor_index] += 1\n",
        "        word_embedding_matrix[neighbor_index, word_idx] += 1\n",
        "    if (idx == len(cleaned_text) - neighborhood):\n",
        "        break\n",
        "word_embedding_matrix"
      ],
      "execution_count": null,
      "outputs": []
    },
    {
      "cell_type": "code",
      "metadata": {
        "id": "Q2Oyjsnw0UA2",
        "colab_type": "code",
        "colab": {
          "base_uri": "https://localhost:8080/",
          "height": 52
        },
        "outputId": "174fbe2d-9bcf-421c-c4f9-29091f5bf968"
      },
      "source": [
        "# Transform to sparse, to avoid memory consumption\n",
        "from scipy.sparse import csr_matrix\n",
        "word_embedding_matrix = csr_matrix(word_embedding_matrix)\n",
        "word_embedding_matrix"
      ],
      "execution_count": null,
      "outputs": []
    },
    {
      "cell_type": "code",
      "metadata": {
        "id": "arG4D1Vv0UA5",
        "colab_type": "code",
        "colab": {
          "base_uri": "https://localhost:8080/",
          "height": 52
        },
        "outputId": "2fc4f7fd-c656-4522-a092-6067909f7dd2"
      },
      "source": [
        "# We have our word representation\n",
        "# Lets test it checking the most similar words to 10 random words\n",
        "words_cosine_similarity_matrix = cosine_similarity(word_embedding_matrix, dense_output=False)\n",
        "words_cosine_similarity_matrix"
      ],
      "execution_count": null,
      "outputs": []
    },
    {
      "cell_type": "code",
      "metadata": {
        "tags": [],
        "id": "6XKVcQWK0UA_",
        "colab_type": "code",
        "colab": {
          "base_uri": "https://localhost:8080/",
          "height": 34
        },
        "outputId": "47a9d847-1c59-4256-8cf2-8a722f8aea99"
      },
      "source": [
        "palavras_semelhantes = np.argsort(words_cosine_similarity_matrix[0].toarray())\n",
        "len(palavras_semelhantes[0])"
      ],
      "execution_count": null,
      "outputs": []
    },
    {
      "cell_type": "code",
      "metadata": {
        "tags": [],
        "id": "cX8aNaJt0UBD",
        "colab_type": "code",
        "colab": {
          "base_uri": "https://localhost:8080/",
          "height": 1000
        },
        "outputId": "03f6f0b3-3df3-4db6-cad9-d55a30b4bda2"
      },
      "source": [
        "drafted_words_index = np.random.randint(len(unique_words), size=10)\n",
        "\n",
        "def show_words(idx: int, similar_words: list, vocabulary: list):\n",
        "    word = vocabulary[idx]\n",
        "    print(f'Lista de palavras similares a {word} - {idx}:')\n",
        "    for i in similar_words:\n",
        "        word = vocabulary[i]\n",
        "        print(f'{word} - {i}')\n",
        "    print('\\n- - - - - \\n\\n')\n",
        "\n",
        "vocabulary = list(word_indexes.keys())\n",
        "for idx in drafted_words_index:\n",
        "    sorted_cosine_similarities_array = np.argsort(words_cosine_similarity_matrix[idx].toarray())\n",
        "    similar_words = sorted_cosine_similarities_array[0][-10:-1]\n",
        "    show_words(idx, similar_words, vocabulary)"
      ],
      "execution_count": null,
      "outputs": []
    },
    {
      "cell_type": "markdown",
      "metadata": {
        "id": "zaHPf6bo0UBG",
        "colab_type": "text"
      },
      "source": [
        "Neste corpus, pra algumas palavras, a hipótese distribucional parece funcionar bem, pra outras nem tanto, pra outras não funciona.\n",
        "\n",
        "Semelhantes a \"outorgar\" temos: \"permutar\", \"editar\", \"contratar\", \"doar\", \"conceder\", \"dispensar\", \"celebrar\", \"subscrever\", \"proibir\". Embora a semântica (significado) não seja necessariamente próxima, todas as palavras são verbos, então a sintaxe é próxima. Semelhantes a \"ibitita\": \"axixa\", \"ibirarema\", \"peritoro\", \"piracaia\", \"igarata\", \"erechim\", \"itaperuna\", \"piata\", \"vandinha\". Todos parecem nomes de locais.\n",
        "\n",
        "Existem casos horríveis. Semelhantes à \"coesao\" temos: \"sedeso\", \"his\", \"ctps\", \"zeis\", \"pnas\", \"cgfmhis\", \"snhis\", \"acemas\". O que significam essas palavras? Talvez seja útil melhorar a qualidade do pré-processamento pra melhorar na indexação. Semelhantes à \"separando\" temos: \"agrossilvopastoris\", \"cemiteriais\", \"solidos\", \"molhados\", \"domiciliares\", \"volumosos\", \"baldios\", \"antecedencia\", \"dimensao\".\n",
        "\n",
        "Há casos mistos. Semelhantes `a \"trasporte\" (note o erro) temos: \"meia\" (talvez meia passagem?), \"transporte\" (a palavra correta aparece em segundo), \"roletas\", \"vala\" (?), \"trafegos\", \"convencional\" (?), \"edificar\" (?), \"passageiros\", \"fretado\".\n",
        "\n",
        "Talvez o corpus seja pequeno demais pra encontrar as relações entre as palavras só contando? Há de se testar se não é melhor então trabalhar com vetores de palavras, mesmo aprendidos em um corpus pequeno. Segundo o paper \"Don't count, predict! a systematic comparison of context-counting vs. context-predicting semantic vectors (2014) - Baroni, Dinu, Kruszeweski\", predizer é melhor que contar. Há de se testar se neste nosso contexto isso também se verifica.\n",
        "\n",
        "Por hora, vamos testar se a busca melhora ou não utilizando as palavras. Então vamos construir a representação das leis.\n",
        "\n",
        "# Construindo representação das leis com base na hipotese distribucional"
      ]
    },
    {
      "cell_type": "markdown",
      "metadata": {
        "id": "O7VoHo8x06hr",
        "colab_type": "text"
      },
      "source": [
        ""
      ]
    },
    {
      "cell_type": "code",
      "metadata": {
        "tags": [],
        "id": "FLTahner0UBH",
        "colab_type": "code",
        "colab": {
          "base_uri": "https://localhost:8080/",
          "height": 139
        },
        "outputId": "97f30ae5-a27a-4fa9-b364-204bd621b71d"
      },
      "source": [
        "# Cada lei vai ser a soma dos word_embedding_matrix de suas palavras\n",
        "# Usando np.zeros gasta muita memoria, mas csr_matrix eh muito lento\n",
        "word_embedding_representation = np.zeros((len(laws['texto_limpo']), word_embedding_matrix.shape[1]))\n",
        "for idx, law in enumerate(laws['texto_limpo']):\n",
        "    for word in law.split():\n",
        "        word_index = word_indexes[word]\n",
        "        word_embedding_representation[idx] += word_embedding_matrix[word_index]\n",
        "word_embedding_representation"
      ],
      "execution_count": null,
      "outputs": []
    },
    {
      "cell_type": "code",
      "metadata": {
        "id": "DU1T1aya26Ss",
        "colab_type": "code",
        "colab": {}
      },
      "source": [
        "word_embedding_cosine_similarity = cosine_similarity(word_embedding_representation)"
      ],
      "execution_count": null,
      "outputs": []
    },
    {
      "cell_type": "code",
      "metadata": {
        "id": "oK2ZpkXI3Dh4",
        "colab_type": "code",
        "colab": {}
      },
      "source": [
        "most_similar_indexes_word_embedding = [idx for idx in np.argsort(word_embedding_cosine_similarity)[:,-2]]"
      ],
      "execution_count": null,
      "outputs": []
    },
    {
      "cell_type": "code",
      "metadata": {
        "id": "yIpgoJqA3u0O",
        "colab_type": "code",
        "colab": {
          "base_uri": "https://localhost:8080/",
          "height": 34
        },
        "outputId": "7bbd5953-0041-482c-99e0-a56eccc8ffc6"
      },
      "source": [
        "# Diferenca de vetores pra TFIDF eh bem maior.\n",
        "# Vamos samplear algumas dessas diferencas e \n",
        "# mostrar uma lei q tanto TFIDF como Count erraram\n",
        "different_result_from_tfidf = (most_similar_indexes_word_embedding != most_similar_indexes_tfidf)\n",
        "print(f\"Percentage of different results from TFIDF {sum(different_result_from_tfidf) * 100 / len(different_result_from_tfidf)} \")"
      ],
      "execution_count": null,
      "outputs": []
    },
    {
      "cell_type": "code",
      "metadata": {
        "id": "wOwOOGp-4ICI",
        "colab_type": "code",
        "colab": {
          "base_uri": "https://localhost:8080/",
          "height": 1000
        },
        "outputId": "88b3084f-d0ab-4a29-eb06-a42862fcf15a"
      },
      "source": [
        "drafted_laws_index = np.random.randint(len(different_result_from_tfidf), size=10)\n",
        "for i in drafted_laws_index:\n",
        "    if different_result_from_tfidf[i]:\n",
        "        print(f'\\n\\nVETOR DE PALAVRAS:\\n\\n')\n",
        "        print_laws(i, most_similar_indexes_word_embedding[i])\n",
        "        print('\\n\\nTF-IDF:\\n\\n')\n",
        "        print_laws(i, most_similar_indexes_tfidf[i])"
      ],
      "execution_count": null,
      "outputs": []
    },
    {
      "cell_type": "markdown",
      "metadata": {
        "id": "QDqTxHud7z8N",
        "colab_type": "text"
      },
      "source": [
        "Parece que TF-IDF é um pouco melhor na comparação de leis, pq traz resultados mais relevantes quando comparados nome de bairros e ruas. No entanto, a forma vetorizada parece ser boa pra reconhecer formatos da Lei em geral, uma especie de POS, reconhecendo que existe uma entidade alí ou verbo etc. Ao menos foi minha impressão. Cabe mais investigação a respeito.\n",
        "\n",
        "Vale salientar que a qualidade dos vetores parece não estar tão boa. Vide a semelhança de palavras. Como fazer pra consertar isso? Seria muito interessante corrigir isso pra ver as palavras mais semelhantes à educação, saúde etc e também pra visualizar com tsne os clusters gerados a partir daí."
      ]
    },
    {
      "cell_type": "markdown",
      "metadata": {
        "id": "ipPoW9DQ0UAn",
        "colab_type": "text"
      },
      "source": [
        "## Outras opções\n",
        "### Indexar\n",
        "Há outras formas de indexar os documentos e de recuperar, também simples. Uma outra forma de indexar, por exemplo, é fazer um vetor pra cada palavra contando as palavras vizinhas. E depois, o vetor do documento seria a soma dos vetores das palavras. É uma forma interessante porque pode gerar visualizações interessantes entre a similaridade das palavras. Por exemplo, no corpus das Leis Municipais, a quais palavras EDUCAÇÃO mais se assemelha? Ou SAÚDE? Etc.\n",
        "\n",
        "Outra forma é contar n-gramas - por exemplo, bi-gramas: duas palavras juntas formando um token. Dessa forma, você possui uma matriz maior e de certa forma uma relação entre a sequencialidade das palavras, que pode ser útil pra nomes de pessoas e bairros, como citado acima.\n",
        "\n",
        "### Recuperar\n",
        "Outra forma de recuperar é por local sensitive hashing. Divide em vários planos múltiplas vezes e retorna os resultados que estão na mesma região da query. No entanto, o corpus não é grande o suficiente pra precisar essa estratégia, que é mais pra grandes corpora. O método acima (calcular a simlaridade cosseno e retornar os maiores valores) é rápido o suficiente pra parecer instantâneo. Talvez com uma demanda mais alta pelo servidor venha a necessidade de aumentar a velocidade da busca, porém por enquanto não é o caso. Mais sobre recuperação: Google lançou novo método e uma lib pra isso agora, dia 28 de Julho: https://ai.googleblog.com/2020/07/announcing-scann-efficient-vector.html\n",
        "\n",
        "### Avaliação\n",
        "Com múltiplas formas de indexar e recuperar vem o dilema: como avaliar se uma é melhor que a outra? Repetir o processo acima pra todas as opções? Isto é, mostrar N melhores resultados e comparar manualmente? Ou colocar labels em algumas leis? Ex: essa lei trata disso, com tais entidades. Checar formas de avaliação. Se tivesse em produção, podia avaliar por CTR por ex, mas não é o caso"
      ]
    }
  ]
}
