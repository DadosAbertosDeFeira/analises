{
 "cells": [
  {
   "cell_type": "markdown",
   "metadata": {},
   "source": [
    "# Conhecendo os Dados"
   ]
  },
  {
   "cell_type": "code",
   "execution_count": 103,
   "metadata": {
    "tags": []
   },
   "outputs": [
    {
     "name": "stdout",
     "output_type": "stream",
     "text": [
      "<class 'pandas.core.frame.DataFrame'>\n",
      "RangeIndex: 25 entries, 0 to 24\n",
      "Data columns (total 7 columns):\n",
      " #   Column                                                                                                                                      Non-Null Count  Dtype \n",
      "---  ------                                                                                                                                      --------------  ----- \n",
      " 0   Carimbo de data/hora                                                                                                                        25 non-null     object\n",
      " 1   Qual sua atual ocupação (profissão ou estudante)?                                                                                           23 non-null     object\n",
      " 2   Com qual frequência você busca por informações fornecidas pela prefeitura de Feira de Santana?                                              25 non-null     object\n",
      " 3   Que tipo de informação você ESPERA encontrar no Dados abertos de Feira? (Coisas que você acredita que é certeza ter)                        25 non-null     object\n",
      " 4   Que tipo de informação você GOSTARIA que tivesse em um portal de transparência de dados da cidade? (Coisas que vão além do obrigado a ter)  24 non-null     object\n",
      " 5   O que lhe faria voltar a consultar o portal Dados abertos de Feira com frequência?                                                          25 non-null     object\n",
      " 6   Quais sites você usa ou já usou para pesquisar esses dados?                                                                                 9 non-null      object\n",
      "dtypes: object(7)\n",
      "memory usage: 1.5+ KB\n"
     ]
    }
   ],
   "source": [
    "import pandas as pd\n",
    "import matplotlib.pyplot as plt\n",
    "import numpy as np\n",
    "from unidecode import unidecode\n",
    "\n",
    "pesquisa = pd.read_csv('resultados-pesquisa-anonimizado.csv')\n",
    "pesquisa.info()"
   ]
  },
  {
   "cell_type": "code",
   "execution_count": 104,
   "metadata": {},
   "outputs": [
    {
     "data": {
      "text/html": [
       "<div>\n",
       "<style scoped>\n",
       "    .dataframe tbody tr th:only-of-type {\n",
       "        vertical-align: middle;\n",
       "    }\n",
       "\n",
       "    .dataframe tbody tr th {\n",
       "        vertical-align: top;\n",
       "    }\n",
       "\n",
       "    .dataframe thead th {\n",
       "        text-align: right;\n",
       "    }\n",
       "</style>\n",
       "<table border=\"1\" class=\"dataframe\">\n",
       "  <thead>\n",
       "    <tr style=\"text-align: right;\">\n",
       "      <th></th>\n",
       "      <th>Carimbo de data/hora</th>\n",
       "      <th>Qual sua atual ocupação (profissão ou estudante)?</th>\n",
       "      <th>Com qual frequência você busca por informações fornecidas pela prefeitura de Feira de Santana?</th>\n",
       "      <th>Que tipo de informação você ESPERA encontrar no Dados abertos de Feira? (Coisas que você acredita que é certeza ter)</th>\n",
       "      <th>Que tipo de informação você GOSTARIA que tivesse em um portal de transparência de dados da cidade? (Coisas que vão além do obrigado a ter)</th>\n",
       "      <th>O que lhe faria voltar a consultar o portal Dados abertos de Feira com frequência?</th>\n",
       "      <th>Quais sites você usa ou já usou para pesquisar esses dados?</th>\n",
       "    </tr>\n",
       "  </thead>\n",
       "  <tbody>\n",
       "    <tr>\n",
       "      <th>count</th>\n",
       "      <td>25</td>\n",
       "      <td>23</td>\n",
       "      <td>25</td>\n",
       "      <td>25</td>\n",
       "      <td>24</td>\n",
       "      <td>25</td>\n",
       "      <td>9</td>\n",
       "    </tr>\n",
       "    <tr>\n",
       "      <th>unique</th>\n",
       "      <td>25</td>\n",
       "      <td>20</td>\n",
       "      <td>6</td>\n",
       "      <td>25</td>\n",
       "      <td>24</td>\n",
       "      <td>25</td>\n",
       "      <td>8</td>\n",
       "    </tr>\n",
       "  </tbody>\n",
       "</table>\n",
       "</div>"
      ],
      "text/plain": [
       "       Carimbo de data/hora  \\\n",
       "count                    25   \n",
       "unique                   25   \n",
       "\n",
       "       Qual sua atual ocupação (profissão ou estudante)?   \\\n",
       "count                                                  23   \n",
       "unique                                                 20   \n",
       "\n",
       "       Com qual frequência você busca por informações fornecidas pela prefeitura de Feira de Santana?  \\\n",
       "count                                                  25                                               \n",
       "unique                                                  6                                               \n",
       "\n",
       "       Que tipo de informação você ESPERA encontrar no Dados abertos de Feira? (Coisas que você acredita que é certeza ter)  \\\n",
       "count                                                  25                                                                     \n",
       "unique                                                 25                                                                     \n",
       "\n",
       "       Que tipo de informação você GOSTARIA que tivesse em um portal de transparência de dados da cidade? (Coisas que vão além do obrigado a ter)  \\\n",
       "count                                                  24                                                                                           \n",
       "unique                                                 24                                                                                           \n",
       "\n",
       "       O que lhe faria voltar a consultar o portal Dados abertos de Feira com frequência?  \\\n",
       "count                                                  25                                   \n",
       "unique                                                 25                                   \n",
       "\n",
       "       Quais sites você usa ou já usou para pesquisar esses dados?  \n",
       "count                                                   9           \n",
       "unique                                                  8           "
      ]
     },
     "execution_count": 104,
     "metadata": {},
     "output_type": "execute_result"
    }
   ],
   "source": [
    "pesquisa.describe()[:2]"
   ]
  },
  {
   "cell_type": "markdown",
   "metadata": {},
   "source": [
    "Inicialmente, podemos ver que todos os campos do resultado da pesquisa consistem de objetos, provavelmente representando informações textuais. Isso também é resultado da forma como os dados foram armazenados na planilha no Google Sheets.\n",
    "\n",
    "Analisando as colunas, podemos considerar que a informação de data/hora da resposta da pesquisa pode ser descartada, já que não traz um dado que possa ser analisado em conjunto com os demais, representando apenas o momento em que aquela resposta foi preenchida.\n",
    "\n",
    "A maioria das demais colunas possuem quase que todos os registros com valores únicos. Supondo que isso seja resultado da inserção da informação por um campo de texto, podemos tentar analisar respostas que sejam semelhantes e agrupá-las, criando categorias que possam ser mais úteis para a análise.\n",
    "\n",
    "A coluna que menos apresenta valores únicos para os seus registros é a pergunta <i>\"Com qual frequência você busca por informações fornecidas pela prefeitura de Feira de Santana?\"</i>. Supondo que a pergunta tenha disponibilizado opções para resposta, isso faz sentido. Ainda assim, a pergunta supõe uma ordenação entre as respostas, que buscaremos evidenciar."
   ]
  },
  {
   "cell_type": "code",
   "execution_count": 105,
   "metadata": {},
   "outputs": [],
   "source": [
    "pesquisa.drop(['Carimbo de data/hora'], axis=1, inplace=True)"
   ]
  },
  {
   "cell_type": "markdown",
   "metadata": {},
   "source": [
    "# Limpeza e Exibição dos Dados"
   ]
  },
  {
   "cell_type": "markdown",
   "metadata": {},
   "source": [
    "## Ocupação"
   ]
  },
  {
   "cell_type": "code",
   "execution_count": 106,
   "metadata": {},
   "outputs": [
    {
     "data": {
      "text/plain": [
       "array([nan, 'Representante', 'Recepcionista', 'Professora',\n",
       "       'Publicitário e locutor ', 'Promotor de Vendas',\n",
       "       'Polícial Militar', 'Community Manager', 'Publicitária',\n",
       "       'Estudante', 'Policial militar ', 'Professora ', 'Estudante ',\n",
       "       'Bombeiro militar ', 'Professor', 'Desenvolvedor', 'Jornalista',\n",
       "       'Jornalista ', 'Servidor Público', 'Desenvolvedor ', 'Empresário '],\n",
       "      dtype=object)"
      ]
     },
     "execution_count": 106,
     "metadata": {},
     "output_type": "execute_result"
    }
   ],
   "source": [
    "pesquisa['Qual sua atual ocupação (profissão ou estudante)? '].unique()"
   ]
  },
  {
   "cell_type": "markdown",
   "metadata": {},
   "source": [
    "Vendo os resultados únicos e o texto da coluna para a pergunta sobre ocupação, podemos fazer uma breve limpeza nos dados e classificação, criando uma nova coluna."
   ]
  },
  {
   "cell_type": "code",
   "execution_count": 107,
   "metadata": {},
   "outputs": [],
   "source": [
    "pesquisa['OCUPACAO'] = pesquisa['Qual sua atual ocupação (profissão ou estudante)? '].fillna('Não informado').apply(str.strip).apply(str.title)"
   ]
  },
  {
   "cell_type": "code",
   "execution_count": 108,
   "metadata": {},
   "outputs": [
    {
     "data": {
      "text/plain": [
       "array(['Bombeiro Militar', 'Community Manager', 'Desenvolvedor',\n",
       "       'Empresário', 'Estudante', 'Jornalista', 'Não Informado',\n",
       "       'Policial Militar', 'Polícial Militar', 'Professor', 'Professora',\n",
       "       'Promotor De Vendas', 'Publicitária', 'Publicitário E Locutor',\n",
       "       'Recepcionista', 'Representante', 'Servidor Público'], dtype=object)"
      ]
     },
     "execution_count": 108,
     "metadata": {},
     "output_type": "execute_result"
    }
   ],
   "source": [
    "pesquisa['OCUPACAO'].sort_values().unique()"
   ]
  },
  {
   "cell_type": "markdown",
   "metadata": {},
   "source": [
    "Analisando novamente as profissões, podemos considerar algumas categorias.\n",
    "\n",
    "\"Bombeiro Militar\", \"Policial Militar\" e \"Polícial Militar\" podem ser agrupados em uma categoria \"Militar\".\n",
    "\n",
    "\"Professor\" e \"Professora\" podem ser agrupados em \"Professor/Professora\".\n",
    "\n",
    "\"Promotor De Vendas\" e \"Representante\" podem ser agrupados em \"Vendas\".\n",
    "\n",
    "\"Publicitária\" e \"Publicitário E Locutor\" podem ser agrupados em \"Publicitário/Publicitária\".\n",
    "\n",
    "As demais ocupações não parecem se agrupar naturalmente. "
   ]
  },
  {
   "cell_type": "code",
   "execution_count": 109,
   "metadata": {},
   "outputs": [],
   "source": [
    "def categorize_profession(profession):\n",
    "    if 'militar' in profession.lower():\n",
    "        return 'Militar'\n",
    "    if 'professor' in profession.lower():\n",
    "        return 'Professor/Professora'\n",
    "    if profession in ('Promotor De Vendas', 'Representante'):\n",
    "        return 'Vendedor/Representante'\n",
    "    if 'publicit' in profession.lower():\n",
    "        return 'Publicitário/Publicitária'\n",
    "    if 'community manager' in profession.lower():\n",
    "        return 'Organizador de Comunidade'\n",
    "    else:\n",
    "        return profession\n",
    "\n",
    "pesquisa['OCUPACAO_CATEGORY'] = pesquisa['OCUPACAO'].apply(categorize_profession)"
   ]
  },
  {
   "cell_type": "code",
   "execution_count": 110,
   "metadata": {},
   "outputs": [
    {
     "data": {
      "text/plain": [
       "<matplotlib.axes._subplots.AxesSubplot at 0x7f0d068ed700>"
      ]
     },
     "execution_count": 110,
     "metadata": {},
     "output_type": "execute_result"
    },
    {
     "data": {
      "image/png": "[encoded data removed]",
      "text/plain": [
       "<Figure size 432x288 with 1 Axes>"
      ]
     },
     "metadata": {
      "needs_background": "light"
     },
     "output_type": "display_data"
    }
   ],
   "source": [
    "pesquisa.groupby('OCUPACAO_CATEGORY').size().sort_values().plot(kind='barh', title='Ocupação Profissional')"
   ]
  },
  {
   "cell_type": "markdown",
   "metadata": {},
   "source": [
    "## Frequência de Busca de Informações"
   ]
  },
  {
   "cell_type": "code",
   "execution_count": 111,
   "metadata": {},
   "outputs": [],
   "source": [
    "# Reescrevendo a resposta em uma escrita mais concisa\n",
    "pesquisa.loc[pesquisa['Com qual frequência você busca por informações fornecidas pela prefeitura de Feira de Santana?'] == 'Depende da semana, mas geralmente mais de uma vez por semana. ', 'Com qual frequência você busca por informações fornecidas pela prefeitura de Feira de Santana?'] = 'Mais de 1 vez por semana'"
   ]
  },
  {
   "cell_type": "code",
   "execution_count": 112,
   "metadata": {},
   "outputs": [
    {
     "data": {
      "text/plain": [
       "Todos os dias               9\n",
       "1 vez por semana            7\n",
       "1 vez por mês               3\n",
       "Quase nunca                 3\n",
       "Nunca busquei               2\n",
       "Mais de 1 vez por semana    1\n",
       "Name: Com qual frequência você busca por informações fornecidas pela prefeitura de Feira de Santana?, dtype: int64"
      ]
     },
     "execution_count": 112,
     "metadata": {},
     "output_type": "execute_result"
    }
   ],
   "source": [
    "pesquisa['Com qual frequência você busca por informações fornecidas pela prefeitura de Feira de Santana?'].value_counts()"
   ]
  },
  {
   "cell_type": "markdown",
   "metadata": {},
   "source": [
    "As informações já estão bem descritas, e podemos exibir os dados de forma ordenada."
   ]
  },
  {
   "cell_type": "code",
   "execution_count": 113,
   "metadata": {},
   "outputs": [
    {
     "data": {
      "text/plain": [
       "<matplotlib.axes._subplots.AxesSubplot at 0x7f0d06877fd0>"
      ]
     },
     "execution_count": 113,
     "metadata": {},
     "output_type": "execute_result"
    },
    {
     "data": {
      "image/png": "[encoded data removed]",
      "text/plain": [
       "<Figure size 432x288 with 1 Axes>"
      ]
     },
     "metadata": {
      "needs_background": "light"
     },
     "output_type": "display_data"
    }
   ],
   "source": [
    "order = ['Todos os dias', 'Mais de 1 vez por semana', '1 vez por semana', '1 vez por mês', 'Quase nunca', 'Nunca busquei']\n",
    "pesquisa['Com qual frequência você busca por informações fornecidas pela prefeitura de Feira de Santana?'].value_counts().reindex(order).plot(kind='barh', title='Frequência de busca de informações')"
   ]
  },
  {
   "cell_type": "markdown",
   "metadata": {},
   "source": [
    "## Expectativa das Informações"
   ]
  },
  {
   "cell_type": "code",
   "execution_count": 114,
   "metadata": {},
   "outputs": [
    {
     "data": {
      "text/plain": [
       "Informações fieis e precisas                                                                                                                                                                                                   1\n",
       "Destinação da verbas da saúde e educação                                                                                                                                                                                       1\n",
       "Urbanizaçao da cidade                                                                                                                                                                                                          1\n",
       "Valores gastos                                                                                                                                                                                                                 1\n",
       "Noticias em geral                                                                                                                                                                                                              1\n",
       "Verbas federais                                                                                                                                                                                                                1\n",
       "Dados sobre obras, e investimentos da prefeitura em saúde, segurança e educação.                                                                                                                                               1\n",
       "Código de obras                                                                                                                                                                                                                1\n",
       "Verbas, investimentos, receitas, despesas...                                                                                                                                                                                   1\n",
       "Informações de diferentes áreas (saúde, educação, obras) com análises e filtros                                                                                                                                                1\n",
       "Datas, Valores, Dados da Empresa (e se possível outros contratos que ela está envolvida)                                                                                                                                       1\n",
       "Gastos da prefeitura e da Câmara com compras e salário.                                                                                                                                                                        1\n",
       "Relato populacional                                                                                                                                                                                                            1\n",
       "Saúde                                                                                                                                                                                                                          1\n",
       "Informação de verdade, sem sensacionalismo                                                                                                                                                                                     1\n",
       "Dados detalhados                                                                                                                                                                                                               1\n",
       "Quantitativos de ruas pavimentadas / Quantitativos de unidades de saúde (PSF/UPA/ UNIDADES BÁSICAS DE SAÚDE) construídas ou reformadas / Quantitativos de escolas (constuidas ou reformadas) e o gasto de cada ação dessas.    1\n",
       "Gastos públicos                                                                                                                                                                                                                1\n",
       "Gastos públicos                                                                                                                                                                                                                1\n",
       "Informações atualizadas de como está sendo empregado o dinheiro público e também do dinheiro que não está sendo utilizado.                                                                                                     1\n",
       "Transparência despesas. Gestão dos recursos do município “Ex: Tributos Municipais”                                                                                                                                             1\n",
       "Despesas com o município                                                                                                                                                                                                       1\n",
       "Despesas com saude e educação                                                                                                                                                                                                  1\n",
       "Informações referente a saúde e segurança do município de Feira de Santana.                                                                                                                                                    1\n",
       "Sobre melhorias nas ruas e bairros                                                                                                                                                                                             1\n",
       "Name: Que tipo de informação você ESPERA encontrar no Dados abertos de Feira? (Coisas que você acredita que é certeza ter), dtype: int64"
      ]
     },
     "execution_count": 114,
     "metadata": {},
     "output_type": "execute_result"
    }
   ],
   "source": [
    "pesquisa['Que tipo de informação você ESPERA encontrar no Dados abertos de Feira? (Coisas que você acredita que é certeza ter)'].value_counts()"
   ]
  },
  {
   "cell_type": "markdown",
   "metadata": {},
   "source": [
    "Podemos notar que todas as respostas são distintas entre si, provavelmente resultado da coleta através de uma caixa de texto.\n",
    "\n",
    "Assim como fizemos em outras perguntas, podemos estabelecer categorias através de palavras-chave. Como a quantidade de respostas não é muito extensa, é possível fazer uma análise em cada uma das respostas.\n",
    "\n",
    "Em uma observação das respostas, podemos estabelecer as seguintes categorias:\n",
    "\n",
    "1. Investimentos (infraestrutura, despesas gerais, salário);\n",
    "2. Saúde;\n",
    "3. Educação;\n",
    "4. Segurança;\n",
    "5. Orçamento (verba);\n",
    "6. Transparência;\n",
    "7. Outros;\n",
    "\n",
    "Uma resposta pode estar representada em mais de uma categoria. Assim, a soma das categorias pode ser maior que a quantidade de respostas obtidas."
   ]
  },
  {
   "cell_type": "code",
   "execution_count": 115,
   "metadata": {},
   "outputs": [],
   "source": [
    "def categorize_expectation_public_investments(answer):\n",
    "    if any(x in unidecode(answer.lower()) for x in [\n",
    "        'servidor', 'investimento', 'obra', 'urbanizacao',\n",
    "        'salario', 'compra', 'dinheiro', 'bairro', 'recurso',\n",
    "        'gasto', 'licitacao', 'licitacoes']\n",
    "    ):\n",
    "        return 1\n",
    "    return 0\n",
    "\n",
    "def categorize_expectation_public_health(answer):\n",
    "    if any(x in unidecode(answer.lower()) for x in ['saude']):\n",
    "        return 1\n",
    "    return 0\n",
    "\n",
    "def categorize_expectation_public_education(answer):\n",
    "    if any(x in unidecode(answer.lower()) for x in ['educacao', 'escola', 'colegio']):\n",
    "        return 1\n",
    "    return 0\n",
    "\n",
    "def categorize_expectation_public_safety(answer):\n",
    "    if any(x in unidecode(answer.lower()) for x in ['seguranca']):\n",
    "        return 1\n",
    "    return 0\n",
    "\n",
    "def categorize_expectation_public_budget(answer):\n",
    "    if any(x in unidecode(answer.lower()) for x in ['verba', 'dinheiro', 'receita']):\n",
    "        return 1\n",
    "    return 0\n",
    "\n",
    "def categorize_expectation_public_transparency(answer):\n",
    "    if any(x in unidecode(answer.lower()) for x in [\n",
    "        'informacoes', 'informacao', 'transparencia',\n",
    "        'gasto', 'dados', 'verdade', 'clareza']\n",
    "    ):\n",
    "        return 1\n",
    "    return 0\n",
    "\n",
    "def categorize_expectation_others(answer):\n",
    "    if any(x in unidecode(answer.lower()) for x in ['geral', 'relato', 'proposta', 'grafico']):\n",
    "        return 1\n",
    "    return 0\n",
    "\n",
    "def categorize_information(answer):\n",
    "    if any(x in unidecode(answer.lower()) for x in [\n",
    "        'retorno', 'gastos', 'questionamento', 'atende',\n",
    "        'conteudo', 'informacao', 'informacoes', 'dados',\n",
    "        'confiabilidade', 'resumo', 'divulgacao']\n",
    "    ):\n",
    "        return 1\n",
    "    return 0\n",
    "\n",
    "def categorize_frequency(answer):\n",
    "    if any(x in unidecode(answer.lower()) for x in [\n",
    "        'frequente', 'atualizacao', 'tempo real', 'atualizados', 'atualizadas']\n",
    "    ):\n",
    "        return 1\n",
    "    return 0\n",
    "\n",
    "def categorize_usability(answer):\n",
    "    if any(x in unidecode(answer.lower()) for x in ['facilidade', 'intuitiva', 'intuitivo',]):\n",
    "        return 1\n",
    "    return 0\n",
    "\n",
    "pesquisa['ANSWER_INVESTMENT'] = pesquisa['Que tipo de informação você ESPERA encontrar no Dados abertos de Feira? (Coisas que você acredita que é certeza ter)'].apply(categorize_expectation_public_investments)\n",
    "\n",
    "pesquisa['ANSWER_HEALTH'] = pesquisa['Que tipo de informação você ESPERA encontrar no Dados abertos de Feira? (Coisas que você acredita que é certeza ter)'].apply(categorize_expectation_public_health)\n",
    "\n",
    "pesquisa['ANSWER_EDUCATION'] = pesquisa['Que tipo de informação você ESPERA encontrar no Dados abertos de Feira? (Coisas que você acredita que é certeza ter)'].apply(categorize_expectation_public_education)\n",
    "\n",
    "pesquisa['ANSWER_SAFETY'] = pesquisa['Que tipo de informação você ESPERA encontrar no Dados abertos de Feira? (Coisas que você acredita que é certeza ter)'].apply(categorize_expectation_public_safety)\n",
    "\n",
    "pesquisa['ANSWER_BUDGET'] = pesquisa['Que tipo de informação você ESPERA encontrar no Dados abertos de Feira? (Coisas que você acredita que é certeza ter)'].apply(categorize_expectation_public_budget)\n",
    "\n",
    "pesquisa['ANSWER_TRANSPARENCY'] = pesquisa['Que tipo de informação você ESPERA encontrar no Dados abertos de Feira? (Coisas que você acredita que é certeza ter)'].apply(categorize_expectation_public_transparency)\n",
    "\n",
    "pesquisa['ANSWER_OTHERS'] = pesquisa['Que tipo de informação você ESPERA encontrar no Dados abertos de Feira? (Coisas que você acredita que é certeza ter)'].apply(categorize_expectation_others)"
   ]
  },
  {
   "cell_type": "code",
   "execution_count": 116,
   "metadata": {},
   "outputs": [
    {
     "data": {
      "text/plain": [
       "<matplotlib.axes._subplots.AxesSubplot at 0x7f0d0723cfa0>"
      ]
     },
     "execution_count": 116,
     "metadata": {},
     "output_type": "execute_result"
    },
    {
     "data": {
      "image/png": "[encoded data removed]",
      "text/plain": [
       "<Figure size 432x288 with 1 Axes>"
      ]
     },
     "metadata": {
      "needs_background": "light"
     },
     "output_type": "display_data"
    }
   ],
   "source": [
    "labels = {'ANSWER_INVESTMENT': 'INVESTIMENTO', 'ANSWER_HEALTH': 'SAÚDE', 'ANSWER_EDUCATION': 'EDUCAÇÃO', 'ANSWER_SAFETY': 'SEGURANÇA', 'ANSWER_BUDGET': 'ORÇAMENTO', 'ANSWER_TRANSPARENCY': 'TRANSPARÊNCIA', 'ANSWER_OTHERS': 'OUTROS'}\n",
    "pesquisa[['ANSWER_INVESTMENT', 'ANSWER_HEALTH', 'ANSWER_EDUCATION', 'ANSWER_SAFETY', 'ANSWER_BUDGET', 'ANSWER_TRANSPARENCY', 'ANSWER_OTHERS']].apply(np.sum).rename(index=labels).sort_values().plot(kind='barh', title='Expectativa do tipo de informação')"
   ]
  },
  {
   "cell_type": "markdown",
   "metadata": {},
   "source": [
    "## Informações Adicionais"
   ]
  },
  {
   "cell_type": "code",
   "execution_count": 117,
   "metadata": {},
   "outputs": [
    {
     "data": {
      "text/plain": [
       "Gastos com obras, saúde, segurança, educação e propaganda.                                                                                           1\n",
       "Quadro de servidores/setor, efetivos x prestadores...                                                                                                1\n",
       "Salários , despesas extras , licitações ,e principalmente gastos com a Câmara de veriadores .                                                        1\n",
       "Gestão dos recursos oriundos do município                                                                                                            1\n",
       "Transparência                                                                                                                                        1\n",
       "Verbas que são direcionadas a cidade e não são bem utilizadas, demoram de serem utilizadas ou até que poderiam ser empregadas para outras áreas.     1\n",
       "Dados econômicos de forma geral.                                                                                                                     1\n",
       "Despesas e licitaçao das obras                                                                                                                       1\n",
       "incentivar o mercado de bairros                                                                                                                      1\n",
       "Gostaria de saber principalmente como o governo do estado, juntamente com a prefeitura gerencia a verba.                                             1\n",
       "Informações detalhadas e acessíveis sobre o andamento da atuação dos representantes municipais. Como: assiduidade e projetos propostos               1\n",
       "Gastos detalhado de cada vereador e do prefeito e secretários, com passagens, alimentação, etc                                                       1\n",
       "Os gastos com pagamentos  dos  cargos  de confiança, e  serviços  principalmente sem licitação.                                                      1\n",
       "Obras e para onde vai nosso dinheiro                                                                                                                 1\n",
       "Gráficos relacionados por área.                                                                                                                      1\n",
       "O que é gasto por cada secretaria e onde é aplicado                                                                                                  1\n",
       "Projetos de infraestrutura e desenvolvimento em execução e os que serão realizados pela prefeitura por região da cidade                              1\n",
       "Dados sobre investimentos por bairro                                                                                                                 1\n",
       "Obras inacabadas                                                                                                                                     1\n",
       "O valor real de mercado do que entra em processo de licitação uma vez que os valores expostos e das empresas que ganham são exorbitantes             1\n",
       "Noticias sobre potiticas                                                                                                                             1\n",
       "Recursos publicos                                                                                                                                    1\n",
       "Dados detalhados                                                                                                                                     1\n",
       "Propostas e exitos positivos dos governantes                                                                                                         1\n",
       "Name: Que tipo de informação você GOSTARIA que tivesse em um portal de transparência de dados da cidade? (Coisas que vão além do obrigado a ter), dtype: int64"
      ]
     },
     "execution_count": 117,
     "metadata": {},
     "output_type": "execute_result"
    }
   ],
   "source": [
    "pesquisa['Que tipo de informação você GOSTARIA que tivesse em um portal de transparência de dados da cidade? (Coisas que vão além do obrigado a ter)'].value_counts()"
   ]
  },
  {
   "cell_type": "markdown",
   "metadata": {},
   "source": [
    "Em relação à pergunta de quais informações seria interessante existirem no portal (indo além do obrigatório), novamente temos respostas únicas para cada respondente. Isso é esperado, decorrente da forma discursiva da coleta dos dados. Faremos a categorização de forma semelhante à pergunta anterior."
   ]
  },
  {
   "cell_type": "code",
   "execution_count": 118,
   "metadata": {
    "tags": []
   },
   "outputs": [],
   "source": [
    "pesquisa['Que tipo de informação você GOSTARIA que tivesse em um portal de transparência de dados da cidade? (Coisas que vão além do obrigado a ter)'] = pesquisa['Que tipo de informação você GOSTARIA que tivesse em um portal de transparência de dados da cidade? (Coisas que vão além do obrigado a ter)'].fillna('')"
   ]
  },
  {
   "cell_type": "code",
   "execution_count": 119,
   "metadata": {},
   "outputs": [],
   "source": [
    "pesquisa['SECOND_ANSWER_INVESTMENT'] = pesquisa['Que tipo de informação você GOSTARIA que tivesse em um portal de transparência de dados da cidade? (Coisas que vão além do obrigado a ter)'].apply(categorize_expectation_public_investments)\n",
    "\n",
    "pesquisa['SECOND_ANSWER_HEALTH'] = pesquisa['Que tipo de informação você GOSTARIA que tivesse em um portal de transparência de dados da cidade? (Coisas que vão além do obrigado a ter)'].apply(categorize_expectation_public_health)\n",
    "\n",
    "pesquisa['SECOND_ANSWER_EDUCATION'] = pesquisa['Que tipo de informação você GOSTARIA que tivesse em um portal de transparência de dados da cidade? (Coisas que vão além do obrigado a ter)'].apply(categorize_expectation_public_education)\n",
    "\n",
    "pesquisa['SECOND_ANSWER_SAFETY'] = pesquisa['Que tipo de informação você GOSTARIA que tivesse em um portal de transparência de dados da cidade? (Coisas que vão além do obrigado a ter)'].apply(categorize_expectation_public_safety)\n",
    "\n",
    "pesquisa['SECOND_ANSWER_BUDGET'] = pesquisa['Que tipo de informação você GOSTARIA que tivesse em um portal de transparência de dados da cidade? (Coisas que vão além do obrigado a ter)'].apply(categorize_expectation_public_budget)\n",
    "\n",
    "pesquisa['SECOND_ANSWER_TRANSPARENCY'] = pesquisa['Que tipo de informação você GOSTARIA que tivesse em um portal de transparência de dados da cidade? (Coisas que vão além do obrigado a ter)'].apply(categorize_expectation_public_transparency)\n",
    "\n",
    "pesquisa['SECOND_ANSWER_OTHERS'] = pesquisa['Que tipo de informação você GOSTARIA que tivesse em um portal de transparência de dados da cidade? (Coisas que vão além do obrigado a ter)'].apply(categorize_expectation_others)"
   ]
  },
  {
   "cell_type": "code",
   "execution_count": 120,
   "metadata": {},
   "outputs": [
    {
     "data": {
      "text/plain": [
       "<matplotlib.axes._subplots.AxesSubplot at 0x7f0d06966430>"
      ]
     },
     "execution_count": 120,
     "metadata": {},
     "output_type": "execute_result"
    },
    {
     "data": {
      "image/png": "[encoded data removed]",
      "text/plain": [
       "<Figure size 432x288 with 1 Axes>"
      ]
     },
     "metadata": {
      "needs_background": "light"
     },
     "output_type": "display_data"
    }
   ],
   "source": [
    "labels = {'SECOND_ANSWER_INVESTMENT': 'INVESTIMENTO', 'SECOND_ANSWER_HEALTH': 'SAÚDE', 'SECOND_ANSWER_EDUCATION': 'EDUCAÇÃO', 'SECOND_ANSWER_SAFETY': 'SEGURANÇA', 'SECOND_ANSWER_BUDGET': 'ORÇAMENTO', 'SECOND_ANSWER_TRANSPARENCY': 'TRANSPARÊNCIA', 'SECOND_ANSWER_OTHERS': 'OUTROS'}\n",
    "pesquisa[['SECOND_ANSWER_INVESTMENT', 'SECOND_ANSWER_HEALTH', 'SECOND_ANSWER_EDUCATION', 'SECOND_ANSWER_SAFETY', 'SECOND_ANSWER_BUDGET', 'SECOND_ANSWER_TRANSPARENCY', 'SECOND_ANSWER_OTHERS']].apply(np.sum).rename(index=labels).sort_values().plot(kind='barh', title='Informações além do obrigatório')"
   ]
  },
  {
   "cell_type": "markdown",
   "metadata": {},
   "source": [
    "## Incentivo a Retorno"
   ]
  },
  {
   "cell_type": "code",
   "execution_count": 121,
   "metadata": {},
   "outputs": [
    {
     "data": {
      "text/plain": [
       "Informações detalhadas e atualizadas                                   1\n",
       "Transparência e lisura das informações disponibilizadas                1\n",
       "A transparência.                                                       1\n",
       "Constante atualização, assuntos relevantes para o bairro e cidade.     1\n",
       "Saber se meus questionamentos foram aceitos                            1\n",
       "Necessidade de ter atualização dos dados                               1\n",
       "A manutenção de informações em tempo real                              1\n",
       "Clareza.                                                               1\n",
       "Dados atualizados e diversos.                                          1\n",
       "Conteúdos com fontes e pequenos vídeos de resumo                       1\n",
       "Clareza de dados                                                       1\n",
       "Notícias verdadeiras                                                   1\n",
       "Informações atualizadas frequentemente                                 1\n",
       "Facilidade na navegação                                                1\n",
       "Os gastos                                                              1\n",
       "Bom conteúdo                                                           1\n",
       "Uma divulgação e acesso mais ambro.                                    1\n",
       "Informações sobre a cidade                                             1\n",
       "Retorno                                                                1\n",
       "informações Claras e seguras                                           1\n",
       "Interface intuitiva e quantidade de informações.                       1\n",
       "A seriedade  e confiabilidade.                                         1\n",
       "Se atendesse as nossas necessidades esperadas                          1\n",
       "Clareza e facilidade                                                   1\n",
       "Informação de verdade                                                  1\n",
       "Name: O que lhe faria voltar a consultar o portal Dados abertos de Feira com frequência?, dtype: int64"
      ]
     },
     "execution_count": 121,
     "metadata": {},
     "output_type": "execute_result"
    }
   ],
   "source": [
    "pesquisa['O que lhe faria voltar a consultar o portal Dados abertos de Feira com frequência?'].value_counts()"
   ]
  },
  {
   "cell_type": "markdown",
   "metadata": {},
   "source": [
    "Para a questão \"O que lhe faria voltar a consultar o portal Dados abertos de Feira com frequência?\", temos novamente respostas diferentes entre os respondentes. Faremos uma categorização assim como nas perguntas anteriores."
   ]
  },
  {
   "cell_type": "code",
   "execution_count": 122,
   "metadata": {},
   "outputs": [],
   "source": [
    "pesquisa['THIRD_ANSWER_INFO'] = pesquisa['O que lhe faria voltar a consultar o portal Dados abertos de Feira com frequência?'].apply(categorize_information)\n",
    "\n",
    "pesquisa['THIRD_ANSWER_FREQ'] = pesquisa['O que lhe faria voltar a consultar o portal Dados abertos de Feira com frequência?'].apply(categorize_frequency)\n",
    "\n",
    "pesquisa['THIRD_ANSWER_USABILITY'] = pesquisa['O que lhe faria voltar a consultar o portal Dados abertos de Feira com frequência?'].apply(categorize_usability)"
   ]
  },
  {
   "cell_type": "code",
   "execution_count": 123,
   "metadata": {},
   "outputs": [
    {
     "data": {
      "text/plain": [
       "<matplotlib.axes._subplots.AxesSubplot at 0x7f0d06783970>"
      ]
     },
     "execution_count": 123,
     "metadata": {},
     "output_type": "execute_result"
    },
    {
     "data": {
      "image/png": "[encoded data removed]",
      "text/plain": [
       "<Figure size 432x288 with 1 Axes>"
      ]
     },
     "metadata": {
      "needs_background": "light"
     },
     "output_type": "display_data"
    }
   ],
   "source": [
    "labels = {'THIRD_ANSWER_INFO': 'QUALIDADE DA INFORMAÇÃO', 'THIRD_ANSWER_FREQ': 'FREQUÊNCIA DA INFORMAÇÃO', 'THIRD_ANSWER_USABILITY': 'SISTEMA INTUITIVO'}\n",
    "pesquisa[['THIRD_ANSWER_INFO', 'THIRD_ANSWER_FREQ', 'THIRD_ANSWER_USABILITY']].apply(np.sum).rename(index=labels).sort_values().plot(kind='barh', title='O que me faria voltar a utilizar o portal?', xticks=np.arange(2, 22, 2))"
   ]
  },
  {
   "cell_type": "markdown",
   "metadata": {},
   "source": [
    "## Outras Fontes de Informação"
   ]
  },
  {
   "cell_type": "code",
   "execution_count": 124,
   "metadata": {},
   "outputs": [
    {
     "data": {
      "text/plain": [
       "Nenhum                                                            17\n",
       "Acorda cidade                                                      2\n",
       "Site do Acorda cidade                                              1\n",
       "Acorda Cidade                                                      1\n",
       "Prefeitura, jornais, DO...                                         1\n",
       "Acorda cidade                                                      1\n",
       "Sites informativos e midiáticos da cidade de Feira de Santana.     1\n",
       "Só o da prefeitura                                                 1\n",
       "Name: Quais sites você usa ou já usou para pesquisar esses dados?, dtype: int64"
      ]
     },
     "execution_count": 124,
     "metadata": {},
     "output_type": "execute_result"
    }
   ],
   "source": [
    "pesquisa['Quais sites você usa ou já usou para pesquisar esses dados?'] = pesquisa['Quais sites você usa ou já usou para pesquisar esses dados?'].fillna('Nenhum')\n",
    "pesquisa['Quais sites você usa ou já usou para pesquisar esses dados?'].value_counts()"
   ]
  },
  {
   "cell_type": "markdown",
   "metadata": {},
   "source": [
    "Podemos ver que existem algumas respostas semelhantes, embora a maior parte dos respondentes não tenha informado outra fonte de informação dos dados municipais. De qualquer forma, precisamos categorizar algumas das informações. Apesar do Acorda Cidade ser um website, pela quantidade expressiva de respostas, vamos separá-lo em uma categoria própria."
   ]
  },
  {
   "cell_type": "code",
   "execution_count": 125,
   "metadata": {},
   "outputs": [],
   "source": [
    "def categorize_acorda_cidade(answer):\n",
    "    if any(x in unidecode(answer.lower()).strip() for x in ['acorda cidade']):\n",
    "        return 1\n",
    "    return 0\n",
    "\n",
    "def categorize_prefeitura(answer):\n",
    "    if any(x in unidecode(answer.lower()).strip() for x in ['prefeitura']):\n",
    "        return 1\n",
    "    return 0\n",
    "\n",
    "def categorize_diario_oficial(answer):\n",
    "    if any(x in unidecode(answer) for x in ['DO', 'oficial']):\n",
    "        return 1\n",
    "    return 0\n",
    "\n",
    "def categorize_sites(answer):\n",
    "    if any(x in unidecode(answer.lower()).strip() for x in ['sites', 'jornal', 'jornais']):\n",
    "        return 1\n",
    "    return 0\n",
    "\n",
    "def categorize_none(answer):\n",
    "    if any(x in unidecode(answer.lower()).strip() for x in ['nenhum']):\n",
    "        return 1\n",
    "    return 0\n",
    "    "
   ]
  },
  {
   "cell_type": "code",
   "execution_count": 126,
   "metadata": {},
   "outputs": [],
   "source": [
    "pesquisa['FOURTH_ANSWER_ACORDA_CIDADE'] = pesquisa['Quais sites você usa ou já usou para pesquisar esses dados?'].apply(categorize_acorda_cidade)\n",
    "\n",
    "pesquisa['FOURTH_ANSWER_CITY_HALL'] = pesquisa['Quais sites você usa ou já usou para pesquisar esses dados?'].apply(categorize_prefeitura)\n",
    "\n",
    "pesquisa['FOURTH_ANSWER_OFFICIAL'] = pesquisa['Quais sites você usa ou já usou para pesquisar esses dados?'].apply(categorize_diario_oficial)\n",
    "\n",
    "pesquisa['FOURTH_ANSWER_WEBSITES'] = pesquisa['Quais sites você usa ou já usou para pesquisar esses dados?'].apply(categorize_sites)\n",
    "\n",
    "pesquisa['FOURTH_ANSWER_NONE'] = pesquisa['Quais sites você usa ou já usou para pesquisar esses dados?'].apply(categorize_none)"
   ]
  },
  {
   "cell_type": "code",
   "execution_count": 127,
   "metadata": {},
   "outputs": [
    {
     "data": {
      "text/plain": [
       "<matplotlib.axes._subplots.AxesSubplot at 0x7f0d06a8aee0>"
      ]
     },
     "execution_count": 127,
     "metadata": {},
     "output_type": "execute_result"
    },
    {
     "data": {
      "image/png": "[encoded data removed]",
      "text/plain": [
       "<Figure size 432x288 with 1 Axes>"
      ]
     },
     "metadata": {
      "needs_background": "light"
     },
     "output_type": "display_data"
    }
   ],
   "source": [
    "labels = {'FOURTH_ANSWER_ACORDA_CIDADE': 'ACORDA CIDADE', 'FOURTH_ANSWER_CITY_HALL': 'PREFEITURA', 'FOURTH_ANSWER_OFFICIAL': 'DIÁRIO OFICIAL', 'FOURTH_ANSWER_WEBSITES': 'OUTROS SITES', 'FOURTH_ANSWER_NONE': 'NENHUM'}\n",
    "pesquisa[['FOURTH_ANSWER_ACORDA_CIDADE', 'FOURTH_ANSWER_CITY_HALL', 'FOURTH_ANSWER_OFFICIAL', 'FOURTH_ANSWER_WEBSITES', 'FOURTH_ANSWER_NONE']].apply(np.sum).rename(index=labels).sort_values().plot(kind='barh', title='Outros sites utilizados')"
   ]
  },
  {
   "cell_type": "code",
   "execution_count": 128,
   "metadata": {},
   "outputs": [
    {
     "data": {
      "text/plain": [
       "<matplotlib.axes._subplots.AxesSubplot at 0x7f0d066bdb50>"
      ]
     },
     "execution_count": 128,
     "metadata": {},
     "output_type": "execute_result"
    },
    {
     "data": {
      "image/png": "[encoded data removed]",
      "text/plain": [
       "<Figure size 432x288 with 1 Axes>"
      ]
     },
     "metadata": {
      "needs_background": "light"
     },
     "output_type": "display_data"
    }
   ],
   "source": [
    "labels = {'FOURTH_ANSWER_ACORDA_CIDADE': 'ACORDA CIDADE', 'FOURTH_ANSWER_CITY_HALL': 'PREFEITURA', 'FOURTH_ANSWER_OFFICIAL': 'DIÁRIO OFICIAL', 'FOURTH_ANSWER_WEBSITES': 'OUTROS SITES'}\n",
    "pesquisa[['FOURTH_ANSWER_ACORDA_CIDADE', 'FOURTH_ANSWER_CITY_HALL', 'FOURTH_ANSWER_OFFICIAL', 'FOURTH_ANSWER_WEBSITES']].apply(np.sum).rename(index=labels).sort_values().plot(kind='barh', title='Outros sites utilizados (para aqueles que usam)')"
   ]
  }
 ],
 "metadata": {
  "kernelspec": {
   "display_name": "Python 3.8.2 64-bit ('aceleradev-ds': conda)",
   "language": "python",
   "name": "python38264bitaceleradevdsconda640d172524af4417b6a9de4e82d86069"
  },
  "language_info": {
   "codemirror_mode": {
    "name": "ipython",
    "version": 3
   },
   "file_extension": ".py",
   "mimetype": "text/x-python",
   "name": "python",
   "nbconvert_exporter": "python",
   "pygments_lexer": "ipython3",
   "version": "3.8.2"
  }
 },
 "nbformat": 4,
 "nbformat_minor": 2
}
