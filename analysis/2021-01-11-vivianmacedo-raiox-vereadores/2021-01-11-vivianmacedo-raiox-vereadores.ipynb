{
 "metadata": {
  "language_info": {
   "codemirror_mode": {
    "name": "ipython",
    "version": 3
   },
   "file_extension": ".py",
   "mimetype": "text/x-python",
   "name": "python",
   "nbconvert_exporter": "python",
   "pygments_lexer": "ipython3",
   "version": "3.9.0-final"
  },
  "orig_nbformat": 2,
  "kernelspec": {
   "name": "python3",
   "display_name": "Python 3",
   "language": "python"
  }
 },
 "nbformat": 4,
 "nbformat_minor": 2,
 "cells": [
  {
   "cell_type": "code",
   "execution_count": 2,
   "metadata": {},
   "outputs": [],
   "source": [
    "import pandas as pd"
   ]
  },
  {
   "cell_type": "code",
   "execution_count": 3,
   "metadata": {},
   "outputs": [],
   "source": [
    "data = pd.read_csv('vereadores_feira.csv')"
   ]
  },
  {
   "cell_type": "code",
   "execution_count": 4,
   "metadata": {},
   "outputs": [
    {
     "output_type": "execute_result",
     "data": {
      "text/plain": [
       "                                                 574  \\\n",
       "ano                                             2020   \n",
       "tipo_eleicao                       eleicao ordinaria   \n",
       "sigla_uf                                          BA   \n",
       "id_municipio_tse                               35157   \n",
       "numero_candidato                               70456   \n",
       "id_candidato_bd                                35806   \n",
       "sigla_partido                                 AVANTE   \n",
       "cargo                                       vereador   \n",
       "turno                                              1   \n",
       "resultado                                 nao eleito   \n",
       "votos                                             19   \n",
       "ano_1                                           2020   \n",
       "tipo_eleicao_1                     eleicao ordinaria   \n",
       "sigla_uf_1                                        BA   \n",
       "id_municipio_tse_1                             35157   \n",
       "id_candidato_bd_1                              35806   \n",
       "cpf                                        473646536   \n",
       "titulo_eleitoral                        102331200507   \n",
       "sequencial_candidato                     50000652053   \n",
       "numero_candidato_1                             70456   \n",
       "nome_candidato        Marivaldo Conceicao De Almeida   \n",
       "nome_urna_candidato                      Val De Jacó   \n",
       "numero_partido                                    70   \n",
       "sigla_partido_1                               AVANTE   \n",
       "cargo_1                                     vereador   \n",
       "situacao                                    deferido   \n",
       "ocupacao                                     motoboy   \n",
       "data_nasc                                 1982-04-08   \n",
       "idade                                             38   \n",
       "genero                                     masculino   \n",
       "instrucao                ensino fundamental completo   \n",
       "estado_civil                             solteiro(a)   \n",
       "nacionalidade                             brasileira   \n",
       "sigla_uf_nasc                                     BA   \n",
       "municipio_nasc                               Ituberá   \n",
       "email                           avantefsaba@gmailcom   \n",
       "raca                                           parda   \n",
       "\n",
       "                                                     866  \n",
       "ano                                                 2016  \n",
       "tipo_eleicao                           eleicao ordinaria  \n",
       "sigla_uf                                              BA  \n",
       "id_municipio_tse                                   35157  \n",
       "numero_candidato                                   36633  \n",
       "id_candidato_bd                                  1725381  \n",
       "sigla_partido                                        PTC  \n",
       "cargo                                           vereador  \n",
       "turno                                                  1  \n",
       "resultado                                       suplente  \n",
       "votos                                                447  \n",
       "ano_1                                               2016  \n",
       "tipo_eleicao_1                         eleicao ordinaria  \n",
       "sigla_uf_1                                            BA  \n",
       "id_municipio_tse_1                                 35157  \n",
       "id_candidato_bd_1                                1725381  \n",
       "cpf                                          92215440520  \n",
       "titulo_eleitoral                             81425310574  \n",
       "sequencial_candidato                         50000016770  \n",
       "numero_candidato_1                                 36633  \n",
       "nome_candidato        Danielle Dos Santos Costa Oliveira  \n",
       "nome_urna_candidato                    Danielle Oliveira  \n",
       "numero_partido                                        36  \n",
       "sigla_partido_1                                      PTC  \n",
       "cargo_1                                         vereador  \n",
       "situacao                                        deferido  \n",
       "ocupacao                 professor de ensino fundamental  \n",
       "data_nasc                                     1978-04-11  \n",
       "idade                                                 38  \n",
       "genero                                          feminino  \n",
       "instrucao                       ensino superior completo  \n",
       "estado_civil                                   casado(a)  \n",
       "nacionalidade                                 brasileira  \n",
       "sigla_uf_nasc                                         BA  \n",
       "municipio_nasc                          Feira De Santana  \n",
       "email                                dscc fsa@hotmailcom  \n",
       "raca                                               parda  "
      ],
      "text/html": "<div>\n<style scoped>\n    .dataframe tbody tr th:only-of-type {\n        vertical-align: middle;\n    }\n\n    .dataframe tbody tr th {\n        vertical-align: top;\n    }\n\n    .dataframe thead th {\n        text-align: right;\n    }\n</style>\n<table border=\"1\" class=\"dataframe\">\n  <thead>\n    <tr style=\"text-align: right;\">\n      <th></th>\n      <th>574</th>\n      <th>866</th>\n    </tr>\n  </thead>\n  <tbody>\n    <tr>\n      <th>ano</th>\n      <td>2020</td>\n      <td>2016</td>\n    </tr>\n    <tr>\n      <th>tipo_eleicao</th>\n      <td>eleicao ordinaria</td>\n      <td>eleicao ordinaria</td>\n    </tr>\n    <tr>\n      <th>sigla_uf</th>\n      <td>BA</td>\n      <td>BA</td>\n    </tr>\n    <tr>\n      <th>id_municipio_tse</th>\n      <td>35157</td>\n      <td>35157</td>\n    </tr>\n    <tr>\n      <th>numero_candidato</th>\n      <td>70456</td>\n      <td>36633</td>\n    </tr>\n    <tr>\n      <th>id_candidato_bd</th>\n      <td>35806</td>\n      <td>1725381</td>\n    </tr>\n    <tr>\n      <th>sigla_partido</th>\n      <td>AVANTE</td>\n      <td>PTC</td>\n    </tr>\n    <tr>\n      <th>cargo</th>\n      <td>vereador</td>\n      <td>vereador</td>\n    </tr>\n    <tr>\n      <th>turno</th>\n      <td>1</td>\n      <td>1</td>\n    </tr>\n    <tr>\n      <th>resultado</th>\n      <td>nao eleito</td>\n      <td>suplente</td>\n    </tr>\n    <tr>\n      <th>votos</th>\n      <td>19</td>\n      <td>447</td>\n    </tr>\n    <tr>\n      <th>ano_1</th>\n      <td>2020</td>\n      <td>2016</td>\n    </tr>\n    <tr>\n      <th>tipo_eleicao_1</th>\n      <td>eleicao ordinaria</td>\n      <td>eleicao ordinaria</td>\n    </tr>\n    <tr>\n      <th>sigla_uf_1</th>\n      <td>BA</td>\n      <td>BA</td>\n    </tr>\n    <tr>\n      <th>id_municipio_tse_1</th>\n      <td>35157</td>\n      <td>35157</td>\n    </tr>\n    <tr>\n      <th>id_candidato_bd_1</th>\n      <td>35806</td>\n      <td>1725381</td>\n    </tr>\n    <tr>\n      <th>cpf</th>\n      <td>473646536</td>\n      <td>92215440520</td>\n    </tr>\n    <tr>\n      <th>titulo_eleitoral</th>\n      <td>102331200507</td>\n      <td>81425310574</td>\n    </tr>\n    <tr>\n      <th>sequencial_candidato</th>\n      <td>50000652053</td>\n      <td>50000016770</td>\n    </tr>\n    <tr>\n      <th>numero_candidato_1</th>\n      <td>70456</td>\n      <td>36633</td>\n    </tr>\n    <tr>\n      <th>nome_candidato</th>\n      <td>Marivaldo Conceicao De Almeida</td>\n      <td>Danielle Dos Santos Costa Oliveira</td>\n    </tr>\n    <tr>\n      <th>nome_urna_candidato</th>\n      <td>Val De Jacó</td>\n      <td>Danielle Oliveira</td>\n    </tr>\n    <tr>\n      <th>numero_partido</th>\n      <td>70</td>\n      <td>36</td>\n    </tr>\n    <tr>\n      <th>sigla_partido_1</th>\n      <td>AVANTE</td>\n      <td>PTC</td>\n    </tr>\n    <tr>\n      <th>cargo_1</th>\n      <td>vereador</td>\n      <td>vereador</td>\n    </tr>\n    <tr>\n      <th>situacao</th>\n      <td>deferido</td>\n      <td>deferido</td>\n    </tr>\n    <tr>\n      <th>ocupacao</th>\n      <td>motoboy</td>\n      <td>professor de ensino fundamental</td>\n    </tr>\n    <tr>\n      <th>data_nasc</th>\n      <td>1982-04-08</td>\n      <td>1978-04-11</td>\n    </tr>\n    <tr>\n      <th>idade</th>\n      <td>38</td>\n      <td>38</td>\n    </tr>\n    <tr>\n      <th>genero</th>\n      <td>masculino</td>\n      <td>feminino</td>\n    </tr>\n    <tr>\n      <th>instrucao</th>\n      <td>ensino fundamental completo</td>\n      <td>ensino superior completo</td>\n    </tr>\n    <tr>\n      <th>estado_civil</th>\n      <td>solteiro(a)</td>\n      <td>casado(a)</td>\n    </tr>\n    <tr>\n      <th>nacionalidade</th>\n      <td>brasileira</td>\n      <td>brasileira</td>\n    </tr>\n    <tr>\n      <th>sigla_uf_nasc</th>\n      <td>BA</td>\n      <td>BA</td>\n    </tr>\n    <tr>\n      <th>municipio_nasc</th>\n      <td>Ituberá</td>\n      <td>Feira De Santana</td>\n    </tr>\n    <tr>\n      <th>email</th>\n      <td>avantefsaba@gmailcom</td>\n      <td>dscc fsa@hotmailcom</td>\n    </tr>\n    <tr>\n      <th>raca</th>\n      <td>parda</td>\n      <td>parda</td>\n    </tr>\n  </tbody>\n</table>\n</div>"
     },
     "metadata": {},
     "execution_count": 4
    }
   ],
   "source": [
    "data.sample(2).T"
   ]
  },
  {
   "cell_type": "code",
   "execution_count": 5,
   "metadata": {},
   "outputs": [
    {
     "output_type": "execute_result",
     "data": {
      "text/plain": [
       "array(['suplente', 'eleito por media', 'nao eleito', 'eleito por qp'],\n",
       "      dtype=object)"
      ]
     },
     "metadata": {},
     "execution_count": 5
    }
   ],
   "source": [
    "(data['resultado'].unique())"
   ]
  },
  {
   "cell_type": "code",
   "execution_count": 6,
   "metadata": {},
   "outputs": [
    {
     "output_type": "execute_result",
     "data": {
      "text/plain": [
       "      ano       tipo_eleicao sigla_uf  id_municipio_tse  numero_candidato  \\\n",
       "663  2016  eleicao ordinaria       BA             35157             13678   \n",
       "901  2016  eleicao ordinaria       BA             35157             45678   \n",
       "\n",
       "     id_candidato_bd sigla_partido     cargo  turno      resultado  ...  \\\n",
       "663           496695            PT  vereador      1  eleito por qp  ...   \n",
       "901           613955          PSDB  vereador      1  eleito por qp  ...   \n",
       "\n",
       "      data_nasc  idade     genero              instrucao   estado_civil  \\\n",
       "663  1954-03-21     63  masculino  ensino medio completo      casado(a)   \n",
       "901  1955-04-06     61   feminino  ensino medio completo  divorciado(a)   \n",
       "\n",
       "     nacionalidade  sigla_uf_nasc    municipio_nasc  \\\n",
       "663     brasileira             BA  Feira De Santana   \n",
       "901     brasileira             BA      Castro Alves   \n",
       "\n",
       "                           email   raca  \n",
       "663  robertoprofessor02@gmailcom  preta  \n",
       "901       eremitamota@hotmailcom  parda  \n",
       "\n",
       "[2 rows x 37 columns]"
      ],
      "text/html": "<div>\n<style scoped>\n    .dataframe tbody tr th:only-of-type {\n        vertical-align: middle;\n    }\n\n    .dataframe tbody tr th {\n        vertical-align: top;\n    }\n\n    .dataframe thead th {\n        text-align: right;\n    }\n</style>\n<table border=\"1\" class=\"dataframe\">\n  <thead>\n    <tr style=\"text-align: right;\">\n      <th></th>\n      <th>ano</th>\n      <th>tipo_eleicao</th>\n      <th>sigla_uf</th>\n      <th>id_municipio_tse</th>\n      <th>numero_candidato</th>\n      <th>id_candidato_bd</th>\n      <th>sigla_partido</th>\n      <th>cargo</th>\n      <th>turno</th>\n      <th>resultado</th>\n      <th>...</th>\n      <th>data_nasc</th>\n      <th>idade</th>\n      <th>genero</th>\n      <th>instrucao</th>\n      <th>estado_civil</th>\n      <th>nacionalidade</th>\n      <th>sigla_uf_nasc</th>\n      <th>municipio_nasc</th>\n      <th>email</th>\n      <th>raca</th>\n    </tr>\n  </thead>\n  <tbody>\n    <tr>\n      <th>663</th>\n      <td>2016</td>\n      <td>eleicao ordinaria</td>\n      <td>BA</td>\n      <td>35157</td>\n      <td>13678</td>\n      <td>496695</td>\n      <td>PT</td>\n      <td>vereador</td>\n      <td>1</td>\n      <td>eleito por qp</td>\n      <td>...</td>\n      <td>1954-03-21</td>\n      <td>63</td>\n      <td>masculino</td>\n      <td>ensino medio completo</td>\n      <td>casado(a)</td>\n      <td>brasileira</td>\n      <td>BA</td>\n      <td>Feira De Santana</td>\n      <td>robertoprofessor02@gmailcom</td>\n      <td>preta</td>\n    </tr>\n    <tr>\n      <th>901</th>\n      <td>2016</td>\n      <td>eleicao ordinaria</td>\n      <td>BA</td>\n      <td>35157</td>\n      <td>45678</td>\n      <td>613955</td>\n      <td>PSDB</td>\n      <td>vereador</td>\n      <td>1</td>\n      <td>eleito por qp</td>\n      <td>...</td>\n      <td>1955-04-06</td>\n      <td>61</td>\n      <td>feminino</td>\n      <td>ensino medio completo</td>\n      <td>divorciado(a)</td>\n      <td>brasileira</td>\n      <td>BA</td>\n      <td>Castro Alves</td>\n      <td>eremitamota@hotmailcom</td>\n      <td>parda</td>\n    </tr>\n  </tbody>\n</table>\n<p>2 rows × 37 columns</p>\n</div>"
     },
     "metadata": {},
     "execution_count": 6
    }
   ],
   "source": [
    "status_eleito = ['eleito por media', 'eleito por qp']\n",
    "\n",
    "eleitos = data[data['resultado'].isin(status_eleito)]\n",
    "eleitos.sample(2)"
   ]
  },
  {
   "cell_type": "code",
   "execution_count": 7,
   "metadata": {},
   "outputs": [
    {
     "output_type": "execute_result",
     "data": {
      "text/plain": [
       "ano          2016  2020  All\n",
       "cpf                         \n",
       "1121246583    NaN   1.0    1\n",
       "1601953577    NaN   1.0    1\n",
       "2188898524    1.0   1.0    2\n",
       "2471404570    NaN   1.0    1\n",
       "8283230549    1.0   NaN    1\n",
       "8748888591    1.0   1.0    2\n",
       "11825030553   1.0   NaN    1\n",
       "11912120500   1.0   1.0    2\n",
       "12590916272   1.0   1.0    2\n",
       "20218842520   1.0   1.0    2\n",
       "20286236591   1.0   NaN    1\n",
       "27217949572   1.0   1.0    2\n",
       "33188882572   1.0   NaN    1\n",
       "33731730510   1.0   1.0    2\n",
       "33880417504   NaN   1.0    1\n",
       "35059613534   1.0   NaN    1\n",
       "38551292587   1.0   NaN    1\n",
       "40914771515   NaN   1.0    1\n",
       "50975757504   NaN   1.0    1\n",
       "55015085591   NaN   1.0    1\n",
       "56275420553   NaN   1.0    1\n",
       "70531510506   NaN   1.0    1\n",
       "70639841520   NaN   1.0    1\n",
       "73043311515   1.0   NaN    1\n",
       "73353302549   1.0   NaN    1\n",
       "78417694587   NaN   1.0    1\n",
       "88027651549   1.0   NaN    1\n",
       "89271483553   1.0   NaN    1\n",
       "89337700549   1.0   NaN    1\n",
       "90668090510   1.0   NaN    1\n",
       "91426570597   1.0   1.0    2\n",
       "95207295500   1.0   NaN    1\n",
       "96097183534   NaN   1.0    1\n",
       "98096753568   NaN   1.0    1\n",
       "All          21.0  21.0   42"
      ],
      "text/html": "<div>\n<style scoped>\n    .dataframe tbody tr th:only-of-type {\n        vertical-align: middle;\n    }\n\n    .dataframe tbody tr th {\n        vertical-align: top;\n    }\n\n    .dataframe thead th {\n        text-align: right;\n    }\n</style>\n<table border=\"1\" class=\"dataframe\">\n  <thead>\n    <tr style=\"text-align: right;\">\n      <th>ano</th>\n      <th>2016</th>\n      <th>2020</th>\n      <th>All</th>\n    </tr>\n    <tr>\n      <th>cpf</th>\n      <th></th>\n      <th></th>\n      <th></th>\n    </tr>\n  </thead>\n  <tbody>\n    <tr>\n      <th>1121246583</th>\n      <td>NaN</td>\n      <td>1.0</td>\n      <td>1</td>\n    </tr>\n    <tr>\n      <th>1601953577</th>\n      <td>NaN</td>\n      <td>1.0</td>\n      <td>1</td>\n    </tr>\n    <tr>\n      <th>2188898524</th>\n      <td>1.0</td>\n      <td>1.0</td>\n      <td>2</td>\n    </tr>\n    <tr>\n      <th>2471404570</th>\n      <td>NaN</td>\n      <td>1.0</td>\n      <td>1</td>\n    </tr>\n    <tr>\n      <th>8283230549</th>\n      <td>1.0</td>\n      <td>NaN</td>\n      <td>1</td>\n    </tr>\n    <tr>\n      <th>8748888591</th>\n      <td>1.0</td>\n      <td>1.0</td>\n      <td>2</td>\n    </tr>\n    <tr>\n      <th>11825030553</th>\n      <td>1.0</td>\n      <td>NaN</td>\n      <td>1</td>\n    </tr>\n    <tr>\n      <th>11912120500</th>\n      <td>1.0</td>\n      <td>1.0</td>\n      <td>2</td>\n    </tr>\n    <tr>\n      <th>12590916272</th>\n      <td>1.0</td>\n      <td>1.0</td>\n      <td>2</td>\n    </tr>\n    <tr>\n      <th>20218842520</th>\n      <td>1.0</td>\n      <td>1.0</td>\n      <td>2</td>\n    </tr>\n    <tr>\n      <th>20286236591</th>\n      <td>1.0</td>\n      <td>NaN</td>\n      <td>1</td>\n    </tr>\n    <tr>\n      <th>27217949572</th>\n      <td>1.0</td>\n      <td>1.0</td>\n      <td>2</td>\n    </tr>\n    <tr>\n      <th>33188882572</th>\n      <td>1.0</td>\n      <td>NaN</td>\n      <td>1</td>\n    </tr>\n    <tr>\n      <th>33731730510</th>\n      <td>1.0</td>\n      <td>1.0</td>\n      <td>2</td>\n    </tr>\n    <tr>\n      <th>33880417504</th>\n      <td>NaN</td>\n      <td>1.0</td>\n      <td>1</td>\n    </tr>\n    <tr>\n      <th>35059613534</th>\n      <td>1.0</td>\n      <td>NaN</td>\n      <td>1</td>\n    </tr>\n    <tr>\n      <th>38551292587</th>\n      <td>1.0</td>\n      <td>NaN</td>\n      <td>1</td>\n    </tr>\n    <tr>\n      <th>40914771515</th>\n      <td>NaN</td>\n      <td>1.0</td>\n      <td>1</td>\n    </tr>\n    <tr>\n      <th>50975757504</th>\n      <td>NaN</td>\n      <td>1.0</td>\n      <td>1</td>\n    </tr>\n    <tr>\n      <th>55015085591</th>\n      <td>NaN</td>\n      <td>1.0</td>\n      <td>1</td>\n    </tr>\n    <tr>\n      <th>56275420553</th>\n      <td>NaN</td>\n      <td>1.0</td>\n      <td>1</td>\n    </tr>\n    <tr>\n      <th>70531510506</th>\n      <td>NaN</td>\n      <td>1.0</td>\n      <td>1</td>\n    </tr>\n    <tr>\n      <th>70639841520</th>\n      <td>NaN</td>\n      <td>1.0</td>\n      <td>1</td>\n    </tr>\n    <tr>\n      <th>73043311515</th>\n      <td>1.0</td>\n      <td>NaN</td>\n      <td>1</td>\n    </tr>\n    <tr>\n      <th>73353302549</th>\n      <td>1.0</td>\n      <td>NaN</td>\n      <td>1</td>\n    </tr>\n    <tr>\n      <th>78417694587</th>\n      <td>NaN</td>\n      <td>1.0</td>\n      <td>1</td>\n    </tr>\n    <tr>\n      <th>88027651549</th>\n      <td>1.0</td>\n      <td>NaN</td>\n      <td>1</td>\n    </tr>\n    <tr>\n      <th>89271483553</th>\n      <td>1.0</td>\n      <td>NaN</td>\n      <td>1</td>\n    </tr>\n    <tr>\n      <th>89337700549</th>\n      <td>1.0</td>\n      <td>NaN</td>\n      <td>1</td>\n    </tr>\n    <tr>\n      <th>90668090510</th>\n      <td>1.0</td>\n      <td>NaN</td>\n      <td>1</td>\n    </tr>\n    <tr>\n      <th>91426570597</th>\n      <td>1.0</td>\n      <td>1.0</td>\n      <td>2</td>\n    </tr>\n    <tr>\n      <th>95207295500</th>\n      <td>1.0</td>\n      <td>NaN</td>\n      <td>1</td>\n    </tr>\n    <tr>\n      <th>96097183534</th>\n      <td>NaN</td>\n      <td>1.0</td>\n      <td>1</td>\n    </tr>\n    <tr>\n      <th>98096753568</th>\n      <td>NaN</td>\n      <td>1.0</td>\n      <td>1</td>\n    </tr>\n    <tr>\n      <th>All</th>\n      <td>21.0</td>\n      <td>21.0</td>\n      <td>42</td>\n    </tr>\n  </tbody>\n</table>\n</div>"
     },
     "metadata": {},
     "execution_count": 7
    }
   ],
   "source": [
    "reeleitos = pd.pivot_table(eleitos, values='votos', index=['cpf'], columns=['ano'], aggfunc='count', margins=True)\n",
    "reeleitos"
   ]
  },
  {
   "cell_type": "code",
   "execution_count": 8,
   "metadata": {},
   "outputs": [
    {
     "output_type": "execute_result",
     "data": {
      "text/plain": [
       "ano          2016  2020  All\n",
       "cpf                         \n",
       "All          21.0  21.0   42\n",
       "11912120500   1.0   1.0    2\n",
       "33731730510   1.0   1.0    2\n",
       "27217949572   1.0   1.0    2\n",
       "20218842520   1.0   1.0    2\n",
       "12590916272   1.0   1.0    2\n",
       "91426570597   1.0   1.0    2\n",
       "8748888591    1.0   1.0    2\n",
       "2188898524    1.0   1.0    2\n",
       "95207295500   1.0   NaN    1\n",
       "96097183534   NaN   1.0    1\n",
       "70531510506   NaN   1.0    1\n",
       "98096753568   NaN   1.0    1\n",
       "90668090510   1.0   NaN    1\n",
       "89337700549   1.0   NaN    1\n",
       "89271483553   1.0   NaN    1\n",
       "88027651549   1.0   NaN    1\n",
       "78417694587   NaN   1.0    1\n",
       "73353302549   1.0   NaN    1\n",
       "73043311515   1.0   NaN    1\n",
       "70639841520   NaN   1.0    1\n",
       "1121246583    NaN   1.0    1\n",
       "56275420553   NaN   1.0    1\n",
       "55015085591   NaN   1.0    1\n",
       "50975757504   NaN   1.0    1\n",
       "1601953577    NaN   1.0    1\n",
       "38551292587   1.0   NaN    1\n",
       "35059613534   1.0   NaN    1\n",
       "33880417504   NaN   1.0    1\n",
       "33188882572   1.0   NaN    1\n",
       "20286236591   1.0   NaN    1\n",
       "11825030553   1.0   NaN    1\n",
       "8283230549    1.0   NaN    1\n",
       "2471404570    NaN   1.0    1\n",
       "40914771515   NaN   1.0    1"
      ],
      "text/html": "<div>\n<style scoped>\n    .dataframe tbody tr th:only-of-type {\n        vertical-align: middle;\n    }\n\n    .dataframe tbody tr th {\n        vertical-align: top;\n    }\n\n    .dataframe thead th {\n        text-align: right;\n    }\n</style>\n<table border=\"1\" class=\"dataframe\">\n  <thead>\n    <tr style=\"text-align: right;\">\n      <th>ano</th>\n      <th>2016</th>\n      <th>2020</th>\n      <th>All</th>\n    </tr>\n    <tr>\n      <th>cpf</th>\n      <th></th>\n      <th></th>\n      <th></th>\n    </tr>\n  </thead>\n  <tbody>\n    <tr>\n      <th>All</th>\n      <td>21.0</td>\n      <td>21.0</td>\n      <td>42</td>\n    </tr>\n    <tr>\n      <th>11912120500</th>\n      <td>1.0</td>\n      <td>1.0</td>\n      <td>2</td>\n    </tr>\n    <tr>\n      <th>33731730510</th>\n      <td>1.0</td>\n      <td>1.0</td>\n      <td>2</td>\n    </tr>\n    <tr>\n      <th>27217949572</th>\n      <td>1.0</td>\n      <td>1.0</td>\n      <td>2</td>\n    </tr>\n    <tr>\n      <th>20218842520</th>\n      <td>1.0</td>\n      <td>1.0</td>\n      <td>2</td>\n    </tr>\n    <tr>\n      <th>12590916272</th>\n      <td>1.0</td>\n      <td>1.0</td>\n      <td>2</td>\n    </tr>\n    <tr>\n      <th>91426570597</th>\n      <td>1.0</td>\n      <td>1.0</td>\n      <td>2</td>\n    </tr>\n    <tr>\n      <th>8748888591</th>\n      <td>1.0</td>\n      <td>1.0</td>\n      <td>2</td>\n    </tr>\n    <tr>\n      <th>2188898524</th>\n      <td>1.0</td>\n      <td>1.0</td>\n      <td>2</td>\n    </tr>\n    <tr>\n      <th>95207295500</th>\n      <td>1.0</td>\n      <td>NaN</td>\n      <td>1</td>\n    </tr>\n    <tr>\n      <th>96097183534</th>\n      <td>NaN</td>\n      <td>1.0</td>\n      <td>1</td>\n    </tr>\n    <tr>\n      <th>70531510506</th>\n      <td>NaN</td>\n      <td>1.0</td>\n      <td>1</td>\n    </tr>\n    <tr>\n      <th>98096753568</th>\n      <td>NaN</td>\n      <td>1.0</td>\n      <td>1</td>\n    </tr>\n    <tr>\n      <th>90668090510</th>\n      <td>1.0</td>\n      <td>NaN</td>\n      <td>1</td>\n    </tr>\n    <tr>\n      <th>89337700549</th>\n      <td>1.0</td>\n      <td>NaN</td>\n      <td>1</td>\n    </tr>\n    <tr>\n      <th>89271483553</th>\n      <td>1.0</td>\n      <td>NaN</td>\n      <td>1</td>\n    </tr>\n    <tr>\n      <th>88027651549</th>\n      <td>1.0</td>\n      <td>NaN</td>\n      <td>1</td>\n    </tr>\n    <tr>\n      <th>78417694587</th>\n      <td>NaN</td>\n      <td>1.0</td>\n      <td>1</td>\n    </tr>\n    <tr>\n      <th>73353302549</th>\n      <td>1.0</td>\n      <td>NaN</td>\n      <td>1</td>\n    </tr>\n    <tr>\n      <th>73043311515</th>\n      <td>1.0</td>\n      <td>NaN</td>\n      <td>1</td>\n    </tr>\n    <tr>\n      <th>70639841520</th>\n      <td>NaN</td>\n      <td>1.0</td>\n      <td>1</td>\n    </tr>\n    <tr>\n      <th>1121246583</th>\n      <td>NaN</td>\n      <td>1.0</td>\n      <td>1</td>\n    </tr>\n    <tr>\n      <th>56275420553</th>\n      <td>NaN</td>\n      <td>1.0</td>\n      <td>1</td>\n    </tr>\n    <tr>\n      <th>55015085591</th>\n      <td>NaN</td>\n      <td>1.0</td>\n      <td>1</td>\n    </tr>\n    <tr>\n      <th>50975757504</th>\n      <td>NaN</td>\n      <td>1.0</td>\n      <td>1</td>\n    </tr>\n    <tr>\n      <th>1601953577</th>\n      <td>NaN</td>\n      <td>1.0</td>\n      <td>1</td>\n    </tr>\n    <tr>\n      <th>38551292587</th>\n      <td>1.0</td>\n      <td>NaN</td>\n      <td>1</td>\n    </tr>\n    <tr>\n      <th>35059613534</th>\n      <td>1.0</td>\n      <td>NaN</td>\n      <td>1</td>\n    </tr>\n    <tr>\n      <th>33880417504</th>\n      <td>NaN</td>\n      <td>1.0</td>\n      <td>1</td>\n    </tr>\n    <tr>\n      <th>33188882572</th>\n      <td>1.0</td>\n      <td>NaN</td>\n      <td>1</td>\n    </tr>\n    <tr>\n      <th>20286236591</th>\n      <td>1.0</td>\n      <td>NaN</td>\n      <td>1</td>\n    </tr>\n    <tr>\n      <th>11825030553</th>\n      <td>1.0</td>\n      <td>NaN</td>\n      <td>1</td>\n    </tr>\n    <tr>\n      <th>8283230549</th>\n      <td>1.0</td>\n      <td>NaN</td>\n      <td>1</td>\n    </tr>\n    <tr>\n      <th>2471404570</th>\n      <td>NaN</td>\n      <td>1.0</td>\n      <td>1</td>\n    </tr>\n    <tr>\n      <th>40914771515</th>\n      <td>NaN</td>\n      <td>1.0</td>\n      <td>1</td>\n    </tr>\n  </tbody>\n</table>\n</div>"
     },
     "metadata": {},
     "execution_count": 8
    }
   ],
   "source": [
    "reeleitos.sort_values(by=('All'), ascending = False)\n",
    "# Foram 8 vereadores reeleitos em Feira de Santana"
   ]
  },
  {
   "cell_type": "code",
   "execution_count": 9,
   "metadata": {},
   "outputs": [
    {
     "output_type": "execute_result",
     "data": {
      "text/plain": [
       "ano                            2016  2020\n",
       "instrucao                                \n",
       "ensino fundamental completo       2     2\n",
       "ensino fundamental incompleto     2     1\n",
       "ensino medio completo            11     9\n",
       "ensino medio incompleto           1     1\n",
       "ensino superior completo          5     8"
      ],
      "text/html": "<div>\n<style scoped>\n    .dataframe tbody tr th:only-of-type {\n        vertical-align: middle;\n    }\n\n    .dataframe tbody tr th {\n        vertical-align: top;\n    }\n\n    .dataframe thead th {\n        text-align: right;\n    }\n</style>\n<table border=\"1\" class=\"dataframe\">\n  <thead>\n    <tr style=\"text-align: right;\">\n      <th>ano</th>\n      <th>2016</th>\n      <th>2020</th>\n    </tr>\n    <tr>\n      <th>instrucao</th>\n      <th></th>\n      <th></th>\n    </tr>\n  </thead>\n  <tbody>\n    <tr>\n      <th>ensino fundamental completo</th>\n      <td>2</td>\n      <td>2</td>\n    </tr>\n    <tr>\n      <th>ensino fundamental incompleto</th>\n      <td>2</td>\n      <td>1</td>\n    </tr>\n    <tr>\n      <th>ensino medio completo</th>\n      <td>11</td>\n      <td>9</td>\n    </tr>\n    <tr>\n      <th>ensino medio incompleto</th>\n      <td>1</td>\n      <td>1</td>\n    </tr>\n    <tr>\n      <th>ensino superior completo</th>\n      <td>5</td>\n      <td>8</td>\n    </tr>\n  </tbody>\n</table>\n</div>"
     },
     "metadata": {},
     "execution_count": 9
    }
   ],
   "source": [
    "instrucao_group = eleitos.groupby(['instrucao', 'ano'])\n",
    "instrucao_group.size().unstack()\n",
    "# Foram mais vereadores com ensino superio completo eleitos em 2020"
   ]
  },
  {
   "cell_type": "code",
   "execution_count": 10,
   "metadata": {},
   "outputs": [
    {
     "output_type": "execute_result",
     "data": {
      "text/plain": [
       "    nome_urna_candidato                 instrucao  \\\n",
       "23         Eli Ribeiro   ensino superior completo   \n",
       "57          Silvio Dias  ensino superior completo   \n",
       "75   Professor Ivamberg  ensino superior completo   \n",
       "126         Lú De Ronny  ensino superior completo   \n",
       "297       Pedro Américo  ensino superior completo   \n",
       "314      Gerusa Sampaio  ensino superior completo   \n",
       "326       Emerson Minho  ensino superior completo   \n",
       "470   Jhonatas Monteiro  ensino superior completo   \n",
       "\n",
       "                            ocupacao  \n",
       "23                          vereador  \n",
       "57                          advogado  \n",
       "75         professor de ensino medio  \n",
       "126                       enfermeiro  \n",
       "297  professor de ensino fundamental  \n",
       "314                         vereador  \n",
       "326                   policial civil  \n",
       "470        professor de ensino medio  "
      ],
      "text/html": "<div>\n<style scoped>\n    .dataframe tbody tr th:only-of-type {\n        vertical-align: middle;\n    }\n\n    .dataframe tbody tr th {\n        vertical-align: top;\n    }\n\n    .dataframe thead th {\n        text-align: right;\n    }\n</style>\n<table border=\"1\" class=\"dataframe\">\n  <thead>\n    <tr style=\"text-align: right;\">\n      <th></th>\n      <th>nome_urna_candidato</th>\n      <th>instrucao</th>\n      <th>ocupacao</th>\n    </tr>\n  </thead>\n  <tbody>\n    <tr>\n      <th>23</th>\n      <td>Eli Ribeiro</td>\n      <td>ensino superior completo</td>\n      <td>vereador</td>\n    </tr>\n    <tr>\n      <th>57</th>\n      <td>Silvio Dias</td>\n      <td>ensino superior completo</td>\n      <td>advogado</td>\n    </tr>\n    <tr>\n      <th>75</th>\n      <td>Professor Ivamberg</td>\n      <td>ensino superior completo</td>\n      <td>professor de ensino medio</td>\n    </tr>\n    <tr>\n      <th>126</th>\n      <td>Lú De Ronny</td>\n      <td>ensino superior completo</td>\n      <td>enfermeiro</td>\n    </tr>\n    <tr>\n      <th>297</th>\n      <td>Pedro Américo</td>\n      <td>ensino superior completo</td>\n      <td>professor de ensino fundamental</td>\n    </tr>\n    <tr>\n      <th>314</th>\n      <td>Gerusa Sampaio</td>\n      <td>ensino superior completo</td>\n      <td>vereador</td>\n    </tr>\n    <tr>\n      <th>326</th>\n      <td>Emerson Minho</td>\n      <td>ensino superior completo</td>\n      <td>policial civil</td>\n    </tr>\n    <tr>\n      <th>470</th>\n      <td>Jhonatas Monteiro</td>\n      <td>ensino superior completo</td>\n      <td>professor de ensino medio</td>\n    </tr>\n  </tbody>\n</table>\n</div>"
     },
     "metadata": {},
     "execution_count": 10
    }
   ],
   "source": [
    "superior_completo = ['ensino superior completo']\n",
    "ultima_eleicao = [2020]\n",
    "candidatos_superior = eleitos[eleitos['instrucao'].isin(superior_completo)]\n",
    "candidatos_superior_2020 = candidatos_superior[candidatos_superior['ano'].isin(ultima_eleicao)]\n",
    "\n",
    "candidatos_superior_2020[['nome_urna_candidato', 'instrucao', 'ocupacao']] \n",
    "# Aqui podemos ver as ocupacoes dos vereadores eleitos em 2020 com ensino superior completo"
   ]
  },
  {
   "cell_type": "code",
   "execution_count": 11,
   "metadata": {},
   "outputs": [
    {
     "output_type": "execute_result",
     "data": {
      "text/plain": [
       "vereador                                                    8\n",
       "professor de ensino medio                                   2\n",
       "empresario                                                  2\n",
       "locutor e comentarista de radio e televisao e radialista    1\n",
       "policial militar                                            1\n",
       "produtor agropecuario                                       1\n",
       "sacerdote ou membro de ordem ou seita religiosa             1\n",
       "professor de ensino fundamental                             1\n",
       "advogado                                                    1\n",
       "agente administrativo                                       1\n",
       "policial civil                                              1\n",
       "enfermeiro                                                  1\n",
       "Name: ocupacao, dtype: int64"
      ]
     },
     "metadata": {},
     "execution_count": 11
    }
   ],
   "source": [
    "eleitos_2020 = eleitos[eleitos['ano'].isin(ultima_eleicao)]\n",
    "eleitos_2020['ocupacao'].value_counts()\n",
    "#A ocupacao mais frequente entre os eleitos é ser vereador"
   ]
  },
  {
   "cell_type": "code",
   "execution_count": 12,
   "metadata": {},
   "outputs": [
    {
     "output_type": "execute_result",
     "data": {
      "text/plain": [
       "ano        2016  2020\n",
       "genero               \n",
       "feminino      2     3\n",
       "masculino    19    18"
      ],
      "text/html": "<div>\n<style scoped>\n    .dataframe tbody tr th:only-of-type {\n        vertical-align: middle;\n    }\n\n    .dataframe tbody tr th {\n        vertical-align: top;\n    }\n\n    .dataframe thead th {\n        text-align: right;\n    }\n</style>\n<table border=\"1\" class=\"dataframe\">\n  <thead>\n    <tr style=\"text-align: right;\">\n      <th>ano</th>\n      <th>2016</th>\n      <th>2020</th>\n    </tr>\n    <tr>\n      <th>genero</th>\n      <th></th>\n      <th></th>\n    </tr>\n  </thead>\n  <tbody>\n    <tr>\n      <th>feminino</th>\n      <td>2</td>\n      <td>3</td>\n    </tr>\n    <tr>\n      <th>masculino</th>\n      <td>19</td>\n      <td>18</td>\n    </tr>\n  </tbody>\n</table>\n</div>"
     },
     "metadata": {},
     "execution_count": 12
    }
   ],
   "source": [
    "genero_group = eleitos.groupby(['genero', 'ano'])\n",
    "genero_group.size().unstack()"
   ]
  },
  {
   "cell_type": "code",
   "execution_count": 13,
   "metadata": {},
   "outputs": [
    {
     "output_type": "execute_result",
     "data": {
      "text/plain": [
       "ano     2016  2020\n",
       "raca              \n",
       "branca     2     2\n",
       "parda     13    13\n",
       "preta      6     6"
      ],
      "text/html": "<div>\n<style scoped>\n    .dataframe tbody tr th:only-of-type {\n        vertical-align: middle;\n    }\n\n    .dataframe tbody tr th {\n        vertical-align: top;\n    }\n\n    .dataframe thead th {\n        text-align: right;\n    }\n</style>\n<table border=\"1\" class=\"dataframe\">\n  <thead>\n    <tr style=\"text-align: right;\">\n      <th>ano</th>\n      <th>2016</th>\n      <th>2020</th>\n    </tr>\n    <tr>\n      <th>raca</th>\n      <th></th>\n      <th></th>\n    </tr>\n  </thead>\n  <tbody>\n    <tr>\n      <th>branca</th>\n      <td>2</td>\n      <td>2</td>\n    </tr>\n    <tr>\n      <th>parda</th>\n      <td>13</td>\n      <td>13</td>\n    </tr>\n    <tr>\n      <th>preta</th>\n      <td>6</td>\n      <td>6</td>\n    </tr>\n  </tbody>\n</table>\n</div>"
     },
     "metadata": {},
     "execution_count": 13
    }
   ],
   "source": [
    "raca_group = eleitos.groupby(['raca', 'ano'])\n",
    "raca_group.size().unstack()"
   ]
  },
  {
   "cell_type": "code",
   "execution_count": 14,
   "metadata": {},
   "outputs": [
    {
     "output_type": "execute_result",
     "data": {
      "text/plain": [
       "ano               2016  2020\n",
       "raca   genero               \n",
       "branca feminino    NaN   1.0\n",
       "       masculino   2.0   1.0\n",
       "parda  feminino    2.0   2.0\n",
       "       masculino  11.0  11.0\n",
       "preta  masculino   6.0   6.0"
      ],
      "text/html": "<div>\n<style scoped>\n    .dataframe tbody tr th:only-of-type {\n        vertical-align: middle;\n    }\n\n    .dataframe tbody tr th {\n        vertical-align: top;\n    }\n\n    .dataframe thead th {\n        text-align: right;\n    }\n</style>\n<table border=\"1\" class=\"dataframe\">\n  <thead>\n    <tr style=\"text-align: right;\">\n      <th></th>\n      <th>ano</th>\n      <th>2016</th>\n      <th>2020</th>\n    </tr>\n    <tr>\n      <th>raca</th>\n      <th>genero</th>\n      <th></th>\n      <th></th>\n    </tr>\n  </thead>\n  <tbody>\n    <tr>\n      <th rowspan=\"2\" valign=\"top\">branca</th>\n      <th>feminino</th>\n      <td>NaN</td>\n      <td>1.0</td>\n    </tr>\n    <tr>\n      <th>masculino</th>\n      <td>2.0</td>\n      <td>1.0</td>\n    </tr>\n    <tr>\n      <th rowspan=\"2\" valign=\"top\">parda</th>\n      <th>feminino</th>\n      <td>2.0</td>\n      <td>2.0</td>\n    </tr>\n    <tr>\n      <th>masculino</th>\n      <td>11.0</td>\n      <td>11.0</td>\n    </tr>\n    <tr>\n      <th>preta</th>\n      <th>masculino</th>\n      <td>6.0</td>\n      <td>6.0</td>\n    </tr>\n  </tbody>\n</table>\n</div>"
     },
     "metadata": {},
     "execution_count": 14
    }
   ],
   "source": [
    "raca_genero_group = eleitos.groupby(['raca', 'genero', 'ano'])\n",
    "raca_genero_group.size().unstack()"
   ]
  },
  {
   "cell_type": "code",
   "execution_count": 15,
   "metadata": {},
   "outputs": [
    {
     "output_type": "execute_result",
     "data": {
      "text/plain": [
       "count    21.000000\n",
       "mean     49.142857\n",
       "std       9.671017\n",
       "min      34.000000\n",
       "25%      42.000000\n",
       "50%      50.000000\n",
       "75%      57.000000\n",
       "max      65.000000\n",
       "Name: idade, dtype: float64"
      ]
     },
     "metadata": {},
     "execution_count": 15
    }
   ],
   "source": [
    "idade_2020 = eleitos_2020['idade']\n",
    "idade_2020.describe()\n",
    "# A média de idade dos eleitos é 49 anos. O mais novo possui 34 anos, o mais velho 65 anos"
   ]
  },
  {
   "cell_type": "code",
   "execution_count": 16,
   "metadata": {},
   "outputs": [
    {
     "output_type": "execute_result",
     "data": {
      "text/plain": [
       "count    21.000000\n",
       "mean     48.904762\n",
       "std       9.104421\n",
       "min      31.000000\n",
       "25%      41.000000\n",
       "50%      51.000000\n",
       "75%      56.000000\n",
       "max      63.000000\n",
       "Name: idade, dtype: float64"
      ]
     },
     "metadata": {},
     "execution_count": 16
    }
   ],
   "source": [
    "eleicao_anterior = [2016]\n",
    "eleitos_2016 = eleitos[eleitos['ano'].isin(eleicao_anterior)]\n",
    "\n",
    "\n",
    "idade_2016 = eleitos_2016['idade']\n",
    "idade_2016.describe()\n",
    "\n",
    "# A média na eleição de 2016 foi 49 anos. O mais novo foi eleitos com 31 anos e o meis velho com 63 anos."
   ]
  },
  {
   "cell_type": "code",
   "execution_count": null,
   "metadata": {},
   "outputs": [],
   "source": []
  }
 ]
}