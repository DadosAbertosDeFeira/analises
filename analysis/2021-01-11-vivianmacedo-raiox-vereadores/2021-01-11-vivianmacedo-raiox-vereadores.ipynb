{
 "metadata": {
  "language_info": {
   "codemirror_mode": {
    "name": "ipython",
    "version": 3
   },
   "file_extension": ".py",
   "mimetype": "text/x-python",
   "name": "python",
   "nbconvert_exporter": "python",
   "pygments_lexer": "ipython3",
   "version": "3.9.0-final"
  },
  "orig_nbformat": 2,
  "kernelspec": {
   "name": "python3",
   "display_name": "Python 3",
   "language": "python"
  }
 },
 "nbformat": 4,
 "nbformat_minor": 2,
 "cells": [
  {
   "cell_type": "code",
   "execution_count": null,
   "metadata": {},
   "outputs": [],
   "source": [
    "import pandas as pd"
   ]
  },
  {
   "cell_type": "code",
   "execution_count": null,
   "metadata": {},
   "outputs": [],
   "source": [
    "data = pd.read_csv('vereadores_feira.csv')"
   ]
  },
  {
   "cell_type": "code",
   "execution_count": null,
   "metadata": {},
   "outputs": [],
   "source": [
    "data.sample(2).T"
   ]
  },
  {
   "cell_type": "code",
   "execution_count": null,
   "metadata": {},
   "outputs": [],
   "source": [
    "(data['resultado'].unique())"
   ]
  },
  {
   "cell_type": "code",
   "execution_count": null,
   "metadata": {},
   "outputs": [],
   "source": [
    "status_eleito = ['eleito por media', 'eleito por qp']\n",
    "\n",
    "eleitos = data[data['resultado'].isin(status_eleito)]\n",
    "eleitos.sample(2)"
   ]
  },
  {
   "cell_type": "code",
   "execution_count": null,
   "metadata": {},
   "outputs": [],
   "source": [
    "reeleitos = pd.pivot_table(eleitos, values='votos', index=['cpf'], columns=['ano'], aggfunc='count', margins=True)\n",
    "reeleitos"
   ]
  },
  {
   "cell_type": "code",
   "execution_count": null,
   "metadata": {},
   "outputs": [],
   "source": [
    "reeleitos.sort_values(by=('All'), ascending = False)\n",
    "# Foram 8 vereadores reeleitos em Feira de Santana"
   ]
  },
  {
   "cell_type": "code",
   "execution_count": null,
   "metadata": {},
   "outputs": [],
   "source": [
    "instrucao_group = eleitos.groupby(['instrucao', 'ano'])\n",
    "instrucao_group.size().unstack()\n",
    "# Foram mais vereadores com ensino superio completo eleitos em 2020"
   ]
  },
  {
   "cell_type": "code",
   "execution_count": null,
   "metadata": {},
   "outputs": [],
   "source": [
    "superior_completo = ['ensino superior completo']\n",
    "ultima_eleicao = [2020]\n",
    "candidatos_superior = eleitos[eleitos['instrucao'].isin(superior_completo)]\n",
    "candidatos_superior_2020 = candidatos_superior[candidatos_superior['ano'].isin(ultima_eleicao)]\n",
    "\n",
    "candidatos_superior_2020[['nome_urna_candidato', 'instrucao', 'ocupacao']] \n",
    "# Aqui podemos ver as ocupacoes dos vereadores eleitos em 2020 com ensino superior completo"
   ]
  },
  {
   "cell_type": "code",
   "execution_count": null,
   "metadata": {},
   "outputs": [],
   "source": [
    "eleitos_2020 = eleitos[eleitos['ano'].isin(ultima_eleicao)]\n",
    "eleitos_2020['ocupacao'].value_counts()\n",
    "#A ocupacao mais frequente entre os eleitos é ser vereador"
   ]
  },
  {
   "cell_type": "code",
   "execution_count": null,
   "metadata": {},
   "outputs": [],
   "source": [
    "genero_group = eleitos.groupby(['genero', 'ano'])\n",
    "genero_group.size().unstack()"
   ]
  },
  {
   "cell_type": "code",
   "execution_count": null,
   "metadata": {},
   "outputs": [],
   "source": [
    "raca_group = eleitos.groupby(['raca', 'ano'])\n",
    "raca_group.size().unstack()"
   ]
  },
  {
   "cell_type": "code",
   "execution_count": null,
   "metadata": {},
   "outputs": [],
   "source": [
    "raca_genero_group = eleitos.groupby(['raca', 'genero', 'ano'])\n",
    "raca_genero_group.size().unstack()"
   ]
  },
  {
   "cell_type": "code",
   "execution_count": null,
   "metadata": {},
   "outputs": [],
   "source": [
    "idade_2020 = eleitos_2020['idade']\n",
    "idade_2020.describe()\n",
    "# A média de idade dos eleitos é 49 anos. O mais novo possui 34 anos, o mais velho 65 anos"
   ]
  },
  {
   "cell_type": "code",
   "execution_count": null,
   "metadata": {},
   "outputs": [],
   "source": [
    "eleicao_anterior = [2016]\n",
    "eleitos_2016 = eleitos[eleitos['ano'].isin(eleicao_anterior)]\n",
    "\n",
    "\n",
    "idade_2016 = eleitos_2016['idade']\n",
    "idade_2016.describe()\n",
    "\n",
    "# A média na eleição de 2016 foi 49 anos. O mais novo foi eleitos com 31 anos e o meis velho com 63 anos."
   ]
  },
  {
   "cell_type": "code",
   "execution_count": null,
   "metadata": {},
   "outputs": [],
   "source": []
  }
 ]
}