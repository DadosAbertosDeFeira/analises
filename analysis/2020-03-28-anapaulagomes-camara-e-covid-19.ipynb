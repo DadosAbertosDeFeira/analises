{
 "cells": [
  {
   "cell_type": "markdown",
   "metadata": {},
   "source": [
    "# A Câmara de Vereadores e o COVID-19\n",
    "\n",
    "Você também fica curioso(a) para saber o que a Câmara de Vereadores\n",
    "de Feira de Santana fez em relação ao COVID-19? O que discutiram?\n",
    "O quão levaram a sério o vírus? Vamos responder essas perguntas e\n",
    "também te mostrar como fazer essa análise. Vem com a gente!\n",
    "\n",
    "Desde o início do ano o mundo tem falado a respeito do COVID-19.\n",
    "Por isso, vamos basear nossa análise no período de 1 de Janeiro\n",
    "a 27 de Março de 2020. Para entender o que se passou na Câmara\n",
    "vamos utilizar duas fontes de dados:\n",
    "\n",
    "* [Diário Oficial](diariooficial.feiradesantana.ba.gov.br/)\n",
    "* [Atas das sessões](https://www.feiradesantana.ba.leg.br/atas)\n",
    "\n",
    "Nas atas temos acesso ao que foi falado nos discursos e no Diário\n",
    "Oficial temos acesso ao que realmente virou (ou não) lei. Você\n",
    "pode fazer _download_ dos dados [aqui]()\n",
    "e [aqui](https://www.kaggle.com/anapaulagomes/dirios-oficiais-de-feira-de-santana).\n",
    "Procuramos mas não foi encontrada nenhuma menção ao vírus na\n",
    "[Agenda da Câmara Municipal](https://www.feiradesantana.ba.leg.br/agenda).\n",
    "\n",
    "Lembrando que as atas foram disponibilizadas no site da casa apenas\n",
    "depois de uma reunião nossa com o presidente em exercício José Carneiro.\n",
    "Uma grande vitória dos dados abertos e da transparência na cidade.\n",
    "\n",
    "Os dados são coletados por nós e todo código está [aberto e disponível\n",
    "no Github](https://github.com/DadosAbertosDeFeira/maria-quiteria/).\n",
    "\n",
    "## Vamos começar por as atas\n",
    "\n",
    "As atas trazem uma descrição do que foi falado durante as sessões.\n",
    "Se você quer acompanhar o posicionamento do seu vereador(a), é uma\n",
    "boa maneira. Vamos ver se encontramos alguém falando sobre *coronavírus*\n",
    "ou *vírus*.\n",
    "\n",
    "Se você não é uma pessoa técnica, não se preocupe. Vamos continuar o texto\n",
    "junto com o código."
   ]
  },
  {
   "cell_type": "code",
   "execution_count": 2,
   "metadata": {},
   "outputs": [
    {
     "ename": "FileNotFoundError",
     "evalue": "[Errno 2] No such file or directory: '../data/atas-28.03.2020.csv'",
     "output_type": "error",
     "traceback": [
      "\u001b[0;31m---------------------------------------------------------------------------\u001b[0m",
      "\u001b[0;31mFileNotFoundError\u001b[0m                         Traceback (most recent call last)",
      "\u001b[0;32m<ipython-input-2-7ce7fdb0f775>\u001b[0m in \u001b[0;36m<module>\u001b[0;34m\u001b[0m\n\u001b[1;32m      3\u001b[0m \u001b[0;34m\u001b[0m\u001b[0m\n\u001b[1;32m      4\u001b[0m \u001b[0;31m# esse arquivo pode ser baixado aqui: https://www.kaggle.com/anapaulagomes/atas-da-cmara-de-vereadores\u001b[0m\u001b[0;34m\u001b[0m\u001b[0;34m\u001b[0m\u001b[0;34m\u001b[0m\u001b[0m\n\u001b[0;32m----> 5\u001b[0;31m \u001b[0matas\u001b[0m \u001b[0;34m=\u001b[0m \u001b[0mpd\u001b[0m\u001b[0;34m.\u001b[0m\u001b[0mread_csv\u001b[0m\u001b[0;34m(\u001b[0m\u001b[0;34m'../data/atas-28.03.2020.csv'\u001b[0m\u001b[0;34m)\u001b[0m\u001b[0;34m\u001b[0m\u001b[0;34m\u001b[0m\u001b[0m\n\u001b[0m\u001b[1;32m      6\u001b[0m \u001b[0matas\u001b[0m\u001b[0;34m.\u001b[0m\u001b[0mdescribe\u001b[0m\u001b[0;34m(\u001b[0m\u001b[0;34m)\u001b[0m\u001b[0;34m\u001b[0m\u001b[0;34m\u001b[0m\u001b[0m\n",
      "\u001b[0;32m~/analise-dados-enem/lib/python3.8/site-packages/pandas/io/parsers.py\u001b[0m in \u001b[0;36mread_csv\u001b[0;34m(filepath_or_buffer, sep, delimiter, header, names, index_col, usecols, squeeze, prefix, mangle_dupe_cols, dtype, engine, converters, true_values, false_values, skipinitialspace, skiprows, skipfooter, nrows, na_values, keep_default_na, na_filter, verbose, skip_blank_lines, parse_dates, infer_datetime_format, keep_date_col, date_parser, dayfirst, cache_dates, iterator, chunksize, compression, thousands, decimal, lineterminator, quotechar, quoting, doublequote, escapechar, comment, encoding, dialect, error_bad_lines, warn_bad_lines, delim_whitespace, low_memory, memory_map, float_precision, storage_options)\u001b[0m\n\u001b[1;32m    608\u001b[0m     \u001b[0mkwds\u001b[0m\u001b[0;34m.\u001b[0m\u001b[0mupdate\u001b[0m\u001b[0;34m(\u001b[0m\u001b[0mkwds_defaults\u001b[0m\u001b[0;34m)\u001b[0m\u001b[0;34m\u001b[0m\u001b[0;34m\u001b[0m\u001b[0m\n\u001b[1;32m    609\u001b[0m \u001b[0;34m\u001b[0m\u001b[0m\n\u001b[0;32m--> 610\u001b[0;31m     \u001b[0;32mreturn\u001b[0m \u001b[0m_read\u001b[0m\u001b[0;34m(\u001b[0m\u001b[0mfilepath_or_buffer\u001b[0m\u001b[0;34m,\u001b[0m \u001b[0mkwds\u001b[0m\u001b[0;34m)\u001b[0m\u001b[0;34m\u001b[0m\u001b[0;34m\u001b[0m\u001b[0m\n\u001b[0m\u001b[1;32m    611\u001b[0m \u001b[0;34m\u001b[0m\u001b[0m\n\u001b[1;32m    612\u001b[0m \u001b[0;34m\u001b[0m\u001b[0m\n",
      "\u001b[0;32m~/analise-dados-enem/lib/python3.8/site-packages/pandas/io/parsers.py\u001b[0m in \u001b[0;36m_read\u001b[0;34m(filepath_or_buffer, kwds)\u001b[0m\n\u001b[1;32m    460\u001b[0m \u001b[0;34m\u001b[0m\u001b[0m\n\u001b[1;32m    461\u001b[0m     \u001b[0;31m# Create the parser.\u001b[0m\u001b[0;34m\u001b[0m\u001b[0;34m\u001b[0m\u001b[0;34m\u001b[0m\u001b[0m\n\u001b[0;32m--> 462\u001b[0;31m     \u001b[0mparser\u001b[0m \u001b[0;34m=\u001b[0m \u001b[0mTextFileReader\u001b[0m\u001b[0;34m(\u001b[0m\u001b[0mfilepath_or_buffer\u001b[0m\u001b[0;34m,\u001b[0m \u001b[0;34m**\u001b[0m\u001b[0mkwds\u001b[0m\u001b[0;34m)\u001b[0m\u001b[0;34m\u001b[0m\u001b[0;34m\u001b[0m\u001b[0m\n\u001b[0m\u001b[1;32m    463\u001b[0m \u001b[0;34m\u001b[0m\u001b[0m\n\u001b[1;32m    464\u001b[0m     \u001b[0;32mif\u001b[0m \u001b[0mchunksize\u001b[0m \u001b[0;32mor\u001b[0m \u001b[0miterator\u001b[0m\u001b[0;34m:\u001b[0m\u001b[0;34m\u001b[0m\u001b[0;34m\u001b[0m\u001b[0m\n",
      "\u001b[0;32m~/analise-dados-enem/lib/python3.8/site-packages/pandas/io/parsers.py\u001b[0m in \u001b[0;36m__init__\u001b[0;34m(self, f, engine, **kwds)\u001b[0m\n\u001b[1;32m    817\u001b[0m             \u001b[0mself\u001b[0m\u001b[0;34m.\u001b[0m\u001b[0moptions\u001b[0m\u001b[0;34m[\u001b[0m\u001b[0;34m\"has_index_names\"\u001b[0m\u001b[0;34m]\u001b[0m \u001b[0;34m=\u001b[0m \u001b[0mkwds\u001b[0m\u001b[0;34m[\u001b[0m\u001b[0;34m\"has_index_names\"\u001b[0m\u001b[0;34m]\u001b[0m\u001b[0;34m\u001b[0m\u001b[0;34m\u001b[0m\u001b[0m\n\u001b[1;32m    818\u001b[0m \u001b[0;34m\u001b[0m\u001b[0m\n\u001b[0;32m--> 819\u001b[0;31m         \u001b[0mself\u001b[0m\u001b[0;34m.\u001b[0m\u001b[0m_engine\u001b[0m \u001b[0;34m=\u001b[0m \u001b[0mself\u001b[0m\u001b[0;34m.\u001b[0m\u001b[0m_make_engine\u001b[0m\u001b[0;34m(\u001b[0m\u001b[0mself\u001b[0m\u001b[0;34m.\u001b[0m\u001b[0mengine\u001b[0m\u001b[0;34m)\u001b[0m\u001b[0;34m\u001b[0m\u001b[0;34m\u001b[0m\u001b[0m\n\u001b[0m\u001b[1;32m    820\u001b[0m \u001b[0;34m\u001b[0m\u001b[0m\n\u001b[1;32m    821\u001b[0m     \u001b[0;32mdef\u001b[0m \u001b[0mclose\u001b[0m\u001b[0;34m(\u001b[0m\u001b[0mself\u001b[0m\u001b[0;34m)\u001b[0m\u001b[0;34m:\u001b[0m\u001b[0;34m\u001b[0m\u001b[0;34m\u001b[0m\u001b[0m\n",
      "\u001b[0;32m~/analise-dados-enem/lib/python3.8/site-packages/pandas/io/parsers.py\u001b[0m in \u001b[0;36m_make_engine\u001b[0;34m(self, engine)\u001b[0m\n\u001b[1;32m   1048\u001b[0m             )\n\u001b[1;32m   1049\u001b[0m         \u001b[0;31m# error: Too many arguments for \"ParserBase\"\u001b[0m\u001b[0;34m\u001b[0m\u001b[0;34m\u001b[0m\u001b[0;34m\u001b[0m\u001b[0m\n\u001b[0;32m-> 1050\u001b[0;31m         \u001b[0;32mreturn\u001b[0m \u001b[0mmapping\u001b[0m\u001b[0;34m[\u001b[0m\u001b[0mengine\u001b[0m\u001b[0;34m]\u001b[0m\u001b[0;34m(\u001b[0m\u001b[0mself\u001b[0m\u001b[0;34m.\u001b[0m\u001b[0mf\u001b[0m\u001b[0;34m,\u001b[0m \u001b[0;34m**\u001b[0m\u001b[0mself\u001b[0m\u001b[0;34m.\u001b[0m\u001b[0moptions\u001b[0m\u001b[0;34m)\u001b[0m  \u001b[0;31m# type: ignore[call-arg]\u001b[0m\u001b[0;34m\u001b[0m\u001b[0;34m\u001b[0m\u001b[0m\n\u001b[0m\u001b[1;32m   1051\u001b[0m \u001b[0;34m\u001b[0m\u001b[0m\n\u001b[1;32m   1052\u001b[0m     \u001b[0;32mdef\u001b[0m \u001b[0m_failover_to_python\u001b[0m\u001b[0;34m(\u001b[0m\u001b[0mself\u001b[0m\u001b[0;34m)\u001b[0m\u001b[0;34m:\u001b[0m\u001b[0;34m\u001b[0m\u001b[0;34m\u001b[0m\u001b[0m\n",
      "\u001b[0;32m~/analise-dados-enem/lib/python3.8/site-packages/pandas/io/parsers.py\u001b[0m in \u001b[0;36m__init__\u001b[0;34m(self, src, **kwds)\u001b[0m\n\u001b[1;32m   1865\u001b[0m \u001b[0;34m\u001b[0m\u001b[0m\n\u001b[1;32m   1866\u001b[0m         \u001b[0;31m# open handles\u001b[0m\u001b[0;34m\u001b[0m\u001b[0;34m\u001b[0m\u001b[0;34m\u001b[0m\u001b[0m\n\u001b[0;32m-> 1867\u001b[0;31m         \u001b[0mself\u001b[0m\u001b[0;34m.\u001b[0m\u001b[0m_open_handles\u001b[0m\u001b[0;34m(\u001b[0m\u001b[0msrc\u001b[0m\u001b[0;34m,\u001b[0m \u001b[0mkwds\u001b[0m\u001b[0;34m)\u001b[0m\u001b[0;34m\u001b[0m\u001b[0;34m\u001b[0m\u001b[0m\n\u001b[0m\u001b[1;32m   1868\u001b[0m         \u001b[0;32massert\u001b[0m \u001b[0mself\u001b[0m\u001b[0;34m.\u001b[0m\u001b[0mhandles\u001b[0m \u001b[0;32mis\u001b[0m \u001b[0;32mnot\u001b[0m \u001b[0;32mNone\u001b[0m\u001b[0;34m\u001b[0m\u001b[0;34m\u001b[0m\u001b[0m\n\u001b[1;32m   1869\u001b[0m         \u001b[0;32mfor\u001b[0m \u001b[0mkey\u001b[0m \u001b[0;32min\u001b[0m \u001b[0;34m(\u001b[0m\u001b[0;34m\"storage_options\"\u001b[0m\u001b[0;34m,\u001b[0m \u001b[0;34m\"encoding\"\u001b[0m\u001b[0;34m,\u001b[0m \u001b[0;34m\"memory_map\"\u001b[0m\u001b[0;34m,\u001b[0m \u001b[0;34m\"compression\"\u001b[0m\u001b[0;34m)\u001b[0m\u001b[0;34m:\u001b[0m\u001b[0;34m\u001b[0m\u001b[0;34m\u001b[0m\u001b[0m\n",
      "\u001b[0;32m~/analise-dados-enem/lib/python3.8/site-packages/pandas/io/parsers.py\u001b[0m in \u001b[0;36m_open_handles\u001b[0;34m(self, src, kwds)\u001b[0m\n\u001b[1;32m   1360\u001b[0m         \u001b[0mLet\u001b[0m \u001b[0mthe\u001b[0m \u001b[0mreaders\u001b[0m \u001b[0mopen\u001b[0m \u001b[0mIOHanldes\u001b[0m \u001b[0mafter\u001b[0m \u001b[0mthey\u001b[0m \u001b[0mare\u001b[0m \u001b[0mdone\u001b[0m \u001b[0;32mwith\u001b[0m \u001b[0mtheir\u001b[0m \u001b[0mpotential\u001b[0m \u001b[0mraises\u001b[0m\u001b[0;34m.\u001b[0m\u001b[0;34m\u001b[0m\u001b[0;34m\u001b[0m\u001b[0m\n\u001b[1;32m   1361\u001b[0m         \"\"\"\n\u001b[0;32m-> 1362\u001b[0;31m         self.handles = get_handle(\n\u001b[0m\u001b[1;32m   1363\u001b[0m             \u001b[0msrc\u001b[0m\u001b[0;34m,\u001b[0m\u001b[0;34m\u001b[0m\u001b[0;34m\u001b[0m\u001b[0m\n\u001b[1;32m   1364\u001b[0m             \u001b[0;34m\"r\"\u001b[0m\u001b[0;34m,\u001b[0m\u001b[0;34m\u001b[0m\u001b[0;34m\u001b[0m\u001b[0m\n",
      "\u001b[0;32m~/analise-dados-enem/lib/python3.8/site-packages/pandas/io/common.py\u001b[0m in \u001b[0;36mget_handle\u001b[0;34m(path_or_buf, mode, encoding, compression, memory_map, is_text, errors, storage_options)\u001b[0m\n\u001b[1;32m    640\u001b[0m                 \u001b[0merrors\u001b[0m \u001b[0;34m=\u001b[0m \u001b[0;34m\"replace\"\u001b[0m\u001b[0;34m\u001b[0m\u001b[0;34m\u001b[0m\u001b[0m\n\u001b[1;32m    641\u001b[0m             \u001b[0;31m# Encoding\u001b[0m\u001b[0;34m\u001b[0m\u001b[0;34m\u001b[0m\u001b[0;34m\u001b[0m\u001b[0m\n\u001b[0;32m--> 642\u001b[0;31m             handle = open(\n\u001b[0m\u001b[1;32m    643\u001b[0m                 \u001b[0mhandle\u001b[0m\u001b[0;34m,\u001b[0m\u001b[0;34m\u001b[0m\u001b[0;34m\u001b[0m\u001b[0m\n\u001b[1;32m    644\u001b[0m                 \u001b[0mioargs\u001b[0m\u001b[0;34m.\u001b[0m\u001b[0mmode\u001b[0m\u001b[0;34m,\u001b[0m\u001b[0;34m\u001b[0m\u001b[0;34m\u001b[0m\u001b[0m\n",
      "\u001b[0;31mFileNotFoundError\u001b[0m: [Errno 2] No such file or directory: '../data/atas-28.03.2020.csv'"
     ]
    }
   ],
   "source": [
    "import pandas as pd\n",
    "\n",
    "\n",
    "# esse arquivo pode ser baixado aqui: https://www.kaggle.com/anapaulagomes/atas-da-cmara-de-vereadores\n",
    "atas = pd.read_csv('atas-28.03.2020.csv')\n",
    "atas.describe()"
   ]
  },
  {
   "cell_type": "markdown",
   "metadata": {},
   "source": [
    "Explicando um pouco sobre os dados (colunas):\n",
    "\n",
    "* `crawled_at`: data da coleta\n",
    "* `crawled_from`: fonte da coleta (site de onde a informação foi retirada)\n",
    "* `date`: data da sessão\n",
    "* `event_type`: tipo do evento: sessão ordinária, ordem do dia, solene, etc\n",
    "* `file_content`: conteúdo do arquivo da ata\n",
    "* `file_urls`: url(s) do arquivo da ata\n",
    "* `title`: título da ata\n",
    "\n",
    "### Filtrando por data\n",
    "\n",
    "Bom, vamos então filtrar os dados e pegar apenas as atas entre 1 de Janeiro\n",
    "e 28 de Março:"
   ]
  },
  {
   "cell_type": "code",
   "execution_count": null,
   "metadata": {},
   "outputs": [],
   "source": [
    "atas[\"date\"] = pd.to_datetime(atas[\"date\"])\n",
    "atas[\"date\"]\n",
    "atas = atas[atas[\"date\"].isin(pd.date_range(\"2020-01-01\", \"2020-03-28\"))]\n",
    "atas = atas.sort_values('date', ascending=True)  # aqui ordenados por data em ordem crescente\n",
    "atas.head()"
   ]
  },
  {
   "cell_type": "markdown",
   "metadata": {},
   "source": [
    "Bom, quantas atas temos entre Janeiro e Março?"
   ]
  },
  {
   "cell_type": "code",
   "execution_count": null,
   "metadata": {},
   "outputs": [],
   "source": [
    "len(atas)"
   ]
  },
  {
   "cell_type": "markdown",
   "metadata": {},
   "source": [
    "Apenas 21 atas, afinal os trabalhos na casa começaram no início de Fevereiro\n",
    "e pausaram por uma semana por conta do coronavírus.\n",
    "\n",
    "Fonte:\n",
    "https://www.feiradesantana.ba.leg.br/agenda\n",
    "https://www.feiradesantana.ba.leg.br/noticia/2029/c-mara-municipal-suspende-sess-es-ordin-rias-da-pr-xima-semana\n",
    "\n",
    "### Filtrando conteúdo relacionado ao COVID-19\n",
    "\n",
    "Agora que temos nossos dados filtrados por data, vamos ao conteúdo.\n",
    "Na coluna `file_content` podemos ver o conteúdo das atas. Nelas vamos\n",
    "buscar por as palavras:\n",
    "\n",
    "- COVID, COVID-19\n",
    "- coronavírus, corona vírus"
   ]
  },
  {
   "cell_type": "code",
   "execution_count": null,
   "metadata": {},
   "outputs": [],
   "source": [
    "termos_covid = \"COVID-19|coronavírus\"\n",
    "atas = atas[atas['file_content'].str.contains(termos_covid, case=False)]\n",
    "atas"
   ]
  },
  {
   "cell_type": "code",
   "execution_count": null,
   "metadata": {},
   "outputs": [],
   "source": [
    "len(atas)"
   ]
  },
  {
   "cell_type": "markdown",
   "metadata": {},
   "source": [
    "Doze atas mencionando termos que representam o COVID-19 foram encontradas.\n",
    "Vamos ver o que elas dizem?\n",
    "\n",
    "Atenção: o conteúdo das atas é grande para ser mostrado aqui. Por isso vamos\n",
    "destacar as partes que contém os termos encontrados."
   ]
  },
  {
   "cell_type": "code",
   "execution_count": null,
   "metadata": {},
   "outputs": [],
   "source": [
    "import re\n",
    "\n",
    "padrao = r'[A-Z][^\\\\.;]*(coronavírus|covid)[^\\\\.;]*'\n",
    "\n",
    "\n",
    "def trecho_encontrado(conteudo_do_arquivo):\n",
    "    frases_encontradas = []\n",
    "    for encontrado in re.finditer(padrao, conteudo_do_arquivo, re.IGNORECASE):\n",
    "        frases_encontradas.append(encontrado.group().strip().replace('\\n', ''))\n",
    "    return '\\n'.join(frases_encontradas)\n",
    "\n",
    "atas['trecho'] = atas['file_content'].apply(trecho_encontrado)\n",
    "pd.set_option('display.max_colwidth', 100)\n",
    "\n",
    "atas[['date', 'event_type', 'title', 'file_urls', 'trecho']]"
   ]
  },
  {
   "cell_type": "markdown",
   "metadata": {},
   "source": [
    "Já que não temos tantos dados assim (apenas 12 atas) podemos fazer parte dessa análise manual,\n",
    "para ter certeza que nenhum vereador foi deixado de fora. Vamos usar o próximo comando\n",
    "para exportar os dados para um novo CSV. Nesse CSV vai ter os dados filtrados por data\n",
    "e também o trecho, além do conteúdo da ata completo."
   ]
  },
  {
   "cell_type": "code",
   "execution_count": null,
   "metadata": {},
   "outputs": [],
   "source": [
    "def converte_para_arquivo(df, nome_do_arquivo):\n",
    "    conteudo_do_csv = df.to_csv(index=False)  # convertemos o conteudo para CSV\n",
    "    arquivo = open(nome_do_arquivo, 'w')  # criamos um arquivo\n",
    "    arquivo.write(conteudo_do_csv)\n",
    "    arquivo.close()\n",
    "\n",
    "converte_para_arquivo(atas, 'analise-covid19-atas-camara.csv')"
   ]
  },
  {
   "cell_type": "markdown",
   "metadata": {},
   "source": [
    "### Quem levantou a bola do COVID-19 na Câmara?\n",
    "\n",
    "Uma planilha com a análise do quem-disse-o-que pode ser encontrada [aqui](https://docs.google.com/spreadsheets/d/1h7ioFnHH8sGSxglThTpQX8W_rK9cgI_QRB3u5aAcNMI/edit?usp=sharing)."
   ]
  },
  {
   "cell_type": "markdown",
   "metadata": {},
   "source": [
    "## E o que dizem os diários oficiais?\n",
    "\n",
    "No diário oficial do município você encontra informações sobre o que virou\n",
    "realidade: as decretas, medidas, nomeações, vetos.\n",
    "\n",
    "Em Feira de Santana os diários dos poderes executivo e legislativo estão juntos.\n",
    "Vamos filtrar os diários do legislativo, separar por data, como fizemos com as\n",
    "atas, e ver o que foi feito."
   ]
  },
  {
   "cell_type": "code",
   "execution_count": null,
   "metadata": {},
   "outputs": [],
   "source": [
    "# esse arquivo pode ser baixado aqui: https://www.kaggle.com/anapaulagomes/dirios-oficiais-de-feira-de-santana\n",
    "diarios = pd.read_csv('gazettes-28.03.2020.csv')\n",
    "diarios = diarios[diarios['power'] == 'legislativo']\n",
    "\n",
    "diarios[\"date\"] = pd.to_datetime(diarios[\"date\"])\n",
    "diarios = diarios[diarios[\"date\"].isin(pd.date_range(\"2020-01-01\", \"2020-03-28\"))]\n",
    "diarios = diarios.sort_values('date', ascending=True)  # aqui ordenados por data em ordem crescente\n",
    "\n",
    "diarios.head()"
   ]
  },
  {
   "cell_type": "markdown",
   "metadata": {},
   "source": [
    "O que é importante saber sobre as colunas dessa base de dados:\n",
    "\n",
    "* `date`: quando o diário foi publicado\n",
    "* `power`: poder executivo ou legislativo (sim, os diários são unificados)\n",
    "* `year_and_edition`: ano e edição do diário\n",
    "* `events`:\n",
    "* `crawled_at`: quando foi feita essa coleta\n",
    "* `crawled_from`: qual a fonte dos dados\n",
    "* `file_urls`: url dos arquivos\n",
    "* `file_content`: o conteúdo do arquivo do diário\n",
    "\n",
    "Vamos filtrar o conteúdo dos arquivos que contém os termos relacionados ao COVID-19\n",
    "(os mesmos que utilizamos com as atas)."
   ]
  },
  {
   "cell_type": "code",
   "execution_count": null,
   "metadata": {},
   "outputs": [],
   "source": [
    "diarios = diarios[diarios['file_content'].str.contains(termos_covid, case=False)]\n",
    "diarios['trecho'] = diarios['file_content'].apply(trecho_encontrado)\n",
    "\n",
    "diarios[['date', 'power', 'year_and_edition', 'file_urls', 'trecho']]"
   ]
  },
  {
   "cell_type": "markdown",
   "metadata": {},
   "source": [
    "Apenas 4 diários com menção ao termo, entre 1 de Janeiro e 28 de Março de 2020\n",
    "foram encontrados. O que será que eles dizem? Vamos exportar os resultados para\n",
    "um novo CSV e continuar no Google Sheets."
   ]
  },
  {
   "cell_type": "code",
   "execution_count": null,
   "metadata": {},
   "outputs": [],
   "source": [
    "converte_para_arquivo(diarios, 'analise-covid19-diarios-camara.csv')"
   ]
  },
  {
   "cell_type": "markdown",
   "metadata": {},
   "source": [
    "### O que encontramos nos diários\n",
    "\n",
    "Os 4 diários tratam de suspender licitações por conta da situação na cidade.\n",
    "Apenas um dos diários, o diário do dia 17 de Março de 2020, [Ano VI - Edição Nº 733](http://www.diariooficial.feiradesantana.ba.gov.br/atos/legislativo/2CI2L71632020.pdf),\n",
    "traz instruções a respeito do que será feito na casa. Aqui citamos o trecho que fala\n",
    "a respeito das medidas:\n",
    "\n",
    "> Art.  1º **Qualquer  servidor,  estagiário,  terceirizado,  vereador  que  apresentar  febre  ou  sintomas  respiratórios  (tosse  seca,  dor  de garganta,  mialgia,  cefaleia  e  prostração,  dificuldade  para  respirar  e  batimento  das  asas  nasais)  passa  a  ser  considerado  um  caso suspeito e deverá notificar imediatamente em até 24 horas à Vigilância Sanitária Epidemiológica/Secretaria Municipal de Saúde**.\n",
    "§ 1ºQualquer servidor, estagiário, terceirizado, a partir dos 60 (sessenta)anos; portador de doença crônica e gestante estarão liberados das atividades laborais na Câmara Municipal de Feira de Santana sem prejuízo a sua remuneração.\n",
    "§ 2º A(o) vereador(a) a partir dos 60 (sessenta)anos; portador de doença crônica e gestante será facultado as atividades laborais na Câmara Municipal de Feira de Santana sem prejuízo a sua remuneração\n",
    "§ 3º Será  considerado  falta  justificada  ao  serviço  público  ou  à  atividade  laboral  privada  o  período  de  ausência  decorrente de afastamento por orientação médica.\n",
    "\n",
    "> Art. 2º **Fica interditado o elevador no prédio anexo por tempo indeterminado**, até que sejam efetivamente contida a propagação do Coronavírus no Município e estabilizada a situação. _Parágrafo único_ O uso do elevador nesse período só será autorizado para transporte de portadores de necessidades especiais, como cadeirantes e pessoas com mobilidade reduzida.\n",
    "\n",
    "> Art. 3º Será liberada a catraca para acesso ao prédio anexo. \n",
    "\n",
    "> Art. 4º O portãolateral (acesso a rua do prédio anexo) será fechado com entrada apenas pela portaria principal.\n",
    "\n",
    "> Art. 5º Será disponibilizado nas áreas comuns dispensadores para álcool em gel.\n",
    "\n",
    "> Art.6º Será  intensificada  a  limpeza  nos  banheiros,  elevadores,  corrimãos,  maçanetase  áreas  comuns  com  grande  circulação de pessoas.\n",
    "\n",
    "> Art.7º Na cozinha e copa só será permitido simultaneamente à permanência de uma pessoa. \n",
    "\n",
    "> Art. 8º **Ficam suspensas as Sessões Solenes, Especiais e Audiências Públicas por tempo indeterminado**, até que sejam efetivamente contida a propagação do Coronavírus no Município e estabilizada a situação. \n",
    "\n",
    "> Art. 9º Nesse período de contenção é recomendado que o público/visitante assista a Sessão Ordinária on-line via TV Câmara. Parágrafo - Na  Portaria  do  Prédio  Sede  **haverá  um  servidor  orientando  as  pessoas  a  assistirem  os  trabalhos  legislativos  pela  TV Câmara** disponível  em https://www.feiradesantana.ba.leg.br/  distribuindo  panfletos  informativos  sobre  sintomas  e  métodos  de prevenção.\n",
    "\n",
    "> Art. 10º No âmbito dos gabinetes dos respectivos Vereadores, **fica a critério de cada qual adotar restrições ao atendimento presencial do público externo ou visitação à sua respectiva área**.\n",
    "\n",
    "> Art.11º A Gerência Administrativa fica autorizada a adotar outras providências administrativas necessárias para evitar a propagação interna do vírus COVID-19, devendo as medidas serem submetidas ao conhecimento da Presidência.\n",
    "\n",
    "> Art.12º A validade desta Portaria será enquanto valer oestado de emergência de saúde pública realizado pela Secretaria Municipal de Saúde e pelo Comitê de Ações de Enfrentamento ao Coronavírus no Município de Feira de Santana.\n",
    "\n",
    "> Art.13º Esta Portaria entra em vigor na data de sua publicação, revogadas disposições em contrário.\n"
   ]
  },
  {
   "cell_type": "markdown",
   "metadata": {},
   "source": [
    "## Conclusão\n",
    "\n",
    "Caso os edis da casa tenham feito mais nós não teríamos como saber sem ser por as atas,\n",
    "pelo diário oficial ou por notícias do site. O ideal seria ter uma página com projetos\n",
    "e iniciativas de cada vereador. Dessa forma, seria mais fácil se manter atualizado a\n",
    "respeito do trabalho de cada um na cidade.\n",
    "\n",
    "As análises manuais e o que encontramos pode ser visto [aqui](https://docs.google.com/spreadsheets/d/1h7ioFnHH8sGSxglThTpQX8W_rK9cgI_QRB3u5aAcNMI/edit?usp=sharing).\n",
    "Um texto sobre a análise e as descobertas podem ser encontradas no blog do [Dados Abertos de Feira](https://medium.com/@dadosabertosdefeira).\n",
    "\n",
    "Gostou do que viu? Achou interessante? Compartilhe com outras pessoas e não esqueça de mencionar\n",
    "o projeto."
   ]
  },
  {
   "cell_type": "code",
   "execution_count": null,
   "metadata": {},
   "outputs": [],
   "source": []
  }
 ],
 "metadata": {
  "kernelspec": {
   "display_name": "Python 3",
   "language": "python",
   "name": "python3"
  },
  "language_info": {
   "codemirror_mode": {
    "name": "ipython",
    "version": 3
   },
   "file_extension": ".py",
   "mimetype": "text/x-python",
   "name": "python",
   "nbconvert_exporter": "python",
   "pygments_lexer": "ipython3",
   "version": "3.8.5"
  }
 },
 "nbformat": 4,
 "nbformat_minor": 2
}
