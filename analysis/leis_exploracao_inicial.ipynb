{
 "cells": [
  {
   "cell_type": "markdown",
   "metadata": {},
   "source": [
    "# Exploração Inicial e frequência de palavras\n",
    "\n",
    "Este é um notebook pra exploração inicial das leis do município. \n",
    "\n",
    "Atualmente, só considera a frequência de palavras, de forma ingênua.\n",
    "\n",
    "### Algumas ideias para melhorar esse notebook:\n",
    "- Separar entidades (nome de pessoas, ruas) das outras palavras\n",
    "- Rodar o Part of Speech Tagging(POS Tagging) do Spacy e calcular frequências para cada categoria (substantivo, adjetivo, etc)\n",
    "- Separar as leis por categorias ou por Latent Semantic Analysis (LSA) e calcular a frequência de palavras pra cada categoria ou categoria latente (LSA)\n",
    "\n",
    "### Algumas referências para ideias e melhorias:\n",
    "- https://www.scientificamerican.com/article/explore-175-years-of-words-in-scientific-american/ e https://www.scientificamerican.com/article/how-to-turn-175-years-of-words-in-scientific-american-into-an-image/\n",
    "- https://infovis.fh-potsdam.de/tutorials/infovis5text.html\n",
    "- https://towardsdatascience.com/a-complete-exploratory-data-analysis-and-visualization-for-text-data-29fb1b96fb6a\n"
   ]
  },
  {
   "cell_type": "code",
   "execution_count": null,
   "metadata": {},
   "outputs": [],
   "source": [
    "import pandas as pd\n",
    "import matplotlib.pyplot as plt"
   ]
  },
  {
   "cell_type": "code",
   "execution_count": null,
   "metadata": {
    "tags": []
   },
   "outputs": [],
   "source": [
    "leis = pd.read_json('leis.json')\n",
    "leis.drop(['documento'], inplace=True, axis=1)\n",
    "print(leis.info())\n",
    "print(leis.nunique())\n",
    "leis"
   ]
  },
  {
   "cell_type": "code",
   "execution_count": null,
   "metadata": {},
   "outputs": [],
   "source": [
    "leis.iloc[len(leis)-1, 3]"
   ]
  },
  {
   "cell_type": "code",
   "execution_count": null,
   "metadata": {
    "tags": []
   },
   "outputs": [],
   "source": [
    "from scripts.parsers import limpa_texto\n",
    "texto = ' '.join(leis['texto'].tolist())\n",
    "texto = limpa_texto(texto, string=False)\n",
    "\n",
    "num_palavras_unicas = len(set(texto))\n",
    "print(f'Numero de palavras unicas no texto: {num_palavras_unicas}')"
   ]
  },
  {
   "cell_type": "code",
   "execution_count": null,
   "metadata": {},
   "outputs": [],
   "source": [
    "from nltk import FreqDist\n",
    "\n",
    "plt.figure(figsize=(20,10))\n",
    "fd = FreqDist(texto)\n",
    "fd.plot(30, title='Palavras x Frequencia', cumulative=False)"
   ]
  }
 ],
 "metadata": {
  "language_info": {
   "codemirror_mode": {
    "name": "ipython",
    "version": 3
   },
   "file_extension": ".py",
   "mimetype": "text/x-python",
   "name": "python",
   "nbconvert_exporter": "python",
   "pygments_lexer": "ipython3",
   "version": "3.8.2-final"
  },
  "orig_nbformat": 2,
  "kernelspec": {
   "name": "",
   "display_name": ""
  }
 },
 "nbformat": 4,
 "nbformat_minor": 2
}
