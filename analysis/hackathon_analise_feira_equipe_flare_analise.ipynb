{
 "cells": [
  {
   "cell_type": "markdown",
   "metadata": {},
   "source": [
    "# Equipe : FlaRe análise\n",
    "# integrantes:  Flávio Monteiro e Rejanio Moraes\n",
    "# email: rejaniomoraes@gmail.com\n",
    "##### relatório explicativo da análise: https://docs.google.com/document/d/1aRzknUnMZdc_e3nqljTfou46NI-mL7rgYOyh1Bw2MAo/edit"
   ]
  },
  {
   "cell_type": "markdown",
   "metadata": {},
   "source": [
    "### Análise: O crescimento educacional da população está relacionado com o crescimento do trabalho formal?\n",
    "\n",
    "#### A análise começa investigando o nível educacional da mão de obra jovens com idade para trabalhar e a expectativa de anos de estudo. Depois foi analisada os índices de empregos formais, informais e o grau de formalização dos ocupados. Também o nível educacional da mão de obra que está trabalhando, o rendimento médio, redimento de até 1 salário mínimo.\n",
    "###### Ps: Importante salientar que os dados disponíveis do munípicio foi do censo apenas do ano 1991, 2000 e 2010. E em alguns casos só tinha os dados do censo de 2010.\n",
    "###### Os dados foram coletados do site: https://atlasbrasil.org.br/consulta/planilha"
   ]
  },
  {
   "cell_type": "code",
   "execution_count": 6,
   "metadata": {},
   "outputs": [],
   "source": [
    "import pandas as pd\n",
    "import numpy as np"
   ]
  },
  {
   "cell_type": "code",
   "execution_count": 8,
   "metadata": {},
   "outputs": [],
   "source": [
    "# Dados da educação de Feira de Santana. Os anos usado nas análises foi do censo do ano 1991, 2000 e 2010 \n",
    "# Infelizmente Feira de Santana não tem dados do PNAD - IBGE, pois não é capital e nem considerada \n",
    "# região metropolitana ainda.\n",
    "dados_edu = pd.read_csv('../data/dados_edu.csv', sep=',')\n",
    "dados_edu.set_index('Territorialidades',inplace = True)\n",
    "dados_edu.drop(index = 'Brasil', inplace = True)"
   ]
  },
  {
   "cell_type": "code",
   "execution_count": 9,
   "metadata": {},
   "outputs": [
    {
     "data": {
      "text/html": [
       "<div>\n",
       "<style scoped>\n",
       "    .dataframe tbody tr th:only-of-type {\n",
       "        vertical-align: middle;\n",
       "    }\n",
       "\n",
       "    .dataframe tbody tr th {\n",
       "        vertical-align: top;\n",
       "    }\n",
       "\n",
       "    .dataframe thead th {\n",
       "        text-align: right;\n",
       "    }\n",
       "</style>\n",
       "<table border=\"1\" class=\"dataframe\">\n",
       "  <thead>\n",
       "    <tr style=\"text-align: right;\">\n",
       "      <th></th>\n",
       "      <th>% de 18 anos ou mais de idade com ensino médio completo 1991</th>\n",
       "      <th>% de 18 anos ou mais de idade com ensino médio completo 2000</th>\n",
       "      <th>% de 18 anos ou mais de idade com ensino médio completo 2010</th>\n",
       "      <th>% de 25 anos ou mais de idade com ensino superior completo 1991</th>\n",
       "      <th>% de 25 anos ou mais de idade com ensino superior completo 2000</th>\n",
       "      <th>% de 25 anos ou mais de idade com ensino superior completo 2010</th>\n",
       "      <th>Expectativa de anos de estudo aos 18 anos de idade 1991</th>\n",
       "      <th>Expectativa de anos de estudo aos 18 anos de idade 2000</th>\n",
       "      <th>Expectativa de anos de estudo aos 18 anos de idade 2010</th>\n",
       "    </tr>\n",
       "    <tr>\n",
       "      <th>Territorialidades</th>\n",
       "      <th></th>\n",
       "      <th></th>\n",
       "      <th></th>\n",
       "      <th></th>\n",
       "      <th></th>\n",
       "      <th></th>\n",
       "      <th></th>\n",
       "      <th></th>\n",
       "      <th></th>\n",
       "    </tr>\n",
       "  </thead>\n",
       "  <tbody>\n",
       "    <tr>\n",
       "      <th>Feira de Santana (BA)</th>\n",
       "      <td>18,89</td>\n",
       "      <td>26,92</td>\n",
       "      <td>40,83</td>\n",
       "      <td>3,18</td>\n",
       "      <td>3,78</td>\n",
       "      <td>7,27</td>\n",
       "      <td>7,34</td>\n",
       "      <td>8,34</td>\n",
       "      <td>9,11</td>\n",
       "    </tr>\n",
       "  </tbody>\n",
       "</table>\n",
       "</div>"
      ],
      "text/plain": [
       "                      % de 18 anos ou mais de idade com ensino médio completo 1991  \\\n",
       "Territorialidades                                                                    \n",
       "Feira de Santana (BA)                                              18,89             \n",
       "\n",
       "                      % de 18 anos ou mais de idade com ensino médio completo 2000  \\\n",
       "Territorialidades                                                                    \n",
       "Feira de Santana (BA)                                              26,92             \n",
       "\n",
       "                      % de 18 anos ou mais de idade com ensino médio completo 2010  \\\n",
       "Territorialidades                                                                    \n",
       "Feira de Santana (BA)                                              40,83             \n",
       "\n",
       "                      % de 25 anos ou mais de idade com ensino superior completo 1991  \\\n",
       "Territorialidades                                                                       \n",
       "Feira de Santana (BA)                                               3,18                \n",
       "\n",
       "                      % de 25 anos ou mais de idade com ensino superior completo 2000  \\\n",
       "Territorialidades                                                                       \n",
       "Feira de Santana (BA)                                               3,78                \n",
       "\n",
       "                      % de 25 anos ou mais de idade com ensino superior completo 2010  \\\n",
       "Territorialidades                                                                       \n",
       "Feira de Santana (BA)                                               7,27                \n",
       "\n",
       "                      Expectativa de anos de estudo aos 18 anos de idade 1991  \\\n",
       "Territorialidades                                                               \n",
       "Feira de Santana (BA)                                               7,34        \n",
       "\n",
       "                      Expectativa de anos de estudo aos 18 anos de idade 2000  \\\n",
       "Territorialidades                                                               \n",
       "Feira de Santana (BA)                                               8,34        \n",
       "\n",
       "                      Expectativa de anos de estudo aos 18 anos de idade 2010  \n",
       "Territorialidades                                                              \n",
       "Feira de Santana (BA)                                               9,11       "
      ]
     },
     "execution_count": 9,
     "metadata": {},
     "output_type": "execute_result"
    }
   ],
   "source": [
    "dados_edu.head()"
   ]
  },
  {
   "cell_type": "code",
   "execution_count": 5,
   "metadata": {},
   "outputs": [],
   "source": [
    "#trocando , para . para ser transformado em float para análises \n",
    "for row , col in dados_edu.iterrows():\n",
    "    aux = col.str.replace(',','.',regex=True)\n",
    "    dados_edu.loc[row] = pd.to_numeric(aux)\n",
    "dados_edu = dados_edu.astype(float)"
   ]
  },
  {
   "cell_type": "code",
   "execution_count": 6,
   "metadata": {},
   "outputs": [
    {
     "data": {
      "text/html": [
       "<div>\n",
       "<style scoped>\n",
       "    .dataframe tbody tr th:only-of-type {\n",
       "        vertical-align: middle;\n",
       "    }\n",
       "\n",
       "    .dataframe tbody tr th {\n",
       "        vertical-align: top;\n",
       "    }\n",
       "\n",
       "    .dataframe thead th {\n",
       "        text-align: right;\n",
       "    }\n",
       "</style>\n",
       "<table border=\"1\" class=\"dataframe\">\n",
       "  <thead>\n",
       "    <tr style=\"text-align: right;\">\n",
       "      <th></th>\n",
       "      <th>% de 18 anos ou mais de idade com ensino médio completo 1991</th>\n",
       "      <th>% de 18 anos ou mais de idade com ensino médio completo 2000</th>\n",
       "      <th>% de 18 anos ou mais de idade com ensino médio completo 2010</th>\n",
       "    </tr>\n",
       "    <tr>\n",
       "      <th>Territorialidades</th>\n",
       "      <th></th>\n",
       "      <th></th>\n",
       "      <th></th>\n",
       "    </tr>\n",
       "  </thead>\n",
       "  <tbody>\n",
       "    <tr>\n",
       "      <th>Feira de Santana (BA)</th>\n",
       "      <td>18.89</td>\n",
       "      <td>26.92</td>\n",
       "      <td>40.83</td>\n",
       "    </tr>\n",
       "  </tbody>\n",
       "</table>\n",
       "</div>"
      ],
      "text/plain": [
       "                       % de 18 anos ou mais de idade com ensino médio completo 1991  \\\n",
       "Territorialidades                                                                     \n",
       "Feira de Santana (BA)                                              18.89              \n",
       "\n",
       "                       % de 18 anos ou mais de idade com ensino médio completo 2000  \\\n",
       "Territorialidades                                                                     \n",
       "Feira de Santana (BA)                                              26.92              \n",
       "\n",
       "                       % de 18 anos ou mais de idade com ensino médio completo 2010  \n",
       "Territorialidades                                                                    \n",
       "Feira de Santana (BA)                                              40.83             "
      ]
     },
     "execution_count": 6,
     "metadata": {},
     "output_type": "execute_result"
    }
   ],
   "source": [
    "# Analisando dados da porcentagem de 18 anos ou mais de idade com ensino médio completo nos anos de 1991,2000 e 2010\n",
    "aux = dados_edu[['% de 18 anos ou mais de idade com ensino médio completo 1991','% de 18 anos ou mais de idade com ensino médio completo 2000','% de 18 anos ou mais de idade com ensino médio completo 2010']]\n",
    "aux"
   ]
  },
  {
   "cell_type": "code",
   "execution_count": 7,
   "metadata": {},
   "outputs": [],
   "source": [
    "grafico = aux.groupby(['Feira de Santana (BA)']).sum()"
   ]
  },
  {
   "cell_type": "code",
   "execution_count": 24,
   "metadata": {},
   "outputs": [
    {
     "data": {
      "text/plain": [
       "<matplotlib.legend.Legend at 0x7fea34d65910>"
      ]
     },
     "execution_count": 24,
     "metadata": {},
     "output_type": "execute_result"
    },
    {
     "data": {
      "image/png": "[encoded data removed]",
      "text/plain": [
       "<Figure size 432x288 with 1 Axes>"
      ]
     },
     "metadata": {
      "needs_background": "light"
     },
     "output_type": "display_data"
    }
   ],
   "source": [
    "\n",
    "ax = grafico.plot.bar()\n",
    "ax.set_title(\"Porcentagem de 18 anos ou mais de idade com ensino médio completo nos anos de 1991, 2000 e 2010\")\n",
    "ax.legend(bbox_to_anchor=(1.2, 0.5))"
   ]
  },
  {
   "cell_type": "code",
   "execution_count": 13,
   "metadata": {},
   "outputs": [
    {
     "data": {
      "text/html": [
       "<div>\n",
       "<style scoped>\n",
       "    .dataframe tbody tr th:only-of-type {\n",
       "        vertical-align: middle;\n",
       "    }\n",
       "\n",
       "    .dataframe tbody tr th {\n",
       "        vertical-align: top;\n",
       "    }\n",
       "\n",
       "    .dataframe thead th {\n",
       "        text-align: right;\n",
       "    }\n",
       "</style>\n",
       "<table border=\"1\" class=\"dataframe\">\n",
       "  <thead>\n",
       "    <tr style=\"text-align: right;\">\n",
       "      <th></th>\n",
       "      <th>% de 25 anos ou mais de idade com ensino superior completo 1991</th>\n",
       "      <th>% de 25 anos ou mais de idade com ensino superior completo 2000</th>\n",
       "      <th>% de 25 anos ou mais de idade com ensino superior completo 2010</th>\n",
       "    </tr>\n",
       "    <tr>\n",
       "      <th>Territorialidades</th>\n",
       "      <th></th>\n",
       "      <th></th>\n",
       "      <th></th>\n",
       "    </tr>\n",
       "  </thead>\n",
       "  <tbody>\n",
       "    <tr>\n",
       "      <th>Feira de Santana (BA)</th>\n",
       "      <td>3.18</td>\n",
       "      <td>3.78</td>\n",
       "      <td>7.27</td>\n",
       "    </tr>\n",
       "  </tbody>\n",
       "</table>\n",
       "</div>"
      ],
      "text/plain": [
       "                       % de 25 anos ou mais de idade com ensino superior completo 1991  \\\n",
       "Territorialidades                                                                        \n",
       "Feira de Santana (BA)                                               3.18                 \n",
       "\n",
       "                       % de 25 anos ou mais de idade com ensino superior completo 2000  \\\n",
       "Territorialidades                                                                        \n",
       "Feira de Santana (BA)                                               3.78                 \n",
       "\n",
       "                       % de 25 anos ou mais de idade com ensino superior completo 2010  \n",
       "Territorialidades                                                                       \n",
       "Feira de Santana (BA)                                               7.27                "
      ]
     },
     "execution_count": 13,
     "metadata": {},
     "output_type": "execute_result"
    }
   ],
   "source": [
    "# Analisando dados da porcentagem de 25 anos ou mais de idade com ensino superior completo nos anos de 1991,2000 e 2010\n",
    "aux = dados_edu[['% de 25 anos ou mais de idade com ensino superior completo 1991','% de 25 anos ou mais de idade com ensino superior completo 2000','% de 25 anos ou mais de idade com ensino superior completo 2010']]\n",
    "aux"
   ]
  },
  {
   "cell_type": "code",
   "execution_count": null,
   "metadata": {},
   "outputs": [],
   "source": [
    "grafico = aux.groupby(['Feira de Santana (BA)']).sum()"
   ]
  },
  {
   "cell_type": "code",
   "execution_count": 14,
   "metadata": {},
   "outputs": [
    {
     "data": {
      "text/plain": [
       "<matplotlib.legend.Legend at 0x7fea352aa850>"
      ]
     },
     "execution_count": 14,
     "metadata": {},
     "output_type": "execute_result"
    },
    {
     "data": {
      "image/png": "[encoded data removed]",
      "text/plain": [
       "<Figure size 432x288 with 1 Axes>"
      ]
     },
     "metadata": {
      "needs_background": "light"
     },
     "output_type": "display_data"
    }
   ],
   "source": [
    "ax = grafico.plot.bar()\n",
    "ax.set_title(\"Porcentagem de 25 anos ou mais de idade com ensino superior completo nos anos de 1991, 2000 e 2010\")\n",
    "ax.legend(bbox_to_anchor=(1.2, 0.5))"
   ]
  },
  {
   "cell_type": "code",
   "execution_count": 10,
   "metadata": {
    "scrolled": true
   },
   "outputs": [
    {
     "data": {
      "text/html": [
       "<div>\n",
       "<style scoped>\n",
       "    .dataframe tbody tr th:only-of-type {\n",
       "        vertical-align: middle;\n",
       "    }\n",
       "\n",
       "    .dataframe tbody tr th {\n",
       "        vertical-align: top;\n",
       "    }\n",
       "\n",
       "    .dataframe thead th {\n",
       "        text-align: right;\n",
       "    }\n",
       "</style>\n",
       "<table border=\"1\" class=\"dataframe\">\n",
       "  <thead>\n",
       "    <tr style=\"text-align: right;\">\n",
       "      <th></th>\n",
       "      <th>% de ocupados de 18 anos ou mais de idade que são empregados com carteira 1991</th>\n",
       "      <th>% de ocupados de 18 anos ou mais de idade que são empregados com carteira 2000</th>\n",
       "      <th>% de ocupados de 18 anos ou mais de idade que são empregados com carteira 2010</th>\n",
       "      <th>% de ocupados de 18 anos ou mais de idade que são empregados sem carteira 1991</th>\n",
       "      <th>% de ocupados de 18 anos ou mais de idade que são empregados sem carteira 2000</th>\n",
       "      <th>% de ocupados de 18 anos ou mais de idade que são empregados sem carteira 2010</th>\n",
       "      <th>Grau de formalização dos ocupados - 18 anos ou mais 1991</th>\n",
       "      <th>Grau de formalização dos ocupados - 18 anos ou mais 2000</th>\n",
       "      <th>Grau de formalização dos ocupados - 18 anos ou mais 2010</th>\n",
       "      <th>% dos ocupados com ensino médio completo 1991</th>\n",
       "      <th>...</th>\n",
       "      <th>% dos ocupados com rendimento de até 1 salário mínimo 2010</th>\n",
       "      <th>% dos ocupados com rendimento de até 2 salários mínimo 1991</th>\n",
       "      <th>% dos ocupados com rendimento de até 2 salários mínimo 2000</th>\n",
       "      <th>% dos ocupados com rendimento de até 2 salários mínimo 2010</th>\n",
       "      <th>% dos ocupados com rendimento de até 3 salários mínimo 1991</th>\n",
       "      <th>% dos ocupados com rendimento de até 3 salários mínimo 2000</th>\n",
       "      <th>% dos ocupados com rendimento de até 3 salários mínimo 2010</th>\n",
       "      <th>% dos ocupados com rendimento de até 5 salários mínimo 1991</th>\n",
       "      <th>% dos ocupados com rendimento de até 5 salários mínimo 2000</th>\n",
       "      <th>% dos ocupados com rendimento de até 5 salários mínimo 2010</th>\n",
       "    </tr>\n",
       "    <tr>\n",
       "      <th>Territorialidades</th>\n",
       "      <th></th>\n",
       "      <th></th>\n",
       "      <th></th>\n",
       "      <th></th>\n",
       "      <th></th>\n",
       "      <th></th>\n",
       "      <th></th>\n",
       "      <th></th>\n",
       "      <th></th>\n",
       "      <th></th>\n",
       "      <th></th>\n",
       "      <th></th>\n",
       "      <th></th>\n",
       "      <th></th>\n",
       "      <th></th>\n",
       "      <th></th>\n",
       "      <th></th>\n",
       "      <th></th>\n",
       "      <th></th>\n",
       "      <th></th>\n",
       "      <th></th>\n",
       "    </tr>\n",
       "  </thead>\n",
       "  <tbody>\n",
       "    <tr>\n",
       "      <th>Feira de Santana (BA)</th>\n",
       "      <td>NaN</td>\n",
       "      <td>33,1</td>\n",
       "      <td>41,59</td>\n",
       "      <td>NaN</td>\n",
       "      <td>24,86</td>\n",
       "      <td>22,65</td>\n",
       "      <td>NaN</td>\n",
       "      <td>43,67</td>\n",
       "      <td>51,94</td>\n",
       "      <td>NaN</td>\n",
       "      <td>...</td>\n",
       "      <td>27,06</td>\n",
       "      <td>NaN</td>\n",
       "      <td>80,93</td>\n",
       "      <td>78,1</td>\n",
       "      <td>NaN</td>\n",
       "      <td>86,86</td>\n",
       "      <td>86,73</td>\n",
       "      <td>NaN</td>\n",
       "      <td>93,95</td>\n",
       "      <td>93,61</td>\n",
       "    </tr>\n",
       "  </tbody>\n",
       "</table>\n",
       "<p>1 rows × 30 columns</p>\n",
       "</div>"
      ],
      "text/plain": [
       "                       % de ocupados de 18 anos ou mais de idade que são empregados com carteira 1991  \\\n",
       "Territorialidades                                                                                       \n",
       "Feira de Santana (BA)                                                NaN                                \n",
       "\n",
       "                      % de ocupados de 18 anos ou mais de idade que são empregados com carteira 2000  \\\n",
       "Territorialidades                                                                                      \n",
       "Feira de Santana (BA)                                               33,1                               \n",
       "\n",
       "                      % de ocupados de 18 anos ou mais de idade que são empregados com carteira 2010  \\\n",
       "Territorialidades                                                                                      \n",
       "Feira de Santana (BA)                                              41,59                               \n",
       "\n",
       "                       % de ocupados de 18 anos ou mais de idade que são empregados sem carteira 1991  \\\n",
       "Territorialidades                                                                                       \n",
       "Feira de Santana (BA)                                                NaN                                \n",
       "\n",
       "                      % de ocupados de 18 anos ou mais de idade que são empregados sem carteira 2000  \\\n",
       "Territorialidades                                                                                      \n",
       "Feira de Santana (BA)                                              24,86                               \n",
       "\n",
       "                      % de ocupados de 18 anos ou mais de idade que são empregados sem carteira 2010  \\\n",
       "Territorialidades                                                                                      \n",
       "Feira de Santana (BA)                                              22,65                               \n",
       "\n",
       "                       Grau de formalização dos ocupados - 18 anos ou mais 1991  \\\n",
       "Territorialidades                                                                 \n",
       "Feira de Santana (BA)                                                NaN          \n",
       "\n",
       "                      Grau de formalização dos ocupados - 18 anos ou mais 2000  \\\n",
       "Territorialidades                                                                \n",
       "Feira de Santana (BA)                                              43,67         \n",
       "\n",
       "                      Grau de formalização dos ocupados - 18 anos ou mais 2010  \\\n",
       "Territorialidades                                                                \n",
       "Feira de Santana (BA)                                              51,94         \n",
       "\n",
       "                       % dos ocupados com ensino médio completo 1991  ...  \\\n",
       "Territorialidades                                                     ...   \n",
       "Feira de Santana (BA)                                            NaN  ...   \n",
       "\n",
       "                      % dos ocupados com rendimento de até 1 salário mínimo 2010  \\\n",
       "Territorialidades                                                                  \n",
       "Feira de Santana (BA)                                              27,06           \n",
       "\n",
       "                      % dos ocupados com rendimento de até 2 salários mínimo 1991  \\\n",
       "Territorialidades                                                                   \n",
       "Feira de Santana (BA)                                                NaN            \n",
       "\n",
       "                       % dos ocupados com rendimento de até 2 salários mínimo 2000  \\\n",
       "Territorialidades                                                                    \n",
       "Feira de Santana (BA)                                              80,93             \n",
       "\n",
       "                      % dos ocupados com rendimento de até 2 salários mínimo 2010  \\\n",
       "Territorialidades                                                                   \n",
       "Feira de Santana (BA)                                               78,1            \n",
       "\n",
       "                      % dos ocupados com rendimento de até 3 salários mínimo 1991  \\\n",
       "Territorialidades                                                                   \n",
       "Feira de Santana (BA)                                                NaN            \n",
       "\n",
       "                       % dos ocupados com rendimento de até 3 salários mínimo 2000  \\\n",
       "Territorialidades                                                                    \n",
       "Feira de Santana (BA)                                              86,86             \n",
       "\n",
       "                       % dos ocupados com rendimento de até 3 salários mínimo 2010  \\\n",
       "Territorialidades                                                                    \n",
       "Feira de Santana (BA)                                              86,73             \n",
       "\n",
       "                      % dos ocupados com rendimento de até 5 salários mínimo 1991  \\\n",
       "Territorialidades                                                                   \n",
       "Feira de Santana (BA)                                                NaN            \n",
       "\n",
       "                       % dos ocupados com rendimento de até 5 salários mínimo 2000  \\\n",
       "Territorialidades                                                                    \n",
       "Feira de Santana (BA)                                              93,95             \n",
       "\n",
       "                      % dos ocupados com rendimento de até 5 salários mínimo 2010  \n",
       "Territorialidades                                                                  \n",
       "Feira de Santana (BA)                                              93,61           \n",
       "\n",
       "[1 rows x 30 columns]"
      ]
     },
     "execution_count": 10,
     "metadata": {},
     "output_type": "execute_result"
    }
   ],
   "source": [
    "# Dados do trabalho de feira de Santana. Os anos usado nas análises foi do censo do ano 2000 e 2010 \n",
    "# Infelizmente Feira de Santana não tem dados do PNAD - IBGE, pois não é capital e nem considerada \n",
    "# região metropolitana ainda.\n",
    "dados_trabalho = pd. read_csv('../data/dados_trabalho.csv', sep=',')\n",
    "\n",
    "dados_trabalho.set_index('Territorialidades',inplace = True)\n",
    "dados_trabalho.drop(index = 'Brasil', inplace = True)\n",
    "dados_trabalho.head()"
   ]
  },
  {
   "cell_type": "code",
   "execution_count": 11,
   "metadata": {},
   "outputs": [
    {
     "data": {
      "text/html": [
       "<div>\n",
       "<style scoped>\n",
       "    .dataframe tbody tr th:only-of-type {\n",
       "        vertical-align: middle;\n",
       "    }\n",
       "\n",
       "    .dataframe tbody tr th {\n",
       "        vertical-align: top;\n",
       "    }\n",
       "\n",
       "    .dataframe thead th {\n",
       "        text-align: right;\n",
       "    }\n",
       "</style>\n",
       "<table border=\"1\" class=\"dataframe\">\n",
       "  <thead>\n",
       "    <tr style=\"text-align: right;\">\n",
       "      <th></th>\n",
       "      <th>% de ocupados de 18 anos ou mais de idade que são empregados com carteira 1991</th>\n",
       "      <th>% de ocupados de 18 anos ou mais de idade que são empregados com carteira 2000</th>\n",
       "      <th>% de ocupados de 18 anos ou mais de idade que são empregados com carteira 2010</th>\n",
       "      <th>% de ocupados de 18 anos ou mais de idade que são empregados sem carteira 1991</th>\n",
       "      <th>% de ocupados de 18 anos ou mais de idade que são empregados sem carteira 2000</th>\n",
       "      <th>% de ocupados de 18 anos ou mais de idade que são empregados sem carteira 2010</th>\n",
       "      <th>Grau de formalização dos ocupados - 18 anos ou mais 1991</th>\n",
       "      <th>Grau de formalização dos ocupados - 18 anos ou mais 2000</th>\n",
       "      <th>Grau de formalização dos ocupados - 18 anos ou mais 2010</th>\n",
       "      <th>% dos ocupados com ensino médio completo 1991</th>\n",
       "      <th>...</th>\n",
       "      <th>% dos ocupados com rendimento de até 1 salário mínimo 2010</th>\n",
       "      <th>% dos ocupados com rendimento de até 2 salários mínimo 1991</th>\n",
       "      <th>% dos ocupados com rendimento de até 2 salários mínimo 2000</th>\n",
       "      <th>% dos ocupados com rendimento de até 2 salários mínimo 2010</th>\n",
       "      <th>% dos ocupados com rendimento de até 3 salários mínimo 1991</th>\n",
       "      <th>% dos ocupados com rendimento de até 3 salários mínimo 2000</th>\n",
       "      <th>% dos ocupados com rendimento de até 3 salários mínimo 2010</th>\n",
       "      <th>% dos ocupados com rendimento de até 5 salários mínimo 1991</th>\n",
       "      <th>% dos ocupados com rendimento de até 5 salários mínimo 2000</th>\n",
       "      <th>% dos ocupados com rendimento de até 5 salários mínimo 2010</th>\n",
       "    </tr>\n",
       "    <tr>\n",
       "      <th>Territorialidades</th>\n",
       "      <th></th>\n",
       "      <th></th>\n",
       "      <th></th>\n",
       "      <th></th>\n",
       "      <th></th>\n",
       "      <th></th>\n",
       "      <th></th>\n",
       "      <th></th>\n",
       "      <th></th>\n",
       "      <th></th>\n",
       "      <th></th>\n",
       "      <th></th>\n",
       "      <th></th>\n",
       "      <th></th>\n",
       "      <th></th>\n",
       "      <th></th>\n",
       "      <th></th>\n",
       "      <th></th>\n",
       "      <th></th>\n",
       "      <th></th>\n",
       "      <th></th>\n",
       "    </tr>\n",
       "  </thead>\n",
       "  <tbody>\n",
       "    <tr>\n",
       "      <th>Feira de Santana (BA)</th>\n",
       "      <td>NaN</td>\n",
       "      <td>33.1</td>\n",
       "      <td>41.59</td>\n",
       "      <td>NaN</td>\n",
       "      <td>24.86</td>\n",
       "      <td>22.65</td>\n",
       "      <td>NaN</td>\n",
       "      <td>43.67</td>\n",
       "      <td>51.94</td>\n",
       "      <td>NaN</td>\n",
       "      <td>...</td>\n",
       "      <td>27.06</td>\n",
       "      <td>NaN</td>\n",
       "      <td>80.93</td>\n",
       "      <td>78.1</td>\n",
       "      <td>NaN</td>\n",
       "      <td>86.86</td>\n",
       "      <td>86.73</td>\n",
       "      <td>NaN</td>\n",
       "      <td>93.95</td>\n",
       "      <td>93.61</td>\n",
       "    </tr>\n",
       "  </tbody>\n",
       "</table>\n",
       "<p>1 rows × 30 columns</p>\n",
       "</div>"
      ],
      "text/plain": [
       "                       % de ocupados de 18 anos ou mais de idade que são empregados com carteira 1991  \\\n",
       "Territorialidades                                                                                       \n",
       "Feira de Santana (BA)                                                NaN                                \n",
       "\n",
       "                      % de ocupados de 18 anos ou mais de idade que são empregados com carteira 2000  \\\n",
       "Territorialidades                                                                                      \n",
       "Feira de Santana (BA)                                               33.1                               \n",
       "\n",
       "                      % de ocupados de 18 anos ou mais de idade que são empregados com carteira 2010  \\\n",
       "Territorialidades                                                                                      \n",
       "Feira de Santana (BA)                                              41.59                               \n",
       "\n",
       "                       % de ocupados de 18 anos ou mais de idade que são empregados sem carteira 1991  \\\n",
       "Territorialidades                                                                                       \n",
       "Feira de Santana (BA)                                                NaN                                \n",
       "\n",
       "                      % de ocupados de 18 anos ou mais de idade que são empregados sem carteira 2000  \\\n",
       "Territorialidades                                                                                      \n",
       "Feira de Santana (BA)                                              24.86                               \n",
       "\n",
       "                      % de ocupados de 18 anos ou mais de idade que são empregados sem carteira 2010  \\\n",
       "Territorialidades                                                                                      \n",
       "Feira de Santana (BA)                                              22.65                               \n",
       "\n",
       "                       Grau de formalização dos ocupados - 18 anos ou mais 1991  \\\n",
       "Territorialidades                                                                 \n",
       "Feira de Santana (BA)                                                NaN          \n",
       "\n",
       "                      Grau de formalização dos ocupados - 18 anos ou mais 2000  \\\n",
       "Territorialidades                                                                \n",
       "Feira de Santana (BA)                                              43.67         \n",
       "\n",
       "                      Grau de formalização dos ocupados - 18 anos ou mais 2010  \\\n",
       "Territorialidades                                                                \n",
       "Feira de Santana (BA)                                              51.94         \n",
       "\n",
       "                       % dos ocupados com ensino médio completo 1991  ...  \\\n",
       "Territorialidades                                                     ...   \n",
       "Feira de Santana (BA)                                            NaN  ...   \n",
       "\n",
       "                      % dos ocupados com rendimento de até 1 salário mínimo 2010  \\\n",
       "Territorialidades                                                                  \n",
       "Feira de Santana (BA)                                              27.06           \n",
       "\n",
       "                      % dos ocupados com rendimento de até 2 salários mínimo 1991  \\\n",
       "Territorialidades                                                                   \n",
       "Feira de Santana (BA)                                                NaN            \n",
       "\n",
       "                       % dos ocupados com rendimento de até 2 salários mínimo 2000  \\\n",
       "Territorialidades                                                                    \n",
       "Feira de Santana (BA)                                              80.93             \n",
       "\n",
       "                      % dos ocupados com rendimento de até 2 salários mínimo 2010  \\\n",
       "Territorialidades                                                                   \n",
       "Feira de Santana (BA)                                               78.1            \n",
       "\n",
       "                      % dos ocupados com rendimento de até 3 salários mínimo 1991  \\\n",
       "Territorialidades                                                                   \n",
       "Feira de Santana (BA)                                                NaN            \n",
       "\n",
       "                       % dos ocupados com rendimento de até 3 salários mínimo 2000  \\\n",
       "Territorialidades                                                                    \n",
       "Feira de Santana (BA)                                              86.86             \n",
       "\n",
       "                       % dos ocupados com rendimento de até 3 salários mínimo 2010  \\\n",
       "Territorialidades                                                                    \n",
       "Feira de Santana (BA)                                              86.73             \n",
       "\n",
       "                      % dos ocupados com rendimento de até 5 salários mínimo 1991  \\\n",
       "Territorialidades                                                                   \n",
       "Feira de Santana (BA)                                                NaN            \n",
       "\n",
       "                       % dos ocupados com rendimento de até 5 salários mínimo 2000  \\\n",
       "Territorialidades                                                                    \n",
       "Feira de Santana (BA)                                              93.95             \n",
       "\n",
       "                      % dos ocupados com rendimento de até 5 salários mínimo 2010  \n",
       "Territorialidades                                                                  \n",
       "Feira de Santana (BA)                                              93.61           \n",
       "\n",
       "[1 rows x 30 columns]"
      ]
     },
     "execution_count": 11,
     "metadata": {},
     "output_type": "execute_result"
    }
   ],
   "source": [
    "#trocando , para . para ser transformado em float para análises \n",
    "for row , col in dados_trabalho.iterrows():\n",
    "    aux = col.str.replace(',','.',regex=True)\n",
    "    dados_trabalho.loc[row] = pd.to_numeric(aux)\n",
    "dados_trabalho"
   ]
  },
  {
   "cell_type": "code",
   "execution_count": 12,
   "metadata": {},
   "outputs": [],
   "source": [
    "# convertendo todos os campos em float\n",
    "dados_trabalho = dados_trabalho.replace(np.nan,0,regex=True)\n",
    "dados_trabalho = dados_trabalho.astype(float)\n"
   ]
  },
  {
   "cell_type": "code",
   "execution_count": 13,
   "metadata": {},
   "outputs": [
    {
     "data": {
      "text/html": [
       "<div>\n",
       "<style scoped>\n",
       "    .dataframe tbody tr th:only-of-type {\n",
       "        vertical-align: middle;\n",
       "    }\n",
       "\n",
       "    .dataframe tbody tr th {\n",
       "        vertical-align: top;\n",
       "    }\n",
       "\n",
       "    .dataframe thead th {\n",
       "        text-align: right;\n",
       "    }\n",
       "</style>\n",
       "<table border=\"1\" class=\"dataframe\">\n",
       "  <thead>\n",
       "    <tr style=\"text-align: right;\">\n",
       "      <th></th>\n",
       "      <th>% de ocupados de 18 anos ou mais de idade que são empregados com carteira 2000</th>\n",
       "      <th>% de ocupados de 18 anos ou mais de idade que são empregados com carteira 2010</th>\n",
       "    </tr>\n",
       "    <tr>\n",
       "      <th>Territorialidades</th>\n",
       "      <th></th>\n",
       "      <th></th>\n",
       "    </tr>\n",
       "  </thead>\n",
       "  <tbody>\n",
       "    <tr>\n",
       "      <th>Feira de Santana (BA)</th>\n",
       "      <td>33.1</td>\n",
       "      <td>41.59</td>\n",
       "    </tr>\n",
       "  </tbody>\n",
       "</table>\n",
       "</div>"
      ],
      "text/plain": [
       "                       % de ocupados de 18 anos ou mais de idade que são empregados com carteira 2000  \\\n",
       "Territorialidades                                                                                       \n",
       "Feira de Santana (BA)                                               33.1                                \n",
       "\n",
       "                       % de ocupados de 18 anos ou mais de idade que são empregados com carteira 2010  \n",
       "Territorialidades                                                                                      \n",
       "Feira de Santana (BA)                                              41.59                               "
      ]
     },
     "execution_count": 13,
     "metadata": {},
     "output_type": "execute_result"
    }
   ],
   "source": [
    "# Analisando dados da porcentagem de jovens a partir de 18 anos ocupados COM carteira assinada.\n",
    "dados_aux = dados_trabalho[['% de ocupados de 18 anos ou mais de idade que são empregados com carteira 2000','% de ocupados de 18 anos ou mais de idade que são empregados com carteira 2010']]\n",
    "\n",
    "dados_aux\n"
   ]
  },
  {
   "cell_type": "code",
   "execution_count": 14,
   "metadata": {},
   "outputs": [
    {
     "data": {
      "text/plain": [
       "<matplotlib.legend.Legend at 0x7fc69c3d9040>"
      ]
     },
     "execution_count": 14,
     "metadata": {},
     "output_type": "execute_result"
    },
    {
     "data": {
      "image/png": "[encoded data removed]",
      "text/plain": [
       "<Figure size 432x288 with 1 Axes>"
      ]
     },
     "metadata": {
      "needs_background": "light"
     },
     "output_type": "display_data"
    }
   ],
   "source": [
    "# gerando o gráfico para comparação\n",
    "\n",
    "grafico = dados_aux.groupby(['Feira de Santana (BA)']).sum()\n",
    "\n",
    "ax = grafico.plot.bar()\n",
    "\n",
    "ax.set_title(\"Porcentagem de ocupados com mais de 18 naos COM carteira assinada\")\n",
    "ax.legend( bbox_to_anchor = (1.05, 1), loc = 0 , borderaxespad = 0.)\n"
   ]
  },
  {
   "cell_type": "code",
   "execution_count": 7,
   "metadata": {},
   "outputs": [
    {
     "data": {
      "text/html": [
       "<div>\n",
       "<style scoped>\n",
       "    .dataframe tbody tr th:only-of-type {\n",
       "        vertical-align: middle;\n",
       "    }\n",
       "\n",
       "    .dataframe tbody tr th {\n",
       "        vertical-align: top;\n",
       "    }\n",
       "\n",
       "    .dataframe thead th {\n",
       "        text-align: right;\n",
       "    }\n",
       "</style>\n",
       "<table border=\"1\" class=\"dataframe\">\n",
       "  <thead>\n",
       "    <tr style=\"text-align: right;\">\n",
       "      <th></th>\n",
       "      <th>% de ocupados de 18 anos ou mais de idade que são empregados sem carteira 2000</th>\n",
       "      <th>% de ocupados de 18 anos ou mais de idade que são empregados sem carteira 2010</th>\n",
       "    </tr>\n",
       "    <tr>\n",
       "      <th>Territorialidades</th>\n",
       "      <th></th>\n",
       "      <th></th>\n",
       "    </tr>\n",
       "  </thead>\n",
       "  <tbody>\n",
       "    <tr>\n",
       "      <th>Feira de Santana (BA)</th>\n",
       "      <td>24.86</td>\n",
       "      <td>22.65</td>\n",
       "    </tr>\n",
       "  </tbody>\n",
       "</table>\n",
       "</div>"
      ],
      "text/plain": [
       "                       % de ocupados de 18 anos ou mais de idade que são empregados sem carteira 2000  \\\n",
       "Territorialidades                                                                                       \n",
       "Feira de Santana (BA)                                              24.86                                \n",
       "\n",
       "                       % de ocupados de 18 anos ou mais de idade que são empregados sem carteira 2010  \n",
       "Territorialidades                                                                                      \n",
       "Feira de Santana (BA)                                              22.65                               "
      ]
     },
     "execution_count": 7,
     "metadata": {},
     "output_type": "execute_result"
    }
   ],
   "source": [
    "# Analisando dados da porcentagem de jovens a partir de 18 anos ocupados SEM carteira assinada.\n",
    "dados_aux = dados_trabalho[['% de ocupados de 18 anos ou mais de idade que são empregados sem carteira 2000','% de ocupados de 18 anos ou mais de idade que são empregados sem carteira 2010']]\n",
    "\n",
    "dados_aux\n"
   ]
  },
  {
   "cell_type": "code",
   "execution_count": 8,
   "metadata": {},
   "outputs": [
    {
     "data": {
      "text/plain": [
       "<matplotlib.legend.Legend at 0x7fd466bc7580>"
      ]
     },
     "execution_count": 8,
     "metadata": {},
     "output_type": "execute_result"
    },
    {
     "data": {
      "image/png": "[encoded data removed]",
      "text/plain": [
       "<Figure size 432x288 with 1 Axes>"
      ]
     },
     "metadata": {
      "needs_background": "light"
     },
     "output_type": "display_data"
    }
   ],
   "source": [
    "# gerando o gráfico para comparação\n",
    "grafico = dados_aux.groupby(['Feira de Santana (BA)']).sum()\n",
    "\n",
    "ax = grafico.plot.bar()\n",
    "\n",
    "ax.set_title(\"Porcentagem de ocupados com mais de 18 naos SEM carteira assinada\")\n",
    "ax.legend( bbox_to_anchor = (1.05, 1), loc = 0 , borderaxespad = 0.)"
   ]
  },
  {
   "cell_type": "code",
   "execution_count": 9,
   "metadata": {},
   "outputs": [
    {
     "data": {
      "text/html": [
       "<div>\n",
       "<style scoped>\n",
       "    .dataframe tbody tr th:only-of-type {\n",
       "        vertical-align: middle;\n",
       "    }\n",
       "\n",
       "    .dataframe tbody tr th {\n",
       "        vertical-align: top;\n",
       "    }\n",
       "\n",
       "    .dataframe thead th {\n",
       "        text-align: right;\n",
       "    }\n",
       "</style>\n",
       "<table border=\"1\" class=\"dataframe\">\n",
       "  <thead>\n",
       "    <tr style=\"text-align: right;\">\n",
       "      <th></th>\n",
       "      <th>Grau de formalização dos ocupados - 18 anos ou mais 2000</th>\n",
       "      <th>Grau de formalização dos ocupados - 18 anos ou mais 2010</th>\n",
       "    </tr>\n",
       "    <tr>\n",
       "      <th>Territorialidades</th>\n",
       "      <th></th>\n",
       "      <th></th>\n",
       "    </tr>\n",
       "  </thead>\n",
       "  <tbody>\n",
       "    <tr>\n",
       "      <th>Feira de Santana (BA)</th>\n",
       "      <td>43.67</td>\n",
       "      <td>51.94</td>\n",
       "    </tr>\n",
       "  </tbody>\n",
       "</table>\n",
       "</div>"
      ],
      "text/plain": [
       "                       Grau de formalização dos ocupados - 18 anos ou mais 2000  \\\n",
       "Territorialidades                                                                 \n",
       "Feira de Santana (BA)                                              43.67          \n",
       "\n",
       "                       Grau de formalização dos ocupados - 18 anos ou mais 2010  \n",
       "Territorialidades                                                                \n",
       "Feira de Santana (BA)                                              51.94         "
      ]
     },
     "execution_count": 9,
     "metadata": {},
     "output_type": "execute_result"
    }
   ],
   "source": [
    "# Analisando dados do grau de formalização dos ocupados - 18 anos ou mais no ano 2000 e 2010\n",
    "dados_aux = dados_trabalho[['Grau de formalização dos ocupados - 18 anos ou mais 2000','Grau de formalização dos ocupados - 18 anos ou mais 2010']]\n",
    "dados_aux"
   ]
  },
  {
   "cell_type": "code",
   "execution_count": 10,
   "metadata": {},
   "outputs": [
    {
     "data": {
      "text/plain": [
       "<matplotlib.legend.Legend at 0x7fd466aaa370>"
      ]
     },
     "execution_count": 10,
     "metadata": {},
     "output_type": "execute_result"
    },
    {
     "data": {
      "image/png": "[encoded data removed]",
      "text/plain": [
       "<Figure size 432x288 with 1 Axes>"
      ]
     },
     "metadata": {
      "needs_background": "light"
     },
     "output_type": "display_data"
    }
   ],
   "source": [
    "# gerando o gráfico para comparação\n",
    "grafico = dados_aux.groupby(['Feira de Santana (BA)']).sum()\n",
    "\n",
    "ax = grafico.plot.bar()\n",
    "\n",
    "ax.set_title(\"Grau de formalização dos ocupados - 18 anos ou mais\")\n",
    "ax.legend( bbox_to_anchor = (1.05, 1), loc = 0 , borderaxespad = 0.)"
   ]
  },
  {
   "cell_type": "code",
   "execution_count": 11,
   "metadata": {},
   "outputs": [
    {
     "data": {
      "text/html": [
       "<div>\n",
       "<style scoped>\n",
       "    .dataframe tbody tr th:only-of-type {\n",
       "        vertical-align: middle;\n",
       "    }\n",
       "\n",
       "    .dataframe tbody tr th {\n",
       "        vertical-align: top;\n",
       "    }\n",
       "\n",
       "    .dataframe thead th {\n",
       "        text-align: right;\n",
       "    }\n",
       "</style>\n",
       "<table border=\"1\" class=\"dataframe\">\n",
       "  <thead>\n",
       "    <tr style=\"text-align: right;\">\n",
       "      <th></th>\n",
       "      <th>% dos ocupados com ensino médio completo 2000</th>\n",
       "      <th>% dos ocupados com ensino médio completo 2010</th>\n",
       "    </tr>\n",
       "    <tr>\n",
       "      <th>Territorialidades</th>\n",
       "      <th></th>\n",
       "      <th></th>\n",
       "    </tr>\n",
       "  </thead>\n",
       "  <tbody>\n",
       "    <tr>\n",
       "      <th>Feira de Santana (BA)</th>\n",
       "      <td>33.15</td>\n",
       "      <td>46.26</td>\n",
       "    </tr>\n",
       "  </tbody>\n",
       "</table>\n",
       "</div>"
      ],
      "text/plain": [
       "                       % dos ocupados com ensino médio completo 2000  \\\n",
       "Territorialidades                                                      \n",
       "Feira de Santana (BA)                                          33.15   \n",
       "\n",
       "                       % dos ocupados com ensino médio completo 2010  \n",
       "Territorialidades                                                     \n",
       "Feira de Santana (BA)                                          46.26  "
      ]
     },
     "execution_count": 11,
     "metadata": {},
     "output_type": "execute_result"
    }
   ],
   "source": [
    "# Analisando dados da porcentagem  dos ocupados com ensino médio completo no ano 2000 e 2010\n",
    "dados_aux = dados_trabalho[['% dos ocupados com ensino médio completo 2000','% dos ocupados com ensino médio completo 2010']]\n",
    "dados_aux\n"
   ]
  },
  {
   "cell_type": "code",
   "execution_count": 12,
   "metadata": {},
   "outputs": [
    {
     "data": {
      "text/plain": [
       "<matplotlib.legend.Legend at 0x7fd466a61a30>"
      ]
     },
     "execution_count": 12,
     "metadata": {},
     "output_type": "execute_result"
    },
    {
     "data": {
      "image/png": "[encoded data removed]",
      "text/plain": [
       "<Figure size 432x288 with 1 Axes>"
      ]
     },
     "metadata": {
      "needs_background": "light"
     },
     "output_type": "display_data"
    }
   ],
   "source": [
    "# gerando o gráfico para comparação\n",
    "grafico = dados_aux.groupby(['Feira de Santana (BA)']).sum()\n",
    "\n",
    "ax = grafico.plot.bar()\n",
    "\n",
    "ax.set_title(\" Porcentagem dos ocupados com ensino médio completo\")\n",
    "ax.legend( bbox_to_anchor = (1.05, 1), loc = 0 , borderaxespad = 0.)"
   ]
  },
  {
   "cell_type": "code",
   "execution_count": 13,
   "metadata": {},
   "outputs": [
    {
     "data": {
      "text/html": [
       "<div>\n",
       "<style scoped>\n",
       "    .dataframe tbody tr th:only-of-type {\n",
       "        vertical-align: middle;\n",
       "    }\n",
       "\n",
       "    .dataframe tbody tr th {\n",
       "        vertical-align: top;\n",
       "    }\n",
       "\n",
       "    .dataframe thead th {\n",
       "        text-align: right;\n",
       "    }\n",
       "</style>\n",
       "<table border=\"1\" class=\"dataframe\">\n",
       "  <thead>\n",
       "    <tr style=\"text-align: right;\">\n",
       "      <th></th>\n",
       "      <th>% dos ocupados com ensino superior completo 2000</th>\n",
       "      <th>% dos ocupados com ensino superior completo 2010</th>\n",
       "    </tr>\n",
       "    <tr>\n",
       "      <th>Territorialidades</th>\n",
       "      <th></th>\n",
       "      <th></th>\n",
       "    </tr>\n",
       "  </thead>\n",
       "  <tbody>\n",
       "    <tr>\n",
       "      <th>Feira de Santana (BA)</th>\n",
       "      <td>4.46</td>\n",
       "      <td>8.33</td>\n",
       "    </tr>\n",
       "  </tbody>\n",
       "</table>\n",
       "</div>"
      ],
      "text/plain": [
       "                       % dos ocupados com ensino superior completo 2000  \\\n",
       "Territorialidades                                                         \n",
       "Feira de Santana (BA)                                              4.46   \n",
       "\n",
       "                       % dos ocupados com ensino superior completo 2010  \n",
       "Territorialidades                                                        \n",
       "Feira de Santana (BA)                                              8.33  "
      ]
     },
     "execution_count": 13,
     "metadata": {},
     "output_type": "execute_result"
    }
   ],
   "source": [
    "# Analisando dados da porcentagem  dos ocupados com ensino superior completo do 2000  e 2010\n",
    "dados_aux = dados_trabalho[['% dos ocupados com ensino superior completo 2000','% dos ocupados com ensino superior completo 2010']]\n",
    "dados_aux"
   ]
  },
  {
   "cell_type": "code",
   "execution_count": 14,
   "metadata": {},
   "outputs": [
    {
     "data": {
      "text/plain": [
       "<matplotlib.legend.Legend at 0x7fd4669e9c70>"
      ]
     },
     "execution_count": 14,
     "metadata": {},
     "output_type": "execute_result"
    },
    {
     "data": {
      "image/png": "[encoded data removed]",
      "text/plain": [
       "<Figure size 432x288 with 1 Axes>"
      ]
     },
     "metadata": {
      "needs_background": "light"
     },
     "output_type": "display_data"
    }
   ],
   "source": [
    "# gerando o gráfico para comparação\n",
    "grafico = dados_aux.groupby(['Feira de Santana (BA)']).sum()\n",
    "\n",
    "ax = grafico.plot.bar()\n",
    "\n",
    "ax.set_title(\"Porcentagem dos ocupados com ensino superior completo\")\n",
    "ax.legend( bbox_to_anchor = (1.05, 1), loc = 0 , borderaxespad = 0.)"
   ]
  },
  {
   "cell_type": "code",
   "execution_count": 20,
   "metadata": {},
   "outputs": [
    {
     "data": {
      "text/html": [
       "<div>\n",
       "<style scoped>\n",
       "    .dataframe tbody tr th:only-of-type {\n",
       "        vertical-align: middle;\n",
       "    }\n",
       "\n",
       "    .dataframe tbody tr th {\n",
       "        vertical-align: top;\n",
       "    }\n",
       "\n",
       "    .dataframe thead th {\n",
       "        text-align: right;\n",
       "    }\n",
       "</style>\n",
       "<table border=\"1\" class=\"dataframe\">\n",
       "  <thead>\n",
       "    <tr style=\"text-align: right;\">\n",
       "      <th></th>\n",
       "      <th>Rendimento médio dos ocupados 2010</th>\n",
       "    </tr>\n",
       "    <tr>\n",
       "      <th>Territorialidades</th>\n",
       "      <th></th>\n",
       "    </tr>\n",
       "  </thead>\n",
       "  <tbody>\n",
       "    <tr>\n",
       "      <th>Feira de Santana (BA)</th>\n",
       "      <td>1049.48</td>\n",
       "    </tr>\n",
       "  </tbody>\n",
       "</table>\n",
       "</div>"
      ],
      "text/plain": [
       "                       Rendimento médio dos ocupados 2010\n",
       "Territorialidades                                        \n",
       "Feira de Santana (BA)                             1049.48"
      ]
     },
     "execution_count": 20,
     "metadata": {},
     "output_type": "execute_result"
    }
   ],
   "source": [
    "# Analisando dados  de rendimento médio dos ocupados do ano 2010, pois o ano 2000 não teve dado.\n",
    "# No ano de 2010 o salário mínimo era de R$ 510,00\n",
    "dados_aux = dados_trabalho[['Rendimento médio dos ocupados 2010']]\n",
    "dados_aux\n"
   ]
  },
  {
   "cell_type": "code",
   "execution_count": 22,
   "metadata": {},
   "outputs": [
    {
     "data": {
      "text/plain": [
       "<matplotlib.legend.Legend at 0x7fd466806cd0>"
      ]
     },
     "execution_count": 22,
     "metadata": {},
     "output_type": "execute_result"
    },
    {
     "data": {
      "image/png": "[encoded data removed]",
      "text/plain": [
       "<Figure size 432x288 with 1 Axes>"
      ]
     },
     "metadata": {
      "needs_background": "light"
     },
     "output_type": "display_data"
    }
   ],
   "source": [
    "# gerando o gráfico para comparação\n",
    "grafico = dados_aux.groupby(['Feira de Santana (BA)']).sum()\n",
    "\n",
    "ax = grafico.plot.bar()\n",
    "\n",
    "ax.set_title(\"Rendimento médio dos ocupados\")\n",
    "ax.legend( bbox_to_anchor = (1.05, 1), loc = 0 , borderaxespad = 0.)"
   ]
  },
  {
   "cell_type": "code",
   "execution_count": 23,
   "metadata": {},
   "outputs": [
    {
     "data": {
      "text/html": [
       "<div>\n",
       "<style scoped>\n",
       "    .dataframe tbody tr th:only-of-type {\n",
       "        vertical-align: middle;\n",
       "    }\n",
       "\n",
       "    .dataframe tbody tr th {\n",
       "        vertical-align: top;\n",
       "    }\n",
       "\n",
       "    .dataframe thead th {\n",
       "        text-align: right;\n",
       "    }\n",
       "</style>\n",
       "<table border=\"1\" class=\"dataframe\">\n",
       "  <thead>\n",
       "    <tr style=\"text-align: right;\">\n",
       "      <th></th>\n",
       "      <th>% dos ocupados com rendimento de até 1 salário mínimo 2000</th>\n",
       "      <th>% dos ocupados com rendimento de até 1 salário mínimo 2010</th>\n",
       "    </tr>\n",
       "    <tr>\n",
       "      <th>Territorialidades</th>\n",
       "      <th></th>\n",
       "      <th></th>\n",
       "    </tr>\n",
       "  </thead>\n",
       "  <tbody>\n",
       "    <tr>\n",
       "      <th>Feira de Santana (BA)</th>\n",
       "      <td>57.18</td>\n",
       "      <td>27.06</td>\n",
       "    </tr>\n",
       "  </tbody>\n",
       "</table>\n",
       "</div>"
      ],
      "text/plain": [
       "                       % dos ocupados com rendimento de até 1 salário mínimo 2000  \\\n",
       "Territorialidades                                                                   \n",
       "Feira de Santana (BA)                                              57.18            \n",
       "\n",
       "                       % dos ocupados com rendimento de até 1 salário mínimo 2010  \n",
       "Territorialidades                                                                  \n",
       "Feira de Santana (BA)                                              27.06           "
      ]
     },
     "execution_count": 23,
     "metadata": {},
     "output_type": "execute_result"
    }
   ],
   "source": [
    "# Analisando dados de porcentagem dos ocupados com rendimento de até 1 salário mínimo do ano 2000 e 2010 \n",
    "dados_aux = dados_trabalho[['% dos ocupados com rendimento de até 1 salário mínimo 2000','% dos ocupados com rendimento de até 1 salário mínimo 2010']]\n",
    "dados_aux"
   ]
  },
  {
   "cell_type": "code",
   "execution_count": 24,
   "metadata": {},
   "outputs": [
    {
     "data": {
      "text/plain": [
       "<matplotlib.legend.Legend at 0x7fd46675f040>"
      ]
     },
     "execution_count": 24,
     "metadata": {},
     "output_type": "execute_result"
    },
    {
     "data": {
      "image/png": "[encoded data removed]",
      "text/plain": [
       "<Figure size 432x288 with 1 Axes>"
      ]
     },
     "metadata": {
      "needs_background": "light"
     },
     "output_type": "display_data"
    }
   ],
   "source": [
    "# gerando o gráfico para comparação\n",
    "grafico = dados_aux.groupby(['Feira de Santana (BA)']).sum()\n",
    "\n",
    "ax = grafico.plot.bar()\n",
    "\n",
    "ax.set_title(\"Porcentagem dos ocupados com rendimento de até 1 salário mínimo\")\n",
    "ax.legend( bbox_to_anchor = (1.05, 1), loc = 0 , borderaxespad = 0.)"
   ]
  },
  {
   "cell_type": "code",
   "execution_count": 25,
   "metadata": {},
   "outputs": [
    {
     "data": {
      "text/html": [
       "<div>\n",
       "<style scoped>\n",
       "    .dataframe tbody tr th:only-of-type {\n",
       "        vertical-align: middle;\n",
       "    }\n",
       "\n",
       "    .dataframe tbody tr th {\n",
       "        vertical-align: top;\n",
       "    }\n",
       "\n",
       "    .dataframe thead th {\n",
       "        text-align: right;\n",
       "    }\n",
       "</style>\n",
       "<table border=\"1\" class=\"dataframe\">\n",
       "  <thead>\n",
       "    <tr style=\"text-align: right;\">\n",
       "      <th></th>\n",
       "      <th>% dos ocupados com rendimento de até 2 salários mínimo 2000</th>\n",
       "      <th>% dos ocupados com rendimento de até 2 salários mínimo 2010</th>\n",
       "    </tr>\n",
       "    <tr>\n",
       "      <th>Territorialidades</th>\n",
       "      <th></th>\n",
       "      <th></th>\n",
       "    </tr>\n",
       "  </thead>\n",
       "  <tbody>\n",
       "    <tr>\n",
       "      <th>Feira de Santana (BA)</th>\n",
       "      <td>80.93</td>\n",
       "      <td>78.1</td>\n",
       "    </tr>\n",
       "  </tbody>\n",
       "</table>\n",
       "</div>"
      ],
      "text/plain": [
       "                       % dos ocupados com rendimento de até 2 salários mínimo 2000  \\\n",
       "Territorialidades                                                                    \n",
       "Feira de Santana (BA)                                              80.93             \n",
       "\n",
       "                       % dos ocupados com rendimento de até 2 salários mínimo 2010  \n",
       "Territorialidades                                                                   \n",
       "Feira de Santana (BA)                                               78.1            "
      ]
     },
     "execution_count": 25,
     "metadata": {},
     "output_type": "execute_result"
    }
   ],
   "source": [
    "# Analisando dados de porcentagem  dos ocupados com rendimento de até 2 salários mínimo do ano 2000 e 2010\n",
    "dados_aux = dados_trabalho[['% dos ocupados com rendimento de até 2 salários mínimo 2000','% dos ocupados com rendimento de até 2 salários mínimo 2010']]\n",
    "dados_aux"
   ]
  },
  {
   "cell_type": "code",
   "execution_count": 26,
   "metadata": {},
   "outputs": [
    {
     "data": {
      "text/plain": [
       "<matplotlib.legend.Legend at 0x7fd4667d1610>"
      ]
     },
     "execution_count": 26,
     "metadata": {},
     "output_type": "execute_result"
    },
    {
     "data": {
      "image/png": "[encoded data removed]",
      "text/plain": [
       "<Figure size 432x288 with 1 Axes>"
      ]
     },
     "metadata": {
      "needs_background": "light"
     },
     "output_type": "display_data"
    }
   ],
   "source": [
    "# gerando o gráfico para comparação\n",
    "grafico = dados_aux.groupby(['Feira de Santana (BA)']).sum()\n",
    "\n",
    "ax = grafico.plot.bar()\n",
    "\n",
    "ax.set_title(\"Porcentagem dos ocupados com rendimento de até 2 salário mínimo\")\n",
    "ax.legend( bbox_to_anchor = (1.05, 1), loc = 0 , borderaxespad = 0.)"
   ]
  }
 ],
 "metadata": {
  "kernelspec": {
   "display_name": "Python 3",
   "language": "python",
   "name": "python3"
  },
  "language_info": {
   "codemirror_mode": {
    "name": "ipython",
    "version": 3
   },
   "file_extension": ".py",
   "mimetype": "text/x-python",
   "name": "python",
   "nbconvert_exporter": "python",
   "pygments_lexer": "ipython3",
   "version": "3.8.5"
  }
 },
 "nbformat": 4,
 "nbformat_minor": 5
}
