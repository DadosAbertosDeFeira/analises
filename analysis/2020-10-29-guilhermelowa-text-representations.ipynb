{
  "nbformat": 4,
  "nbformat_minor": 0,
  "metadata": {
    "language_info": {
      "codemirror_mode": {
        "name": "ipython",
        "version": 3
      },
      "file_extension": ".py",
      "mimetype": "text/x-python",
      "name": "python",
      "nbconvert_exporter": "python",
      "pygments_lexer": "ipython3",
      "version": "3.8.2-final"
    },
    "orig_nbformat": 2,
    "kernelspec": {
      "name": "python38264bitdafsaanalisesb94857b5318c463e9159f3e68c6000f6",
      "display_name": "Python 3.8.2 64-bit ('dafsa-analises')"
    },
    "colab": {
      "name": "semelhanca_leis.ipynb",
      "provenance": [],
      "collapsed_sections": []
    }
  },
  "cells": [
    {
      "source": [
        "# Semelhança de documentos\n",
        "\n",
        "A função desse notebook é criar representações para o texto dos documentos,\n",
        "exibir textos semelhantes e com isso avaliar as representações.\n",
        "Os textos semelhantes são um teste para a representação do texto:\n",
        "se os textos mostrados não são semelhantes, então a representação não é boa;\n",
        "se são semelhantes, então a representação um pouco melhor.\n",
        "\n",
        "## Dados\n",
        "\n",
        "Embora a proposta deste notebook um template genérico para comparação de textos,\n",
        "neste notebook utilizamos o dataset das leis municipais, disponível\n",
        "[aqui](https://www.kaggle.com/anapaulagomes/leis-do-municpio-de-feira-de-santana/).\n"
      ],
      "cell_type": "markdown",
      "metadata": {}
    },
    {
      "cell_type": "code",
      "metadata": {
        "id": "Fw0cBhm80T-w",
        "colab_type": "code",
        "colab": {}
      },
      "source": [
        "import pandas as pd"
      ],
      "execution_count": 2,
      "outputs": []
    },
    {
      "cell_type": "code",
      "metadata": {
        "id": "t9rDGqZO0cbK",
        "colab_type": "code",
        "colab": {
          "resources": {
            "http://localhost:8080/nbextensions/google.colab/files.js": {
              "data": "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",
              "ok": true,
              "headers": [
                [
                  "content-type",
                  "application/javascript"
                ]
              ],
              "status": 200,
              "status_text": "OK"
            }
          },
          "base_uri": "https://localhost:8080/",
          "height": 79
        },
        "outputId": "f084561d-b993-4e0d-f456-a01a0f3cb626"
      },
      "source": [
        "laws_file = 'leis.json'\n",
        "\n",
        "# Descomente pra usar no Google Colab\n",
        "# from google.colab import files\n",
        "# import os.path\n",
        "\n",
        "\n",
        "# if (not os.path.isfile(laws_file)):\n",
        "#     uploaded = files.upload()"
      ],
      "execution_count": 3,
      "outputs": []
    },
    {
      "cell_type": "code",
      "metadata": {
        "tags": [],
        "id": "SvTVbdbn0T-8",
        "colab_type": "code",
        "colab": {
          "base_uri": "https://localhost:8080/",
          "height": 312
        },
        "outputId": "84f7d034-d28f-4582-9842-a1925c045c26"
      },
      "source": [
        "laws = pd.read_json(laws_file)\n",
        "laws.drop(['documento'], inplace=True, axis=1)\n",
        "laws.describe().T"
      ],
      "execution_count": 4,
      "outputs": [
        {
          "output_type": "execute_result",
          "data": {
            "text/plain": [
              "          count unique                                                top  \\\n",
              "titulo     6033   6033                              RESOLUÇÃO Nº 487/2013   \n",
              "categoria  6033      8                                    Leis Ordinárias   \n",
              "resumo     6033   4961  DISPÕE SOBRE A CONCESSÃO DO TÍTULO DE CIDADÃO ...   \n",
              "texto      6033   6029  Conteúdo obsoleto:\\nEste  Ato não tem mais efe...   \n",
              "\n",
              "           freq  \n",
              "titulo        1  \n",
              "categoria  3367  \n",
              "resumo      153  \n",
              "texto         3  "
            ],
            "text/html": "<div>\n<style scoped>\n    .dataframe tbody tr th:only-of-type {\n        vertical-align: middle;\n    }\n\n    .dataframe tbody tr th {\n        vertical-align: top;\n    }\n\n    .dataframe thead th {\n        text-align: right;\n    }\n</style>\n<table border=\"1\" class=\"dataframe\">\n  <thead>\n    <tr style=\"text-align: right;\">\n      <th></th>\n      <th>count</th>\n      <th>unique</th>\n      <th>top</th>\n      <th>freq</th>\n    </tr>\n  </thead>\n  <tbody>\n    <tr>\n      <th>titulo</th>\n      <td>6033</td>\n      <td>6033</td>\n      <td>RESOLUÇÃO Nº 487/2013</td>\n      <td>1</td>\n    </tr>\n    <tr>\n      <th>categoria</th>\n      <td>6033</td>\n      <td>8</td>\n      <td>Leis Ordinárias</td>\n      <td>3367</td>\n    </tr>\n    <tr>\n      <th>resumo</th>\n      <td>6033</td>\n      <td>4961</td>\n      <td>DISPÕE SOBRE A CONCESSÃO DO TÍTULO DE CIDADÃO ...</td>\n      <td>153</td>\n    </tr>\n    <tr>\n      <th>texto</th>\n      <td>6033</td>\n      <td>6029</td>\n      <td>Conteúdo obsoleto:\\nEste  Ato não tem mais efe...</td>\n      <td>3</td>\n    </tr>\n  </tbody>\n</table>\n</div>"
          },
          "metadata": {},
          "execution_count": 4
        }
      ]
    },
    {
      "cell_type": "code",
      "metadata": {
        "id": "IHdRkZoU0T_H",
        "colab_type": "code",
        "colab": {
          "base_uri": "https://localhost:8080/",
          "height": 424
        },
        "outputId": "731a47c1-d4e0-4f50-83d4-fbd8e1e33ca6"
      },
      "source": [
        "laws.sample(10)"
      ],
      "execution_count": 5,
      "outputs": [
        {
          "output_type": "execute_result",
          "data": {
            "text/plain": [
              "                                        titulo              categoria  \\\n",
              "1055       LEI Nº 1422, de 11 de junho de 1991        Leis Ordinárias   \n",
              "3676               LEI COMPLEMENTAR Nº 24/2005    Leis Complementares   \n",
              "2883                          LEI Nº 2598/2005        Leis Ordinárias   \n",
              "3887   DECRETO LEGISLATIVO Nº 3, DE 21/03/1990  Decretos Legislativos   \n",
              "4908  DECRETO LEGISLATIVO Nº 10, DE 20/06/1995  Decretos Legislativos   \n",
              "1925                          LEI Nº 2609/2005        Leis Ordinárias   \n",
              "2917    LEI Nº 3788, DE 19 DE DEZEMBRO DE 2017        Leis Ordinárias   \n",
              "3050       LEI Nº 446, de 05 de agosto de 1965        Leis Ordinárias   \n",
              "2738                          LEI Nº 2336/2002        Leis Ordinárias   \n",
              "1883                            LEI Nº 2003/98        Leis Ordinárias   \n",
              "\n",
              "                                                 resumo  \\\n",
              "1055  CONSIDERA DE UTILIDADE PÚBLICA A ASSOCIAÇÃO CO...   \n",
              "3676  MODIFICA INCISO DE ARTIGO DA LEI COMPLEMENTAR ...   \n",
              "2883  DISPÕE SOBRE A REGULAMENTAÇÃO DE ESPAÇO DENTRO...   \n",
              "3887  APROVA AS CONTAS DA MESA DIRETIVA DA CÂMARA MU...   \n",
              "4908  DISPÕE SOBRE A CONCESSÃO DE TÍTULO DE CIDADÃO ...   \n",
              "1925  DISPÕE SOBRE A CONCESSÃO E O CANCELAMENTO DE I...   \n",
              "2917  \"Dispõe sobre o repasse de Recursos Públicos M...   \n",
              "3050  ABRE O CRÉDITO ESPECIAL DE CR$ 20.000.000 (VIN...   \n",
              "2738  OBRIGA O USO DE BALANÇA PARA REVENDA DO GÁS LI...   \n",
              "1883  INSTITUI A CARTEIRA DE SAÚDE ESCOLAR, E DÁ OUT...   \n",
              "\n",
              "                                                  texto  \n",
              "1055  O PREFEITO MUNICIPAL DE FEIRA DE SANTANA, ESTA...  \n",
              "3676  O Prefeito Municipal de Feira de Santana, Esta...  \n",
              "2883  Autor: Luis Augusto de Jesus\\n\\nO PREFEITO MUN...  \n",
              "3887  Visualizar Ato:Decreto Legislativo nº 3/1990 -...  \n",
              "4908  Visualizar Ato:Decreto Legislativo nº 10/1995 ...  \n",
              "1925  Autor: Poder Executivo\\n\\nO PREFEITO MUNICIPAL...  \n",
              "2917  O PREFEITO MUNICIPAL DE FEIRA DE SANTANA, ESTA...  \n",
              "3050  O PREFEITO MUNICIPAL DE FEIRA DE SANTANA, ESTA...  \n",
              "2738  Autor: Moacir Lima dos Santos\\n\\nO PREFEITO MU...  \n",
              "1883  O PREFEITO MUNCIPAL DE FEIRA DE SANTANA, Estad...  "
            ],
            "text/html": "<div>\n<style scoped>\n    .dataframe tbody tr th:only-of-type {\n        vertical-align: middle;\n    }\n\n    .dataframe tbody tr th {\n        vertical-align: top;\n    }\n\n    .dataframe thead th {\n        text-align: right;\n    }\n</style>\n<table border=\"1\" class=\"dataframe\">\n  <thead>\n    <tr style=\"text-align: right;\">\n      <th></th>\n      <th>titulo</th>\n      <th>categoria</th>\n      <th>resumo</th>\n      <th>texto</th>\n    </tr>\n  </thead>\n  <tbody>\n    <tr>\n      <th>1055</th>\n      <td>LEI Nº 1422, de 11 de junho de 1991</td>\n      <td>Leis Ordinárias</td>\n      <td>CONSIDERA DE UTILIDADE PÚBLICA A ASSOCIAÇÃO CO...</td>\n      <td>O PREFEITO MUNICIPAL DE FEIRA DE SANTANA, ESTA...</td>\n    </tr>\n    <tr>\n      <th>3676</th>\n      <td>LEI COMPLEMENTAR Nº 24/2005</td>\n      <td>Leis Complementares</td>\n      <td>MODIFICA INCISO DE ARTIGO DA LEI COMPLEMENTAR ...</td>\n      <td>O Prefeito Municipal de Feira de Santana, Esta...</td>\n    </tr>\n    <tr>\n      <th>2883</th>\n      <td>LEI Nº 2598/2005</td>\n      <td>Leis Ordinárias</td>\n      <td>DISPÕE SOBRE A REGULAMENTAÇÃO DE ESPAÇO DENTRO...</td>\n      <td>Autor: Luis Augusto de Jesus\\n\\nO PREFEITO MUN...</td>\n    </tr>\n    <tr>\n      <th>3887</th>\n      <td>DECRETO LEGISLATIVO Nº 3, DE 21/03/1990</td>\n      <td>Decretos Legislativos</td>\n      <td>APROVA AS CONTAS DA MESA DIRETIVA DA CÂMARA MU...</td>\n      <td>Visualizar Ato:Decreto Legislativo nº 3/1990 -...</td>\n    </tr>\n    <tr>\n      <th>4908</th>\n      <td>DECRETO LEGISLATIVO Nº 10, DE 20/06/1995</td>\n      <td>Decretos Legislativos</td>\n      <td>DISPÕE SOBRE A CONCESSÃO DE TÍTULO DE CIDADÃO ...</td>\n      <td>Visualizar Ato:Decreto Legislativo nº 10/1995 ...</td>\n    </tr>\n    <tr>\n      <th>1925</th>\n      <td>LEI Nº 2609/2005</td>\n      <td>Leis Ordinárias</td>\n      <td>DISPÕE SOBRE A CONCESSÃO E O CANCELAMENTO DE I...</td>\n      <td>Autor: Poder Executivo\\n\\nO PREFEITO MUNICIPAL...</td>\n    </tr>\n    <tr>\n      <th>2917</th>\n      <td>LEI Nº 3788, DE 19 DE DEZEMBRO DE 2017</td>\n      <td>Leis Ordinárias</td>\n      <td>\"Dispõe sobre o repasse de Recursos Públicos M...</td>\n      <td>O PREFEITO MUNICIPAL DE FEIRA DE SANTANA, ESTA...</td>\n    </tr>\n    <tr>\n      <th>3050</th>\n      <td>LEI Nº 446, de 05 de agosto de 1965</td>\n      <td>Leis Ordinárias</td>\n      <td>ABRE O CRÉDITO ESPECIAL DE CR$ 20.000.000 (VIN...</td>\n      <td>O PREFEITO MUNICIPAL DE FEIRA DE SANTANA, ESTA...</td>\n    </tr>\n    <tr>\n      <th>2738</th>\n      <td>LEI Nº 2336/2002</td>\n      <td>Leis Ordinárias</td>\n      <td>OBRIGA O USO DE BALANÇA PARA REVENDA DO GÁS LI...</td>\n      <td>Autor: Moacir Lima dos Santos\\n\\nO PREFEITO MU...</td>\n    </tr>\n    <tr>\n      <th>1883</th>\n      <td>LEI Nº 2003/98</td>\n      <td>Leis Ordinárias</td>\n      <td>INSTITUI A CARTEIRA DE SAÚDE ESCOLAR, E DÁ OUT...</td>\n      <td>O PREFEITO MUNCIPAL DE FEIRA DE SANTANA, Estad...</td>\n    </tr>\n  </tbody>\n</table>\n</div>"
          },
          "metadata": {},
          "execution_count": 5
        }
      ]
    },
    {
      "cell_type": "code",
      "metadata": {
        "id": "7bY1XZSe0T_O",
        "colab_type": "code",
        "colab": {
          "base_uri": "https://localhost:8080/",
          "height": 106
        },
        "outputId": "104ae31c-0044-4273-b2f9-00838ffec295"
      },
      "source": [
        "# Exemplo de texto de lei\n",
        "print(laws.loc[len(laws)-1, 'texto'])"
      ],
      "execution_count": 6,
      "outputs": [
        {
          "output_type": "stream",
          "name": "stdout",
          "text": [
            "A CÂMARA MUNICIPAL DE FEIRA DE SANTANA, Estado da Bahia, na conformidade do artigo 70, Inciso V, da Lei Municipal nº37, de 05 de Abril de 1990 e, artigos 287, § 2º e, 420, do Regimento Interno, promulga a seguinte Resolução:\n\nArt. 1ºDê-se aos dispositivos abaixo mencionados, da Resolução nº393/2002 - Regimento Interno, as seguintes redações:\n\n\"Art. 7º A Mesa Diretora da Câmara compor-se-á do Presidente, Primeiro e Segundo Secretários, com mandato de 02 ( dois ) anos, admitida a recondução para a eleição subsequente.\n\n§ 4º Se, hora regimental, não estiver presente o Presidente, abrirá os trabalhos o Vice-Presidente ou, na falta deste, o Primeiro ou Segundo Secretários, na sequência, ou ainda, caso estes não estejam presentes, o Vereador mais votado nas eleições municipais.\"\n\n\"Art. 33 Compete, privativamente, ao Vice-Presidente:\"\n\n\"Art. 36 ...\n\nI - ...\n\ne) acompanhar e supervisionar a Ata da Sessão, proceder a sua leitura e assiná-la depois do Presidente e do Vice-Presidente.\n\nII - ...\n\nc) assinar, depois do Presidente e do Vice-Presidente, os atos da Mesa Diretora.\n\nParágrafo Único - O Primeiro Secretário será substituído em suas faltas, ausências, impedimentos ou licenças, havendo nas duas últimas hipóteses investidura na plenitude da respectiva função, pelo Segundo Secretário.\"\n\n\"Art. 48 As Comissões Permanentes, em número de 05 ( cinco ), são as seguinte:\n\nI - ...\n\nII - ...\n\nIII - ...\n\nIV - ...\n\nV - Comissão de Meio Ambiente, Direitos Humanos e Defesa do Consumidor.\"\n\n\"Art. 57 ...\n\nI - ...\n\nII - ...\n\nIII - ...\n\nIV - ...\n\nV - da Comissão de Meio Ambiente, Direitos Humanos e Defesa do Consumidor.\"\n\n\"a) ...\n\n1 - ...\n2 - ...\n3 - ...\nb) ...\nc) ...\nd) ...\ne) opinar sobre todas as proposições que digam respeito aos direitos humanos, especialmente àquelas que envolvam matérias referentes à criança, adolescente e idoso;\nf) propor iniciativas relacionadas a direitos humanos;\ng) receber reclamações e encaminhá-las aos órgãos competentes;\nh) propor ações de combate ao rascismo e discriminação de qualquer natureza, bem como manter intercâmbio com órgãos públicos, entidades civis e filantrópicas sem fins lucrativos, para atender o disposto na alínea anterior;\ni) divulga a legislação que trata dos direitos da mulher trabalhadora urbana e rural;\nj) propor ações de combate à violência e prostituição infanto-juvenil;\nk) opinar sobre proposições que versem a respeito da saúde da mulher, planejamento familiar e assistência social;\nl) fiscalizar, em conjunto com a Delegacia Regional do Trabalho, a instalação de creches nas empresas e demais locais de trabalhos, exigidos por lei;\nm) opinar sobre proposições relativas a produtos, serviços e, quando cabível, contratos que norteiam as relações de consumo;\nn) desenvolver ampla divulgação da legislação e dos programas de defesa do consumidor;\no) propor a criação de políticas e instrumentos de defesa do consumidor, em conjunto com os demais órgãos públicos e particulares;\np) fiscalizar os produtos de consumo e seu fornecimento, e zelar pela sua qualidade;\nq) receber reclamações e encaminhá-las ao órgão competente.\"\n\n\"Art. 164 O Líder e Vice-Líder podem fazer parte de Comissões Permanentes e Temporárias, exceto o Líder e Vice-Líder do Governo.\"\n\n\"Art. 168 Lavrar-se-á a ata, com o resumo dos trabalhos de cada sessão, cujo redação obedecerá ao padrão uniforme adotado pela Mesa Diretora.\"\n\n\"Art. 188 As atas serão organizadas em anais, por ordem cronológica, por período legislativo e recolhidas ao Arquivo da Câmara.\"\n\n\"Art. 190 Os Vereadores só poderão falar sobre a ata para impugná-la ou retificá-la no todo em parte, logo após a leitura da mesma.\n\n§ 1º A discussão sobre a impugnação ou retificação da ata não poderá exceder o tempo destinado ao Grande Expediente, que nesta hipótese ficará prejudicado.\"\n\n\"Art. 199 Aberto a sessão, o Segundo Secretário fará a leitura da ata anterior, que o Presidente submeterá à apreciação do Plenário.\"\n\n\"Art. 200 Após a leitura da ata, o Primeiro Secretário procederá a leitura de:\"\n\n\"Art. 413 - ...\n\nParágrafo Único - Caso o Presidente da Câmara não promulgue a lei, caberá ao Vice-Presidente promulgá-la.\"\n\n\"Art. 418 - ...\n\n§ 2º Se lei não for promulgada dentro de 48 ( quarenta e oito ) horas o Presidente da Câmara Municipal a promulgará, e se este em igual prazo, não o fizer, fá-lo-á obrigatoriamente, o Vice-Presidente.\"\n\nArt. 2ºDê-se ao capítulo III, do Título VII - Da Elaboração Legislativo Especial, a seguinte redação:\n\n\n\"CapítuloIII\nDA CONCESSÃO DE HONRARIAS\n\n\nSEÇÃO I\nDAS HONRARIAS\"\n\n\n\n\"Art. 402 - A Câmara Municipal concederá o Título Honorífico de Cidadão Feirense a pessoas, pelos seus relevantes e notórios serviços prestados ao Município e ao seu povo.\"\n\n\"Art. 403 - A Câmara Municipal também concederá:\n\na) Comenda - Maria Quitéria, Áureo Filho, Filinto Justiniano Ferreira Bastos, Padre Ovídio Alves de São Boaventura, Godofredo Rebello de Figueiredo Filho, Maestro Tertuliano Ferreira Santos, Armando Curvelo de Menezes e, Dr. Gastão Guimarães;\nb) Medalhas - Mérito de Meio Ambiente, Fundação Senhor dos Passos, Vereador Dival Figueiredo Machado, Missionário Roderick Murdo Gillanders, Mérito Rotário, Zumbi dos Palmares e Arquiteto Anápio Aurélio de Miranda;\nc) Certificados - Verde e, de Excelência.\"\n\n\n\"SEÇÃO\nDISPOSIÇÕES GERAIS\"\n\n\n\"Art. 404 - O Projeto de Decreto Legislativo destinado a concessão de honrarias, deverá ser apresentado por, no mínimo, 2/3 ( dois terços ) dos membros da Câmara e, acompanhado de justificativa, além de, biografia quando inerente a pessoa física.\n\n§ 1º Recebido o Projeto de Decreto Legislativo, o mesmo após lido, será encaminhado à Comissão de Constituição Justiça e Redação que, dentro de 10 ( dez ) dias, emitirá parecer fundamentado, o qual após lido será pautado para a Ordem do Dia da sessão seguinte.\n\n§ 2º Será considerado aprovado o Projeto de Decreto Legislativo que obtiver 2/3 ( dois terços ) de votos favoráveis dos membros da Câmara.\n\n§ 3º Cada Vereador poderá apresentar 08 ( oito ) projetos de Decreto Legislativo por legislatura destinados a concessão do Título de Cidadão Feirense, enquanto que as demais Honrarias tem suas quantidades estabelecidas nas Resoluções que as instituíram.\"\n\n\"Art. 405 - As honrarias poderão ser cassadas, caso os homenageados tenham comprovadamente praticado atos que colidam com os motivos que as ensejam\n\nParágrafo Único - Aplicam-se os dispositivos desta Seção, no que couber, ao Projeto de Decreto Legislativo de cassação da honraria\"\n\nArt. 3ºSuprima-se os dispositivos abaixo mencionados, e dê-se nova numeração aos demais:\n\n\"a) artigos - 34,37. 87, 99, 100, 102, 124, 187, 189, 191, 192, 193, 223, 356, 417;\nb) parágrafos - 3º do art. 101, 4º do art. 135 e único do art. 199;\"\n\nArt. 4ºEsta Resolução entrará em vigor na data de sua publicação, produzindo seus efeitos a partir de 1º de Janeiro de 2005, revogadas as disposições em contrário.\n\nMESA DIRETIVA DA CÂMARA MUNICIPAL DE FEIRA DE SANTANA, 26 de Outubro de 2004.\n\nVer. ANTÔNIO CARLOS DALTRO COELHO\nPresidente\n\nVer. GENÉSIO SERAFIM DE LIMA\n1º Secretário\n\nVer. JORGE RAIMUNDO DE OLIVEIRA SILVA\n2º Secretário\n"
          ]
        }
      ]
    },
    {
      "cell_type": "markdown",
      "metadata": {
        "id": "o3JpPMrw0T_Z",
        "colab_type": "text"
      },
      "source": [
        "## Comparando documentos: representação e calculo de similaridade\n",
        "\n",
        "Para comparar quão parecido são dois documentos,\n",
        "primeiro temos que transformar estes documentos \n",
        "para uma representação que o computador consiga calcular alguma coisa a respeito.\n",
        "Existem alguns métodos para isto.\n",
        "Neste notebook temos 3: TF, TF-IDF e vetores de palavras.\n",
        "Para calcular a similaridade, também existem alguns métodos diferentes.\n",
        "Utilizamos similaridade do cosseno.\n",
        "\n",
        "### Term Frequency (TF)\n",
        "\n",
        "A primeira representação construída é bastante ingênua:\n",
        "apenas conta a quantidade de vezes que cada palavra apareceu em cada texto\n",
        "e atribui um vetor pra esse texto.\n",
        "Cada posição do vetor é uma palavra\n",
        "e cada valor representa quantas vezes essa palavra apareceu no dado texto.\n",
        "Todos os textos, portanto, são representados por uma matriz\n",
        "de dimensões _m_ x _n_, onde _m_ é o número de textos \n",
        "e _n_ é o número de palavras únicas (tamanho do vocabulário)."
      ]
    },
    {
      "cell_type": "code",
      "metadata": {
        "id": "SEh4OLr-0T_b",
        "colab_type": "code",
        "colab": {},
        "tags": [
          "outputPrepend"
        ]
      },
      "source": [
        "from scripts.parsers import clean_text\n",
        "laws['texto_limpo'] = laws['texto'].apply(clean_text)"
      ],
      "execution_count": 7,
      "outputs": [
        {
          "output_type": "stream",
          "name": "stderr",
          "text": [
            "[nltk_data] Downloading package stopwords to /home/guiga/nltk_data...\n",
            "[nltk_data]   Package stopwords is already up-to-date!\n",
            "[nltk_data] Downloading package stopwords to /home/guiga/nltk_data...\n",
            "[nltk_data]   Package stopwords is already up-to-date!\n",
            "[nltk_data] Downloading package stopwords to /home/guiga/nltk_data...\n",
            "[nltk_data]   Package stopwords is already up-to-date!\n",
            "[nltk_data] Downloading package stopwords to /home/guiga/nltk_data...\n",
            "[nltk_data]   Package stopwords is already up-to-date!\n",
            "[nltk_data] Downloading package stopwords to /home/guiga/nltk_data...\n",
            "[nltk_data]   Package stopwords is already up-to-date!\n",
            "[nltk_data] Downloading package stopwords to /home/guiga/nltk_data...\n",
            "[nltk_data]   Package stopwords is already up-to-date!\n",
            "[nltk_data] Downloading package stopwords to /home/guiga/nltk_data...\n",
            "[nltk_data]   Package stopwords is already up-to-date!\n",
            "[nltk_data] Downloading package stopwords to /home/guiga/nltk_data...\n",
            "[nltk_data]   Package stopwords is already up-to-date!\n",
            "[nltk_data] Downloading package stopwords to /home/guiga/nltk_data...\n",
            "[nltk_data]   Package stopwords is already up-to-date!\n",
            "[nltk_data] Downloading package stopwords to /home/guiga/nltk_data...\n",
            "[nltk_data]   Package stopwords is already up-to-date!\n",
            "[nltk_data] Downloading package stopwords to /home/guiga/nltk_data...\n",
            "[nltk_data]   Package stopwords is already up-to-date!\n",
            "[nltk_data] Downloading package stopwords to /home/guiga/nltk_data...\n",
            "[nltk_data]   Package stopwords is already up-to-date!\n",
            "[nltk_data] Downloading package stopwords to /home/guiga/nltk_data...\n",
            "[nltk_data]   Package stopwords is already up-to-date!\n",
            "[nltk_data] Downloading package stopwords to /home/guiga/nltk_data...\n",
            "[nltk_data]   Package stopwords is already up-to-date!\n",
            "[nltk_data] Downloading package stopwords to /home/guiga/nltk_data...\n",
            "[nltk_data]   Package stopwords is already up-to-date!\n",
            "[nltk_data] Downloading package stopwords to /home/guiga/nltk_data...\n",
            "[nltk_data]   Package stopwords is already up-to-date!\n",
            "[nltk_data] Downloading package stopwords to /home/guiga/nltk_data...\n",
            "[nltk_data]   Package stopwords is already up-to-date!\n",
            "[nltk_data] Downloading package stopwords to /home/guiga/nltk_data...\n",
            "[nltk_data]   Package stopwords is already up-to-date!\n",
            "[nltk_data] Downloading package stopwords to /home/guiga/nltk_data...\n",
            "[nltk_data]   Package stopwords is already up-to-date!\n",
            "[nltk_data] Downloading package stopwords to /home/guiga/nltk_data...\n",
            "[nltk_data]   Package stopwords is already up-to-date!\n",
            "[nltk_data] Downloading package stopwords to /home/guiga/nltk_data...\n",
            "[nltk_data]   Package stopwords is already up-to-date!\n",
            "[nltk_data] Downloading package stopwords to /home/guiga/nltk_data...\n",
            "[nltk_data]   Package stopwords is already up-to-date!\n",
            "[nltk_data] Downloading package stopwords to /home/guiga/nltk_data...\n",
            "[nltk_data]   Package stopwords is already up-to-date!\n",
            "[nltk_data] Downloading package stopwords to /home/guiga/nltk_data...\n",
            "[nltk_data]   Package stopwords is already up-to-date!\n",
            "[nltk_data] Downloading package stopwords to /home/guiga/nltk_data...\n",
            "[nltk_data]   Package stopwords is already up-to-date!\n",
            "[nltk_data] Downloading package stopwords to /home/guiga/nltk_data...\n",
            "[nltk_data]   Package stopwords is already up-to-date!\n",
            "[nltk_data] Downloading package stopwords to /home/guiga/nltk_data...\n",
            "[nltk_data]   Package stopwords is already up-to-date!\n",
            "[nltk_data] Downloading package stopwords to /home/guiga/nltk_data...\n",
            "[nltk_data]   Package stopwords is already up-to-date!\n",
            "[nltk_data] Downloading package stopwords to /home/guiga/nltk_data...\n",
            "[nltk_data]   Package stopwords is already up-to-date!\n",
            "[nltk_data] Downloading package stopwords to /home/guiga/nltk_data...\n",
            "[nltk_data]   Package stopwords is already up-to-date!\n",
            "[nltk_data] Downloading package stopwords to /home/guiga/nltk_data...\n",
            "[nltk_data]   Package stopwords is already up-to-date!\n",
            "[nltk_data] Downloading package stopwords to /home/guiga/nltk_data...\n",
            "[nltk_data]   Package stopwords is already up-to-date!\n",
            "[nltk_data] Downloading package stopwords to /home/guiga/nltk_data...\n",
            "[nltk_data]   Package stopwords is already up-to-date!\n",
            "[nltk_data] Downloading package stopwords to /home/guiga/nltk_data...\n",
            "[nltk_data]   Package stopwords is already up-to-date!\n",
            "[nltk_data] Downloading package stopwords to /home/guiga/nltk_data...\n",
            "[nltk_data]   Package stopwords is already up-to-date!\n",
            "[nltk_data] Downloading package stopwords to /home/guiga/nltk_data...\n",
            "[nltk_data]   Package stopwords is already up-to-date!\n",
            "[nltk_data] Downloading package stopwords to /home/guiga/nltk_data...\n",
            "[nltk_data]   Package stopwords is already up-to-date!\n",
            "[nltk_data] Downloading package stopwords to /home/guiga/nltk_data...\n",
            "[nltk_data]   Package stopwords is already up-to-date!\n",
            "[nltk_data] Downloading package stopwords to /home/guiga/nltk_data...\n",
            "[nltk_data]   Package stopwords is already up-to-date!\n",
            "[nltk_data] Downloading package stopwords to /home/guiga/nltk_data...\n",
            "[nltk_data]   Package stopwords is already up-to-date!\n",
            "[nltk_data] Downloading package stopwords to /home/guiga/nltk_data...\n",
            "[nltk_data]   Package stopwords is already up-to-date!\n",
            "[nltk_data] Downloading package stopwords to /home/guiga/nltk_data...\n",
            "[nltk_data]   Package stopwords is already up-to-date!\n",
            "[nltk_data] Downloading package stopwords to /home/guiga/nltk_data...\n",
            "[nltk_data]   Package stopwords is already up-to-date!\n",
            "[nltk_data] Downloading package stopwords to /home/guiga/nltk_data...\n",
            "[nltk_data]   Package stopwords is already up-to-date!\n",
            "[nltk_data] Downloading package stopwords to /home/guiga/nltk_data...\n",
            "[nltk_data]   Package stopwords is already up-to-date!\n",
            "[nltk_data] Downloading package stopwords to /home/guiga/nltk_data...\n",
            "[nltk_data]   Package stopwords is already up-to-date!\n",
            "[nltk_data] Downloading package stopwords to /home/guiga/nltk_data...\n",
            "[nltk_data]   Package stopwords is already up-to-date!\n",
            "[nltk_data] Downloading package stopwords to /home/guiga/nltk_data...\n",
            "[nltk_data]   Package stopwords is already up-to-date!\n",
            "[nltk_data] Downloading package stopwords to /home/guiga/nltk_data...\n",
            "[nltk_data]   Package stopwords is already up-to-date!\n",
            "[nltk_data] Downloading package stopwords to /home/guiga/nltk_data...\n",
            "[nltk_data]   Package stopwords is already up-to-date!\n",
            "[nltk_data] Downloading package stopwords to /home/guiga/nltk_data...\n",
            "[nltk_data]   Package stopwords is already up-to-date!\n",
            "[nltk_data] Downloading package stopwords to /home/guiga/nltk_data...\n",
            "[nltk_data]   Package stopwords is already up-to-date!\n",
            "[nltk_data] Downloading package stopwords to /home/guiga/nltk_data...\n",
            "[nltk_data]   Package stopwords is already up-to-date!\n",
            "[nltk_data] Downloading package stopwords to /home/guiga/nltk_data...\n",
            "[nltk_data]   Package stopwords is already up-to-date!\n",
            "[nltk_data] Downloading package stopwords to /home/guiga/nltk_data...\n",
            "[nltk_data]   Package stopwords is already up-to-date!\n",
            "[nltk_data] Downloading package stopwords to /home/guiga/nltk_data...\n",
            "[nltk_data]   Package stopwords is already up-to-date!\n",
            "[nltk_data] Downloading package stopwords to /home/guiga/nltk_data...\n",
            "[nltk_data]   Package stopwords is already up-to-date!\n",
            "[nltk_data] Downloading package stopwords to /home/guiga/nltk_data...\n",
            "[nltk_data]   Package stopwords is already up-to-date!\n",
            "[nltk_data] Downloading package stopwords to /home/guiga/nltk_data...\n",
            "[nltk_data]   Package stopwords is already up-to-date!\n",
            "[nltk_data] Downloading package stopwords to /home/guiga/nltk_data...\n",
            "[nltk_data]   Package stopwords is already up-to-date!\n",
            "[nltk_data] Downloading package stopwords to /home/guiga/nltk_data...\n",
            "[nltk_data]   Package stopwords is already up-to-date!\n",
            "[nltk_data] Downloading package stopwords to /home/guiga/nltk_data...\n",
            "[nltk_data]   Package stopwords is already up-to-date!\n",
            "[nltk_data] Downloading package stopwords to /home/guiga/nltk_data...\n",
            "[nltk_data]   Package stopwords is already up-to-date!\n",
            "[nltk_data] Downloading package stopwords to /home/guiga/nltk_data...\n",
            "[nltk_data]   Package stopwords is already up-to-date!\n",
            "[nltk_data] Downloading package stopwords to /home/guiga/nltk_data...\n",
            "[nltk_data]   Package stopwords is already up-to-date!\n",
            "[nltk_data] Downloading package stopwords to /home/guiga/nltk_data...\n",
            "[nltk_data]   Package stopwords is already up-to-date!\n",
            "[nltk_data] Downloading package stopwords to /home/guiga/nltk_data...\n",
            "[nltk_data]   Package stopwords is already up-to-date!\n",
            "[nltk_data] Downloading package stopwords to /home/guiga/nltk_data...\n",
            "[nltk_data]   Package stopwords is already up-to-date!\n",
            "[nltk_data] Downloading package stopwords to /home/guiga/nltk_data...\n",
            "[nltk_data]   Package stopwords is already up-to-date!\n",
            "[nltk_data] Downloading package stopwords to /home/guiga/nltk_data...\n",
            "[nltk_data]   Package stopwords is already up-to-date!\n",
            "[nltk_data] Downloading package stopwords to /home/guiga/nltk_data...\n",
            "[nltk_data]   Package stopwords is already up-to-date!\n",
            "[nltk_data] Downloading package stopwords to /home/guiga/nltk_data...\n",
            "[nltk_data]   Package stopwords is already up-to-date!\n",
            "[nltk_data] Downloading package stopwords to /home/guiga/nltk_data...\n",
            "[nltk_data]   Package stopwords is already up-to-date!\n",
            "[nltk_data] Downloading package stopwords to /home/guiga/nltk_data...\n",
            "[nltk_data]   Package stopwords is already up-to-date!\n",
            "[nltk_data] Downloading package stopwords to /home/guiga/nltk_data...\n",
            "[nltk_data]   Package stopwords is already up-to-date!\n",
            "[nltk_data] Downloading package stopwords to /home/guiga/nltk_data...\n",
            "[nltk_data]   Package stopwords is already up-to-date!\n",
            "[nltk_data] Downloading package stopwords to /home/guiga/nltk_data...\n",
            "[nltk_data]   Package stopwords is already up-to-date!\n",
            "[nltk_data] Downloading package stopwords to /home/guiga/nltk_data...\n",
            "[nltk_data]   Package stopwords is already up-to-date!\n",
            "[nltk_data] Downloading package stopwords to /home/guiga/nltk_data...\n",
            "[nltk_data]   Package stopwords is already up-to-date!\n",
            "[nltk_data] Downloading package stopwords to /home/guiga/nltk_data...\n",
            "[nltk_data]   Package stopwords is already up-to-date!\n",
            "[nltk_data] Downloading package stopwords to /home/guiga/nltk_data...\n",
            "[nltk_data]   Package stopwords is already up-to-date!\n",
            "[nltk_data] Downloading package stopwords to /home/guiga/nltk_data...\n",
            "[nltk_data]   Package stopwords is already up-to-date!\n",
            "[nltk_data] Downloading package stopwords to /home/guiga/nltk_data...\n",
            "[nltk_data]   Package stopwords is already up-to-date!\n",
            "[nltk_data] Downloading package stopwords to /home/guiga/nltk_data...\n",
            "[nltk_data]   Package stopwords is already up-to-date!\n",
            "[nltk_data] Downloading package stopwords to /home/guiga/nltk_data...\n",
            "[nltk_data]   Package stopwords is already up-to-date!\n",
            "[nltk_data] Downloading package stopwords to /home/guiga/nltk_data...\n",
            "[nltk_data]   Package stopwords is already up-to-date!\n",
            "[nltk_data] Downloading package stopwords to /home/guiga/nltk_data...\n",
            "[nltk_data]   Package stopwords is already up-to-date!\n",
            "[nltk_data] Downloading package stopwords to /home/guiga/nltk_data...\n",
            "[nltk_data]   Package stopwords is already up-to-date!\n",
            "[nltk_data] Downloading package stopwords to /home/guiga/nltk_data...\n",
            "[nltk_data]   Package stopwords is already up-to-date!\n",
            "[nltk_data] Downloading package stopwords to /home/guiga/nltk_data...\n",
            "[nltk_data]   Package stopwords is already up-to-date!\n",
            "[nltk_data] Downloading package stopwords to /home/guiga/nltk_data...\n",
            "[nltk_data]   Package stopwords is already up-to-date!\n",
            "[nltk_data] Downloading package stopwords to /home/guiga/nltk_data...\n",
            "[nltk_data]   Package stopwords is already up-to-date!\n",
            "[nltk_data] Downloading package stopwords to /home/guiga/nltk_data...\n",
            "[nltk_data]   Package stopwords is already up-to-date!\n",
            "[nltk_data] Downloading package stopwords to /home/guiga/nltk_data...\n",
            "[nltk_data]   Package stopwords is already up-to-date!\n",
            "[nltk_data] Downloading package stopwords to /home/guiga/nltk_data...\n",
            "[nltk_data]   Package stopwords is already up-to-date!\n",
            "[nltk_data] Downloading package stopwords to /home/guiga/nltk_data...\n",
            "[nltk_data]   Package stopwords is already up-to-date!\n",
            "[nltk_data] Downloading package stopwords to /home/guiga/nltk_data...\n",
            "[nltk_data]   Package stopwords is already up-to-date!\n",
            "[nltk_data] Downloading package stopwords to /home/guiga/nltk_data...\n",
            "[nltk_data]   Package stopwords is already up-to-date!\n",
            "[nltk_data] Downloading package stopwords to /home/guiga/nltk_data...\n",
            "[nltk_data]   Package stopwords is already up-to-date!\n",
            "[nltk_data] Downloading package stopwords to /home/guiga/nltk_data...\n",
            "[nltk_data]   Package stopwords is already up-to-date!\n",
            "[nltk_data] Downloading package stopwords to /home/guiga/nltk_data...\n",
            "[nltk_data]   Package stopwords is already up-to-date!\n",
            "[nltk_data] Downloading package stopwords to /home/guiga/nltk_data...\n",
            "[nltk_data]   Package stopwords is already up-to-date!\n",
            "[nltk_data] Downloading package stopwords to /home/guiga/nltk_data...\n",
            "[nltk_data]   Package stopwords is already up-to-date!\n",
            "[nltk_data] Downloading package stopwords to /home/guiga/nltk_data...\n",
            "[nltk_data]   Package stopwords is already up-to-date!\n",
            "[nltk_data] Downloading package stopwords to /home/guiga/nltk_data...\n",
            "[nltk_data]   Package stopwords is already up-to-date!\n",
            "[nltk_data] Downloading package stopwords to /home/guiga/nltk_data...\n",
            "[nltk_data]   Package stopwords is already up-to-date!\n",
            "[nltk_data] Downloading package stopwords to /home/guiga/nltk_data...\n",
            "[nltk_data]   Package stopwords is already up-to-date!\n",
            "[nltk_data] Downloading package stopwords to /home/guiga/nltk_data...\n",
            "[nltk_data]   Package stopwords is already up-to-date!\n",
            "[nltk_data] Downloading package stopwords to /home/guiga/nltk_data...\n",
            "[nltk_data]   Package stopwords is already up-to-date!\n",
            "[nltk_data] Downloading package stopwords to /home/guiga/nltk_data...\n",
            "[nltk_data]   Package stopwords is already up-to-date!\n",
            "[nltk_data] Downloading package stopwords to /home/guiga/nltk_data...\n",
            "[nltk_data]   Package stopwords is already up-to-date!\n",
            "[nltk_data] Downloading package stopwords to /home/guiga/nltk_data...\n",
            "[nltk_data]   Package stopwords is already up-to-date!\n",
            "[nltk_data] Downloading package stopwords to /home/guiga/nltk_data...\n",
            "[nltk_data]   Package stopwords is already up-to-date!\n",
            "[nltk_data] Downloading package stopwords to /home/guiga/nltk_data...\n",
            "[nltk_data]   Package stopwords is already up-to-date!\n",
            "[nltk_data] Downloading package stopwords to /home/guiga/nltk_data...\n",
            "[nltk_data]   Package stopwords is already up-to-date!\n",
            "[nltk_data] Downloading package stopwords to /home/guiga/nltk_data...\n",
            "[nltk_data]   Package stopwords is already up-to-date!\n",
            "[nltk_data] Downloading package stopwords to /home/guiga/nltk_data...\n",
            "[nltk_data]   Package stopwords is already up-to-date!\n",
            "[nltk_data] Downloading package stopwords to /home/guiga/nltk_data...\n",
            "[nltk_data]   Package stopwords is already up-to-date!\n",
            "[nltk_data] Downloading package stopwords to /home/guiga/nltk_data...\n",
            "[nltk_data]   Package stopwords is already up-to-date!\n",
            "[nltk_data] Downloading package stopwords to /home/guiga/nltk_data...\n",
            "[nltk_data]   Package stopwords is already up-to-date!\n",
            "[nltk_data] Downloading package stopwords to /home/guiga/nltk_data...\n",
            "[nltk_data]   Package stopwords is already up-to-date!\n",
            "[nltk_data] Downloading package stopwords to /home/guiga/nltk_data...\n",
            "[nltk_data]   Package stopwords is already up-to-date!\n",
            "[nltk_data] Downloading package stopwords to /home/guiga/nltk_data...\n",
            "[nltk_data]   Package stopwords is already up-to-date!\n",
            "[nltk_data] Downloading package stopwords to /home/guiga/nltk_data...\n",
            "[nltk_data]   Package stopwords is already up-to-date!\n",
            "[nltk_data] Downloading package stopwords to /home/guiga/nltk_data...\n",
            "[nltk_data]   Package stopwords is already up-to-date!\n",
            "[nltk_data] Downloading package stopwords to /home/guiga/nltk_data...\n",
            "[nltk_data]   Package stopwords is already up-to-date!\n",
            "[nltk_data] Downloading package stopwords to /home/guiga/nltk_data...\n",
            "[nltk_data]   Package stopwords is already up-to-date!\n",
            "[nltk_data] Downloading package stopwords to /home/guiga/nltk_data...\n",
            "[nltk_data]   Package stopwords is already up-to-date!\n",
            "[nltk_data] Downloading package stopwords to /home/guiga/nltk_data...\n",
            "[nltk_data]   Package stopwords is already up-to-date!\n",
            "[nltk_data] Downloading package stopwords to /home/guiga/nltk_data...\n",
            "[nltk_data]   Package stopwords is already up-to-date!\n",
            "[nltk_data] Downloading package stopwords to /home/guiga/nltk_data...\n",
            "[nltk_data]   Package stopwords is already up-to-date!\n",
            "[nltk_data] Downloading package stopwords to /home/guiga/nltk_data...\n",
            "[nltk_data]   Package stopwords is already up-to-date!\n",
            "[nltk_data] Downloading package stopwords to /home/guiga/nltk_data...\n",
            "[nltk_data]   Package stopwords is already up-to-date!\n",
            "[nltk_data] Downloading package stopwords to /home/guiga/nltk_data...\n",
            "[nltk_data]   Package stopwords is already up-to-date!\n",
            "[nltk_data] Downloading package stopwords to /home/guiga/nltk_data...\n",
            "[nltk_data]   Package stopwords is already up-to-date!\n",
            "[nltk_data] Downloading package stopwords to /home/guiga/nltk_data...\n",
            "[nltk_data]   Package stopwords is already up-to-date!\n",
            "[nltk_data] Downloading package stopwords to /home/guiga/nltk_data...\n",
            "[nltk_data]   Package stopwords is already up-to-date!\n",
            "[nltk_data] Downloading package stopwords to /home/guiga/nltk_data...\n",
            "[nltk_data]   Package stopwords is already up-to-date!\n",
            "[nltk_data] Downloading package stopwords to /home/guiga/nltk_data...\n",
            "[nltk_data]   Package stopwords is already up-to-date!\n",
            "[nltk_data] Downloading package stopwords to /home/guiga/nltk_data...\n",
            "[nltk_data]   Package stopwords is already up-to-date!\n",
            "[nltk_data] Downloading package stopwords to /home/guiga/nltk_data...\n",
            "[nltk_data]   Package stopwords is already up-to-date!\n",
            "[nltk_data] Downloading package stopwords to /home/guiga/nltk_data...\n",
            "[nltk_data]   Package stopwords is already up-to-date!\n",
            "[nltk_data] Downloading package stopwords to /home/guiga/nltk_data...\n",
            "[nltk_data]   Package stopwords is already up-to-date!\n",
            "[nltk_data] Downloading package stopwords to /home/guiga/nltk_data...\n",
            "[nltk_data]   Package stopwords is already up-to-date!\n",
            "[nltk_data] Downloading package stopwords to /home/guiga/nltk_data...\n",
            "[nltk_data]   Package stopwords is already up-to-date!\n",
            "[nltk_data] Downloading package stopwords to /home/guiga/nltk_data...\n",
            "[nltk_data]   Package stopwords is already up-to-date!\n",
            "[nltk_data] Downloading package stopwords to /home/guiga/nltk_data...\n",
            "[nltk_data]   Package stopwords is already up-to-date!\n",
            "[nltk_data] Downloading package stopwords to /home/guiga/nltk_data...\n",
            "[nltk_data]   Package stopwords is already up-to-date!\n",
            "[nltk_data] Downloading package stopwords to /home/guiga/nltk_data...\n",
            "[nltk_data]   Package stopwords is already up-to-date!\n",
            "[nltk_data] Downloading package stopwords to /home/guiga/nltk_data...\n",
            "[nltk_data]   Package stopwords is already up-to-date!\n",
            "[nltk_data] Downloading package stopwords to /home/guiga/nltk_data...\n",
            "[nltk_data]   Package stopwords is already up-to-date!\n",
            "[nltk_data] Downloading package stopwords to /home/guiga/nltk_data...\n",
            "[nltk_data]   Package stopwords is already up-to-date!\n",
            "[nltk_data] Downloading package stopwords to /home/guiga/nltk_data...\n",
            "[nltk_data]   Package stopwords is already up-to-date!\n",
            "[nltk_data] Downloading package stopwords to /home/guiga/nltk_data...\n",
            "[nltk_data]   Package stopwords is already up-to-date!\n",
            "[nltk_data] Downloading package stopwords to /home/guiga/nltk_data...\n",
            "[nltk_data]   Package stopwords is already up-to-date!\n",
            "[nltk_data] Downloading package stopwords to /home/guiga/nltk_data...\n",
            "[nltk_data]   Package stopwords is already up-to-date!\n",
            "[nltk_data] Downloading package stopwords to /home/guiga/nltk_data...\n",
            "[nltk_data]   Package stopwords is already up-to-date!\n",
            "[nltk_data] Downloading package stopwords to /home/guiga/nltk_data...\n",
            "[nltk_data]   Package stopwords is already up-to-date!\n",
            "[nltk_data] Downloading package stopwords to /home/guiga/nltk_data...\n",
            "[nltk_data]   Package stopwords is already up-to-date!\n",
            "[nltk_data] Downloading package stopwords to /home/guiga/nltk_data...\n",
            "[nltk_data]   Package stopwords is already up-to-date!\n"
          ]
        }
      ]
    },
    {
      "cell_type": "code",
      "metadata": {
        "id": "1SPaMnra0T_g",
        "colab_type": "code",
        "colab": {
          "base_uri": "https://localhost:8080/",
          "height": 52
        },
        "outputId": "bdabe518-a835-4d1e-f5cd-17744618cf27"
      },
      "source": [
        "from sklearn.feature_extraction.text import CountVectorizer, TfidfTransformer\n",
        "\n",
        "# Gera matriz de documentos\n",
        "vectorizer = CountVectorizer()\n",
        "tf_representation = vectorizer.fit_transform(laws['texto_limpo'])\n",
        "tf_representation"
      ],
      "execution_count": null,
      "outputs": []
    },
    {
      "source": [
        "Com a matriz de documentos ~literalmente~ em mãos,\n",
        "vamos calcular a similaridade entre dois textos.\n",
        "A similaridade é calculada pela similaridade do cosseno (ver algebra linear).\n",
        "Existem outras medidas pra calcular similaridade / distância.\n",
        "Uma discussão sobre isso [aqui](https://cmry.github.io/notes/euclidean-v-cosine)."
      ],
      "cell_type": "markdown",
      "metadata": {}
    },
    {
      "cell_type": "code",
      "metadata": {
        "id": "QZImYpcZ0T_k",
        "colab_type": "code",
        "colab": {}
      },
      "source": [
        "from sklearn.metrics.pairwise import cosine_similarity\n",
        "import numpy as np\n",
        "\n",
        "cos_sim_matrix = cosine_similarity(tf_representation, dense_output=True)\n",
        "# sorts ascending, per row, \n",
        "# the indexes of the documents according to their cossine similarity\n",
        "cos_sim_argsort = np.argsort(cos_sim_matrix) "
      ],
      "execution_count": null,
      "outputs": []
    },
    {
      "cell_type": "code",
      "metadata": {
        "tags": [],
        "id": "D1Qr2msI0T_o",
        "colab_type": "code",
        "colab": {
          "base_uri": "https://localhost:8080/",
          "height": 34
        },
        "outputId": "1bfd3a37-6ef9-488e-d315-2316f2325f9c"
      },
      "source": [
        "most_similar_indexes_tf = cos_sim_argsort[:,-2] # -1 is the same text\n",
        "tf_similarities = [cos_sim_matrix[i, ind] for i, ind in enumerate(most_similar_indexes_tf)] "
      ],
      "execution_count": null,
      "outputs": []
    },
    {
      "cell_type": "code",
      "metadata": {
        "tags": [],
        "id": "Px1gHxey0T_y",
        "colab_type": "code",
        "colab": {
          "base_uri": "https://localhost:8080/",
          "height": 1000
        },
        "outputId": "fd18530f-37b5-498d-b2ef-05f7936a3a49"
      },
      "source": [
        "def print_laws(original_law_index, compared_law_index: int):\n",
        "    print(f'- - - LEI: {original_law_index}: - - -\\n\\n')\n",
        "    print(laws.loc[original_law_index, 'texto'])\n",
        "    print(f'\\n\\n- - - LEI COMPARADA: {compared_law_index} - - -\\n\\n')\n",
        "    print(laws.loc[compared_law_index, 'texto'])"
      ],
      "execution_count": null,
      "outputs": []
    },
    {
      "cell_type": "code",
      "execution_count": null,
      "metadata": {},
      "outputs": [],
      "source": [
        "max_sim_overall = np.max(tf_similarities)\n",
        "print(f'Maior similaridade entre duas Leis: {max_sim_overall}')\n",
        "\n",
        "original_law_index = np.argmax(tf_similarities)\n",
        "most_similar_law_index = most_similar_indexes_tf[original_law_index]\n",
        "\n",
        "print_laws(original_law_index, most_similar_law_index)"
      ]
    },
    {
      "cell_type": "markdown",
      "metadata": {
        "id": "2JBmGOe10T_3",
        "colab_type": "text"
      },
      "source": [
        "As leis 5949 e 6026 são idênticas.\n",
        "Opa! Lei 13 e Lei 118 são a mesma lei, com 3 dias de diferença. Por que existe isso?"
      ]
    },
    {
      "source": [
        "### TF-IDF\n",
        "\n",
        "Outra representação possível para os textos é TF-IDF. \n",
        "Ainda contamos a frequência de cada termo (TF), \n",
        "porém ponderamos esta frequência pela raridade da palavra, \n",
        "medida pela frequência inversa que ela aparece nos documentos\n",
        "(Inverse Document Frequency). \n",
        "Ou seja, quanto mais rara é a palavra no corpus, \n",
        "mais ela caracteriza o texto em que ela aparece, maior será o peso dela."
      ],
      "cell_type": "markdown",
      "metadata": {}
    },
    {
      "cell_type": "code",
      "metadata": {
        "tags": [],
        "id": "NzYMpD_P0T_3",
        "colab_type": "code",
        "colab": {
          "base_uri": "https://localhost:8080/",
          "height": 52
        },
        "outputId": "43a460b6-2869-4f73-92ae-402bde4416e1"
      },
      "source": [
        "transformer = TfidfTransformer()\n",
        "tfidf_representation = transformer.fit_transform(tf_representation)\n",
        "\n",
        "cos_sim_tfidf = cosine_similarity(tfidf_representation, dense_output=True)\n",
        "cos_sim_tfidf_sorted_idxs = np.argsort(cos_sim_tfidf)\n",
        "\n",
        "tfidf_representation"
      ],
      "execution_count": null,
      "outputs": []
    },
    {
      "cell_type": "code",
      "metadata": {
        "tags": [],
        "id": "Nh12GLZi0T_9",
        "colab_type": "code",
        "colab": {
          "base_uri": "https://localhost:8080/",
          "height": 1000
        },
        "outputId": "1b916cfb-fdfc-43ca-d017-4dec67d56fe2"
      },
      "source": [
        "most_similar_law_idx = cos_sim_tfidf_sorted_idxs[original_law_index, -2]\n",
        "tfidf_similarity = cos_sim_tfidf[original_law_index, most_similar_law_idx]\n",
        "\n",
        "print(\"Dada a mesma lei anterior, \"\n",
        "    f\"similaridade com TF-IDF é: {tfidf_similarity}\")\n",
        "print_laws(original_law_index, most_similar_law_idx)"
      ],
      "execution_count": null,
      "outputs": []
    },
    {
      "source": [
        "Mostram a mesma lei. O que faz sentido, já que as leis são idênticas."
      ],
      "cell_type": "markdown",
      "metadata": {}
    },
    {
      "cell_type": "code",
      "metadata": {
        "tags": [],
        "id": "L_ofWndW0UAC",
        "colab_type": "code",
        "colab": {
          "base_uri": "https://localhost:8080/",
          "height": 34
        },
        "outputId": "422a20d3-4355-476e-8ded-5594ed8cca23"
      },
      "source": [
        "most_similar_indexes_tfidf = cos_sim_tfidf_sorted_idxs[:,-2]\n",
        "\n",
        "same_result = (most_similar_indexes_tf == most_similar_indexes_tfidf)\n",
        "print(same_result)\n",
        "print(f\"Concordam em {sum(same_result) / len(same_result) * 100}% dos resultados\")"
      ],
      "execution_count": null,
      "outputs": []
    },
    {
      "source": [
        "A lei mais semelhante de acordo com TF e TF-IDF é a mesma 40% das vezes.\n",
        "\n",
        "Vamos dar uma olhada em algumas leis onde os resultados diferem,\n",
        "para ter uma intuição sobre qual representação é melhor para as leis.\n",
        "\n",
        "Vamo sortear indices aleatorios desse vetor e \n",
        "ler as leis que eles representam e as similaridades"
      ],
      "cell_type": "markdown",
      "metadata": {}
    },
    {
      "cell_type": "code",
      "metadata": {
        "tags": [],
        "id": "Z2x3NEDM0UAb",
        "colab_type": "code",
        "colab": {
          "base_uri": "https://localhost:8080/",
          "height": 34
        },
        "outputId": "b263fba8-0fab-4523-dd04-9e36dd189f2e"
      },
      "source": [
        "different_result_indexes = [i for i, _ in enumerate(same_result) if not same_result[i]]\n",
        "comparisons_count = 10\n",
        "drafted_indexes = np.random.randint(0, high=len(different_result_indexes)-1, size=comparisons_count)\n",
        "drafted_laws = [different_result_indexes[i] for i in drafted_indexes]\n",
        "print(drafted_laws)"
      ],
      "execution_count": null,
      "outputs": []
    },
    {
      "cell_type": "code",
      "metadata": {
        "tags": [
          "outputPrepend"
        ],
        "id": "eNvPyncl0UAg",
        "colab_type": "code",
        "colab": {
          "base_uri": "https://localhost:8080/",
          "height": 1000
        },
        "outputId": "9d91fe26-62de-411d-9cc2-90f3282cb51c"
      },
      "source": [
        "for i in drafted_laws:\n",
        "    print('\\n\\nCOMPARACAO UTILIZANDO TF:\\n\\n')\n",
        "    print_laws(i, most_similar_indexes_tf[i])\n",
        "    print('\\n\\nCOMPARACAO UTILIZANDO TF-IDF:\\n\\n')\n",
        "    print_laws(i, most_similar_indexes_tfidf[i])"
      ],
      "execution_count": null,
      "outputs": []
    },
    {
      "cell_type": "markdown",
      "metadata": {
        "id": "t4MMxx8J0UAl",
        "colab_type": "text"
      },
      "source": [
        "Como é um sorteio, \n",
        "cada vez que você rodar esse notebook vai ter resultados diferentes.\n",
        "Fique a vontade pra fazer um PR com a comparação de leis diferentes.\n",
        "Abaixo estão comparações da primeira vez que rodei\n",
        "\n",
        "### Lei 1018\n",
        "Lei 1018 é sobre proibição de homenagens a condenados por corrupção.\n",
        "\n",
        "TF trouxe uma lei sobre tornar uma associação pública.\n",
        "\n",
        "TF-IDF trouxe uma lei sobre evento de comemoração de adoção animal.\n",
        "\n",
        "Todas duas erraram.\n",
        "\n",
        "### Lei 5776\n",
        "Lei 5776 sobre pagamento servidor público.\n",
        "\n",
        "TF trouxe: leitura da bíblia na abertura da câmara \n",
        "(que bizarro, diga-se de passagem).\n",
        "\n",
        "TF-IDF: aposentadoria diretor valor vencimento etc.\n",
        "\n",
        "Ambas as leis parecem ter sido trazidas como semelhantes\n",
        "por causa dos nomes próprios contidos nas leis.\n",
        "\n",
        "### Lei 2789\n",
        "Lei 2789 (mil anos da revolução francesa) sobre obrigatoriedade \n",
        "de um servidor formado em primeiros socorros em escolas. \n",
        "\n",
        "TF: faço saber inkaba instituto de karate. \n",
        "\n",
        "TF-IDF: faço saber associação estrela jaco. \n",
        "\n",
        "Novamente as semelhanças são os nomes próprios nas leis.\n",
        "\n",
        "### Lei 1772\n",
        "Lei 1772: faço saber sindicato trabalhadores rurais.\n",
        "\n",
        "TF: faço saber associação profissionais sexo.\n",
        "\n",
        "TF-IDF: faço saber associação pequenos agricultures apaeb -\n",
        "a rua da sede é a mesma da lei comparada. \n",
        "\n",
        "TF-IDF se saiu melhor nessa.\n",
        "Os nomes das pessoas em TF eram os mesmos da Lei,\n",
        "mas em TF-IDF não.\n",
        "O fator decisivo aqui foi o nome da rua, que era o mesmo.\n",
        "Ponto pra TF-IDF.\n",
        "\n",
        "### Lei 530\n",
        "Lei 530: faço saber igreja ministerio pentecostal fogo gloria.\n",
        "rua volta redonda bairro campo limpo.\n",
        "\n",
        "TF: faço saber instituto nobre sede rodovia br km cis.\n",
        "nomes das pessoas iguais.\n",
        "\n",
        "TF-IDF: faço saber igreja evangelica pentecostal monte carmelo\n",
        "rua espassonavel bairro george americo.\n",
        "prefeitos diferentes.\n",
        "\n",
        "### Lei 4810\n",
        "Lei: comenda.\n",
        "nomes: godofredo rebell figueiredo filho,\n",
        "raymundo luiz oliveira lopes.\n",
        "\n",
        "TF: comenda.\n",
        "nomes: godofredo rebello figueiredo filho,\n",
        "nilton bellas vieira.\n",
        "\n",
        "TF-IDF: comenda.\n",
        "nomes: godofredo rebello figueiredo filho,\n",
        "raimundo antonio carneiro pinto.\n",
        "\n",
        "As duas acertaram\n",
        "\n",
        "### Lei 5238 \n",
        "Lei 5238: promulgação de novas vias públicas.\n",
        "A via por TF-IDF passa por mais ruas iguais.\n",
        "\n",
        "### Lei 5383\n",
        "Lei promulga academia de ginástica.\n",
        "TF: promulga empresas serviço funerario.\n",
        "TF-IDF: promulga novos aparelhos de ginástica.\n",
        "\n",
        "### Outras\n",
        "As outras leis eram: \"_visualizar legislativo ba_\".\n",
        "Ambas trouxeram textos idênticos."
      ]
    },
    {
      "cell_type": "markdown",
      "metadata": {
        "id": "mwB0E6_80UAm",
        "colab_type": "text"
      },
      "source": [
        "Ok! Massa! Funciona!\n",
        "\n",
        "Pelos resultados acima, TF-IDF se saiu melhor. \n",
        "Inclusive pra retornar semelhança \n",
        "por nomes de ruas e de bairros,\n",
        "que é o que a gente quer pras buscas.\n",
        "\n",
        "Mesmo com 28k features,\n",
        "o resultado foi bastante rápido. \n",
        "Caso tivessemos um corpus maior,\n",
        "poderíamos ainda usar PCA pra reduzir as dimensões\n",
        "e ainda assim calcular a similaridade\n",
        "mantendo as relações entre os documentos."
      ]
    },
    {
      "source": [
        "### Vetor de palavras - word embedding\n",
        "\n",
        "A ideia dessa representação é \n",
        "criar um vetor pra cada palavra,\n",
        "com base nas palavras vizinhas.\n",
        "\n",
        "Isto vem da hipótese linguística distribucional:\n",
        "uma palavra é parecida com outra se\n",
        "suas vizinhas são as mesmas.\n",
        "\n",
        "Ou ainda:\n",
        "\"conhecerás a palavra pelas compainhas que ela mantém\".\n",
        "\n",
        "Na prática, vamos utilizar um método\n",
        "baseado nesta hipótese chamado\n",
        "[word2vec](https://arxiv.org/pdf/1301.3781.pdf).\n",
        "\n",
        "Cada palavra é representada por um vetor\n",
        "de _n_ dimensões. Estes vetores são\n",
        "inicializados de forma aleatória.\n",
        "A seguir, o modelo tenta prever uma palavra\n",
        "de acordo com as anteriores (CBOW) ou as \n",
        "palavras vizinhas (skip-gram) e vai ajustando\n",
        "os valores de cada vetor de acordo.\n",
        "\n",
        "Ao final do processo, os vetores possuem\n",
        "alguma informação semântica sobre as palavras.\n",
        "Por exemplo, o vetor de \"rei\" e \"rainha\" estarão\n",
        "próximos e distantes de \"ônibus\" e \"avião\",\n",
        "palavras utilizadas em outro contexto (vizinhança).\n",
        "\n",
        "Isto possibilita operações aritiméticas com as\n",
        "palavras. Por exemplo:\n",
        "\n",
        "`rei` - `homem` + `mulher` = `rainha`\n",
        "\n",
        "Mais informações sobre word2vec nas duas primeiras\n",
        "[aulas](https://www.youtube.com/watch?v=8rXD5-xhemo&list=PLoROMvodv4rOhcuXMZkNm7j3fVwBBY42z)\n",
        "deste curso. Caso você tenha um material que explique\n",
        "word2vec, especialmente em português, manda pra gente\n",
        "ou faz um PR! Adoraríamos essa contribuição!\n"
      ],
      "cell_type": "markdown",
      "metadata": {}
    },
    {
      "cell_type": "code",
      "execution_count": 20,
      "metadata": {},
      "outputs": [],
      "source": [
        "from gensim.models import Word2Vec\n",
        "\n",
        "\n",
        "corpus = laws[\"texto_limpo\"].apply(lambda x: x.split())\n",
        "model_w2v = Word2Vec(sentences=corpus, window=5, min_count=5, workers=8)\n",
        "model_w2v.save(\"models/word2vec.model\")"
      ]
    },
    {
      "source": [
        "### Palavras semelhantes\n",
        "\n",
        "Uma das vantagens desse modelo é que\n",
        "podemos explorar a semelhança entre palavras.\n",
        "\n",
        "No texto das Leis, quais as palavras mais semelhantes\n",
        "a `educação` ou `saúde`, por exemplo?\n",
        "\n",
        "Você pode explorar outras semelhanças modificando\n",
        "o código da próxima célula:"
      ],
      "cell_type": "markdown",
      "metadata": {}
    },
    {
      "cell_type": "code",
      "metadata": {
        "tags": [],
        "id": "wS-15fVG0UAn",
        "colab_type": "code",
        "colab": {
          "base_uri": "https://localhost:8080/",
          "height": 52
        },
        "outputId": "53ce1ce4-ac2c-40fd-afae-d1b2dd1c7203"
      },
      "source": [
        "model.most_similar(\"transporte\", topn=10)"
      ],
      "execution_count": 43,
      "outputs": [
        {
          "output_type": "execute_result",
          "data": {
            "text/plain": [
              "[('coletivo', 0.887986421585083),\n",
              " ('passageiros', 0.8504563570022583),\n",
              " ('alternativo', 0.8208197951316833),\n",
              " ('cargas', 0.7519239187240601),\n",
              " ('táxi', 0.7251712083816528),\n",
              " ('convencional', 0.7149850130081177),\n",
              " ('veículos', 0.7121580839157104),\n",
              " ('individual', 0.7088261842727661),\n",
              " ('coletivos', 0.7059678435325623),\n",
              " ('stiac', 0.7000055313110352)]"
            ]
          },
          "metadata": {},
          "execution_count": 43
        }
      ]
    },
    {
      "cell_type": "markdown",
      "metadata": {
        "id": "zaHPf6bo0UBG",
        "colab_type": "text"
      },
      "source": [
        "Semelhantes a `educação`:\n",
        "saúde, escolar, seduc, especialistas\n",
        "executiva, escolarização, cultura\n",
        "prevenção, professores, endemias.\n",
        "\n",
        "Semelhantes a `saúde`:\n",
        "educação, competirá, vigilância,\n",
        "seduc, médico-hospitalar, básico\n",
        "segunraça, sus, incumbida, rede\n",
        "\n",
        "Semelhantes a `segurança`:\n",
        "higiene, alimentar, nutricional,\n",
        "conforto, coletiva, zelar,\n",
        "garantir, engenharia, visando, melhor.\n",
        "\n",
        "Semelhantes a `transporte`:\n",
        "coletivo, passageiros, alternativo,\n",
        "cargas, táxi, convencional, veículos,\n",
        "individual, coeltivos, stiac."
      ]
    },
    {
      "source": [
        "## Construindo a representação das Leis\n",
        "\n",
        "O Gensim também traz uma ferramenta para\n",
        "gerar embeddings de textos inteiros, chamada\n",
        "[Doc2Vec](https://radimrehurek.com/gensim/models/doc2vec.html#gensim.models.doc2vec.Doc2Vec).\n",
        "Esta técnica utiliza uma ideia semelhante ao Word2Vec,\n",
        "com adaptações para cobrir um texto inteiro."
      ],
      "cell_type": "markdown",
      "metadata": {}
    },
    {
      "cell_type": "markdown",
      "metadata": {
        "id": "O7VoHo8x06hr",
        "colab_type": "text"
      },
      "source": [
        ""
      ]
    },
    {
      "cell_type": "code",
      "metadata": {
        "tags": [],
        "id": "FLTahner0UBH",
        "colab_type": "code",
        "colab": {
          "base_uri": "https://localhost:8080/",
          "height": 139
        },
        "outputId": "97f30ae5-a27a-4fa9-b364-204bd621b71d"
      },
      "source": [
        "from gensim.models.doc2vec import Doc2Vec\n",
        "\n",
        "\n",
        "model = Doc2Vec(documents, vector_size=5, window=2, min_count=1, workers=4)\n",
        "# PS: Tendo um compilador C, você consegue tornar o Doc2Vec em até 70x mais rápido"
      ],
      "execution_count": 44,
      "outputs": [
        {
          "output_type": "error",
          "ename": "NameError",
          "evalue": "name 'documents' is not defined",
          "traceback": [
            "\u001b[0;31m---------------------------------------------------------------------------\u001b[0m",
            "\u001b[0;31mNameError\u001b[0m                                 Traceback (most recent call last)",
            "\u001b[0;32m<ipython-input-44-8f29a791126a>\u001b[0m in \u001b[0;36m<module>\u001b[0;34m\u001b[0m\n\u001b[1;32m      2\u001b[0m \u001b[0;34m\u001b[0m\u001b[0m\n\u001b[1;32m      3\u001b[0m \u001b[0;34m\u001b[0m\u001b[0m\n\u001b[0;32m----> 4\u001b[0;31m \u001b[0mmodel\u001b[0m \u001b[0;34m=\u001b[0m \u001b[0mDoc2Vec\u001b[0m\u001b[0;34m(\u001b[0m\u001b[0mdocuments\u001b[0m\u001b[0;34m,\u001b[0m \u001b[0mvector_size\u001b[0m\u001b[0;34m=\u001b[0m\u001b[0;36m5\u001b[0m\u001b[0;34m,\u001b[0m \u001b[0mwindow\u001b[0m\u001b[0;34m=\u001b[0m\u001b[0;36m2\u001b[0m\u001b[0;34m,\u001b[0m \u001b[0mmin_count\u001b[0m\u001b[0;34m=\u001b[0m\u001b[0;36m1\u001b[0m\u001b[0;34m,\u001b[0m \u001b[0mworkers\u001b[0m\u001b[0;34m=\u001b[0m\u001b[0;36m4\u001b[0m\u001b[0;34m)\u001b[0m\u001b[0;34m\u001b[0m\u001b[0;34m\u001b[0m\u001b[0m\n\u001b[0m\u001b[1;32m      5\u001b[0m \u001b[0;31m# PS: Tendo um compilador C, você consegue tornar o Doc2Vec em até 70x mais rápido\u001b[0m\u001b[0;34m\u001b[0m\u001b[0;34m\u001b[0m\u001b[0;34m\u001b[0m\u001b[0m\n",
            "\u001b[0;31mNameError\u001b[0m: name 'documents' is not defined"
          ]
        }
      ]
    },
    {
      "cell_type": "code",
      "metadata": {
        "id": "oK2ZpkXI3Dh4",
        "colab_type": "code",
        "colab": {}
      },
      "source": [
        "most_similar_indexes_word_embedding = [idx for idx in np.argsort(word_embedding_cosine_similarity)[:,-2]]"
      ],
      "execution_count": null,
      "outputs": []
    },
    {
      "cell_type": "code",
      "metadata": {
        "id": "yIpgoJqA3u0O",
        "colab_type": "code",
        "colab": {
          "base_uri": "https://localhost:8080/",
          "height": 34
        },
        "outputId": "7bbd5953-0041-482c-99e0-a56eccc8ffc6"
      },
      "source": [
        "# Diferenca de vetores pra TFIDF eh bem maior.\n",
        "# Vamos samplear algumas dessas diferencas e \n",
        "# mostrar uma lei q tanto TFIDF como Count erraram\n",
        "different_result_from_tfidf = (most_similar_indexes_word_embedding != most_similar_indexes_tfidf)\n",
        "print(\"Porcentagem de resultados diferentes de TFIDF: \"\n",
        "    f\"{sum(different_result_from_tfidf)*100 / len(different_result_from_tfidf)}\")"
      ],
      "execution_count": null,
      "outputs": []
    },
    {
      "cell_type": "code",
      "metadata": {
        "id": "wOwOOGp-4ICI",
        "colab_type": "code",
        "colab": {
          "base_uri": "https://localhost:8080/",
          "height": 1000
        },
        "outputId": "88b3084f-d0ab-4a29-eb06-a42862fcf15a"
      },
      "source": [
        "drafted_laws_index = np.random.randint(len(different_result_from_tfidf), size=10)\n",
        "for i in drafted_laws_index:\n",
        "    if different_result_from_tfidf[i]:\n",
        "        print('\\n\\nVETOR DE PALAVRAS:\\n\\n')\n",
        "        print_laws(i, most_similar_indexes_word_embedding[i])\n",
        "        print('\\n\\nTF-IDF:\\n\\n')\n",
        "        print_laws(i, most_similar_indexes_tfidf[i])"
      ],
      "execution_count": null,
      "outputs": []
    },
    {
      "cell_type": "markdown",
      "metadata": {
        "id": "QDqTxHud7z8N",
        "colab_type": "text"
      },
      "source": [
        "Parece que TF-IDF é um pouco melhor na comparação de leis,\n",
        "pq traz resultados mais relevantes quando comparados nome de bairros e ruas.\n",
        "No entanto, a forma vetorizada parece ser boa pra reconhecer formatos da Lei em geral,\n",
        "uma especie de POS, reconhecendo que existe uma entidade alí ou verbo etc.\n",
        "Ao menos foi minha impressão.\n",
        "Cabe mais investigação a respeito.\n",
        "\n",
        "Vale salientar que a qualidade dos vetores parece não estar tão boa.\n",
        "Vide a semelhança de palavras. Como fazer pra consertar isso?\n",
        "Seria muito interessante corrigir isso pra ver as palavras mais semelhantes à\n",
        "educação,saúde etc e também pra visualizar com tsne os clusters gerados a partir daí."
      ]
    },
    {
      "cell_type": "markdown",
      "metadata": {
        "id": "ipPoW9DQ0UAn",
        "colab_type": "text"
      },
      "source": [
        "## Outras opções\n",
        "### Indexar\n",
        "\n",
        "Há outras formas de indexar os documentos e de recuperar, também simples.\n",
        "Uma outra forma de indexar, por exemplo,\n",
        "é fazer um vetor pra cada palavra contando as palavras vizinhas.\n",
        "E depois, o vetor do documento seria a soma dos vetores das palavras.\n",
        "É uma forma interessante porque pode gerar visualizações interessantes\n",
        "entre a similaridade das palavras.\n",
        "Por exemplo, no corpus das Leis Municipais,\n",
        "a quais palavras EDUCAÇÃO mais se assemelha? Ou SAÚDE? Etc.\n",
        "\n",
        "Outra forma é contar n-gramas - por exemplo, bi-gramas:\n",
        "duas palavras juntas formando um token.\n",
        "Dessa forma, você possui uma matriz maior\n",
        "e de certa forma uma relação entre a sequencialidade das palavras,\n",
        "que pode ser útil pra nomes de pessoas e bairros, como citado acima.\n",
        "\n",
        "### Recuperar\n",
        "\n",
        "Outra forma de recuperar é por local sensitive hashing.\n",
        "Divide em vários planos múltiplas vezes\n",
        "e retorna os resultados que estão na mesma região da query.\n",
        "No entanto, o corpus não é grande o suficiente pra precisar essa estratégia,\n",
        "que é mais pra grandes corpora.\n",
        "O método acima (calcular a simlaridade cosseno e retornar os maiores valores)\n",
        "é rápido o suficiente pra parecer instantâneo.\n",
        "Talvez com uma demanda mais alta pelo servidor venha a necessidade de aumentar\n",
        "a velocidade da busca, porém por enquanto não é o caso.\n",
        "Mais sobre recuperação: Google lançou [novo método]\n",
        "(https://ai.googleblog.com/2020/07/announcing-scann-efficient-vector.html)\n",
        "e uma lib pra isso agora, dia 28 de Julho.\n",
        "\n",
        "### Avaliação\n",
        "\n",
        "Com múltiplas formas de indexar e recuperar vem o dilema:\n",
        "como avaliar se uma é melhor que a outra?\n",
        "Repetir o processo acima pra todas as opções?\n",
        "Isto é, mostrar N melhores resultados e comparar manualmente?\n",
        "Ou colocar labels em algumas leis? Ex: essa lei trata disso, com tais entidades.\n",
        "Checar formas de avaliação.\n",
        "Se tivesse em produção, podia avaliar por CTR por ex, mas não é o caso"
      ]
    }
  ]
}
