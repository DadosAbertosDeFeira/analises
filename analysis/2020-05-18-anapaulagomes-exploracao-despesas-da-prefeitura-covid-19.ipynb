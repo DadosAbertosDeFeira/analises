{
 "cells": [
  {
   "cell_type": "markdown",
   "metadata": {},
   "source": [
    "# A prefeitura e os seus gastos declarados no combate a COVID-19\n",
    "\n",
    "http://www.transparencia.feiradesantana.ba.gov.br/index.php?view=covid19\n"
   ]
  },
  {
   "cell_type": "code",
   "execution_count": null,
   "metadata": {},
   "outputs": [],
   "source": [
    "import pandas as pd\n",
    "import matplotlib.pyplot as plt\n",
    "\n",
    "\n",
    "despesas = pd.read_csv('gastos-covid19-prefeitura.csv')\n",
    "despesas.head()"
   ]
  },
  {
   "cell_type": "code",
   "execution_count": null,
   "metadata": {},
   "outputs": [],
   "source": [
    "colunas = ['crawled_at', 'crawled_from']\n",
    "despesas.drop(colunas, inplace=True, axis=1)\n",
    "\n",
    "\n",
    "def currency_to_float(value):\n",
    "    \"\"\"Converte de R$ 69.848,70 (str) para 69848.70 (float).\"\"\"\n",
    "    try:\n",
    "        cleaned_value = value.replace(\"R$\", \"\").replace(\".\", \"\").replace(\",\", \".\")\n",
    "        return float(cleaned_value)\n",
    "    except ValueError:\n",
    "        pass\n",
    "    return\n",
    "\n",
    "despesas['value'] = despesas['value'].apply(currency_to_float)\n",
    "\n",
    "despesas = despesas.sort_values('date', ascending=False)\n",
    "despesas.head()"
   ]
  },
  {
   "cell_type": "code",
   "execution_count": null,
   "metadata": {},
   "outputs": [],
   "source": [
    "# disponível em: https://gist.github.com/anapaulagomes/379525586f941a1183aa448dad282f90#file-especificacao-despesas-tcm-bahia-csv\n",
    "\n",
    "classificacao = pd.read_csv(\n",
    "    'especificacao-despesas-tcm-bahia.csv',\n",
    "    dtype={'Codigo': str, 'Descricao': str, 'Codigo Superior': str}\n",
    ")\n",
    "classificacao"
   ]
  },
  {
   "cell_type": "code",
   "execution_count": null,
   "metadata": {},
   "outputs": [],
   "source": [
    "despesas['classificacao'] = despesas['group'].str.extract('(\\d{8})')\n",
    "\n",
    "despesas_com_classificacao = despesas.merge(classificacao, left_on=['classificacao'], right_on=['Codigo'], how='left')\n",
    "despesas_com_classificacao"
   ]
  },
  {
   "cell_type": "code",
   "execution_count": null,
   "metadata": {},
   "outputs": [],
   "source": [
    "despesas.shape, despesas_com_classificacao.shape"
   ]
  },
  {
   "cell_type": "code",
   "execution_count": null,
   "metadata": {},
   "outputs": [],
   "source": [
    "despesas.groupby('process_number').count()\n",
    "\n",
    "despesas.groupby(['process_number', 'phase'])['value'].sum().to_frame()"
   ]
  },
  {
   "cell_type": "code",
   "execution_count": null,
   "metadata": {},
   "outputs": [],
   "source": [
    "import seaborn as sns\n",
    "sns.set_style(\"whitegrid\")"
   ]
  },
  {
   "cell_type": "code",
   "execution_count": null,
   "metadata": {},
   "outputs": [],
   "source": [
    "pagamentos = despesas_com_classificacao[despesas_com_classificacao['phase'] == 'PAGAMENTO']\n",
    "\n",
    "plt.figure(figsize=(16,8))\n",
    "plot = sns.barplot(\n",
    "    x=pagamentos['Descricao'],\n",
    "    y=pagamentos.value,\n",
    "    estimator=sum,\n",
    "    log=False,\n",
    "    ci=None,\n",
    ")\n",
    "plot.set_xticklabels(plot.get_xticklabels(), rotation=75, horizontalalignment='right')\n",
    "plt.ticklabel_format(style='plain', axis='y')\n",
    "plt.show()"
   ]
  },
  {
   "cell_type": "code",
   "execution_count": null,
   "metadata": {},
   "outputs": [],
   "source": [
    "pagamentos.groupby(\n",
    "    ['company_or_person']\n",
    ")['value'].sum().to_frame()"
   ]
  },
  {
   "cell_type": "code",
   "execution_count": null,
   "metadata": {},
   "outputs": [],
   "source": [
    "pagamentos.groupby(\n",
    "    ['Descricao']\n",
    ")['value'].sum().to_frame()"
   ]
  },
  {
   "cell_type": "code",
   "execution_count": null,
   "metadata": {},
   "outputs": [],
   "source": [
    "print(pagamentos.describe())\n",
    "\n",
    "# 64 pagamentos. Menor: 375 Maior: 365380.00\n",
    "# Total: 2.244.342,32\n",
    "\n",
    "print(pagamentos['value'].sum())"
   ]
  },
  {
   "cell_type": "code",
   "execution_count": null,
   "metadata": {},
   "outputs": [],
   "source": [
    "# despesas_com_classificacao.to_csv('despesas-covid19-prefeitura.csv')\n",
    "# https://drive.google.com/file/d/1SAkAuGuOnuBTC5KT133lJhsYCm40Hfxc/view?usp=sharing"
   ]
  }
 ],
 "metadata": {
  "kernelspec": {
   "display_name": "Python 3",
   "language": "python",
   "name": "python3"
  },
  "language_info": {
   "codemirror_mode": {
    "name": "ipython",
    "version": 3
   },
   "file_extension": ".py",
   "mimetype": "text/x-python",
   "name": "python",
   "nbconvert_exporter": "python",
   "pygments_lexer": "ipython3",
   "version": "3.8.0"
  }
 },
 "nbformat": 4,
 "nbformat_minor": 2
}
