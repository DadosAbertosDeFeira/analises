{
  "nbformat": 4,
  "nbformat_minor": 0,
  "metadata": {
    "language_info": {
      "codemirror_mode": {
        "name": "ipython",
        "version": 3
      },
      "file_extension": ".py",
      "mimetype": "text/x-python",
      "name": "python",
      "nbconvert_exporter": "python",
      "pygments_lexer": "ipython3",
      "version": "3.8.2-final"
    },
    "orig_nbformat": 2,
    "kernelspec": {
      "name": "python38264bitdafsaanalisesb94857b5318c463e9159f3e68c6000f6",
      "display_name": "Python 3.8.2 64-bit ('dafsa-analises')"
    },
    "colab": {
      "name": "semelhanca_leis.ipynb",
      "provenance": [],
      "collapsed_sections": []
    }
  },
  "cells": [
    {
      "source": [
        "# Semelhança de documentos\n",
        "\n",
        "A função desse notebook é criar representações para o texto dos documentos,\n",
        "exibir textos semelhantes e com isso avaliar as representações.\n",
        "Os textos semelhantes são um teste para a representação do texto:\n",
        "se os textos mostrados não são semelhantes, então a representação não é boa;\n",
        "se são semelhantes, então a representação pode ser boa.\n",
        "\n",
        "## Dados\n",
        "\n",
        "Este notebook é um template genérico para comparação de textos.\n",
        "Utilizamos o dataset das leis municipais, disponível\n",
        "[aqui](https://www.kaggle.com/anapaulagomes/leis-do-municpio-de-feira-de-santana/).\n"
      ],
      "cell_type": "markdown",
      "metadata": {}
    },
    {
      "cell_type": "code",
      "metadata": {
        "id": "Fw0cBhm80T-w",
        "colab_type": "code",
        "colab": {}
      },
      "source": [
        "import pandas as pd"
      ],
      "execution_count": null,
      "outputs": []
    },
    {
      "cell_type": "code",
      "metadata": {
        "id": "t9rDGqZO0cbK",
        "colab_type": "code",
        "colab": {
          "resources": {
            "http://localhost:8080/nbextensions/google.colab/files.js": {
              "data": "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",
              "ok": true,
              "headers": [
                [
                  "content-type",
                  "application/javascript"
                ]
              ],
              "status": 200,
              "status_text": "OK"
            }
          },
          "base_uri": "https://localhost:8080/",
          "height": 79
        },
        "outputId": "f084561d-b993-4e0d-f456-a01a0f3cb626"
      },
      "source": [
        "laws_file = 'leis.json'\n",
        "\n",
        "# Descomente pra usar no Google Colab\n",
        "# from google.colab import files\n",
        "# import os.path\n",
        "\n",
        "\n",
        "# if (not os.path.isfile(laws_file)):\n",
        "#     uploaded = files.upload()"
      ],
      "execution_count": null,
      "outputs": []
    },
    {
      "cell_type": "code",
      "metadata": {
        "tags": [],
        "id": "SvTVbdbn0T-8",
        "colab_type": "code",
        "colab": {
          "base_uri": "https://localhost:8080/",
          "height": 312
        },
        "outputId": "84f7d034-d28f-4582-9842-a1925c045c26"
      },
      "source": [
        "laws = pd.read_json(laws_file)\n",
        "laws.drop(['documento'], inplace=True, axis=1)\n",
        "laws.describe().T"
      ],
      "execution_count": null,
      "outputs": []
    },
    {
      "cell_type": "code",
      "metadata": {
        "id": "IHdRkZoU0T_H",
        "colab_type": "code",
        "colab": {
          "base_uri": "https://localhost:8080/",
          "height": 424
        },
        "outputId": "731a47c1-d4e0-4f50-83d4-fbd8e1e33ca6"
      },
      "source": [
        "laws.sample(10)"
      ],
      "execution_count": null,
      "outputs": []
    },
    {
      "cell_type": "code",
      "metadata": {
        "tags": [],
        "id": "Px1gHxey0T_y",
        "colab_type": "code",
        "colab": {
          "base_uri": "https://localhost:8080/",
          "height": 1000
        },
        "outputId": "fd18530f-37b5-498d-b2ef-05f7936a3a49"
      },
      "source": [
        "def print_law(law_idx):\n",
        "    print(f'LEI {law_idx}:\\n\\n')\n",
        "    print(laws.loc[law_idx, 'texto'])"
      ],
      "execution_count": null,
      "outputs": []
    },
    {
      "cell_type": "code",
      "metadata": {
        "id": "7bY1XZSe0T_O",
        "colab_type": "code",
        "colab": {
          "base_uri": "https://localhost:8080/",
          "height": 106
        },
        "outputId": "104ae31c-0044-4273-b2f9-00838ffec295"
      },
      "source": [
        "# Exemplo de texto de lei\n",
        "print_law(len(laws)-1)"
      ],
      "execution_count": null,
      "outputs": []
    },
    {
      "cell_type": "markdown",
      "metadata": {
        "id": "o3JpPMrw0T_Z",
        "colab_type": "text"
      },
      "source": [
        "## Comparando documentos: representação e calculo de similaridade\n",
        "\n",
        "Para comparar quão parecido são dois documentos,\n",
        "primeiro temos que transformar estes documentos \n",
        "para uma representação que o computador consiga calcular alguma coisa a respeito.\n",
        "Existem alguns métodos para isto.\n",
        "Neste notebook temos 3: TF, TF-IDF e vetores de palavras.\n",
        "Para calcular a similaridade, também existem alguns métodos diferentes.\n",
        "Utilizamos similaridade do cosseno.\n",
        "\n",
        "### Term Frequency (TF)\n",
        "\n",
        "A primeira representação construída é bastante ingênua:\n",
        "apenas conta a quantidade de vezes que cada palavra apareceu em cada texto\n",
        "e atribui um vetor pra esse texto.\n",
        "Cada posição do vetor é uma palavra\n",
        "e cada valor representa quantas vezes essa palavra apareceu no dado texto.\n",
        "Todos os textos, portanto, são representados por uma matriz\n",
        "de dimensões _m_ x _n_, onde _m_ é o número de textos \n",
        "e _n_ é o número de palavras únicas (tamanho do vocabulário)."
      ]
    },
    {
      "cell_type": "code",
      "metadata": {
        "id": "SEh4OLr-0T_b",
        "colab_type": "code",
        "colab": {},
        "tags": []
      },
      "source": [
        "from scripts.nlp import remove_portuguese_stopwords\n",
        "\n",
        "laws['texto_limpo'] = laws['texto'].apply(remove_portuguese_stopwords)"
      ],
      "execution_count": null,
      "outputs": []
    },
    {
      "cell_type": "code",
      "metadata": {
        "id": "1SPaMnra0T_g",
        "colab_type": "code",
        "colab": {
          "base_uri": "https://localhost:8080/",
          "height": 52
        },
        "outputId": "bdabe518-a835-4d1e-f5cd-17744618cf27"
      },
      "source": [
        "from sklearn.feature_extraction.text import CountVectorizer, TfidfTransformer\n",
        "\n",
        "# Gera matriz de documentos\n",
        "vectorizer = CountVectorizer()\n",
        "tf_representation = vectorizer.fit_transform(laws['texto_limpo'])\n",
        "tf_representation"
      ],
      "execution_count": null,
      "outputs": []
    },
    {
      "source": [
        "Com a matriz de documentos ~~literalmente~~ em mãos,\n",
        "vamos calcular a similaridade entre dois textos.\n",
        "A similaridade é calculada pela similaridade do cosseno (ver algebra linear).\n",
        "Existem outras medidas pra calcular similaridade / distância.\n",
        "Uma discussão sobre isso [aqui](https://cmry.github.io/notes/euclidean-v-cosine)."
      ],
      "cell_type": "markdown",
      "metadata": {}
    },
    {
      "cell_type": "code",
      "metadata": {
        "id": "QZImYpcZ0T_k",
        "colab_type": "code",
        "colab": {}
      },
      "source": [
        "from sklearn.metrics.pairwise import cosine_similarity\n",
        "import numpy as np\n",
        "\n",
        "\n",
        "cos_sim_matrix = cosine_similarity(tf_representation, dense_output=True)\n",
        "\n",
        "# ordenando de forma crescente, por linha,\n",
        "# os índices dos documentos de acordo com\n",
        "# a medida de distância (similaridade cosseno)\n",
        "cos_sim_argsort = np.argsort(cos_sim_matrix) "
      ],
      "execution_count": null,
      "outputs": []
    },
    {
      "cell_type": "code",
      "metadata": {
        "tags": [],
        "id": "D1Qr2msI0T_o",
        "colab_type": "code",
        "colab": {
          "base_uri": "https://localhost:8080/",
          "height": 34
        },
        "outputId": "1bfd3a37-6ef9-488e-d315-2316f2325f9c"
      },
      "source": [
        "# -1 é o mais similar (o mesmo texto)\n",
        "most_similar_indexes_tf = cos_sim_argsort[:,-2]\n",
        "tf_similarities = [cos_sim_matrix[i, ind] for i, ind in enumerate(most_similar_indexes_tf)] "
      ],
      "execution_count": null,
      "outputs": []
    },
    {
      "cell_type": "code",
      "execution_count": null,
      "metadata": {},
      "outputs": [],
      "source": [
        "max_sim_overall = np.max(tf_similarities)\n",
        "print(f'Maior similaridade entre duas Leis: {max_sim_overall}')\n",
        "\n",
        "original_law_index = np.argmax(tf_similarities)\n",
        "most_similar_law_index = most_similar_indexes_tf[original_law_index]\n",
        "\n",
        "print(f\"Leis mais similares:\\n\")\n",
        "print_law(original_law_index) \n",
        "print_law(most_similar_law_index)"
      ]
    },
    {
      "cell_type": "markdown",
      "metadata": {
        "id": "2JBmGOe10T_3",
        "colab_type": "text"
      },
      "source": [
        "As leis 5949 e 6026 são idênticas.\n",
        "Opa! Lei 13 e Lei 118 são a mesma lei, com 3 dias de diferença. Por que existe isso?\n",
        "Uma boa investigação pra fazer."
      ]
    },
    {
      "source": [
        "### TF-IDF\n",
        "\n",
        "Outra representação possível para os textos é TF-IDF. \n",
        "Ainda contamos a frequência de cada termo (TF), \n",
        "porém ponderamos esta frequência pela raridade da palavra, \n",
        "medida pela frequência inversa que ela aparece nos documentos\n",
        "(Inverse Document Frequency). \n",
        "Ou seja, quanto mais rara é a palavra no corpus, \n",
        "mais ela caracteriza o texto em que ela aparece, maior será o peso dela."
      ],
      "cell_type": "markdown",
      "metadata": {}
    },
    {
      "cell_type": "code",
      "metadata": {
        "tags": [],
        "id": "NzYMpD_P0T_3",
        "colab_type": "code",
        "colab": {
          "base_uri": "https://localhost:8080/",
          "height": 52
        },
        "outputId": "43a460b6-2869-4f73-92ae-402bde4416e1"
      },
      "source": [
        "transformer = TfidfTransformer()\n",
        "tfidf_representation = transformer.fit_transform(tf_representation)\n",
        "\n",
        "cos_sim_tfidf = cosine_similarity(tfidf_representation, dense_output=True)\n",
        "cos_sim_tfidf_sorted_idxs = np.argsort(cos_sim_tfidf)\n",
        "\n",
        "tfidf_representation"
      ],
      "execution_count": null,
      "outputs": []
    },
    {
      "cell_type": "code",
      "metadata": {
        "tags": [],
        "id": "Nh12GLZi0T_9",
        "colab_type": "code",
        "colab": {
          "base_uri": "https://localhost:8080/",
          "height": 1000
        },
        "outputId": "1b916cfb-fdfc-43ca-d017-4dec67d56fe2"
      },
      "source": [
        "most_similar_law_idx = cos_sim_tfidf_sorted_idxs[original_law_index, -2]\n",
        "tfidf_similarity = cos_sim_tfidf[original_law_index, most_similar_law_idx]\n",
        "\n",
        "print(f\"Dada a primeira lei anterior,\\\n",
        " similaridade com TF-IDF é: {round(tfidf_similarity, 2)} \\\n",
        " e lei mais similar é:\\n\")\n",
        "print_law(original_law_index)\n",
        "print_law(most_similar_law_idx)"
      ],
      "execution_count": null,
      "outputs": []
    },
    {
      "source": [
        "Mostram a mesma lei. O que faz sentido, já que as leis são idênticas."
      ],
      "cell_type": "markdown",
      "metadata": {}
    },
    {
      "cell_type": "code",
      "metadata": {
        "tags": [],
        "id": "L_ofWndW0UAC",
        "colab_type": "code",
        "colab": {
          "base_uri": "https://localhost:8080/",
          "height": 34
        },
        "outputId": "422a20d3-4355-476e-8ded-5594ed8cca23"
      },
      "source": [
        "most_similar_indexes_tfidf = cos_sim_tfidf_sorted_idxs[:,-2]\n",
        "\n",
        "dif_tf_tfidf = (most_similar_indexes_tf != most_similar_indexes_tfidf)\n",
        "print(f\"TF e TF-IDF discordam em\\\n",
        " {round(sum(dif_tf_tfidf) / len(dif_tf_tfidf) * 100, 2)}% dos resultados\")"
      ],
      "execution_count": null,
      "outputs": []
    },
    {
      "source": [
        "A lei mais semelhante de acordo com TF e TF-IDF é diferente 56,97% das vezes.\n",
        "\n",
        "Vamos dar uma olhada em algumas leis onde os resultados diferem,\n",
        "para ter uma intuição sobre qual representação é melhor para as leis.\n",
        "\n",
        "Vamo sortear indices aleatorios desse vetor e \n",
        "ler as leis que eles representam e as similaridades"
      ],
      "cell_type": "markdown",
      "metadata": {}
    },
    {
      "cell_type": "code",
      "execution_count": null,
      "metadata": {},
      "outputs": [],
      "source": [
        "def get_disagreement_idxs(dif_array, num_laws=10):\n",
        "    dif_results_idxs = [i for i, dif_result in enumerate(dif_array) if dif_result]\n",
        "    random_idxs = np.random.randint(len(dif_results_idxs)-1, size=num_laws)\n",
        "    drafted_laws_idxs = [dif_results_idxs[i] for i in random_idxs]\n",
        "    return drafted_laws_idxs\n",
        "\n",
        "def compare_methods(laws_idxs, sim_array_a, sim_array_b, \n",
        "                    method_a_name=\"Metodo A\",\n",
        "                    method_b_name=\"Metodo B\"):\n",
        "    for i in laws_idxs:\n",
        "        print(f\"\\n- - Lei comparada - -\\n\")\n",
        "        print_law(i)\n",
        "        print(f\"\\nMais similar de acordo com {method_a_name}:\\n\")\n",
        "        print_law(sim_array_a[i])\n",
        "        print(f\"\\nMais similar de acordo com {method_b_name}:\\n\")\n",
        "        print_law(sim_array_b[i])\n"
      ]
    },
    {
      "cell_type": "code",
      "metadata": {
        "tags": [],
        "id": "Z2x3NEDM0UAb",
        "colab_type": "code",
        "colab": {
          "base_uri": "https://localhost:8080/",
          "height": 34
        },
        "outputId": "b263fba8-0fab-4523-dd04-9e36dd189f2e"
      },
      "source": [
        "drafted_laws_idxs = get_disagreement_idxs(dif_tf_tfidf)\n",
        "print(drafted_laws_idxs)"
      ],
      "execution_count": null,
      "outputs": []
    },
    {
      "cell_type": "code",
      "metadata": {
        "tags": [
          "outputPrepend"
        ],
        "id": "eNvPyncl0UAg",
        "colab_type": "code",
        "colab": {
          "base_uri": "https://localhost:8080/",
          "height": 1000
        },
        "outputId": "9d91fe26-62de-411d-9cc2-90f3282cb51c"
      },
      "source": [
        "compare_methods(drafted_laws_idxs,\n",
        "                most_similar_indexes_tf,\n",
        "                most_similar_indexes_tfidf,\n",
        "                method_a_name=\"TF\",\n",
        "                method_b_name=\"TF-IDF\"\n",
        ")"
      ],
      "execution_count": null,
      "outputs": []
    },
    {
      "cell_type": "markdown",
      "metadata": {
        "id": "t4MMxx8J0UAl",
        "colab_type": "text"
      },
      "source": [
        "Como é um sorteio, \n",
        "cada vez que você rodar esse notebook vai ter resultados diferentes.\n",
        "Fique a vontade pra fazer um PR com a comparação de leis diferentes.\n",
        "Abaixo estão comparações da primeira vez que rodei\n",
        "\n",
        "### Lei 1018\n",
        "Lei 1018 é sobre proibição de homenagens a condenados por corrupção.\n",
        "\n",
        "TF trouxe uma lei sobre tornar uma associação pública.\n",
        "\n",
        "TF-IDF trouxe uma lei sobre evento de comemoração de adoção animal.\n",
        "\n",
        "Todas duas erraram.\n",
        "\n",
        "### Lei 5776\n",
        "Lei 5776 sobre pagamento servidor público.\n",
        "\n",
        "TF trouxe: leitura da bíblia na abertura da câmara \n",
        "(que bizarro, diga-se de passagem).\n",
        "\n",
        "TF-IDF: aposentadoria diretor valor vencimento etc.\n",
        "\n",
        "Ambas as leis parecem ter sido trazidas como semelhantes\n",
        "por causa dos nomes próprios contidos nas leis.\n",
        "\n",
        "### Lei 2789\n",
        "Lei 2789 (mil anos da revolução francesa) sobre obrigatoriedade \n",
        "de um servidor formado em primeiros socorros em escolas. \n",
        "\n",
        "TF: faço saber inkaba instituto de karate. \n",
        "\n",
        "TF-IDF: faço saber associação estrela jaco. \n",
        "\n",
        "Novamente as semelhanças são os nomes próprios nas leis.\n",
        "\n",
        "### Lei 1772\n",
        "Lei 1772: faço saber sindicato trabalhadores rurais.\n",
        "\n",
        "TF: faço saber associação profissionais sexo.\n",
        "\n",
        "TF-IDF: faço saber associação pequenos agricultures apaeb -\n",
        "a rua da sede é a mesma da lei comparada. \n",
        "\n",
        "TF-IDF se saiu melhor nessa.\n",
        "Os nomes das pessoas em TF eram os mesmos da Lei,\n",
        "mas em TF-IDF não.\n",
        "O fator decisivo aqui foi o nome da rua, que era o mesmo.\n",
        "Ponto pra TF-IDF.\n",
        "\n",
        "### Lei 530\n",
        "Lei 530: faço saber igreja ministerio pentecostal fogo gloria.\n",
        "rua volta redonda bairro campo limpo.\n",
        "\n",
        "TF: faço saber instituto nobre sede rodovia br km cis.\n",
        "nomes das pessoas iguais.\n",
        "\n",
        "TF-IDF: faço saber igreja evangelica pentecostal monte carmelo\n",
        "rua espassonavel bairro george americo.\n",
        "prefeitos diferentes.\n",
        "\n",
        "### Lei 4810\n",
        "Lei: comenda.\n",
        "nomes: godofredo rebell figueiredo filho,\n",
        "raymundo luiz oliveira lopes.\n",
        "\n",
        "TF: comenda.\n",
        "nomes: godofredo rebello figueiredo filho,\n",
        "nilton bellas vieira.\n",
        "\n",
        "TF-IDF: comenda.\n",
        "nomes: godofredo rebello figueiredo filho,\n",
        "raimundo antonio carneiro pinto.\n",
        "\n",
        "As duas acertaram\n",
        "\n",
        "### Lei 5238 \n",
        "Lei 5238: promulgação de novas vias públicas.\n",
        "A via por TF-IDF passa por mais ruas iguais.\n",
        "\n",
        "### Lei 5383\n",
        "Lei promulga academia de ginástica.\n",
        "TF: promulga empresas serviço funerario.\n",
        "TF-IDF: promulga novos aparelhos de ginástica.\n",
        "\n",
        "### Outras\n",
        "As outras leis eram: \"_visualizar legislativo ba_\".\n",
        "Ambas trouxeram textos idênticos."
      ]
    },
    {
      "cell_type": "markdown",
      "metadata": {
        "id": "mwB0E6_80UAm",
        "colab_type": "text"
      },
      "source": [
        "Ok! Massa! Funciona!\n",
        "\n",
        "Pelos resultados acima, TF-IDF se saiu melhor. \n",
        "Inclusive pra retornar semelhança \n",
        "por nomes de ruas e de bairros,\n",
        "que é o que a gente quer pras buscas.\n",
        "\n",
        "Mesmo com 28k features,\n",
        "o resultado foi bastante rápido. \n",
        "Caso tivessemos um corpus maior,\n",
        "poderíamos ainda usar PCA pra reduzir as dimensões\n",
        "e ainda assim calcular a similaridade\n",
        "mantendo as relações entre os documentos."
      ]
    },
    {
      "source": [
        "### Vetor de palavras - word embedding\n",
        "\n",
        "A ideia dessa representação é \n",
        "criar um vetor pra cada palavra,\n",
        "com base nas palavras vizinhas.\n",
        "\n",
        "Isto vem da hipótese linguística distribucional:\n",
        "uma palavra é parecida com outra se\n",
        "suas vizinhas são as mesmas.\n",
        "\n",
        "Ou ainda:\n",
        "\"conhecerás a palavra pelas compainhas que ela mantém\".\n",
        "\n",
        "Vamos utilizar um método\n",
        "baseado nesta hipótese chamado\n",
        "[word2vec](https://arxiv.org/pdf/1301.3781.pdf).\n",
        "Existem outros, como GloVe, FastText, etc.\n",
        "Para construir as representações word2vec,\n",
        "utilizaremos a biblioteca\n",
        "[Gensim](https://radimrehurek.com/gensim/).\n",
        "\n",
        "Cada palavra é representada por um vetor\n",
        "de _n_ dimensões. Estes vetores são\n",
        "inicializados de forma aleatória.\n",
        "A seguir, o modelo tenta prever uma palavra\n",
        "de acordo com as anteriores (CBOW) ou as \n",
        "palavras vizinhas (skip-gram) e vai ajustando\n",
        "os valores de cada vetor de acordo.\n",
        "\n",
        "Ao final do processo, os vetores possuem\n",
        "alguma informação semântica sobre as palavras.\n",
        "Por exemplo, o vetor de \"rei\" e \"rainha\" estarão\n",
        "próximos e distantes de \"ônibus\" e \"avião\",\n",
        "palavras utilizadas em outro contexto (vizinhança).\n",
        "\n",
        "Isto possibilita operações aritiméticas com as\n",
        "palavras. Por exemplo:\n",
        "\n",
        "`rei` - `homem` + `mulher` = `rainha`\n",
        "\n",
        "Mais informações sobre word2vec nas duas primeiras\n",
        "[aulas](https://www.youtube.com/watch?v=8rXD5-xhemo&list=PLoROMvodv4rOhcuXMZkNm7j3fVwBBY42z)\n",
        "deste curso. Se quiser saber mais sobre representações\n",
        "de texto, o gensim tem ótimos\n",
        "[tutoriais](https://radimrehurek.com/gensim/auto_examples/index.html).\n",
        "[Este repositório](https://github.com/RaRe-Technologies/movie-plots-by-genre)\n",
        "também possui um notebook tutorial que exemplifica\n",
        "representações e classificação de textos.\n",
        "\n",
        "\n",
        "Caso você tenha um material que explique\n",
        "representações de texto, especialmente em português,\n",
        "manda pra gente ou faz um PR pra adicionar ele aqui!\n",
        "Adoraríamos essa contribuição!\n"
      ],
      "cell_type": "markdown",
      "metadata": {}
    },
    {
      "cell_type": "code",
      "execution_count": null,
      "metadata": {},
      "outputs": [],
      "source": [
        "from gensim.models import Word2Vec\n",
        "\n",
        "\n",
        "corpus = laws[\"texto_limpo\"].apply(lambda x: x.split())\n",
        "model_w2v = Word2Vec(sentences=corpus, window=5, min_count=5, workers=8)"
      ]
    },
    {
      "source": [
        "### Palavras semelhantes\n",
        "\n",
        "Uma das vantagens desse modelo é que\n",
        "podemos explorar a semelhança entre palavras.\n",
        "\n",
        "No texto das Leis, quais as palavras mais semelhantes\n",
        "a `educação` ou `saúde`, por exemplo?\n",
        "\n",
        "Você pode explorar outras semelhanças modificando\n",
        "o código da próxima célula:"
      ],
      "cell_type": "markdown",
      "metadata": {}
    },
    {
      "cell_type": "code",
      "metadata": {
        "tags": [],
        "id": "wS-15fVG0UAn",
        "colab_type": "code",
        "colab": {
          "base_uri": "https://localhost:8080/",
          "height": 52
        },
        "outputId": "53ce1ce4-ac2c-40fd-afae-d1b2dd1c7203"
      },
      "source": [
        "model_w2v.most_similar(\"transporte\", topn=10)"
      ],
      "execution_count": null,
      "outputs": []
    },
    {
      "cell_type": "markdown",
      "metadata": {
        "id": "zaHPf6bo0UBG",
        "colab_type": "text"
      },
      "source": [
        "Semelhantes a `educação`:\n",
        "saúde, escolar, seduc, especialistas\n",
        "executiva, escolarização, cultura\n",
        "prevenção, professores, endemias.\n",
        "\n",
        "Semelhantes a `saúde`:\n",
        "educação, competirá, vigilância,\n",
        "seduc, médico-hospitalar, básico\n",
        "segunraça, sus, incumbida, rede\n",
        "\n",
        "Semelhantes a `segurança`:\n",
        "higiene, alimentar, nutricional,\n",
        "conforto, coletiva, zelar,\n",
        "garantir, engenharia, visando, melhor.\n",
        "\n",
        "Semelhantes a `transporte`:\n",
        "coletivo, passageiros, alternativo,\n",
        "cargas, táxi, convencional, veículos,\n",
        "individual, coeltivos, stiac.\n",
        "\n",
        "Embora muitas palavras de fato indiquem semelhanças,\n",
        "algumas palavras não possuem muita relação.\n",
        "Por exemplo: \"saúde\" e \"competirá\".\n",
        "Isto pode ocorrer porque a palavra \"competirá\"\n",
        "ocorre em contextos parecidos a \"saúde\".\n",
        "\n",
        "Uma forma de mitigar estes problemas é treinando\n",
        "com mais dados. Podemos, por exemplo, carregar todos\n",
        "os documentos de textos e treiná-los todos juntos.\n",
        "Este também é um bom exercício, se você está aprendendo.\n",
        "Faz um PR pra gente!"
      ]
    },
    {
      "source": [],
      "cell_type": "markdown",
      "metadata": {}
    },
    {
      "source": [
        "## Construindo a representação das Leis\n",
        "\n",
        "O Gensim também traz uma ferramenta para\n",
        "gerar embeddings de textos inteiros, chamada\n",
        "[Doc2Vec](https://radimrehurek.com/gensim/models/doc2vec.html#gensim.models.doc2vec.Doc2Vec).\n",
        "Esta técnica utiliza uma ideia semelhante ao Word2Vec,\n",
        "com adaptações para cobrir um texto inteiro."
      ],
      "cell_type": "markdown",
      "metadata": {}
    },
    {
      "cell_type": "code",
      "metadata": {
        "tags": [],
        "id": "FLTahner0UBH",
        "colab_type": "code",
        "colab": {
          "base_uri": "https://localhost:8080/",
          "height": 139
        },
        "outputId": "97f30ae5-a27a-4fa9-b364-204bd621b71d"
      },
      "source": [
        "from gensim.models.doc2vec import Doc2Vec, TaggedDocument\n",
        "\n",
        "\n",
        "documents = [TaggedDocument(doc, [i]) for i, doc in enumerate(corpus)]\n",
        "documents[:2]\n",
        "# PS: Um compilador C torna o Doc2Vec em até 70x mais rápido"
      ],
      "execution_count": null,
      "outputs": []
    },
    {
      "cell_type": "code",
      "execution_count": null,
      "metadata": {},
      "outputs": [],
      "source": [
        "model_d2v = Doc2Vec(vector_size=50, min_count=5, window=2, workers=8, epochs=40) # \n",
        "model_d2v.build_vocab(documents)\n",
        "model_d2v.train(documents, total_examples=model_d2v.corpus_count, epochs=model_d2v.epochs)"
      ]
    },
    {
      "cell_type": "code",
      "execution_count": null,
      "metadata": {},
      "outputs": [],
      "source": [
        "most_similar_idxs_d2v = []\n",
        "for i in range(len(documents)):\n",
        "    doc_vec = model_d2v.docvecs[i]\n",
        "    most_similar_idx = model_d2v.docvecs.most_similar([doc_vec], topn=2)[1][0]\n",
        "    most_similar_idxs_d2v.append(most_similar_idx)"
      ]
    },
    {
      "cell_type": "code",
      "execution_count": null,
      "metadata": {},
      "outputs": [],
      "source": [
        "dif_d2v_to_tfidf = (most_similar_indexes_tfidf != most_similar_idxs_d2v)\n",
        "print(f\"Porcentagem de resultados diferentes de TFIDF:\\\n",
        " {round(sum(dif_d2v_to_tfidf)*100 / len(dif_d2v_to_tfidf),2)}\")"
      ]
    },
    {
      "source": [
        "## Comparação Doc2Vec x TF-IDF\n",
        "\n",
        "A diferença de resultados mais semelhantes entre Doc2Vec e TF-IDF é "
      ],
      "cell_type": "markdown",
      "metadata": {}
    },
    {
      "cell_type": "code",
      "execution_count": null,
      "metadata": {
        "tags": [
          "outputPrepend"
        ]
      },
      "outputs": [],
      "source": [
        "drafted_laws_idxs = get_disagreement_idxs(dif_d2v_to_tfidf, num_laws=5)\n",
        "compare_methods(drafted_laws_idxs,\n",
        "                most_similar_indexes_tfidf,\n",
        "                most_similar_idxs_d2v,\n",
        "                method_a_name=\"TF-IDF\",\n",
        "                method_b_name=\"Doc2Vec\"\n",
        ")"
      ]
    },
    {
      "source": [
        "### Lei 2011:\n",
        "\n",
        "Conteúdo obsoleto:\n",
        "Este  Ato não tem mais efeito prático, pois o conteúdo é temporal.\n",
        "22 de Dezembro de 2005.\n",
        "\n",
        "- TF-IDF trouxe Lei 2748:\n",
        "\n",
        "    Conteúdo obsoleto:\n",
        "    Este  Ato não tem mais efeito prático, pois o conteúdo é temporal.\n",
        "    20 de Junho de 2003.\n",
        "\n",
        "- Doc2Vec trouxe Lei 4046:\n",
        "\n",
        "    Lei Orgânica do Município.\n",
        "    Concede título de cidadão Feireense.\n",
        "\n",
        "TF-IDF muito melhor.\n",
        "\n",
        "PS: Não sabia que o conteúdo da Lei era apagado depois que o prazo vencia.\n",
        "Tá certo isso?\n",
        "\n",
        "### Lei 5674:\n",
        "\n",
        "Mudança de nome de Rua Alegria pra Rua Maria Quitéria de Jesus, na Vila de Tiquarusú\n",
        "\n",
        "- TF IDF trouxe Lei 6014:\n",
        "\n",
        "    Nominada nova rua \"Rua Congego Cupertino Lacerda\" da Senador Quintino à Comandante Almiro.\n",
        "\n",
        "- Doc2Vec trouxe Lei 1142:\n",
        "\n",
        "    Mudança no texto das leis.\n",
        "\n",
        "Novamente TF-IDF chegou muito mais perto\n",
        "\n",
        "### Lei 1943:\n",
        "\n",
        "Faço saber do Dia Municipal de Organizações da Sociedade Civil\n",
        "\n",
        "- TF IDF. Lei 3212:\n",
        "\n",
        "    Faço saber divuglando Associação Espírita Lar da Esperança\n",
        "\n",
        "- Doc2Vec. Lei 3070:\n",
        "\n",
        "    Faço saber Dia Municipal do Feirante.\n",
        "\n",
        "Dessa vez Doc2Vec se saiu melhor.\n",
        "Ambas trouxeram Faço saber,\n",
        "mas Doc2Vec trouxe um faço saber de feriado,\n",
        "enquanto a Lei mais semelhante por TF-IDF \n",
        "apresentou um faço saber de divulgação de associação espírita.\n",
        "\n",
        "### Leis 5058 e 3799:\n",
        "\n",
        "Duas Leis idênticas, exceto os números, \n",
        "que não são considerados pelos métodos de busca:\n",
        "\n",
        "`\"Visualizar Ato:Decreto Legislativo nº 33/2011 - Feira de Santana-BA\"`\n",
        "\n",
        "Ambos os métodos trouxeram leis idênticas.\n",
        "\n",
        "- TF-IDF: 5105, 5105\n",
        "- Doc2Vec: 4207, 3953\n",
        "\n"
      ],
      "cell_type": "markdown",
      "metadata": {}
    },
    {
      "cell_type": "markdown",
      "metadata": {
        "id": "QDqTxHud7z8N",
        "colab_type": "text"
      },
      "source": [
        "TF-IDF e sai um pouco melhor nas Leis analisadas.\n",
        "\n",
        "Como a diferença da Lei mais próxima entre TF-IDF e Do2Vec\n",
        "é grande (87%), acredito que TF-IDF seja uma opção melhor para utilizar."
      ]
    },
    {
      "cell_type": "markdown",
      "metadata": {
        "id": "ipPoW9DQ0UAn",
        "colab_type": "text"
      },
      "source": [
        "## Outras opções\n",
        "### Indexar\n",
        "\n",
        "Há outras formas de indexar os documentos e de recuperar, também simples.\n",
        "\n",
        "Uma outra forma de criar representações para indexar, por exemplo,\n",
        "é calcular a média dos vetores pra cada palavra do documento.\n",
        "Doc2Vec em geral é ligeramente melhor, mas precisamos testar \n",
        "no nosso corpus.\n",
        "\n",
        "Outra forma é contar n-gramas - por exemplo, bi-gramas:\n",
        "duas palavras juntas formando um token.\n",
        "Dessa forma, você possui uma matriz maior\n",
        "e de certa forma uma relação entre a sequencialidade das palavras,\n",
        "que pode ser útil pra nomes de pessoas e bairros, como citado acima.\n",
        "\n",
        "### Recuperar\n",
        "\n",
        "Outra forma de recuperar é por local sensitive hashing:\n",
        "Dividir o espaço vetorial em vários planos múltiplas vezes\n",
        "e retornar os resultados que estão na mesma região da query.\n",
        "No entanto, o corpus não é grande o suficiente pra precisar essa estratégia,\n",
        "que é mais pra grandes corpora.\n",
        "O método acima\n",
        "(calcular a simlaridade cosseno e retornar os maiores valores)\n",
        "é rápido o suficiente pra parecer instantâneo.\n",
        "Talvez com uma demanda mais alta pelo\n",
        "servidor venha a necessidade de aumentar\n",
        "a velocidade da busca, porém por enquanto não é o caso.\n",
        "Mais sobre recuperação: Google lançou [novo método]\n",
        "(https://ai.googleblog.com/2020/07/announcing-scann-efficient-vector.html)\n",
        "e uma lib pra isso agora, dia 28 de Julho.\n",
        "\n",
        "### Avaliação\n",
        "\n",
        "Com múltiplas formas de indexar e recuperar vem o dilema:\n",
        "como avaliar se uma é melhor que a outra?\n",
        "Repetir o processo acima pra todas as opções?\n",
        "Isto é, mostrar N melhores resultados e comparar manualmente?\n",
        "Ou colocar labels em algumas leis?\n",
        "Ex: essa lei trata disso, com tais entidades.\n",
        "Checar formas de avaliação.\n",
        "Se tivesse em produção, podia avaliar por CTR por ex, mas não é o caso"
      ]
    }
  ]
}
