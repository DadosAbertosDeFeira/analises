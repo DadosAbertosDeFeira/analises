{
 "cells": [
  {
   "cell_type": "code",
   "execution_count": 62,
   "metadata": {
    "tags": []
   },
   "outputs": [],
   "source": [
    "import pandas as pd\n",
    "import matplotlib.pyplot as plt\n",
    "import numpy as np\n",
    "from sklearn.cluster import KMeans"
   ]
  },
  {
   "cell_type": "markdown",
   "metadata": {},
   "source": [
    "# Carregando e limpando os dados"
   ]
  },
  {
   "cell_type": "code",
   "execution_count": 28,
   "metadata": {
    "tags": []
   },
   "outputs": [
    {
     "output_type": "stream",
     "name": "stdout",
     "text": "<class 'pandas.core.frame.DataFrame'>\nRangeIndex: 427873 entries, 0 to 427872\nData columns (total 15 columns):\n #   Column                   Non-Null Count   Dtype \n---  ------                   --------------   ----- \n 0   data_publicacao          427873 non-null  object\n 1   fase                     427873 non-null  object\n 2   credor                   427873 non-null  object\n 3   valor                    427873 non-null  object\n 4   numero                   427873 non-null  object\n 5   cpf_ou_cnpj              427873 non-null  object\n 6   data_pagamento           427873 non-null  object\n 7   numero_processo          253290 non-null  object\n 8   bem_ou_servico_prestado  420978 non-null  object\n 9   natureza                 422333 non-null  object\n 10  acao                     407378 non-null  object\n 11  funcao                   407414 non-null  object\n 12  subfuncao                407405 non-null  object\n 13  processo_licitatorio     407396 non-null  object\n 14  fonte_recurso            407405 non-null  object\ndtypes: object(15)\nmemory usage: 49.0+ MB\ndata_publicacao              2624\nfase                            3\ncredor                       8831\nvalor                      124055\nnumero                     193494\ncpf_ou_cnpj                  7828\ndata_pagamento               2624\nnumero_processo             17919\nbem_ou_servico_prestado    149798\nnatureza                      833\nacao                         1090\nfuncao                         48\nsubfuncao                      75\nprocesso_licitatorio           26\nfonte_recurso                  39\ndtype: int64\n"
    },
    {
     "output_type": "execute_result",
     "data": {
      "text/plain": "  data_publicacao     fase                          credor             valor  \\\n0      01/01/2010  EMPENHO  METALPIRES  INDUSTRIA E COM LT  R$    203.690,00   \n1      01/01/2010  EMPENHO   INST.NAC.DE SEGURIDADE SOCIAL  R$  1.500.000,00   \n2      01/01/2010  EMPENHO  GASAUTO  LOCAC?O DE VEICULOS L  R$     18.816,00   \n3      02/01/2010  EMPENHO      SALUSTIANO JOSE ALVES DIAS  R$      4.800,00   \n4      02/01/2010  EMPENHO        VALDEANE DOS SANTOS DIAS  R$      3.600,00   \n\n     numero         cpf_ou_cnpj data_pagamento numero_processo  \\\n0  10000348  06.965.538/0001-00     01/01/2010        157/2009   \n1  10000195  01.404.357/0001-51     01/01/2010             NaN   \n2  113/2009  00.426.288/0001-58     01/01/2010        039/2009   \n3  10000024      407.981.865-34     02/01/2010        230/2007   \n4  10000494      006.534.185-66     02/01/2010             NaN   \n\n                             bem_ou_servico_prestado  \\\n0  REF AQUISICAO DE MOBILIARIOS E EQUIPAMENTOS PA...   \n1  REFERENTE A DESPESA COM PARCE- LAMENTO  DA  DI...   \n2  locac?o de 04 motocicletas 150cc com com parti...   \n3  TERMO DE RENOVACAO DO ADITIVO  5025271/2009, R...   \n4  REF. ALUGUEL DO IMOVEL ONDE    FUNCIONA O NUCL...   \n\n                                      natureza  \\\n0  449052090000 - Out.Equip. e Mat. Permanente   \n1             469071030000 - INSS/PARCELAMENTO   \n2           339039780000 - locacao de veiculos   \n3           339039780000 - locacao de veiculos   \n4            339039100000 - Locacao de imoveis   \n\n                                                acao                   funcao  \\\n0  2040 - Equipar e Reequipar Unidades Escolares ...            12 - EDUCACAO   \n1          2145 - Administracao de encagos especiais  28 - ENCARGOS ESPECIAIS   \n2                       2141 - Seguranca no transito          26 - TRANSPORTE   \n3              2097 - Pavimentacao e infra-estrutura           15 - URBANISMO   \n4       2084 - Programa Errad.Trabalho Infantil PETI  08 - ASSISTENCIA SOCIAL   \n\n                              subfuncao processo_licitatorio  \\\n0              361 - ENSINO FUNDAMENTAL               PREGAO   \n1       843 - SERVICO DA DIVIDA INTERNA               ISENTO   \n2                452 - SERVICOS URBANOS              CONVITE   \n3          451 - INFRA-ESTRUTURA URBANA      TOMADA DE PRECO   \n4  243 - ASSISTENCIA A CRIANCA E AO ADO               ISENTO   \n\n                        fonte_recurso  \n0  0001 - REC.IMP.TRANSF.EDUCACAO 25%  \n1          0000 - RECURSOS ORDINARIOS  \n2        0050 - REC.PROPRIAS ENT.ADM.  \n3          0000 - RECURSOS ORDINARIOS  \n4          0000 - RECURSOS ORDINARIOS  ",
      "text/html": "<div>\n<style scoped>\n    .dataframe tbody tr th:only-of-type {\n        vertical-align: middle;\n    }\n\n    .dataframe tbody tr th {\n        vertical-align: top;\n    }\n\n    .dataframe thead th {\n        text-align: right;\n    }\n</style>\n<table border=\"1\" class=\"dataframe\">\n  <thead>\n    <tr style=\"text-align: right;\">\n      <th></th>\n      <th>data_publicacao</th>\n      <th>fase</th>\n      <th>credor</th>\n      <th>valor</th>\n      <th>numero</th>\n      <th>cpf_ou_cnpj</th>\n      <th>data_pagamento</th>\n      <th>numero_processo</th>\n      <th>bem_ou_servico_prestado</th>\n      <th>natureza</th>\n      <th>acao</th>\n      <th>funcao</th>\n      <th>subfuncao</th>\n      <th>processo_licitatorio</th>\n      <th>fonte_recurso</th>\n    </tr>\n  </thead>\n  <tbody>\n    <tr>\n      <th>0</th>\n      <td>01/01/2010</td>\n      <td>EMPENHO</td>\n      <td>METALPIRES  INDUSTRIA E COM LT</td>\n      <td>R$    203.690,00</td>\n      <td>10000348</td>\n      <td>06.965.538/0001-00</td>\n      <td>01/01/2010</td>\n      <td>157/2009</td>\n      <td>REF AQUISICAO DE MOBILIARIOS E EQUIPAMENTOS PA...</td>\n      <td>449052090000 - Out.Equip. e Mat. Permanente</td>\n      <td>2040 - Equipar e Reequipar Unidades Escolares ...</td>\n      <td>12 - EDUCACAO</td>\n      <td>361 - ENSINO FUNDAMENTAL</td>\n      <td>PREGAO</td>\n      <td>0001 - REC.IMP.TRANSF.EDUCACAO 25%</td>\n    </tr>\n    <tr>\n      <th>1</th>\n      <td>01/01/2010</td>\n      <td>EMPENHO</td>\n      <td>INST.NAC.DE SEGURIDADE SOCIAL</td>\n      <td>R$  1.500.000,00</td>\n      <td>10000195</td>\n      <td>01.404.357/0001-51</td>\n      <td>01/01/2010</td>\n      <td>NaN</td>\n      <td>REFERENTE A DESPESA COM PARCE- LAMENTO  DA  DI...</td>\n      <td>469071030000 - INSS/PARCELAMENTO</td>\n      <td>2145 - Administracao de encagos especiais</td>\n      <td>28 - ENCARGOS ESPECIAIS</td>\n      <td>843 - SERVICO DA DIVIDA INTERNA</td>\n      <td>ISENTO</td>\n      <td>0000 - RECURSOS ORDINARIOS</td>\n    </tr>\n    <tr>\n      <th>2</th>\n      <td>01/01/2010</td>\n      <td>EMPENHO</td>\n      <td>GASAUTO  LOCAC?O DE VEICULOS L</td>\n      <td>R$     18.816,00</td>\n      <td>113/2009</td>\n      <td>00.426.288/0001-58</td>\n      <td>01/01/2010</td>\n      <td>039/2009</td>\n      <td>locac?o de 04 motocicletas 150cc com com parti...</td>\n      <td>339039780000 - locacao de veiculos</td>\n      <td>2141 - Seguranca no transito</td>\n      <td>26 - TRANSPORTE</td>\n      <td>452 - SERVICOS URBANOS</td>\n      <td>CONVITE</td>\n      <td>0050 - REC.PROPRIAS ENT.ADM.</td>\n    </tr>\n    <tr>\n      <th>3</th>\n      <td>02/01/2010</td>\n      <td>EMPENHO</td>\n      <td>SALUSTIANO JOSE ALVES DIAS</td>\n      <td>R$      4.800,00</td>\n      <td>10000024</td>\n      <td>407.981.865-34</td>\n      <td>02/01/2010</td>\n      <td>230/2007</td>\n      <td>TERMO DE RENOVACAO DO ADITIVO  5025271/2009, R...</td>\n      <td>339039780000 - locacao de veiculos</td>\n      <td>2097 - Pavimentacao e infra-estrutura</td>\n      <td>15 - URBANISMO</td>\n      <td>451 - INFRA-ESTRUTURA URBANA</td>\n      <td>TOMADA DE PRECO</td>\n      <td>0000 - RECURSOS ORDINARIOS</td>\n    </tr>\n    <tr>\n      <th>4</th>\n      <td>02/01/2010</td>\n      <td>EMPENHO</td>\n      <td>VALDEANE DOS SANTOS DIAS</td>\n      <td>R$      3.600,00</td>\n      <td>10000494</td>\n      <td>006.534.185-66</td>\n      <td>02/01/2010</td>\n      <td>NaN</td>\n      <td>REF. ALUGUEL DO IMOVEL ONDE    FUNCIONA O NUCL...</td>\n      <td>339039100000 - Locacao de imoveis</td>\n      <td>2084 - Programa Errad.Trabalho Infantil PETI</td>\n      <td>08 - ASSISTENCIA SOCIAL</td>\n      <td>243 - ASSISTENCIA A CRIANCA E AO ADO</td>\n      <td>ISENTO</td>\n      <td>0000 - RECURSOS ORDINARIOS</td>\n    </tr>\n  </tbody>\n</table>\n</div>"
     },
     "metadata": {},
     "execution_count": 28
    }
   ],
   "source": [
    "pagamentos = pd.read_csv('pagamentos.csv')\n",
    "pagamentos.info()\n",
    "print(pagamentos.nunique())\n",
    "pagamentos.head()"
   ]
  },
  {
   "cell_type": "code",
   "execution_count": 56,
   "metadata": {
    "tags": []
   },
   "outputs": [
    {
     "output_type": "stream",
     "name": "stdout",
     "text": "Menor data: 2018-01-01 00:00:00, maior data: 2018-12-27 00:00:00\n"
    },
    {
     "output_type": "execute_result",
     "data": {
      "text/plain": "       data_publicacao     fase                                        credor  \\\n341136      01/01/2018  EMPENHO  GREEN CARD S/A REFEIÇÕES COMERCIO E SERVIÇOS   \n341137      03/01/2018  EMPENHO                 COOPERSADE COOP.S.P.ESP.SAUDE   \n341138      03/01/2018  EMPENHO                 COOPERSADE COOP.S.P.ESP.SAUDE   \n341139      03/01/2018  EMPENHO                 COOPERSADE COOP.S.P.ESP.SAUDE   \n341140      03/01/2018  EMPENHO                 COOPERSADE COOP.S.P.ESP.SAUDE   \n\n                   valor    numero         cpf_ou_cnpj data_pagamento  \\\n341136  R$    250.000,00  18000306  92.559.830/0001-71     2018-01-01   \n341137  R$    150.000,00  18000026  03.817.692/0001-53     2018-01-03   \n341138  R$    214.000,00  18000027  03.817.692/0001-53     2018-01-03   \n341139  R$    140.000,00  18000028  03.817.692/0001-53     2018-01-03   \n341140  R$     80.000,00  18000029  03.817.692/0001-53     2018-01-03   \n\n       numero_processo                            bem_ou_servico_prestado  \\\n341136    051-20171111  CONTRATAÇÃO DE EMPRESA PARA PRESTAÇÃO DE SERVI...   \n341137        347/2015  REF. A CONTRATAÇÃO DE EMPRESA ESPECIALIZADA NA...   \n341138        347/2015  REF. A CONTRATAÇÃO DE EMPRESA ESPECIALIZADA NA...   \n341139        347/2015  REF. A CONTRATAÇÃO DE EMPRESA ESPECIALIZADA NA...   \n341140        347/2015  REF. A CONTRATAÇÃO DE EMPRESA ESPECIALIZADA NA...   \n\n                                                 natureza  \\\n341136  339039990000000000 - Outros Serv.Terceiros - P...   \n341137  339039990000000000 - Outros Serv.Terceiros - P...   \n341138  339034010000000000 - Out.Serv.de Tercerizaçao-...   \n341139  339039990000000000 - Outros Serv.Terceiros - P...   \n341140  339034010000000000 - Out.Serv.de Tercerizaçao-...   \n\n                                                     acao  \\\n341136  idica                            2056 - Atenca...   \n341137  idica                            2194 - Serv.d...   \n341138  ídica                            2239 - Serviç...   \n341139  idica                            2239 - Serviç...   \n341140  ídica                            2239 - Serviç...   \n\n                         funcao                             subfuncao  \\\n341136               10 - SAUDE  302 - ASSISTENCIA HOSPITALAR E AMBUL   \n341137  08 - ASSISTENCIA SOCIAL         244 - ASSISTENCIA COMUNITARIA   \n341138  08 - ASSISTENCIA SOCIAL         244 - ASSISTENCIA COMUNITARIA   \n341139  08 - ASSISTENCIA SOCIAL         244 - ASSISTENCIA COMUNITARIA   \n341140  08 - ASSISTENCIA SOCIAL         244 - ASSISTENCIA COMUNITARIA   \n\n       processo_licitatorio               fonte_recurso  \n341136               PREGAO      0014 - TRANSF.REC. SUS  \n341137               PREGAO  0029 - TRANSF. REC. - FNAS  \n341138               PREGAO  0000 - RECURSOS ORDINARIOS  \n341139               PREGAO  0000 - RECURSOS ORDINARIOS  \n341140               PREGAO  0029 - TRANSF. REC. - FNAS  ",
      "text/html": "<div>\n<style scoped>\n    .dataframe tbody tr th:only-of-type {\n        vertical-align: middle;\n    }\n\n    .dataframe tbody tr th {\n        vertical-align: top;\n    }\n\n    .dataframe thead th {\n        text-align: right;\n    }\n</style>\n<table border=\"1\" class=\"dataframe\">\n  <thead>\n    <tr style=\"text-align: right;\">\n      <th></th>\n      <th>data_publicacao</th>\n      <th>fase</th>\n      <th>credor</th>\n      <th>valor</th>\n      <th>numero</th>\n      <th>cpf_ou_cnpj</th>\n      <th>data_pagamento</th>\n      <th>numero_processo</th>\n      <th>bem_ou_servico_prestado</th>\n      <th>natureza</th>\n      <th>acao</th>\n      <th>funcao</th>\n      <th>subfuncao</th>\n      <th>processo_licitatorio</th>\n      <th>fonte_recurso</th>\n    </tr>\n  </thead>\n  <tbody>\n    <tr>\n      <th>341136</th>\n      <td>01/01/2018</td>\n      <td>EMPENHO</td>\n      <td>GREEN CARD S/A REFEIÇÕES COMERCIO E SERVIÇOS</td>\n      <td>R$    250.000,00</td>\n      <td>18000306</td>\n      <td>92.559.830/0001-71</td>\n      <td>2018-01-01</td>\n      <td>051-20171111</td>\n      <td>CONTRATAÇÃO DE EMPRESA PARA PRESTAÇÃO DE SERVI...</td>\n      <td>339039990000000000 - Outros Serv.Terceiros - P...</td>\n      <td>idica                            2056 - Atenca...</td>\n      <td>10 - SAUDE</td>\n      <td>302 - ASSISTENCIA HOSPITALAR E AMBUL</td>\n      <td>PREGAO</td>\n      <td>0014 - TRANSF.REC. SUS</td>\n    </tr>\n    <tr>\n      <th>341137</th>\n      <td>03/01/2018</td>\n      <td>EMPENHO</td>\n      <td>COOPERSADE COOP.S.P.ESP.SAUDE</td>\n      <td>R$    150.000,00</td>\n      <td>18000026</td>\n      <td>03.817.692/0001-53</td>\n      <td>2018-01-03</td>\n      <td>347/2015</td>\n      <td>REF. A CONTRATAÇÃO DE EMPRESA ESPECIALIZADA NA...</td>\n      <td>339039990000000000 - Outros Serv.Terceiros - P...</td>\n      <td>idica                            2194 - Serv.d...</td>\n      <td>08 - ASSISTENCIA SOCIAL</td>\n      <td>244 - ASSISTENCIA COMUNITARIA</td>\n      <td>PREGAO</td>\n      <td>0029 - TRANSF. REC. - FNAS</td>\n    </tr>\n    <tr>\n      <th>341138</th>\n      <td>03/01/2018</td>\n      <td>EMPENHO</td>\n      <td>COOPERSADE COOP.S.P.ESP.SAUDE</td>\n      <td>R$    214.000,00</td>\n      <td>18000027</td>\n      <td>03.817.692/0001-53</td>\n      <td>2018-01-03</td>\n      <td>347/2015</td>\n      <td>REF. A CONTRATAÇÃO DE EMPRESA ESPECIALIZADA NA...</td>\n      <td>339034010000000000 - Out.Serv.de Tercerizaçao-...</td>\n      <td>ídica                            2239 - Serviç...</td>\n      <td>08 - ASSISTENCIA SOCIAL</td>\n      <td>244 - ASSISTENCIA COMUNITARIA</td>\n      <td>PREGAO</td>\n      <td>0000 - RECURSOS ORDINARIOS</td>\n    </tr>\n    <tr>\n      <th>341139</th>\n      <td>03/01/2018</td>\n      <td>EMPENHO</td>\n      <td>COOPERSADE COOP.S.P.ESP.SAUDE</td>\n      <td>R$    140.000,00</td>\n      <td>18000028</td>\n      <td>03.817.692/0001-53</td>\n      <td>2018-01-03</td>\n      <td>347/2015</td>\n      <td>REF. A CONTRATAÇÃO DE EMPRESA ESPECIALIZADA NA...</td>\n      <td>339039990000000000 - Outros Serv.Terceiros - P...</td>\n      <td>idica                            2239 - Serviç...</td>\n      <td>08 - ASSISTENCIA SOCIAL</td>\n      <td>244 - ASSISTENCIA COMUNITARIA</td>\n      <td>PREGAO</td>\n      <td>0000 - RECURSOS ORDINARIOS</td>\n    </tr>\n    <tr>\n      <th>341140</th>\n      <td>03/01/2018</td>\n      <td>EMPENHO</td>\n      <td>COOPERSADE COOP.S.P.ESP.SAUDE</td>\n      <td>R$     80.000,00</td>\n      <td>18000029</td>\n      <td>03.817.692/0001-53</td>\n      <td>2018-01-03</td>\n      <td>347/2015</td>\n      <td>REF. A CONTRATAÇÃO DE EMPRESA ESPECIALIZADA NA...</td>\n      <td>339034010000000000 - Out.Serv.de Tercerizaçao-...</td>\n      <td>ídica                            2239 - Serviç...</td>\n      <td>08 - ASSISTENCIA SOCIAL</td>\n      <td>244 - ASSISTENCIA COMUNITARIA</td>\n      <td>PREGAO</td>\n      <td>0029 - TRANSF. REC. - FNAS</td>\n    </tr>\n  </tbody>\n</table>\n</div>"
     },
     "metadata": {},
     "execution_count": 56
    }
   ],
   "source": [
    "# Selecionando o ano desejado\n",
    "pagamentos['data_pagamento'] = pd.to_datetime(pagamentos['data_pagamento'], dayfirst=True)\n",
    "pagamentos = pagamentos[(pagamentos['data_pagamento'] > '2017-12-31') & (pagamentos['data_pagamento'] < '2019-01-01')]\n",
    "min_data = pagamentos['data_pagamento'].min()\n",
    "max_data = pagamentos['data_pagamento'].max()\n",
    "print(f'Menor data: {min_data}, maior data: {max_data}')\n",
    "pagamentos.head()"
   ]
  },
  {
   "cell_type": "code",
   "execution_count": 57,
   "metadata": {
    "tags": []
   },
   "outputs": [
    {
     "output_type": "stream",
     "name": "stdout",
     "text": "<class 'pandas.core.frame.DataFrame'>\nInt64Index: 25713 entries, 341325 to 401630\nData columns (total 3 columns):\n #   Column    Non-Null Count  Dtype \n---  ------    --------------  ----- \n 0   valor     25713 non-null  object\n 1   natureza  22699 non-null  object\n 2   funcao    22699 non-null  object\ndtypes: object(3)\nmemory usage: 803.5+ KB\nNone\nvalor       11535\nnatureza       95\nfuncao         20\ndtype: int64\n"
    }
   ],
   "source": [
    "# Selecionando a fase e colunas uteis\n",
    "pagamentos = pagamentos[pagamentos['fase'] == 'PAGAMENTO']\n",
    "pagamentos.drop(['data_publicacao', 'fase', 'numero', \n",
    "                'cpf_ou_cnpj', 'data_pagamento', 'numero_processo',\n",
    "                'credor',  'bem_ou_servico_prestado', 'acao',\n",
    "                'subfuncao', 'processo_licitatorio', 'fonte_recurso'],\n",
    "                inplace=True, axis=1)\n",
    "print(pagamentos.info())\n",
    "print(pagamentos.nunique())"
   ]
  },
  {
   "cell_type": "code",
   "execution_count": 58,
   "metadata": {
    "tags": []
   },
   "outputs": [
    {
     "output_type": "stream",
     "name": "stdout",
     "text": "Numero de entradas duplicadas: 13612\nNumero de entradas unicas: 12101\n"
    }
   ],
   "source": [
    "num_entradas_repetidas = len(pagamentos)\n",
    "pagamentos = pagamentos.drop_duplicates()\n",
    "num_entradas_unicas = len(pagamentos)\n",
    "print(f'Numero de entradas duplicadas: {num_entradas_repetidas - num_entradas_unicas}\\nNumero de entradas unicas: {num_entradas_unicas}')"
   ]
  },
  {
   "cell_type": "code",
   "execution_count": 59,
   "metadata": {
    "tags": []
   },
   "outputs": [
    {
     "output_type": "stream",
     "name": "stdout",
     "text": "<class 'pandas.core.frame.DataFrame'>\nInt64Index: 12101 entries, 341325 to 401592\nData columns (total 3 columns):\n #   Column    Non-Null Count  Dtype  \n---  ------    --------------  -----  \n 0   valor     12101 non-null  float64\n 1   natureza  10637 non-null  object \n 2   funcao    10637 non-null  object \ndtypes: float64(1), object(2)\nmemory usage: 378.2+ KB\n"
    }
   ],
   "source": [
    "# Limpando float\n",
    "def currency_to_float(value):\n",
    "    \"\"\"Converte de R$ 69.848,70 (str) para 69848.70 (float).\"\"\"\n",
    "    try:\n",
    "        cleaned_value = value.replace(\"R$\", \"\").replace(\".\", \"\").replace(\",\", \".\")\n",
    "        return float(cleaned_value)\n",
    "    except ValueError:\n",
    "        return\n",
    "\n",
    "pagamentos['valor'] = pagamentos['valor'].apply(currency_to_float)\n",
    "pagamentos.info()"
   ]
  },
  {
   "cell_type": "code",
   "execution_count": 61,
   "metadata": {
    "tags": []
   },
   "outputs": [
    {
     "output_type": "stream",
     "name": "stdout",
     "text": "<class 'pandas.core.frame.DataFrame'>\nInt64Index: 12101 entries, 341325 to 401592\nData columns (total 3 columns):\n #   Column    Non-Null Count  Dtype  \n---  ------    --------------  -----  \n 0   valor     12101 non-null  float64\n 1   natureza  10637 non-null  object \n 2   funcao    10637 non-null  object \ndtypes: float64(1), object(2)\nmemory usage: 378.2+ KB\nNone\nvalor       11535\nnatureza       95\nfuncao         20\ndtype: int64\n"
    },
    {
     "output_type": "execute_result",
     "data": {
      "text/plain": "            valor                                           natureza  \\\n341325  548855.35         329021000000 - Juros s/Divida por Contrato   \n341326    6544.08                  339039930000 - Serviços Bancários   \n341336    1066.00  339039990000 - Outros Serv.Terceiros - P. Juri...   \n341916   26752.76                              469071070000 - EMBASA   \n341917    1723.26                  339039930000 - Serviços Bancários   \n\n                         funcao  \n341325  28 - ENCARGOS ESPECIAIS  \n341326       04 - ADMINISTRACAO  \n341336       04 - ADMINISTRACAO  \n341916  28 - ENCARGOS ESPECIAIS  \n341917  08 - ASSISTENCIA SOCIAL  ",
      "text/html": "<div>\n<style scoped>\n    .dataframe tbody tr th:only-of-type {\n        vertical-align: middle;\n    }\n\n    .dataframe tbody tr th {\n        vertical-align: top;\n    }\n\n    .dataframe thead th {\n        text-align: right;\n    }\n</style>\n<table border=\"1\" class=\"dataframe\">\n  <thead>\n    <tr style=\"text-align: right;\">\n      <th></th>\n      <th>valor</th>\n      <th>natureza</th>\n      <th>funcao</th>\n    </tr>\n  </thead>\n  <tbody>\n    <tr>\n      <th>341325</th>\n      <td>548855.35</td>\n      <td>329021000000 - Juros s/Divida por Contrato</td>\n      <td>28 - ENCARGOS ESPECIAIS</td>\n    </tr>\n    <tr>\n      <th>341326</th>\n      <td>6544.08</td>\n      <td>339039930000 - Serviços Bancários</td>\n      <td>04 - ADMINISTRACAO</td>\n    </tr>\n    <tr>\n      <th>341336</th>\n      <td>1066.00</td>\n      <td>339039990000 - Outros Serv.Terceiros - P. Juri...</td>\n      <td>04 - ADMINISTRACAO</td>\n    </tr>\n    <tr>\n      <th>341916</th>\n      <td>26752.76</td>\n      <td>469071070000 - EMBASA</td>\n      <td>28 - ENCARGOS ESPECIAIS</td>\n    </tr>\n    <tr>\n      <th>341917</th>\n      <td>1723.26</td>\n      <td>339039930000 - Serviços Bancários</td>\n      <td>08 - ASSISTENCIA SOCIAL</td>\n    </tr>\n  </tbody>\n</table>\n</div>"
     },
     "metadata": {},
     "execution_count": 61
    }
   ],
   "source": [
    "print(pagamentos.info())\n",
    "print(pagamentos.nunique())\n",
    "pagamentos.head()"
   ]
  },
  {
   "cell_type": "markdown",
   "metadata": {},
   "source": [
    "# Visualizando os pagamentos\n",
    "\n",
    "A visualização a seguir se inspira no scatter plot do [Painel COFOG](https://painel-cofog.tesouro.gov.br/dashboard_cofog.Rmd#section-especifica%C3%A7%C3%A3o-das-despesas---a%C3%A7%C3%A3o-de-governo).\n",
    "\n",
    "Para isso, primeiro são definidos os clusters de acordo com o valor.\n",
    "\n",
    "Depois, os gastos são separados e plotados por natureza.\n",
    "\n",
    "- - - -\n",
    "\n",
    "## Clustering\n",
    "\n",
    "Primeiro, vamos visualizar os dados pra ver se existe alguma organização, algum insight sobre número de clusters ou qual algoritmo de cluster utilizar\n",
    "\n",
    "\n",
    "vou usar um algoritmo ingênuo de cluster: KMeans.\n",
    "\n",
    "KMeans começa com inicialização aleatória dos centros, então é suceptível a mínimos locais. \n",
    "\n",
    "O que se faz é rodar o algoritmo várias vezes e avaliar qual foi a melhor versão e utilizá-la."
   ]
  },
  {
   "cell_type": "code",
   "execution_count": null,
   "metadata": {},
   "outputs": [],
   "source": []
  }
 ],
 "metadata": {
  "language_info": {
   "codemirror_mode": {
    "name": "ipython",
    "version": 3
   },
   "file_extension": ".py",
   "mimetype": "text/x-python",
   "name": "python",
   "nbconvert_exporter": "python",
   "pygments_lexer": "ipython3",
   "version": "3.8.2-final"
  },
  "orig_nbformat": 2,
  "kernelspec": {
   "name": "python38264bit16b8003628b145c39b7161d6e18cffed",
   "display_name": "Python 3.8.2 64-bit"
  }
 },
 "nbformat": 4,
 "nbformat_minor": 2
}