{
 "cells": [
  {
   "source": [
    "# Visualização dos pagamentos da Prefeitura\n",
    "\n",
    "A proposta desse notebook é gerar uma visualização dos pagamentos. A proposta é muito inspirada no [Painel COFOG, do Tesouro Federal](https://painel-cofog.tesouro.gov.br/dashboard_cofog.Rmd#section-especifica%C3%A7%C3%A3o-das-despesas---a%C3%A7%C3%A3o-de-governo).\n",
    "\n",
    "No entanto, o uso desse notebook tá **bloqueado** porque os dados obtidos pelo Portal da Transparência da Prefeitura apresentam alguns problemas e inconsistência com os dados obtidos pelo TCM-BA. Cabe comparar os dados entre si e com relatórios / balanços da Prefeitura, pra ver o que que a gente pode ter de dado confiável.\n",
    "\n",
    "Alguns problemas dos dados neste notebook (provenientes do Portal de Transparência da Prefeitura):\n",
    "- Entradas duplicadas - pagamentos duplicados.\n",
    "- Entradas negativas - pagamentos negativos; descobri que os pagamentos negativos são utilizados pra \"cancelar\" pagamentos anteriores, talvez cadastrados de forma errada. O efeito é que no saldo cancela pagamentos registrados talvez de forma indevida, mas no isso causa uma série de outros prejuízos nas análises, por ex: quantos itens foram realmente comprados?\n",
    "- Falta um valor grande do orçamento quando todos os valores são somados, se comparados aos dados do TCM. Seria bacana uma análise pra ver qual a porcentagem da diferença "
   ],
   "cell_type": "markdown",
   "metadata": {}
  },
  {
   "cell_type": "code",
   "execution_count": null,
   "metadata": {
    "tags": []
   },
   "outputs": [],
   "source": [
    "import pandas as pd\n",
    "import matplotlib.pyplot as plt"
   ]
  },
  {
   "cell_type": "markdown",
   "metadata": {},
   "source": [
    "# Carregando e limpando os dados"
   ]
  },
  {
   "cell_type": "code",
   "execution_count": null,
   "metadata": {
    "tags": []
   },
   "outputs": [],
   "source": [
    "raw_pagamentos = pd.read_csv('pagamentos.csv')\n",
    "raw_pagamentos.info()\n",
    "print(raw_pagamentos.nunique())\n",
    "raw_pagamentos.head()"
   ]
  },
  {
   "cell_type": "code",
   "execution_count": null,
   "metadata": {
    "tags": []
   },
   "outputs": [],
   "source": [
    "total_entries = len(raw_pagamentos)\n",
    "raw_pagamentos = raw_pagamentos.drop_duplicates()\n",
    "uniques_count = len(raw_pagamentos)\n",
    "print(f'Duplicate entries count: {total_entries - uniques_count} \\\n",
    "\\nUnique entries count: {uniques_count}')"
   ]
  },
  {
   "cell_type": "code",
   "execution_count": null,
   "metadata": {},
   "outputs": [],
   "source": [
    "# A quem pertence esse CNPJ?\n",
    "\n",
    "misterious_cnpj = raw_pagamentos[raw_pagamentos['cpf_ou_cnpj'] == '40.435.740/0001-75']\n",
    "misterious_cnpj['fonte_recurso'].unique()"
   ]
  },
  {
   "cell_type": "code",
   "execution_count": null,
   "metadata": {
    "tags": []
   },
   "outputs": [],
   "source": [
    "raw_pagamentos = raw_pagamentos[raw_pagamentos['fase'] == 'PAGAMENTO']"
   ]
  },
  {
   "cell_type": "code",
   "execution_count": null,
   "metadata": {
    "tags": []
   },
   "outputs": [],
   "source": [
    "from scripts.parsers import currency_to_float\n",
    "raw_pagamentos['valor'] = raw_pagamentos['valor'].apply(currency_to_float)"
   ]
  },
  {
   "cell_type": "code",
   "execution_count": null,
   "metadata": {
    "tags": []
   },
   "outputs": [],
   "source": [
    "# Selecting year\n",
    "raw_pagamentos['data_pagamento'] = pd.to_datetime(raw_pagamentos['data_pagamento'], dayfirst=True)\n",
    "raw_pagamentos = raw_pagamentos[raw_pagamentos['data_pagamento'].isin(pd.date_range(start='2018-01-01', end='2018-12-31'))]\n",
    "\n",
    "earlier_date = raw_pagamentos['data_pagamento'].min()\n",
    "latest_date = raw_pagamentos['data_pagamento'].max()\n",
    "print(f'Earlier date: {earlier_date}, latest date: {latest_date}')\n",
    "raw_pagamentos"
   ]
  },
  {
   "cell_type": "code",
   "execution_count": null,
   "metadata": {},
   "outputs": [],
   "source": [
    "payments = raw_pagamentos.drop(['data_publicacao', 'fase', 'numero', \n",
    "                'cpf_ou_cnpj', 'data_pagamento', 'numero_processo',\n",
    "                'credor',  'bem_ou_servico_prestado', 'acao',\n",
    "                'subfuncao', 'processo_licitatorio', 'fonte_recurso'],\n",
    "                 axis=1)"
   ]
  },
  {
   "cell_type": "code",
   "execution_count": null,
   "metadata": {
    "tags": []
   },
   "outputs": [],
   "source": [
    "print(payments.info())\n",
    "print(payments.nunique())\n",
    "payments.head()"
   ]
  },
  {
   "cell_type": "markdown",
   "metadata": {},
   "source": [
    "## Conferindo pré-processamento\n",
    "\n",
    "Antes de passar pra etapa de análise, é importante conferir se os dados fazem sentido. Uma das formas é utilizando a análise descritica do Pandas."
   ]
  },
  {
   "cell_type": "code",
   "execution_count": null,
   "metadata": {},
   "outputs": [],
   "source": [
    "payments['valor'].describe()"
   ]
  },
  {
   "cell_type": "markdown",
   "metadata": {},
   "source": [
    "Valores negativos fazem sentido pra pagamentos?\n",
    "\n",
    "Vamos tentar ter uma ideia melhor do que sejam estes pagamentos negativos:"
   ]
  },
  {
   "cell_type": "code",
   "execution_count": null,
   "metadata": {
    "tags": []
   },
   "outputs": [],
   "source": [
    "negative_payments = raw_pagamentos[raw_pagamentos['valor'] < 0]\n",
    "print(negative_payments.info())\n",
    "negative_payments"
   ]
  },
  {
   "cell_type": "markdown",
   "metadata": {},
   "source": [
    "Munidos dos numeros de processo, vamos ao [Portal da Transparência](http://www.transparencia.feiradesantana.ba.gov.br/index.php?view=despesa) conferir o que são estes valores.\n",
    "\n",
    "O primeiro, do Banco do Brasil, constam no mesmo dia 3 pagamentos: este negativo, outro de mesmo valor e positivo, outro de valor parecido e positivo. \n",
    "\n",
    "Será que quem registrou, registrou primeiro um valor errado, depois um valor igual e negativo (pra anular o errado) e depois um outro valor, dessa vez correto? Vamos olhar os outros pra ver se seguem este padrão\n",
    "\n",
    "O segundo, do IUNE -INST. DE. URO E NEFRO FSA, existem 10 pagamentos similares (5 de cada valor). Ao final, no balanço da conta, resta apenas um pagamento de cada valor. Parece corroborar com a hipótese anterior.\n",
    "\n",
    "O terceiro, de SIMOES ESTRELAS EMPREENDIMENTOS LTDA ME EPP, também segue o mesmo padrão. 5 pagamentos que, somados, correspondem a 1 pagamento de um valor.\n",
    "\n",
    "Vou considerar a hipótese como correta após estas 3 análises pra partir pra análise dos dados, o que não é ideal. No entanto, se cada um que ler este notebook analisar +3 credores / CNPJs e fizer um commit aqui incluindo a análise destes, ao final teremos uma análise correta sobre o que aconteceu.\n",
    "\n",
    "De acordo com esta hipótese, eu posso simplesmente descartar os valores negativos, pq foram usados apenas pra balancear entradas duplicadas ou erradas. Como as entradas duplicadas foram removidas (50.316 delas, inclusive), isto não constitui um problema. \n",
    "\n",
    "Seguiremos com as entradas erradas, no entanto, na fé que não alterem muito o resultado. No total, existem apenas 32 pagamentos negativos não repetidos no ano de 2018 (ano em análise). Dos 3 analisados, apenas o pagamento real (o balanço) do BB constituia um valor diferente, não repetido, do pagamento que foi cancelado. No final das contas teremos um pagamento duplicado do BB. Com sorte, foram poucos casos onde isso ocorreu.\n",
    "\n"
   ]
  },
  {
   "cell_type": "code",
   "execution_count": null,
   "metadata": {
    "tags": []
   },
   "outputs": [],
   "source": [
    "previous_payments_count = len(payments)\n",
    "payments = payments[payments['valor'] > 0]\n",
    "\n",
    "negative_payments_count = len(negative_payments)\n",
    "payments_count = len(payments)\n",
    "\n",
    "print((payments_count - previous_payments_count == negative_payments_count))\n",
    "print((payments_count == previous_payments_count))"
   ]
  },
  {
   "cell_type": "code",
   "execution_count": null,
   "metadata": {
    "tags": []
   },
   "outputs": [],
   "source": [
    "sum = payments['valor'].sum()\n",
    "highest_payment_percentage = (payments['valor'].max() / sum) * 100\n",
    "\n",
    "print(f'Payments sum: R$ {sum}')\n",
    "print(f'Percentage of the biggest payment in relation to all payments: {highest_payment_percentage}%')\n",
    "payments['valor'].describe()"
   ]
  },
  {
   "cell_type": "code",
   "execution_count": null,
   "metadata": {},
   "outputs": [],
   "source": [
    "payments.quantile([.8, .9, .95, .96, .97, .98, .99, .999])"
   ]
  },
  {
   "cell_type": "code",
   "execution_count": null,
   "metadata": {
    "tags": []
   },
   "outputs": [],
   "source": [
    "payment_threshold = 1_000_000\n",
    "big_payments = payments[payments['valor'] > payment_threshold]\n",
    "big_payments_sum = big_payments['valor'].sum()\n",
    "big_payments_percentage = (big_payments_sum / sum) * 100\n",
    "print(f'Percentage of payments above R$ {payment_threshold},00: {big_payments_percentage}')\n",
    "\n",
    "big_payments = big_payments.sort_values('valor', ascending=False)\n",
    "big_payments"
   ]
  },
  {
   "cell_type": "code",
   "execution_count": null,
   "metadata": {},
   "outputs": [],
   "source": [
    "sorted_payments = payments.sort_values('valor')\n",
    "index = pd.Index([i for i in range(1, len(sorted_payments) +1)])\n",
    "sorted_payments.set_index(index, inplace=True)\n",
    "sorted_payments"
   ]
  },
  {
   "cell_type": "code",
   "execution_count": null,
   "metadata": {},
   "outputs": [],
   "source": [
    "import numpy as np\n",
    "\n",
    "payments_count = len(sorted_payments)\n",
    "sorted_payments['cum_sum_ratio'] = (sorted_payments['valor'].cumsum() / sum)\n",
    "sorted_payments['log_cum_sum_ratio'] = np.log(sorted_payments['cum_sum_ratio'])\n",
    "sorted_payments['count_percentage'] = sorted_payments.index / payments_count\n",
    "sorted_payments['price_log'] = np.log(sorted_payments['valor'])\n",
    "\n",
    "sorted_payments"
   ]
  },
  {
   "cell_type": "code",
   "execution_count": null,
   "metadata": {
    "tags": []
   },
   "outputs": [],
   "source": [
    "sorted_payments.plot.line(x='count_percentage', y='cum_sum_ratio')"
   ]
  },
  {
   "cell_type": "code",
   "execution_count": null,
   "metadata": {},
   "outputs": [],
   "source": [
    "upper_bound = 500000\n",
    "\n",
    "sorted_payments.plot.line(x='valor', y='cum_sum_ratio')\n",
    "sorted_payments.plot.line(x='valor', y='cum_sum_ratio', xlim=[0, upper_bound])\n",
    "sorted_payments.plot.line(x='valor', y='cum_sum_ratio', xlim=[upper_bound, 7400000])"
   ]
  },
  {
   "cell_type": "markdown",
   "metadata": {},
   "source": [
    "Esses o primeiro plot apresenta uma boa descrição dos pagamentos - falta torná-lo claro.\n",
    "\n",
    "Os de baixo apresentam coisas interessantes, porém talvez gráfico de linha não seja o melhor jeito de mostrar. Talvez colocando barras em cada faixa de valores (bin) pra mostrar quantos gastos existem naquela faixa de valores. E aí mostrar junto com a faixa do gasto. Aí você tem uma ideia de quanto foi gasto pra aquela faixa de valores, quanto isso representa do total, a quantos pagamentos isto corresponde e quanto o número anterior representa da quantidade total de pagamentos.\n",
    "\n",
    "ATé minha explicação tá confusa."
   ]
  },
  {
   "cell_type": "markdown",
   "metadata": {},
   "source": [
    "Agora os valores parecem fazer sentido.\n",
    "\n",
    "Existem 19.196 pagamentos\n",
    "\n",
    "A média dos pagamentos é R$ 2.823,53\n",
    "\n",
    "O desvio padrão é R$ 13.680,93\n",
    "\n",
    "O menor valor dos pagamentos é 1 centavo. Ok, essa parte parece ser estranha. Existem 15 pagamentos abaixo de 1 real, 92 abaixo de 5 e 116 abaixo de 10. Parece fazer sentido. Segue o baba\n",
    "\n",
    "O maior valor é R$ 7.344.698,00\n",
    "\n",
    "### E depois tem as informações dos quartis: \n",
    "\n",
    "25% dos pagamentos são abaixo de R$ 612,48\n",
    "\n",
    "metade abaixo de R$ 2.500\n",
    "\n",
    "3/4 abaixo de R$ 12.584,05"
   ]
  },
  {
   "cell_type": "markdown",
   "metadata": {},
   "source": [
    "# Visualizando os pagamentos\n",
    "\n",
    "A visualização a seguir se inspira no scatter plot do [Painel COFOG](https://painel-cofog.tesouro.gov.br/dashboard_cofog.Rmd#section-especifica%C3%A7%C3%A3o-das-despesas---a%C3%A7%C3%A3o-de-governo).\n",
    "\n",
    "Para isso, primeiro são definidos os clusters de acordo com o valor.\n",
    "\n",
    "Depois, os gastos são separados e plotados por natureza.\n",
    "\n",
    "- - - -\n",
    "\n",
    "## Clustering\n",
    "\n",
    "Primeiro, vamos visualizar os dados pra ver se existe alguma organização, algum insight sobre número de clusters ou qual algoritmo de cluster utilizar.\n",
    "\n",
    "Estamos clusterizando só por valor, então podemos usar um histograma ou uma curva de densidade pra nos dar uma informação sobre a característica dos dados. Talvez um scatter plot em uma linha também dê alguma intuição sobre isso. Leia mais em: https://www.data-to-viz.com/story/OneNum.html\n",
    "\n",
    "Primeiro, alguns checks de sanidade pra ver se os valores fazem sentido:"
   ]
  },
  {
   "cell_type": "code",
   "execution_count": null,
   "metadata": {},
   "outputs": [],
   "source": [
    "payments['valor'].plot.hist(bins=100)\n",
    "# print(f'n: {n}\\nBins: {bins}\\nPatch: {patch}')"
   ]
  },
  {
   "cell_type": "code",
   "execution_count": null,
   "metadata": {},
   "outputs": [],
   "source": [
    "payments[\"valor\"].plot.hist(bins=100, range=(0,5000), density=True)"
   ]
  },
  {
   "cell_type": "code",
   "execution_count": null,
   "metadata": {},
   "outputs": [],
   "source": [
    "payments[\"valor\"].plot.kde()"
   ]
  },
  {
   "cell_type": "code",
   "execution_count": null,
   "metadata": {},
   "outputs": [],
   "source": [
    "payments.plot.scatter(x='valor', y='valor')"
   ]
  },
  {
   "cell_type": "code",
   "execution_count": null,
   "metadata": {},
   "outputs": [],
   "source": [
    "payments[\"valor\"].plot.box(vert=False)"
   ]
  },
  {
   "cell_type": "markdown",
   "metadata": {},
   "source": [
    "vou usar um algoritmo ingênuo de cluster: KMeans.\n",
    "\n",
    "KMeans começa com inicialização aleatória dos centros, então é suceptível a mínimos locais. \n",
    "\n",
    "O que se faz é rodar o algoritmo várias vezes e avaliar qual foi a melhor versão e utilizá-la."
   ]
  },
  {
   "cell_type": "code",
   "execution_count": null,
   "metadata": {},
   "outputs": [],
   "source": [
    "from sklearn.cluster import KMeans"
   ]
  }
 ],
 "metadata": {
  "language_info": {
   "codemirror_mode": {
    "name": "ipython",
    "version": 3
   },
   "file_extension": ".py",
   "mimetype": "text/x-python",
   "name": "python",
   "nbconvert_exporter": "python",
   "pygments_lexer": "ipython3",
   "version": "3.8.2-final"
  },
  "orig_nbformat": 2,
  "kernelspec": {
   "name": "python38264bitdafsaanalises44e0a5c654164acaa6bcfd54db982667",
   "display_name": "Python 3.8.2 64-bit ('dafsa-analises')"
  }
 },
 "nbformat": 4,
 "nbformat_minor": 2
}
