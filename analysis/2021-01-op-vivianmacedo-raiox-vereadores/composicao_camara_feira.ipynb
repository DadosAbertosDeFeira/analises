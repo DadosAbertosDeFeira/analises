{
 "metadata": {
  "language_info": {
   "codemirror_mode": {
    "name": "ipython",
    "version": 3
   },
   "file_extension": ".py",
   "mimetype": "text/x-python",
   "name": "python",
   "nbconvert_exporter": "python",
   "pygments_lexer": "ipython3",
   "version": "3.9.0-final"
  },
  "orig_nbformat": 2,
  "kernelspec": {
   "name": "python3",
   "display_name": "Python 3",
   "language": "python"
  }
 },
 "nbformat": 4,
 "nbformat_minor": 2,
 "cells": [
  {
   "cell_type": "code",
   "execution_count": 2,
   "metadata": {},
   "outputs": [],
   "source": [
    "import pandas as pd"
   ]
  },
  {
   "cell_type": "code",
   "execution_count": 3,
   "metadata": {},
   "outputs": [],
   "source": [
    "data = pd.read_csv('vereadores_feira.csv')"
   ]
  },
  {
   "cell_type": "code",
   "execution_count": 11,
   "metadata": {},
   "outputs": [
    {
     "output_type": "execute_result",
     "data": {
      "text/plain": [
       "                                                      78   \\\n",
       "ano                                                  2020   \n",
       "tipo_eleicao                            eleicao ordinaria   \n",
       "sigla_uf                                               BA   \n",
       "id_municipio_tse                                    35157   \n",
       "numero_candidato                                    13500   \n",
       "id_candidato_bd                                    674496   \n",
       "sigla_partido                                          PT   \n",
       "cargo                                            vereador   \n",
       "turno                                                   1   \n",
       "resultado                                        suplente   \n",
       "votos                                                 417   \n",
       "ano_1                                                2020   \n",
       "tipo_eleicao_1                          eleicao ordinaria   \n",
       "sigla_uf_1                                             BA   \n",
       "id_municipio_tse_1                                  35157   \n",
       "id_candidato_bd_1                                  674496   \n",
       "cpf                                           14485621553   \n",
       "titulo_eleitoral                              65699070566   \n",
       "sequencial_candidato                          50000692031   \n",
       "numero_candidato_1                                  13500   \n",
       "nome_candidato        Guilhermino Alves Vaccarezza Junior   \n",
       "nome_urna_candidato                            Vaccarezza   \n",
       "numero_partido                                         13   \n",
       "sigla_partido_1                                        PT   \n",
       "cargo_1                                          vereador   \n",
       "situacao                                         deferido   \n",
       "ocupacao                                    administrador   \n",
       "data_nasc                                      1959-03-23   \n",
       "idade                                                  62   \n",
       "genero                                          masculino   \n",
       "instrucao                        ensino superior completo   \n",
       "estado_civil                                    casado(a)   \n",
       "nacionalidade                                  brasileira   \n",
       "sigla_uf_nasc                                          BA   \n",
       "municipio_nasc                           Senhor Do Bonfim   \n",
       "email                              vaccarezzagui@gmailcom   \n",
       "raca                                                parda   \n",
       "\n",
       "                                            537  \n",
       "ano                                        2020  \n",
       "tipo_eleicao                  eleicao ordinaria  \n",
       "sigla_uf                                     BA  \n",
       "id_municipio_tse                          35157  \n",
       "numero_candidato                          65285  \n",
       "id_candidato_bd                          514431  \n",
       "sigla_partido                           PC do B  \n",
       "cargo                                  vereador  \n",
       "turno                                         1  \n",
       "resultado                            nao eleito  \n",
       "votos                                       128  \n",
       "ano_1                                      2020  \n",
       "tipo_eleicao_1                eleicao ordinaria  \n",
       "sigla_uf_1                                   BA  \n",
       "id_municipio_tse_1                        35157  \n",
       "id_candidato_bd_1                        514431  \n",
       "cpf                                  8747288515  \n",
       "titulo_eleitoral                    54231560566  \n",
       "sequencial_candidato                50000676132  \n",
       "numero_candidato_1                        65285  \n",
       "nome_candidato           Arlete Maria Guimaraes  \n",
       "nome_urna_candidato                  Pro Arlete  \n",
       "numero_partido                               65  \n",
       "sigla_partido_1                         PC do B  \n",
       "cargo_1                                vereador  \n",
       "situacao                               deferido  \n",
       "ocupacao              professor de ensino medio  \n",
       "data_nasc                            1951-04-05  \n",
       "idade                                        69  \n",
       "genero                                 feminino  \n",
       "instrucao              ensino superior completo  \n",
       "estado_civil                        solteiro(a)  \n",
       "nacionalidade                        brasileira  \n",
       "sigla_uf_nasc                                BA  \n",
       "municipio_nasc               Conceição Do Coité  \n",
       "email                     arletegmrs@hotmailcom  \n",
       "raca                                     branca  "
      ],
      "text/html": "<div>\n<style scoped>\n    .dataframe tbody tr th:only-of-type {\n        vertical-align: middle;\n    }\n\n    .dataframe tbody tr th {\n        vertical-align: top;\n    }\n\n    .dataframe thead th {\n        text-align: right;\n    }\n</style>\n<table border=\"1\" class=\"dataframe\">\n  <thead>\n    <tr style=\"text-align: right;\">\n      <th></th>\n      <th>78</th>\n      <th>537</th>\n    </tr>\n  </thead>\n  <tbody>\n    <tr>\n      <th>ano</th>\n      <td>2020</td>\n      <td>2020</td>\n    </tr>\n    <tr>\n      <th>tipo_eleicao</th>\n      <td>eleicao ordinaria</td>\n      <td>eleicao ordinaria</td>\n    </tr>\n    <tr>\n      <th>sigla_uf</th>\n      <td>BA</td>\n      <td>BA</td>\n    </tr>\n    <tr>\n      <th>id_municipio_tse</th>\n      <td>35157</td>\n      <td>35157</td>\n    </tr>\n    <tr>\n      <th>numero_candidato</th>\n      <td>13500</td>\n      <td>65285</td>\n    </tr>\n    <tr>\n      <th>id_candidato_bd</th>\n      <td>674496</td>\n      <td>514431</td>\n    </tr>\n    <tr>\n      <th>sigla_partido</th>\n      <td>PT</td>\n      <td>PC do B</td>\n    </tr>\n    <tr>\n      <th>cargo</th>\n      <td>vereador</td>\n      <td>vereador</td>\n    </tr>\n    <tr>\n      <th>turno</th>\n      <td>1</td>\n      <td>1</td>\n    </tr>\n    <tr>\n      <th>resultado</th>\n      <td>suplente</td>\n      <td>nao eleito</td>\n    </tr>\n    <tr>\n      <th>votos</th>\n      <td>417</td>\n      <td>128</td>\n    </tr>\n    <tr>\n      <th>ano_1</th>\n      <td>2020</td>\n      <td>2020</td>\n    </tr>\n    <tr>\n      <th>tipo_eleicao_1</th>\n      <td>eleicao ordinaria</td>\n      <td>eleicao ordinaria</td>\n    </tr>\n    <tr>\n      <th>sigla_uf_1</th>\n      <td>BA</td>\n      <td>BA</td>\n    </tr>\n    <tr>\n      <th>id_municipio_tse_1</th>\n      <td>35157</td>\n      <td>35157</td>\n    </tr>\n    <tr>\n      <th>id_candidato_bd_1</th>\n      <td>674496</td>\n      <td>514431</td>\n    </tr>\n    <tr>\n      <th>cpf</th>\n      <td>14485621553</td>\n      <td>8747288515</td>\n    </tr>\n    <tr>\n      <th>titulo_eleitoral</th>\n      <td>65699070566</td>\n      <td>54231560566</td>\n    </tr>\n    <tr>\n      <th>sequencial_candidato</th>\n      <td>50000692031</td>\n      <td>50000676132</td>\n    </tr>\n    <tr>\n      <th>numero_candidato_1</th>\n      <td>13500</td>\n      <td>65285</td>\n    </tr>\n    <tr>\n      <th>nome_candidato</th>\n      <td>Guilhermino Alves Vaccarezza Junior</td>\n      <td>Arlete Maria Guimaraes</td>\n    </tr>\n    <tr>\n      <th>nome_urna_candidato</th>\n      <td>Vaccarezza</td>\n      <td>Pro Arlete</td>\n    </tr>\n    <tr>\n      <th>numero_partido</th>\n      <td>13</td>\n      <td>65</td>\n    </tr>\n    <tr>\n      <th>sigla_partido_1</th>\n      <td>PT</td>\n      <td>PC do B</td>\n    </tr>\n    <tr>\n      <th>cargo_1</th>\n      <td>vereador</td>\n      <td>vereador</td>\n    </tr>\n    <tr>\n      <th>situacao</th>\n      <td>deferido</td>\n      <td>deferido</td>\n    </tr>\n    <tr>\n      <th>ocupacao</th>\n      <td>administrador</td>\n      <td>professor de ensino medio</td>\n    </tr>\n    <tr>\n      <th>data_nasc</th>\n      <td>1959-03-23</td>\n      <td>1951-04-05</td>\n    </tr>\n    <tr>\n      <th>idade</th>\n      <td>62</td>\n      <td>69</td>\n    </tr>\n    <tr>\n      <th>genero</th>\n      <td>masculino</td>\n      <td>feminino</td>\n    </tr>\n    <tr>\n      <th>instrucao</th>\n      <td>ensino superior completo</td>\n      <td>ensino superior completo</td>\n    </tr>\n    <tr>\n      <th>estado_civil</th>\n      <td>casado(a)</td>\n      <td>solteiro(a)</td>\n    </tr>\n    <tr>\n      <th>nacionalidade</th>\n      <td>brasileira</td>\n      <td>brasileira</td>\n    </tr>\n    <tr>\n      <th>sigla_uf_nasc</th>\n      <td>BA</td>\n      <td>BA</td>\n    </tr>\n    <tr>\n      <th>municipio_nasc</th>\n      <td>Senhor Do Bonfim</td>\n      <td>Conceição Do Coité</td>\n    </tr>\n    <tr>\n      <th>email</th>\n      <td>vaccarezzagui@gmailcom</td>\n      <td>arletegmrs@hotmailcom</td>\n    </tr>\n    <tr>\n      <th>raca</th>\n      <td>parda</td>\n      <td>branca</td>\n    </tr>\n  </tbody>\n</table>\n</div>"
     },
     "metadata": {},
     "execution_count": 11
    }
   ],
   "source": [
    "data.sample(2).T"
   ]
  },
  {
   "cell_type": "code",
   "execution_count": 36,
   "metadata": {},
   "outputs": [
    {
     "output_type": "execute_result",
     "data": {
      "text/plain": [
       "array(['suplente', 'eleito por media', 'nao eleito', 'eleito por qp'],\n",
       "      dtype=object)"
      ]
     },
     "metadata": {},
     "execution_count": 36
    }
   ],
   "source": [
    "(data['resultado'].unique())"
   ]
  },
  {
   "cell_type": "code",
   "execution_count": 42,
   "metadata": {},
   "outputs": [
    {
     "output_type": "execute_result",
     "data": {
      "text/plain": [
       "      ano       tipo_eleicao sigla_uf  id_municipio_tse  numero_candidato  \\\n",
       "853  2016  eleicao ordinaria       BA             35157             36333   \n",
       "273  2020  eleicao ordinaria       BA             35157             23115   \n",
       "\n",
       "     id_candidato_bd sigla_partido     cargo  turno         resultado  ...  \\\n",
       "853           155520           PTC  vereador      1     eleito por qp  ...   \n",
       "273          1785336     CIDADANIA  vereador      1  eleito por media  ...   \n",
       "\n",
       "      data_nasc  idade     genero                instrucao  estado_civil  \\\n",
       "853  1986-01-24     31  masculino    ensino medio completo     casado(a)   \n",
       "273  1979-04-28     41  masculino  ensino medio incompleto     casado(a)   \n",
       "\n",
       "     nacionalidade  sigla_uf_nasc      municipio_nasc  \\\n",
       "853     brasileira             BA    Feira De Santana   \n",
       "273     brasileira             BA  Riachão Do Jacuípe   \n",
       "\n",
       "                        email   raca  \n",
       "853    ronocaralegal@gmailcom  parda  \n",
       "273  pedrocicero2022@gmailcom  parda  \n",
       "\n",
       "[2 rows x 37 columns]"
      ],
      "text/html": "<div>\n<style scoped>\n    .dataframe tbody tr th:only-of-type {\n        vertical-align: middle;\n    }\n\n    .dataframe tbody tr th {\n        vertical-align: top;\n    }\n\n    .dataframe thead th {\n        text-align: right;\n    }\n</style>\n<table border=\"1\" class=\"dataframe\">\n  <thead>\n    <tr style=\"text-align: right;\">\n      <th></th>\n      <th>ano</th>\n      <th>tipo_eleicao</th>\n      <th>sigla_uf</th>\n      <th>id_municipio_tse</th>\n      <th>numero_candidato</th>\n      <th>id_candidato_bd</th>\n      <th>sigla_partido</th>\n      <th>cargo</th>\n      <th>turno</th>\n      <th>resultado</th>\n      <th>...</th>\n      <th>data_nasc</th>\n      <th>idade</th>\n      <th>genero</th>\n      <th>instrucao</th>\n      <th>estado_civil</th>\n      <th>nacionalidade</th>\n      <th>sigla_uf_nasc</th>\n      <th>municipio_nasc</th>\n      <th>email</th>\n      <th>raca</th>\n    </tr>\n  </thead>\n  <tbody>\n    <tr>\n      <th>853</th>\n      <td>2016</td>\n      <td>eleicao ordinaria</td>\n      <td>BA</td>\n      <td>35157</td>\n      <td>36333</td>\n      <td>155520</td>\n      <td>PTC</td>\n      <td>vereador</td>\n      <td>1</td>\n      <td>eleito por qp</td>\n      <td>...</td>\n      <td>1986-01-24</td>\n      <td>31</td>\n      <td>masculino</td>\n      <td>ensino medio completo</td>\n      <td>casado(a)</td>\n      <td>brasileira</td>\n      <td>BA</td>\n      <td>Feira De Santana</td>\n      <td>ronocaralegal@gmailcom</td>\n      <td>parda</td>\n    </tr>\n    <tr>\n      <th>273</th>\n      <td>2020</td>\n      <td>eleicao ordinaria</td>\n      <td>BA</td>\n      <td>35157</td>\n      <td>23115</td>\n      <td>1785336</td>\n      <td>CIDADANIA</td>\n      <td>vereador</td>\n      <td>1</td>\n      <td>eleito por media</td>\n      <td>...</td>\n      <td>1979-04-28</td>\n      <td>41</td>\n      <td>masculino</td>\n      <td>ensino medio incompleto</td>\n      <td>casado(a)</td>\n      <td>brasileira</td>\n      <td>BA</td>\n      <td>Riachão Do Jacuípe</td>\n      <td>pedrocicero2022@gmailcom</td>\n      <td>parda</td>\n    </tr>\n  </tbody>\n</table>\n<p>2 rows × 37 columns</p>\n</div>"
     },
     "metadata": {},
     "execution_count": 42
    }
   ],
   "source": [
    "status_eleito = ['eleito por media', 'eleito por qp']\n",
    "\n",
    "eleitos = data[data['resultado'].isin(status_eleito)]\n",
    "eleitos.sample(2)"
   ]
  },
  {
   "cell_type": "code",
   "execution_count": 100,
   "metadata": {},
   "outputs": [
    {
     "output_type": "execute_result",
     "data": {
      "text/plain": [
       "ano                             2016  2020  All\n",
       "nome_urna_candidato                            \n",
       "Alberto Nery                     1.0   NaN    1\n",
       "Beto Tourinho                    1.0   NaN    1\n",
       "Cadmiel Pereira                  1.0   NaN    1\n",
       "Correia Zezito                   NaN   1.0    1\n",
       "Edvaldo Lima                     1.0   1.0    2\n",
       "Eli Ribeiro                      1.0   NaN    1\n",
       "Eli Ribeiro                      NaN   1.0    1\n",
       "Emerson Minho                    NaN   1.0    1\n",
       "Eremita Mota                     1.0   1.0    2\n",
       "Ewerton Carneiro Da Costa        1.0   NaN    1\n",
       "Fabiano Da Van                   1.0   NaN    1\n",
       "Fernando Torres                  NaN   1.0    1\n",
       "Galeguinho                       NaN   1.0    1\n",
       "Gerusa                           1.0   NaN    1\n",
       "Gerusa Sampaio                   NaN   1.0    1\n",
       "Gilmar Amorim Do George Americ   1.0   NaN    1\n",
       "Isaias De Diogo                  1.0   NaN    1\n",
       "Jhonatas Monteiro                NaN   1.0    1\n",
       "Joao Bililiu                     1.0   NaN    1\n",
       "Jose Carneiro                    1.0   NaN    1\n",
       "José Carneiro                    NaN   1.0    1\n",
       "Jurandy Carvalho                 NaN   1.0    1\n",
       "Justiniano                       1.0   NaN    1\n",
       "Luiz Da Feira                    1.0   1.0    2\n",
       "Lulinha                          1.0   NaN    1\n",
       "Lú De Ronny                      NaN   1.0    1\n",
       "Marcos Lima                      1.0   NaN    1\n",
       "Pastor Valdemir Santos           NaN   1.0    1\n",
       "Paulão Do Caldeirão              NaN   1.0    1\n",
       "Pedro Américo                    NaN   1.0    1\n",
       "Pedro Cicero                     NaN   1.0    1\n",
       "Professor Ivamberg               NaN   1.0    1\n",
       "Ron                              1.0   NaN    1\n",
       "Ron Do Povo                      NaN   1.0    1\n",
       "Ronny                            1.0   NaN    1\n",
       "Silvio Dias                      NaN   1.0    1\n",
       "Zé Curuca                        1.0   1.0    2\n",
       "Zé Filé                          1.0   NaN    1\n",
       "All                             21.0  21.0   42"
      ],
      "text/html": "<div>\n<style scoped>\n    .dataframe tbody tr th:only-of-type {\n        vertical-align: middle;\n    }\n\n    .dataframe tbody tr th {\n        vertical-align: top;\n    }\n\n    .dataframe thead th {\n        text-align: right;\n    }\n</style>\n<table border=\"1\" class=\"dataframe\">\n  <thead>\n    <tr style=\"text-align: right;\">\n      <th>ano</th>\n      <th>2016</th>\n      <th>2020</th>\n      <th>All</th>\n    </tr>\n    <tr>\n      <th>nome_urna_candidato</th>\n      <th></th>\n      <th></th>\n      <th></th>\n    </tr>\n  </thead>\n  <tbody>\n    <tr>\n      <th>Alberto Nery</th>\n      <td>1.0</td>\n      <td>NaN</td>\n      <td>1</td>\n    </tr>\n    <tr>\n      <th>Beto Tourinho</th>\n      <td>1.0</td>\n      <td>NaN</td>\n      <td>1</td>\n    </tr>\n    <tr>\n      <th>Cadmiel Pereira</th>\n      <td>1.0</td>\n      <td>NaN</td>\n      <td>1</td>\n    </tr>\n    <tr>\n      <th>Correia Zezito</th>\n      <td>NaN</td>\n      <td>1.0</td>\n      <td>1</td>\n    </tr>\n    <tr>\n      <th>Edvaldo Lima</th>\n      <td>1.0</td>\n      <td>1.0</td>\n      <td>2</td>\n    </tr>\n    <tr>\n      <th>Eli Ribeiro</th>\n      <td>1.0</td>\n      <td>NaN</td>\n      <td>1</td>\n    </tr>\n    <tr>\n      <th>Eli Ribeiro</th>\n      <td>NaN</td>\n      <td>1.0</td>\n      <td>1</td>\n    </tr>\n    <tr>\n      <th>Emerson Minho</th>\n      <td>NaN</td>\n      <td>1.0</td>\n      <td>1</td>\n    </tr>\n    <tr>\n      <th>Eremita Mota</th>\n      <td>1.0</td>\n      <td>1.0</td>\n      <td>2</td>\n    </tr>\n    <tr>\n      <th>Ewerton Carneiro Da Costa</th>\n      <td>1.0</td>\n      <td>NaN</td>\n      <td>1</td>\n    </tr>\n    <tr>\n      <th>Fabiano Da Van</th>\n      <td>1.0</td>\n      <td>NaN</td>\n      <td>1</td>\n    </tr>\n    <tr>\n      <th>Fernando Torres</th>\n      <td>NaN</td>\n      <td>1.0</td>\n      <td>1</td>\n    </tr>\n    <tr>\n      <th>Galeguinho</th>\n      <td>NaN</td>\n      <td>1.0</td>\n      <td>1</td>\n    </tr>\n    <tr>\n      <th>Gerusa</th>\n      <td>1.0</td>\n      <td>NaN</td>\n      <td>1</td>\n    </tr>\n    <tr>\n      <th>Gerusa Sampaio</th>\n      <td>NaN</td>\n      <td>1.0</td>\n      <td>1</td>\n    </tr>\n    <tr>\n      <th>Gilmar Amorim Do George Americ</th>\n      <td>1.0</td>\n      <td>NaN</td>\n      <td>1</td>\n    </tr>\n    <tr>\n      <th>Isaias De Diogo</th>\n      <td>1.0</td>\n      <td>NaN</td>\n      <td>1</td>\n    </tr>\n    <tr>\n      <th>Jhonatas Monteiro</th>\n      <td>NaN</td>\n      <td>1.0</td>\n      <td>1</td>\n    </tr>\n    <tr>\n      <th>Joao Bililiu</th>\n      <td>1.0</td>\n      <td>NaN</td>\n      <td>1</td>\n    </tr>\n    <tr>\n      <th>Jose Carneiro</th>\n      <td>1.0</td>\n      <td>NaN</td>\n      <td>1</td>\n    </tr>\n    <tr>\n      <th>José Carneiro</th>\n      <td>NaN</td>\n      <td>1.0</td>\n      <td>1</td>\n    </tr>\n    <tr>\n      <th>Jurandy Carvalho</th>\n      <td>NaN</td>\n      <td>1.0</td>\n      <td>1</td>\n    </tr>\n    <tr>\n      <th>Justiniano</th>\n      <td>1.0</td>\n      <td>NaN</td>\n      <td>1</td>\n    </tr>\n    <tr>\n      <th>Luiz Da Feira</th>\n      <td>1.0</td>\n      <td>1.0</td>\n      <td>2</td>\n    </tr>\n    <tr>\n      <th>Lulinha</th>\n      <td>1.0</td>\n      <td>NaN</td>\n      <td>1</td>\n    </tr>\n    <tr>\n      <th>Lú De Ronny</th>\n      <td>NaN</td>\n      <td>1.0</td>\n      <td>1</td>\n    </tr>\n    <tr>\n      <th>Marcos Lima</th>\n      <td>1.0</td>\n      <td>NaN</td>\n      <td>1</td>\n    </tr>\n    <tr>\n      <th>Pastor Valdemir Santos</th>\n      <td>NaN</td>\n      <td>1.0</td>\n      <td>1</td>\n    </tr>\n    <tr>\n      <th>Paulão Do Caldeirão</th>\n      <td>NaN</td>\n      <td>1.0</td>\n      <td>1</td>\n    </tr>\n    <tr>\n      <th>Pedro Américo</th>\n      <td>NaN</td>\n      <td>1.0</td>\n      <td>1</td>\n    </tr>\n    <tr>\n      <th>Pedro Cicero</th>\n      <td>NaN</td>\n      <td>1.0</td>\n      <td>1</td>\n    </tr>\n    <tr>\n      <th>Professor Ivamberg</th>\n      <td>NaN</td>\n      <td>1.0</td>\n      <td>1</td>\n    </tr>\n    <tr>\n      <th>Ron</th>\n      <td>1.0</td>\n      <td>NaN</td>\n      <td>1</td>\n    </tr>\n    <tr>\n      <th>Ron Do Povo</th>\n      <td>NaN</td>\n      <td>1.0</td>\n      <td>1</td>\n    </tr>\n    <tr>\n      <th>Ronny</th>\n      <td>1.0</td>\n      <td>NaN</td>\n      <td>1</td>\n    </tr>\n    <tr>\n      <th>Silvio Dias</th>\n      <td>NaN</td>\n      <td>1.0</td>\n      <td>1</td>\n    </tr>\n    <tr>\n      <th>Zé Curuca</th>\n      <td>1.0</td>\n      <td>1.0</td>\n      <td>2</td>\n    </tr>\n    <tr>\n      <th>Zé Filé</th>\n      <td>1.0</td>\n      <td>NaN</td>\n      <td>1</td>\n    </tr>\n    <tr>\n      <th>All</th>\n      <td>21.0</td>\n      <td>21.0</td>\n      <td>42</td>\n    </tr>\n  </tbody>\n</table>\n</div>"
     },
     "metadata": {},
     "execution_count": 100
    }
   ],
   "source": [
    "reeleitos = pd.pivot_table(eleitos, values='votos', index=['nome_urna_candidato'], columns=['ano'], aggfunc='count', margins=True)\n",
    "reeleitos"
   ]
  },
  {
   "cell_type": "code",
   "execution_count": 101,
   "metadata": {},
   "outputs": [
    {
     "output_type": "execute_result",
     "data": {
      "text/plain": [
       "ano                             2016  2020  All\n",
       "nome_urna_candidato                            \n",
       "All                             21.0  21.0   42\n",
       "Luiz Da Feira                    1.0   1.0    2\n",
       "Zé Curuca                        1.0   1.0    2\n",
       "Edvaldo Lima                     1.0   1.0    2\n",
       "Eremita Mota                     1.0   1.0    2\n",
       "Pedro Américo                    NaN   1.0    1\n",
       "Lulinha                          1.0   NaN    1\n",
       "Lú De Ronny                      NaN   1.0    1\n",
       "Marcos Lima                      1.0   NaN    1\n",
       "Pastor Valdemir Santos           NaN   1.0    1\n",
       "Paulão Do Caldeirão              NaN   1.0    1\n",
       "Professor Ivamberg               NaN   1.0    1\n",
       "Pedro Cicero                     NaN   1.0    1\n",
       "Jurandy Carvalho                 NaN   1.0    1\n",
       "Ron                              1.0   NaN    1\n",
       "Ron Do Povo                      NaN   1.0    1\n",
       "Ronny                            1.0   NaN    1\n",
       "Silvio Dias                      NaN   1.0    1\n",
       "Zé Filé                          1.0   NaN    1\n",
       "Justiniano                       1.0   NaN    1\n",
       "Alberto Nery                     1.0   NaN    1\n",
       "José Carneiro                    NaN   1.0    1\n",
       "Beto Tourinho                    1.0   NaN    1\n",
       "Cadmiel Pereira                  1.0   NaN    1\n",
       "Correia Zezito                   NaN   1.0    1\n",
       "Eli Ribeiro                      1.0   NaN    1\n",
       "Eli Ribeiro                      NaN   1.0    1\n",
       "Emerson Minho                    NaN   1.0    1\n",
       "Ewerton Carneiro Da Costa        1.0   NaN    1\n",
       "Fabiano Da Van                   1.0   NaN    1\n",
       "Fernando Torres                  NaN   1.0    1\n",
       "Galeguinho                       NaN   1.0    1\n",
       "Gerusa                           1.0   NaN    1\n",
       "Gerusa Sampaio                   NaN   1.0    1\n",
       "Gilmar Amorim Do George Americ   1.0   NaN    1\n",
       "Isaias De Diogo                  1.0   NaN    1\n",
       "Jhonatas Monteiro                NaN   1.0    1\n",
       "Joao Bililiu                     1.0   NaN    1\n",
       "Jose Carneiro                    1.0   NaN    1"
      ],
      "text/html": "<div>\n<style scoped>\n    .dataframe tbody tr th:only-of-type {\n        vertical-align: middle;\n    }\n\n    .dataframe tbody tr th {\n        vertical-align: top;\n    }\n\n    .dataframe thead th {\n        text-align: right;\n    }\n</style>\n<table border=\"1\" class=\"dataframe\">\n  <thead>\n    <tr style=\"text-align: right;\">\n      <th>ano</th>\n      <th>2016</th>\n      <th>2020</th>\n      <th>All</th>\n    </tr>\n    <tr>\n      <th>nome_urna_candidato</th>\n      <th></th>\n      <th></th>\n      <th></th>\n    </tr>\n  </thead>\n  <tbody>\n    <tr>\n      <th>All</th>\n      <td>21.0</td>\n      <td>21.0</td>\n      <td>42</td>\n    </tr>\n    <tr>\n      <th>Luiz Da Feira</th>\n      <td>1.0</td>\n      <td>1.0</td>\n      <td>2</td>\n    </tr>\n    <tr>\n      <th>Zé Curuca</th>\n      <td>1.0</td>\n      <td>1.0</td>\n      <td>2</td>\n    </tr>\n    <tr>\n      <th>Edvaldo Lima</th>\n      <td>1.0</td>\n      <td>1.0</td>\n      <td>2</td>\n    </tr>\n    <tr>\n      <th>Eremita Mota</th>\n      <td>1.0</td>\n      <td>1.0</td>\n      <td>2</td>\n    </tr>\n    <tr>\n      <th>Pedro Américo</th>\n      <td>NaN</td>\n      <td>1.0</td>\n      <td>1</td>\n    </tr>\n    <tr>\n      <th>Lulinha</th>\n      <td>1.0</td>\n      <td>NaN</td>\n      <td>1</td>\n    </tr>\n    <tr>\n      <th>Lú De Ronny</th>\n      <td>NaN</td>\n      <td>1.0</td>\n      <td>1</td>\n    </tr>\n    <tr>\n      <th>Marcos Lima</th>\n      <td>1.0</td>\n      <td>NaN</td>\n      <td>1</td>\n    </tr>\n    <tr>\n      <th>Pastor Valdemir Santos</th>\n      <td>NaN</td>\n      <td>1.0</td>\n      <td>1</td>\n    </tr>\n    <tr>\n      <th>Paulão Do Caldeirão</th>\n      <td>NaN</td>\n      <td>1.0</td>\n      <td>1</td>\n    </tr>\n    <tr>\n      <th>Professor Ivamberg</th>\n      <td>NaN</td>\n      <td>1.0</td>\n      <td>1</td>\n    </tr>\n    <tr>\n      <th>Pedro Cicero</th>\n      <td>NaN</td>\n      <td>1.0</td>\n      <td>1</td>\n    </tr>\n    <tr>\n      <th>Jurandy Carvalho</th>\n      <td>NaN</td>\n      <td>1.0</td>\n      <td>1</td>\n    </tr>\n    <tr>\n      <th>Ron</th>\n      <td>1.0</td>\n      <td>NaN</td>\n      <td>1</td>\n    </tr>\n    <tr>\n      <th>Ron Do Povo</th>\n      <td>NaN</td>\n      <td>1.0</td>\n      <td>1</td>\n    </tr>\n    <tr>\n      <th>Ronny</th>\n      <td>1.0</td>\n      <td>NaN</td>\n      <td>1</td>\n    </tr>\n    <tr>\n      <th>Silvio Dias</th>\n      <td>NaN</td>\n      <td>1.0</td>\n      <td>1</td>\n    </tr>\n    <tr>\n      <th>Zé Filé</th>\n      <td>1.0</td>\n      <td>NaN</td>\n      <td>1</td>\n    </tr>\n    <tr>\n      <th>Justiniano</th>\n      <td>1.0</td>\n      <td>NaN</td>\n      <td>1</td>\n    </tr>\n    <tr>\n      <th>Alberto Nery</th>\n      <td>1.0</td>\n      <td>NaN</td>\n      <td>1</td>\n    </tr>\n    <tr>\n      <th>José Carneiro</th>\n      <td>NaN</td>\n      <td>1.0</td>\n      <td>1</td>\n    </tr>\n    <tr>\n      <th>Beto Tourinho</th>\n      <td>1.0</td>\n      <td>NaN</td>\n      <td>1</td>\n    </tr>\n    <tr>\n      <th>Cadmiel Pereira</th>\n      <td>1.0</td>\n      <td>NaN</td>\n      <td>1</td>\n    </tr>\n    <tr>\n      <th>Correia Zezito</th>\n      <td>NaN</td>\n      <td>1.0</td>\n      <td>1</td>\n    </tr>\n    <tr>\n      <th>Eli Ribeiro</th>\n      <td>1.0</td>\n      <td>NaN</td>\n      <td>1</td>\n    </tr>\n    <tr>\n      <th>Eli Ribeiro</th>\n      <td>NaN</td>\n      <td>1.0</td>\n      <td>1</td>\n    </tr>\n    <tr>\n      <th>Emerson Minho</th>\n      <td>NaN</td>\n      <td>1.0</td>\n      <td>1</td>\n    </tr>\n    <tr>\n      <th>Ewerton Carneiro Da Costa</th>\n      <td>1.0</td>\n      <td>NaN</td>\n      <td>1</td>\n    </tr>\n    <tr>\n      <th>Fabiano Da Van</th>\n      <td>1.0</td>\n      <td>NaN</td>\n      <td>1</td>\n    </tr>\n    <tr>\n      <th>Fernando Torres</th>\n      <td>NaN</td>\n      <td>1.0</td>\n      <td>1</td>\n    </tr>\n    <tr>\n      <th>Galeguinho</th>\n      <td>NaN</td>\n      <td>1.0</td>\n      <td>1</td>\n    </tr>\n    <tr>\n      <th>Gerusa</th>\n      <td>1.0</td>\n      <td>NaN</td>\n      <td>1</td>\n    </tr>\n    <tr>\n      <th>Gerusa Sampaio</th>\n      <td>NaN</td>\n      <td>1.0</td>\n      <td>1</td>\n    </tr>\n    <tr>\n      <th>Gilmar Amorim Do George Americ</th>\n      <td>1.0</td>\n      <td>NaN</td>\n      <td>1</td>\n    </tr>\n    <tr>\n      <th>Isaias De Diogo</th>\n      <td>1.0</td>\n      <td>NaN</td>\n      <td>1</td>\n    </tr>\n    <tr>\n      <th>Jhonatas Monteiro</th>\n      <td>NaN</td>\n      <td>1.0</td>\n      <td>1</td>\n    </tr>\n    <tr>\n      <th>Joao Bililiu</th>\n      <td>1.0</td>\n      <td>NaN</td>\n      <td>1</td>\n    </tr>\n    <tr>\n      <th>Jose Carneiro</th>\n      <td>1.0</td>\n      <td>NaN</td>\n      <td>1</td>\n    </tr>\n  </tbody>\n</table>\n</div>"
     },
     "metadata": {},
     "execution_count": 101
    }
   ],
   "source": [
    "reeleitos.sort_values(by=('All'), ascending = False)\n",
    "# Foram apenas 4 vereadores reeleitos em Feira de Santana"
   ]
  },
  {
   "cell_type": "code",
   "execution_count": 128,
   "metadata": {},
   "outputs": [
    {
     "output_type": "execute_result",
     "data": {
      "text/plain": [
       "ano                            2016  2020\n",
       "instrucao                                \n",
       "ensino fundamental completo       2     2\n",
       "ensino fundamental incompleto     2     1\n",
       "ensino medio completo            11     9\n",
       "ensino medio incompleto           1     1\n",
       "ensino superior completo          5     8"
      ],
      "text/html": "<div>\n<style scoped>\n    .dataframe tbody tr th:only-of-type {\n        vertical-align: middle;\n    }\n\n    .dataframe tbody tr th {\n        vertical-align: top;\n    }\n\n    .dataframe thead th {\n        text-align: right;\n    }\n</style>\n<table border=\"1\" class=\"dataframe\">\n  <thead>\n    <tr style=\"text-align: right;\">\n      <th>ano</th>\n      <th>2016</th>\n      <th>2020</th>\n    </tr>\n    <tr>\n      <th>instrucao</th>\n      <th></th>\n      <th></th>\n    </tr>\n  </thead>\n  <tbody>\n    <tr>\n      <th>ensino fundamental completo</th>\n      <td>2</td>\n      <td>2</td>\n    </tr>\n    <tr>\n      <th>ensino fundamental incompleto</th>\n      <td>2</td>\n      <td>1</td>\n    </tr>\n    <tr>\n      <th>ensino medio completo</th>\n      <td>11</td>\n      <td>9</td>\n    </tr>\n    <tr>\n      <th>ensino medio incompleto</th>\n      <td>1</td>\n      <td>1</td>\n    </tr>\n    <tr>\n      <th>ensino superior completo</th>\n      <td>5</td>\n      <td>8</td>\n    </tr>\n  </tbody>\n</table>\n</div>"
     },
     "metadata": {},
     "execution_count": 128
    }
   ],
   "source": [
    "instrucao_group = eleitos.groupby(['instrucao', 'ano'])\n",
    "instrucao_group.size().unstack()\n",
    "# Foram mais vereadores com ensino superio completo eleitos em 2020"
   ]
  },
  {
   "cell_type": "code",
   "execution_count": 142,
   "metadata": {},
   "outputs": [
    {
     "output_type": "execute_result",
     "data": {
      "text/plain": [
       "    nome_urna_candidato                 instrucao  \\\n",
       "23         Eli Ribeiro   ensino superior completo   \n",
       "57          Silvio Dias  ensino superior completo   \n",
       "75   Professor Ivamberg  ensino superior completo   \n",
       "126         Lú De Ronny  ensino superior completo   \n",
       "297       Pedro Américo  ensino superior completo   \n",
       "314      Gerusa Sampaio  ensino superior completo   \n",
       "326       Emerson Minho  ensino superior completo   \n",
       "470   Jhonatas Monteiro  ensino superior completo   \n",
       "\n",
       "                            ocupacao  \n",
       "23                          vereador  \n",
       "57                          advogado  \n",
       "75         professor de ensino medio  \n",
       "126                       enfermeiro  \n",
       "297  professor de ensino fundamental  \n",
       "314                         vereador  \n",
       "326                   policial civil  \n",
       "470        professor de ensino medio  "
      ],
      "text/html": "<div>\n<style scoped>\n    .dataframe tbody tr th:only-of-type {\n        vertical-align: middle;\n    }\n\n    .dataframe tbody tr th {\n        vertical-align: top;\n    }\n\n    .dataframe thead th {\n        text-align: right;\n    }\n</style>\n<table border=\"1\" class=\"dataframe\">\n  <thead>\n    <tr style=\"text-align: right;\">\n      <th></th>\n      <th>nome_urna_candidato</th>\n      <th>instrucao</th>\n      <th>ocupacao</th>\n    </tr>\n  </thead>\n  <tbody>\n    <tr>\n      <th>23</th>\n      <td>Eli Ribeiro</td>\n      <td>ensino superior completo</td>\n      <td>vereador</td>\n    </tr>\n    <tr>\n      <th>57</th>\n      <td>Silvio Dias</td>\n      <td>ensino superior completo</td>\n      <td>advogado</td>\n    </tr>\n    <tr>\n      <th>75</th>\n      <td>Professor Ivamberg</td>\n      <td>ensino superior completo</td>\n      <td>professor de ensino medio</td>\n    </tr>\n    <tr>\n      <th>126</th>\n      <td>Lú De Ronny</td>\n      <td>ensino superior completo</td>\n      <td>enfermeiro</td>\n    </tr>\n    <tr>\n      <th>297</th>\n      <td>Pedro Américo</td>\n      <td>ensino superior completo</td>\n      <td>professor de ensino fundamental</td>\n    </tr>\n    <tr>\n      <th>314</th>\n      <td>Gerusa Sampaio</td>\n      <td>ensino superior completo</td>\n      <td>vereador</td>\n    </tr>\n    <tr>\n      <th>326</th>\n      <td>Emerson Minho</td>\n      <td>ensino superior completo</td>\n      <td>policial civil</td>\n    </tr>\n    <tr>\n      <th>470</th>\n      <td>Jhonatas Monteiro</td>\n      <td>ensino superior completo</td>\n      <td>professor de ensino medio</td>\n    </tr>\n  </tbody>\n</table>\n</div>"
     },
     "metadata": {},
     "execution_count": 142
    }
   ],
   "source": [
    "superior_completo = ['ensino superior completo']\n",
    "ultima_eleicao = [2020]\n",
    "candidatos_superior = eleitos[eleitos['instrucao'].isin(superior_completo)]\n",
    "candidatos_superior_2020 = candidatos_superior[candidatos_superior['ano'].isin(ultima_eleicao)]\n",
    "\n",
    "candidatos_superior_2020[['nome_urna_candidato', 'instrucao', 'ocupacao']] \n",
    "# Aqui podemos ver as ocupacoes dos vereadores eleitos em 2020 com ensino superior completo"
   ]
  },
  {
   "cell_type": "code",
   "execution_count": 147,
   "metadata": {},
   "outputs": [
    {
     "output_type": "execute_result",
     "data": {
      "text/plain": [
       "vereador                                                    8\n",
       "professor de ensino medio                                   2\n",
       "empresario                                                  2\n",
       "advogado                                                    1\n",
       "professor de ensino fundamental                             1\n",
       "policial civil                                              1\n",
       "sacerdote ou membro de ordem ou seita religiosa             1\n",
       "produtor agropecuario                                       1\n",
       "locutor e comentarista de radio e televisao e radialista    1\n",
       "agente administrativo                                       1\n",
       "policial militar                                            1\n",
       "enfermeiro                                                  1\n",
       "Name: ocupacao, dtype: int64"
      ]
     },
     "metadata": {},
     "execution_count": 147
    }
   ],
   "source": [
    "eleitos_2020 = eleitos[eleitos['ano'].isin(ultima_eleicao)]\n",
    "eleitos_2020['ocupacao'].value_counts()\n",
    "#A ocupacao mais frequente entre os eleitos é ser vereador"
   ]
  },
  {
   "cell_type": "code",
   "execution_count": 129,
   "metadata": {},
   "outputs": [
    {
     "output_type": "execute_result",
     "data": {
      "text/plain": [
       "ano        2016  2020\n",
       "genero               \n",
       "feminino      2     3\n",
       "masculino    19    18"
      ],
      "text/html": "<div>\n<style scoped>\n    .dataframe tbody tr th:only-of-type {\n        vertical-align: middle;\n    }\n\n    .dataframe tbody tr th {\n        vertical-align: top;\n    }\n\n    .dataframe thead th {\n        text-align: right;\n    }\n</style>\n<table border=\"1\" class=\"dataframe\">\n  <thead>\n    <tr style=\"text-align: right;\">\n      <th>ano</th>\n      <th>2016</th>\n      <th>2020</th>\n    </tr>\n    <tr>\n      <th>genero</th>\n      <th></th>\n      <th></th>\n    </tr>\n  </thead>\n  <tbody>\n    <tr>\n      <th>feminino</th>\n      <td>2</td>\n      <td>3</td>\n    </tr>\n    <tr>\n      <th>masculino</th>\n      <td>19</td>\n      <td>18</td>\n    </tr>\n  </tbody>\n</table>\n</div>"
     },
     "metadata": {},
     "execution_count": 129
    }
   ],
   "source": [
    "genero_group = eleitos.groupby(['genero', 'ano'])\n",
    "genero_group.size().unstack()"
   ]
  },
  {
   "cell_type": "code",
   "execution_count": 130,
   "metadata": {},
   "outputs": [
    {
     "output_type": "execute_result",
     "data": {
      "text/plain": [
       "ano     2016  2020\n",
       "raca              \n",
       "branca     2     2\n",
       "parda     13    13\n",
       "preta      6     6"
      ],
      "text/html": "<div>\n<style scoped>\n    .dataframe tbody tr th:only-of-type {\n        vertical-align: middle;\n    }\n\n    .dataframe tbody tr th {\n        vertical-align: top;\n    }\n\n    .dataframe thead th {\n        text-align: right;\n    }\n</style>\n<table border=\"1\" class=\"dataframe\">\n  <thead>\n    <tr style=\"text-align: right;\">\n      <th>ano</th>\n      <th>2016</th>\n      <th>2020</th>\n    </tr>\n    <tr>\n      <th>raca</th>\n      <th></th>\n      <th></th>\n    </tr>\n  </thead>\n  <tbody>\n    <tr>\n      <th>branca</th>\n      <td>2</td>\n      <td>2</td>\n    </tr>\n    <tr>\n      <th>parda</th>\n      <td>13</td>\n      <td>13</td>\n    </tr>\n    <tr>\n      <th>preta</th>\n      <td>6</td>\n      <td>6</td>\n    </tr>\n  </tbody>\n</table>\n</div>"
     },
     "metadata": {},
     "execution_count": 130
    }
   ],
   "source": [
    "raca_group = eleitos.groupby(['raca', 'ano'])\n",
    "raca_group.size().unstack()"
   ]
  },
  {
   "cell_type": "code",
   "execution_count": 131,
   "metadata": {},
   "outputs": [
    {
     "output_type": "execute_result",
     "data": {
      "text/plain": [
       "ano               2016  2020\n",
       "raca   genero               \n",
       "branca feminino    NaN   1.0\n",
       "       masculino   2.0   1.0\n",
       "parda  feminino    2.0   2.0\n",
       "       masculino  11.0  11.0\n",
       "preta  masculino   6.0   6.0"
      ],
      "text/html": "<div>\n<style scoped>\n    .dataframe tbody tr th:only-of-type {\n        vertical-align: middle;\n    }\n\n    .dataframe tbody tr th {\n        vertical-align: top;\n    }\n\n    .dataframe thead th {\n        text-align: right;\n    }\n</style>\n<table border=\"1\" class=\"dataframe\">\n  <thead>\n    <tr style=\"text-align: right;\">\n      <th></th>\n      <th>ano</th>\n      <th>2016</th>\n      <th>2020</th>\n    </tr>\n    <tr>\n      <th>raca</th>\n      <th>genero</th>\n      <th></th>\n      <th></th>\n    </tr>\n  </thead>\n  <tbody>\n    <tr>\n      <th rowspan=\"2\" valign=\"top\">branca</th>\n      <th>feminino</th>\n      <td>NaN</td>\n      <td>1.0</td>\n    </tr>\n    <tr>\n      <th>masculino</th>\n      <td>2.0</td>\n      <td>1.0</td>\n    </tr>\n    <tr>\n      <th rowspan=\"2\" valign=\"top\">parda</th>\n      <th>feminino</th>\n      <td>2.0</td>\n      <td>2.0</td>\n    </tr>\n    <tr>\n      <th>masculino</th>\n      <td>11.0</td>\n      <td>11.0</td>\n    </tr>\n    <tr>\n      <th>preta</th>\n      <th>masculino</th>\n      <td>6.0</td>\n      <td>6.0</td>\n    </tr>\n  </tbody>\n</table>\n</div>"
     },
     "metadata": {},
     "execution_count": 131
    }
   ],
   "source": [
    "raca_genero_group = eleitos.groupby(['raca', 'genero', 'ano'])\n",
    "raca_genero_group.size().unstack()"
   ]
  },
  {
   "cell_type": "code",
   "execution_count": 152,
   "metadata": {},
   "outputs": [
    {
     "output_type": "execute_result",
     "data": {
      "text/plain": [
       "count    21.000000\n",
       "mean     49.142857\n",
       "std       9.671017\n",
       "min      34.000000\n",
       "25%      42.000000\n",
       "50%      50.000000\n",
       "75%      57.000000\n",
       "max      65.000000\n",
       "Name: idade, dtype: float64"
      ]
     },
     "metadata": {},
     "execution_count": 152
    }
   ],
   "source": [
    "idade_2020 = eleitos_2020['idade']\n",
    "idade_2020.describe()\n",
    "# A média de idade dos eleitos é 49 anos. O mais novo possui 34 anos, o mais velho 65 anos"
   ]
  },
  {
   "cell_type": "code",
   "execution_count": 153,
   "metadata": {},
   "outputs": [
    {
     "output_type": "execute_result",
     "data": {
      "text/plain": [
       "count    21.000000\n",
       "mean     48.904762\n",
       "std       9.104421\n",
       "min      31.000000\n",
       "25%      41.000000\n",
       "50%      51.000000\n",
       "75%      56.000000\n",
       "max      63.000000\n",
       "Name: idade, dtype: float64"
      ]
     },
     "metadata": {},
     "execution_count": 153
    }
   ],
   "source": [
    "eleicao_anterior = [2016]\n",
    "eleitos_2016 = eleitos[eleitos['ano'].isin(eleicao_anterior)]\n",
    "\n",
    "\n",
    "idade_2016 = eleitos_2016['idade']\n",
    "idade_2016.describe()\n",
    "\n",
    "# A média na eleição de 2016 foi 49 anos. O mais novo foi eleitos com 31 anos e o meis velho com 63 anos."
   ]
  },
  {
   "cell_type": "code",
   "execution_count": null,
   "metadata": {},
   "outputs": [],
   "source": []
  }
 ]
}