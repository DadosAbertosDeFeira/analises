{
 "cells": [
  {
   "cell_type": "markdown",
   "metadata": {},
   "source": [
    "# Dá para cortar?\n",
    "\n",
    "Antes mesmo da epidemia chegar ao município de Feira de Santana,\n",
    "a Câmara de Vereadores já era conhecida por seus gastos extravagantes.\n",
    "A casa já chegou a gastar, de uma só vez, [17.767,60 em iogurtes][1]\n",
    "e disponibilizar 60 linhas de telefone celular para uso dos vereadores ,\n",
    "apesar dos gastos [R$ 40 mil anuais com a Telemar][1].\n",
    "\n",
    "[1]: https://www.blogdovelame.com/camara-de-feira-ja-chegou-a-comprar-616-unidades-de-iogurte-de-uma-so-vez/\n",
    "[2]: https://www.blogdovelame.com/camara-de-feira-disponibiliza-60-linhas-de-telefone-celular-para-uso-dos-vereadores/\n",
    "\n",
    "\n",
    "Muitas Câmaras tem se mobilizado para cortar gastos e repassar a verba\n",
    "para que a prefeitura utilize nos esforços para conter a pandemia.\n",
    "\n",
    "Nesse texto vamos conhecer um pouco melhor as despesas da Câmara e\n",
    "o que pode ser cortado para ajudar o município na crise do COVID-19.\n",
    "\n",
    "## As despesas da Câmara Municipal\n",
    "\n",
    "Antes, vamos entender um pouco sobre as despesas, segundo a própria Câmara:\n",
    "\n",
    "> São todos os gastos feitos pela Câmara. As Despesas são divididas em:\n",
    "\n",
    "> - Despesas correntes. Aquelas necessárias à manutenção dos serviços públicos, como as despesas com material de consumo, telefone, pessoal, serviços de terceiros, etc.\n",
    "> - Despesas de capital. São os investimentos, ou seja, gastos com novos equipamentos e obras, como construção e reforma de escolas, hospitais, postos de saúde, pavimentação, etc.\n",
    "Os registros de classificação da despesa são efetuados por meio de rotinas específicas e de forma geral podem ser assim tratadas:\n",
    "\n",
    "> - Valor Orçado (Dotação Orçamentária) - Dependem de autorização legislativa e correspondem ao valor a ser utilizado para a manutenção da Administração Pública;\n",
    "> - Valor Empenhado - Consiste na reserva da dotação orçamentária para um fim específico, devendo registrar o nome/razão social do credor, valor e descrição do que será pago;\n",
    "> - Valor Liquidado - Registra efetivamente a despesa executada. No entanto, por ocasião do encerramento do exercício, conforme as normas da Lei Federal n° 4.320/1964, as despesas empenhadas e ainda não liquidadas são inscritas em restos a pagar não processados;\n",
    "> - Valor Pago - Consiste na entrega do numerário ao credor e só pode ser efetuado após regular liquidação da despesa.\n",
    "\n",
    "Fonte: https://www.transparencia.feiradesantana.ba.leg.br/index.php?view=despesasinfo\n",
    "\n",
    "No [portal da transparência](https://www.transparencia.feiradesantana.ba.leg.br/index.php?view=despesasinfo)\n",
    "podemos verificar os gastos nas três fases: empenho, liquidação e pagamento. Cada despesa\n",
    "apresenta também as seguintes informações:\n",
    "\n",
    "![](images/despesa.png)\n",
    "\n",
    "* Data\n",
    "* Fase\n",
    "* Credor (Empresa ou pessoa física)\n",
    "* Valor\n",
    "* Número\n",
    "* Documento (o CPF ou CNPJ da empresa ou pessoa)\n",
    "* Número do processo\n",
    "* Bem / Serviço prestado\n",
    "* Natureza\n",
    "* Função\n",
    "* Subfunção\n",
    "* Processo licitatório\n",
    "* Fonte de recurso\n",
    "\n",
    "Mas como saber qual valor pode ser gasto pelo município durante o ano?\n",
    "\n",
    "## Lei Orçamentária\n",
    "\n",
    "O valor que o município pode gastar, bem como a receita esperada, é estabelecido\n",
    "pela Lei Orçamentária Anual (LOA). Todos os anos o município deve estabelecer um orçamento\n",
    "para o ano seguinte. Saiba mais sobre isso [aqui](https://www.politize.com.br/ppa-ldo-loa-3-siglas-que-definem-orcamento-governo/).\n",
    "\n",
    "Embora esteja publicada no diário oficial, a LOA de Feira de Santana não foi encontrada\n",
    "facilmente nos portais da transparência da prefeitura e da câmara. Você pode acessá-la\n",
    "[aqui](http://www.diariooficial.feiradesantana.ba.gov.br/atos/executivo/1JE1WJ2162019.pdf).\n"
   ]
  },
  {
   "cell_type": "code",
   "execution_count": 1,
   "metadata": {},
   "outputs": [],
   "source": [
    "import pandas as pd\n",
    "import numpy as np\n",
    "import matplotlib.pyplot as plt"
   ]
  },
  {
   "cell_type": "markdown",
   "metadata": {},
   "source": [
    "Baixe os dados das despesas da Câmara aqui:\n",
    "\n",
    "https://www.kaggle.com/anapaulagomes/despesas-da-cmara-municipal\n",
    "\n",
    "Descompacte o arquivo e coloque na pasta `analysis`."
   ]
  },
  {
   "cell_type": "code",
   "execution_count": 2,
   "metadata": {},
   "outputs": [
    {
     "ename": "FileNotFoundError",
     "evalue": "[Errno 2] No such file or directory: 'expenses-11.04.2020.csv'",
     "output_type": "error",
     "traceback": [
      "\u001b[0;31m---------------------------------------------------------------------------\u001b[0m",
      "\u001b[0;31mFileNotFoundError\u001b[0m                         Traceback (most recent call last)",
      "\u001b[0;32m<ipython-input-2-a8c847d6f3fc>\u001b[0m in \u001b[0;36m<module>\u001b[0;34m\u001b[0m\n\u001b[0;32m----> 1\u001b[0;31m \u001b[0mdespesas\u001b[0m \u001b[0;34m=\u001b[0m \u001b[0mpd\u001b[0m\u001b[0;34m.\u001b[0m\u001b[0mread_csv\u001b[0m\u001b[0;34m(\u001b[0m\u001b[0;34m'expenses-11.04.2020.csv'\u001b[0m\u001b[0;34m)\u001b[0m\u001b[0;34m\u001b[0m\u001b[0;34m\u001b[0m\u001b[0m\n\u001b[0m\u001b[1;32m      2\u001b[0m \u001b[0mdespesas\u001b[0m\u001b[0;34m.\u001b[0m\u001b[0mhead\u001b[0m\u001b[0;34m(\u001b[0m\u001b[0;34m)\u001b[0m\u001b[0;34m\u001b[0m\u001b[0;34m\u001b[0m\u001b[0m\n",
      "\u001b[0;32m~/analise-dados-enem/lib/python3.8/site-packages/pandas/io/parsers.py\u001b[0m in \u001b[0;36mread_csv\u001b[0;34m(filepath_or_buffer, sep, delimiter, header, names, index_col, usecols, squeeze, prefix, mangle_dupe_cols, dtype, engine, converters, true_values, false_values, skipinitialspace, skiprows, skipfooter, nrows, na_values, keep_default_na, na_filter, verbose, skip_blank_lines, parse_dates, infer_datetime_format, keep_date_col, date_parser, dayfirst, cache_dates, iterator, chunksize, compression, thousands, decimal, lineterminator, quotechar, quoting, doublequote, escapechar, comment, encoding, dialect, error_bad_lines, warn_bad_lines, delim_whitespace, low_memory, memory_map, float_precision, storage_options)\u001b[0m\n\u001b[1;32m    608\u001b[0m     \u001b[0mkwds\u001b[0m\u001b[0;34m.\u001b[0m\u001b[0mupdate\u001b[0m\u001b[0;34m(\u001b[0m\u001b[0mkwds_defaults\u001b[0m\u001b[0;34m)\u001b[0m\u001b[0;34m\u001b[0m\u001b[0;34m\u001b[0m\u001b[0m\n\u001b[1;32m    609\u001b[0m \u001b[0;34m\u001b[0m\u001b[0m\n\u001b[0;32m--> 610\u001b[0;31m     \u001b[0;32mreturn\u001b[0m \u001b[0m_read\u001b[0m\u001b[0;34m(\u001b[0m\u001b[0mfilepath_or_buffer\u001b[0m\u001b[0;34m,\u001b[0m \u001b[0mkwds\u001b[0m\u001b[0;34m)\u001b[0m\u001b[0;34m\u001b[0m\u001b[0;34m\u001b[0m\u001b[0m\n\u001b[0m\u001b[1;32m    611\u001b[0m \u001b[0;34m\u001b[0m\u001b[0m\n\u001b[1;32m    612\u001b[0m \u001b[0;34m\u001b[0m\u001b[0m\n",
      "\u001b[0;32m~/analise-dados-enem/lib/python3.8/site-packages/pandas/io/parsers.py\u001b[0m in \u001b[0;36m_read\u001b[0;34m(filepath_or_buffer, kwds)\u001b[0m\n\u001b[1;32m    460\u001b[0m \u001b[0;34m\u001b[0m\u001b[0m\n\u001b[1;32m    461\u001b[0m     \u001b[0;31m# Create the parser.\u001b[0m\u001b[0;34m\u001b[0m\u001b[0;34m\u001b[0m\u001b[0;34m\u001b[0m\u001b[0m\n\u001b[0;32m--> 462\u001b[0;31m     \u001b[0mparser\u001b[0m \u001b[0;34m=\u001b[0m \u001b[0mTextFileReader\u001b[0m\u001b[0;34m(\u001b[0m\u001b[0mfilepath_or_buffer\u001b[0m\u001b[0;34m,\u001b[0m \u001b[0;34m**\u001b[0m\u001b[0mkwds\u001b[0m\u001b[0;34m)\u001b[0m\u001b[0;34m\u001b[0m\u001b[0;34m\u001b[0m\u001b[0m\n\u001b[0m\u001b[1;32m    463\u001b[0m \u001b[0;34m\u001b[0m\u001b[0m\n\u001b[1;32m    464\u001b[0m     \u001b[0;32mif\u001b[0m \u001b[0mchunksize\u001b[0m \u001b[0;32mor\u001b[0m \u001b[0miterator\u001b[0m\u001b[0;34m:\u001b[0m\u001b[0;34m\u001b[0m\u001b[0;34m\u001b[0m\u001b[0m\n",
      "\u001b[0;32m~/analise-dados-enem/lib/python3.8/site-packages/pandas/io/parsers.py\u001b[0m in \u001b[0;36m__init__\u001b[0;34m(self, f, engine, **kwds)\u001b[0m\n\u001b[1;32m    817\u001b[0m             \u001b[0mself\u001b[0m\u001b[0;34m.\u001b[0m\u001b[0moptions\u001b[0m\u001b[0;34m[\u001b[0m\u001b[0;34m\"has_index_names\"\u001b[0m\u001b[0;34m]\u001b[0m \u001b[0;34m=\u001b[0m \u001b[0mkwds\u001b[0m\u001b[0;34m[\u001b[0m\u001b[0;34m\"has_index_names\"\u001b[0m\u001b[0;34m]\u001b[0m\u001b[0;34m\u001b[0m\u001b[0;34m\u001b[0m\u001b[0m\n\u001b[1;32m    818\u001b[0m \u001b[0;34m\u001b[0m\u001b[0m\n\u001b[0;32m--> 819\u001b[0;31m         \u001b[0mself\u001b[0m\u001b[0;34m.\u001b[0m\u001b[0m_engine\u001b[0m \u001b[0;34m=\u001b[0m \u001b[0mself\u001b[0m\u001b[0;34m.\u001b[0m\u001b[0m_make_engine\u001b[0m\u001b[0;34m(\u001b[0m\u001b[0mself\u001b[0m\u001b[0;34m.\u001b[0m\u001b[0mengine\u001b[0m\u001b[0;34m)\u001b[0m\u001b[0;34m\u001b[0m\u001b[0;34m\u001b[0m\u001b[0m\n\u001b[0m\u001b[1;32m    820\u001b[0m \u001b[0;34m\u001b[0m\u001b[0m\n\u001b[1;32m    821\u001b[0m     \u001b[0;32mdef\u001b[0m \u001b[0mclose\u001b[0m\u001b[0;34m(\u001b[0m\u001b[0mself\u001b[0m\u001b[0;34m)\u001b[0m\u001b[0;34m:\u001b[0m\u001b[0;34m\u001b[0m\u001b[0;34m\u001b[0m\u001b[0m\n",
      "\u001b[0;32m~/analise-dados-enem/lib/python3.8/site-packages/pandas/io/parsers.py\u001b[0m in \u001b[0;36m_make_engine\u001b[0;34m(self, engine)\u001b[0m\n\u001b[1;32m   1048\u001b[0m             )\n\u001b[1;32m   1049\u001b[0m         \u001b[0;31m# error: Too many arguments for \"ParserBase\"\u001b[0m\u001b[0;34m\u001b[0m\u001b[0;34m\u001b[0m\u001b[0;34m\u001b[0m\u001b[0m\n\u001b[0;32m-> 1050\u001b[0;31m         \u001b[0;32mreturn\u001b[0m \u001b[0mmapping\u001b[0m\u001b[0;34m[\u001b[0m\u001b[0mengine\u001b[0m\u001b[0;34m]\u001b[0m\u001b[0;34m(\u001b[0m\u001b[0mself\u001b[0m\u001b[0;34m.\u001b[0m\u001b[0mf\u001b[0m\u001b[0;34m,\u001b[0m \u001b[0;34m**\u001b[0m\u001b[0mself\u001b[0m\u001b[0;34m.\u001b[0m\u001b[0moptions\u001b[0m\u001b[0;34m)\u001b[0m  \u001b[0;31m# type: ignore[call-arg]\u001b[0m\u001b[0;34m\u001b[0m\u001b[0;34m\u001b[0m\u001b[0m\n\u001b[0m\u001b[1;32m   1051\u001b[0m \u001b[0;34m\u001b[0m\u001b[0m\n\u001b[1;32m   1052\u001b[0m     \u001b[0;32mdef\u001b[0m \u001b[0m_failover_to_python\u001b[0m\u001b[0;34m(\u001b[0m\u001b[0mself\u001b[0m\u001b[0;34m)\u001b[0m\u001b[0;34m:\u001b[0m\u001b[0;34m\u001b[0m\u001b[0;34m\u001b[0m\u001b[0m\n",
      "\u001b[0;32m~/analise-dados-enem/lib/python3.8/site-packages/pandas/io/parsers.py\u001b[0m in \u001b[0;36m__init__\u001b[0;34m(self, src, **kwds)\u001b[0m\n\u001b[1;32m   1865\u001b[0m \u001b[0;34m\u001b[0m\u001b[0m\n\u001b[1;32m   1866\u001b[0m         \u001b[0;31m# open handles\u001b[0m\u001b[0;34m\u001b[0m\u001b[0;34m\u001b[0m\u001b[0;34m\u001b[0m\u001b[0m\n\u001b[0;32m-> 1867\u001b[0;31m         \u001b[0mself\u001b[0m\u001b[0;34m.\u001b[0m\u001b[0m_open_handles\u001b[0m\u001b[0;34m(\u001b[0m\u001b[0msrc\u001b[0m\u001b[0;34m,\u001b[0m \u001b[0mkwds\u001b[0m\u001b[0;34m)\u001b[0m\u001b[0;34m\u001b[0m\u001b[0;34m\u001b[0m\u001b[0m\n\u001b[0m\u001b[1;32m   1868\u001b[0m         \u001b[0;32massert\u001b[0m \u001b[0mself\u001b[0m\u001b[0;34m.\u001b[0m\u001b[0mhandles\u001b[0m \u001b[0;32mis\u001b[0m \u001b[0;32mnot\u001b[0m \u001b[0;32mNone\u001b[0m\u001b[0;34m\u001b[0m\u001b[0;34m\u001b[0m\u001b[0m\n\u001b[1;32m   1869\u001b[0m         \u001b[0;32mfor\u001b[0m \u001b[0mkey\u001b[0m \u001b[0;32min\u001b[0m \u001b[0;34m(\u001b[0m\u001b[0;34m\"storage_options\"\u001b[0m\u001b[0;34m,\u001b[0m \u001b[0;34m\"encoding\"\u001b[0m\u001b[0;34m,\u001b[0m \u001b[0;34m\"memory_map\"\u001b[0m\u001b[0;34m,\u001b[0m \u001b[0;34m\"compression\"\u001b[0m\u001b[0;34m)\u001b[0m\u001b[0;34m:\u001b[0m\u001b[0;34m\u001b[0m\u001b[0;34m\u001b[0m\u001b[0m\n",
      "\u001b[0;32m~/analise-dados-enem/lib/python3.8/site-packages/pandas/io/parsers.py\u001b[0m in \u001b[0;36m_open_handles\u001b[0;34m(self, src, kwds)\u001b[0m\n\u001b[1;32m   1360\u001b[0m         \u001b[0mLet\u001b[0m \u001b[0mthe\u001b[0m \u001b[0mreaders\u001b[0m \u001b[0mopen\u001b[0m \u001b[0mIOHanldes\u001b[0m \u001b[0mafter\u001b[0m \u001b[0mthey\u001b[0m \u001b[0mare\u001b[0m \u001b[0mdone\u001b[0m \u001b[0;32mwith\u001b[0m \u001b[0mtheir\u001b[0m \u001b[0mpotential\u001b[0m \u001b[0mraises\u001b[0m\u001b[0;34m.\u001b[0m\u001b[0;34m\u001b[0m\u001b[0;34m\u001b[0m\u001b[0m\n\u001b[1;32m   1361\u001b[0m         \"\"\"\n\u001b[0;32m-> 1362\u001b[0;31m         self.handles = get_handle(\n\u001b[0m\u001b[1;32m   1363\u001b[0m             \u001b[0msrc\u001b[0m\u001b[0;34m,\u001b[0m\u001b[0;34m\u001b[0m\u001b[0;34m\u001b[0m\u001b[0m\n\u001b[1;32m   1364\u001b[0m             \u001b[0;34m\"r\"\u001b[0m\u001b[0;34m,\u001b[0m\u001b[0;34m\u001b[0m\u001b[0;34m\u001b[0m\u001b[0m\n",
      "\u001b[0;32m~/analise-dados-enem/lib/python3.8/site-packages/pandas/io/common.py\u001b[0m in \u001b[0;36mget_handle\u001b[0;34m(path_or_buf, mode, encoding, compression, memory_map, is_text, errors, storage_options)\u001b[0m\n\u001b[1;32m    640\u001b[0m                 \u001b[0merrors\u001b[0m \u001b[0;34m=\u001b[0m \u001b[0;34m\"replace\"\u001b[0m\u001b[0;34m\u001b[0m\u001b[0;34m\u001b[0m\u001b[0m\n\u001b[1;32m    641\u001b[0m             \u001b[0;31m# Encoding\u001b[0m\u001b[0;34m\u001b[0m\u001b[0;34m\u001b[0m\u001b[0;34m\u001b[0m\u001b[0m\n\u001b[0;32m--> 642\u001b[0;31m             handle = open(\n\u001b[0m\u001b[1;32m    643\u001b[0m                 \u001b[0mhandle\u001b[0m\u001b[0;34m,\u001b[0m\u001b[0;34m\u001b[0m\u001b[0;34m\u001b[0m\u001b[0m\n\u001b[1;32m    644\u001b[0m                 \u001b[0mioargs\u001b[0m\u001b[0;34m.\u001b[0m\u001b[0mmode\u001b[0m\u001b[0;34m,\u001b[0m\u001b[0;34m\u001b[0m\u001b[0;34m\u001b[0m\u001b[0m\n",
      "\u001b[0;31mFileNotFoundError\u001b[0m: [Errno 2] No such file or directory: 'expenses-11.04.2020.csv'"
     ]
    }
   ],
   "source": [
    "despesas = pd.read_csv('expenses-11.04.2020.csv')\n",
    "despesas.head()"
   ]
  },
  {
   "cell_type": "code",
   "execution_count": null,
   "metadata": {},
   "outputs": [],
   "source": [
    "columns = ['crawled_at', 'crawled_from', 'function', 'published_at', 'resource', 'subfunction']\n",
    "despesas.drop(columns, inplace=True, axis=1)\n",
    "\n",
    "despesas[\"date\"] = pd.to_datetime(despesas[\"date\"])\n",
    "despesas = despesas[despesas[\"date\"].isin(pd.date_range(\"2019-01-01\", \"2019-12-31\"))]\n",
    "despesas['month'] = despesas['date'].apply(lambda x : x.month)\n",
    "\n",
    "despesas = despesas.sort_values('date', ascending=False)\n",
    "despesas.head()"
   ]
  },
  {
   "cell_type": "code",
   "execution_count": null,
   "metadata": {},
   "outputs": [],
   "source": [
    "despesas.shape"
   ]
  },
  {
   "cell_type": "code",
   "execution_count": null,
   "metadata": {},
   "outputs": [],
   "source": [
    "despesas['value'].plot(kind='hist')"
   ]
  },
  {
   "cell_type": "markdown",
   "metadata": {},
   "source": [
    "## Análises por classificação das despesas\n",
    "\n",
    "> O plano de contas da despesa orçamentária da Câmara está correto, pois segue ao estabelecido pelo TCM-BA, conforme Ato nº 456/2019. O código 33903005 se refere à Material de processamento de dados. Importante lembrar que a STN determina os elementos de despesa, de acordo com a Portaria Interministerial nº 163/2001, mas os desdobramentos da despesa (subelementos) são determinados pelo TCM BA. Segue em anexo o ato normativo com os códigos de despesa.\n",
    "\n",
    "ESPECIFICAÇÃO DE DESPESA 2020\n",
    "\n",
    "https://www.tcm.ba.gov.br/contabilidade-municipal/\n",
    "\n",
    "Faça o download do arquivo `.csv` do natureza das despesas [aqui](https://gist.githubusercontent.com/anapaulagomes/379525586f941a1183aa448dad282f90/raw/378f01c23f0ead542a88fde6274b12ba82b84f8e/especificacao-despesas-tcm-bahia.csv) e coloque na pasta `analysis`.\n",
    "\n",
    "\n",
    "### Categoria econômica\n",
    "\n",
    "\n",
    "CATEGORIA ECONÔMICA: a despesa orçamentária, assim como a receita orçamentária, é classificada em duas categorias econômicas:\n",
    "\n",
    "3-DESPESAS CORRENTES: classificam-se nesta categoria todas as despesas que não contribuem, diretamente, para a formação ou aquisição de um bem de capital.\n",
    "\n",
    "4 -DESPESAS  DE  CAPITAL: classificam-se  nesta  categoria  aquelas  despesas  que contribuem, diretamente, para a formação ou aquisição de um bem de capital"
   ]
  },
  {
   "cell_type": "code",
   "execution_count": null,
   "metadata": {},
   "outputs": [],
   "source": [
    "despesas[\"legal_status\"].unique()"
   ]
  },
  {
   "cell_type": "code",
   "execution_count": null,
   "metadata": {},
   "outputs": [],
   "source": [
    "classificacao = pd.read_csv(\n",
    "    'especificacao-despesas-tcm-bahia.csv',\n",
    "    dtype={'Codigo': str, 'Descricao': str, 'Codigo Superior': str}\n",
    ")\n",
    "classificacao"
   ]
  },
  {
   "cell_type": "code",
   "execution_count": null,
   "metadata": {},
   "outputs": [],
   "source": [
    "despesas['classificacao'] = despesas['legal_status'].str.extract('(\\d{8})')\n",
    "\n",
    "despesas_com_classificacao = despesas.merge(classificacao, left_on=['classificacao'], right_on=['Codigo'], how='left')\n",
    "despesas_com_classificacao"
   ]
  },
  {
   "cell_type": "code",
   "execution_count": null,
   "metadata": {},
   "outputs": [],
   "source": [
    "despesas.shape, despesas_com_classificacao.shape"
   ]
  },
  {
   "cell_type": "markdown",
   "metadata": {},
   "source": [
    "3 Despesas Correntes\n",
    "4 Despesas de Capital"
   ]
  },
  {
   "cell_type": "markdown",
   "metadata": {},
   "source": [
    "### Com o que a Câmara anda gastando?\n",
    "\n",
    "Agora que já sabemos as informações que temos e onde encontrá-las,\n",
    "vamos dar uma olhadinha nos gastos da casa no último ano."
   ]
  },
  {
   "cell_type": "markdown",
   "metadata": {},
   "source": [
    "O que são esses picos?\n",
    "\n",
    "* Dia 01 de Janeiro é um feriado nacional mas, em 2020, a Câmara registrou um único pagamento a Feira Cópias\n",
    "* Janeiro registrou atividade nos pagamentos durante apenas 4 dias\n"
   ]
  },
  {
   "cell_type": "code",
   "execution_count": null,
   "metadata": {},
   "outputs": [],
   "source": [
    "import seaborn as sns\n",
    "sns.set_style(\"whitegrid\")"
   ]
  },
  {
   "cell_type": "code",
   "execution_count": null,
   "metadata": {},
   "outputs": [],
   "source": [
    "despesas_com_classificacao.groupby(\n",
    "    ['subgroup', 'Descricao', 'Codigo']\n",
    ").size().reset_index().rename(columns={0: 'count'}).sort_values('count', ascending=False)"
   ]
  },
  {
   "cell_type": "code",
   "execution_count": null,
   "metadata": {},
   "outputs": [],
   "source": [
    "despesas_com_classificacao.groupby(\n",
    "    ['subgroup', 'Descricao', 'Codigo'], as_index=False\n",
    ")['value'].sum().sort_values(by='value', ascending=False)"
   ]
  },
  {
   "cell_type": "code",
   "execution_count": null,
   "metadata": {},
   "outputs": [],
   "source": [
    "plt.figure(figsize=(16,8))\n",
    "plot = sns.barplot(\n",
    "    data=despesas_com_classificacao,\n",
    "    x='Descricao',\n",
    "    y='value',\n",
    "    estimator=sum,\n",
    "    palette=sns.color_palette(\"BuGn_r\", n_colors=len(despesas_com_classificacao) + 4)\n",
    ")\n",
    "plot.set_xticklabels(plot.get_xticklabels(), rotation=75, horizontalalignment='right')\n",
    "plt.show()"
   ]
  },
  {
   "cell_type": "code",
   "execution_count": null,
   "metadata": {},
   "outputs": [],
   "source": [
    "vencimentos = ['Vencimentos e Vantagens Fixas - Pessoal Civil', 'Vencimento e vantagens fixas Pessoal Civil (Vencimento Básico)']\n",
    "despesas_sem_vencimentos = despesas_com_classificacao[~despesas_com_classificacao['Descricao'].isin(vencimentos)]\n",
    "\n",
    "plt.figure(figsize=(16,8))\n",
    "plot = sns.barplot(\n",
    "    data=despesas_sem_vencimentos,\n",
    "    x='Descricao',\n",
    "    y='value',\n",
    "    estimator=sum,\n",
    "    palette=sns.color_palette(\"muted\", n_colors=len(despesas_sem_vencimentos) + 4)\n",
    ")\n",
    "plot.set_xticklabels(plot.get_xticklabels(), rotation=75, horizontalalignment='right')\n",
    "plt.show()"
   ]
  },
  {
   "cell_type": "code",
   "execution_count": null,
   "metadata": {},
   "outputs": [],
   "source": [
    "sns.catplot(\n",
    "    x=\"value\",\n",
    "    y=\"Descricao\",\n",
    "    col=\"month\",\n",
    "    data=despesas_com_classificacao, kind=\"bar\",\n",
    "    height=4, aspect=.7\n",
    ")"
   ]
  },
  {
   "cell_type": "code",
   "execution_count": null,
   "metadata": {},
   "outputs": [],
   "source": [
    "despesas_com_classificacao[['legal_status', 'subgroup', 'Descricao', 'summary', 'Codigo']].head(100)"
   ]
  },
  {
   "cell_type": "code",
   "execution_count": null,
   "metadata": {},
   "outputs": [],
   "source": [
    "# Auxílio-Alimentação\n",
    "# Vale refeição/vale alimentação\n",
    "\n",
    "# Encargos pela Honra de Avais, Garantias, Seguros e Similares\n"
   ]
  },
  {
   "cell_type": "code",
   "execution_count": null,
   "metadata": {},
   "outputs": [],
   "source": [
    "# Locacao de Software / Locaçao de Software\n",
    "# Materiais de Consumo - gás e outros / Materiais de Consumo - gás e outros materiais ...\n"
   ]
  },
  {
   "cell_type": "code",
   "execution_count": null,
   "metadata": {},
   "outputs": [],
   "source": [
    "despesas = despesas[despesas['phase'] == 'pagamento']\n",
    "despesas.describe()['value']"
   ]
  },
  {
   "cell_type": "code",
   "execution_count": null,
   "metadata": {},
   "outputs": [],
   "source": [
    "pd.options.display.float_format = '{:20,.2f}'.format\n",
    "despesas['value'].describe()"
   ]
  },
  {
   "cell_type": "code",
   "execution_count": null,
   "metadata": {},
   "outputs": [],
   "source": [
    "despesas.nlargest(20, 'value')[['date', 'value', 'summary', 'subgroup', 'phase']]"
   ]
  },
  {
   "cell_type": "code",
   "execution_count": null,
   "metadata": {},
   "outputs": [],
   "source": [
    "despesas.nsmallest(20, 'value')[['date', 'value', 'summary', 'subgroup', 'phase']]"
   ]
  },
  {
   "cell_type": "markdown",
   "metadata": {},
   "source": [
    "## Quem foram os fornecedores?"
   ]
  },
  {
   "cell_type": "code",
   "execution_count": null,
   "metadata": {},
   "outputs": [],
   "source": [
    "pd.pivot_table(\n",
    "    despesas, \n",
    "    values='value',\n",
    "    index=['company_or_person'],\n",
    "    columns='month',\n",
    "    aggfunc=np.sum\n",
    ").sort_values(by='company_or_person', ascending=False)\n"
   ]
  },
  {
   "cell_type": "code",
   "execution_count": null,
   "metadata": {},
   "outputs": [],
   "source": [
    "def to_csv(despesas, arquivo='todas-as-despesas-desde-2016.csv'):\n",
    "    despesas.to_csv(\n",
    "        arquivo,\n",
    "        index=False,\n",
    "        columns=[\"published_at\", \"phase\", \"company_or_person\", \"value\", \"number\", \"document\", \"date\", \"process_number\", \"summary\", \"group\", \"function\", \"subfunction\", \"type_of_process\", \"resource\"],\n",
    "        header=[\"publicado_em\", \"fase\", \"empresa_ou_pessoa\", \"valor\", \"numero\", \"documento\", \"data\", \"numero_do_processo\", \"sumario\", \"grupo\", \"funcao\", \"subfuncao\", \"type_of_process\", \"fonte\"]\n",
    "    )"
   ]
  },
  {
   "cell_type": "code",
   "execution_count": null,
   "metadata": {},
   "outputs": [],
   "source": [
    "despesas.groupby('type_of_process')['value'].sum().plot(kind='bar')\n",
    "plt.show()\n",
    "\n",
    "despesas.groupby('group')['value'].sum().plot(kind='bar')\n",
    "plt.show()\n",
    "\n",
    "despesas.groupby('group')['value'].sum().plot(kind='bar')\n",
    "plt.show()"
   ]
  },
  {
   "cell_type": "code",
   "execution_count": null,
   "metadata": {},
   "outputs": [],
   "source": [
    "despesas.group.value_counts()"
   ]
  },
  {
   "cell_type": "code",
   "execution_count": null,
   "metadata": {},
   "outputs": [],
   "source": [
    "despesas.company_or_person.value_counts()"
   ]
  },
  {
   "cell_type": "code",
   "execution_count": null,
   "metadata": {},
   "outputs": [],
   "source": [
    "despesas.groupby(['company_or_person']).sum().groupby(level=[0])['value'].cumsum().sort_values(ascending=False)"
   ]
  },
  {
   "cell_type": "markdown",
   "metadata": {},
   "source": [
    "## O que a Câmara consome mais em cada categoria?"
   ]
  },
  {
   "cell_type": "code",
   "execution_count": null,
   "metadata": {},
   "outputs": [],
   "source": [
    "despesas_com_classificacao['summary'].describe()"
   ]
  },
  {
   "cell_type": "code",
   "execution_count": null,
   "metadata": {},
   "outputs": [],
   "source": [
    "despesas_com_classificacao[['Descricao', 'Codigo', 'summary', 'value']].tail(20)"
   ]
  },
  {
   "cell_type": "code",
   "execution_count": null,
   "metadata": {},
   "outputs": [],
   "source": [
    "despesas.groupby(\n",
    "    ['company_or_person', 'document']\n",
    ").size().reset_index().rename(columns={0: 'count'}).sort_values('count', ascending=False)"
   ]
  },
  {
   "cell_type": "code",
   "execution_count": null,
   "metadata": {},
   "outputs": [],
   "source": [
    "import re\n",
    "\n",
    "\n",
    "padrao = {\n",
    "    re.compile('\\d{2}.?\\d{3}.?\\d{3}/?\\d{4}-?\\d{2}'): \"jurídica\",\n",
    "    re.compile('\\d{3}\\.\\d{3}\\.\\d{3}\\-\\d{2}'): \"física\"\n",
    "}\n",
    "\n",
    "\n",
    "despesas['tipo_de_pessoa'] = despesas['document'].replace(padrao, regex=True)\n",
    "print(despesas.groupby(['tipo_de_pessoa']).size())\n",
    "\n",
    "despesas['tipo_de_pessoa'].value_counts().plot.pie(\n",
    "    y='tipo_de_pessoa', title=\"Pessoa física ou jurídica?\", autopct='%1.1f%%', startangle=0\n",
    ")"
   ]
  }
 ],
 "metadata": {
  "kernelspec": {
   "display_name": "Python 3",
   "language": "python",
   "name": "python3"
  },
  "language_info": {
   "codemirror_mode": {
    "name": "ipython",
    "version": 3
   },
   "file_extension": ".py",
   "mimetype": "text/x-python",
   "name": "python",
   "nbconvert_exporter": "python",
   "pygments_lexer": "ipython3",
   "version": "3.8.5"
  }
 },
 "nbformat": 4,
 "nbformat_minor": 2
}
