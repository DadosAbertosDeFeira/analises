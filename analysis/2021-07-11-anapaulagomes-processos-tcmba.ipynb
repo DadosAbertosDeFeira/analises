{
 "cells": [
  {
   "cell_type": "markdown",
   "metadata": {},
   "source": [
    "# As denúncias ao TCM-BA\n",
    "\n",
    "\n",
    "Quanto tempo em média uma denúncia demora para ser julgada pelo Tribunal\n",
    "de Contas dos Municípios?\n",
    "\n",
    "Essa é a pergunta que queremos responder com esse notebook.\n",
    "\n",
    "---\n",
    "\n",
    "A coleta de dados foi feita utilizando scripts do repositório\n",
    "[tcm-ba](https://github.com/DadosAbertosDeFeira/tcm-ba) em 17 de Julho de 2021."
   ]
  },
  {
   "cell_type": "code",
   "execution_count": null,
   "metadata": {
    "colab": {
     "base_uri": "https://localhost:8080/",
     "height": 354
    },
    "id": "66it-OOm5rpN",
    "outputId": "157aa434-e30b-4e91-fc8c-00cb6819bce8"
   },
   "outputs": [],
   "source": [
    "import pandas as pd\n",
    "\n",
    "\n",
    "df = pd.read_csv(\"processos-tcm-ba.csv\")"
   ]
  },
  {
   "cell_type": "code",
   "execution_count": null,
   "metadata": {},
   "outputs": [],
   "source": [
    "df.sample(3)"
   ]
  },
  {
   "cell_type": "code",
   "execution_count": null,
   "metadata": {},
   "outputs": [],
   "source": [
    "df.shape"
   ]
  },
  {
   "cell_type": "code",
   "execution_count": null,
   "metadata": {
    "colab": {
     "base_uri": "https://localhost:8080/"
    },
    "id": "HLras7195zyz",
    "outputId": "9a807c70-29a9-4e72-db2a-fefba3cdcd69"
   },
   "outputs": [],
   "source": [
    "df[\"nature\"].unique()"
   ]
  },
  {
   "cell_type": "code",
   "execution_count": null,
   "metadata": {
    "id": "c1zqwyLV6Vci"
   },
   "outputs": [],
   "source": [
    "df[\"entry_at\"] = pd.to_datetime(df[\"entry_at\"], format='%d/%m/%Y')\n",
    "df[\"last_update_at\"] = pd.to_datetime(df[\"last_update_at\"], format='%d/%m/%Y')"
   ]
  },
  {
   "cell_type": "code",
   "execution_count": null,
   "metadata": {
    "id": "qKjfS2ky6rt8"
   },
   "outputs": [],
   "source": [
    "df[\"interval_in_days\"] = df[\"last_update_at\"] - df[\"entry_at\"]"
   ]
  },
  {
   "cell_type": "code",
   "execution_count": null,
   "metadata": {
    "colab": {
     "base_uri": "https://localhost:8080/",
     "height": 423
    },
    "id": "bzXIv47r63B_",
    "outputId": "bcbf6126-452b-49b2-bbdc-e393c8fab1f3"
   },
   "outputs": [],
   "source": [
    "df[[\"process_number\", \"description\", \"entry_at\", \"last_update_at\", \"interval_in_days\", \"nature\", \"city\"]]"
   ]
  },
  {
   "cell_type": "code",
   "execution_count": null,
   "metadata": {
    "colab": {
     "base_uri": "https://localhost:8080/",
     "height": 363
    },
    "id": "lzHbArlr7G4h",
    "outputId": "d2ccfb3b-eae1-4cee-f217-0b60005e8056"
   },
   "outputs": [],
   "source": [
    "df.groupby('nature')[\"interval_in_days\"].describe()\n"
   ]
  },
  {
   "cell_type": "code",
   "execution_count": null,
   "metadata": {
    "colab": {
     "base_uri": "https://localhost:8080/",
     "height": 1000
    },
    "id": "rJWlYpDh8r62",
    "outputId": "7481462d-3e51-4b7e-aff4-f52265f2af82"
   },
   "outputs": [],
   "source": [
    "df['nature'].fillna(\"\", inplace=True)\n",
    "denuncias = df[df['nature'].str.contains(\"Denuncia\")]\n",
    "denuncias"
   ]
  },
  {
   "cell_type": "code",
   "execution_count": null,
   "metadata": {
    "id": "TTIiyk0YDxzB"
   },
   "outputs": [],
   "source": [
    "df[\"interval_in_days\"] = df[\"interval_in_days\"].apply(lambda x: x.days)"
   ]
  },
  {
   "cell_type": "code",
   "execution_count": null,
   "metadata": {
    "colab": {
     "base_uri": "https://localhost:8080/",
     "height": 280
    },
    "id": "4Yf_GGHRBxzz",
    "outputId": "92adb0f0-f7f6-403d-ee8f-8f8e7f5a0450"
   },
   "outputs": [],
   "source": [
    "import seaborn as sns\n",
    "\n",
    " \n",
    "ax = sns.barplot(y=\"nature\", x=\"interval_in_days\", data=df, orient=\"h\")"
   ]
  },
  {
   "cell_type": "code",
   "execution_count": null,
   "metadata": {
    "colab": {
     "base_uri": "https://localhost:8080/",
     "height": 680
    },
    "id": "XOaO1XHBD2u-",
    "outputId": "cefdb56f-5bfa-431c-8db6-221ab856f27f"
   },
   "outputs": [],
   "source": [
    "ax = sns.countplot(x=\"nature\", data=df)\n",
    "ax.set_xticklabels(ax.get_xticklabels(), rotation=90)"
   ]
  },
  {
   "cell_type": "code",
   "execution_count": null,
   "metadata": {
    "colab": {
     "base_uri": "https://localhost:8080/",
     "height": 707
    },
    "id": "77nm8ALxJ2Km",
    "outputId": "b641a7ce-a518-43c0-8262-e2eb065378ab"
   },
   "outputs": [],
   "source": [
    "ax = sns.countplot(x=\"city\", data=denuncias)\n",
    "ax.set_xticklabels(ax.get_xticklabels(), rotation=90)"
   ]
  },
  {
   "cell_type": "code",
   "execution_count": null,
   "metadata": {
    "colab": {
     "base_uri": "https://localhost:8080/",
     "height": 760
    },
    "id": "bvtz-kqwLIJl",
    "outputId": "e7e1c264-b280-4734-cfa3-71da6358dbee"
   },
   "outputs": [],
   "source": [
    "ax = sns.countplot(x=\"place_of_origin\", data=denuncias)\n",
    "ax.set_xticklabels(ax.get_xticklabels(), rotation=90)"
   ]
  }
 ],
 "metadata": {
  "colab": {
   "collapsed_sections": [],
   "name": "Processos do TCM-BA.ipynb",
   "provenance": []
  },
  "kernelspec": {
   "display_name": "Python 3",
   "language": "python",
   "name": "python3"
  },
  "language_info": {
   "codemirror_mode": {
    "name": "ipython",
    "version": 3
   },
   "file_extension": ".py",
   "mimetype": "text/x-python",
   "name": "python",
   "nbconvert_exporter": "python",
   "pygments_lexer": "ipython3",
   "version": "3.8.5"
  }
 },
 "nbformat": 4,
 "nbformat_minor": 1
}
