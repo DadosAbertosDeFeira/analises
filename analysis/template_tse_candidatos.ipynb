{
 "cells": [
  {
   "cell_type": "markdown",
   "metadata": {},
   "source": [
    "# Notebook template para trabalhar dados do TSE"
   ]
  },
  {
   "cell_type": "markdown",
   "metadata": {},
   "source": [
    "1 - Baixar os arquivos que serão analisados em https://www.tse.jus.br/eleicoes/estatisticas/repositorio-de-dados-eleitorais-1/repositorio-de-dados-eleitorais"
   ]
  },
  {
   "cell_type": "code",
   "execution_count": 4,
   "metadata": {},
   "outputs": [],
   "source": [
    "#Aqui serâ importada a biblioteca Pandas que irá ajudar na análise. \n",
    "#Vamos nomea-la como pd para faciltar. Essa é a sigla usada geralmente\n",
    "\n",
    "import pandas as pd"
   ]
  },
  {
   "cell_type": "markdown",
   "metadata": {},
   "source": [
    "Se você teve erro nesse import é porque provavelmente você não tem pandas instalado no seu computador ou no enviromment que está utilizando. Saiba mais como isntalar Pandas aqui: ---"
   ]
  },
  {
   "cell_type": "markdown",
   "metadata": {},
   "source": [
    "## Arquivo de candidatos"
   ]
  },
  {
   "cell_type": "markdown",
   "metadata": {},
   "source": [
    "Os arquivos de candidatos estão separados por ano. Vamos primeiro trabalhar com um único ano."
   ]
  },
  {
   "cell_type": "markdown",
   "metadata": {},
   "source": [
    "### Ler o arquivo"
   ]
  },
  {
   "cell_type": "code",
   "execution_count": 106,
   "metadata": {},
   "outputs": [],
   "source": [
    "#Inclua aqui o caminho do seu computador onde os arquivos estão localizados\n",
    "caminho = ''"
   ]
  },
  {
   "cell_type": "code",
   "execution_count": 28,
   "metadata": {},
   "outputs": [],
   "source": [
    "# - A codificação de caracteres dos arquivos é \"Latin 1\";\n",
    "# - Os campos estão entre aspas e separados por ponto e vírgula, inclusive os campos numéricos;\n",
    "# Por causa desses pontos descritos acima é necessário colocar os argumentos abaixo ao ler o csv\n",
    "\n",
    "arquivo = pd.read_csv(caminho, encoding = \"Latin 1\", sep=';')"
   ]
  },
  {
   "cell_type": "code",
   "execution_count": 34,
   "metadata": {},
   "outputs": [
    {
     "data": {
      "text/html": [
       "<div>\n",
       "<style scoped>\n",
       "    .dataframe tbody tr th:only-of-type {\n",
       "        vertical-align: middle;\n",
       "    }\n",
       "\n",
       "    .dataframe tbody tr th {\n",
       "        vertical-align: top;\n",
       "    }\n",
       "\n",
       "    .dataframe thead th {\n",
       "        text-align: right;\n",
       "    }\n",
       "</style>\n",
       "<table border=\"1\" class=\"dataframe\">\n",
       "  <thead>\n",
       "    <tr style=\"text-align: right;\">\n",
       "      <th></th>\n",
       "      <th>DT_GERACAO</th>\n",
       "      <th>HH_GERACAO</th>\n",
       "      <th>ANO_ELEICAO</th>\n",
       "      <th>CD_TIPO_ELEICAO</th>\n",
       "      <th>NM_TIPO_ELEICAO</th>\n",
       "      <th>NR_TURNO</th>\n",
       "      <th>CD_ELEICAO</th>\n",
       "      <th>DS_ELEICAO</th>\n",
       "      <th>DT_ELEICAO</th>\n",
       "      <th>TP_ABRANGENCIA</th>\n",
       "      <th>...</th>\n",
       "      <th>DS_SIT_TOT_TURNO</th>\n",
       "      <th>ST_REELEICAO</th>\n",
       "      <th>ST_DECLARAR_BENS</th>\n",
       "      <th>NR_PROTOCOLO_CANDIDATURA</th>\n",
       "      <th>NR_PROCESSO</th>\n",
       "      <th>CD_SITUACAO_CANDIDATO_PLEITO</th>\n",
       "      <th>DS_SITUACAO_CANDIDATO_PLEITO</th>\n",
       "      <th>CD_SITUACAO_CANDIDATO_URNA</th>\n",
       "      <th>DS_SITUACAO_CANDIDATO_URNA</th>\n",
       "      <th>ST_CANDIDATO_INSERIDO_URNA</th>\n",
       "    </tr>\n",
       "  </thead>\n",
       "  <tbody>\n",
       "    <tr>\n",
       "      <th>200533</th>\n",
       "      <td>24/10/2020</td>\n",
       "      <td>17:09:46</td>\n",
       "      <td>2020</td>\n",
       "      <td>2</td>\n",
       "      <td>ELEIÇÃO ORDINÁRIA</td>\n",
       "      <td>1</td>\n",
       "      <td>426</td>\n",
       "      <td>Eleições Municipais 2020</td>\n",
       "      <td>15/11/2020</td>\n",
       "      <td>MUNICIPAL</td>\n",
       "      <td>...</td>\n",
       "      <td>#NULO#</td>\n",
       "      <td>N</td>\n",
       "      <td>S</td>\n",
       "      <td>-1</td>\n",
       "      <td>6003063320206060004</td>\n",
       "      <td>-1</td>\n",
       "      <td>#NULO#</td>\n",
       "      <td>-1</td>\n",
       "      <td>#NULO#</td>\n",
       "      <td>SIM</td>\n",
       "    </tr>\n",
       "    <tr>\n",
       "      <th>424486</th>\n",
       "      <td>24/10/2020</td>\n",
       "      <td>17:09:46</td>\n",
       "      <td>2020</td>\n",
       "      <td>2</td>\n",
       "      <td>ELEIÇÃO ORDINÁRIA</td>\n",
       "      <td>1</td>\n",
       "      <td>426</td>\n",
       "      <td>Eleições Municipais 2020</td>\n",
       "      <td>15/11/2020</td>\n",
       "      <td>MUNICIPAL</td>\n",
       "      <td>...</td>\n",
       "      <td>#NULO#</td>\n",
       "      <td>N</td>\n",
       "      <td>S</td>\n",
       "      <td>-1</td>\n",
       "      <td>6005226620206190154</td>\n",
       "      <td>-1</td>\n",
       "      <td>#NULO#</td>\n",
       "      <td>-1</td>\n",
       "      <td>#NULO#</td>\n",
       "      <td>SIM</td>\n",
       "    </tr>\n",
       "    <tr>\n",
       "      <th>23281</th>\n",
       "      <td>24/10/2020</td>\n",
       "      <td>17:09:46</td>\n",
       "      <td>2020</td>\n",
       "      <td>2</td>\n",
       "      <td>ELEIÇÃO ORDINÁRIA</td>\n",
       "      <td>1</td>\n",
       "      <td>426</td>\n",
       "      <td>Eleições Municipais 2020</td>\n",
       "      <td>15/11/2020</td>\n",
       "      <td>MUNICIPAL</td>\n",
       "      <td>...</td>\n",
       "      <td>#NULO#</td>\n",
       "      <td>N</td>\n",
       "      <td>S</td>\n",
       "      <td>-1</td>\n",
       "      <td>6008192820206260009</td>\n",
       "      <td>-1</td>\n",
       "      <td>#NULO#</td>\n",
       "      <td>-1</td>\n",
       "      <td>#NULO#</td>\n",
       "      <td>NÃO</td>\n",
       "    </tr>\n",
       "  </tbody>\n",
       "</table>\n",
       "<p>3 rows × 63 columns</p>\n",
       "</div>"
      ],
      "text/plain": [
       "        DT_GERACAO HH_GERACAO  ANO_ELEICAO  CD_TIPO_ELEICAO  \\\n",
       "200533  24/10/2020   17:09:46         2020                2   \n",
       "424486  24/10/2020   17:09:46         2020                2   \n",
       "23281   24/10/2020   17:09:46         2020                2   \n",
       "\n",
       "          NM_TIPO_ELEICAO  NR_TURNO  CD_ELEICAO                DS_ELEICAO  \\\n",
       "200533  ELEIÇÃO ORDINÁRIA         1         426  Eleições Municipais 2020   \n",
       "424486  ELEIÇÃO ORDINÁRIA         1         426  Eleições Municipais 2020   \n",
       "23281   ELEIÇÃO ORDINÁRIA         1         426  Eleições Municipais 2020   \n",
       "\n",
       "        DT_ELEICAO TP_ABRANGENCIA  ... DS_SIT_TOT_TURNO  ST_REELEICAO  \\\n",
       "200533  15/11/2020      MUNICIPAL  ...           #NULO#             N   \n",
       "424486  15/11/2020      MUNICIPAL  ...           #NULO#             N   \n",
       "23281   15/11/2020      MUNICIPAL  ...           #NULO#             N   \n",
       "\n",
       "       ST_DECLARAR_BENS  NR_PROTOCOLO_CANDIDATURA          NR_PROCESSO  \\\n",
       "200533                S                        -1  6003063320206060004   \n",
       "424486                S                        -1  6005226620206190154   \n",
       "23281                 S                        -1  6008192820206260009   \n",
       "\n",
       "        CD_SITUACAO_CANDIDATO_PLEITO  DS_SITUACAO_CANDIDATO_PLEITO  \\\n",
       "200533                            -1                        #NULO#   \n",
       "424486                            -1                        #NULO#   \n",
       "23281                             -1                        #NULO#   \n",
       "\n",
       "       CD_SITUACAO_CANDIDATO_URNA DS_SITUACAO_CANDIDATO_URNA  \\\n",
       "200533                         -1                     #NULO#   \n",
       "424486                         -1                     #NULO#   \n",
       "23281                          -1                     #NULO#   \n",
       "\n",
       "       ST_CANDIDATO_INSERIDO_URNA  \n",
       "200533                        SIM  \n",
       "424486                        SIM  \n",
       "23281                         NÃO  \n",
       "\n",
       "[3 rows x 63 columns]"
      ]
     },
     "execution_count": 34,
     "metadata": {},
     "output_type": "execute_result"
    }
   ],
   "source": [
    "# Aqui vamos checar se o import foi feito como esperado\n",
    "arquivo.sample(3)"
   ]
  },
  {
   "cell_type": "code",
   "execution_count": 37,
   "metadata": {},
   "outputs": [
    {
     "name": "stdout",
     "output_type": "stream",
     "text": [
      "Index(['DT_GERACAO', 'HH_GERACAO', 'ANO_ELEICAO', 'CD_TIPO_ELEICAO',\n",
      "       'NM_TIPO_ELEICAO', 'NR_TURNO', 'CD_ELEICAO', 'DS_ELEICAO', 'DT_ELEICAO',\n",
      "       'TP_ABRANGENCIA', 'SG_UF', 'SG_UE', 'NM_UE', 'CD_CARGO', 'DS_CARGO',\n",
      "       'SQ_CANDIDATO', 'NR_CANDIDATO', 'NM_CANDIDATO', 'NM_URNA_CANDIDATO',\n",
      "       'NM_SOCIAL_CANDIDATO', 'NR_CPF_CANDIDATO', 'NM_EMAIL',\n",
      "       'CD_SITUACAO_CANDIDATURA', 'DS_SITUACAO_CANDIDATURA',\n",
      "       'CD_DETALHE_SITUACAO_CAND', 'DS_DETALHE_SITUACAO_CAND', 'TP_AGREMIACAO',\n",
      "       'NR_PARTIDO', 'SG_PARTIDO', 'NM_PARTIDO', 'SQ_COLIGACAO',\n",
      "       'NM_COLIGACAO', 'DS_COMPOSICAO_COLIGACAO', 'CD_NACIONALIDADE',\n",
      "       'DS_NACIONALIDADE', 'SG_UF_NASCIMENTO', 'CD_MUNICIPIO_NASCIMENTO',\n",
      "       'NM_MUNICIPIO_NASCIMENTO', 'DT_NASCIMENTO', 'NR_IDADE_DATA_POSSE',\n",
      "       'NR_TITULO_ELEITORAL_CANDIDATO', 'CD_GENERO', 'DS_GENERO',\n",
      "       'CD_GRAU_INSTRUCAO', 'DS_GRAU_INSTRUCAO', 'CD_ESTADO_CIVIL',\n",
      "       'DS_ESTADO_CIVIL', 'CD_COR_RACA', 'DS_COR_RACA', 'CD_OCUPACAO',\n",
      "       'DS_OCUPACAO', 'VR_DESPESA_MAX_CAMPANHA', 'CD_SIT_TOT_TURNO',\n",
      "       'DS_SIT_TOT_TURNO', 'ST_REELEICAO', 'ST_DECLARAR_BENS',\n",
      "       'NR_PROTOCOLO_CANDIDATURA', 'NR_PROCESSO',\n",
      "       'CD_SITUACAO_CANDIDATO_PLEITO', 'DS_SITUACAO_CANDIDATO_PLEITO',\n",
      "       'CD_SITUACAO_CANDIDATO_URNA', 'DS_SITUACAO_CANDIDATO_URNA',\n",
      "       'ST_CANDIDATO_INSERIDO_URNA'],\n",
      "      dtype='object')\n",
      "63\n"
     ]
    }
   ],
   "source": [
    "#Aqui veremos as colunas que foram importadas\n",
    "print(arquivo.columns)"
   ]
  },
  {
   "cell_type": "markdown",
   "metadata": {},
   "source": [
    "Como esse arquivo tem candidatos de todo o país, vamos separar de apenas um estado."
   ]
  },
  {
   "cell_type": "code",
   "execution_count": 41,
   "metadata": {},
   "outputs": [
    {
     "name": "stdout",
     "output_type": "stream",
     "text": [
      "Index(['DT_GERACAO', 'HH_GERACAO', 'ANO_ELEICAO', 'CD_TIPO_ELEICAO',\n",
      "       'NM_TIPO_ELEICAO', 'NR_TURNO', 'CD_ELEICAO', 'DS_ELEICAO', 'DT_ELEICAO',\n",
      "       'TP_ABRANGENCIA', 'SG_UF', 'SG_UE', 'NM_UE', 'CD_CARGO', 'DS_CARGO',\n",
      "       'SQ_CANDIDATO', 'NR_CANDIDATO', 'NM_CANDIDATO', 'NM_URNA_CANDIDATO',\n",
      "       'NM_SOCIAL_CANDIDATO', 'NR_CPF_CANDIDATO', 'NM_EMAIL',\n",
      "       'CD_SITUACAO_CANDIDATURA', 'DS_SITUACAO_CANDIDATURA',\n",
      "       'CD_DETALHE_SITUACAO_CAND', 'DS_DETALHE_SITUACAO_CAND', 'TP_AGREMIACAO',\n",
      "       'NR_PARTIDO', 'SG_PARTIDO', 'NM_PARTIDO', 'SQ_COLIGACAO',\n",
      "       'NM_COLIGACAO', 'DS_COMPOSICAO_COLIGACAO', 'CD_NACIONALIDADE',\n",
      "       'DS_NACIONALIDADE', 'SG_UF_NASCIMENTO', 'CD_MUNICIPIO_NASCIMENTO',\n",
      "       'NM_MUNICIPIO_NASCIMENTO', 'DT_NASCIMENTO', 'NR_IDADE_DATA_POSSE',\n",
      "       'NR_TITULO_ELEITORAL_CANDIDATO', 'CD_GENERO', 'DS_GENERO',\n",
      "       'CD_GRAU_INSTRUCAO', 'DS_GRAU_INSTRUCAO', 'CD_ESTADO_CIVIL',\n",
      "       'DS_ESTADO_CIVIL', 'CD_COR_RACA', 'DS_COR_RACA', 'CD_OCUPACAO',\n",
      "       'DS_OCUPACAO', 'VR_DESPESA_MAX_CAMPANHA', 'CD_SIT_TOT_TURNO',\n",
      "       'DS_SIT_TOT_TURNO', 'ST_REELEICAO', 'ST_DECLARAR_BENS',\n",
      "       'NR_PROTOCOLO_CANDIDATURA', 'NR_PROCESSO',\n",
      "       'CD_SITUACAO_CANDIDATO_PLEITO', 'DS_SITUACAO_CANDIDATO_PLEITO',\n",
      "       'CD_SITUACAO_CANDIDATO_URNA', 'DS_SITUACAO_CANDIDATO_URNA',\n",
      "       'ST_CANDIDATO_INSERIDO_URNA'],\n",
      "      dtype='object')\n"
     ]
    }
   ],
   "source": [
    "#Aqui veremos as colunas que foram importadas, e tentar identificar qual possui a cidade\n",
    "print(arquivo.columns)"
   ]
  },
  {
   "cell_type": "code",
   "execution_count": 46,
   "metadata": {},
   "outputs": [
    {
     "data": {
      "text/html": [
       "<div>\n",
       "<style scoped>\n",
       "    .dataframe tbody tr th:only-of-type {\n",
       "        vertical-align: middle;\n",
       "    }\n",
       "\n",
       "    .dataframe tbody tr th {\n",
       "        vertical-align: top;\n",
       "    }\n",
       "\n",
       "    .dataframe thead th {\n",
       "        text-align: right;\n",
       "    }\n",
       "</style>\n",
       "<table border=\"1\" class=\"dataframe\">\n",
       "  <thead>\n",
       "    <tr style=\"text-align: right;\">\n",
       "      <th></th>\n",
       "      <th>SG_UF</th>\n",
       "      <th>SG_UE</th>\n",
       "      <th>NM_UE</th>\n",
       "    </tr>\n",
       "  </thead>\n",
       "  <tbody>\n",
       "    <tr>\n",
       "      <th>0</th>\n",
       "      <td>ES</td>\n",
       "      <td>56677</td>\n",
       "      <td>MIMOSO DO SUL</td>\n",
       "    </tr>\n",
       "    <tr>\n",
       "      <th>1</th>\n",
       "      <td>BA</td>\n",
       "      <td>39578</td>\n",
       "      <td>VALENÇA</td>\n",
       "    </tr>\n",
       "    <tr>\n",
       "      <th>2</th>\n",
       "      <td>MG</td>\n",
       "      <td>45535</td>\n",
       "      <td>GOVERNADOR VALADARES</td>\n",
       "    </tr>\n",
       "    <tr>\n",
       "      <th>3</th>\n",
       "      <td>CE</td>\n",
       "      <td>14176</td>\n",
       "      <td>IPU</td>\n",
       "    </tr>\n",
       "    <tr>\n",
       "      <th>4</th>\n",
       "      <td>PE</td>\n",
       "      <td>25810</td>\n",
       "      <td>SERTÂNIA</td>\n",
       "    </tr>\n",
       "    <tr>\n",
       "      <th>...</th>\n",
       "      <td>...</td>\n",
       "      <td>...</td>\n",
       "      <td>...</td>\n",
       "    </tr>\n",
       "    <tr>\n",
       "      <th>556028</th>\n",
       "      <td>BA</td>\n",
       "      <td>34290</td>\n",
       "      <td>CANDEIAS</td>\n",
       "    </tr>\n",
       "    <tr>\n",
       "      <th>556029</th>\n",
       "      <td>GO</td>\n",
       "      <td>93181</td>\n",
       "      <td>MONTIVIDIU DO NORTE</td>\n",
       "    </tr>\n",
       "    <tr>\n",
       "      <th>556030</th>\n",
       "      <td>PB</td>\n",
       "      <td>20516</td>\n",
       "      <td>JOÃO PESSOA</td>\n",
       "    </tr>\n",
       "    <tr>\n",
       "      <th>556031</th>\n",
       "      <td>MG</td>\n",
       "      <td>47058</td>\n",
       "      <td>JAPARAÍBA</td>\n",
       "    </tr>\n",
       "    <tr>\n",
       "      <th>556032</th>\n",
       "      <td>PA</td>\n",
       "      <td>5053</td>\n",
       "      <td>ORIXIMINÁ</td>\n",
       "    </tr>\n",
       "  </tbody>\n",
       "</table>\n",
       "<p>556033 rows × 3 columns</p>\n",
       "</div>"
      ],
      "text/plain": [
       "       SG_UF  SG_UE                 NM_UE\n",
       "0         ES  56677         MIMOSO DO SUL\n",
       "1         BA  39578               VALENÇA\n",
       "2         MG  45535  GOVERNADOR VALADARES\n",
       "3         CE  14176                   IPU\n",
       "4         PE  25810              SERTÂNIA\n",
       "...      ...    ...                   ...\n",
       "556028    BA  34290              CANDEIAS\n",
       "556029    GO  93181   MONTIVIDIU DO NORTE\n",
       "556030    PB  20516           JOÃO PESSOA\n",
       "556031    MG  47058             JAPARAÍBA\n",
       "556032    PA   5053             ORIXIMINÁ\n",
       "\n",
       "[556033 rows x 3 columns]"
      ]
     },
     "execution_count": 46,
     "metadata": {},
     "output_type": "execute_result"
    }
   ],
   "source": [
    "#Parece ser a coluna 'SG_UF', 'SG_UE', 'NM_UE'. Vamos ver os itens que vem nessa coluna\n",
    "colunas_localizacao = ['SG_UF', 'SG_UE', 'NM_UE']\n",
    "arquivo[colunas_localizacao] "
   ]
  },
  {
   "cell_type": "code",
   "execution_count": 49,
   "metadata": {},
   "outputs": [],
   "source": [
    "#Vamos filtrar agora apenas candidatos de uma cidade específica.\n",
    "#Com os dados acima percebemos que os nomes estão em maíscula, com espaço e acentuação.\n",
    "cidade = 'FEIRA DE SANTANA' "
   ]
  },
  {
   "cell_type": "code",
   "execution_count": 51,
   "metadata": {},
   "outputs": [],
   "source": [
    "is_cidade = arquivo['NM_UE'] == cidade\n",
    "candidatos_da_cidade = arquivo[is_cidade]"
   ]
  },
  {
   "cell_type": "code",
   "execution_count": 63,
   "metadata": {},
   "outputs": [
    {
     "name": "stdout",
     "output_type": "stream",
     "text": [
      "['FEIRA DE SANTANA']\n"
     ]
    }
   ],
   "source": [
    "#Ver se nesse novo df só possui a sua cidade escolhida\n",
    "print(candidatos_da_cidade['NM_UE'].unique())"
   ]
  },
  {
   "cell_type": "code",
   "execution_count": 62,
   "metadata": {},
   "outputs": [
    {
     "name": "stdout",
     "output_type": "stream",
     "text": [
      "['MIMOSO DO SUL' 'VALENÇA' 'GOVERNADOR VALADARES' ... 'SÃO PEDRO DO BUTIÁ'\n",
      " 'CATURAMA' 'ABAÍRA']\n"
     ]
    }
   ],
   "source": [
    "#Ao contrário do arquivo anterior que possui diversas cidades\n",
    "print(arquivo['NM_UE'].unique())"
   ]
  },
  {
   "cell_type": "code",
   "execution_count": 67,
   "metadata": {},
   "outputs": [
    {
     "data": {
      "text/plain": [
       "711"
      ]
     },
     "execution_count": 67,
     "metadata": {},
     "output_type": "execute_result"
    }
   ],
   "source": [
    "#Vamos ver o tamanho do arquivo que vamos trabalhar\n",
    "len(candidatos_da_cidade)"
   ]
  },
  {
   "cell_type": "code",
   "execution_count": 70,
   "metadata": {},
   "outputs": [
    {
     "name": "stdout",
     "output_type": "stream",
     "text": [
      "['VEREADOR' 'PREFEITO' 'VICE-PREFEITO']\n"
     ]
    },
    {
     "data": {
      "text/plain": [
       "VEREADOR         691\n",
       "VICE-PREFEITO     10\n",
       "PREFEITO          10\n",
       "Name: DS_CARGO, dtype: int64"
      ]
     },
     "execution_count": 70,
     "metadata": {},
     "output_type": "execute_result"
    }
   ],
   "source": [
    "#Ver quais os cargos estão descritos\n",
    "print(candidatos_da_cidade['DS_CARGO'].unique())\n",
    "#E quantos candidatos em cada cargo?\n",
    "candidatos_da_cidade['DS_CARGO'].value_counts()"
   ]
  },
  {
   "cell_type": "code",
   "execution_count": 78,
   "metadata": {},
   "outputs": [
    {
     "name": "stdout",
     "output_type": "stream",
     "text": [
      "NR_PARTIDO  SG_PARTIDO     NM_PARTIDO                              \n",
      "10          REPUBLICANOS   REPUBLICANOS                                33\n",
      "11          PP             PROGRESSISTAS                               14\n",
      "12          PDT            PARTIDO DEMOCRÁTICO TRABALHISTA             12\n",
      "13          PT             PARTIDO DOS TRABALHADORES                   31\n",
      "14          PTB            PARTIDO TRABALHISTA BRASILEIRO              25\n",
      "15          MDB            MOVIMENTO DEMOCRÁTICO BRASILEIRO            28\n",
      "17          PSL            PARTIDO SOCIAL LIBERAL                      34\n",
      "19          PODE           PODEMOS                                     32\n",
      "20          PSC            PARTIDO SOCIAL CRISTÃO                      32\n",
      "22          PL             PARTIDO LIBERAL                             31\n",
      "23          CIDADANIA      CIDADANIA                                   66\n",
      "25          DEM            DEMOCRATAS                                  27\n",
      "27          DC             DEMOCRACIA CRISTÃ                           33\n",
      "28          PRTB           PARTIDO RENOVADOR TRABALHISTA BRASILEIRO     2\n",
      "29          PCO            PARTIDO DA CAUSA OPERÁRIA                    5\n",
      "30          NOVO           PARTIDO NOVO                                12\n",
      "36          PTC            PARTIDO TRABALHISTA CRISTÃO                 10\n",
      "40          PSB            PARTIDO SOCIALISTA BRASILEIRO               33\n",
      "43          PV             PARTIDO VERDE                               32\n",
      "45          PSDB           PARTIDO DA SOCIAL DEMOCRACIA BRASILEIRA     33\n",
      "50          PSOL           PARTIDO SOCIALISMO E LIBERDADE              12\n",
      "51          PATRIOTA       PATRIOTA                                    30\n",
      "55          PSD            PARTIDO SOCIAL DEMOCRÁTICO                  19\n",
      "65          PC do B        PARTIDO COMUNISTA DO BRASIL                 30\n",
      "70          AVANTE         AVANTE                                      34\n",
      "77          SOLIDARIEDADE  SOLIDARIEDADE                               29\n",
      "90          PROS           PARTIDO REPUBLICANO DA ORDEM SOCIAL         32\n",
      "dtype: int64\n"
     ]
    }
   ],
   "source": [
    "#E para ver os partidos. Existem três colunas sobre partido\n",
    "colunas_partido = ['NR_PARTIDO', 'SG_PARTIDO', 'NM_PARTIDO']\n",
    "partidos_dos_candidatos_da_cidade = candidatos_da_cidade.groupby(colunas_partido).size()\n",
    "print(partidos_dos_candidatos_da_cidade)"
   ]
  },
  {
   "cell_type": "code",
   "execution_count": 81,
   "metadata": {},
   "outputs": [
    {
     "data": {
      "text/plain": [
       "NR_PARTIDO  SG_PARTIDO     NM_PARTIDO                              \n",
       "23          CIDADANIA      CIDADANIA                                   66\n",
       "70          AVANTE         AVANTE                                      34\n",
       "17          PSL            PARTIDO SOCIAL LIBERAL                      34\n",
       "10          REPUBLICANOS   REPUBLICANOS                                33\n",
       "40          PSB            PARTIDO SOCIALISTA BRASILEIRO               33\n",
       "45          PSDB           PARTIDO DA SOCIAL DEMOCRACIA BRASILEIRA     33\n",
       "27          DC             DEMOCRACIA CRISTÃ                           33\n",
       "19          PODE           PODEMOS                                     32\n",
       "20          PSC            PARTIDO SOCIAL CRISTÃO                      32\n",
       "90          PROS           PARTIDO REPUBLICANO DA ORDEM SOCIAL         32\n",
       "43          PV             PARTIDO VERDE                               32\n",
       "22          PL             PARTIDO LIBERAL                             31\n",
       "13          PT             PARTIDO DOS TRABALHADORES                   31\n",
       "51          PATRIOTA       PATRIOTA                                    30\n",
       "65          PC do B        PARTIDO COMUNISTA DO BRASIL                 30\n",
       "77          SOLIDARIEDADE  SOLIDARIEDADE                               29\n",
       "15          MDB            MOVIMENTO DEMOCRÁTICO BRASILEIRO            28\n",
       "25          DEM            DEMOCRATAS                                  27\n",
       "14          PTB            PARTIDO TRABALHISTA BRASILEIRO              25\n",
       "55          PSD            PARTIDO SOCIAL DEMOCRÁTICO                  19\n",
       "11          PP             PROGRESSISTAS                               14\n",
       "12          PDT            PARTIDO DEMOCRÁTICO TRABALHISTA             12\n",
       "50          PSOL           PARTIDO SOCIALISMO E LIBERDADE              12\n",
       "30          NOVO           PARTIDO NOVO                                12\n",
       "36          PTC            PARTIDO TRABALHISTA CRISTÃO                 10\n",
       "29          PCO            PARTIDO DA CAUSA OPERÁRIA                    5\n",
       "28          PRTB           PARTIDO RENOVADOR TRABALHISTA BRASILEIRO     2\n",
       "dtype: int64"
      ]
     },
     "execution_count": 81,
     "metadata": {},
     "output_type": "execute_result"
    }
   ],
   "source": [
    "#Essa lista pode ser ordenada do maior para o menor\n",
    "partidos_dos_candidatos_da_cidade.sort_values(ascending=False)"
   ]
  },
  {
   "cell_type": "code",
   "execution_count": null,
   "metadata": {},
   "outputs": [],
   "source": [
    "#Olhar para os candidatos a prefeito"
   ]
  },
  {
   "cell_type": "code",
   "execution_count": 82,
   "metadata": {},
   "outputs": [],
   "source": [
    "is_prefeito = candidatos_da_cidade['DS_CARGO'] == 'PREFEITO'\n",
    "candidatos_prefeito_da_cidade = candidatos_da_cidade[is_prefeito]"
   ]
  },
  {
   "cell_type": "code",
   "execution_count": 85,
   "metadata": {},
   "outputs": [
    {
     "data": {
      "text/html": [
       "<div>\n",
       "<style scoped>\n",
       "    .dataframe tbody tr th:only-of-type {\n",
       "        vertical-align: middle;\n",
       "    }\n",
       "\n",
       "    .dataframe tbody tr th {\n",
       "        vertical-align: top;\n",
       "    }\n",
       "\n",
       "    .dataframe thead th {\n",
       "        text-align: right;\n",
       "    }\n",
       "</style>\n",
       "<table border=\"1\" class=\"dataframe\">\n",
       "  <thead>\n",
       "    <tr style=\"text-align: right;\">\n",
       "      <th></th>\n",
       "      <th>DT_GERACAO</th>\n",
       "      <th>HH_GERACAO</th>\n",
       "      <th>ANO_ELEICAO</th>\n",
       "      <th>CD_TIPO_ELEICAO</th>\n",
       "      <th>NM_TIPO_ELEICAO</th>\n",
       "      <th>NR_TURNO</th>\n",
       "      <th>CD_ELEICAO</th>\n",
       "      <th>DS_ELEICAO</th>\n",
       "      <th>DT_ELEICAO</th>\n",
       "      <th>TP_ABRANGENCIA</th>\n",
       "      <th>...</th>\n",
       "      <th>DS_SIT_TOT_TURNO</th>\n",
       "      <th>ST_REELEICAO</th>\n",
       "      <th>ST_DECLARAR_BENS</th>\n",
       "      <th>NR_PROTOCOLO_CANDIDATURA</th>\n",
       "      <th>NR_PROCESSO</th>\n",
       "      <th>CD_SITUACAO_CANDIDATO_PLEITO</th>\n",
       "      <th>DS_SITUACAO_CANDIDATO_PLEITO</th>\n",
       "      <th>CD_SITUACAO_CANDIDATO_URNA</th>\n",
       "      <th>DS_SITUACAO_CANDIDATO_URNA</th>\n",
       "      <th>ST_CANDIDATO_INSERIDO_URNA</th>\n",
       "    </tr>\n",
       "  </thead>\n",
       "  <tbody>\n",
       "    <tr>\n",
       "      <th>31436</th>\n",
       "      <td>24/10/2020</td>\n",
       "      <td>17:09:46</td>\n",
       "      <td>2020</td>\n",
       "      <td>2</td>\n",
       "      <td>ELEIÇÃO ORDINÁRIA</td>\n",
       "      <td>1</td>\n",
       "      <td>426</td>\n",
       "      <td>Eleições Municipais 2020</td>\n",
       "      <td>15/11/2020</td>\n",
       "      <td>MUNICIPAL</td>\n",
       "      <td>...</td>\n",
       "      <td>#NULO#</td>\n",
       "      <td>N</td>\n",
       "      <td>S</td>\n",
       "      <td>-1</td>\n",
       "      <td>6004471120206050156</td>\n",
       "      <td>-1</td>\n",
       "      <td>#NULO#</td>\n",
       "      <td>-1</td>\n",
       "      <td>#NULO#</td>\n",
       "      <td>SIM</td>\n",
       "    </tr>\n",
       "    <tr>\n",
       "      <th>74167</th>\n",
       "      <td>24/10/2020</td>\n",
       "      <td>17:09:46</td>\n",
       "      <td>2020</td>\n",
       "      <td>2</td>\n",
       "      <td>ELEIÇÃO ORDINÁRIA</td>\n",
       "      <td>1</td>\n",
       "      <td>426</td>\n",
       "      <td>Eleições Municipais 2020</td>\n",
       "      <td>15/11/2020</td>\n",
       "      <td>MUNICIPAL</td>\n",
       "      <td>...</td>\n",
       "      <td>#NULO#</td>\n",
       "      <td>N</td>\n",
       "      <td>S</td>\n",
       "      <td>-1</td>\n",
       "      <td>6005311220206050156</td>\n",
       "      <td>-1</td>\n",
       "      <td>#NULO#</td>\n",
       "      <td>-1</td>\n",
       "      <td>#NULO#</td>\n",
       "      <td>SIM</td>\n",
       "    </tr>\n",
       "    <tr>\n",
       "      <th>77825</th>\n",
       "      <td>24/10/2020</td>\n",
       "      <td>17:09:46</td>\n",
       "      <td>2020</td>\n",
       "      <td>2</td>\n",
       "      <td>ELEIÇÃO ORDINÁRIA</td>\n",
       "      <td>1</td>\n",
       "      <td>426</td>\n",
       "      <td>Eleições Municipais 2020</td>\n",
       "      <td>15/11/2020</td>\n",
       "      <td>MUNICIPAL</td>\n",
       "      <td>...</td>\n",
       "      <td>#NULO#</td>\n",
       "      <td>N</td>\n",
       "      <td>S</td>\n",
       "      <td>-1</td>\n",
       "      <td>6008135020206050156</td>\n",
       "      <td>-1</td>\n",
       "      <td>#NULO#</td>\n",
       "      <td>-1</td>\n",
       "      <td>#NULO#</td>\n",
       "      <td>NÃO</td>\n",
       "    </tr>\n",
       "    <tr>\n",
       "      <th>121827</th>\n",
       "      <td>24/10/2020</td>\n",
       "      <td>17:09:46</td>\n",
       "      <td>2020</td>\n",
       "      <td>2</td>\n",
       "      <td>ELEIÇÃO ORDINÁRIA</td>\n",
       "      <td>1</td>\n",
       "      <td>426</td>\n",
       "      <td>Eleições Municipais 2020</td>\n",
       "      <td>15/11/2020</td>\n",
       "      <td>MUNICIPAL</td>\n",
       "      <td>...</td>\n",
       "      <td>#NULO#</td>\n",
       "      <td>N</td>\n",
       "      <td>S</td>\n",
       "      <td>-1</td>\n",
       "      <td>6005155820206050156</td>\n",
       "      <td>-1</td>\n",
       "      <td>#NULO#</td>\n",
       "      <td>-1</td>\n",
       "      <td>#NULO#</td>\n",
       "      <td>SIM</td>\n",
       "    </tr>\n",
       "    <tr>\n",
       "      <th>341345</th>\n",
       "      <td>24/10/2020</td>\n",
       "      <td>17:09:46</td>\n",
       "      <td>2020</td>\n",
       "      <td>2</td>\n",
       "      <td>ELEIÇÃO ORDINÁRIA</td>\n",
       "      <td>1</td>\n",
       "      <td>426</td>\n",
       "      <td>Eleições Municipais 2020</td>\n",
       "      <td>15/11/2020</td>\n",
       "      <td>MUNICIPAL</td>\n",
       "      <td>...</td>\n",
       "      <td>#NULO#</td>\n",
       "      <td>N</td>\n",
       "      <td>S</td>\n",
       "      <td>-1</td>\n",
       "      <td>6005042920206050156</td>\n",
       "      <td>-1</td>\n",
       "      <td>#NULO#</td>\n",
       "      <td>-1</td>\n",
       "      <td>#NULO#</td>\n",
       "      <td>SIM</td>\n",
       "    </tr>\n",
       "  </tbody>\n",
       "</table>\n",
       "<p>5 rows × 63 columns</p>\n",
       "</div>"
      ],
      "text/plain": [
       "        DT_GERACAO HH_GERACAO  ANO_ELEICAO  CD_TIPO_ELEICAO  \\\n",
       "31436   24/10/2020   17:09:46         2020                2   \n",
       "74167   24/10/2020   17:09:46         2020                2   \n",
       "77825   24/10/2020   17:09:46         2020                2   \n",
       "121827  24/10/2020   17:09:46         2020                2   \n",
       "341345  24/10/2020   17:09:46         2020                2   \n",
       "\n",
       "          NM_TIPO_ELEICAO  NR_TURNO  CD_ELEICAO                DS_ELEICAO  \\\n",
       "31436   ELEIÇÃO ORDINÁRIA         1         426  Eleições Municipais 2020   \n",
       "74167   ELEIÇÃO ORDINÁRIA         1         426  Eleições Municipais 2020   \n",
       "77825   ELEIÇÃO ORDINÁRIA         1         426  Eleições Municipais 2020   \n",
       "121827  ELEIÇÃO ORDINÁRIA         1         426  Eleições Municipais 2020   \n",
       "341345  ELEIÇÃO ORDINÁRIA         1         426  Eleições Municipais 2020   \n",
       "\n",
       "        DT_ELEICAO TP_ABRANGENCIA  ... DS_SIT_TOT_TURNO  ST_REELEICAO  \\\n",
       "31436   15/11/2020      MUNICIPAL  ...           #NULO#             N   \n",
       "74167   15/11/2020      MUNICIPAL  ...           #NULO#             N   \n",
       "77825   15/11/2020      MUNICIPAL  ...           #NULO#             N   \n",
       "121827  15/11/2020      MUNICIPAL  ...           #NULO#             N   \n",
       "341345  15/11/2020      MUNICIPAL  ...           #NULO#             N   \n",
       "\n",
       "       ST_DECLARAR_BENS  NR_PROTOCOLO_CANDIDATURA          NR_PROCESSO  \\\n",
       "31436                 S                        -1  6004471120206050156   \n",
       "74167                 S                        -1  6005311220206050156   \n",
       "77825                 S                        -1  6008135020206050156   \n",
       "121827                S                        -1  6005155820206050156   \n",
       "341345                S                        -1  6005042920206050156   \n",
       "\n",
       "        CD_SITUACAO_CANDIDATO_PLEITO  DS_SITUACAO_CANDIDATO_PLEITO  \\\n",
       "31436                             -1                        #NULO#   \n",
       "74167                             -1                        #NULO#   \n",
       "77825                             -1                        #NULO#   \n",
       "121827                            -1                        #NULO#   \n",
       "341345                            -1                        #NULO#   \n",
       "\n",
       "       CD_SITUACAO_CANDIDATO_URNA DS_SITUACAO_CANDIDATO_URNA  \\\n",
       "31436                          -1                     #NULO#   \n",
       "74167                          -1                     #NULO#   \n",
       "77825                          -1                     #NULO#   \n",
       "121827                         -1                     #NULO#   \n",
       "341345                         -1                     #NULO#   \n",
       "\n",
       "       ST_CANDIDATO_INSERIDO_URNA  \n",
       "31436                         SIM  \n",
       "74167                         SIM  \n",
       "77825                         NÃO  \n",
       "121827                        SIM  \n",
       "341345                        SIM  \n",
       "\n",
       "[5 rows x 63 columns]"
      ]
     },
     "execution_count": 85,
     "metadata": {},
     "output_type": "execute_result"
    }
   ],
   "source": [
    "candidatos_prefeito_da_cidade.head()"
   ]
  },
  {
   "cell_type": "code",
   "execution_count": 86,
   "metadata": {},
   "outputs": [
    {
     "data": {
      "text/plain": [
       "array(['COLBERT MARTINS DA SILVA FILHO', 'ROBERTO LUIS DA SILVA TOURINHO',\n",
       "       'ORLANDO ANDRADE DE JESUS', 'MARCELA PREST',\n",
       "       'JOSE DE ARIMATEIA CORIOLANO DE PAIVA',\n",
       "       'JOSE CERQUEIRA DE SANTANA NETO',\n",
       "       'DAYANE JAMILLE CARNEIRO DOS SANTOS PIMENTEL',\n",
       "       'CARLOS MEDEIROS MIRANDA', 'CARLOS GEILSON DOS SANTOS SILVA',\n",
       "       'NELSON ROBERTO DE OLIVEIRA SILVA'], dtype=object)"
      ]
     },
     "execution_count": 86,
     "metadata": {},
     "output_type": "execute_result"
    }
   ],
   "source": [
    "#Quais os nomes dos candidatos\n",
    "candidatos_prefeito_da_cidade['NM_CANDIDATO'].unique()"
   ]
  },
  {
   "cell_type": "code",
   "execution_count": 91,
   "metadata": {},
   "outputs": [
    {
     "data": {
      "text/plain": [
       "FEIRA DE SANTANA    5\n",
       "ALCOBAÇA            1\n",
       "CARRAPATEIRA        1\n",
       "ALEXANDRIA          1\n",
       "VITÓRIA             1\n",
       "SALVADOR            1\n",
       "Name: NM_MUNICIPIO_NASCIMENTO, dtype: int64"
      ]
     },
     "execution_count": 91,
     "metadata": {},
     "output_type": "execute_result"
    }
   ],
   "source": [
    "#Quais cidades nasceram os candidatos a prefeito?\n",
    "candidatos_prefeito_da_cidade['NM_MUNICIPIO_NASCIMENTO'].value_counts()"
   ]
  },
  {
   "cell_type": "code",
   "execution_count": 97,
   "metadata": {},
   "outputs": [
    {
     "data": {
      "text/html": [
       "<div>\n",
       "<style scoped>\n",
       "    .dataframe tbody tr th:only-of-type {\n",
       "        vertical-align: middle;\n",
       "    }\n",
       "\n",
       "    .dataframe tbody tr th {\n",
       "        vertical-align: top;\n",
       "    }\n",
       "\n",
       "    .dataframe thead th {\n",
       "        text-align: right;\n",
       "    }\n",
       "</style>\n",
       "<table border=\"1\" class=\"dataframe\">\n",
       "  <thead>\n",
       "    <tr style=\"text-align: right;\">\n",
       "      <th></th>\n",
       "      <th>NM_CANDIDATO</th>\n",
       "      <th>NM_MUNICIPIO_NASCIMENTO</th>\n",
       "    </tr>\n",
       "  </thead>\n",
       "  <tbody>\n",
       "    <tr>\n",
       "      <th>74167</th>\n",
       "      <td>ROBERTO LUIS DA SILVA TOURINHO</td>\n",
       "      <td>SALVADOR</td>\n",
       "    </tr>\n",
       "    <tr>\n",
       "      <th>121827</th>\n",
       "      <td>MARCELA PREST</td>\n",
       "      <td>VITÓRIA</td>\n",
       "    </tr>\n",
       "    <tr>\n",
       "      <th>341345</th>\n",
       "      <td>JOSE DE ARIMATEIA CORIOLANO DE PAIVA</td>\n",
       "      <td>ALEXANDRIA</td>\n",
       "    </tr>\n",
       "    <tr>\n",
       "      <th>483741</th>\n",
       "      <td>CARLOS MEDEIROS MIRANDA</td>\n",
       "      <td>ALCOBAÇA</td>\n",
       "    </tr>\n",
       "    <tr>\n",
       "      <th>505903</th>\n",
       "      <td>NELSON ROBERTO DE OLIVEIRA SILVA</td>\n",
       "      <td>CARRAPATEIRA</td>\n",
       "    </tr>\n",
       "  </tbody>\n",
       "</table>\n",
       "</div>"
      ],
      "text/plain": [
       "                                NM_CANDIDATO NM_MUNICIPIO_NASCIMENTO\n",
       "74167         ROBERTO LUIS DA SILVA TOURINHO                SALVADOR\n",
       "121827                         MARCELA PREST                 VITÓRIA\n",
       "341345  JOSE DE ARIMATEIA CORIOLANO DE PAIVA              ALEXANDRIA\n",
       "483741               CARLOS MEDEIROS MIRANDA                ALCOBAÇA\n",
       "505903      NELSON ROBERTO DE OLIVEIRA SILVA            CARRAPATEIRA"
      ]
     },
     "execution_count": 97,
     "metadata": {},
     "output_type": "execute_result"
    }
   ],
   "source": [
    "#Alguns candidatos não nasceram na cidade escolhida. Quem são e onde nasceram?\n",
    "nascimento_outra_cidade = candidatos_prefeito_da_cidade['NM_MUNICIPIO_NASCIMENTO'] != cidade\n",
    "candidatos_prefeito_da_cidade[nascimento_outra_cidade][['NM_CANDIDATO','NM_MUNICIPIO_NASCIMENTO']]"
   ]
  },
  {
   "cell_type": "code",
   "execution_count": 98,
   "metadata": {},
   "outputs": [
    {
     "data": {
      "text/plain": [
       "MASCULINO    8\n",
       "FEMININO     2\n",
       "Name: DS_GENERO, dtype: int64"
      ]
     },
     "execution_count": 98,
     "metadata": {},
     "output_type": "execute_result"
    }
   ],
   "source": [
    "#Generos dos candidatos\n",
    "candidatos_prefeito_da_cidade['DS_GENERO'].value_counts()"
   ]
  },
  {
   "cell_type": "code",
   "execution_count": 101,
   "metadata": {},
   "outputs": [
    {
     "data": {
      "text/plain": [
       "<matplotlib.axes._subplots.AxesSubplot at 0x7fd24ab9e430>"
      ]
     },
     "execution_count": 101,
     "metadata": {},
     "output_type": "execute_result"
    },
    {
     "data": {
      "image/png": "[encoded data removed]",
      "text/plain": [
       "<Figure size 432x288 with 1 Axes>"
      ]
     },
     "metadata": {
      "needs_background": "light"
     },
     "output_type": "display_data"
    }
   ],
   "source": [
    "#Colocando isso numa visualização\n",
    "genero_candidatos_prefeito = candidatos_prefeito_da_cidade['DS_GENERO'].value_counts()\n",
    "genero_candidatos_prefeito.plot.bar(x='DS_GENERO', rot=0)"
   ]
  },
  {
   "cell_type": "code",
   "execution_count": 105,
   "metadata": {},
   "outputs": [
    {
     "data": {
      "text/plain": [
       "<matplotlib.axes._subplots.AxesSubplot at 0x7fd2476e2f40>"
      ]
     },
     "execution_count": 105,
     "metadata": {},
     "output_type": "execute_result"
    },
    {
     "data": {
      "image/png": "[encoded data removed]",
      "text/plain": [
       "<Figure size 432x288 with 1 Axes>"
      ]
     },
     "metadata": {
      "needs_background": "light"
     },
     "output_type": "display_data"
    }
   ],
   "source": [
    "#Colocar em gráfico de barras qualquer uma das categorias\n",
    "coluna = 'DS_COR_RACA'\n",
    "coluna_candidatos_prefeito = candidatos_prefeito_da_cidade[coluna].value_counts()\n",
    "coluna_candidatos_prefeito.plot.bar(x=coluna, rot=0)"
   ]
  },
  {
   "cell_type": "code",
   "execution_count": null,
   "metadata": {},
   "outputs": [],
   "source": []
  },
  {
   "cell_type": "code",
   "execution_count": null,
   "metadata": {},
   "outputs": [],
   "source": []
  }
 ],
 "metadata": {
  "kernelspec": {
   "display_name": "Python 3.8.3 64-bit ('feira_analises': conda)",
   "language": "python",
   "name": "python38364bitfeiraanalisesconda572a959c4b174d6f996d5ce66ddfed87"
  },
  "language_info": {
   "codemirror_mode": {
    "name": "ipython",
    "version": 3
   },
   "file_extension": ".py",
   "mimetype": "text/x-python",
   "name": "python",
   "nbconvert_exporter": "python",
   "pygments_lexer": "ipython3",
   "version": "3.8.3"
  }
 },
 "nbformat": 4,
 "nbformat_minor": 4
}
