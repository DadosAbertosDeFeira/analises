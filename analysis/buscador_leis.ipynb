{
 "cells": [
  {
   "cell_type": "code",
   "execution_count": 1,
   "metadata": {},
   "outputs": [],
   "source": [
    "import pandas as pd\n",
    "import matplotlib.pyplot as plt"
   ]
  },
  {
   "cell_type": "code",
   "execution_count": 2,
   "metadata": {
    "tags": []
   },
   "outputs": [
    {
     "output_type": "stream",
     "name": "stdout",
     "text": "<class 'pandas.core.frame.DataFrame'>\nRangeIndex: 6033 entries, 0 to 6032\nData columns (total 4 columns):\n #   Column     Non-Null Count  Dtype \n---  ------     --------------  ----- \n 0   titulo     6033 non-null   object\n 1   categoria  6033 non-null   object\n 2   resumo     6033 non-null   object\n 3   texto      6033 non-null   object\ndtypes: object(4)\nmemory usage: 188.7+ KB\nNone\ntitulo       6033\ncategoria       8\nresumo       4961\ntexto        6029\ndtype: int64\n"
    }
   ],
   "source": [
    "leis = pd.read_json('leis.json')\n",
    "leis.drop(['documento'], inplace=True, axis=1)\n",
    "print(leis.info())\n",
    "print(leis.nunique())"
   ]
  },
  {
   "cell_type": "code",
   "execution_count": 3,
   "metadata": {},
   "outputs": [
    {
     "output_type": "execute_result",
     "data": {
      "text/plain": "                                            titulo   categoria  \\\n0     DECRETO Nº 8854, de 28 de fevereiro de 2013.    Decretos   \n1     DECRETO Nº 8849, de 25 de fevereiro de 2013.    Decretos   \n2     DECRETO Nº 8853, de 27 de fevereiro de 2013.    Decretos   \n3          DECRETO Nº 8967, de 17 de julho de 2013    Decretos   \n4          DECRETO Nº 8982, de 30 de julho de 2013    Decretos   \n...                                            ...         ...   \n6028                         RESOLUÇÃO Nº 125/1980  Resoluções   \n6029                         RESOLUÇÃO Nº 403/2003  Resoluções   \n6030                         RESOLUÇÃO Nº 492/2014  Resoluções   \n6031                         RESOLUÇÃO Nº 382/2001  Resoluções   \n6032                         RESOLUÇÃO Nº 431/2004  Resoluções   \n\n                                                 resumo  \\\n0     DELEGA COMPETÊNCIA À SECRETARIA MUNICIPAL DE P...   \n1     ABRE CRÉDITO SUPLEMENTAR AO ORÇAMENTO DO MUNIC...   \n2     NOMEIA MEMBROS DO CONSELHO MUNICIPAL DE DESENV...   \n3     ALTERA O QUADRO DE DETALHAMENTO DE DESPESA DO ...   \n4     AUTORIZA O FUNCIONAMENTO DE ESTABELECIMENTOS C...   \n...                                                 ...   \n6028  DISPÕE SOBRE A CONCESSÃO DE TÍTULO DE CIDADÃO ...   \n6029  AUTORIZA A MESA DIRETIVA DO PODER LEGISLATIVO ...   \n6030  INSTITUI A SEGUNDA SEMANA DO MÊS DE AGOSTO EM ...   \n6031  CRIA A MEDALHA VEREADOR DIVAL FIGUEIREDO MACHA...   \n6032  MODIFICA E SUPRIME DISPOSITIVOS DA RESOLUÇÃO N...   \n\n                                                  texto  \n0     O PREFEITO MUNICIPAL DE FEIRA DE SANTANA, Esta...  \n1     O PREFEITO MUNICIPAL DE FEIRA DE SANTANA, Esta...  \n2     O PREFEITO MUNICIPAL DE FEIRA DE SANTANA, Esta...  \n3     O PREFEITO MUNICIPAL DE FEIRA DE SANTANA, Esta...  \n4     O PREFEITO MUNICIPAL DE FEIRA DE SANTANA, Esta...  \n...                                                 ...  \n6028  Faço saber que a Câmara Municipal aprovou e eu...  \n6029  A CÂMARA MUNICIPAL DE FEIRA DE SANTANA, Estado...  \n6030  A CÂMARA MUNICIPAL DE FEIRA DE SANTANA, Estado...  \n6031  A CÂMARA MUNICIPAL DE FEIRA DE SANTANA, Estado...  \n6032  A CÂMARA MUNICIPAL DE FEIRA DE SANTANA, Estado...  \n\n[6033 rows x 4 columns]",
      "text/html": "<div>\n<style scoped>\n    .dataframe tbody tr th:only-of-type {\n        vertical-align: middle;\n    }\n\n    .dataframe tbody tr th {\n        vertical-align: top;\n    }\n\n    .dataframe thead th {\n        text-align: right;\n    }\n</style>\n<table border=\"1\" class=\"dataframe\">\n  <thead>\n    <tr style=\"text-align: right;\">\n      <th></th>\n      <th>titulo</th>\n      <th>categoria</th>\n      <th>resumo</th>\n      <th>texto</th>\n    </tr>\n  </thead>\n  <tbody>\n    <tr>\n      <th>0</th>\n      <td>DECRETO Nº 8854, de 28 de fevereiro de 2013.</td>\n      <td>Decretos</td>\n      <td>DELEGA COMPETÊNCIA À SECRETARIA MUNICIPAL DE P...</td>\n      <td>O PREFEITO MUNICIPAL DE FEIRA DE SANTANA, Esta...</td>\n    </tr>\n    <tr>\n      <th>1</th>\n      <td>DECRETO Nº 8849, de 25 de fevereiro de 2013.</td>\n      <td>Decretos</td>\n      <td>ABRE CRÉDITO SUPLEMENTAR AO ORÇAMENTO DO MUNIC...</td>\n      <td>O PREFEITO MUNICIPAL DE FEIRA DE SANTANA, Esta...</td>\n    </tr>\n    <tr>\n      <th>2</th>\n      <td>DECRETO Nº 8853, de 27 de fevereiro de 2013.</td>\n      <td>Decretos</td>\n      <td>NOMEIA MEMBROS DO CONSELHO MUNICIPAL DE DESENV...</td>\n      <td>O PREFEITO MUNICIPAL DE FEIRA DE SANTANA, Esta...</td>\n    </tr>\n    <tr>\n      <th>3</th>\n      <td>DECRETO Nº 8967, de 17 de julho de 2013</td>\n      <td>Decretos</td>\n      <td>ALTERA O QUADRO DE DETALHAMENTO DE DESPESA DO ...</td>\n      <td>O PREFEITO MUNICIPAL DE FEIRA DE SANTANA, Esta...</td>\n    </tr>\n    <tr>\n      <th>4</th>\n      <td>DECRETO Nº 8982, de 30 de julho de 2013</td>\n      <td>Decretos</td>\n      <td>AUTORIZA O FUNCIONAMENTO DE ESTABELECIMENTOS C...</td>\n      <td>O PREFEITO MUNICIPAL DE FEIRA DE SANTANA, Esta...</td>\n    </tr>\n    <tr>\n      <th>...</th>\n      <td>...</td>\n      <td>...</td>\n      <td>...</td>\n      <td>...</td>\n    </tr>\n    <tr>\n      <th>6028</th>\n      <td>RESOLUÇÃO Nº 125/1980</td>\n      <td>Resoluções</td>\n      <td>DISPÕE SOBRE A CONCESSÃO DE TÍTULO DE CIDADÃO ...</td>\n      <td>Faço saber que a Câmara Municipal aprovou e eu...</td>\n    </tr>\n    <tr>\n      <th>6029</th>\n      <td>RESOLUÇÃO Nº 403/2003</td>\n      <td>Resoluções</td>\n      <td>AUTORIZA A MESA DIRETIVA DO PODER LEGISLATIVO ...</td>\n      <td>A CÂMARA MUNICIPAL DE FEIRA DE SANTANA, Estado...</td>\n    </tr>\n    <tr>\n      <th>6030</th>\n      <td>RESOLUÇÃO Nº 492/2014</td>\n      <td>Resoluções</td>\n      <td>INSTITUI A SEGUNDA SEMANA DO MÊS DE AGOSTO EM ...</td>\n      <td>A CÂMARA MUNICIPAL DE FEIRA DE SANTANA, Estado...</td>\n    </tr>\n    <tr>\n      <th>6031</th>\n      <td>RESOLUÇÃO Nº 382/2001</td>\n      <td>Resoluções</td>\n      <td>CRIA A MEDALHA VEREADOR DIVAL FIGUEIREDO MACHA...</td>\n      <td>A CÂMARA MUNICIPAL DE FEIRA DE SANTANA, Estado...</td>\n    </tr>\n    <tr>\n      <th>6032</th>\n      <td>RESOLUÇÃO Nº 431/2004</td>\n      <td>Resoluções</td>\n      <td>MODIFICA E SUPRIME DISPOSITIVOS DA RESOLUÇÃO N...</td>\n      <td>A CÂMARA MUNICIPAL DE FEIRA DE SANTANA, Estado...</td>\n    </tr>\n  </tbody>\n</table>\n<p>6033 rows × 4 columns</p>\n</div>"
     },
     "metadata": {},
     "execution_count": 3
    }
   ],
   "source": [
    "leis"
   ]
  },
  {
   "cell_type": "code",
   "execution_count": 4,
   "metadata": {},
   "outputs": [
    {
     "output_type": "execute_result",
     "data": {
      "text/plain": "'A CÂMARA MUNICIPAL DE FEIRA DE SANTANA, Estado da Bahia, na conformidade do artigo 70, Inciso V, da Lei Municipal nº37, de 05 de Abril de 1990 e, artigos 287, § 2º e, 420, do Regimento Interno, promulga a seguinte Resolução:\\n\\nArt. 1ºDê-se aos dispositivos abaixo mencionados, da Resolução nº393/2002 - Regimento Interno, as seguintes redações:\\n\\n\"Art. 7º A Mesa Diretora da Câmara compor-se-á do Presidente, Primeiro e Segundo Secretários, com mandato de 02 ( dois ) anos, admitida a recondução para a eleição subsequente.\\n\\n§ 4º Se, hora regimental, não estiver presente o Presidente, abrirá os trabalhos o Vice-Presidente ou, na falta deste, o Primeiro ou Segundo Secretários, na sequência, ou ainda, caso estes não estejam presentes, o Vereador mais votado nas eleições municipais.\"\\n\\n\"Art. 33 Compete, privativamente, ao Vice-Presidente:\"\\n\\n\"Art. 36 ...\\n\\nI - ...\\n\\ne) acompanhar e supervisionar a Ata da Sessão, proceder a sua leitura e assiná-la depois do Presidente e do Vice-Presidente.\\n\\nII - ...\\n\\nc) assinar, depois do Presidente e do Vice-Presidente, os atos da Mesa Diretora.\\n\\nParágrafo Único - O Primeiro Secretário será substituído em suas faltas, ausências, impedimentos ou licenças, havendo nas duas últimas hipóteses investidura na plenitude da respectiva função, pelo Segundo Secretário.\"\\n\\n\"Art. 48 As Comissões Permanentes, em número de 05 ( cinco ), são as seguinte:\\n\\nI - ...\\n\\nII - ...\\n\\nIII - ...\\n\\nIV - ...\\n\\nV - Comissão de Meio Ambiente, Direitos Humanos e Defesa do Consumidor.\"\\n\\n\"Art. 57 ...\\n\\nI - ...\\n\\nII - ...\\n\\nIII - ...\\n\\nIV - ...\\n\\nV - da Comissão de Meio Ambiente, Direitos Humanos e Defesa do Consumidor.\"\\n\\n\"a) ...\\n\\n1 - ...\\n2 - ...\\n3 - ...\\nb) ...\\nc) ...\\nd) ...\\ne) opinar sobre todas as proposições que digam respeito aos direitos humanos, especialmente àquelas que envolvam matérias referentes à criança, adolescente e idoso;\\nf) propor iniciativas relacionadas a direitos humanos;\\ng) receber reclamações e encaminhá-las aos órgãos competentes;\\nh) propor ações de combate ao rascismo e discriminação de qualquer natureza, bem como manter intercâmbio com órgãos públicos, entidades civis e filantrópicas sem fins lucrativos, para atender o disposto na alínea anterior;\\ni) divulga a legislação que trata dos direitos da mulher trabalhadora urbana e rural;\\nj) propor ações de combate à violência e prostituição infanto-juvenil;\\nk) opinar sobre proposições que versem a respeito da saúde da mulher, planejamento familiar e assistência social;\\nl) fiscalizar, em conjunto com a Delegacia Regional do Trabalho, a instalação de creches nas empresas e demais locais de trabalhos, exigidos por lei;\\nm) opinar sobre proposições relativas a produtos, serviços e, quando cabível, contratos que norteiam as relações de consumo;\\nn) desenvolver ampla divulgação da legislação e dos programas de defesa do consumidor;\\no) propor a criação de políticas e instrumentos de defesa do consumidor, em conjunto com os demais órgãos públicos e particulares;\\np) fiscalizar os produtos de consumo e seu fornecimento, e zelar pela sua qualidade;\\nq) receber reclamações e encaminhá-las ao órgão competente.\"\\n\\n\"Art. 164 O Líder e Vice-Líder podem fazer parte de Comissões Permanentes e Temporárias, exceto o Líder e Vice-Líder do Governo.\"\\n\\n\"Art. 168 Lavrar-se-á a ata, com o resumo dos trabalhos de cada sessão, cujo redação obedecerá ao padrão uniforme adotado pela Mesa Diretora.\"\\n\\n\"Art. 188 As atas serão organizadas em anais, por ordem cronológica, por período legislativo e recolhidas ao Arquivo da Câmara.\"\\n\\n\"Art. 190 Os Vereadores só poderão falar sobre a ata para impugná-la ou retificá-la no todo em parte, logo após a leitura da mesma.\\n\\n§ 1º A discussão sobre a impugnação ou retificação da ata não poderá exceder o tempo destinado ao Grande Expediente, que nesta hipótese ficará prejudicado.\"\\n\\n\"Art. 199 Aberto a sessão, o Segundo Secretário fará a leitura da ata anterior, que o Presidente submeterá à apreciação do Plenário.\"\\n\\n\"Art. 200 Após a leitura da ata, o Primeiro Secretário procederá a leitura de:\"\\n\\n\"Art. 413 - ...\\n\\nParágrafo Único - Caso o Presidente da Câmara não promulgue a lei, caberá ao Vice-Presidente promulgá-la.\"\\n\\n\"Art. 418 - ...\\n\\n§ 2º Se lei não for promulgada dentro de 48 ( quarenta e oito ) horas o Presidente da Câmara Municipal a promulgará, e se este em igual prazo, não o fizer, fá-lo-á obrigatoriamente, o Vice-Presidente.\"\\n\\nArt. 2ºDê-se ao capítulo III, do Título VII - Da Elaboração Legislativo Especial, a seguinte redação:\\n\\n\\n\"CapítuloIII\\nDA CONCESSÃO DE HONRARIAS\\n\\n\\nSEÇÃO I\\nDAS HONRARIAS\"\\n\\n\\n\\n\"Art. 402 - A Câmara Municipal concederá o Título Honorífico de Cidadão Feirense a pessoas, pelos seus relevantes e notórios serviços prestados ao Município e ao seu povo.\"\\n\\n\"Art. 403 - A Câmara Municipal também concederá:\\n\\na) Comenda - Maria Quitéria, Áureo Filho, Filinto Justiniano Ferreira Bastos, Padre Ovídio Alves de São Boaventura, Godofredo Rebello de Figueiredo Filho, Maestro Tertuliano Ferreira Santos, Armando Curvelo de Menezes e, Dr. Gastão Guimarães;\\nb) Medalhas - Mérito de Meio Ambiente, Fundação Senhor dos Passos, Vereador Dival Figueiredo Machado, Missionário Roderick Murdo Gillanders, Mérito Rotário, Zumbi dos Palmares e Arquiteto Anápio Aurélio de Miranda;\\nc) Certificados - Verde e, de Excelência.\"\\n\\n\\n\"SEÇÃO\\nDISPOSIÇÕES GERAIS\"\\n\\n\\n\"Art. 404 - O Projeto de Decreto Legislativo destinado a concessão de honrarias, deverá ser apresentado por, no mínimo, 2/3 ( dois terços ) dos membros da Câmara e, acompanhado de justificativa, além de, biografia quando inerente a pessoa física.\\n\\n§ 1º Recebido o Projeto de Decreto Legislativo, o mesmo após lido, será encaminhado à Comissão de Constituição Justiça e Redação que, dentro de 10 ( dez ) dias, emitirá parecer fundamentado, o qual após lido será pautado para a Ordem do Dia da sessão seguinte.\\n\\n§ 2º Será considerado aprovado o Projeto de Decreto Legislativo que obtiver 2/3 ( dois terços ) de votos favoráveis dos membros da Câmara.\\n\\n§ 3º Cada Vereador poderá apresentar 08 ( oito ) projetos de Decreto Legislativo por legislatura destinados a concessão do Título de Cidadão Feirense, enquanto que as demais Honrarias tem suas quantidades estabelecidas nas Resoluções que as instituíram.\"\\n\\n\"Art. 405 - As honrarias poderão ser cassadas, caso os homenageados tenham comprovadamente praticado atos que colidam com os motivos que as ensejam\\n\\nParágrafo Único - Aplicam-se os dispositivos desta Seção, no que couber, ao Projeto de Decreto Legislativo de cassação da honraria\"\\n\\nArt. 3ºSuprima-se os dispositivos abaixo mencionados, e dê-se nova numeração aos demais:\\n\\n\"a) artigos - 34,37. 87, 99, 100, 102, 124, 187, 189, 191, 192, 193, 223, 356, 417;\\nb) parágrafos - 3º do art. 101, 4º do art. 135 e único do art. 199;\"\\n\\nArt. 4ºEsta Resolução entrará em vigor na data de sua publicação, produzindo seus efeitos a partir de 1º de Janeiro de 2005, revogadas as disposições em contrário.\\n\\nMESA DIRETIVA DA CÂMARA MUNICIPAL DE FEIRA DE SANTANA, 26 de Outubro de 2004.\\n\\nVer. ANTÔNIO CARLOS DALTRO COELHO\\nPresidente\\n\\nVer. GENÉSIO SERAFIM DE LIMA\\n1º Secretário\\n\\nVer. JORGE RAIMUNDO DE OLIVEIRA SILVA\\n2º Secretário'"
     },
     "metadata": {},
     "execution_count": 4
    }
   ],
   "source": [
    "# Exemplo de texto de lei\n",
    "leis.loc[len(leis)-1, 'texto']"
   ]
  },
  {
   "cell_type": "markdown",
   "metadata": {},
   "source": [
    "# Semelhança de documentos"
   ]
  },
  {
   "cell_type": "code",
   "execution_count": 6,
   "metadata": {},
   "outputs": [],
   "source": [
    "from scripts.parsers import limpa_texto\n",
    "leis['texto_limpo'] = leis['texto'].apply(limpa_texto)"
   ]
  },
  {
   "cell_type": "code",
   "execution_count": 7,
   "metadata": {},
   "outputs": [
    {
     "output_type": "execute_result",
     "data": {
      "text/plain": "<6033x28875 sparse matrix of type '<class 'numpy.int64'>'\n\twith 534596 stored elements in Compressed Sparse Row format>"
     },
     "metadata": {},
     "execution_count": 7
    }
   ],
   "source": [
    "# Constrói matriz de documentos\n",
    "from sklearn.feature_extraction.text import CountVectorizer, TfidfTransformer\n",
    "vectorizer = CountVectorizer()\n",
    "X = vectorizer.fit_transform(leis['texto_limpo'])\n",
    "X"
   ]
  },
  {
   "cell_type": "code",
   "execution_count": 8,
   "metadata": {
    "tags": []
   },
   "outputs": [],
   "source": [
    "def print_lei_mais_sem(orig_idx : int, sem_idx: int):\n",
    "    print(f'- - - LEI COMPARADA {orig_idx}: - - -\\n\\n')\n",
    "    print(leis.loc[orig_idx, 'texto'])\n",
    "    print(f'\\n\\n- - - LEI MAIS SEMELHANTE {sem_idx} - - -\\n\\n')\n",
    "    print(leis.loc[sem_idx, 'texto'])"
   ]
  },
  {
   "cell_type": "code",
   "execution_count": 9,
   "metadata": {
    "tags": []
   },
   "outputs": [
    {
     "output_type": "execute_result",
     "data": {
      "text/plain": "<6033x28875 sparse matrix of type '<class 'numpy.float64'>'\n\twith 534596 stored elements in Compressed Sparse Row format>"
     },
     "metadata": {},
     "execution_count": 9
    }
   ],
   "source": [
    "# Calcular similaridade usando TF-IDF agora\n",
    "# Comparar com a mesma lei original anterior\n",
    "transformer = TfidfTransformer()\n",
    "X_tfidf = transformer.fit_transform(X)\n",
    "\n",
    "X_tfidf"
   ]
  },
  {
   "cell_type": "markdown",
   "metadata": {},
   "source": [
    "# Buscas por texto\n",
    "\n",
    "Já vimos que TF-IDF encontra Leis bastante similares entre si. Será que conseguimos também encontrar leis similares a uma query (consulta)? \n",
    "\n",
    "Primeiro temos que limpar o texto da consulta utilizando o mesmo método de limpeza das leis. Depois, transformar a consulta pra utilizar o IDF do modelo treinado. Finalmente, calcular a similaridade desta consulta pra todas as leis na base e retornar a mais próxima ou mais próximas."
   ]
  },
  {
   "cell_type": "code",
   "execution_count": 14,
   "metadata": {},
   "outputs": [],
   "source": [
    "consulta = ['winterianus']\n",
    "consulta[0] = limpa_texto(consulta[0])\n",
    "consulta = vectorizer.transform(consulta)\n",
    "consulta = transformer.transform(consulta)"
   ]
  },
  {
   "cell_type": "code",
   "execution_count": 15,
   "metadata": {
    "tags": [
     "outputPrepend"
    ]
   },
   "outputs": [
    {
     "output_type": "stream",
     "name": "stdout",
     "text": " Diego de Oliveira Silva Azevedo\nf) Sônia Maria Tavares Rodrigues de Melo Mascarenhas\ng) Patrícia Nascimento de Jesus\".\n\nArt. 2ºO § 1º, do art. 2º, do Decreto nº8.834, de 10 de janeiro de 2013, passa a viger com a seguinte redação:\n\n\"§ 1º A Presidência da Comissão será exercida pela servidora ADRIANA ESTELA BARBOSA ASSIS, e nas suas ausências ou impedimentos pela servidora CAROLINE SUZART COTIAS FREITAS, ou outro qualquer titular, desde que designado pela Presidência.\"\n\nArt. 3ºO § 2º, do art. 2º, do Decreto nº8.834, de 10 de janeiro de 2013, passa a ter a seguinte redação:\n\n\"2º Nos Pregões Eletrônicos, bem como nos Pregões Presenciais, a titularidade ficará a cargo da Pregoeira Municipal ADRIANA ESTELA BARBOSA ASSIS, e nas suas ausências ou impedimentos pelos membros titulares CADMIEL MASCARENHAS PEREIRA, CAROLINE SUZART COTIAS FREITAS, GISELLE CRISTINE DE GÓES COSTA BOTELHO, ou AIDIL PINHEIRO DO NASCIMENTO, podendo requisitar também os demais membros Titulares, Suplentes e Assistentes da Comissão Permanente de Licitação.\"\n\nArt. 4ºO art. 3º, do Decreto nº8.834, de 10 de janeiro de 2013, passa a viger com os seguintes nomes:\n\n\"I - Ana Marta das Merces Costa\n\nII - Elidiane Pedreira da Silva\n\nIII - Marilândia da Luz Maia\n\nIV - João Pinto de Queiroz Falcão\n\nV - Michele Costa Santos\n\nVI - Ana Maria de Cerqueira Figueiredo\n\nVII - Claudia Oliveira Vilas Boas\n\nVIII - Nilda Silva Muniz Sousa\n\nIX - Sirleide de Oliveira Rodrigues Araújo\"\n\nArt. 5ºEste Decreto entrará em vigor na data de sua publicação, revogadas as disposições em contrário.\n\nGabinete do Prefeito Municipal, 27 de junho de 2013.\n\nJOSÉ RONALDO DE CARVALHO\nPrefeito Municipal\n\nMÁRIO COSTA BORGES\nChefe de Gabinete do Prefeito\n\nJOÃO MARINHO GOMES JÚNIOR\nSecretário Municipal de Administração\n\n---proximo resultado---\n\nA CÂMARA MUNICIPAL DE FEIRA DE SANTANA, Estado da Bahia, na conformidade do artigo 70, Inciso V, da Lei Municipal nº37, de 05 de Abril de 1990 e, artigos 287, § 2º e, 420, do Regimento Interno, promulga a seguinte Resolução:\n\nArt. 1ºDê-se aos dispositivos abaixo mencionados, da Resolução nº393/2002 - Regimento Interno, as seguintes redações:\n\n\"Art. 7º A Mesa Diretora da Câmara compor-se-á do Presidente, Primeiro e Segundo Secretários, com mandato de 02 ( dois ) anos, admitida a recondução para a eleição subsequente.\n\n§ 4º Se, hora regimental, não estiver presente o Presidente, abrirá os trabalhos o Vice-Presidente ou, na falta deste, o Primeiro ou Segundo Secretários, na sequência, ou ainda, caso estes não estejam presentes, o Vereador mais votado nas eleições municipais.\"\n\n\"Art. 33 Compete, privativamente, ao Vice-Presidente:\"\n\n\"Art. 36 ...\n\nI - ...\n\ne) acompanhar e supervisionar a Ata da Sessão, proceder a sua leitura e assiná-la depois do Presidente e do Vice-Presidente.\n\nII - ...\n\nc) assinar, depois do Presidente e do Vice-Presidente, os atos da Mesa Diretora.\n\nParágrafo Único - O Primeiro Secretário será substituído em suas faltas, ausências, impedimentos ou licenças, havendo nas duas últimas hipóteses investidura na plenitude da respectiva função, pelo Segundo Secretário.\"\n\n\"Art. 48 As Comissões Permanentes, em número de 05 ( cinco ), são as seguinte:\n\nI - ...\n\nII - ...\n\nIII - ...\n\nIV - ...\n\nV - Comissão de Meio Ambiente, Direitos Humanos e Defesa do Consumidor.\"\n\n\"Art. 57 ...\n\nI - ...\n\nII - ...\n\nIII - ...\n\nIV - ...\n\nV - da Comissão de Meio Ambiente, Direitos Humanos e Defesa do Consumidor.\"\n\n\"a) ...\n\n1 - ...\n2 - ...\n3 - ...\nb) ...\nc) ...\nd) ...\ne) opinar sobre todas as proposições que digam respeito aos direitos humanos, especialmente àquelas que envolvam matérias referentes à criança, adolescente e idoso;\nf) propor iniciativas relacionadas a direitos humanos;\ng) receber reclamações e encaminhá-las aos órgãos competentes;\nh) propor ações de combate ao rascismo e discriminação de qualquer natureza, bem como manter intercâmbio com órgãos públicos, entidades civis e filantrópicas sem fins lucrativos, para atender o disposto na alínea anterior;\ni) divulga a legislação que trata dos direitos da mulher trabalhadora urbana e rural;\nj) propor ações de combate à violência e prostituição infanto-juvenil;\nk) opinar sobre proposições que versem a respeito da saúde da mulher, planejamento familiar e assistência social;\nl) fiscalizar, em conjunto com a Delegacia Regional do Trabalho, a instalação de creches nas empresas e demais locais de trabalhos, exigidos por lei;\nm) opinar sobre proposições relativas a produtos, serviços e, quando cabível, contratos que norteiam as relações de consumo;\nn) desenvolver ampla divulgação da legislação e dos programas de defesa do consumidor;\no) propor a criação de políticas e instrumentos de defesa do consumidor, em conjunto com os demais órgãos públicos e particulares;\np) fiscalizar os produtos de consumo e seu fornecimento, e zelar pela sua qualidade;\nq) receber reclamações e encaminhá-las ao órgão competente.\"\n\n\"Art. 164 O Líder e Vice-Líder podem fazer parte de Comissões Permanentes e Temporárias, exceto o Líder e Vice-Líder do Governo.\"\n\n\"Art. 168 Lavrar-se-á a ata, com o resumo dos trabalhos de cada sessão, cujo redação obedecerá ao padrão uniforme adotado pela Mesa Diretora.\"\n\n\"Art. 188 As atas serão organizadas em anais, por ordem cronológica, por período legislativo e recolhidas ao Arquivo da Câmara.\"\n\n\"Art. 190 Os Vereadores só poderão falar sobre a ata para impugná-la ou retificá-la no todo em parte, logo após a leitura da mesma.\n\n§ 1º A discussão sobre a impugnação ou retificação da ata não poderá exceder o tempo destinado ao Grande Expediente, que nesta hipótese ficará prejudicado.\"\n\n\"Art. 199 Aberto a sessão, o Segundo Secretário fará a leitura da ata anterior, que o Presidente submeterá à apreciação do Plenário.\"\n\n\"Art. 200 Após a leitura da ata, o Primeiro Secretário procederá a leitura de:\"\n\n\"Art. 413 - ...\n\nParágrafo Único - Caso o Presidente da Câmara não promulgue a lei, caberá ao Vice-Presidente promulgá-la.\"\n\n\"Art. 418 - ...\n\n§ 2º Se lei não for promulgada dentro de 48 ( quarenta e oito ) horas o Presidente da Câmara Municipal a promulgará, e se este em igual prazo, não o fizer, fá-lo-á obrigatoriamente, o Vice-Presidente.\"\n\nArt. 2ºDê-se ao capítulo III, do Título VII - Da Elaboração Legislativo Especial, a seguinte redação:\n\n\n\"CapítuloIII\nDA CONCESSÃO DE HONRARIAS\n\n\nSEÇÃO I\nDAS HONRARIAS\"\n\n\n\n\"Art. 402 - A Câmara Municipal concederá o Título Honorífico de Cidadão Feirense a pessoas, pelos seus relevantes e notórios serviços prestados ao Município e ao seu povo.\"\n\n\"Art. 403 - A Câmara Municipal também concederá:\n\na) Comenda - Maria Quitéria, Áureo Filho, Filinto Justiniano Ferreira Bastos, Padre Ovídio Alves de São Boaventura, Godofredo Rebello de Figueiredo Filho, Maestro Tertuliano Ferreira Santos, Armando Curvelo de Menezes e, Dr. Gastão Guimarães;\nb) Medalhas - Mérito de Meio Ambiente, Fundação Senhor dos Passos, Vereador Dival Figueiredo Machado, Missionário Roderick Murdo Gillanders, Mérito Rotário, Zumbi dos Palmares e Arquiteto Anápio Aurélio de Miranda;\nc) Certificados - Verde e, de Excelência.\"\n\n\n\"SEÇÃO\nDISPOSIÇÕES GERAIS\"\n\n\n\"Art. 404 - O Projeto de Decreto Legislativo destinado a concessão de honrarias, deverá ser apresentado por, no mínimo, 2/3 ( dois terços ) dos membros da Câmara e, acompanhado de justificativa, além de, biografia quando inerente a pessoa física.\n\n§ 1º Recebido o Projeto de Decreto Legislativo, o mesmo após lido, será encaminhado à Comissão de Constituição Justiça e Redação que, dentro de 10 ( dez ) dias, emitirá parecer fundamentado, o qual após lido será pautado para a Ordem do Dia da sessão seguinte.\n\n§ 2º Será considerado aprovado o Projeto de Decreto Legislativo que obtiver 2/3 ( dois terços ) de votos favoráveis dos membros da Câmara.\n\n§ 3º Cada Vereador poderá apresentar 08 ( oito ) projetos de Decreto Legislativo por legislatura destinados a concessão do Título de Cidadão Feirense, enquanto que as demais Honrarias tem suas quantidades estabelecidas nas Resoluções que as instituíram.\"\n\n\"Art. 405 - As honrarias poderão ser cassadas, caso os homenageados tenham comprovadamente praticado atos que colidam com os motivos que as ensejam\n\nParágrafo Único - Aplicam-se os dispositivos desta Seção, no que couber, ao Projeto de Decreto Legislativo de cassação da honraria\"\n\nArt. 3ºSuprima-se os dispositivos abaixo mencionados, e dê-se nova numeração aos demais:\n\n\"a) artigos - 34,37. 87, 99, 100, 102, 124, 187, 189, 191, 192, 193, 223, 356, 417;\nb) parágrafos - 3º do art. 101, 4º do art. 135 e único do art. 199;\"\n\nArt. 4ºEsta Resolução entrará em vigor na data de sua publicação, produzindo seus efeitos a partir de 1º de Janeiro de 2005, revogadas as disposições em contrário.\n\nMESA DIRETIVA DA CÂMARA MUNICIPAL DE FEIRA DE SANTANA, 26 de Outubro de 2004.\n\nVer. ANTÔNIO CARLOS DALTRO COELHO\nPresidente\n\nVer. GENÉSIO SERAFIM DE LIMA\n1º Secretário\n\nVer. JORGE RAIMUNDO DE OLIVEIRA SILVA\n2º Secretário\n\n---proximo resultado---\n\nO PREFEITO MUNICIPAL DE FEIRA DE SANTANA, ESTADO DA BAHIA, FAÇO saber que a Câmara Municipal decreta e eu sanciono a seguinte Lei:\n\nArt. 1ºA Fundação Hospitalar de Feira de Santana (FHFS), instituída pela Lei nº1.641, de 14 de abril de 1993 e alterada pela Lei nº1.802de 30 de junho de 1995, reger-se-á pelas normas estabelecidas nesta Lei.\n\nArt. 2ºA Fundação Hospitalar de Feira de Santana (FHFS), pessoa jurídica de direito público, com sede e foro nesta cidade, com personalidade jurídica, com prazo de duração indeterminado, de cooperação para a consecução de interesse coletivo, sem finalidades lucrativas, vinculada à Secretaria Municipal de Saúde, tem por finalidade promover e executar as ações de saúde e especialmente:\n\nI - Implementar assistência à saúde, através de hospitais, clínicas, ambulatórios e profissionais especializados, e firmar convênios de cooperação técnica, com profissionais de cada área;\n\nII - Realizar congressos, simpósios, cursos, conferências, publicações, estudos, pesquisas e análises de situações de saúde, promovendo intercâmbio com instituições congêneres nacionais, estrangeiras e internacionais, organizando e mantendo material científico, inclusive obras e revistas especializadas em acervo próprio.\n\nIII - Coletar, processar e divulgar informações sobre saúde;\n\nIV - Realizar atividades laboratoriais de patologia clínica e diagnóstica, além de serviços técnicos e científicos;\n\nV - Atuar em todas as áreas de saúde, especial e prioritariamente, nas de medicina preventiva, ginecologia e obstetrícia, pediatria e doenças congêneres;\n\nVI - Desenvolver atividades complementares nas áreas de puericultura e planejamento familiar;\n\nVII - Desenvolver outras atividades correlatas.\n\nArt. 3ºA Fundação Hospitalar de Feira de Santana (FHFS) fica autorizada a celebrar convênios para execução dos seus objetivos, na seguinte seqüência de prioridade:\n\na) Com instituições conveniadas ao Sistema Único de Saúde;\nb) Com instituições privadas, em caráter complementar.\n\n§ 1º A efetivação de convênios com entidades assistenciais privadas visando à contratação de serviço médico-hospitalar da Fundação Hospitalar de Feira de Santana, deverá ser autorizada por 2/3 (dois terços) do seu Conselho Administração.\n\n§ 2º Apenas 20% (vinte por cento) dos leitos das unidades integrantes da Fundação Hospitalar de Feira de Santana poderão ser utilizados para convênios particulares.\n\nArt. 4ºO patrimônio da Fundação Hospitalar de Feira de Santana (FHFS) é constituído pelos bens e direitos que essa entidade possui e vier adquirir, incluindo os bens que lhe venham a ser doados pela União, pelo Estado da Bahia, por Municípios e por entidades públicas e particulares nacionais, estrangeiras e internacionais.\n\n§ 1º Pertencem ao patrimônio da FHFS:\n\nI - O bem imóvel ocupado pelo Hospital Inácia Pinto dos Santos;\n\nII - Os bens móveis e instalações que utilizados pelo Hospital Inácia Pinto dos Santos, tenham sido incorporados ao seu patrimônio pela Secretaria Municipal de Administração.\n\nIII - Outros bens móveis e imóveis que, por determinação do Chefe do Poder Executivo, mediante decreto, venham a ter essa destinação.\n\n§ 2º Os bens e direitos da FHFS serão utilizados ou aplicados exclusivamente para consecução dos objetivos previstos nesta Lei.\n\n§ 3º No caso de extinguir-se a Fundação, seus bens e direitos serão incorporados ao Município de Feira de Santana.\n\nArt. 5ºOs recursos financeiros da Fundação Hospitalar de Feira de Santana FHFS serão provenientes de:\n\nI - Importância que, à conta de créditos orçamentários ou adicionais, lhe forem destinados por órgãos públicos federais, estaduais e municipais;\n\nII - Auxílios e subvenções que lhe venham a ser concedidos por quaisquer entidades públicas ou particulares, nacionais ou estrangeiras; III - Doações individuais e donativos angariados através de campanha pública de mobilização social;\n\nIV - Contraprestações pelos serviços de qualquer natureza, inclusive quando executados mediante acordos, ajustes, convênios ou contratos;\n\nV - Taxas e emolumentos que forem cobrados pela prestação dos seus serviços;\n\nVI - Produtos de operação de créditos e juros bancários;\n\nVII - Rendimentos de aplicação no mercado financeiro;\n\nVIII - Receitas eventuais.\n\nParágrafo Único - Quando se tratar de convênios firmados com instituições nacionais, estrangeiras ou multinacionais da área médica, os instrumentos respectivos serão enviados à Câmara Municipal, no prazo de 10 dias, a contar da sua celebração.\n\nArt. 6ºFica assegurada à FHFS a imunidade prevista no art. 92, inciso VI, alínea \"c\", daLei Orgânicado Município.\n\nArt. 7ºA administração da FHFS será exercida pelos seguintes órgãos:\n\nI - Conselho de Administração;\n\nII - Conselho Fiscal;\n\nIII - Diretoria.\n\n§ 1º O Conselho de Administração é órgão norteador da ação estratégica da entidade, definindo parâmetro para a consecução dos seus objetivos e terá seu regimento interno elaborado por seus membros e aprovado por ato do Chefe do Poder Executivo Municipal, sendo composto da seguinte forma:\n\nI - Secretário Municipal da Saúde - Presidente;\n\nII - Diretor Presidente da FHFS - Secretário Executivo;\n\nIII - Um representante da ABM - Seccional de Feira de Santana;\n\nIV - Um representante do nível superior do corpo clínico do Hospital Inácia Pinto dos Santos;\n\nV - Um representante do Conselho Municipal de Saúde;\n\nVI - Um representante dos servidores da FHFS;\n\nVII - Um representante da Associação Brasileira de Enfermagem - Seccional de Feira de Santana.\n\n§ 2º Os conselheiros empossados na forma desta Lei terão mandato coincidente com o Chefe do Poder Executivo.\n\n§ 3º O voto do Presidente do Conselho de Administração é de desempate.\n\n§ 4º O Diretor Presidente da FHFS exercerá as funções de Secretário Executivo do Conselho de Administração, participando das reuniões do órgão com o direito a voz e voto, exceto quando a matéria envolver assunto do seu interesse.\n\n§ 5º O Conselho Fiscal da FHFS, com o mandato de 04 (quatro) anos, será formado de 05 (cinco) membros titulares e respectivos suplentes, indicados pelo representante da 2º DIRES, pela Associação Bahiana de Medicina, pelo Conselho Regional de Contabilidade, pelo Departamento de Saúde da Universidade de Feira de Santana e pela Associação Bahiana de Enfermagem.\n\n§ 6º A Diretoria da FHFS é estabelecida na Estrutura Organizacional da Prefeitura Municipal, de que trata a Lei nº1.802, de 30 de junho de 1995, sendo representada pelo seu Diretor-Presidente, que é encarregado da execução das decisões do Conselho de Administração, competindo-lhe a adoção de medidas de gestão necessárias ao perfeito funcionamento das unidades de saúde que integram a entidade.\n\nArt. 8ºO Poder Executivo Municipal, no prazo de 120 (cento e vinte) dias, regulamentará a presente Lei.\n\nArt. 9ºO Poder Executivo Municipal adotará as providências necessárias para adequar a composição do Conselho de Administração e do Conselho Fiscal às disposições desta Lei num prazo de 60 (sessenta) dias.\n\nArt. 10 -Esta Lei entrará em vigor na data de sua publicação, retroagindo seus efeitos à data da implantação da Lei nº1.802/95, revogadas as disposições em contrário.\n\nGabinete do Prefeito Municipal de Feira de Santana, 22 de dezembro de 1995.\n\nProfº. JOSÉ RAIMUNDO PEREIRA DE AZEVEDO\nPrefeito\n\nProfº. JORGE ANTONIO DE ARAÚJO CAZUMBÁ\nChefe de Gabinete do Prefeito\n\nDr. GETÚLIO DA S. BARBOSA\nSecretário Municipal de Saúde\n\nAutor: Poder Executivo\nData da Publicação: 23/12/1995\n\nAutor: Poder Executivo\nData da Publicação: 23/12/1995\n\n---proximo resultado---\n\nAutor: Diversos Autores\n\nO PREFEITO MUNICIPAL DE FEIRA DE SANTANA, Estado da Bahia, faço saber que a Câmara Municipal decretou e eu sanciono a seguinte Lei:\n\nArt. 1ºO Prefeito, o Vice-Prefeito, os Secretários e os Vereadores do Município de Feira de Santana, perceberão subsídios e remunerações mensais, para o exercício 2001/2004, nos termos desta Lei.\n\nArt. 2ºO Prefeito Municipal perceberá um subsídio (remuneração) mensal em parcela única no valor de R$ 7.000,00 (sete mil reais).\n\nArt. 3ºO Vice-Prefeito perceberá um subsídio (remuneração) mensal em parcela única no valor de R$ 4.300,00 (quatro mil e trezentos reais).\n\nArt. 4ºO Secretário Municipal perceberá o subsídio (remuneração) mensal em parcela única no valor de R$ 4.300,00 (quatro mil e trezentos reais).\n\nArt. 5ºOs Vereadores perceberão um subsídio mensal em parcela única no valor R$ 4.500,00 (quatro mil e quinhentos reais) correspondente a 75% (setenta e cinco por cento) de tudo quanto perceberem em espécie os Deputados Estaduais da Bahia, seja a que título for, ficando o valor aqui definido sujeito a adequação dos percentuais de que trata o presente artigo, sempre obedecendo ao comando legal.\n\n§ 1º Para a sessão legislativa extraordinária, incluindo quando do recesso legislativo, quando convocada, a Câmara Municipal deliberará somente sobre a matéria objeto da convocação e será devido aos Vereadores o pagamento de parcela indenizatória, correspondente a 10 (dez por cento) do seu subsídio para cada sessão realizada, vedado o pagamento em valor superior ao estabelecido como subsídio mensal independente do número de sessões extraordinárias convocadas.\n\n§ 2º A ausência sem justificativa do Vereador à reunião plenária da Câmara, implicará em desconto no seu subsídio de valor proporcional ao número de faltas em relação ao total de sessões mensais fixadas no Regimento Interno.\n\nArt. 6ºNo caso de licenciamento por doença, devidamente comprovada por atestado médico, o Prefeito, o Vice-Prefeito, os Secretários e os Vereadores, não ficarão prejudicados na percepção dos seus subsídios e/ou remunerações, de forma integral.\n\nArt. 7ºEm caso de viagem a serviço ou em representações do município, por qualquer dos Poderes, o Prefeito, o Vice-Prefeito, os Secretários e os Vereadores, incluindo o Presidente do Legislativo perceberão as diárias fixadas nos termos da Lei.\n\nArt. 8ºEm havendo modificação nos subsídios dos Deputados Estaduais, automaticamente serão modificados os subsídios dos Vereadores no mesmo índice, bem como nos subsídios e/ou remunerações do Prefeito, Vice-Prefeito e Secretários, se de outra forma não impuser a legislação em vigor, prevalecendo, em havendo contradição o disposto no Inciso X, do Art. 37, combinado com o Parágrafo 4º, do Art. 39, da Constituição Federal.\n\nArt. 9ºEm qualquer circunstância, os dispositivos desta Lei estão subordinados e obedecerão aos limites impostos pelos incisos VI e VII, do Art. 29, 37, XI, 39. Parágrafo 4º, 150, II, 153, III, e Parágrafo 2º, I, da Constituição Federal, com a redação dada pela Emenda Constitucional nº 19/98.\n\nArt. 10 -As despesas decorrentes desta Lei serão atendidas pelas dotações orçamentárias próprias.\n\nArt. 11 -Esta Lei entra em vigor na data de sua publicação, produzindo os seus efeitos a partir do dia 1º de janeiro de 2001 até 31.12.2004, se de outra forma não exigir dispositivos ulteriores competentes, revogadas as disposições em contrário.\n\nPREFEITURA MUNICIPAL DE FEIRA DE SANTANA, EM 28 DE SETEMBRO DE 2000.\n\nCLAILTON COSTA MASCARENHAS\nPrefeito\n\n---proximo resultado---\n\n"
    }
   ],
   "source": [
    "# Pra achar os similares, computar a similaridade do cosseno\n",
    "from sklearn.metrics.pairwise import cosine_similarity\n",
    "import numpy as np\n",
    "\n",
    "mais_proximos = cosine_similarity(consulta, X_tfidf)\n",
    "mais_proximos_idx = np.argsort(mais_proximos)\n",
    "for i in range(1,5):\n",
    "    idx = mais_proximos_idx[0, -i]\n",
    "    print(leis.loc[idx, 'texto'])\n",
    "    print('\\n---proximo resultado---\\n')"
   ]
  },
  {
   "cell_type": "markdown",
   "metadata": {},
   "source": [
    "Tcharam! Feito o buscador!\n",
    "\n",
    "Existem limitações. A sequência e composição das palavras é uma delas, por exemplo. Não adianta buscar pelo nome - sobrenome de uma pessoa que ele vai retornar resultados onde algum destes termos sejam mais frequentes. Não existe as aspas do Google pra dizer \"busque por este termo todo junto\".\n",
    "\n",
    "Por exemplo, se eu buscar Elydio aparece a primeira Lei conferindo cidadania à Elydio Azevedo Lopes. Perfeito. Mas se eu buscar Azevedo Lopes, o primeiro resultado sequer tem Azevedo, mas o nome Lopes aparece mais de uma vez.\n",
    "\n",
    "Uma das formas de contornar essa dificuldade é usar bigramas ou ngramas de palavras maiores. Bigramas parecem fazer sentido pra nome de bairros, ruas e pessoas, já que são compostos de 2 nomes.\n"
   ]
  },
  {
   "cell_type": "markdown",
   "metadata": {},
   "source": [
    "## Outras opções\n",
    "### Indexar\n",
    "Há outras formas de indexar os documentos e de recuperar, também simples. Uma outra forma de indexar, por exemplo, é fazer um vetor pra cada palavra contando as palavras vizinhas. E depois, o vetor do documento seria a soma dos vetores das palavras. É uma forma interessante porque pode gerar visualizações interessantes entre a similaridade das palavras. Por exemplo, no corpus das Leis Municipais, a quais palavras EDUCAÇÃO mais se assemelha? Ou SAÚDE? Etc.\n",
    "\n",
    "Outra forma é contar n-gramas - por exemplo, bi-gramas: duas palavras juntas formando um token. Dessa forma, você possui uma matriz maior e de certa forma uma relação entre a sequencialidade das palavras, que pode ser útil pra nomes de pessoas e bairros, como citado acima.\n",
    "\n",
    "### Recuperar\n",
    "Outra forma de recuperar é por local sensitive hashing. Divide em vários planos múltiplas vezes e retorna os resultados que estão na mesma região da query. No entanto, o corpus não é grande o suficiente pra precisar essa estratégia, que é mais pra grandes corpora. O método acima (calcular a simlaridade cosseno e retornar os maiores valores) é rápido o suficiente pra parecer instantâneo. Talvez com uma demanda mais alta pelo servidor venha a necessidade de aumentar a velocidade da busca, porém por enquanto não é o caso.\n",
    "\n",
    "### Avaliação\n",
    "Com múltiplas formas de indexar e recuperar vem o dilema: como avaliar se uma é melhor que a outra? Repetir o processo acima pra todas as opções? Isto é, mostrar N melhores resultados e comparar manualmente? Ou colocar labels em algumas leis? Ex: essa lei trata disso, com tais entidades. Checar formas de avaliação. Se tivesse em produção, podia avaliar por CTR por ex, mas não é o caso"
   ]
  }
 ],
 "metadata": {
  "language_info": {
   "codemirror_mode": {
    "name": "ipython",
    "version": 3
   },
   "file_extension": ".py",
   "mimetype": "text/x-python",
   "name": "python",
   "nbconvert_exporter": "python",
   "pygments_lexer": "ipython3",
   "version": "3.8.2-final"
  },
  "orig_nbformat": 2,
  "kernelspec": {
   "name": "python38264bit16b8003628b145c39b7161d6e18cffed",
   "display_name": "Python 3.8.2 64-bit"
  }
 },
 "nbformat": 4,
 "nbformat_minor": 2
}