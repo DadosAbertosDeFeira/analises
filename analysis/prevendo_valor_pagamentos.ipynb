{
 "cells": [
  {
   "cell_type": "code",
   "execution_count": 81,
   "metadata": {
    "tags": []
   },
   "outputs": [],
   "source": [
    "import pandas as pd\n",
    "import matplotlib.pyplot as plt\n",
    "import numpy as np\n",
    "import re\n",
    "import unicodedata\n",
    "# import texthero as hero\n",
    "from nltk.corpus import stopwords\n",
    "from sklearn.neighbors import LocalOutlierFactor\n",
    "from sklearn.covariance import EllipticEnvelope"
   ]
  },
  {
   "cell_type": "markdown",
   "metadata": {},
   "source": [
    "# Carregando e limpando os dados"
   ]
  },
  {
   "cell_type": "code",
   "execution_count": 82,
   "metadata": {
    "tags": []
   },
   "outputs": [
    {
     "output_type": "stream",
     "name": "stdout",
     "text": "<class 'pandas.core.frame.DataFrame'>\nRangeIndex: 427873 entries, 0 to 427872\nData columns (total 15 columns):\n #   Column                   Non-Null Count   Dtype \n---  ------                   --------------   ----- \n 0   data_publicacao          427873 non-null  object\n 1   fase                     427873 non-null  object\n 2   credor                   427873 non-null  object\n 3   valor                    427873 non-null  object\n 4   numero                   427873 non-null  object\n 5   cpf_ou_cnpj              427873 non-null  object\n 6   data_pagamento           427873 non-null  object\n 7   numero_processo          253290 non-null  object\n 8   bem_ou_servico_prestado  420978 non-null  object\n 9   natureza                 422333 non-null  object\n 10  acao                     407378 non-null  object\n 11  funcao                   407414 non-null  object\n 12  subfuncao                407405 non-null  object\n 13  processo_licitatorio     407396 non-null  object\n 14  fonte_recurso            407405 non-null  object\ndtypes: object(15)\nmemory usage: 49.0+ MB\ndata_publicacao              2624\nfase                            3\ncredor                       8831\nvalor                      124055\nnumero                     193494\ncpf_ou_cnpj                  7828\ndata_pagamento               2624\nnumero_processo             17919\nbem_ou_servico_prestado    149798\nnatureza                      833\nacao                         1090\nfuncao                         48\nsubfuncao                      75\nprocesso_licitatorio           26\nfonte_recurso                  39\ndtype: int64\n"
    },
    {
     "output_type": "execute_result",
     "data": {
      "text/plain": "  data_publicacao     fase                          credor             valor  \\\n0      01/01/2010  EMPENHO  METALPIRES  INDUSTRIA E COM LT  R$    203.690,00   \n1      01/01/2010  EMPENHO   INST.NAC.DE SEGURIDADE SOCIAL  R$  1.500.000,00   \n2      01/01/2010  EMPENHO  GASAUTO  LOCAC?O DE VEICULOS L  R$     18.816,00   \n3      02/01/2010  EMPENHO      SALUSTIANO JOSE ALVES DIAS  R$      4.800,00   \n4      02/01/2010  EMPENHO        VALDEANE DOS SANTOS DIAS  R$      3.600,00   \n\n     numero         cpf_ou_cnpj data_pagamento numero_processo  \\\n0  10000348  06.965.538/0001-00     01/01/2010        157/2009   \n1  10000195  01.404.357/0001-51     01/01/2010             NaN   \n2  113/2009  00.426.288/0001-58     01/01/2010        039/2009   \n3  10000024      407.981.865-34     02/01/2010        230/2007   \n4  10000494      006.534.185-66     02/01/2010             NaN   \n\n                             bem_ou_servico_prestado  \\\n0  REF AQUISICAO DE MOBILIARIOS E EQUIPAMENTOS PA...   \n1  REFERENTE A DESPESA COM PARCE- LAMENTO  DA  DI...   \n2  locac?o de 04 motocicletas 150cc com com parti...   \n3  TERMO DE RENOVACAO DO ADITIVO  5025271/2009, R...   \n4  REF. ALUGUEL DO IMOVEL ONDE    FUNCIONA O NUCL...   \n\n                                      natureza  \\\n0  449052090000 - Out.Equip. e Mat. Permanente   \n1             469071030000 - INSS/PARCELAMENTO   \n2           339039780000 - locacao de veiculos   \n3           339039780000 - locacao de veiculos   \n4            339039100000 - Locacao de imoveis   \n\n                                                acao                   funcao  \\\n0  2040 - Equipar e Reequipar Unidades Escolares ...            12 - EDUCACAO   \n1          2145 - Administracao de encagos especiais  28 - ENCARGOS ESPECIAIS   \n2                       2141 - Seguranca no transito          26 - TRANSPORTE   \n3              2097 - Pavimentacao e infra-estrutura           15 - URBANISMO   \n4       2084 - Programa Errad.Trabalho Infantil PETI  08 - ASSISTENCIA SOCIAL   \n\n                              subfuncao processo_licitatorio  \\\n0              361 - ENSINO FUNDAMENTAL               PREGAO   \n1       843 - SERVICO DA DIVIDA INTERNA               ISENTO   \n2                452 - SERVICOS URBANOS              CONVITE   \n3          451 - INFRA-ESTRUTURA URBANA      TOMADA DE PRECO   \n4  243 - ASSISTENCIA A CRIANCA E AO ADO               ISENTO   \n\n                        fonte_recurso  \n0  0001 - REC.IMP.TRANSF.EDUCACAO 25%  \n1          0000 - RECURSOS ORDINARIOS  \n2        0050 - REC.PROPRIAS ENT.ADM.  \n3          0000 - RECURSOS ORDINARIOS  \n4          0000 - RECURSOS ORDINARIOS  ",
      "text/html": "<div>\n<style scoped>\n    .dataframe tbody tr th:only-of-type {\n        vertical-align: middle;\n    }\n\n    .dataframe tbody tr th {\n        vertical-align: top;\n    }\n\n    .dataframe thead th {\n        text-align: right;\n    }\n</style>\n<table border=\"1\" class=\"dataframe\">\n  <thead>\n    <tr style=\"text-align: right;\">\n      <th></th>\n      <th>data_publicacao</th>\n      <th>fase</th>\n      <th>credor</th>\n      <th>valor</th>\n      <th>numero</th>\n      <th>cpf_ou_cnpj</th>\n      <th>data_pagamento</th>\n      <th>numero_processo</th>\n      <th>bem_ou_servico_prestado</th>\n      <th>natureza</th>\n      <th>acao</th>\n      <th>funcao</th>\n      <th>subfuncao</th>\n      <th>processo_licitatorio</th>\n      <th>fonte_recurso</th>\n    </tr>\n  </thead>\n  <tbody>\n    <tr>\n      <th>0</th>\n      <td>01/01/2010</td>\n      <td>EMPENHO</td>\n      <td>METALPIRES  INDUSTRIA E COM LT</td>\n      <td>R$    203.690,00</td>\n      <td>10000348</td>\n      <td>06.965.538/0001-00</td>\n      <td>01/01/2010</td>\n      <td>157/2009</td>\n      <td>REF AQUISICAO DE MOBILIARIOS E EQUIPAMENTOS PA...</td>\n      <td>449052090000 - Out.Equip. e Mat. Permanente</td>\n      <td>2040 - Equipar e Reequipar Unidades Escolares ...</td>\n      <td>12 - EDUCACAO</td>\n      <td>361 - ENSINO FUNDAMENTAL</td>\n      <td>PREGAO</td>\n      <td>0001 - REC.IMP.TRANSF.EDUCACAO 25%</td>\n    </tr>\n    <tr>\n      <th>1</th>\n      <td>01/01/2010</td>\n      <td>EMPENHO</td>\n      <td>INST.NAC.DE SEGURIDADE SOCIAL</td>\n      <td>R$  1.500.000,00</td>\n      <td>10000195</td>\n      <td>01.404.357/0001-51</td>\n      <td>01/01/2010</td>\n      <td>NaN</td>\n      <td>REFERENTE A DESPESA COM PARCE- LAMENTO  DA  DI...</td>\n      <td>469071030000 - INSS/PARCELAMENTO</td>\n      <td>2145 - Administracao de encagos especiais</td>\n      <td>28 - ENCARGOS ESPECIAIS</td>\n      <td>843 - SERVICO DA DIVIDA INTERNA</td>\n      <td>ISENTO</td>\n      <td>0000 - RECURSOS ORDINARIOS</td>\n    </tr>\n    <tr>\n      <th>2</th>\n      <td>01/01/2010</td>\n      <td>EMPENHO</td>\n      <td>GASAUTO  LOCAC?O DE VEICULOS L</td>\n      <td>R$     18.816,00</td>\n      <td>113/2009</td>\n      <td>00.426.288/0001-58</td>\n      <td>01/01/2010</td>\n      <td>039/2009</td>\n      <td>locac?o de 04 motocicletas 150cc com com parti...</td>\n      <td>339039780000 - locacao de veiculos</td>\n      <td>2141 - Seguranca no transito</td>\n      <td>26 - TRANSPORTE</td>\n      <td>452 - SERVICOS URBANOS</td>\n      <td>CONVITE</td>\n      <td>0050 - REC.PROPRIAS ENT.ADM.</td>\n    </tr>\n    <tr>\n      <th>3</th>\n      <td>02/01/2010</td>\n      <td>EMPENHO</td>\n      <td>SALUSTIANO JOSE ALVES DIAS</td>\n      <td>R$      4.800,00</td>\n      <td>10000024</td>\n      <td>407.981.865-34</td>\n      <td>02/01/2010</td>\n      <td>230/2007</td>\n      <td>TERMO DE RENOVACAO DO ADITIVO  5025271/2009, R...</td>\n      <td>339039780000 - locacao de veiculos</td>\n      <td>2097 - Pavimentacao e infra-estrutura</td>\n      <td>15 - URBANISMO</td>\n      <td>451 - INFRA-ESTRUTURA URBANA</td>\n      <td>TOMADA DE PRECO</td>\n      <td>0000 - RECURSOS ORDINARIOS</td>\n    </tr>\n    <tr>\n      <th>4</th>\n      <td>02/01/2010</td>\n      <td>EMPENHO</td>\n      <td>VALDEANE DOS SANTOS DIAS</td>\n      <td>R$      3.600,00</td>\n      <td>10000494</td>\n      <td>006.534.185-66</td>\n      <td>02/01/2010</td>\n      <td>NaN</td>\n      <td>REF. ALUGUEL DO IMOVEL ONDE    FUNCIONA O NUCL...</td>\n      <td>339039100000 - Locacao de imoveis</td>\n      <td>2084 - Programa Errad.Trabalho Infantil PETI</td>\n      <td>08 - ASSISTENCIA SOCIAL</td>\n      <td>243 - ASSISTENCIA A CRIANCA E AO ADO</td>\n      <td>ISENTO</td>\n      <td>0000 - RECURSOS ORDINARIOS</td>\n    </tr>\n  </tbody>\n</table>\n</div>"
     },
     "metadata": {},
     "execution_count": 82
    }
   ],
   "source": [
    "pagamentos = pd.read_csv('pagamentos.csv')\n",
    "pagamentos.info()\n",
    "# pagamentos.value_counts()\n",
    "print(pagamentos.nunique())\n",
    "pagamentos.head()"
   ]
  },
  {
   "cell_type": "code",
   "execution_count": 83,
   "metadata": {
    "tags": []
   },
   "outputs": [
    {
     "output_type": "stream",
     "name": "stdout",
     "text": "<class 'pandas.core.frame.DataFrame'>\nInt64Index: 181527 entries, 13 to 427868\nData columns (total 9 columns):\n #   Column                   Non-Null Count   Dtype \n---  ------                   --------------   ----- \n 0   credor                   181527 non-null  object\n 1   valor                    181527 non-null  object\n 2   bem_ou_servico_prestado  179835 non-null  object\n 3   natureza                 175987 non-null  object\n 4   acao                     161047 non-null  object\n 5   funcao                   161068 non-null  object\n 6   subfuncao                161059 non-null  object\n 7   processo_licitatorio     161057 non-null  object\n 8   fonte_recurso            161059 non-null  object\ndtypes: object(9)\nmemory usage: 13.8+ MB\nNone\ncredor                      7505\nvalor                      83054\nbem_ou_servico_prestado    93641\nnatureza                     556\nacao                         526\nfuncao                        36\nsubfuncao                     61\nprocesso_licitatorio          20\nfonte_recurso                 28\ndtype: int64\n"
    }
   ],
   "source": [
    "# Removendo duplicatas\n",
    "pagamentos = pagamentos[pagamentos['fase'] == 'PAGAMENTO']\n",
    "pagamentos.drop(['data_publicacao', 'fase', 'numero', \n",
    "                'cpf_ou_cnpj', 'data_pagamento', 'numero_processo'],\n",
    "                inplace=True, axis=1)\n",
    "print(pagamentos.info())\n",
    "print(pagamentos.nunique())"
   ]
  },
  {
   "cell_type": "code",
   "execution_count": 84,
   "metadata": {
    "tags": []
   },
   "outputs": [
    {
     "output_type": "stream",
     "name": "stdout",
     "text": "Numero de entradas duplicadas: 21316\nNumero de entradas unicas: 160211\n"
    }
   ],
   "source": [
    "num_entradas_repetidas = len(pagamentos)\n",
    "pagamentos = pagamentos.drop_duplicates()\n",
    "num_entradas_unicas = len(pagamentos)\n",
    "print(f'Numero de entradas duplicadas: {num_entradas_repetidas - num_entradas_unicas}\\nNumero de entradas unicas: {num_entradas_unicas}')"
   ]
  },
  {
   "cell_type": "code",
   "execution_count": 85,
   "metadata": {
    "tags": []
   },
   "outputs": [
    {
     "output_type": "stream",
     "name": "stdout",
     "text": "<class 'pandas.core.frame.DataFrame'>\nInt64Index: 160211 entries, 13 to 427803\nData columns (total 9 columns):\n #   Column                   Non-Null Count   Dtype  \n---  ------                   --------------   -----  \n 0   credor                   160211 non-null  object \n 1   valor                    160211 non-null  float64\n 2   bem_ou_servico_prestado  158900 non-null  object \n 3   natureza                 155488 non-null  object \n 4   acao                     141462 non-null  object \n 5   funcao                   141482 non-null  object \n 6   subfuncao                141474 non-null  object \n 7   processo_licitatorio     141472 non-null  object \n 8   fonte_recurso            141474 non-null  object \ndtypes: float64(1), object(8)\nmemory usage: 12.2+ MB\n"
    }
   ],
   "source": [
    "# Limpando float\n",
    "def currency_to_float(value):\n",
    "    \"\"\"Converte de R$ 69.848,70 (str) para 69848.70 (float).\"\"\"\n",
    "    try:\n",
    "        cleaned_value = value.replace(\"R$\", \"\").replace(\".\", \"\").replace(\",\", \".\")\n",
    "        return float(cleaned_value)\n",
    "    except ValueError:\n",
    "        return\n",
    "\n",
    "pagamentos['valor'] = pagamentos['valor'].apply(currency_to_float)\n",
    "pagamentos.info()"
   ]
  },
  {
   "cell_type": "code",
   "execution_count": 86,
   "metadata": {
    "tags": []
   },
   "outputs": [],
   "source": [
    "# Limpando processo_licitatorio\n",
    "\n",
    "def limpar_proc_licitatorio(proc):\n",
    "    isento = ['ISENTO', 'ENTO', 'Isento', 'SENTO', 'sento']\n",
    "    pregao = ['PREGAO', 'REGAO', 'Pregao', 'EGAO', 'egao']\n",
    "    dispensa = ['DISPENSA', 'SPENSA', 'ISPENSA', 'Dispensa', 'PENSA', 'pensa']\n",
    "    concorrencia = ['CONCORENCIA', 'ONCORRENCIA', 'NCORRENCIA']\n",
    "    inexigibilidade = ['INEXIGIBILIDADE', 'NEXIGIBILIDADE', 'Inexibilidade', 'XIGIBILIDADE',\n",
    "     'xigibilidade', 'EXIGIBILIDADE', 'exigibilidade']\n",
    "    tomada_de_preco = ['TOMADA DE PRECO', 'OMADA DE PRECO', 'omada de preco']\n",
    "\n",
    "    if (type(proc) != str):\n",
    "        return None\n",
    "    try:\n",
    "        if (proc in isento):\n",
    "            return 'isento'\n",
    "        elif (proc in pregao):\n",
    "            return 'pregao'\n",
    "        elif (proc in dispensa):\n",
    "            return 'dispensa'\n",
    "        elif (proc in concorrencia):\n",
    "            return 'concorrencia'\n",
    "        elif (proc in inexigibilidade):\n",
    "            return 'inexigibilidade'\n",
    "        elif (proc in tomada_de_preco):\n",
    "            return 'tomada de preco'\n",
    "        else:\n",
    "            return proc.lower()\n",
    "    except TypeError:\n",
    "        pass\n",
    "\n",
    "pagamentos['processo_licitatorio'] = pagamentos['processo_licitatorio'].apply(limpar_proc_licitatorio)"
   ]
  },
  {
   "cell_type": "code",
   "execution_count": 87,
   "metadata": {
    "tags": []
   },
   "outputs": [],
   "source": [
    "# Os que da pra conferir no olho:\n",
    "# funcao, subfuncao, fonte_recurso\n",
    "def limpar_natureza(natureza):\n",
    "    combustivel_lubrificante = ['combustiveis e lub automotivos', 'combustiveis e lubrificantes', 'combust']\n",
    "    confeccao_fardamento = ['confeccao de fardamento', 'confeccao de fardamentos']\n",
    "\n",
    "    if (natureza in combustivel_lubrificante):\n",
    "        return 'combustiveis e lubrificantes'\n",
    "    elif (natureza in confeccao_fardamento):\n",
    "        return 'confeccao de fardamento'\n"
   ]
  },
  {
   "cell_type": "code",
   "execution_count": 88,
   "metadata": {
    "tags": []
   },
   "outputs": [],
   "source": [
    "def clean_str(text):\n",
    "    if (type(text) == float):\n",
    "        return ''\n",
    "\n",
    "    # Remove pontuacao, digitos e espacos\n",
    "    text = ' '.join(re.findall(r'\\b[a-zÀ-ú]+\\b', text.lower()))\n",
    "    \n",
    "    # Remove acentos, cedilhas etc\n",
    "    nfkd_form = unicodedata.normalize('NFKD', text)\n",
    "    text = ''.join([char for char in nfkd_form if not unicodedata.combining(char)])\n",
    "\n",
    "    # Remove stopwords\n",
    "    my_stopwords = stopwords.words('portuguese')\n",
    "    my_words = ['desta', 'deste', 'qualquer', 'das']\n",
    "    my_stopwords = my_stopwords + my_words\n",
    "\n",
    "    return ' '.join([word for word in text.split() if word not in my_stopwords])"
   ]
  },
  {
   "cell_type": "code",
   "execution_count": 89,
   "metadata": {
    "tags": []
   },
   "outputs": [],
   "source": [
    "# Removendo pontuacao e numeros de campos com string\n",
    "# TODO: Tentar mudar o pipeline de stopwords\n",
    "# pra utilizar stopwords em portugues\n",
    "\n",
    "pagamentos['credor'] = pagamentos['credor'].apply(clean_str)\n",
    "pagamentos['bem_ou_servico_prestado'] = pagamentos['bem_ou_servico_prestado'].apply(clean_str)\n",
    "pagamentos['natureza'] = pagamentos['natureza'].apply(clean_str)\n",
    "pagamentos['acao'] = pagamentos['acao'].apply(clean_str)\n",
    "pagamentos['funcao'] = pagamentos['funcao'].apply(clean_str)\n",
    "pagamentos['subfuncao'] = pagamentos['subfuncao'].apply(clean_str)\n",
    "pagamentos['fonte_recurso'] = pagamentos['fonte_recurso'].apply(clean_str)\n",
    "\n",
    "# pagamentos.nunique()"
   ]
  },
  {
   "cell_type": "code",
   "execution_count": 120,
   "metadata": {
    "tags": []
   },
   "outputs": [
    {
     "output_type": "stream",
     "name": "stdout",
     "text": "<class 'pandas.core.frame.DataFrame'>\nInt64Index: 160211 entries, 13 to 427803\nData columns (total 9 columns):\n #   Column                   Non-Null Count   Dtype  \n---  ------                   --------------   -----  \n 0   credor                   160211 non-null  object \n 1   valor                    160211 non-null  float64\n 2   bem_ou_servico_prestado  160211 non-null  object \n 3   natureza                 160211 non-null  object \n 4   acao                     160211 non-null  object \n 5   funcao                   160211 non-null  object \n 6   subfuncao                160211 non-null  object \n 7   processo_licitatorio     141472 non-null  object \n 8   fonte_recurso            160211 non-null  object \ndtypes: float64(1), object(8)\nmemory usage: 17.2+ MB\nNone\n"
    },
    {
     "output_type": "execute_result",
     "data": {
      "text/plain": "                         credor      valor  \\\n13        aurimar gomes machado      30.00   \n14         ediney cardoso gomes      30.00   \n15   cristiane silva villa flor      30.00   \n18   telemar telecomun bahia sa    1213.20   \n190     h t hosp t ortopedia lt  101664.16   \n\n                         bem_ou_servico_prestado  \\\n13                               diaria ipecaeta   \n14                               diaria ipecaeta   \n15                               diaria ipecaeta   \n18                     despesa telefone fixo smt   \n190  ref servicos medico prestados pacientes sus   \n\n                             natureza  \\\n13                            diarias   \n14                            diarias   \n15                            diarias   \n18          servicos telecomunicacoes   \n190  serv medico hospitalar odont lab   \n\n                                                  acao              funcao  \\\n13                                     manutencao ipfs  previdencia social   \n14                                     manutencao ipfs  previdencia social   \n15                                     manutencao ipfs  previdencia social   \n18                                      manutencao smt       administracao   \n190  atencao media alta complexibilidade amb hospit...               saude   \n\n                        subfuncao processo_licitatorio  \\\n13            administracao geral               isento   \n14            administracao geral               isento   \n15            administracao geral               isento   \n18            administracao geral               isento   \n190  assistencia hospitalar ambul              convite   \n\n                      fonte_recurso  \n13   cont regime prpprio prev socia  \n14   cont regime prpprio prev socia  \n15   cont regime prpprio prev socia  \n18             rec proprias ent adm  \n190                  transf rec sus  ",
      "text/html": "<div>\n<style scoped>\n    .dataframe tbody tr th:only-of-type {\n        vertical-align: middle;\n    }\n\n    .dataframe tbody tr th {\n        vertical-align: top;\n    }\n\n    .dataframe thead th {\n        text-align: right;\n    }\n</style>\n<table border=\"1\" class=\"dataframe\">\n  <thead>\n    <tr style=\"text-align: right;\">\n      <th></th>\n      <th>credor</th>\n      <th>valor</th>\n      <th>bem_ou_servico_prestado</th>\n      <th>natureza</th>\n      <th>acao</th>\n      <th>funcao</th>\n      <th>subfuncao</th>\n      <th>processo_licitatorio</th>\n      <th>fonte_recurso</th>\n    </tr>\n  </thead>\n  <tbody>\n    <tr>\n      <th>13</th>\n      <td>aurimar gomes machado</td>\n      <td>30.00</td>\n      <td>diaria ipecaeta</td>\n      <td>diarias</td>\n      <td>manutencao ipfs</td>\n      <td>previdencia social</td>\n      <td>administracao geral</td>\n      <td>isento</td>\n      <td>cont regime prpprio prev socia</td>\n    </tr>\n    <tr>\n      <th>14</th>\n      <td>ediney cardoso gomes</td>\n      <td>30.00</td>\n      <td>diaria ipecaeta</td>\n      <td>diarias</td>\n      <td>manutencao ipfs</td>\n      <td>previdencia social</td>\n      <td>administracao geral</td>\n      <td>isento</td>\n      <td>cont regime prpprio prev socia</td>\n    </tr>\n    <tr>\n      <th>15</th>\n      <td>cristiane silva villa flor</td>\n      <td>30.00</td>\n      <td>diaria ipecaeta</td>\n      <td>diarias</td>\n      <td>manutencao ipfs</td>\n      <td>previdencia social</td>\n      <td>administracao geral</td>\n      <td>isento</td>\n      <td>cont regime prpprio prev socia</td>\n    </tr>\n    <tr>\n      <th>18</th>\n      <td>telemar telecomun bahia sa</td>\n      <td>1213.20</td>\n      <td>despesa telefone fixo smt</td>\n      <td>servicos telecomunicacoes</td>\n      <td>manutencao smt</td>\n      <td>administracao</td>\n      <td>administracao geral</td>\n      <td>isento</td>\n      <td>rec proprias ent adm</td>\n    </tr>\n    <tr>\n      <th>190</th>\n      <td>h t hosp t ortopedia lt</td>\n      <td>101664.16</td>\n      <td>ref servicos medico prestados pacientes sus</td>\n      <td>serv medico hospitalar odont lab</td>\n      <td>atencao media alta complexibilidade amb hospit...</td>\n      <td>saude</td>\n      <td>assistencia hospitalar ambul</td>\n      <td>convite</td>\n      <td>transf rec sus</td>\n    </tr>\n  </tbody>\n</table>\n</div>"
     },
     "metadata": {},
     "execution_count": 120
    }
   ],
   "source": [
    "print(pagamentos.info())\n",
    "pagamentos.head()"
   ]
  },
  {
   "cell_type": "markdown",
   "metadata": {},
   "source": [
    "## Extraindo features\n",
    "Verificar:\n",
    "- TF-IDF\n",
    "- TSNE"
   ]
  },
  {
   "cell_type": "markdown",
   "metadata": {},
   "source": [
    "## Prevendo o valor do pagamento"
   ]
  },
  {
   "cell_type": "code",
   "execution_count": 96,
   "metadata": {},
   "outputs": [
    {
     "output_type": "execute_result",
     "data": {
      "text/plain": "                         credor      valor  \\\n13        aurimar gomes machado      30.00   \n14         ediney cardoso gomes      30.00   \n15   cristiane silva villa flor      30.00   \n18   telemar telecomun bahia sa    1213.20   \n190     h t hosp t ortopedia lt  101664.16   \n\n                         bem_ou_servico_prestado  \\\n13                               diaria ipecaeta   \n14                               diaria ipecaeta   \n15                               diaria ipecaeta   \n18                     despesa telefone fixo smt   \n190  ref servicos medico prestados pacientes sus   \n\n                             natureza  \\\n13                            diarias   \n14                            diarias   \n15                            diarias   \n18          servicos telecomunicacoes   \n190  serv medico hospitalar odont lab   \n\n                                                  acao              funcao  \\\n13                                     manutencao ipfs  previdencia social   \n14                                     manutencao ipfs  previdencia social   \n15                                     manutencao ipfs  previdencia social   \n18                                      manutencao smt       administracao   \n190  atencao media alta complexibilidade amb hospit...               saude   \n\n                        subfuncao processo_licitatorio  \\\n13            administracao geral               isento   \n14            administracao geral               isento   \n15            administracao geral               isento   \n18            administracao geral               isento   \n190  assistencia hospitalar ambul              convite   \n\n                      fonte_recurso  \n13   cont regime prpprio prev socia  \n14   cont regime prpprio prev socia  \n15   cont regime prpprio prev socia  \n18             rec proprias ent adm  \n190                  transf rec sus  ",
      "text/html": "<div>\n<style scoped>\n    .dataframe tbody tr th:only-of-type {\n        vertical-align: middle;\n    }\n\n    .dataframe tbody tr th {\n        vertical-align: top;\n    }\n\n    .dataframe thead th {\n        text-align: right;\n    }\n</style>\n<table border=\"1\" class=\"dataframe\">\n  <thead>\n    <tr style=\"text-align: right;\">\n      <th></th>\n      <th>credor</th>\n      <th>valor</th>\n      <th>bem_ou_servico_prestado</th>\n      <th>natureza</th>\n      <th>acao</th>\n      <th>funcao</th>\n      <th>subfuncao</th>\n      <th>processo_licitatorio</th>\n      <th>fonte_recurso</th>\n    </tr>\n  </thead>\n  <tbody>\n    <tr>\n      <th>13</th>\n      <td>aurimar gomes machado</td>\n      <td>30.00</td>\n      <td>diaria ipecaeta</td>\n      <td>diarias</td>\n      <td>manutencao ipfs</td>\n      <td>previdencia social</td>\n      <td>administracao geral</td>\n      <td>isento</td>\n      <td>cont regime prpprio prev socia</td>\n    </tr>\n    <tr>\n      <th>14</th>\n      <td>ediney cardoso gomes</td>\n      <td>30.00</td>\n      <td>diaria ipecaeta</td>\n      <td>diarias</td>\n      <td>manutencao ipfs</td>\n      <td>previdencia social</td>\n      <td>administracao geral</td>\n      <td>isento</td>\n      <td>cont regime prpprio prev socia</td>\n    </tr>\n    <tr>\n      <th>15</th>\n      <td>cristiane silva villa flor</td>\n      <td>30.00</td>\n      <td>diaria ipecaeta</td>\n      <td>diarias</td>\n      <td>manutencao ipfs</td>\n      <td>previdencia social</td>\n      <td>administracao geral</td>\n      <td>isento</td>\n      <td>cont regime prpprio prev socia</td>\n    </tr>\n    <tr>\n      <th>18</th>\n      <td>telemar telecomun bahia sa</td>\n      <td>1213.20</td>\n      <td>despesa telefone fixo smt</td>\n      <td>servicos telecomunicacoes</td>\n      <td>manutencao smt</td>\n      <td>administracao</td>\n      <td>administracao geral</td>\n      <td>isento</td>\n      <td>rec proprias ent adm</td>\n    </tr>\n    <tr>\n      <th>190</th>\n      <td>h t hosp t ortopedia lt</td>\n      <td>101664.16</td>\n      <td>ref servicos medico prestados pacientes sus</td>\n      <td>serv medico hospitalar odont lab</td>\n      <td>atencao media alta complexibilidade amb hospit...</td>\n      <td>saude</td>\n      <td>assistencia hospitalar ambul</td>\n      <td>convite</td>\n      <td>transf rec sus</td>\n    </tr>\n  </tbody>\n</table>\n</div>"
     },
     "metadata": {},
     "execution_count": 96
    }
   ],
   "source": [
    "pagamentos.head()\n",
    "# pagamentos.nunique()\n",
    "\n"
   ]
  }
 ],
 "metadata": {
  "language_info": {
   "codemirror_mode": {
    "name": "ipython",
    "version": 3
   },
   "file_extension": ".py",
   "mimetype": "text/x-python",
   "name": "python",
   "nbconvert_exporter": "python",
   "pygments_lexer": "ipython3",
   "version": "3.8.2-final"
  },
  "orig_nbformat": 2,
  "kernelspec": {
   "name": "python38264bit16b8003628b145c39b7161d6e18cffed",
   "display_name": "Python 3.8.2 64-bit"
  }
 },
 "nbformat": 4,
 "nbformat_minor": 2
}