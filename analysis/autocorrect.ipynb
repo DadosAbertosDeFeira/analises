{
  "nbformat": 4,
  "nbformat_minor": 0,
  "metadata": {
    "language_info": {
      "codemirror_mode": {
        "name": "ipython",
        "version": 3
      },
      "file_extension": ".py",
      "mimetype": "text/x-python",
      "name": "python",
      "nbconvert_exporter": "python",
      "pygments_lexer": "ipython3",
      "version": "3.8.2-final"
    },
    "orig_nbformat": 2,
    "kernelspec": {
      "name": "python38264bit16b8003628b145c39b7161d6e18cffed",
      "display_name": "Python 3.8.2 64-bit"
    },
    "colab": {
      "name": "semelhanca_leis.ipynb",
      "provenance": [],
      "collapsed_sections": []
    }
  },
  "cells": [
    {
      "cell_type": "markdown",
      "metadata": {},
      "source": [
        "# Corretor ortográfico\n",
        "A ideia desse notebook é implementar corretor ortográfico automático pro texto das leis, a fim de analisar se isto impacta na qualidade da representação dos documentos"
      ]
    },
    {
      "cell_type": "code",
      "metadata": {
        "id": "Fw0cBhm80T-w",
        "colab_type": "code",
        "colab": {}
      },
      "source": [
        "import pandas as pd\n",
        "import matplotlib.pyplot as plt"
      ],
      "execution_count": 2,
      "outputs": []
    },
    {
      "cell_type": "code",
      "metadata": {
        "id": "t9rDGqZO0cbK",
        "colab_type": "code",
        "colab": {
          "resources": {
            "http://localhost:8080/nbextensions/google.colab/files.js": {
              "data": "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",
              "ok": true,
              "headers": [
                [
                  "content-type",
                  "application/javascript"
                ]
              ],
              "status": 200,
              "status_text": "OK"
            }
          },
          "base_uri": "https://localhost:8080/",
          "height": 79
        },
        "outputId": "f084561d-b993-4e0d-f456-a01a0f3cb626"
      },
      "source": [
        "# Importa arquivos\n",
        "# Descomente pra usar no Google Colab\n",
        "# from google.colab import files\n",
        "# import os.path\n",
        "\n",
        "arq_leis = 'leis.json'\n",
        "\n",
        "# if (not os.path.isfile(arq_leis)):\n",
        "#     uploaded = files.upload()"
      ],
      "execution_count": 3,
      "outputs": []
    },
    {
      "cell_type": "code",
      "metadata": {
        "tags": [],
        "id": "SvTVbdbn0T-8",
        "colab_type": "code",
        "colab": {
          "base_uri": "https://localhost:8080/",
          "height": 312
        },
        "outputId": "84f7d034-d28f-4582-9842-a1925c045c26"
      },
      "source": [
        "leis = pd.read_json(arq_leis)\n",
        "leis.drop(['documento'], inplace=True, axis=1)\n",
        "print(leis.info())\n",
        "print(leis.nunique())"
      ],
      "execution_count": 4,
      "outputs": [
        {
          "output_type": "stream",
          "name": "stdout",
          "text": "<class 'pandas.core.frame.DataFrame'>\nRangeIndex: 6033 entries, 0 to 6032\nData columns (total 4 columns):\n #   Column     Non-Null Count  Dtype \n---  ------     --------------  ----- \n 0   titulo     6033 non-null   object\n 1   categoria  6033 non-null   object\n 2   resumo     6033 non-null   object\n 3   texto      6033 non-null   object\ndtypes: object(4)\nmemory usage: 188.7+ KB\nNone\ntitulo       6033\ncategoria       8\nresumo       4961\ntexto        6029\ndtype: int64\n"
        }
      ]
    },
    {
      "cell_type": "code",
      "metadata": {
        "id": "IHdRkZoU0T_H",
        "colab_type": "code",
        "colab": {
          "base_uri": "https://localhost:8080/",
          "height": 424
        },
        "outputId": "731a47c1-d4e0-4f50-83d4-fbd8e1e33ca6"
      },
      "source": [
        "leis"
      ],
      "execution_count": 5,
      "outputs": [
        {
          "output_type": "execute_result",
          "data": {
            "text/plain": "                                            titulo   categoria  \\\n0     DECRETO Nº 8854, de 28 de fevereiro de 2013.    Decretos   \n1     DECRETO Nº 8849, de 25 de fevereiro de 2013.    Decretos   \n2     DECRETO Nº 8853, de 27 de fevereiro de 2013.    Decretos   \n3          DECRETO Nº 8967, de 17 de julho de 2013    Decretos   \n4          DECRETO Nº 8982, de 30 de julho de 2013    Decretos   \n...                                            ...         ...   \n6028                         RESOLUÇÃO Nº 125/1980  Resoluções   \n6029                         RESOLUÇÃO Nº 403/2003  Resoluções   \n6030                         RESOLUÇÃO Nº 492/2014  Resoluções   \n6031                         RESOLUÇÃO Nº 382/2001  Resoluções   \n6032                         RESOLUÇÃO Nº 431/2004  Resoluções   \n\n                                                 resumo  \\\n0     DELEGA COMPETÊNCIA À SECRETARIA MUNICIPAL DE P...   \n1     ABRE CRÉDITO SUPLEMENTAR AO ORÇAMENTO DO MUNIC...   \n2     NOMEIA MEMBROS DO CONSELHO MUNICIPAL DE DESENV...   \n3     ALTERA O QUADRO DE DETALHAMENTO DE DESPESA DO ...   \n4     AUTORIZA O FUNCIONAMENTO DE ESTABELECIMENTOS C...   \n...                                                 ...   \n6028  DISPÕE SOBRE A CONCESSÃO DE TÍTULO DE CIDADÃO ...   \n6029  AUTORIZA A MESA DIRETIVA DO PODER LEGISLATIVO ...   \n6030  INSTITUI A SEGUNDA SEMANA DO MÊS DE AGOSTO EM ...   \n6031  CRIA A MEDALHA VEREADOR DIVAL FIGUEIREDO MACHA...   \n6032  MODIFICA E SUPRIME DISPOSITIVOS DA RESOLUÇÃO N...   \n\n                                                  texto  \n0     O PREFEITO MUNICIPAL DE FEIRA DE SANTANA, Esta...  \n1     O PREFEITO MUNICIPAL DE FEIRA DE SANTANA, Esta...  \n2     O PREFEITO MUNICIPAL DE FEIRA DE SANTANA, Esta...  \n3     O PREFEITO MUNICIPAL DE FEIRA DE SANTANA, Esta...  \n4     O PREFEITO MUNICIPAL DE FEIRA DE SANTANA, Esta...  \n...                                                 ...  \n6028  Faço saber que a Câmara Municipal aprovou e eu...  \n6029  A CÂMARA MUNICIPAL DE FEIRA DE SANTANA, Estado...  \n6030  A CÂMARA MUNICIPAL DE FEIRA DE SANTANA, Estado...  \n6031  A CÂMARA MUNICIPAL DE FEIRA DE SANTANA, Estado...  \n6032  A CÂMARA MUNICIPAL DE FEIRA DE SANTANA, Estado...  \n\n[6033 rows x 4 columns]",
            "text/html": "<div>\n<style scoped>\n    .dataframe tbody tr th:only-of-type {\n        vertical-align: middle;\n    }\n\n    .dataframe tbody tr th {\n        vertical-align: top;\n    }\n\n    .dataframe thead th {\n        text-align: right;\n    }\n</style>\n<table border=\"1\" class=\"dataframe\">\n  <thead>\n    <tr style=\"text-align: right;\">\n      <th></th>\n      <th>titulo</th>\n      <th>categoria</th>\n      <th>resumo</th>\n      <th>texto</th>\n    </tr>\n  </thead>\n  <tbody>\n    <tr>\n      <th>0</th>\n      <td>DECRETO Nº 8854, de 28 de fevereiro de 2013.</td>\n      <td>Decretos</td>\n      <td>DELEGA COMPETÊNCIA À SECRETARIA MUNICIPAL DE P...</td>\n      <td>O PREFEITO MUNICIPAL DE FEIRA DE SANTANA, Esta...</td>\n    </tr>\n    <tr>\n      <th>1</th>\n      <td>DECRETO Nº 8849, de 25 de fevereiro de 2013.</td>\n      <td>Decretos</td>\n      <td>ABRE CRÉDITO SUPLEMENTAR AO ORÇAMENTO DO MUNIC...</td>\n      <td>O PREFEITO MUNICIPAL DE FEIRA DE SANTANA, Esta...</td>\n    </tr>\n    <tr>\n      <th>2</th>\n      <td>DECRETO Nº 8853, de 27 de fevereiro de 2013.</td>\n      <td>Decretos</td>\n      <td>NOMEIA MEMBROS DO CONSELHO MUNICIPAL DE DESENV...</td>\n      <td>O PREFEITO MUNICIPAL DE FEIRA DE SANTANA, Esta...</td>\n    </tr>\n    <tr>\n      <th>3</th>\n      <td>DECRETO Nº 8967, de 17 de julho de 2013</td>\n      <td>Decretos</td>\n      <td>ALTERA O QUADRO DE DETALHAMENTO DE DESPESA DO ...</td>\n      <td>O PREFEITO MUNICIPAL DE FEIRA DE SANTANA, Esta...</td>\n    </tr>\n    <tr>\n      <th>4</th>\n      <td>DECRETO Nº 8982, de 30 de julho de 2013</td>\n      <td>Decretos</td>\n      <td>AUTORIZA O FUNCIONAMENTO DE ESTABELECIMENTOS C...</td>\n      <td>O PREFEITO MUNICIPAL DE FEIRA DE SANTANA, Esta...</td>\n    </tr>\n    <tr>\n      <th>...</th>\n      <td>...</td>\n      <td>...</td>\n      <td>...</td>\n      <td>...</td>\n    </tr>\n    <tr>\n      <th>6028</th>\n      <td>RESOLUÇÃO Nº 125/1980</td>\n      <td>Resoluções</td>\n      <td>DISPÕE SOBRE A CONCESSÃO DE TÍTULO DE CIDADÃO ...</td>\n      <td>Faço saber que a Câmara Municipal aprovou e eu...</td>\n    </tr>\n    <tr>\n      <th>6029</th>\n      <td>RESOLUÇÃO Nº 403/2003</td>\n      <td>Resoluções</td>\n      <td>AUTORIZA A MESA DIRETIVA DO PODER LEGISLATIVO ...</td>\n      <td>A CÂMARA MUNICIPAL DE FEIRA DE SANTANA, Estado...</td>\n    </tr>\n    <tr>\n      <th>6030</th>\n      <td>RESOLUÇÃO Nº 492/2014</td>\n      <td>Resoluções</td>\n      <td>INSTITUI A SEGUNDA SEMANA DO MÊS DE AGOSTO EM ...</td>\n      <td>A CÂMARA MUNICIPAL DE FEIRA DE SANTANA, Estado...</td>\n    </tr>\n    <tr>\n      <th>6031</th>\n      <td>RESOLUÇÃO Nº 382/2001</td>\n      <td>Resoluções</td>\n      <td>CRIA A MEDALHA VEREADOR DIVAL FIGUEIREDO MACHA...</td>\n      <td>A CÂMARA MUNICIPAL DE FEIRA DE SANTANA, Estado...</td>\n    </tr>\n    <tr>\n      <th>6032</th>\n      <td>RESOLUÇÃO Nº 431/2004</td>\n      <td>Resoluções</td>\n      <td>MODIFICA E SUPRIME DISPOSITIVOS DA RESOLUÇÃO N...</td>\n      <td>A CÂMARA MUNICIPAL DE FEIRA DE SANTANA, Estado...</td>\n    </tr>\n  </tbody>\n</table>\n<p>6033 rows × 4 columns</p>\n</div>"
          },
          "metadata": {},
          "execution_count": 5
        }
      ]
    },
    {
      "cell_type": "code",
      "metadata": {
        "id": "7bY1XZSe0T_O",
        "colab_type": "code",
        "colab": {
          "base_uri": "https://localhost:8080/",
          "height": 106
        },
        "outputId": "104ae31c-0044-4273-b2f9-00838ffec295"
      },
      "source": [
        "# Exemplo de texto de lei\n",
        "leis.loc[len(leis)-1, 'texto']"
      ],
      "execution_count": 6,
      "outputs": [
        {
          "output_type": "execute_result",
          "data": {
            "text/plain": "'A CÂMARA MUNICIPAL DE FEIRA DE SANTANA, Estado da Bahia, na conformidade do artigo 70, Inciso V, da Lei Municipal nº37, de 05 de Abril de 1990 e, artigos 287, § 2º e, 420, do Regimento Interno, promulga a seguinte Resolução:\\n\\nArt. 1ºDê-se aos dispositivos abaixo mencionados, da Resolução nº393/2002 - Regimento Interno, as seguintes redações:\\n\\n\"Art. 7º A Mesa Diretora da Câmara compor-se-á do Presidente, Primeiro e Segundo Secretários, com mandato de 02 ( dois ) anos, admitida a recondução para a eleição subsequente.\\n\\n§ 4º Se, hora regimental, não estiver presente o Presidente, abrirá os trabalhos o Vice-Presidente ou, na falta deste, o Primeiro ou Segundo Secretários, na sequência, ou ainda, caso estes não estejam presentes, o Vereador mais votado nas eleições municipais.\"\\n\\n\"Art. 33 Compete, privativamente, ao Vice-Presidente:\"\\n\\n\"Art. 36 ...\\n\\nI - ...\\n\\ne) acompanhar e supervisionar a Ata da Sessão, proceder a sua leitura e assiná-la depois do Presidente e do Vice-Presidente.\\n\\nII - ...\\n\\nc) assinar, depois do Presidente e do Vice-Presidente, os atos da Mesa Diretora.\\n\\nParágrafo Único - O Primeiro Secretário será substituído em suas faltas, ausências, impedimentos ou licenças, havendo nas duas últimas hipóteses investidura na plenitude da respectiva função, pelo Segundo Secretário.\"\\n\\n\"Art. 48 As Comissões Permanentes, em número de 05 ( cinco ), são as seguinte:\\n\\nI - ...\\n\\nII - ...\\n\\nIII - ...\\n\\nIV - ...\\n\\nV - Comissão de Meio Ambiente, Direitos Humanos e Defesa do Consumidor.\"\\n\\n\"Art. 57 ...\\n\\nI - ...\\n\\nII - ...\\n\\nIII - ...\\n\\nIV - ...\\n\\nV - da Comissão de Meio Ambiente, Direitos Humanos e Defesa do Consumidor.\"\\n\\n\"a) ...\\n\\n1 - ...\\n2 - ...\\n3 - ...\\nb) ...\\nc) ...\\nd) ...\\ne) opinar sobre todas as proposições que digam respeito aos direitos humanos, especialmente àquelas que envolvam matérias referentes à criança, adolescente e idoso;\\nf) propor iniciativas relacionadas a direitos humanos;\\ng) receber reclamações e encaminhá-las aos órgãos competentes;\\nh) propor ações de combate ao rascismo e discriminação de qualquer natureza, bem como manter intercâmbio com órgãos públicos, entidades civis e filantrópicas sem fins lucrativos, para atender o disposto na alínea anterior;\\ni) divulga a legislação que trata dos direitos da mulher trabalhadora urbana e rural;\\nj) propor ações de combate à violência e prostituição infanto-juvenil;\\nk) opinar sobre proposições que versem a respeito da saúde da mulher, planejamento familiar e assistência social;\\nl) fiscalizar, em conjunto com a Delegacia Regional do Trabalho, a instalação de creches nas empresas e demais locais de trabalhos, exigidos por lei;\\nm) opinar sobre proposições relativas a produtos, serviços e, quando cabível, contratos que norteiam as relações de consumo;\\nn) desenvolver ampla divulgação da legislação e dos programas de defesa do consumidor;\\no) propor a criação de políticas e instrumentos de defesa do consumidor, em conjunto com os demais órgãos públicos e particulares;\\np) fiscalizar os produtos de consumo e seu fornecimento, e zelar pela sua qualidade;\\nq) receber reclamações e encaminhá-las ao órgão competente.\"\\n\\n\"Art. 164 O Líder e Vice-Líder podem fazer parte de Comissões Permanentes e Temporárias, exceto o Líder e Vice-Líder do Governo.\"\\n\\n\"Art. 168 Lavrar-se-á a ata, com o resumo dos trabalhos de cada sessão, cujo redação obedecerá ao padrão uniforme adotado pela Mesa Diretora.\"\\n\\n\"Art. 188 As atas serão organizadas em anais, por ordem cronológica, por período legislativo e recolhidas ao Arquivo da Câmara.\"\\n\\n\"Art. 190 Os Vereadores só poderão falar sobre a ata para impugná-la ou retificá-la no todo em parte, logo após a leitura da mesma.\\n\\n§ 1º A discussão sobre a impugnação ou retificação da ata não poderá exceder o tempo destinado ao Grande Expediente, que nesta hipótese ficará prejudicado.\"\\n\\n\"Art. 199 Aberto a sessão, o Segundo Secretário fará a leitura da ata anterior, que o Presidente submeterá à apreciação do Plenário.\"\\n\\n\"Art. 200 Após a leitura da ata, o Primeiro Secretário procederá a leitura de:\"\\n\\n\"Art. 413 - ...\\n\\nParágrafo Único - Caso o Presidente da Câmara não promulgue a lei, caberá ao Vice-Presidente promulgá-la.\"\\n\\n\"Art. 418 - ...\\n\\n§ 2º Se lei não for promulgada dentro de 48 ( quarenta e oito ) horas o Presidente da Câmara Municipal a promulgará, e se este em igual prazo, não o fizer, fá-lo-á obrigatoriamente, o Vice-Presidente.\"\\n\\nArt. 2ºDê-se ao capítulo III, do Título VII - Da Elaboração Legislativo Especial, a seguinte redação:\\n\\n\\n\"CapítuloIII\\nDA CONCESSÃO DE HONRARIAS\\n\\n\\nSEÇÃO I\\nDAS HONRARIAS\"\\n\\n\\n\\n\"Art. 402 - A Câmara Municipal concederá o Título Honorífico de Cidadão Feirense a pessoas, pelos seus relevantes e notórios serviços prestados ao Município e ao seu povo.\"\\n\\n\"Art. 403 - A Câmara Municipal também concederá:\\n\\na) Comenda - Maria Quitéria, Áureo Filho, Filinto Justiniano Ferreira Bastos, Padre Ovídio Alves de São Boaventura, Godofredo Rebello de Figueiredo Filho, Maestro Tertuliano Ferreira Santos, Armando Curvelo de Menezes e, Dr. Gastão Guimarães;\\nb) Medalhas - Mérito de Meio Ambiente, Fundação Senhor dos Passos, Vereador Dival Figueiredo Machado, Missionário Roderick Murdo Gillanders, Mérito Rotário, Zumbi dos Palmares e Arquiteto Anápio Aurélio de Miranda;\\nc) Certificados - Verde e, de Excelência.\"\\n\\n\\n\"SEÇÃO\\nDISPOSIÇÕES GERAIS\"\\n\\n\\n\"Art. 404 - O Projeto de Decreto Legislativo destinado a concessão de honrarias, deverá ser apresentado por, no mínimo, 2/3 ( dois terços ) dos membros da Câmara e, acompanhado de justificativa, além de, biografia quando inerente a pessoa física.\\n\\n§ 1º Recebido o Projeto de Decreto Legislativo, o mesmo após lido, será encaminhado à Comissão de Constituição Justiça e Redação que, dentro de 10 ( dez ) dias, emitirá parecer fundamentado, o qual após lido será pautado para a Ordem do Dia da sessão seguinte.\\n\\n§ 2º Será considerado aprovado o Projeto de Decreto Legislativo que obtiver 2/3 ( dois terços ) de votos favoráveis dos membros da Câmara.\\n\\n§ 3º Cada Vereador poderá apresentar 08 ( oito ) projetos de Decreto Legislativo por legislatura destinados a concessão do Título de Cidadão Feirense, enquanto que as demais Honrarias tem suas quantidades estabelecidas nas Resoluções que as instituíram.\"\\n\\n\"Art. 405 - As honrarias poderão ser cassadas, caso os homenageados tenham comprovadamente praticado atos que colidam com os motivos que as ensejam\\n\\nParágrafo Único - Aplicam-se os dispositivos desta Seção, no que couber, ao Projeto de Decreto Legislativo de cassação da honraria\"\\n\\nArt. 3ºSuprima-se os dispositivos abaixo mencionados, e dê-se nova numeração aos demais:\\n\\n\"a) artigos - 34,37. 87, 99, 100, 102, 124, 187, 189, 191, 192, 193, 223, 356, 417;\\nb) parágrafos - 3º do art. 101, 4º do art. 135 e único do art. 199;\"\\n\\nArt. 4ºEsta Resolução entrará em vigor na data de sua publicação, produzindo seus efeitos a partir de 1º de Janeiro de 2005, revogadas as disposições em contrário.\\n\\nMESA DIRETIVA DA CÂMARA MUNICIPAL DE FEIRA DE SANTANA, 26 de Outubro de 2004.\\n\\nVer. ANTÔNIO CARLOS DALTRO COELHO\\nPresidente\\n\\nVer. GENÉSIO SERAFIM DE LIMA\\n1º Secretário\\n\\nVer. JORGE RAIMUNDO DE OLIVEIRA SILVA\\n2º Secretário'"
          },
          "metadata": {},
          "execution_count": 6
        }
      ]
    },
    {
      "cell_type": "code",
      "metadata": {
        "id": "k2uDajvs0T_T",
        "colab_type": "code",
        "colab": {
          "base_uri": "https://localhost:8080/",
          "height": 52
        },
        "outputId": "abc09edd-bde1-4e71-c348-528f2e5138ea",
        "tags": []
      },
      "source": [
        "import nltk\n",
        "nltk.download('stopwords')\n",
        "from nltk.corpus import stopwords\n",
        "import re\n",
        "# import unicodedata\n",
        "\n",
        "def limpa_texto(text, return_string=True) -> str or list:\n",
        "    if (type(text) == float):\n",
        "        return ''\n",
        "\n",
        "    # Remove pontuacao, digitos e espacos\n",
        "    text = re.sub(r'[0-9]+', ' NUM ', text.lower())\n",
        "    text = ' '.join(re.findall(r'\\b[A-Za-zÀ-ú]+[-A-Za-zÀ-ú]*', text))\n",
        "    \n",
        "    # Remove acentos, cedilhas etc\n",
        "    # nfkd_form = unicodedata.normalize('NFKD', text)\n",
        "    # text = ''.join([char for char in nfkd_form if not unicodedata.combining(char)])\n",
        "\n",
        "    # Remove stopwords\n",
        "    my_stopwords = stopwords.words('portuguese')\n",
        "    my_words = ['desta', 'destas', 'deste', 'destes', 'qualquer', 'das', 'seguintes', \n",
        "    'i', 'ii', 'iii', 'iv', 'v', 'vi', 'vii', 'viii', 'ix', 'x',\n",
        "    'xi', 'xii', 'xiii', 'xiv', 'xv', 'xvi', 'xvii', 'xviii', 'xix', 'xx',\n",
        "    'b', 'c', 'd', 'f', 'g', 'h', 'j', 'k', 'l', 'm', 'n', 'p', 'q', 'r', 's', \n",
        "    't', 'u', 'w', 'x', 'y', 'z']\n",
        "    my_stopwords = my_stopwords + my_words\n",
        "\n",
        "    text = [word for word in text.split() if word not in my_stopwords]\n",
        "\n",
        "    if return_string:\n",
        "        return ' '.join(text)\n",
        "    else:\n",
        "        return text"
      ],
      "execution_count": 29,
      "outputs": [
        {
          "output_type": "stream",
          "name": "stderr",
          "text": "[nltk_data] Downloading package stopwords to /home/guiga/nltk_data...\n[nltk_data]   Package stopwords is already up-to-date!\n"
        }
      ]
    },
    {
      "cell_type": "markdown",
      "metadata": {
        "id": "o3JpPMrw0T_Z",
        "colab_type": "text"
      },
      "source": [
        "# Semelhança de documentos"
      ]
    },
    {
      "cell_type": "code",
      "metadata": {
        "id": "SEh4OLr-0T_b",
        "colab_type": "code",
        "colab": {}
      },
      "source": [
        "leis['texto_limpo'] = leis['texto'].apply(limpa_texto)"
      ],
      "execution_count": 30,
      "outputs": []
    },
    {
      "cell_type": "code",
      "metadata": {
        "id": "1SPaMnra0T_g",
        "colab_type": "code",
        "colab": {
          "base_uri": "https://localhost:8080/",
          "height": 52
        },
        "outputId": "bdabe518-a835-4d1e-f5cd-17744618cf27"
      },
      "source": [
        "# Constrói matriz de documentos\n",
        "from sklearn.feature_extraction.text import CountVectorizer, TfidfTransformer\n",
        "vectorizer = CountVectorizer()\n",
        "representacao_contagem = vectorizer.fit_transform(leis['texto_limpo'])\n",
        "representacao_contagem"
      ],
      "execution_count": 31,
      "outputs": [
        {
          "output_type": "execute_result",
          "data": {
            "text/plain": "<6033x30210 sparse matrix of type '<class 'numpy.int64'>'\n\twith 625461 stored elements in Compressed Sparse Row format>"
          },
          "metadata": {},
          "execution_count": 31
        }
      ]
    },
    {
      "cell_type": "code",
      "execution_count": 32,
      "metadata": {
        "tags": []
      },
      "outputs": [
        {
          "output_type": "stream",
          "name": "stdout",
          "text": "30210\n"
        }
      ],
      "source": [
        "vocabulario = vectorizer.vocabulary_\n",
        "print(len(vocabulario))"
      ]
    },
    {
      "cell_type": "code",
      "execution_count": 33,
      "metadata": {
        "tags": []
      },
      "outputs": [
        {
          "output_type": "stream",
          "name": "stdout",
          "text": "320139\n"
        }
      ],
      "source": [
        "dicionario = []\n",
        "with open('.dicio/palavras.txt') as f:\n",
        "    dicionario = [i for i in f.read().splitlines()]\n",
        "print(len(dicionario))"
      ]
    },
    {
      "cell_type": "code",
      "execution_count": 34,
      "metadata": {},
      "outputs": [
        {
          "output_type": "execute_result",
          "data": {
            "text/plain": "318280"
          },
          "metadata": {},
          "execution_count": 34
        }
      ],
      "source": [
        "dicionario = set(map(limpa_texto, dicionario))\n",
        "len(dicionario)"
      ]
    },
    {
      "cell_type": "code",
      "execution_count": 35,
      "metadata": {
        "tags": []
      },
      "outputs": [],
      "source": [
        "# comeca_o = [i for i in dicionario if (i[0:2]== 'us')]\n",
        "# comeca_o"
      ]
    },
    {
      "cell_type": "code",
      "execution_count": 36,
      "metadata": {
        "tags": []
      },
      "outputs": [
        {
          "output_type": "stream",
          "name": "stdout",
          "text": "19430\n"
        },
        {
          "output_type": "execute_result",
          "data": {
            "text/plain": "['uso',\n 'atribuições',\n 'considerando',\n 'denominado',\n 'oferta',\n 'aludido',\n 'num',\n 'dispõe',\n 'antidrogas',\n 'estabelece',\n 'outra',\n 'desenvolvimento',\n 'políticas',\n 'drogas',\n 'ilícitas',\n 'decreta',\n 'comad',\n 'respectivas',\n 'entrará',\n 'revogadas',\n 'disposições',\n 'lucena',\n 'legais',\n 'contida',\n 'detalhamento',\n 'class',\n 'programática',\n 'econômica',\n 'formatada',\n 'técnica',\n 'leismunicipais',\n 'disponíveis',\n 'despesas',\n 'decorrentes',\n 'presente',\n 'correrão',\n 'anulações',\n 'dotações',\n 'detalhadas',\n 'contabilidade',\n 'autorizada',\n 'contábeis',\n 'necessários',\n 'cumprimento',\n 'estratégica',\n 'fomento',\n 'política',\n 'indicações',\n 'formuladas',\n 'entes',\n 'governamentais',\n 'integram',\n 'nomeadas',\n 'integrarem',\n 'representando',\n 'settdec',\n 'márcia',\n 'cristina',\n 'campodônio',\n 'eloy',\n 'planejamento',\n 'brito',\n 'fraga',\n 'maia',\n 'luis',\n 'venas',\n 'universidade',\n 'uefs',\n 'celismara',\n 'morais',\n 'subaé',\n 'cedraz',\n 'vaccarezza',\n 'baiana',\n 'ebda',\n 'caldas',\n 'indústrias',\n 'cifs',\n 'baptista',\n 'acefs',\n 'armando',\n 'dirigentes',\n 'lojistas',\n 'muller',\n 'sindicato',\n 'contabilistas',\n 'sincont',\n 'alda',\n 'nery',\n 'sicomfs',\n 'setcarfs',\n 'empregados',\n 'délcio',\n 'adalton',\n 'hotéis',\n 'restaurantes',\n 'bares',\n 'similares',\n 'sindihr',\n 'rurais',\n 'rodrigues',\n 'apoio',\n 'christiano',\n 'renato',\n 'fernanda',\n 'sindvest',\n 'ane',\n 'rose',\n 'meirevam',\n 'exercida',\n 'conselheiros',\n 'representam',\n 'órgãos',\n 'nomeados',\n 'permitida',\n 'recondução',\n 'fundamento',\n 'inciso',\n 'alterado',\n 'indicada',\n 'anexo',\n 'acréscimo',\n 'conjunta',\n 'comemoração',\n 'alusiva',\n 'excepcionalmente',\n 'funcionamento',\n 'estabelecimentos',\n 'comerciais',\n 'especificado',\n 'domingo',\n 'impede',\n 'extraordinárias',\n 'devido',\n 'consoante',\n 'conformidade',\n 'instituiu',\n 'direta',\n 'acompanhamento',\n 'vinculada',\n 'natalie',\n 'pedagoga',\n 'claudiana',\n 'psicóloga',\n 'edmeia',\n 'ildes',\n 'caracteriza',\n 'indulgências',\n 'eclesiásticas',\n 'estabelecido',\n 'repartições',\n 'municipais',\n 'não',\n 'sujeitas',\n 'prestem',\n 'essenciais',\n 'simplificado',\n 'produtiva',\n 'criada',\n 'banca',\n 'examinadora',\n 'temporária',\n 'senaes',\n 'constituída',\n 'mota',\n 'referida',\n 'revogada',\n 'secretario',\n 'havia',\n 'sido',\n 'composta',\n 'comprodec',\n 'autárquica',\n 'redação',\n 'vinculados',\n 'permite',\n 'levantamentos',\n 'devendo',\n 'dispêndios',\n 'correspondentes',\n 'serem',\n 'especificados',\n 'infraestrutura',\n 'obpi',\n 'viabilidade',\n 'privadas',\n 'logística',\n 'podendo',\n 'prorrogado',\n 'sendo',\n 'mencionada',\n 'deverá',\n 'constando',\n 'pretende',\n 'eventuais',\n 'interessados',\n 'apresentem',\n 'procedimento',\n 'interesse',\n 'privada',\n 'constante',\n 'concedida',\n 'exclusividade',\n 'gera',\n 'outorga',\n 'obriga',\n 'ressarcimento',\n 'envolvidos',\n 'intransferível',\n 'investigações',\n 'realizadas',\n 'implica',\n 'alguma',\n 'corresponsabilidade',\n 'praticados',\n 'constantes',\n 'começam',\n 'alterando',\n 'anteriormente',\n 'estabelecidos',\n 'antonio',\n 'arcênio',\n 'extraordinário',\n 'convênios',\n 'diretrizes',\n 'convocada',\n 'realizada',\n 'avivamento',\n 'situada',\n 'tendo',\n 'própria',\n 'titulares',\n 'suplentes',\n 'adriana',\n 'suzart',\n 'cotias',\n 'osmário',\n 'aidil',\n 'giselle',\n 'góes',\n 'teles',\n 'adilson',\n 'patrícia',\n 'servidora',\n 'ausências',\n 'impedimentos',\n 'desde',\n 'pregões',\n 'eletrônicos',\n 'presenciais',\n 'titularidade',\n 'ficará',\n 'cargo',\n 'pregoeira',\n 'merces',\n 'elidiane',\n 'claudia',\n 'nilda',\n 'sirleide',\n 'confere',\n 'dalei',\n 'orgânicado',\n 'parcerias',\n 'capítuloi',\n 'instituído',\n 'pmi',\n 'particulares',\n 'patrocinada',\n 'administrativa',\n 'indireta',\n 'dispostos',\n 'poderão',\n 'obtidos',\n 'tais',\n 'pesquisas',\n 'soluções',\n 'tecnológicas',\n 'técnicas',\n 'pareceres',\n 'ppps',\n 'provocado',\n 'considera',\n 'se',\n 'iniciado',\n 'poderá',\n 'atendida',\n 'provocação',\n 'interessado',\n 'protocolo',\n 'requerimento',\n 'endereçado',\n 'cgpm',\n 'emitida',\n 'físicas',\n 'jurídicas',\n 'risco',\n 'contenha',\n 'especialmente',\n 'profissão',\n 'endereço',\n 'envio',\n 'notificações',\n 'entende',\n 'estimado',\n 'mencionados',\n 'proposto',\n 'representará',\n 'pedido',\n 'legalmente',\n 'autorizado',\n 'requerente',\n 'recebendo',\n 'indicado',\n 'convocará',\n 'oportunidade',\n 'decidirá',\n 'cumpre',\n 'interessadas',\n 'deverão',\n 'exigidos',\n 'adicionais',\n 'comunicada',\n 'caberá',\n 'recomendação',\n 'enviará',\n 'disponibilize',\n 'física',\n 'apresente',\n 'indique',\n 'cada',\n 'juntamente',\n 'condições',\n 'conterá',\n 'entregues',\n 'proponente',\n 'acolhimento',\n 'ueppp',\n 'gts',\n 'chamamento',\n 'fixará',\n 'autorizadas',\n 'publicada',\n 'propostas',\n 'conjuntamente',\n 'outros',\n 'venham',\n 'definidos',\n 'licitado',\n 'deixando',\n 'possibilidade',\n 'diferentes',\n 'recebimento',\n 'realizados',\n 'quais',\n 'consistirão',\n 'subsidiaram',\n 'melhores',\n 'procedimentos',\n 'científicos',\n 'pertinentes',\n 'utilizando',\n 'equipamentos',\n 'recomendados',\n 'aplicada',\n 'compatibilidade',\n 'emitidas',\n 'setoriais',\n 'exigências',\n 'estabelecidas',\n 'comparativa',\n 'empreendimento',\n 'opções',\n 'funcionalmente',\n 'existentes',\n 'contraprestação',\n 'admitida',\n 'estabelecimento',\n 'complexidade',\n 'articulações',\n 'necessárias',\n 'restrinja',\n 'preliminares',\n 'dependerá',\n 'conclusões',\n 'obtidas',\n 'apresentados',\n 'diretamente',\n 'jurídica',\n 'modalidades',\n 'análises',\n 'conferida',\n 'impedirá',\n 'informará',\n 'outras',\n 'autorizados',\n 'aplicados',\n 'licitatório',\n 'capítuloii',\n 'apresentadas',\n 'analisadas',\n 'julgadas',\n 'encaminhará',\n 'selecionada',\n 'gerará',\n 'resulta',\n 'obrigará',\n 'criará',\n 'gerando',\n 'sentido',\n 'incondicional',\n 'autorais',\n 'solicitados',\n 'assegurado',\n 'sigilo',\n 'cadastrais',\n 'solicitado',\n 'autorizações',\n 'anuladas',\n 'verificada',\n 'ilegalidade',\n 'cassadas',\n 'atendidos',\n 'geram',\n 'efetuada',\n 'represente',\n 'endereçada',\n 'retirados',\n 'eventualmente',\n 'encaminhados',\n 'destruídos',\n 'capítuloiii',\n 'demandados',\n 'aceitos',\n 'gravados',\n 'acesso',\n 'especificando',\n 'abordagem',\n 'totalmente',\n 'sugestões',\n 'advindas',\n 'solicitações',\n 'autorizará',\n 'utilizados',\n 'integralmente',\n 'artigos',\n 'motivadas',\n 'através',\n 'orçamentária',\n 'interessa',\n 'consultorias',\n 'especializadas',\n 'assessoramento',\n 'itens',\n 'específicas',\n 'derivado',\n 'respeito',\n 'úteis',\n 'antes',\n 'manifestações',\n 'analisados',\n 'pedidos',\n 'respondidas',\n 'solicitante',\n 'interesses',\n 'combiná',\n 'entidades',\n 'junto',\n 'consultores',\n 'contratados',\n 'encaminhá',\n 'los',\n 'atende',\n 'satisfatoriamente',\n 'selecionará',\n 'futura',\n 'inutilizados',\n 'licitatórios',\n 'etapas',\n 'relativas',\n 'externa',\n 'conduzidas',\n 'cuja',\n 'comunicará',\n 'formalmente',\n 'resultado',\n 'capítuloiv',\n 'concluída',\n 'selecionados',\n 'aprovados',\n 'atualizados',\n 'monetariamente',\n 'der',\n 'conclua',\n 'incompatibilidade',\n 'usuais',\n 'evantamentos',\n 'montante',\n 'arbitrado',\n 'rejeitado',\n 'utilizadas',\n 'contidas',\n 'faculta',\n 'manifestada',\n 'expressa',\n 'pecuniários',\n 'ressarcidos',\n 'exclusivamente',\n 'efetivamente',\n 'nenhuma',\n 'devida',\n 'pecuniária',\n 'obrigatoriamente',\n 'condicione',\n 'capítulov',\n 'patrocinadores',\n 'derivados',\n 'patrocinador',\n 'contribuído',\n 'financeiramente',\n 'recurso',\n 'decisões',\n 'proferidas',\n 'admitidas',\n 'impugnações',\n 'estrita',\n 'contados',\n 'impugnar',\n 'omissas',\n 'alterações',\n 'concedido',\n 'tama',\n 'embalagens',\n 'agrícolas',\n 'lt',\n 'mf',\n 'atento',\n 'taxa',\n 'imposto',\n 'issqn',\n 'prestadores',\n 'classificados',\n 'subitens',\n 'refere',\n 'localizadas',\n 'mantenham',\n 'diretos',\n 'empreitada',\n 'subempreitada',\n 'hidráulica',\n 'semelhantes',\n 'produtos',\n 'reparação',\n 'confederações',\n 'fifa',\n 'eventos',\n 'esportivos',\n 'envolventes',\n 'emocionantes',\n 'nessas',\n 'oportunidades',\n 'nacionalistas',\n 'patrióticos',\n 'afloram',\n 'implementado',\n 'aplica',\n 'desenvolvidas',\n 'admitam',\n 'interrupções',\n 'cancelamento',\n 'imóveis',\n 'hipoteca',\n 'resolve',\n 'construções',\n 'empreendimentos',\n 'spe',\n 'festividades',\n 'considerado',\n 'finalidade',\n 'regimento',\n 'estabelecida',\n 'reorganizado',\n 'administrativamente',\n 'politicamente',\n 'coordenando',\n 'competindo',\n 'lhe',\n 'correlatas',\n 'provimento',\n 'competências',\n 'respectivos',\n 'cabe',\n 'competentes',\n 'reinvidicações',\n 'busquem',\n 'problemas',\n 'dependam',\n 'supervisionar',\n 'todas',\n 'cerimônias',\n 'cívicas',\n 'recepções',\n 'solenidades',\n 'agenda',\n 'despachos',\n 'controle',\n 'dando',\n 'posse',\n 'publicados',\n 'exarados',\n 'expedientes',\n 'normais',\n 'despachando',\n 'instruções',\n 'zelando',\n 'mesmos',\n 'inerentes',\n 'produzidos',\n 'recebidos',\n 'levados',\n 'destinatários',\n 'demandaram',\n 'apresentando',\n 'reivindicações',\n 'elaborando',\n 'estrangeiras',\n 'consultas',\n 'diversas',\n 'visando',\n 'relatórios',\n 'enviados',\n 'administrativas',\n 'específicos',\n 'designados',\n 'desempenhar',\n 'visem',\n 'melhoria',\n 'desenvolver',\n 'representação',\n 'contatos',\n 'organismos',\n 'privados',\n 'compreendidos',\n 'mensagens',\n 'atribuídos',\n 'substituições',\n 'faltas',\n 'servidores',\n 'indicados',\n 'trata',\n 'efetivadas',\n 'contidos',\n 'omissos',\n 'esclarecidos',\n 'expedidas',\n 'conferidas',\n 'determinações',\n 'aprovada',\n 'enquadramento',\n 'funcionários',\n 'efetivados',\n 'isolados',\n 'provimentos',\n 'enquadrados',\n 'continuarão',\n 'funções',\n 'mesma',\n 'efeitos',\n 'dival',\n 'charles',\n 'sant',\n 'mensag',\n 'izaltina',\n 'vigilante',\n 'olimpio',\n 'claudemiro',\n 'soares',\n 'pelúcio',\n 'elisiana',\n 'telefonista',\n 'lesgisl',\n 'anisía',\n 'datilog',\n 'financ',\n 'uilma',\n 'doranei',\n 'silveira',\n 'zenilda',\n 'leda',\n 'eunira',\n 'daltro',\n 'deb',\n 'ofic',\n 'egisl',\n 'ol',\n 'erideth',\n 'tesour',\n 'motorist',\n 'mp',\n 'valadão',\n 'federais',\n 'acessibilidade',\n 'portadoras',\n 'resoluções',\n 'estacionamento',\n 'vagas',\n 'reservadas',\n 'idosas',\n 'deficiências',\n 'dificuldades',\n 'instituições',\n 'disponham',\n 'destinadas',\n 'caminhoneta',\n 'transportem',\n 'idosa',\n 'portadora',\n 'estacionamentos',\n 'obrigatória',\n 'utilizada',\n 'cadastrada',\n 'smt',\n 'apenas',\n 'assegura',\n 'isenta',\n 'portador',\n 'conduta',\n 'internas',\n 'sinalizadas',\n 'permissões',\n 'parada',\n 'mencionadas',\n 'símbolos',\n 'autoriza',\n 'domiciliadas',\n 'sanções',\n 'penalidades',\n 'credenciais',\n 'previstos',\n 'acrescidas',\n 'falsificações',\n 'estacionados',\n 'cima',\n 'apresentá',\n 'verificações',\n 'desacordo',\n 'constituía',\n 'infração',\n 'prevista',\n 'sujeita',\n 'remoção',\n 'arrecadada',\n 'multas',\n 'taxas',\n 'referidas',\n 'fixadas',\n 'reservarem',\n 'fiscalizarem',\n 'providenciarem',\n 'identificá',\n 'campanhas',\n 'responsáveis',\n 'devam',\n 'disponibilizadas',\n 'previstas',\n 'cooperação',\n 'orçamentárias',\n 'próprias',\n 'ebenezer',\n 'tuy',\n 'transportes',\n 'desenvolverá',\n 'temática',\n 'urbana',\n 'urbanos',\n 'finalidades',\n 'sistemas',\n 'agendas',\n 'metas',\n 'presidida',\n 'impedimento',\n 'orçamentários',\n 'instituída',\n 'única',\n 'certames',\n 'integrantes',\n 'definida',\n 'representantes',\n 'atuarem',\n 'investidura',\n 'descentralizada',\n 'designada',\n 'exija',\n 'integrada',\n 'ilibada',\n 'reconhecido',\n 'conhecimento',\n 'examinada',\n 'demonstre',\n 'elevado',\n 'específica',\n 'respondendo',\n 'transferências',\n 'arrendamento',\n 'pnhu',\n 'pmcmv',\n 'definidas',\n 'valdenice',\n 'suzarte',\n 'cinq',\n 'esportes',\n 'constitui',\n 'gestora',\n 'ugl',\n 'funcionará',\n 'interlocutora',\n 'silvio',\n 'emerson',\n 'britto',\n 'georgeton',\n 'bazílio',\n 'fernandez',\n 'fundiária',\n 'fixando',\n 'limites',\n 'permitidos',\n 'festejos',\n 'distritos',\n 'determinadas',\n 'liberadas',\n 'sonoros',\n 'infrações',\n 'naturais',\n 'semmam',\n 'prepostos',\n 'sustentabilidade',\n 'desejem',\n 'obedecerão',\n 'níveis',\n 'emissões',\n 'sonoras',\n 'fixados',\n 'aplicam',\n 'sitio',\n 'estando',\n 'logradouros',\n 'compreendido',\n 'inicio',\n 'discriminados',\n 'decibéis',\n 'clubes',\n 'medidos',\n 'imóvel',\n 'encontra',\n 'palcos',\n 'participantes',\n 'devem',\n 'diversos',\n 'advertências',\n 'escritas',\n 'afixadas',\n 'advertindo',\n 'naquela',\n 'provocados',\n 'continua',\n 'sons',\n 'ruídos',\n 'protetores',\n 'plug',\n 'prestarem',\n 'inobservância',\n 'acarretará',\n 'infratora',\n 'reincidência',\n 'revertidas',\n 'fundema',\n 'colaborar',\n 'determinando',\n 'tourinho',\n 'demonstra',\n 'revisados',\n 'administrativos',\n 'eivados',\n 'necessária',\n 'concedidas',\n 'exaradas',\n 'cmaa',\n 'amparo',\n 'nidi',\n 'neire',\n 'cmdca',\n 'tesouro',\n 'carece',\n 'inadmissível',\n 'encarregado',\n 'nalei',\n 'orgânicamunicipal',\n 'gráfica',\n 'assinaturas',\n 'vinculado',\n 'descentralizadas',\n 'regimentos',\n 'àlei',\n 'regulamenta',\n 'segundafeira',\n 'bancária',\n 'expressamente',\n 'proibida',\n 'micaretescos',\n 'haverá',\n 'fiscalizará',\n 'desses',\n 'lotados',\n 'atribuindo',\n 'infratores',\n 'bancários',\n 'tarcízio',\n 'milton',\n 'atualmente',\n 'automobilística',\n 'avançados',\n 'denominados',\n 'capacidade',\n 'biarticulado',\n 'adotado',\n 'mantidos',\n 'articulados',\n 'biarticulados',\n 'entrarão',\n 'vistoria',\n 'revogando',\n 'emmanuel',\n 'oguri',\n 'advogados',\n 'subseção',\n 'alíneas',\n 'passam',\n 'jayana',\n 'conselheira',\n 'produzirá',\n 'loteamento',\n 'localizado',\n 'nesta',\n 'leia',\n 'loteamentos',\n 'incorporações',\n 'bens',\n 'limitando',\n 'laura',\n 'ocupando',\n 'exclusiva',\n 'lotes',\n 'residenciais',\n 'destinados',\n 'exclusivas',\n 'quarados',\n 'incorporadas',\n 'edificações',\n 'descontos',\n 'escrita',\n 'consignações',\n 'regulamento',\n 'pensionistas',\n 'compulsórias',\n 'facultativas',\n 'créditos',\n 'resultantes',\n 'compulsória',\n 'facultativa',\n 'consignante',\n 'procede',\n 'contracheque',\n 'consignado',\n 'inativo',\n 'desconto',\n 'efetuado',\n 'compreendendo',\n 'previdenciária',\n 'alimentícia',\n 'fixada',\n 'determinada',\n 'judicialmente',\n 'proventos',\n 'reposição',\n 'concedidos',\n 'sindicais',\n 'instituídos',\n 'prévia',\n 'mensalidade',\n 'associações',\n 'cooperativa',\n 'beneficiários',\n 'medicamentos',\n 'odontológica',\n 'ótica',\n 'psicológica',\n 'profissionalizante',\n 'referente',\n 'financiado',\n 'financeira',\n 'relativa',\n ...]"
          },
          "metadata": {},
          "execution_count": 36
        }
      ],
      "source": [
        "palavras_erradas = [palavra for palavra in vocabulario if palavra not in dicionario]\n",
        "print(len(palavras_erradas))\n",
        "palavras_erradas"
      ]
    },
    {
      "cell_type": "code",
      "execution_count": 37,
      "metadata": {},
      "outputs": [
        {
          "output_type": "execute_result",
          "data": {
            "text/plain": "549053"
          },
          "metadata": {},
          "execution_count": 37
        }
      ],
      "source": [
        "dic_ugc = []\n",
        "with open('.dicio/dicio_UGC.txt') as f:\n",
        "    dic_ugc = [linha.split(',')[0] for linha in f]\n",
        "len(dic_ugc)"
      ]
    },
    {
      "cell_type": "code",
      "execution_count": 38,
      "metadata": {
        "tags": []
      },
      "outputs": [
        {
          "output_type": "stream",
          "name": "stdout",
          "text": "5259\n"
        },
        {
          "output_type": "execute_result",
          "data": {
            "text/plain": "['comad',\n 'class',\n 'leismunicipais',\n 'settdec',\n 'campodônio',\n 'venas',\n 'uefs',\n 'celismara',\n 'subaé',\n 'cedraz',\n 'vaccarezza',\n 'ebda',\n 'cifs',\n 'acefs',\n 'sincont',\n 'sicomfs',\n 'setcarfs',\n 'délcio',\n 'adalton',\n 'sindihr',\n 'sindvest',\n 'ane',\n 'meirevam',\n 'claudiana',\n 'edmeia',\n 'ildes',\n 'senaes',\n 'comprodec',\n 'obpi',\n 'arcênio',\n 'suzart',\n 'osmário',\n 'aidil',\n 'giselle',\n 'pregoeira',\n 'merces',\n 'elidiane',\n 'sirleide',\n 'dalei',\n 'orgânicado',\n 'capítuloi',\n 'pmi',\n 'ppps',\n 'cgpm',\n 'ueppp',\n 'gts',\n 'capítuloii',\n 'capítuloiii',\n 'combiná',\n 'encaminhá',\n 'los',\n 'capítuloiv',\n 'evantamentos',\n 'capítulov',\n 'tama',\n 'lt',\n 'issqn',\n 'subempreitada',\n 'spe',\n 'reinvidicações',\n 'dival',\n 'mensag',\n 'izaltina',\n 'claudemiro',\n 'pelúcio',\n 'elisiana',\n 'lesgisl',\n 'anisía',\n 'datilog',\n 'financ',\n 'uilma',\n 'doranei',\n 'zenilda',\n 'eunira',\n 'deb',\n 'ofic',\n 'egisl',\n 'ol',\n 'erideth',\n 'tesour',\n 'motorist',\n 'smt',\n 'apresentá',\n 'identificá',\n 'ebenezer',\n 'tuy',\n 'pnhu',\n 'pmcmv',\n 'valdenice',\n 'suzarte',\n 'cinq',\n 'ugl',\n 'georgeton',\n 'bazílio',\n 'semmam',\n 'plug',\n 'fundema',\n 'cmaa',\n 'nidi',\n 'neire',\n 'cmdca',\n 'nalei',\n 'orgânicamunicipal',\n 'àlei',\n 'segundafeira',\n 'micaretescos',\n 'tarcízio',\n 'biarticulado',\n 'biarticulados',\n 'oguri',\n 'jayana',\n 'representá',\n 'fazê',\n 'atendê',\n 'peti',\n 'deraldo',\n 'rosilda',\n 'jilvan',\n 'wiara',\n 'wanderlan',\n 'paolilo',\n 'ordachson',\n 'iridan',\n 'daniell',\n 'katiuscia',\n 'angelo',\n 'livia',\n 'elycarla',\n 'joselita',\n 'cinthia',\n 'edivonete',\n 'elisangela',\n 'valnisia',\n 'pmfs',\n 'sedeso',\n 'fmdca',\n 'convocá',\n 'conanda',\n 'submetê',\n 'mencioná',\n 'jucinara',\n 'jailton',\n 'hayana',\n 'neilde',\n 'siviriano',\n 'juciara',\n 'montino',\n 'renilza',\n 'francimary',\n 'pair',\n 'èrico',\n 'guanais',\n 'marineide',\n 'rossine',\n 'aristótelis',\n 'desenv',\n 'joedilson',\n 'exeuby',\n 'odunge',\n 'acup',\n 'adufs',\n 'uzeda',\n 'sindcarfs',\n 'cloves',\n 'gerinaldo',\n 'apafs',\n 'exig',\n 'planolar',\n 'alphaville',\n 'vrc',\n 'ville',\n 'abrasf',\n 'cosif',\n 'feiradesantana',\n 'icp',\n 'pgcc',\n 'dam',\n 'rogeane',\n 'chalegre',\n 'marinez',\n 'cirqueira',\n 'pollyana',\n 'piana',\n 'acn',\n 'alécia',\n 'cras',\n 'marinalva',\n 'creas',\n 'rosenildes',\n 'bernardete',\n 'maricélia',\n 'interdistritais',\n 'conferidosin',\n 'ate',\n 'boulevard',\n 'soneide',\n 'joadson',\n 'gorette',\n 'aureluiza',\n 'quintans',\n 'momescos',\n 'micaretescas',\n 'maneca',\n 'kalilândia',\n 'reelese',\n 'secel',\n 'subregistro',\n 'franqueira',\n 'bpc',\n 'lenio',\n 'ederval',\n 'sinapir',\n 'comdecni',\n 'subtemas',\n 'comdcni',\n 'igualdaderacial',\n 'transgêneros',\n 'lgbtt',\n 'compir',\n 'cmae',\n 'soleide',\n 'angela',\n 'elsimar',\n 'pondé',\n 'cristinionizio',\n 'itamara',\n 'hélia',\n 'poliana',\n 'nathalia',\n 'lucidalva',\n 'renival',\n 'condema',\n 'marthone',\n 'ozeny',\n 'mirillo',\n 'lucivania',\n 'isac',\n 'aplb',\n 'cleudson',\n 'fpm',\n 'transf',\n 'conv',\n 'fms',\n 'ipfs',\n 'fhfs',\n 'arsepuc',\n 'agr',\n 'hid',\n 'gab',\n 'municipio',\n 'capítulovi',\n 'recebê',\n 'capítulovii',\n 'exercentes',\n 'pgm',\n 'paracer',\n 'anuênios',\n 'aldeide',\n 'allyne',\n 'gisely',\n 'margarethe',\n 'denival',\n 'edimario',\n 'edinelza',\n 'evangivaldo',\n 'barcelar',\n 'girlene',\n 'jaciane',\n 'jackline',\n 'jamille',\n 'adailton',\n 'uzêda',\n 'josemir',\n 'jocelandio',\n 'jucélia',\n 'railda',\n 'administraçã',\n 'pelalei',\n 'phaseolus',\n 'zea',\n 'mays',\n 'fide',\n 'cobrade',\n 'lc',\n 'intraorçamentária',\n 'menilha',\n 'tupy',\n 'anchiêta',\n 'maúricio',\n 'seprev',\n 'piauy',\n 'deiró',\n 'calumby',\n 'edy',\n 'nívia',\n 'petillo',\n 'neydson',\n 'cprl',\n 'pmba',\n 'adelmário',\n 'vanderval',\n 'py',\n 'iramar',\n 'orgânicada',\n 'fpi',\n 'naron',\n 'enezer',\n 'comdec',\n 'fsa',\n 'mj',\n 'piauhy',\n 'ifmt',\n 'geancarlos',\n 'flailton',\n 'frankles',\n 'joilson',\n 'sonicleibe',\n 'kruschewsky',\n 'smtt',\n 'intersetorial',\n 'artêmia',\n 'noide',\n 'aelson',\n 'rapid',\n 'brt',\n 'claúdio',\n 'club',\n 'publicá',\n 'anísia',\n 'ivonete',\n 'rpps',\n 'anilton',\n 'ivanise',\n 'verena',\n 'aísile',\n 'rivas',\n 'sanhueza',\n 'joseli',\n 'gliciana',\n 'vergne',\n 'liginalva',\n 'benildes',\n 'gidivaldo',\n 'ppa',\n 'tiquaruçu',\n 'raphael',\n 'kérssia',\n 'mirella',\n 'expofeira',\n 'seagri',\n 'dams',\n 'gois',\n 'srs',\n 'geórgeton',\n 'deibson',\n 'pmis',\n 'hoc',\n 'orgânicade',\n 'subseq',\n 'passá',\n 'julgá',\n 'orgânicae',\n 'assiná',\n 'sumidor',\n 'solicitá',\n 'requisitá',\n 'contê',\n 'acolhê',\n 'ihes',\n 'fundacionais',\n 'demissívelad',\n 'ihe',\n 'consang',\n 'declará',\n 'oferecê',\n 'inobservar',\n 'desinvestidura',\n 'preenchê',\n 'comprová',\n 'destiná',\n 'convidá',\n 'impugná',\n 'retificá',\n 'nesteregimento',\n 'refazê',\n 'utilizá',\n 'prejudicialidade',\n 'regimentalidade',\n 'defendê',\n 'proposicões',\n 'adotação',\n 'promuigação',\n 'formulá',\n 'apreciá',\n 'iei',\n 'iegislativo',\n 'comprometê',\n 'considerá',\n 'capítuloviii',\n 'informá',\n 'modificá',\n 'nào',\n 'reformulá',\n 'câmaram',\n 'murdo',\n 'gillanders',\n 'instituiram',\n 'promulgá',\n 'iegal',\n 'coêlho',\n 'clailton',\n 'incp',\n 'edelvira',\n 'calumbí',\n 'colbert',\n 'oyama',\n 'famfs',\n 'dires',\n 'hóteis',\n 'logistas',\n 'sesp',\n 'nóide',\n 'cobert',\n 'bertolino',\n 'prrfeito',\n 'robeci',\n 'adefs',\n 'dispença',\n 'sargetas',\n 'posêidon',\n 'héstia',\n 'sinjorba',\n 'zeis',\n 'proinfância',\n 'sicar',\n 'eliziario',\n 'abecregê',\n 'mantê',\n 'sarrafeado',\n 'paraestaduais',\n 'salario',\n 'dsts',\n 'nincho',\n 'anticâmara',\n 'avisadores',\n 'vasão',\n 'mangotino',\n 'subfunção',\n 'autorizativas',\n 'qdds',\n 'adequá',\n 'orrico',\n 'funabem',\n 'marialvo',\n 'aristoteles',\n 'liomar',\n 'cmddh',\n 'pnas',\n 'socioassistenciais',\n 'cnas',\n 'intergestores',\n 'cib',\n 'pbf',\n 'socioeducativas',\n 'cmas',\n 'autoconvocar',\n 'cmasfs',\n 'conhecimentoin',\n 'locoda',\n 'narcísio',\n 'masacarenhas',\n 'desenvolivimento',\n 'ewerton',\n 'iptables',\n 'dhcp',\n 'activedirectore',\n 'acesspoint',\n 'ascom',\n 'odontólogos',\n 'rosae',\n 'crucis',\n 'pronaos',\n 'amorc',\n 'bellas',\n 'implúvios',\n 'adjacencias',\n 'serrinha',\n 'escoval',\n 'cherubim',\n 'secom',\n 'joban',\n 'osteomúsculares',\n 'aclimeb',\n 'suplentar',\n 'sedur',\n 'sancionatória',\n 'obtê',\n 'misc',\n 'altorizalção',\n 'necessidadem',\n 'parceito',\n 'jacú',\n 'atuaçao',\n 'tarcizio',\n 'ítem',\n 'biocombústiveis',\n 'caboronga',\n 'hosannah',\n 'cmdpi',\n 'concessionaria',\n 'gbm',\n 'betesda',\n 'fróes',\n 'ypiranga',\n 'sisvan',\n 'wellignton',\n 'welligton',\n 'shalon',\n 'alfavile',\n 'municial',\n 'itapecurú',\n 'valterney',\n 'valternei',\n 'nupplaga',\n 'pelezão',\n 'hermida',\n 'recando',\n 'cetran',\n 'sincol',\n 'sincaver',\n 'astafs',\n 'baneb',\n 'aabaneb',\n 'itajimirim',\n 'cazumbá',\n 'waldeir',\n 'muchila',\n 'caseb',\n 'koinônia',\n 'municipios',\n 'abm',\n 'atisfe',\n 'puérpera',\n 'escaneadores',\n 'csartrans',\n 'sediá',\n 'ceteb',\n 'senat',\n 'arimatéia',\n 'autoserviço',\n 'adéq',\n 'jacirandy',\n 'pampalona',\n 'shaday',\n 'valney',\n 'plunianual',\n 'caítulo',\n 'compativeis',\n 'capítuloix',\n 'alineas',\n 'regogam',\n 'bairrro',\n 'aiv',\n 'gabiela',\n 'queimadinha',\n 'galiléia',\n 'alvora',\n 'eficientizar',\n 'familias',\n 'opara',\n 'economico',\n 'agricola',\n 'muncipal',\n 'itapororocas',\n 'previdenciará',\n 'mascarenha',\n 'xix',\n 'viii',\n 'xiii',\n 'stiac',\n 'economica',\n 'seduc',\n 'serfhau',\n 'cards',\n 'assan',\n 'robertoluis',\n 'desafetar',\n 'afetá',\n 'orçamentarias',\n 'acresente',\n 'cellson',\n 'sisnando',\n 'exerc',\n 'escrt',\n 'aprofs',\n 'cabralia',\n 'talações',\n 'cosumo',\n 'welf',\n 'fa',\n 'orgânicados',\n 'conego',\n 'joao',\n 'inacio',\n 'esperanca',\n 'chaguazes',\n 'leolindo',\n 'quiteria',\n 'varzea',\n 'acacias',\n 'algarobas',\n 'flanboyants',\n 'malunguzeiros',\n 'barao',\n 'macaubas',\n 'cannaa',\n 'cruzilandia',\n 'espatodias',\n 'deputad',\n 'magalhaes',\n 'desembanco',\n 'berenguer',\n 'passaros',\n 'macario',\n 'froes',\n 'aguas',\n 'goncalves',\n 'falcao',\n 'transmissao',\n 'lucilandia',\n 'periferica',\n 'sao',\n 'subae',\n 'transnordestina',\n 'universitaria',\n 'camab',\n 'giboia',\n 'avn',\n 'belem',\n 'brejoes',\n 'camacari',\n 'conceicao',\n 'coracao',\n 'hestia',\n 'ibicarai',\n 'ilheus',\n 'ipecaeta',\n 'ipiau',\n 'jequie',\n 'lamarao',\n 'chapeu',\n 'nazare',\n 'ouricangas',\n 'pedrao',\n 'pocoes',\n 'santanapolis',\n 'estevao',\n 'sapeacu',\n 'tourino',\n 'ubatan',\n 'udinese',\n 'valenca',\n 'chacara',\n 'sebastiao',\n 'aracas',\n 'elenteria',\n 'bomfim',\n 'ipuacu',\n 'jaiba',\n 'tiquarucu',\n 'carrocavel',\n 'agropewa',\n 'berreca',\n 'caboranga',\n 'caraiba',\n 'mantiba',\n 'goncalo',\n 'feijao',\n 'rosario',\n 'pq',\n 'santanopolis',\n 'aviario',\n 'boqueirao',\n 'caldeirao',\n 'campetre',\n 'campim',\n 'crueira',\n 'genipapo',\n 'inema',\n 'mamao',\n 'paraiso',\n 'porçoes',\n 'quituba',\n 'caroa',\n 'ferrobilha',\n 'praca',\n 'qd',\n 'centenario',\n 'cicero',\n 'cohim',\n 'remedios',\n 'estacio',\n 'eulalio',\n 'simoes',\n 'getsemani',\n 'havelanje',\n 'maivana',\n 'ovidio',\n 'medici',\n 'bomfin',\n 'zabele',\n 'almerim',\n 'condo',\n 'perolina',\n 'lot',\n 'irmaos',\n 'irmas',\n 'portoes',\n 'panama',\n 'jj',\n 'elv',\n 'abaete',\n 'abraao',\n 'acacares',\n 'acacia',\n 'acarau',\n 'acegua',\n 'aclamacao',\n 'acudiana',\n 'acudina',\n 'adamastina',\n 'adao',\n 'adenil',\n 'aerolineas',\n 'aethur',\n 'afranio',\n 'afua',\n 'agata',\n 'agrestina',\n 'aimore',\n 'brandao',\n 'alcantara',\n 'alcantra',\n 'alcobaca',\n 'paraiba',\n 'alemao',\n 'alexsandra',\n 'algaroba',\n 'almenara',\n 'maranhao',\n 'tamandare',\n 'almirim',\n 'aloisio',\n 'graca',\n 'indias',\n 'lagedo',\n 'doturi',\n 'langa',\n 'altonia',\n 'aluandra',\n 'alvaro',\n 'alvorana',\n 'amalia',\n 'faskomy',\n 'amanari',\n 'amapa',\n 'amaraje',\n 'ambuera',\n 'ameiroz',\n 'americo',\n 'simas',\n 'vespucio',\n 'amilton',\n 'amory',\n 'amuniu',\n 'brandoa',\n 'anajas',\n 'analandia',\n 'anama',\n 'anapolis',\n 'anarechim',\n 'andarai',\n 'angelin',\n 'anibal',\n 'anisio',\n 'bernanrdes',\n 'anolina',\n 'anolino',\n 'antoniel',\n 'bulcao',\n 'anturio',\n 'aquidaba',\n 'perei',\n 'araca',\n 'aracari',\n 'aracatuba',\n 'araildes',\n 'araja',\n 'aramuema',\n 'aranau',\n 'arapina',\n 'araporanga',\n 'arapoty',\n 'araragua',\n 'ararildes',\n 'ararunaquara',\n 'arcalin',\n 'aricaris',\n 'aries',\n 'ariguemes',\n 'maltez',\n 'novis',\n 'armour',\n 'arroazes',\n 'artemia',\n 'bernades',\n 'arueira',\n 'assailandia',\n 'assucena',\n 'assuncao',\n 'atamario',\n 'aterradinho',\n 'atletico',\n 'aua',\n 'aurilandia',\n 'austria',\n 'avare',\n 'axixa',\n 'chac',\n 'parq',\n 'bacacha',\n 'baguacu',\n 'baiao',\n 'baitapora',\n 'bajuru',\n 'balao',\n 'balneario',\n 'baluae',\n 'bambui',\n 'banabuiu',\n 'maua',\n 'barmeri',\n 'cacador',\n 'guarai',\n 'barrazopolis',\n 'arica',\n 'barrolandia',\n 'gusmao',\n 'baruculandia',\n 'baspe',\n 'batistao',\n 'baturite',\n 'beijamim',\n 'franklim',\n 'beiquimao',\n 'goias',\n 'belforte',\n 'benetinopolis',\n 'bentivi',\n 'bertiloga',\n 'bertolinia',\n 'bertulina',\n 'biguacu',\n 'birigiativa',\n 'birigiu',\n 'bnds',\n 'esperenca',\n 'bodoco',\n 'bogota',\n 'bojuru',\n 'bolpebra',\n 'bonfinopolis',\n 'cesario',\n 'borburema',\n 'borleu',\n 'bossorocas',\n 'boticario',\n 'braganca',\n 'brasilia',\n 'brauna',\n 'braunas',\n 'brazilandia',\n 'britania',\n 'bromelia',\n 'buenopolis',\n 'buique',\n 'bulgaria',\n 'buquim',\n 'buranhem',\n 'buritima',\n 'cabucu',\n 'cacapava',\n 'cadajas',\n 'ritimo',\n 'caetes',\n 'caiapanha',\n 'caioba',\n 'caiocara',\n 'cairari',\n 'caitite',\n 'caiua',\n 'cajapio',\n 'cajuapora',\n 'calasol',\n 'caldene',\n 'california',\n 'camabaiba',\n 'camaca',\n 'camaqua',\n 'cambaiba',\n 'camboriu',\n 'cambui',\n 'aviacao',\n 'epe',\n 'jordao',\n 'mourao',\n 'canaa',\n 'cananelia',\n 'canapolis',\n 'canauieira',\n 'cancer',\n 'candelaria',\n 'cangarciana',\n 'cangiasso',\n 'capao',\n 'leao',\n 'capitao',\n 'eneas',\n 'capitolio',\n 'capricornio',\n 'caraibas',\n 'caraivas',\n 'carajas',\n 'carandai',\n 'caraubas',\n 'carimani',\n 'guimaraes',\n 'geilson',\n 'carmelia',\n 'paranaiba',\n 'carmopolis',\n 'carnopolis',\n 'carralho',\n 'casarao',\n 'cascaieira',\n 'cassilandia',\n 'castelao',\n 'castrianopolis',\n 'catandunvense',\n 'catarama',\n 'catargo',\n 'catolandia',\n 'catole',\n 'catucaio',\n 'caturai',\n 'cauni',\n 'caurai',\n 'caurama',\n 'aco',\n 'caxenne',\n 'cecilio',\n 'cerrocora',\n 'chane',\n 'chapeco',\n 'chorrocho',\n 'ciatha',\n 'ciguari',\n 'suzar',\n 'clecione',\n 'bevilaquia',\n 'cococi',\n 'cocorobo',\n 'codajas',\n 'colombia',\n 'jonathas',\n 'canide',\n 'coite',\n 'concord',\n 'iraja',\n 'cincora',\n 'convencao',\n 'cordeiropolis',\n 'corija',\n 'corintias',\n 'coroata',\n 'lamari',\n 'mandel',\n 'porce',\n 'procopio',\n 'corunha',\n 'corupa',\n 'damiao',\n 'cosnorama',\n 'crateus',\n 'criciuma',\n 'crissiuma',\n 'cristalandia',\n 'cristianopolis',\n 'cristinopolis',\n 'cristovao',\n ...]"
          },
          "metadata": {},
          "execution_count": 38
        }
      ],
      "source": [
        "palavras_erradas_ugc = [palavra for palavra in palavras_erradas if palavra not in dic_ugc]\n",
        "print(len(palavras_erradas_ugc))\n",
        "palavras_erradas_ugc"
      ]
    },
    {
      "cell_type": "code",
      "execution_count": 39,
      "metadata": {
        "tags": []
      },
      "outputs": [
        {
          "output_type": "stream",
          "name": "stdout",
          "text": "Palavra da vez: reinvidicações\nreivindicações\n{'reivindicações'}\nPalavra da vez: segundafeira\nsegundafeira\n{'segundafeira'}\nPalavra da vez: capítuloi\ncapítulo\n{'capítulo', 'capítulos'}\nPalavra da vez: orgânicamunicipal\norgânicamunicipal\n{'orgânicamunicipal'}\nPalavra da vez: jayana\nsacana\n{'bacana', 'abana', 'joana', 'aayan', 'jaya', 'mayan', 'sacana', 'mayans', 'rayna', 'savana', 'mañana', 'alana', 'jaffna', 'catana', 'havana', 'juana', 'katana', 'banana', 'cabana', 'jayne', 'jana'}\nPalavra da vez: encaminhá\nencaminhar\n{'encaminhar'}\nPalavra da vez: mensag\nmensal\n{'mensal', 'mensa'}\nPalavra da vez: capítuloiii\ncapítuloiii\n{'capítuloiii'}\nPalavra da vez: orgânicado\norganizado\n{'orgânicas', 'organizado', 'orgânica', 'orgânico'}\nPalavra da vez: dalei\nfalei\n{'falei', 'dalek', 'dale', 'daley', 'dalai', 'dali', 'darei'}\nPalavra da vez: combiná\ncombina\n{'combina', 'combine'}\n"
        }
      ],
      "source": [
        "# Soluções prontas: spellchecker, conferir no Google \"Did you mean:\"\n",
        "from spellchecker import SpellChecker\n",
        "spellc = SpellChecker(language='pt')\n",
        "erradas = spellc.unknown(['dalei', 'orgânicado', 'capítuloi', 'capítuloiii', 'combiná', 'encaminhá', 'los', \n",
        "                            'reinvidicações', 'mensag', 'bonito', 'orgânicamunicipal', 'segundafeira', 'jayana'])\n",
        "# Não pode tirar hifem no meio de palavras. Consertar no método limpa texto\n",
        "for palavra in erradas:\n",
        "    print(f'Palavra da vez: {palavra}')\n",
        "    print(spellc.correction(palavra))\n",
        "    print(spellc.candidates(palavra))"
      ]
    },
    {
      "cell_type": "markdown",
      "metadata": {},
      "source": [
        "## Construindo o corretor\n",
        "\n",
        "Os passos são:\n",
        "- gerar palavras que estão próximas (a 1 ou 2 edits de distância)\n",
        "    - separando a palavra\n",
        "    - removendo um caracter\n",
        "    - inserindo um caracter\n",
        "    - substituindo um caracter por outro (removendo + inserindo)\n",
        "- atribuir probabilidade entre as palavras candidatas com base no corpus\n",
        "- substituir pela palavra mais provável\n",
        "\n",
        "Alguns problemas: \n",
        "- não queremos modificar nomes próprios, nem de pessoas nem de locais.\n",
        "- Da mesma forma, não queremos modificar siglas: uefs, smtt\n",
        "\n",
        "Fontes: \n",
        "[NLP por Deeplearnin.ai, no Coursera](https://www.coursera.org/learn/probabilistic-models-in-nlp), \n",
        "[Corretor de Peter Norvig](http://norvig.com/spell-correct.html)\n"
      ]
    },
    {
      "cell_type": "code",
      "execution_count": null,
      "metadata": {},
      "outputs": [],
      "source": [
        "# Gerando palavras próximas\n",
        "def gera_palavras_proximas(palavra):\n",
        "    inserts = 'abcdefghijklmnopqrstuvwxyz-'\n",
        "    separacoes = [(palavra[:i], palavra[i:]) for i in range(1,len(palavra))]\n",
        "    remocoes = [esquerda + direita[1:] for esquerda, direita in separacoes if direita]\n",
        "    insercoes = [palavra[:i] + caracter + palavra[i:] for i in range(len(palavra))]\n",
        "    return [separacoes + remocoes + insercoes]\n",
        "\n",
        "def gera_palavras_dois_edits(palavra):\n",
        "    return [dois_edits for um_edit in gera_palavras_proximas(palavra) for dois_edits in gera_palavras_proximas(um_edit)]\n",
        "\n",
        "# Atribuir probabilidade para palavras geradas\n",
        "# comparar com vocabulário do corpus\n",
        "qtd_palavras = representacao_contagem.sum()\n",
        "contagem_palavra = sum(representacao_contagem)\n",
        "def calcula_probabilidades(palavra):\n",
        "    probabilidades_candidatas = {}\n",
        "    for candidata in gera_palavras_dois_edits(palavra):\n",
        "        if candidata in vocabulario:\n",
        "            probabilidades_candidatas[candidata] = contagem_palavra[vocabulario[candidata]]\n",
        "    return probabilidades_candidatas"
      ]
    }
  ]
}