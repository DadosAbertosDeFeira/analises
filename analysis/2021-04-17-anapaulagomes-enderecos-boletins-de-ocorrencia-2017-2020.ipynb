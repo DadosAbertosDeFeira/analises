{
 "cells": [
  {
   "cell_type": "markdown",
   "id": "nasty-staff",
   "metadata": {},
   "source": [
    "# Coleta de endereços\n",
    "\n",
    "Essa coleta de endereços serve para enriquecer os dados da análise\n",
    "da violência em Feira de Santana. Os dados foram conseguidos com a \n",
    "Secretaria de Segurança Pública da Bahia, através da Lei de Acesso\n",
    "à Informação.\n",
    "\n",
    "Aqui utilizamos a [HERE API](https://developer.here.com/develop/rest-apis)\n",
    "para coletar os endereços (em seu plano gratuito). Para rodar esse código\n",
    "basta ter o CSV com os dados de boletins de ocorrência (que poderão ser\n",
    "encontrados em nosso [Kaggle](https://www.kaggle.com/datasets/dadosabertosdefeira/boletins-de-ocorrncia-em-feira-20172020) e ter\n",
    "a chave da API na variável de ambiente `HERE_API_KEY`. Para conseguir\n",
    "a chave basta fazer um cadastro no site da HERE."
   ]
  },
  {
   "cell_type": "code",
   "execution_count": null,
   "id": "controversial-blend",
   "metadata": {},
   "outputs": [],
   "source": [
    "import pandas as pd\n",
    "import json\n",
    "\n",
    "\n",
    "df = pd.read_csv(\"2020-FEIRA - bo_feira_20172019.csv\")\n",
    "df.head()"
   ]
  },
  {
   "cell_type": "code",
   "execution_count": null,
   "id": "tutorial-signal",
   "metadata": {},
   "outputs": [],
   "source": [
    "addresses = df[['dbo_Logradouro_descricao', 'dbo_Bairro_descricao']]\n",
    "addresses"
   ]
  },
  {
   "cell_type": "code",
   "execution_count": null,
   "id": "limited-anime",
   "metadata": {},
   "outputs": [],
   "source": [
    "addresses = addresses[addresses['dbo_Logradouro_descricao'] != 'NAO INFORMADO']\n",
    "addresses"
   ]
  },
  {
   "cell_type": "code",
   "execution_count": null,
   "id": "tropical-complexity",
   "metadata": {},
   "outputs": [],
   "source": [
    "unique_address = {}\n",
    "for _, row in addresses.iterrows():\n",
    "    if not unique_address.get(row['dbo_Logradouro_descricao']):\n",
    "        unique_address[row['dbo_Logradouro_descricao']] = {row['dbo_Bairro_descricao']: True}\n",
    "    elif not unique_address[row['dbo_Logradouro_descricao']].get(row['dbo_Bairro_descricao']):\n",
    "        unique_address[row['dbo_Logradouro_descricao']] = {row['dbo_Bairro_descricao']: True}\n",
    "    else:\n",
    "        unique_address[row['dbo_Logradouro_descricao']][row['dbo_Bairro_descricao']] = True\n",
    "\n",
    "print(len(unique_address))\n",
    "with open(\"unique_addresses.txt\", 'w') as fout:\n",
    "    json_dumps_str = json.dumps(unique_address, indent=4)\n",
    "    print(json_dumps_str, file=fout)\n",
    "unique_address"
   ]
  },
  {
   "cell_type": "code",
   "execution_count": null,
   "id": "ongoing-nurse",
   "metadata": {},
   "outputs": [],
   "source": [
    "from scripts.geolocation_info import get_geocode_info\n",
    "import time\n",
    "\n",
    "\n",
    "start = 0\n",
    "count = 0\n",
    "\n",
    "for street, neighborhoods in unique_address.items():\n",
    "    if start <= count:\n",
    "        for neighborhood in neighborhoods.keys():\n",
    "            full_address = f\"{street}, {neighborhood}, Feira de Santana, Bahia, Brazil\"\n",
    "            try:\n",
    "                payload = get_geocode_info(full_address, raise_exception=True)\n",
    "            except:\n",
    "                print(\"Time to sleep...\")\n",
    "                time.sleep(30)\n",
    "                payload = get_geocode_info(full_address, raise_exception=True)\n",
    "            if payload:\n",
    "                for result in payload:\n",
    "                    if result['address']['city'] == \"Feira de Santana\":\n",
    "                        unique_address[street][neighborhood] = {\n",
    "                            'api_address': result['title'],\n",
    "                            'api_lat': result['position']['lat'],\n",
    "                            'api_long': result['position']['lng'],\n",
    "                        }\n",
    "                        print(f\"{count} {full_address}\")\n",
    "                        break\n",
    "    count += 1\n"
   ]
  },
  {
   "cell_type": "code",
   "execution_count": null,
   "id": "pressed-world",
   "metadata": {},
   "outputs": [],
   "source": [
    "def get_address(row):\n",
    "    try:\n",
    "        return unique_address[row.dbo_Logradouro_descricao][row.dbo_Bairro_descricao]['api_address']\n",
    "    except:\n",
    "        pass\n",
    "    return\n",
    "\n",
    "def get_lat(row):\n",
    "    try:\n",
    "        return unique_address[row.dbo_Logradouro_descricao][row.dbo_Bairro_descricao]['api_lat']\n",
    "    except:\n",
    "        pass\n",
    "    return\n",
    "\n",
    "def get_lng(row):\n",
    "    try:\n",
    "        return unique_address[row.dbo_Logradouro_descricao][row.dbo_Bairro_descricao]['api_long']\n",
    "    except:\n",
    "        pass\n",
    "    return\n",
    "\n",
    "\n",
    "addresses['api_address'] = addresses.apply(get_address, axis=1)\n",
    "addresses['api_lat'] = addresses.apply(get_lat, axis=1)\n",
    "addresses['api_lng'] = addresses.apply(get_lng, axis=1)"
   ]
  },
  {
   "cell_type": "code",
   "execution_count": null,
   "id": "capable-haven",
   "metadata": {},
   "outputs": [],
   "source": [
    "addresses"
   ]
  },
  {
   "cell_type": "code",
   "execution_count": null,
   "id": "extended-stockholm",
   "metadata": {},
   "outputs": [],
   "source": [
    "addresses.to_csv('api-unique-addresses-feira-2017-2019.csv')"
   ]
  }
 ],
 "metadata": {
  "kernelspec": {
   "display_name": "Python 3",
   "language": "python",
   "name": "python3"
  },
  "language_info": {
   "codemirror_mode": {
    "name": "ipython",
    "version": 3
   },
   "file_extension": ".py",
   "mimetype": "text/x-python",
   "name": "python",
   "nbconvert_exporter": "python",
   "pygments_lexer": "ipython3",
   "version": "3.8.5"
  }
 },
 "nbformat": 4,
 "nbformat_minor": 5
}
