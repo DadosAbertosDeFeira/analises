{
 "cells": [
  {
   "cell_type": "code",
   "execution_count": 1,
   "metadata": {},
   "outputs": [],
   "source": [
    "import pandas as pd\n",
    "import matplotlib.pyplot as plt"
   ]
  },
  {
   "cell_type": "code",
   "execution_count": 2,
   "metadata": {
    "tags": []
   },
   "outputs": [
    {
     "output_type": "stream",
     "name": "stdout",
     "text": "<class 'pandas.core.frame.DataFrame'>\nRangeIndex: 6033 entries, 0 to 6032\nData columns (total 4 columns):\n #   Column     Non-Null Count  Dtype \n---  ------     --------------  ----- \n 0   titulo     6033 non-null   object\n 1   categoria  6033 non-null   object\n 2   resumo     6033 non-null   object\n 3   texto      6033 non-null   object\ndtypes: object(4)\nmemory usage: 188.7+ KB\nNone\ntitulo       6033\ncategoria       8\nresumo       4961\ntexto        6029\ndtype: int64\n"
    }
   ],
   "source": [
    "leis = pd.read_json('leis.json')\n",
    "leis.drop(['documento'], inplace=True, axis=1)\n",
    "print(leis.info())\n",
    "print(leis.nunique())"
   ]
  },
  {
   "cell_type": "code",
   "execution_count": 3,
   "metadata": {},
   "outputs": [
    {
     "output_type": "execute_result",
     "data": {
      "text/plain": "                                            titulo   categoria  \\\n0     DECRETO Nº 8854, de 28 de fevereiro de 2013.    Decretos   \n1     DECRETO Nº 8849, de 25 de fevereiro de 2013.    Decretos   \n2     DECRETO Nº 8853, de 27 de fevereiro de 2013.    Decretos   \n3          DECRETO Nº 8967, de 17 de julho de 2013    Decretos   \n4          DECRETO Nº 8982, de 30 de julho de 2013    Decretos   \n...                                            ...         ...   \n6028                         RESOLUÇÃO Nº 125/1980  Resoluções   \n6029                         RESOLUÇÃO Nº 403/2003  Resoluções   \n6030                         RESOLUÇÃO Nº 492/2014  Resoluções   \n6031                         RESOLUÇÃO Nº 382/2001  Resoluções   \n6032                         RESOLUÇÃO Nº 431/2004  Resoluções   \n\n                                                 resumo  \\\n0     DELEGA COMPETÊNCIA À SECRETARIA MUNICIPAL DE P...   \n1     ABRE CRÉDITO SUPLEMENTAR AO ORÇAMENTO DO MUNIC...   \n2     NOMEIA MEMBROS DO CONSELHO MUNICIPAL DE DESENV...   \n3     ALTERA O QUADRO DE DETALHAMENTO DE DESPESA DO ...   \n4     AUTORIZA O FUNCIONAMENTO DE ESTABELECIMENTOS C...   \n...                                                 ...   \n6028  DISPÕE SOBRE A CONCESSÃO DE TÍTULO DE CIDADÃO ...   \n6029  AUTORIZA A MESA DIRETIVA DO PODER LEGISLATIVO ...   \n6030  INSTITUI A SEGUNDA SEMANA DO MÊS DE AGOSTO EM ...   \n6031  CRIA A MEDALHA VEREADOR DIVAL FIGUEIREDO MACHA...   \n6032  MODIFICA E SUPRIME DISPOSITIVOS DA RESOLUÇÃO N...   \n\n                                                  texto  \n0     O PREFEITO MUNICIPAL DE FEIRA DE SANTANA, Esta...  \n1     O PREFEITO MUNICIPAL DE FEIRA DE SANTANA, Esta...  \n2     O PREFEITO MUNICIPAL DE FEIRA DE SANTANA, Esta...  \n3     O PREFEITO MUNICIPAL DE FEIRA DE SANTANA, Esta...  \n4     O PREFEITO MUNICIPAL DE FEIRA DE SANTANA, Esta...  \n...                                                 ...  \n6028  Faço saber que a Câmara Municipal aprovou e eu...  \n6029  A CÂMARA MUNICIPAL DE FEIRA DE SANTANA, Estado...  \n6030  A CÂMARA MUNICIPAL DE FEIRA DE SANTANA, Estado...  \n6031  A CÂMARA MUNICIPAL DE FEIRA DE SANTANA, Estado...  \n6032  A CÂMARA MUNICIPAL DE FEIRA DE SANTANA, Estado...  \n\n[6033 rows x 4 columns]",
      "text/html": "<div>\n<style scoped>\n    .dataframe tbody tr th:only-of-type {\n        vertical-align: middle;\n    }\n\n    .dataframe tbody tr th {\n        vertical-align: top;\n    }\n\n    .dataframe thead th {\n        text-align: right;\n    }\n</style>\n<table border=\"1\" class=\"dataframe\">\n  <thead>\n    <tr style=\"text-align: right;\">\n      <th></th>\n      <th>titulo</th>\n      <th>categoria</th>\n      <th>resumo</th>\n      <th>texto</th>\n    </tr>\n  </thead>\n  <tbody>\n    <tr>\n      <th>0</th>\n      <td>DECRETO Nº 8854, de 28 de fevereiro de 2013.</td>\n      <td>Decretos</td>\n      <td>DELEGA COMPETÊNCIA À SECRETARIA MUNICIPAL DE P...</td>\n      <td>O PREFEITO MUNICIPAL DE FEIRA DE SANTANA, Esta...</td>\n    </tr>\n    <tr>\n      <th>1</th>\n      <td>DECRETO Nº 8849, de 25 de fevereiro de 2013.</td>\n      <td>Decretos</td>\n      <td>ABRE CRÉDITO SUPLEMENTAR AO ORÇAMENTO DO MUNIC...</td>\n      <td>O PREFEITO MUNICIPAL DE FEIRA DE SANTANA, Esta...</td>\n    </tr>\n    <tr>\n      <th>2</th>\n      <td>DECRETO Nº 8853, de 27 de fevereiro de 2013.</td>\n      <td>Decretos</td>\n      <td>NOMEIA MEMBROS DO CONSELHO MUNICIPAL DE DESENV...</td>\n      <td>O PREFEITO MUNICIPAL DE FEIRA DE SANTANA, Esta...</td>\n    </tr>\n    <tr>\n      <th>3</th>\n      <td>DECRETO Nº 8967, de 17 de julho de 2013</td>\n      <td>Decretos</td>\n      <td>ALTERA O QUADRO DE DETALHAMENTO DE DESPESA DO ...</td>\n      <td>O PREFEITO MUNICIPAL DE FEIRA DE SANTANA, Esta...</td>\n    </tr>\n    <tr>\n      <th>4</th>\n      <td>DECRETO Nº 8982, de 30 de julho de 2013</td>\n      <td>Decretos</td>\n      <td>AUTORIZA O FUNCIONAMENTO DE ESTABELECIMENTOS C...</td>\n      <td>O PREFEITO MUNICIPAL DE FEIRA DE SANTANA, Esta...</td>\n    </tr>\n    <tr>\n      <th>...</th>\n      <td>...</td>\n      <td>...</td>\n      <td>...</td>\n      <td>...</td>\n    </tr>\n    <tr>\n      <th>6028</th>\n      <td>RESOLUÇÃO Nº 125/1980</td>\n      <td>Resoluções</td>\n      <td>DISPÕE SOBRE A CONCESSÃO DE TÍTULO DE CIDADÃO ...</td>\n      <td>Faço saber que a Câmara Municipal aprovou e eu...</td>\n    </tr>\n    <tr>\n      <th>6029</th>\n      <td>RESOLUÇÃO Nº 403/2003</td>\n      <td>Resoluções</td>\n      <td>AUTORIZA A MESA DIRETIVA DO PODER LEGISLATIVO ...</td>\n      <td>A CÂMARA MUNICIPAL DE FEIRA DE SANTANA, Estado...</td>\n    </tr>\n    <tr>\n      <th>6030</th>\n      <td>RESOLUÇÃO Nº 492/2014</td>\n      <td>Resoluções</td>\n      <td>INSTITUI A SEGUNDA SEMANA DO MÊS DE AGOSTO EM ...</td>\n      <td>A CÂMARA MUNICIPAL DE FEIRA DE SANTANA, Estado...</td>\n    </tr>\n    <tr>\n      <th>6031</th>\n      <td>RESOLUÇÃO Nº 382/2001</td>\n      <td>Resoluções</td>\n      <td>CRIA A MEDALHA VEREADOR DIVAL FIGUEIREDO MACHA...</td>\n      <td>A CÂMARA MUNICIPAL DE FEIRA DE SANTANA, Estado...</td>\n    </tr>\n    <tr>\n      <th>6032</th>\n      <td>RESOLUÇÃO Nº 431/2004</td>\n      <td>Resoluções</td>\n      <td>MODIFICA E SUPRIME DISPOSITIVOS DA RESOLUÇÃO N...</td>\n      <td>A CÂMARA MUNICIPAL DE FEIRA DE SANTANA, Estado...</td>\n    </tr>\n  </tbody>\n</table>\n<p>6033 rows × 4 columns</p>\n</div>"
     },
     "metadata": {},
     "execution_count": 3
    }
   ],
   "source": [
    "leis"
   ]
  },
  {
   "cell_type": "code",
   "execution_count": 4,
   "metadata": {},
   "outputs": [
    {
     "output_type": "execute_result",
     "data": {
      "text/plain": "'A CÂMARA MUNICIPAL DE FEIRA DE SANTANA, Estado da Bahia, na conformidade do artigo 70, Inciso V, da Lei Municipal nº37, de 05 de Abril de 1990 e, artigos 287, § 2º e, 420, do Regimento Interno, promulga a seguinte Resolução:\\n\\nArt. 1ºDê-se aos dispositivos abaixo mencionados, da Resolução nº393/2002 - Regimento Interno, as seguintes redações:\\n\\n\"Art. 7º A Mesa Diretora da Câmara compor-se-á do Presidente, Primeiro e Segundo Secretários, com mandato de 02 ( dois ) anos, admitida a recondução para a eleição subsequente.\\n\\n§ 4º Se, hora regimental, não estiver presente o Presidente, abrirá os trabalhos o Vice-Presidente ou, na falta deste, o Primeiro ou Segundo Secretários, na sequência, ou ainda, caso estes não estejam presentes, o Vereador mais votado nas eleições municipais.\"\\n\\n\"Art. 33 Compete, privativamente, ao Vice-Presidente:\"\\n\\n\"Art. 36 ...\\n\\nI - ...\\n\\ne) acompanhar e supervisionar a Ata da Sessão, proceder a sua leitura e assiná-la depois do Presidente e do Vice-Presidente.\\n\\nII - ...\\n\\nc) assinar, depois do Presidente e do Vice-Presidente, os atos da Mesa Diretora.\\n\\nParágrafo Único - O Primeiro Secretário será substituído em suas faltas, ausências, impedimentos ou licenças, havendo nas duas últimas hipóteses investidura na plenitude da respectiva função, pelo Segundo Secretário.\"\\n\\n\"Art. 48 As Comissões Permanentes, em número de 05 ( cinco ), são as seguinte:\\n\\nI - ...\\n\\nII - ...\\n\\nIII - ...\\n\\nIV - ...\\n\\nV - Comissão de Meio Ambiente, Direitos Humanos e Defesa do Consumidor.\"\\n\\n\"Art. 57 ...\\n\\nI - ...\\n\\nII - ...\\n\\nIII - ...\\n\\nIV - ...\\n\\nV - da Comissão de Meio Ambiente, Direitos Humanos e Defesa do Consumidor.\"\\n\\n\"a) ...\\n\\n1 - ...\\n2 - ...\\n3 - ...\\nb) ...\\nc) ...\\nd) ...\\ne) opinar sobre todas as proposições que digam respeito aos direitos humanos, especialmente àquelas que envolvam matérias referentes à criança, adolescente e idoso;\\nf) propor iniciativas relacionadas a direitos humanos;\\ng) receber reclamações e encaminhá-las aos órgãos competentes;\\nh) propor ações de combate ao rascismo e discriminação de qualquer natureza, bem como manter intercâmbio com órgãos públicos, entidades civis e filantrópicas sem fins lucrativos, para atender o disposto na alínea anterior;\\ni) divulga a legislação que trata dos direitos da mulher trabalhadora urbana e rural;\\nj) propor ações de combate à violência e prostituição infanto-juvenil;\\nk) opinar sobre proposições que versem a respeito da saúde da mulher, planejamento familiar e assistência social;\\nl) fiscalizar, em conjunto com a Delegacia Regional do Trabalho, a instalação de creches nas empresas e demais locais de trabalhos, exigidos por lei;\\nm) opinar sobre proposições relativas a produtos, serviços e, quando cabível, contratos que norteiam as relações de consumo;\\nn) desenvolver ampla divulgação da legislação e dos programas de defesa do consumidor;\\no) propor a criação de políticas e instrumentos de defesa do consumidor, em conjunto com os demais órgãos públicos e particulares;\\np) fiscalizar os produtos de consumo e seu fornecimento, e zelar pela sua qualidade;\\nq) receber reclamações e encaminhá-las ao órgão competente.\"\\n\\n\"Art. 164 O Líder e Vice-Líder podem fazer parte de Comissões Permanentes e Temporárias, exceto o Líder e Vice-Líder do Governo.\"\\n\\n\"Art. 168 Lavrar-se-á a ata, com o resumo dos trabalhos de cada sessão, cujo redação obedecerá ao padrão uniforme adotado pela Mesa Diretora.\"\\n\\n\"Art. 188 As atas serão organizadas em anais, por ordem cronológica, por período legislativo e recolhidas ao Arquivo da Câmara.\"\\n\\n\"Art. 190 Os Vereadores só poderão falar sobre a ata para impugná-la ou retificá-la no todo em parte, logo após a leitura da mesma.\\n\\n§ 1º A discussão sobre a impugnação ou retificação da ata não poderá exceder o tempo destinado ao Grande Expediente, que nesta hipótese ficará prejudicado.\"\\n\\n\"Art. 199 Aberto a sessão, o Segundo Secretário fará a leitura da ata anterior, que o Presidente submeterá à apreciação do Plenário.\"\\n\\n\"Art. 200 Após a leitura da ata, o Primeiro Secretário procederá a leitura de:\"\\n\\n\"Art. 413 - ...\\n\\nParágrafo Único - Caso o Presidente da Câmara não promulgue a lei, caberá ao Vice-Presidente promulgá-la.\"\\n\\n\"Art. 418 - ...\\n\\n§ 2º Se lei não for promulgada dentro de 48 ( quarenta e oito ) horas o Presidente da Câmara Municipal a promulgará, e se este em igual prazo, não o fizer, fá-lo-á obrigatoriamente, o Vice-Presidente.\"\\n\\nArt. 2ºDê-se ao capítulo III, do Título VII - Da Elaboração Legislativo Especial, a seguinte redação:\\n\\n\\n\"CapítuloIII\\nDA CONCESSÃO DE HONRARIAS\\n\\n\\nSEÇÃO I\\nDAS HONRARIAS\"\\n\\n\\n\\n\"Art. 402 - A Câmara Municipal concederá o Título Honorífico de Cidadão Feirense a pessoas, pelos seus relevantes e notórios serviços prestados ao Município e ao seu povo.\"\\n\\n\"Art. 403 - A Câmara Municipal também concederá:\\n\\na) Comenda - Maria Quitéria, Áureo Filho, Filinto Justiniano Ferreira Bastos, Padre Ovídio Alves de São Boaventura, Godofredo Rebello de Figueiredo Filho, Maestro Tertuliano Ferreira Santos, Armando Curvelo de Menezes e, Dr. Gastão Guimarães;\\nb) Medalhas - Mérito de Meio Ambiente, Fundação Senhor dos Passos, Vereador Dival Figueiredo Machado, Missionário Roderick Murdo Gillanders, Mérito Rotário, Zumbi dos Palmares e Arquiteto Anápio Aurélio de Miranda;\\nc) Certificados - Verde e, de Excelência.\"\\n\\n\\n\"SEÇÃO\\nDISPOSIÇÕES GERAIS\"\\n\\n\\n\"Art. 404 - O Projeto de Decreto Legislativo destinado a concessão de honrarias, deverá ser apresentado por, no mínimo, 2/3 ( dois terços ) dos membros da Câmara e, acompanhado de justificativa, além de, biografia quando inerente a pessoa física.\\n\\n§ 1º Recebido o Projeto de Decreto Legislativo, o mesmo após lido, será encaminhado à Comissão de Constituição Justiça e Redação que, dentro de 10 ( dez ) dias, emitirá parecer fundamentado, o qual após lido será pautado para a Ordem do Dia da sessão seguinte.\\n\\n§ 2º Será considerado aprovado o Projeto de Decreto Legislativo que obtiver 2/3 ( dois terços ) de votos favoráveis dos membros da Câmara.\\n\\n§ 3º Cada Vereador poderá apresentar 08 ( oito ) projetos de Decreto Legislativo por legislatura destinados a concessão do Título de Cidadão Feirense, enquanto que as demais Honrarias tem suas quantidades estabelecidas nas Resoluções que as instituíram.\"\\n\\n\"Art. 405 - As honrarias poderão ser cassadas, caso os homenageados tenham comprovadamente praticado atos que colidam com os motivos que as ensejam\\n\\nParágrafo Único - Aplicam-se os dispositivos desta Seção, no que couber, ao Projeto de Decreto Legislativo de cassação da honraria\"\\n\\nArt. 3ºSuprima-se os dispositivos abaixo mencionados, e dê-se nova numeração aos demais:\\n\\n\"a) artigos - 34,37. 87, 99, 100, 102, 124, 187, 189, 191, 192, 193, 223, 356, 417;\\nb) parágrafos - 3º do art. 101, 4º do art. 135 e único do art. 199;\"\\n\\nArt. 4ºEsta Resolução entrará em vigor na data de sua publicação, produzindo seus efeitos a partir de 1º de Janeiro de 2005, revogadas as disposições em contrário.\\n\\nMESA DIRETIVA DA CÂMARA MUNICIPAL DE FEIRA DE SANTANA, 26 de Outubro de 2004.\\n\\nVer. ANTÔNIO CARLOS DALTRO COELHO\\nPresidente\\n\\nVer. GENÉSIO SERAFIM DE LIMA\\n1º Secretário\\n\\nVer. JORGE RAIMUNDO DE OLIVEIRA SILVA\\n2º Secretário'"
     },
     "metadata": {},
     "execution_count": 4
    }
   ],
   "source": [
    "# Exemplo de texto de lei\n",
    "leis.loc[len(leis)-1, 'texto']"
   ]
  },
  {
   "cell_type": "code",
   "execution_count": 5,
   "metadata": {},
   "outputs": [],
   "source": [
    "from nltk.corpus import stopwords\n",
    "import re\n",
    "import unicodedata\n",
    "\n",
    "def limpa_texto(text, string=True) -> str or list:\n",
    "    if (type(text) == float):\n",
    "        return ''\n",
    "\n",
    "    # Remove pontuacao, digitos e espacos\n",
    "    text = ' '.join(re.findall(r'\\b[a-zÀ-ú]+\\b', text.lower()))\n",
    "    \n",
    "    # Remove acentos, cedilhas etc\n",
    "    nfkd_form = unicodedata.normalize('NFKD', text)\n",
    "    text = ''.join([char for char in nfkd_form if not unicodedata.combining(char)])\n",
    "\n",
    "    # Remove stopwords\n",
    "    my_stopwords = stopwords.words('portuguese')\n",
    "    my_words = ['feira', 'santana', 'art', 'municipal', 'lei', 'r', \n",
    "    'prefeito', 'câmara', 'municipio', 'data', 'seguinte', 'disposições',\n",
    "    'estado', 'bahia', 'vigor', 'secretário', 'decreto', 'projeto', \n",
    "    'iii', 'i', 'ii',  'contrário', 'presidente', 'artigo',\n",
    "    'faço', 'parágrafo', 'executivo', 'gabinete', 'único', 'sanciono', \n",
    "    'desta', 'v', 'iv', 'autoria', 'através', 'deste', 'vice', 'autor',\n",
    "    'qualquer', 'b', 'decretou', 'execução', 'sobre', 'das', 'decorrentes',\n",
    "    'decreta', 'resolução', 'geral', 'uso', 'ato', 'diretiva', 'exercício',\n",
    "    'seguintes', 'meio', 'm', 'c', 'correrão', 'g', 'n', 'w', 'k', 'l', 's',\n",
    "    't', 'z', 'd', 'j', 'p', 'y', 'f', 'u', 'x', 'q', 'h']\n",
    "    my_stopwords = my_stopwords + my_words\n",
    "\n",
    "    text = [word for word in text.split() if word not in my_stopwords]\n",
    "\n",
    "    if string:\n",
    "        return ' '.join(text)\n",
    "    else:\n",
    "        return text"
   ]
  },
  {
   "cell_type": "markdown",
   "metadata": {},
   "source": [
    "# Semelhança de documentos"
   ]
  },
  {
   "cell_type": "code",
   "execution_count": 6,
   "metadata": {},
   "outputs": [],
   "source": [
    "leis['texto_limpo'] = leis['texto'].apply(limpa_texto)"
   ]
  },
  {
   "cell_type": "code",
   "execution_count": 7,
   "metadata": {},
   "outputs": [
    {
     "output_type": "execute_result",
     "data": {
      "text/plain": "<6033x28875 sparse matrix of type '<class 'numpy.int64'>'\n\twith 534596 stored elements in Compressed Sparse Row format>"
     },
     "metadata": {},
     "execution_count": 7
    }
   ],
   "source": [
    "# Constrói matriz de documentos\n",
    "from sklearn.feature_extraction.text import CountVectorizer, TfidfTransformer\n",
    "vectorizer = CountVectorizer()\n",
    "X = vectorizer.fit_transform(leis['texto_limpo'])\n",
    "X"
   ]
  },
  {
   "cell_type": "code",
   "execution_count": 8,
   "metadata": {},
   "outputs": [],
   "source": [
    "# Quero pegar o primeiro documento e achar qual documento mais similar a ele\n",
    "# A partir daí, ler as leis pra ver se faz sentido, se são similares etc\n",
    "\n",
    "# Pra achar os similares, computar a similaridade do cosseno\n",
    "from sklearn.metrics.pairwise import cosine_similarity\n",
    "import numpy as np\n",
    "\n",
    "# dense output pra conferir o resultado\n",
    "cos_sim = cosine_similarity(X, dense_output=True)\n",
    "cos_sim_argsort = np.argsort(cos_sim)"
   ]
  },
  {
   "cell_type": "code",
   "execution_count": 9,
   "metadata": {
    "tags": []
   },
   "outputs": [
    {
     "output_type": "stream",
     "name": "stdout",
     "text": "Similaridade maxima dos docs: 1.0000000000000009\n"
    }
   ],
   "source": [
    "# cos_dist guarda uma matriz de similaridades cosseno\n",
    "# Na primeira linha da matriz, estão as similaridades do primeiro texto pra todos os outros\n",
    "# Capturar os 3 textos mais similares (tirando ele mesmo) e ler\n",
    "max_sim_index = cos_sim_argsort[:,-2]\n",
    "max_sim = [cos_sim[i, ind] for i, ind in enumerate(max_sim_index)] \n",
    "\n",
    "max_sim_overall = np.max(max_sim)\n",
    "print(f'Similaridade maxima dos docs: {max_sim_overall}')\n",
    "\n",
    "orig_text_ind = np.argmax(max_sim)\n",
    "text_mais_sem_ind = max_sim_index[orig_text_ind]"
   ]
  },
  {
   "cell_type": "code",
   "execution_count": 10,
   "metadata": {
    "tags": []
   },
   "outputs": [
    {
     "output_type": "stream",
     "name": "stdout",
     "text": "0.7666518779999274\n0.7452388636074964\n0.20597156342823503\n"
    }
   ],
   "source": [
    "# Estatistica das maiores semelhanças\n",
    "print(np.median(max_sim))\n",
    "print(np.mean(max_sim))\n",
    "print(np.std(max_sim))"
   ]
  },
  {
   "cell_type": "code",
   "execution_count": 11,
   "metadata": {
    "tags": []
   },
   "outputs": [
    {
     "output_type": "stream",
     "name": "stdout",
     "text": "- - - LEI COMPARADA 13: - - -\n\n\nO PREFEITO MUNICIPAL DE FEIRA DE SANTANA, Estado da Bahia, no uso de suas atribuições legais e com base na autorização contida na Lei Nº3.350, de 11 de dezembro de 2012, artigo 6º, § 1º, DECRETA:\n\nArt. 1ºFica aberto Crédito Suplementar ao Orçamento do Município no valor de R$ 10.950.000,00 (dez milhões, novecentos e cinquenta mil reais), conforme detalhamento abaixo:_____________________________________________________\n| CLASS.|  PROGRAMÁTICA |ECONÔMICA|FONTE| VALOR (R$)  |\n| INST. |               |         |     |             |\n|=======|===============|=========|=====|=============|\n|11.1111|10.122.025.2051|3.3.90.39|  002|10.950.000,00|\n|-------|---------------|---------|-----|-------------|\n|       |               |         |TOTAL|10.950.000,00|\n|_______|_______________|_________|_____|_____________| * tabela formatada pela equipe técnica do LeisMunicipais.com.br\nArt. 2ºOs recursos disponíveis para acorrer às despesas decorrentes do presente crédito suplementar correrão à conta de anulações nas dotações abaixo detalhadas:_____________________________________________________\n| CLASS.|  PROGRAMÁTICA |ECONÔMICA|FONTE| VALOR (R$)  |\n| INST. |               |         |     |             |\n|=======|===============|=========|=====|=============|\n|11.1111|10.302.026.1051|4.4.90.52|  014|   700.000,00|\n|-------|---------------|---------|-----|-------------|\n|11.1111|10.302.026.2056|3.3.90.92|  014| 1.000.000,00|\n|-------|---------------|---------|-----|-------------|\n|11.1111|10.302.026.2056|3.3.90.93|  014|   320.000,00|\n|-------|---------------|---------|-----|-------------|\n|11.1111|10.302.026.2056|4.4.90.52|  014| 1.000.000,00|\n|-------|---------------|---------|-----|-------------|\n|11.1111|10.302.026.2056|4.4.90.92|  014| 1.000.000,00|\n|-------|---------------|---------|-----|-------------|\n|11.1111|10.301.025.2061|4.4.90.92|  014| 2.000.000,00|\n|-------|---------------|---------|-----|-------------|\n|11.1111|10.305.028.2068|3.3.90.93|  014|   100.000,00|\n|-------|---------------|---------|-----|-------------|\n|11.1111|10.302.026.2069|3.3.90.92|  014|    60.000,00|\n|-------|---------------|---------|-----|-------------|\n|11.1111|10.122.025.2176|3.3.90.92|  014|   150.000,00|\n|-------|---------------|---------|-----|-------------|\n|11.1111|10.122.025.2176|3.3.90.93|  014|   120.000,00|\n|-------|---------------|---------|-----|-------------|\n|11.1111|10.122.025.2176|4.4.90.52|  014| 2.000.000,00|\n|-------|---------------|---------|-----|-------------|\n|11.1111|10.122.025.2176|4.4.90.92|  014|   700.000,00|\n|-------|---------------|---------|-----|-------------|\n|11.1111|10.302.026.2221|4.4.90.52|  014|   300.000,00|\n|-------|---------------|---------|-----|-------------|\n|11.1111|10.302.026.2242|4.4.90.51|  014| 1.000.000,00|\n|-------|---------------|---------|-----|-------------|\n|11.1111|10.302.026.2242|4.4.90.52|  014|   500.000,00|\n|-------|---------------|---------|-----|-------------|\n|       |               |         |TOTAL|10.950.000,00|\n|_______|_______________|_________|_____|_____________| * tabela formatada pela equipe técnica do LeisMunicipais.com.br\nArt. 3ºFica a Contabilidade Municipal autorizada a efetuar os registros contábeis necessários ao cumprimento deste Decreto.\n\nArt. 4ºEste Decreto entra em vigor na data da sua publicação.\n\nGabinete do Prefeito Municipal, 15 de julho de 2013.\n\nJOSÉ RONALDO DE CARVALHO\nPrefeito Municipal\n\n\n- - - LEI MAIS SEMELHANTE 13 - - -\n\n\nO PREFEITO MUNICIPAL DE FEIRA DE SANTANA, Estado da Bahia, no uso de suas atribuições legais e com base na autorização contida na Lei Nº3.350, de 11 de dezembro de 2012, artigo 6º, § 1º, DECRETA:\n\nArt. 1ºFica aberto Crédito Suplementar ao Orçamento do Município no valor de R$ 10.950.000,00 (dez milhões, novecentos e cinquenta mil reais), conforme detalhamento abaixo:_____________________________________________________\n| CLASS.|  PROGRAMÁTICA |ECONÔMICA|FONTE| VALOR (R$)  |\n| INST. |               |         |     |             |\n|=======|===============|=========|=====|=============|\n|11.1111|10.122.025.2051|3.3.90.39|  002|10.950.000,00|\n|-------|---------------|---------|-----|-------------|\n|       |               |         |TOTAL|10.950.000,00|\n|_______|_______________|_________|_____|_____________| * tabela formatada pela equipe técnica do LeisMunicipais.com.br\nArt. 2ºOs recursos disponíveis para acorrer às despesas decorrentes do presente crédito suplementar correrão à conta de anulações nas dotações abaixo detalhadas:_____________________________________________________\n| CLASS.|  PROGRAMÁTICA |ECONÔMICA|FONTE| VALOR (R$)  |\n| INST. |               |         |     |             |\n|=======|===============|=========|=====|=============|\n|11.1111|10.302.026.1051|4.4.90.52|  014|   700.000,00|\n|-------|---------------|---------|-----|-------------|\n|11.1111|10.302.026.2056|3.3.90.92|  014| 1.000.000,00|\n|-------|---------------|---------|-----|-------------|\n|11.1111|10.302.026.2056|3.3.90.93|  014|   320.000,00|\n|-------|---------------|---------|-----|-------------|\n|11.1111|10.302.026.2056|4.4.90.52|  014| 1.000.000,00|\n|-------|---------------|---------|-----|-------------|\n|11.1111|10.302.026.2056|4.4.90.92|  014| 1.000.000,00|\n|-------|---------------|---------|-----|-------------|\n|11.1111|10.301.025.2061|4.4.90.92|  014| 2.000.000,00|\n|-------|---------------|---------|-----|-------------|\n|11.1111|10.305.028.2068|3.3.90.93|  014|   100.000,00|\n|-------|---------------|---------|-----|-------------|\n|11.1111|10.302.026.2069|3.3.90.92|  014|    60.000,00|\n|-------|---------------|---------|-----|-------------|\n|11.1111|10.122.025.2176|3.3.90.92|  014|   150.000,00|\n|-------|---------------|---------|-----|-------------|\n|11.1111|10.122.025.2176|3.3.90.93|  014|   120.000,00|\n|-------|---------------|---------|-----|-------------|\n|11.1111|10.122.025.2176|4.4.90.52|  014| 2.000.000,00|\n|-------|---------------|---------|-----|-------------|\n|11.1111|10.122.025.2176|4.4.90.92|  014|   700.000,00|\n|-------|---------------|---------|-----|-------------|\n|11.1111|10.302.026.2221|4.4.90.52|  014|   300.000,00|\n|-------|---------------|---------|-----|-------------|\n|11.1111|10.302.026.2242|4.4.90.51|  014| 1.000.000,00|\n|-------|---------------|---------|-----|-------------|\n|11.1111|10.302.026.2242|4.4.90.52|  014|   500.000,00|\n|-------|---------------|---------|-----|-------------|\n|       |               |         |TOTAL|10.950.000,00|\n|_______|_______________|_________|_____|_____________| * tabela formatada pela equipe técnica do LeisMunicipais.com.br\nArt. 3ºFica a Contabilidade Municipal autorizada a efetuar os registros contábeis necessários ao cumprimento deste Decreto.\n\nArt. 4ºEste Decreto entra em vigor na data da sua publicação.\n\nGabinete do Prefeito Municipal, 15 de julho de 2013.\n\nJOSÉ RONALDO DE CARVALHO\nPrefeito Municipal\n"
    }
   ],
   "source": [
    "def print_lei_mais_sem(orig_idx : int, sem_idx: int):\n",
    "    print(f'- - - LEI COMPARADA {orig_idx}: - - -\\n\\n')\n",
    "    print(leis.loc[orig_idx, 'texto'])\n",
    "    print(f'\\n\\n- - - LEI MAIS SEMELHANTE {sem_idx} - - -\\n\\n')\n",
    "    print(leis.loc[sem_idx, 'texto'])\n",
    "\n",
    "print_lei_mais_sem(orig_text_ind, text_mais_sem_ind)"
   ]
  },
  {
   "cell_type": "markdown",
   "metadata": {},
   "source": [
    "Opa! Lei 13 e Lei 118 são a mesma lei, com 3 dias de diferença. Por que existe isso?"
   ]
  },
  {
   "cell_type": "code",
   "execution_count": 12,
   "metadata": {
    "tags": []
   },
   "outputs": [
    {
     "output_type": "execute_result",
     "data": {
      "text/plain": "<6033x28875 sparse matrix of type '<class 'numpy.float64'>'\n\twith 534596 stored elements in Compressed Sparse Row format>"
     },
     "metadata": {},
     "execution_count": 12
    }
   ],
   "source": [
    "# Calcular similaridade usando TF-IDF agora\n",
    "# Comparar com a mesma lei original anterior\n",
    "transformer = TfidfTransformer()\n",
    "X_tfidf = transformer.fit_transform(X)\n",
    "\n",
    "# dense output pra conferir o resultado\n",
    "cos_sim_tfidf = cosine_similarity(X_tfidf, dense_output=True)\n",
    "cos_sim_tfidf_idx = np.argsort(cos_sim_tfidf)\n",
    "\n",
    "X_tfidf"
   ]
  },
  {
   "cell_type": "code",
   "execution_count": 13,
   "metadata": {
    "tags": []
   },
   "outputs": [
    {
     "output_type": "stream",
     "name": "stdout",
     "text": "Para o texto original, a semelhanca do mais semelhante e: 1.0\n- - - LEI COMPARADA 13: - - -\n\n\nO PREFEITO MUNICIPAL DE FEIRA DE SANTANA, Estado da Bahia, no uso de suas atribuições legais e com base na autorização contida na Lei Nº3.350, de 11 de dezembro de 2012, artigo 6º, § 1º, DECRETA:\n\nArt. 1ºFica aberto Crédito Suplementar ao Orçamento do Município no valor de R$ 10.950.000,00 (dez milhões, novecentos e cinquenta mil reais), conforme detalhamento abaixo:_____________________________________________________\n| CLASS.|  PROGRAMÁTICA |ECONÔMICA|FONTE| VALOR (R$)  |\n| INST. |               |         |     |             |\n|=======|===============|=========|=====|=============|\n|11.1111|10.122.025.2051|3.3.90.39|  002|10.950.000,00|\n|-------|---------------|---------|-----|-------------|\n|       |               |         |TOTAL|10.950.000,00|\n|_______|_______________|_________|_____|_____________| * tabela formatada pela equipe técnica do LeisMunicipais.com.br\nArt. 2ºOs recursos disponíveis para acorrer às despesas decorrentes do presente crédito suplementar correrão à conta de anulações nas dotações abaixo detalhadas:_____________________________________________________\n| CLASS.|  PROGRAMÁTICA |ECONÔMICA|FONTE| VALOR (R$)  |\n| INST. |               |         |     |             |\n|=======|===============|=========|=====|=============|\n|11.1111|10.302.026.1051|4.4.90.52|  014|   700.000,00|\n|-------|---------------|---------|-----|-------------|\n|11.1111|10.302.026.2056|3.3.90.92|  014| 1.000.000,00|\n|-------|---------------|---------|-----|-------------|\n|11.1111|10.302.026.2056|3.3.90.93|  014|   320.000,00|\n|-------|---------------|---------|-----|-------------|\n|11.1111|10.302.026.2056|4.4.90.52|  014| 1.000.000,00|\n|-------|---------------|---------|-----|-------------|\n|11.1111|10.302.026.2056|4.4.90.92|  014| 1.000.000,00|\n|-------|---------------|---------|-----|-------------|\n|11.1111|10.301.025.2061|4.4.90.92|  014| 2.000.000,00|\n|-------|---------------|---------|-----|-------------|\n|11.1111|10.305.028.2068|3.3.90.93|  014|   100.000,00|\n|-------|---------------|---------|-----|-------------|\n|11.1111|10.302.026.2069|3.3.90.92|  014|    60.000,00|\n|-------|---------------|---------|-----|-------------|\n|11.1111|10.122.025.2176|3.3.90.92|  014|   150.000,00|\n|-------|---------------|---------|-----|-------------|\n|11.1111|10.122.025.2176|3.3.90.93|  014|   120.000,00|\n|-------|---------------|---------|-----|-------------|\n|11.1111|10.122.025.2176|4.4.90.52|  014| 2.000.000,00|\n|-------|---------------|---------|-----|-------------|\n|11.1111|10.122.025.2176|4.4.90.92|  014|   700.000,00|\n|-------|---------------|---------|-----|-------------|\n|11.1111|10.302.026.2221|4.4.90.52|  014|   300.000,00|\n|-------|---------------|---------|-----|-------------|\n|11.1111|10.302.026.2242|4.4.90.51|  014| 1.000.000,00|\n|-------|---------------|---------|-----|-------------|\n|11.1111|10.302.026.2242|4.4.90.52|  014|   500.000,00|\n|-------|---------------|---------|-----|-------------|\n|       |               |         |TOTAL|10.950.000,00|\n|_______|_______________|_________|_____|_____________| * tabela formatada pela equipe técnica do LeisMunicipais.com.br\nArt. 3ºFica a Contabilidade Municipal autorizada a efetuar os registros contábeis necessários ao cumprimento deste Decreto.\n\nArt. 4ºEste Decreto entra em vigor na data da sua publicação.\n\nGabinete do Prefeito Municipal, 15 de julho de 2013.\n\nJOSÉ RONALDO DE CARVALHO\nPrefeito Municipal\n\n\n- - - LEI MAIS SEMELHANTE 13 - - -\n\n\nO PREFEITO MUNICIPAL DE FEIRA DE SANTANA, Estado da Bahia, no uso de suas atribuições legais e com base na autorização contida na Lei Nº3.350, de 11 de dezembro de 2012, artigo 6º, § 1º, DECRETA:\n\nArt. 1ºFica aberto Crédito Suplementar ao Orçamento do Município no valor de R$ 10.950.000,00 (dez milhões, novecentos e cinquenta mil reais), conforme detalhamento abaixo:_____________________________________________________\n| CLASS.|  PROGRAMÁTICA |ECONÔMICA|FONTE| VALOR (R$)  |\n| INST. |               |         |     |             |\n|=======|===============|=========|=====|=============|\n|11.1111|10.122.025.2051|3.3.90.39|  002|10.950.000,00|\n|-------|---------------|---------|-----|-------------|\n|       |               |         |TOTAL|10.950.000,00|\n|_______|_______________|_________|_____|_____________| * tabela formatada pela equipe técnica do LeisMunicipais.com.br\nArt. 2ºOs recursos disponíveis para acorrer às despesas decorrentes do presente crédito suplementar correrão à conta de anulações nas dotações abaixo detalhadas:_____________________________________________________\n| CLASS.|  PROGRAMÁTICA |ECONÔMICA|FONTE| VALOR (R$)  |\n| INST. |               |         |     |             |\n|=======|===============|=========|=====|=============|\n|11.1111|10.302.026.1051|4.4.90.52|  014|   700.000,00|\n|-------|---------------|---------|-----|-------------|\n|11.1111|10.302.026.2056|3.3.90.92|  014| 1.000.000,00|\n|-------|---------------|---------|-----|-------------|\n|11.1111|10.302.026.2056|3.3.90.93|  014|   320.000,00|\n|-------|---------------|---------|-----|-------------|\n|11.1111|10.302.026.2056|4.4.90.52|  014| 1.000.000,00|\n|-------|---------------|---------|-----|-------------|\n|11.1111|10.302.026.2056|4.4.90.92|  014| 1.000.000,00|\n|-------|---------------|---------|-----|-------------|\n|11.1111|10.301.025.2061|4.4.90.92|  014| 2.000.000,00|\n|-------|---------------|---------|-----|-------------|\n|11.1111|10.305.028.2068|3.3.90.93|  014|   100.000,00|\n|-------|---------------|---------|-----|-------------|\n|11.1111|10.302.026.2069|3.3.90.92|  014|    60.000,00|\n|-------|---------------|---------|-----|-------------|\n|11.1111|10.122.025.2176|3.3.90.92|  014|   150.000,00|\n|-------|---------------|---------|-----|-------------|\n|11.1111|10.122.025.2176|3.3.90.93|  014|   120.000,00|\n|-------|---------------|---------|-----|-------------|\n|11.1111|10.122.025.2176|4.4.90.52|  014| 2.000.000,00|\n|-------|---------------|---------|-----|-------------|\n|11.1111|10.122.025.2176|4.4.90.92|  014|   700.000,00|\n|-------|---------------|---------|-----|-------------|\n|11.1111|10.302.026.2221|4.4.90.52|  014|   300.000,00|\n|-------|---------------|---------|-----|-------------|\n|11.1111|10.302.026.2242|4.4.90.51|  014| 1.000.000,00|\n|-------|---------------|---------|-----|-------------|\n|11.1111|10.302.026.2242|4.4.90.52|  014|   500.000,00|\n|-------|---------------|---------|-----|-------------|\n|       |               |         |TOTAL|10.950.000,00|\n|_______|_______________|_________|_____|_____________| * tabela formatada pela equipe técnica do LeisMunicipais.com.br\nArt. 3ºFica a Contabilidade Municipal autorizada a efetuar os registros contábeis necessários ao cumprimento deste Decreto.\n\nArt. 4ºEste Decreto entra em vigor na data da sua publicação.\n\nGabinete do Prefeito Municipal, 15 de julho de 2013.\n\nJOSÉ RONALDO DE CARVALHO\nPrefeito Municipal\n"
    }
   ],
   "source": [
    "text_sem_ind = cos_sim_tfidf_idx[orig_text_ind, -2]\n",
    "sem_tfidf = cos_sim_tfidf[orig_text_ind, text_sem_ind]\n",
    "\n",
    "print(f'Para o texto original, a semelhanca do mais semelhante e: {sem_tfidf}')\n",
    "print_lei_mais_sem(orig_text_ind, text_sem_ind)"
   ]
  },
  {
   "cell_type": "code",
   "execution_count": 14,
   "metadata": {
    "tags": []
   },
   "outputs": [
    {
     "output_type": "stream",
     "name": "stdout",
     "text": "[ True False  True ... False  True  True]\n"
    }
   ],
   "source": [
    "# Ok, mostraram a mesma lei!\n",
    "# A semelhanca usando tfidf eh menor\n",
    "# Será que sempre mostram a mesma lei ou existe alguma dif?\n",
    "# Se existe diff, qual o melhor metodo? Contando ou tfidf?\n",
    "max_sim_idx_tfidf = cos_sim_tfidf_idx[:,-2]\n",
    "\n",
    "idx_iguais = (max_sim_index == max_sim_idx_tfidf)\n",
    "print(idx_iguais)"
   ]
  },
  {
   "cell_type": "code",
   "execution_count": 15,
   "metadata": {
    "tags": []
   },
   "outputs": [
    {
     "output_type": "stream",
     "name": "stdout",
     "text": "Segunda lei e lei mais semelhante de acordo com count:\n\n\n- - - LEI COMPARADA 1: - - -\n\n\nO PREFEITO MUNICIPAL DE FEIRA DE SANTANA, Estado da Bahia, no uso de suas atribuições legais e com base na autorização contida na Lei Nº3.350, de 11 de dezembro de 2012, artigo 6º, § 1º, DECRETA:\n\nArt. 1ºFica aberto Crédito Suplementar ao Orçamento do Município no valor de R$ 199.000,00 (cento e noventa e nove mil reais), conforme detalhamento abaixo:__________________________________________________\n| CLASS.|  PROGRAMÁTICA |ECONÔMICA|FONTE|VALOR (R$)|\n| INST. |               |         |     |          |\n|=======|===============|=========|=====|==========|\n|13.1313|15.451.036.2097|4.4.90.92| 0000|190.000,00|\n|-------|---------------|---------|-----|----------|\n|21.2127|14.422.002.2223|3.3.90.39| 0000|  9.000,00|\n|-------|---------------|---------|-----|----------|\n|       |               |         |TOTAL|199.000,00|\n|_______|_______________|_________|_____|__________| * tabela formatada pela equipe técnica do LeisMunicipais.com.br\nArt. 2ºOs recursos disponíveis para acorrer às despesas decorrentes do presente crédito suplementar correrão à conta de anulações nas dotações abaixo detalhadas:__________________________________________________\n| CLASS.|  PROGRAMÁTICA |ECONÔMICA|FONTE|VALOR (R$)|\n| INST. |               |         |     |          |\n|=======|===============|=========|=====|==========|\n|13.1313|15.451.036.2097|3.3.90.92| 0000|190.000,00|\n|-------|---------------|---------|-----|----------|\n|21.2127|14.422.002.2235|3.3.90.30| 0000|  1.000,00|\n|-------|---------------|---------|-----|----------|\n|21.2127|14.422.002.2235|3.3.90.32| 0000|  1.000,00|\n|-------|---------------|---------|-----|----------|\n|21.2127|14.422.002.2235|3.3.90.33| 0000|  1.000,00|\n|-------|---------------|---------|-----|----------|\n|21.2127|14.422.002.2235|3.3.90.36| 0000|  1.000,00|\n|-------|---------------|---------|-----|----------|\n|21.2127|14.422.002.2235|3.3.90.37| 0000|  1.000,00|\n|-------|---------------|---------|-----|----------|\n|21.2127|14.422.002.2235|3.3.90.39| 0000|  1.000,00|\n|-------|---------------|---------|-----|----------|\n|21.2127|14.422.002.2235|3.3.90.93| 0000|  1.000,00|\n|-------|---------------|---------|-----|----------|\n|21.2127|14.422.002.2235|4.4.90.52| 0000|  1.000,00|\n|-------|---------------|---------|-----|----------|\n|21.2127|14.422.002.2235|4.4.90.93| 0000|  1.000,00|\n|-------|---------------|---------|-----|----------|\n|       |               |         |TOTAL|199.000,00|\n|_______|_______________|_________|_____|__________| * tabela formatada pela equipe técnica do LeisMunicipais.com.br\nArt. 3ºFica a Contabilidade Municipal autorizada a efetuar os registros contábeis necessários ao cumprimento deste Decreto.\n\nArt. 4ºEste Decreto entra em vigor na data da sua publicação.\n\nGabinete do Prefeito Municipal, 25 de fevereiro de 2013.\n\nJOSÉ RONALDO DE CARVALHO\nPrefeito Municipal\n\n\n- - - LEI MAIS SEMELHANTE 176 - - -\n\n\nO PREFEITO MUNICIPAL DE FEIRA DE SANTANA, Estado da Bahia, no uso de suas atribuições legais e com base na autorização contida na Lei Nº3.350, de 11 de dezembro de 2012, artigo 6º, § 1º, DECRETA:\n\nArt. 1ºFica aberto Crédito Suplementar ao Orçamento do Município no valor de R$ 650.000,00 (seiscentos e cinquenta mil reais), conforme detalhamento abaixo:__________________________________________________\n| CLASS.|  PROGRAMÁTICA |ECONÔMICA|FONTE|VALOR (R$)|\n| INST. |               |         |     |          |\n|=======|===============|=========|=====|==========|\n|06.0606|04.122.001.2020|3.3.90.93| 0024|615.000,00|\n|-------|---------------|---------|-----|----------|\n|21.2127|14.422.061.2222|4.4.90.92| 0000| 35.000,00|\n|-------|---------------|---------|-----|----------|\n|       |               |         |TOTAL|650.000,00|\n|_______|_______________|_________|_____|__________| * tabela formatada pela equipe técnica do LeisMunicipais.com.br\nArt. 2ºOs recursos disponíveis para acorrer às despesas decorrentes do presente crédito suplementar correrão à conta de anulações nas dotações abaixo detalhadas:__________________________________________________\n| CLASS.|  PROGRAMÁTICA |ECONÔMICA|FONTE|VALOR (R$)|\n| INST. |               |         |     |          |\n|=======|===============|=========|=====|==========|\n|13.1313|15.451.036.2097|4.4.90.51| 0024|615.000,00|\n|-------|---------------|---------|-----|----------|\n|21.2127|04.182.002.2007|4.4.90.52| 0000| 10.000,00|\n|-------|---------------|---------|-----|----------|\n|21.2127|06.181.061.2012|3.3.90.32| 0000|  2.000,00|\n|-------|---------------|---------|-----|----------|\n|21.2127|06.181.061.2012|4.4.90.52| 0000| 20.000,00|\n|-------|---------------|---------|-----|----------|\n|21.2127|06.181.002.2055|3.3.90.39| 0000|  3.000,00|\n|-------|---------------|---------|-----|----------|\n|       |               |         |TOTAL|650.000,00|\n|_______|_______________|_________|_____|__________| * tabela formatada pela equipe técnica do LeisMunicipais.com.br\nArt. 3ºFica a Contabilidade Municipal autorizada a efetuar os registros contábeis necessários ao cumprimento deste Decreto.\n\nArt. 4ºEste Decreto entra em vigor na data da sua publicação.\n\nGabinete do Prefeito Municipal, 28 de fevereiro de 2013.\n\nJOSÉ RONALDO DE CARVALHO\nPrefeito Municipal\n"
    }
   ],
   "source": [
    "# Os semelhantes pra segunda lei e pra anti-penultima sao diferentes\n",
    "# Vamos dar uma olhada\n",
    "print('Segunda lei e lei mais semelhante de acordo com count:\\n\\n')\n",
    "print_lei_mais_sem(1, max_sim_index[1])"
   ]
  },
  {
   "cell_type": "code",
   "execution_count": 16,
   "metadata": {
    "tags": []
   },
   "outputs": [
    {
     "output_type": "stream",
     "name": "stdout",
     "text": "Segunda lei e lei mais semelhante de acordo com tfidf:\n\n\n- - - LEI COMPARADA 1: - - -\n\n\nO PREFEITO MUNICIPAL DE FEIRA DE SANTANA, Estado da Bahia, no uso de suas atribuições legais e com base na autorização contida na Lei Nº3.350, de 11 de dezembro de 2012, artigo 6º, § 1º, DECRETA:\n\nArt. 1ºFica aberto Crédito Suplementar ao Orçamento do Município no valor de R$ 199.000,00 (cento e noventa e nove mil reais), conforme detalhamento abaixo:__________________________________________________\n| CLASS.|  PROGRAMÁTICA |ECONÔMICA|FONTE|VALOR (R$)|\n| INST. |               |         |     |          |\n|=======|===============|=========|=====|==========|\n|13.1313|15.451.036.2097|4.4.90.92| 0000|190.000,00|\n|-------|---------------|---------|-----|----------|\n|21.2127|14.422.002.2223|3.3.90.39| 0000|  9.000,00|\n|-------|---------------|---------|-----|----------|\n|       |               |         |TOTAL|199.000,00|\n|_______|_______________|_________|_____|__________| * tabela formatada pela equipe técnica do LeisMunicipais.com.br\nArt. 2ºOs recursos disponíveis para acorrer às despesas decorrentes do presente crédito suplementar correrão à conta de anulações nas dotações abaixo detalhadas:__________________________________________________\n| CLASS.|  PROGRAMÁTICA |ECONÔMICA|FONTE|VALOR (R$)|\n| INST. |               |         |     |          |\n|=======|===============|=========|=====|==========|\n|13.1313|15.451.036.2097|3.3.90.92| 0000|190.000,00|\n|-------|---------------|---------|-----|----------|\n|21.2127|14.422.002.2235|3.3.90.30| 0000|  1.000,00|\n|-------|---------------|---------|-----|----------|\n|21.2127|14.422.002.2235|3.3.90.32| 0000|  1.000,00|\n|-------|---------------|---------|-----|----------|\n|21.2127|14.422.002.2235|3.3.90.33| 0000|  1.000,00|\n|-------|---------------|---------|-----|----------|\n|21.2127|14.422.002.2235|3.3.90.36| 0000|  1.000,00|\n|-------|---------------|---------|-----|----------|\n|21.2127|14.422.002.2235|3.3.90.37| 0000|  1.000,00|\n|-------|---------------|---------|-----|----------|\n|21.2127|14.422.002.2235|3.3.90.39| 0000|  1.000,00|\n|-------|---------------|---------|-----|----------|\n|21.2127|14.422.002.2235|3.3.90.93| 0000|  1.000,00|\n|-------|---------------|---------|-----|----------|\n|21.2127|14.422.002.2235|4.4.90.52| 0000|  1.000,00|\n|-------|---------------|---------|-----|----------|\n|21.2127|14.422.002.2235|4.4.90.93| 0000|  1.000,00|\n|-------|---------------|---------|-----|----------|\n|       |               |         |TOTAL|199.000,00|\n|_______|_______________|_________|_____|__________| * tabela formatada pela equipe técnica do LeisMunicipais.com.br\nArt. 3ºFica a Contabilidade Municipal autorizada a efetuar os registros contábeis necessários ao cumprimento deste Decreto.\n\nArt. 4ºEste Decreto entra em vigor na data da sua publicação.\n\nGabinete do Prefeito Municipal, 25 de fevereiro de 2013.\n\nJOSÉ RONALDO DE CARVALHO\nPrefeito Municipal\n\n\n- - - LEI MAIS SEMELHANTE 96 - - -\n\n\nO PREFEITO MUNICIPAL DE FEIRA DE SANTANA, Estado da Bahia, no uso de suas atribuições legais e com base na autorização contida na Lei Nº3.350, de 11 de dezembro de 2012, artigo 6º, § 1º, DECRETA:\n\nArt. 1ºFica aberto Crédito Suplementar ao Orçamento do Município no valor de R$ 1.000,00 (um mil reais), conforme detalhamento abaixo:________________________________________________\n| CLASS.|  PROGRAMÁTICA |ECONÔMICA|FONTE|  VALOR |\n| INST. |               |         |     |  (R$ ) |\n|=======|===============|=========|=====|========|\n|13.1313|15.451.036.2097|4.4.90.92| 0024|1.000,00|\n|-------|---------------|---------|-----|--------|\n|       |               |         |TOTAL|1.000,00|\n|_______|_______________|_________|_____|________| * tabela formatada pela equipe técnica do LeisMunicipais.com.br\nArt. 2ºOs recursos disponíveis para acorrer às despesas decorrentes do presente crédito suplementar correrão à conta de anulações nas dotações abaixo detalhadas:________________________________________________\n| CLASS.|  PROGRAMÁTICA |ECONÔMICA|FONTE|  VALOR |\n| INST. |               |         |     |  (R$ ) |\n|=======|===============|=========|=====|========|\n|13.1313|15.451.036.2146|4.4.90.51| 0024|1.000,00|\n|-------|---------------|---------|-----|--------|\n|       |               |         |TOTAL|1.000,00|\n|_______|_______________|_________|_____|________| * tabela formatada pela equipe técnica do LeisMunicipais.com.br\nArt. 3ºFica a Contabilidade Municipal autorizada a efetuar os registros contábeis necessários ao cumprimento deste Decreto.\n\nArt. 4ºEste Decreto entra em vigor na data da sua publicação.\n\nGabinete do Prefeito Municipal, 09 de abril de 2013.\n\nJOSÉ RONALDO DE CARVALHO\nPrefeito Municipal\n"
    }
   ],
   "source": [
    "print('Segunda lei e lei mais semelhante de acordo com tfidf:\\n\\n')\n",
    "print_lei_mais_sem(1, max_sim_idx_tfidf[1])"
   ]
  },
  {
   "cell_type": "markdown",
   "metadata": {},
   "source": [
    "- - - -\n",
    "\n",
    "Ok, sao bastante similares ainda assim.\n",
    "\n",
    "Acho que Count se saiu um pouco melhor porque o valor da segunda lei eh mais parecido com a primeira e ambas sao publicacao fevereiro, enquanto a tfidf eh publicacao abril.\n",
    "\n",
    "Vamos olhar a antepenultima lei:"
   ]
  },
  {
   "cell_type": "code",
   "execution_count": 17,
   "metadata": {
    "tags": []
   },
   "outputs": [
    {
     "output_type": "stream",
     "name": "stdout",
     "text": "Antpenultima lei e lei mais semelhante de acordo com count:\n\n\n- - - LEI COMPARADA 6030: - - -\n\n\nA CÂMARA MUNICIPAL DE FEIRA DE SANTANA, Estado da Bahia, na conformidade do artigo 70, inciso V, da Lei Municipal nº37, de 05 de Abril de 1990, e artigos 274, § 2º e, 400, do Regimento Interno, e do Projeto de Resolução nº 674/2014, de autoria da Edil Gerusa Maria Bastos S. Sampaio, promulga a seguinte Resolução:\n\nArt. 1ºFica instituída, no âmbito da Câmara Municipal de Feira de Santana, Estado da Bahia, a \"Semana em comemoração ao DIA dos Pais, que será na segunda semana do mês de Agosto de cada ano.\n\nParágrafo Único - Para efeito do exposto no caput deste artigo, esta Casa realizará atividades comemorativas alusivas ao período dedicado à Semana em comemoração ao \"Dia dos Pais\", externando o direito a cada Parlamentar homenagear um Pai, sendo ele figura paternal, ou genitor de uma pessoa.\n\nArt. 2ºAs despesas decorrentes desta resolução correrão por conta de verba existente na Secretaria da Casa.\n\nArt. 3ºEsta Resolução entrará em vigor na data de sua publicação, revogadas as disposições em contrário.\n\nMESA DIRETIVA DA CÂMARA MUNICIPAL DE FEIRA DE SANTANA, em 04 de Agosto de 2014.\n\nVer. JUSTINIANO OLIVEIRA FRANÇA\nPresidente\n\nVer. REINALDO MIRANDA VIEIRA FILHO\n1º Vice-Presidente\n\nVer. EDVALDO LIMA DOS SANTOS\n2º Vice-Presidente\n\nVer. ROQUE PEREIRA DO CARMO\n1º Secretário\n\nVer. JOSÉ CARNEIRO ROCHA\n2º Secretário\n\nVer. WELLIGTON ANDRADE DE JESUS\n3º Secretário\n\n\n- - - LEI MAIS SEMELHANTE 5544 - - -\n\n\nA CÂMARA MUNICIPAL DE FEIRA DE SANTANA, Estado da Bahia, na conformidade do artigo 71, inciso V, da Lei Municipal nº37, de 05 de Abril de 1990, e artigos 274, § 2º e 400, do Regimento Interno, e do Projeto de Resolução nº 667/2013, de autoria da Mesa Diretiva:\n\nArt. 1ºDê-se ao Art. 1º da Resolução nº365/99 a seguinte redação:\n\n\"Art. 1º A data de 04 de Outubro fica considerada como Dia Municipal do Agente Comunitário de Saúde e Endemias\"\n\nArt. 2ºAs despesas decorrentes desta Resolução correrão por conta de verba existente na Secretaria d Casa.\n\nArt. 3ºEsta Resolução entrará em vigor na data de sua publicação, revogadas as disposições em contrário.\n\nMESA DIRETIVA DA CÂMARA MUNCIPAL DE FEIRA DE SANTANA, em 15 de Outubro de 2013.\n\nVer. JUSTINIANO OLIVEIRA FRANÇA\nPresidente\n\nVer. REINALDO MIRANDA VIEIRA FILHO\n1º Vice-Presidente\n\nVer. EDVALDO LIMA DOS SANTOS\n2º Vice-Presidente\n\nVer. ROQUE PEREIRA DO CARMO\n1º Secretário\n\nVer. JOSÉ CARNEIRO ROCHA\n2º Secretário\n\nVer. WELLIGTON ANDRADE DE JESUS\n3º Secretário\n"
    }
   ],
   "source": [
    "print('Antpenultima lei e lei mais semelhante de acordo com count:\\n\\n')\n",
    "orig_idx = len(leis) - 3\n",
    "print_lei_mais_sem(orig_idx, max_sim_index[-3])"
   ]
  },
  {
   "cell_type": "code",
   "execution_count": 18,
   "metadata": {
    "tags": []
   },
   "outputs": [
    {
     "output_type": "stream",
     "name": "stdout",
     "text": "Antpe lei e lei mais semelhante de acordo com TFIDF:\n\n\n- - - LEI COMPARADA 6030: - - -\n\n\nA CÂMARA MUNICIPAL DE FEIRA DE SANTANA, Estado da Bahia, na conformidade do artigo 70, inciso V, da Lei Municipal nº37, de 05 de Abril de 1990, e artigos 274, § 2º e, 400, do Regimento Interno, e do Projeto de Resolução nº 674/2014, de autoria da Edil Gerusa Maria Bastos S. Sampaio, promulga a seguinte Resolução:\n\nArt. 1ºFica instituída, no âmbito da Câmara Municipal de Feira de Santana, Estado da Bahia, a \"Semana em comemoração ao DIA dos Pais, que será na segunda semana do mês de Agosto de cada ano.\n\nParágrafo Único - Para efeito do exposto no caput deste artigo, esta Casa realizará atividades comemorativas alusivas ao período dedicado à Semana em comemoração ao \"Dia dos Pais\", externando o direito a cada Parlamentar homenagear um Pai, sendo ele figura paternal, ou genitor de uma pessoa.\n\nArt. 2ºAs despesas decorrentes desta resolução correrão por conta de verba existente na Secretaria da Casa.\n\nArt. 3ºEsta Resolução entrará em vigor na data de sua publicação, revogadas as disposições em contrário.\n\nMESA DIRETIVA DA CÂMARA MUNICIPAL DE FEIRA DE SANTANA, em 04 de Agosto de 2014.\n\nVer. JUSTINIANO OLIVEIRA FRANÇA\nPresidente\n\nVer. REINALDO MIRANDA VIEIRA FILHO\n1º Vice-Presidente\n\nVer. EDVALDO LIMA DOS SANTOS\n2º Vice-Presidente\n\nVer. ROQUE PEREIRA DO CARMO\n1º Secretário\n\nVer. JOSÉ CARNEIRO ROCHA\n2º Secretário\n\nVer. WELLIGTON ANDRADE DE JESUS\n3º Secretário\n\n\n- - - LEI MAIS SEMELHANTE 6012 - - -\n\n\nA CÂMARA MUNICIPAL DE FEIRA DE SANTANA, Estado da Bahia, na conformidade do artigo 70, Inciso V, da Lei Municipal nº37, de 05 de Abril de 1990 e, artigos 274, § 2º e, 400, do Regimento Interno, e do Projeto de Resolução nº 629/2009, de autoria da Edil Eremita Mota de Araújo, promulga a seguinte Resolução:\n\nArt. 1ºFica instituída, no âmbito da Câmara Municipal de Feira de Santana, Estado da Bahia, a SEMANA MUNICIPAL DA FAMÍLIA, que será comemorada na primeira semana do mês de Maio de cada ano.\n\nParágrafo Único - Para efeito de exposto no caput deste artigo, esta Casa realizará atividades comemorativas alusivas ao período dedicado à Semana Municipal da Família.\n\nArt. 2ºAs despesas decorrentes desta Resolução correrão por conta de verba existente na Secretaria desta Casa.\n\nArt. 3ºEsta Resolução entrará em vigor na data de sua publicação, revogadas as disposições em contrário.\n\nMESA DIRETIVA DA CÂMARA MUNICIPAL DE FEIRA DE SANTANA, em 29 de Abril de 2009.\n\nVer. ANTÔNIO CARLOS PASSOS ATAÍDE\nPresidente\n\nVer. LUIZ AUGUSTO DE JESUS\n1º Vice-Presidente\n\nVer. REINALDO MIRANDA VIEIRA FILHO\n2º Vice-Presidente\n\nVer. ANTÔNIO FRANCISCO NETO\n1º Secretário\n\nVerª EREMITA MOTA DE ARAÚJO\n2º Secretário\n\nVer. EWERTON CARNEIRO DA COSTA\n3º Secretário\n"
    }
   ],
   "source": [
    "print('Antpe lei e lei mais semelhante de acordo com TFIDF:\\n\\n')\n",
    "print_lei_mais_sem(orig_idx, max_sim_idx_tfidf[-3])"
   ]
  },
  {
   "cell_type": "markdown",
   "metadata": {},
   "source": [
    "Ok, nessa o TF-IDF se sai bem melhor.\n",
    "\n",
    "A original trata de semana de dia dos pais.\n",
    "\n",
    "A que o count pegou trata de dia do agente comunitario e cita coisas como saude, endemia, despesas, que não ficaram muit claras pra mim o que são.\n",
    "\n",
    "Já o TF-IDF trata de semana da familia. Não só familia é parecido com pai, mas tb é uma semnaa. E o texto da lei tb é sobre uma semana comemorativa. \n",
    "\n",
    "Vamos ver se existem mais diferenças e quais são estas diferenças:"
   ]
  },
  {
   "cell_type": "code",
   "execution_count": 19,
   "metadata": {
    "tags": []
   },
   "outputs": [
    {
     "output_type": "stream",
     "name": "stdout",
     "text": "3161\n"
    }
   ],
   "source": [
    "difs = [i for i, igual in enumerate(idx_iguais) if not igual]\n",
    "print(len(difs))"
   ]
  },
  {
   "cell_type": "markdown",
   "metadata": {},
   "source": [
    "Então pra mais da metade das leis Count e TF-IDF retornam resultados diferentes. Será que de TF-IDF pra vetor de palavras vai ter essa diferença toda também? Uma questão. \n",
    "\n",
    "Voltando ao que interessa, vamo dar uma olhada em mais algumas leis pra continuar a comparação entre Count e TF-IDF.\n",
    "\n",
    "Vamo sortear indices aleatorios desse vetor e ler as leis que eles representam e as similaridades"
   ]
  },
  {
   "cell_type": "code",
   "execution_count": 20,
   "metadata": {
    "tags": []
   },
   "outputs": [
    {
     "output_type": "stream",
     "name": "stdout",
     "text": "[250, 3905, 5199, 4144, 2611, 1888, 1860, 3853, 195, 1014]\n"
    }
   ],
   "source": [
    "num_leis_sorteadas = 10\n",
    "idx_dif = np.random.randint(0, high=len(difs)-1, size=num_leis_sorteadas)\n",
    "sorteadas = [difs[i] for i in idx_dif]\n",
    "print(sorteadas)"
   ]
  },
  {
   "cell_type": "code",
   "execution_count": 21,
   "metadata": {
    "tags": [
     "outputPrepend"
    ]
   },
   "outputs": [
    {
     "output_type": "stream",
     "name": "stdout",
     "text": "ºAltera-se a redação do art. 1º da Lei nº3.619, que passa a vigorar com o seguinte teor:\n\n\"Art. 1º A Rua Antonio Carvalho dos Santos, esta situada no Bairro Conceição\".\n\nArt. 2ºEsta Lei entrará em vigor na data de sua publicação.\n\nArt. 3ºRevogadas as disposições em contrário.\n\nGabinete do Prefeito, 09 de outubro de 2017.\n\nJOSÉ RONALDO DE CARVALHO\nPREFEITO MUNICIPAL\n\nMARIO COSTA BORGES\nCHEFE DE GABINETE DO PREFEITO\n\nCLEUDSON SANTOS ALMEIDA\nPROCURADOR GERAL DO MUNICÍPIO\n\nCARLOS ALBERTO OLIVEIRA BRITO\nSECRETÁRIO MUNICIPAL DE PLANEJAMENTO\n\nPUBLICADO NO DIÁRIO OFICIAL ELETRÔNICO DIA 10 DE OUTUBRO DE 2017.\n\n\nLei numero 1860\nPAR UTILIZANDO COUNT:\n\n\n- - - LEI COMPARADA 1860: - - -\n\n\nO PREFEITO MUNICIPAL DE FEIRA DE SANTANA, Estado da Bahia, FAÇO saber que a Câmara Municipal, através do Projeto de Lei nº 182/2010, de autoria do Edil Everton Carneiro Costa, decretou e eu sanciono a seguinte Lei:\n\nArt. 1ºTorna-se obrigatório aos estabelecimentos comerciais aos estabelecimentos comerciais, hotéis, motéis, casas noturnas e estabelecimentos congêneres, a afixação de aviso por escrito e em local visível dos crimes cometidos contra crianças e adolescentes, bem como as penalidades previstas.\n\nArt. 2ºOs estabelecimentos comerciais, hotéis, motéis, casas noturnas e estabelecimentos congêneres deverão exibir em sua recepção, em local visível, placa de 60 cm x 70 cm contendo:\n\n\"SUBMETER CRIANÇA E ADOLESCENTE À EXPLORAÇÃO SEXUAL É CRIME QUE CONSTITUI INFRAÇÃO AO ART. 218-B O CÓDIGO PENAL (DECRETO LEI Nº 2848/40), BEM COMO VIOLA O DISPOSTO NO ART. 244-A DO ESTATUTO DA CRIANÇA E DO ADOLESCENTE (LEI Nº 8069/90), INCORRENDO NA PENA DE RECLUSÃO DE ATÉ 10 (DEZ) ANOS\".\n\nArt. 3ºO descumprimento do disposto nesta Lei sujeitará o infrator às seguintes penalidades:\n\nI - advertência por escrito;\n\nII - multa de 10 (dez) salários mínimos, se reincidente;\n\nIII - suspensão do funcionamento do estabelecimento pelo período de 60 (sessenta) dias.\n\nArt. 4ºOs estabelecimentos a que se refere o art. 1º terão prezo de 90 (noventa) dias para se adequarem ao disposto nesta Lei.\n\nArt. 5ºEsta Lei entrará em vigor na data de sua publicação, revogadas as disposições em contrário.\n\nGabinete do Prefeito Municipal, 18 de maio de 2011.\n\nTARCIZIO SUZART PIMENTA JUNIOR\nPrefeito Municipal\n\nMILTON PEREIRA DE BRITTO\nChefe de Gabinete do Prefeito\n\nCARLOS ANTÔNIO DE MORAES LUCENA\nProcurador Geral do Município\n\nMAGNO FELZEMBURG\nSec. Municipal de Desenvolvimento Econômico\n\n\n- - - LEI MAIS SEMELHANTE 5384 - - -\n\n\nO PRESIDENTE DA CÂMARA MUNICIPAL DE FEIRA DE SANTANA, ESTADO DA BAHIA, FAÇO SABER QUE A CÂMARA MUNICIPAL, ATRAVÉS DO PROJETO DE LEI Nº 29/2007, DE AUTORIA DO EDIL MAGNO FELZEMBURG, E NA CONFORMIDADE DO ART. 78, § 7, DA LEI Nº37, DE 05 DE ABRIL DE 1990, E ARTIGO 25, INCISO V, DO REGIME INTERNO, PROMULGA A SEGUINTE LEI:\n\nArt. 1ºFicam proibidos os estabelecimentos comerciais do Município de Feira de Santana, que colocarem seus produtos em liquidação através de promoções, majorar o preço dos mesmos no período de 30 (trinta) dias que a antecederem.\n\nArt. 2ºEsta Lei tem como objetivo proteger o consumidor fazendo com que os comerciantes, nas promoções realizadas, ofereçam produtos com descontos reais.\n\nArt. 3ºO descumprimento do dispositivo nesta Lei sujeita os estabelecimentos comerciais às seguintes sanções:\n\nI - advertência quando da primeira infração ou abuso;\n\nII - multa no valor de R$ 500,00 (quinhentos reais);\n\nIII - suspensão do alvará de funcionamento por até 06 (seis) meses;\n\nIV - interdição do estabelecimento.\n\nArt. 4ºO Executivo Municipal, através de sua Coordenadoria Municipal de Defesa do Consumidor - CONDECON - órgão integrante da Secretaria Municipal de Governo fiscalizará e aplicará as sanções previstas nesta Lei Municipal, com o objetivo de coibir abusos ou infrações cometidas pelos estabelecimentos comerciais, no que se refere ao que determina esta Lei.\n\nArt. 5ºEsta Lei entrará em vigor na data de sua publicação, revogadas as disposições em contrário.\n\nCÂMARA MUNICIPAL DE FEIRA DE SANTANA, em 1º de Outubro de 2007.\n\nVer. ANTONIO CARLOS PASSOS ATAÍDE\nPRESIDENTE\n\nAutor: Magno Felzemburg\nDATA DE PUBLICAÇÃO: 06/10/2007\n\n\nPAR UTILIZANDO TF-IDF:\n\n\n- - - LEI COMPARADA 1860: - - -\n\n\nO PREFEITO MUNICIPAL DE FEIRA DE SANTANA, Estado da Bahia, FAÇO saber que a Câmara Municipal, através do Projeto de Lei nº 182/2010, de autoria do Edil Everton Carneiro Costa, decretou e eu sanciono a seguinte Lei:\n\nArt. 1ºTorna-se obrigatório aos estabelecimentos comerciais aos estabelecimentos comerciais, hotéis, motéis, casas noturnas e estabelecimentos congêneres, a afixação de aviso por escrito e em local visível dos crimes cometidos contra crianças e adolescentes, bem como as penalidades previstas.\n\nArt. 2ºOs estabelecimentos comerciais, hotéis, motéis, casas noturnas e estabelecimentos congêneres deverão exibir em sua recepção, em local visível, placa de 60 cm x 70 cm contendo:\n\n\"SUBMETER CRIANÇA E ADOLESCENTE À EXPLORAÇÃO SEXUAL É CRIME QUE CONSTITUI INFRAÇÃO AO ART. 218-B O CÓDIGO PENAL (DECRETO LEI Nº 2848/40), BEM COMO VIOLA O DISPOSTO NO ART. 244-A DO ESTATUTO DA CRIANÇA E DO ADOLESCENTE (LEI Nº 8069/90), INCORRENDO NA PENA DE RECLUSÃO DE ATÉ 10 (DEZ) ANOS\".\n\nArt. 3ºO descumprimento do disposto nesta Lei sujeitará o infrator às seguintes penalidades:\n\nI - advertência por escrito;\n\nII - multa de 10 (dez) salários mínimos, se reincidente;\n\nIII - suspensão do funcionamento do estabelecimento pelo período de 60 (sessenta) dias.\n\nArt. 4ºOs estabelecimentos a que se refere o art. 1º terão prezo de 90 (noventa) dias para se adequarem ao disposto nesta Lei.\n\nArt. 5ºEsta Lei entrará em vigor na data de sua publicação, revogadas as disposições em contrário.\n\nGabinete do Prefeito Municipal, 18 de maio de 2011.\n\nTARCIZIO SUZART PIMENTA JUNIOR\nPrefeito Municipal\n\nMILTON PEREIRA DE BRITTO\nChefe de Gabinete do Prefeito\n\nCARLOS ANTÔNIO DE MORAES LUCENA\nProcurador Geral do Município\n\nMAGNO FELZEMBURG\nSec. Municipal de Desenvolvimento Econômico\n\n\n- - - LEI MAIS SEMELHANTE 493 - - -\n\n\nO PREFEITO MUNICIPAL DE FEIRA DE SANTANA, Estado da Bahia, FAÇO saber que a Câmara Municipal, através do Projeto de Lei nº 10/98, de autoria dos Edis Ildes Ferreira de Oliveira, Manoel Messias Gonzaga, Everton Pereira Cerqueira e Carlito Moreira de Menezes, decretou e eu sanciono a seguinte Lei:\n\nArt. 1ºOs hotéis, motéis, pensões, casa noturnas e estabelecimentos congêneres, ficam proibidos, no âmbito do Município de Feira de Santana, de hospedar ou de admitir a freqüência de crianças e adolescentes desacompanhados dos pais ou responsáveis, salvo se autorizados pelos mesmos.\n\nArt. 2ºAs penalidades para os estabelecimentos que infringirem o estabelecido no Art. 1º são as seguintes, a serem aplicadas progressivamente:\n\na) multa de até 1.000 (uma mil) UFIR`s para a primeira incidência;\nb) multa de até 5.000 (cinco mil) UFIR`s para os casos de reincidência;\nc) suspensão do alvará de funcionamento;\nd) cassação do alvará de funcionamento.\n\nParágrafo Único - As penas de suspensão ou cassação do alvará de funcionamento poderão ser aplicadas, em qualquer momento, caso sejam constatadas práticas de violência ou exploração contra a criança e o adolescente.\n\nArt. 3ºA aplicação das penalidades previstas neste artigo não prejudicarão outras sanções penais cabíveis.\n\nArt. 4ºA autuação do estabelecimento infrator poderá ser feita pelo agente fiscalizador do Município, através de ação rotineira, ou ainda por denúncia.\n\nArt. 5ºA denúncia poderá ser formulada e apresentada por qualquer cidadão mediante apresentação de registro de ocorrência policial ou do Conselho Tutelar.\n\nArt. 6ºOs estabelecimentos citados no caput do art. 1º deverão ser comunicados do teor desta Lei, pela administração municipal, devendo afixar cópia da mesma nos seus compartimentos freqüentados pelo público: recepção, portaria, quartos, apartamentos, salões de jogos etc.\n\nParágrafo Único - O não cumprimento deste artigo, pelos estabelecimentos citados no Art. 1º, implica em multa de até 500 (quinhentas) UFIR`s.\n\nArt. 7ºO Poder Executivo Municipal regulamentará a presente Lei no prazo de 90 (noventa) dias.\n\nArt. 8ºEsta Lei entrará em vigor após sua publicação, revogadas as disposições em contrário.\n\nGabinete do Prefeito Municipal, 08 de maio de 1998.\n\nCLAILTON COSTA MASCARENHAS\nPrefeito\n\nDr. EVANGIVALDO DE FIGUEIREDO OLIVEIRA\nChefe de Gabinete do Prefeito\n\nData da Publicação: 9/5/1998\n\n\nLei numero 3853\nPAR UTILIZANDO COUNT:\n\n\n- - - LEI COMPARADA 3853: - - -\n\n\nVisualizar Ato:Decreto Legislativo nº 19/2000 - Feira de Santana-BA\n\n\n- - - LEI MAIS SEMELHANTE 4343 - - -\n\n\nVisualizar Ato:Decreto Legislativo nº 41/2012 - Feira de Santana-BA\n\n\nPAR UTILIZANDO TF-IDF:\n\n\n- - - LEI COMPARADA 3853: - - -\n\n\nVisualizar Ato:Decreto Legislativo nº 19/2000 - Feira de Santana-BA\n\n\n- - - LEI MAIS SEMELHANTE 4488 - - -\n\n\nVisualizar Ato:Decreto Legislativo nº 61/2009 - Feira de Santana-BA\n\n\nLei numero 195\nPAR UTILIZANDO COUNT:\n\n\n- - - LEI COMPARADA 195: - - -\n\n\nO PREFEITO MUNICIPAL DE FEIRA DE SANTANA, Estado da Bahia, no uso de suas atribuições legais e com base na autorização contida na Lei Nº3.350, de 11 de dezembro de 2012, artigo 6º, § 1º, DECRETA:\n\nArt. 1ºFica aberto Crédito Suplementar ao Orçamento do Município no valor de R$ 902.000,00 (novecentos e dois mil reais), conforme detalhamento abaixo:__________________________________________________\n| CLASS.|  PROGRAMÁTICA |ECONÔMICA|FONTE| VALOR (R$|\n| INST. |               |         |     |     )    |\n|=======|===============|=========|=====|==========|\n|10.1010|27.813.050.2044|3.3.90.39| 0000|902.000,00|\n|-------|---------------|---------|-----|----------|\n|       |               |         |TOTAL|902.000,00|\n|_______|_______________|_________|_____|__________| * tabela formatada pela equipe técnica do LeisMunicipais.com.br\nArt. 2ºOs recursos disponíveis para acorrer às despesas decorrentes do presente crédito suplementar correrão à conta de anulações nas dotações abaixo detalhadas:__________________________________________________\n| CLASS.|  PROGRAMÁTICA |ECONÔMICA|FONTE| VALOR (R$|\n| INST. |               |         |     |     )    |\n|=======|===============|=========|=====|==========|\n|10.1010|27.813.050.2044|3.3.50.43| 0000| 50.000,00|\n|-------|---------------|---------|-----|----------|\n|06.0606|04.122.001.2020|3.3.90.35| 0000|100.000,00|\n|-------|---------------|---------|-----|----------|\n|06.0606|04.122.001.2020|3.3.90.37| 0000|200.000,00|\n|-------|---------------|---------|-----|----------|\n|06.0606|28.843.052.9145|3.2.90.91| 0000|200.000,00|\n|-------|---------------|---------|-----|----------|\n|14.1414|23.692.022.2102|3.3.90.36| 0000|200.000,00|\n|-------|---------------|---------|-----|----------|\n|14.1414|04.334.022.2108|3.3.90.36| 0000|100.000,00|\n|-------|---------------|---------|-----|----------|\n|14.1414|15.244.022.2148|3.3.90.30| 0000| 52.000,00|\n|-------|---------------|---------|-----|----------|\n|       |               |         |TOTAL|902.000,00|\n|_______|_______________|_________|_____|__________| * tabela formatada pela equipe técnica do LeisMunicipais.com.br\nArt. 3ºFica a Contabilidade Municipal autorizada a efetuar os registros contábeis necessários ao cumprimento deste Decreto.\n\nArt. 4ºEste Decreto entra em vigor na data da sua publicação.\n\nGabinete do Prefeito Municipal, 30 de agosto de 2013.\n\nJOSÉ RONALDO DE CARVALHO\nPrefeito Municipal\n\n\n- - - LEI MAIS SEMELHANTE 163 - - -\n\n\nO PREFEITO MUNICIPAL DE FEIRA DE SANTANA, Estado da Bahia, no uso de suas atribuições legais e com base na autorização contida na Lei Nº3.350, de 11 de dezembro de 2012, art. 6º, § 1º, DECRETA:\n\nArt. 1ºFica aberto Crédito Suplementar ao Orçamento do Município no valor de R$ 520.000,00 (quinhentos e vinte mil reais), conforme detalhamento abaixo:__________________________________________________\n| CLASS.|  PROGRAMÁTICA |ECONÔMICA|FONTE|VALOR (R$)|\n| INST. |               |         |     |          |\n|=======|===============|=========|=====|==========|\n|05.0505|04.122.051.2015|4.4.90.52| 0000|120.000,00|\n|-------|---------------|---------|-----|----------|\n|13.1313|15.451.036.2097|3.3.90.30| 0000|400.000,00|\n|-------|---------------|---------|-----|----------|\n|       |               |         |TOTAL|520.000,00|\n|_______|_______________|_________|_____|__________| * tabela formatada pela equipe técnica do LeisMunicipais.com.br\nArt. 2ºOs recursos disponíveis para acorrer às despesas decorrentes do presente crédito suplementar correrão à conta de anulações nas dotações abaixo detalhadas:__________________________________________________\n| CLASS.|  PROGRAMÁTICA |ECONÔMICA|FONTE|VALOR (R$)|\n| INST. |               |         |     |          |\n|=======|===============|=========|=====|==========|\n|06.0606|04.122.001.2020|4.4.90.52| 0000| 90.000,00|\n|-------|---------------|---------|-----|----------|\n|08.0808|04.122.001.2025|4.4.90.52| 0000| 30.000,00|\n|-------|---------------|---------|-----|----------|\n|13.1313|15.451.036.2097|4.4.90.51| 0000|400.000,00|\n|-------|---------------|---------|-----|----------|\n|       |               |         |TOTAL|520.000,00|\n|_______|_______________|_________|_____|__________| * tabela formatada pela equipe técnica do LeisMunicipais.com.br\nArt. 3ºFica a Contabilidade Municipal autorizada a efetuar os registros contábeis necessários ao cumprimento deste Decreto.\n\nArt. 4ºEste Decreto entra em vigor na data da sua publicação.\n\nGabinete do Prefeito Municipal, 14 de agosto de 2013.\n\nJOSÉ RONALDO DE CARVALHO\nPrefeito Municipal\n\n\nPAR UTILIZANDO TF-IDF:\n\n\n- - - LEI COMPARADA 195: - - -\n\n\nO PREFEITO MUNICIPAL DE FEIRA DE SANTANA, Estado da Bahia, no uso de suas atribuições legais e com base na autorização contida na Lei Nº3.350, de 11 de dezembro de 2012, artigo 6º, § 1º, DECRETA:\n\nArt. 1ºFica aberto Crédito Suplementar ao Orçamento do Município no valor de R$ 902.000,00 (novecentos e dois mil reais), conforme detalhamento abaixo:__________________________________________________\n| CLASS.|  PROGRAMÁTICA |ECONÔMICA|FONTE| VALOR (R$|\n| INST. |               |         |     |     )    |\n|=======|===============|=========|=====|==========|\n|10.1010|27.813.050.2044|3.3.90.39| 0000|902.000,00|\n|-------|---------------|---------|-----|----------|\n|       |               |         |TOTAL|902.000,00|\n|_______|_______________|_________|_____|__________| * tabela formatada pela equipe técnica do LeisMunicipais.com.br\nArt. 2ºOs recursos disponíveis para acorrer às despesas decorrentes do presente crédito suplementar correrão à conta de anulações nas dotações abaixo detalhadas:__________________________________________________\n| CLASS.|  PROGRAMÁTICA |ECONÔMICA|FONTE| VALOR (R$|\n| INST. |               |         |     |     )    |\n|=======|===============|=========|=====|==========|\n|10.1010|27.813.050.2044|3.3.50.43| 0000| 50.000,00|\n|-------|---------------|---------|-----|----------|\n|06.0606|04.122.001.2020|3.3.90.35| 0000|100.000,00|\n|-------|---------------|---------|-----|----------|\n|06.0606|04.122.001.2020|3.3.90.37| 0000|200.000,00|\n|-------|---------------|---------|-----|----------|\n|06.0606|28.843.052.9145|3.2.90.91| 0000|200.000,00|\n|-------|---------------|---------|-----|----------|\n|14.1414|23.692.022.2102|3.3.90.36| 0000|200.000,00|\n|-------|---------------|---------|-----|----------|\n|14.1414|04.334.022.2108|3.3.90.36| 0000|100.000,00|\n|-------|---------------|---------|-----|----------|\n|14.1414|15.244.022.2148|3.3.90.30| 0000| 52.000,00|\n|-------|---------------|---------|-----|----------|\n|       |               |         |TOTAL|902.000,00|\n|_______|_______________|_________|_____|__________| * tabela formatada pela equipe técnica do LeisMunicipais.com.br\nArt. 3ºFica a Contabilidade Municipal autorizada a efetuar os registros contábeis necessários ao cumprimento deste Decreto.\n\nArt. 4ºEste Decreto entra em vigor na data da sua publicação.\n\nGabinete do Prefeito Municipal, 30 de agosto de 2013.\n\nJOSÉ RONALDO DE CARVALHO\nPrefeito Municipal\n\n\n- - - LEI MAIS SEMELHANTE 96 - - -\n\n\nO PREFEITO MUNICIPAL DE FEIRA DE SANTANA, Estado da Bahia, no uso de suas atribuições legais e com base na autorização contida na Lei Nº3.350, de 11 de dezembro de 2012, artigo 6º, § 1º, DECRETA:\n\nArt. 1ºFica aberto Crédito Suplementar ao Orçamento do Município no valor de R$ 1.000,00 (um mil reais), conforme detalhamento abaixo:________________________________________________\n| CLASS.|  PROGRAMÁTICA |ECONÔMICA|FONTE|  VALOR |\n| INST. |               |         |     |  (R$ ) |\n|=======|===============|=========|=====|========|\n|13.1313|15.451.036.2097|4.4.90.92| 0024|1.000,00|\n|-------|---------------|---------|-----|--------|\n|       |               |         |TOTAL|1.000,00|\n|_______|_______________|_________|_____|________| * tabela formatada pela equipe técnica do LeisMunicipais.com.br\nArt. 2ºOs recursos disponíveis para acorrer às despesas decorrentes do presente crédito suplementar correrão à conta de anulações nas dotações abaixo detalhadas:________________________________________________\n| CLASS.|  PROGRAMÁTICA |ECONÔMICA|FONTE|  VALOR |\n| INST. |               |         |     |  (R$ ) |\n|=======|===============|=========|=====|========|\n|13.1313|15.451.036.2146|4.4.90.51| 0024|1.000,00|\n|-------|---------------|---------|-----|--------|\n|       |               |         |TOTAL|1.000,00|\n|_______|_______________|_________|_____|________| * tabela formatada pela equipe técnica do LeisMunicipais.com.br\nArt. 3ºFica a Contabilidade Municipal autorizada a efetuar os registros contábeis necessários ao cumprimento deste Decreto.\n\nArt. 4ºEste Decreto entra em vigor na data da sua publicação.\n\nGabinete do Prefeito Municipal, 09 de abril de 2013.\n\nJOSÉ RONALDO DE CARVALHO\nPrefeito Municipal\n\n\nLei numero 1014\nPAR UTILIZANDO COUNT:\n\n\n- - - LEI COMPARADA 1014: - - -\n\n\nO PREFEITO MUNICIPAL DE FEIRA DE SANTANA, DO ESTADO DA BAHIA, Faz saber que a Câmara de Vereadores decretou e eu sanciono a seguinte Lei:\n\nArt. 1ºFica considerada de utilidade pública, a ESCOLA PRATT FEIRENSE, com sede nesta cidade à Rua Visconde do Rio Branco, nº 56.\n\nArt. 2ºEsta Lei entrará em vigor na data da sua publicação, revogadas as disposições em contrário.\n\nPUBLIQUE-SE.\n\nGabinete da Prefeitura Municipal de Feira de Santana, Junho de 1962.\n\nARNOLD FERREIRA DA SILVA\nPrefeito Municipal\n\nJOSELITO FALCÃO DE AMORIM\nSecretário\n\n\n- - - LEI MAIS SEMELHANTE 611 - - -\n\n\nO PREFEITO MUNICIPAL DE FEIRA DE SANTANA, DO ESTADO DA BAHIA, faz saber que a Câmara de Vereadores decretou e eu sanciono a seguinte Lei;\n\nArt. 1ºFica denominada Rua AFONSO PENA, a 1ª Travessa da Rua Bacelar de Castro, nesta Cidade.\n\nArt. 2ºEsta Lei entrará em vigor na data de sua publicação, revogadas as disposições em contrário.\n\nPUBLIQUE-SE.\n\nPrefeitura Municipal de Feira de Santana, 3 de Julho de 1961.\n\nARNOLD FERREIRA DA SILVA\nPrefeito Municipal\n\nJOSELITO FALCÃO DE AMORIN\nSecretário\n\n\nPAR UTILIZANDO TF-IDF:\n\n\n- - - LEI COMPARADA 1014: - - -\n\n\nO PREFEITO MUNICIPAL DE FEIRA DE SANTANA, DO ESTADO DA BAHIA, Faz saber que a Câmara de Vereadores decretou e eu sanciono a seguinte Lei:\n\nArt. 1ºFica considerada de utilidade pública, a ESCOLA PRATT FEIRENSE, com sede nesta cidade à Rua Visconde do Rio Branco, nº 56.\n\nArt. 2ºEsta Lei entrará em vigor na data da sua publicação, revogadas as disposições em contrário.\n\nPUBLIQUE-SE.\n\nGabinete da Prefeitura Municipal de Feira de Santana, Junho de 1962.\n\nARNOLD FERREIRA DA SILVA\nPrefeito Municipal\n\nJOSELITO FALCÃO DE AMORIM\nSecretário\n\n\n- - - LEI MAIS SEMELHANTE 2928 - - -\n\n\nO Prefeito Municipal de Feira de Santana, Estado da Bahia, Faço saber qua a Câmara de Vereadores decretou e eu sanciono a seguinte Lei:\n\nArt. 1ºFica considerada de utilidade pública, depois das formalidades legais, a Associação Feirense dos Estudantes Secundários, com sede e fôro nesta cidade.\n\nArt. 2ºRevogam-se as disposições em contrário.\n\nGabinete da Prefeitura Municipal de Feira de Santana, 7 de dezembro de 1960.\n\nARNOLD FERREIRA DA SILVA\nPrefeito Municipal\n\nJOSELITO FALCÃO DE AMORIM\nSecretário\n"
    }
   ],
   "source": [
    "# Exibir as 10 leis:\n",
    "for i in sorteadas:\n",
    "    print(f'\\n\\nLei numero {i}\\nPAR UTILIZANDO COUNT:\\n\\n')\n",
    "    print_lei_mais_sem(i, max_sim_index[i])\n",
    "    print('\\n\\nPAR UTILIZANDO TF-IDF:\\n\\n')\n",
    "    print_lei_mais_sem(i, max_sim_idx_tfidf[i])"
   ]
  },
  {
   "cell_type": "markdown",
   "metadata": {},
   "source": [
    "### Lei 1018\n",
    "Lei 1018 é sobre proibição de homenagens a condenados por corrupção. Count trouxe uma lei sobre tornar uma associação pública. TF-IDF trouxe uma lei sobre evento de comemoração de adoção animal. Todas duas erraram. TF-IDF chegou mais perto? Difícil dizer\n",
    "\n",
    "### Lei 5776\n",
    "Lei 5776 sobre pagamento servidor público. Count trouxe: leitura da bíblia na abertura da câmara. TF-IDF: aposentadoria diretor valor vencimento etc. Ambas as leis parecem ter sido trazidas como semelhantes pq dos nomes próprios contidos nas leis.\n",
    "\n",
    "### Lei 2789\n",
    "Lei 2789 (mil anos da revolução francesa) sobre obrigatoriedade de um servidor formado em primeiros socorros em escolas. Count: faço saber inkaba instituto de karate. TF-IDF: faço saber associação estrela jaco. Novamente as semelhanças são os nomes próprios nas leis.\n",
    "\n",
    "### Lei 1772\n",
    "Lei 1772: faço saber sindicato trabalhadores rurais. Count: faço saber associação profissionais sexo. TF-IDF: faço saber associação pequenos agricultures apaeb. A rua da sede é a mesma da lei comparada. \n",
    "\n",
    "TF-IDF se saiu melhor nessa. Os nomes das pessoas em Count eram os mesmos da Lei, mas em TF-IDF não. O fator decisivo aqui foi o nome da rua, que era o mesmo. Ponto pra TF-IDF.\n",
    "\n",
    "### Lei 503\n",
    "Lei 530: faço saber igreja ministerio pentecostal fogo gloria. rua volta redonda bairro campo limpo.\n",
    "Count: faço saber instituto nobre sede rodovia br km cis. nomes das pessoas iguais.\n",
    "TF-IDF: faço saber igreja evangelica pentecostal monte carmelo rua espassonavel bairro george americo. prefeitos diferentes.\n",
    "\n",
    "### Lei 4810\n",
    "Lei: comenda. nomes: godofredo rebell figueiredo filho, raymundo luiz oliveira lopes. \n",
    "Count: comenda. nomes: godofredo rebello figueiredo filho, nilton bellas vieira.\n",
    "TF-IDF: comenda. nomes: godofredo rebello figueiredo filho, raimundo antonio carneiro pinto.\n",
    "\n",
    "As duas acertaram. TF-iDF nome mais parecido? Não deve influenciar...\n",
    "\n",
    "### Lei 5238 \n",
    "Lei 5238: promulgação de novas vias públicas. A via por TF-IDF passa por mais ruas semelhantes.\n",
    "\n",
    "### Lei 5383\n",
    "Lei promulga academia de ginástica. Count: promulga empresas serviço funerario. TF-IDF: promulga novos aparelhos de ginástica.\n",
    "\n",
    "### Outras\n",
    "As outras leis eram: _visualizar legislativo ba_. Ambas trouxeram textos idênticos."
   ]
  },
  {
   "cell_type": "markdown",
   "metadata": {},
   "source": [
    "Ok! Massa! Funciona!\n",
    "\n",
    "Pelos resultados acima, TF-IDF se saiu melhor. Inclusive pra retornar semelhança por nomes de ruas e de bairros, que é o que a gente quer pras buscas.\n",
    "\n",
    "Mesmo com 28k features, o resultado foi bastante rápido. Caso tivessemos um corpus maior, poderíamos ainda usar PCA pra reduzir as dimensões e ainda assim calcular a similaridade mantendo as relações entre os documentos\n",
    "\n",
    "Surgiram também duas questões: será que dá pra clusterizar as leis? Por ex, leis de faço saber, de comendas, etc... Será que formam clusters coesos? Vale visualizar. - caderno cluster_leis\n",
    "\n",
    "A segunda é: então só precisa de TF-IDF pra fazer uma busca por ruas e bairros? Não precisa de NER? Vamos investigar pra ver isso também. - caderno buscador_leis"
   ]
  },
  {
   "cell_type": "markdown",
   "metadata": {},
   "source": [
    "## Outras opções\n",
    "### Indexar\n",
    "Há outras formas de indexar os documentos e de recuperar, também simples. Uma outra forma de indexar, por exemplo, é fazer um vetor pra cada palavra contando as palavras vizinhas. E depois, o vetor do documento seria a soma dos vetores das palavras. É uma forma interessante porque pode gerar visualizações interessantes entre a similaridade das palavras. Por exemplo, no corpus das Leis Municipais, a quais palavras EDUCAÇÃO mais se assemelha? Ou SAÚDE? Etc.\n",
    "\n",
    "Outra forma é contar n-gramas - por exemplo, bi-gramas: duas palavras juntas formando um token. Dessa forma, você possui uma matriz maior e de certa forma uma relação entre a sequencialidade das palavras, que pode ser útil pra nomes de pessoas e bairros, como citado acima.\n",
    "\n",
    "### Recuperar\n",
    "Outra forma de recuperar é por local sensitive hashing. Divide em vários planos múltiplas vezes e retorna os resultados que estão na mesma região da query. No entanto, o corpus não é grande o suficiente pra precisar essa estratégia, que é mais pra grandes corpora. O método acima (calcular a simlaridade cosseno e retornar os maiores valores) é rápido o suficiente pra parecer instantâneo. Talvez com uma demanda mais alta pelo servidor venha a necessidade de aumentar a velocidade da busca, porém por enquanto não é o caso.\n",
    "\n",
    "### Avaliação\n",
    "Com múltiplas formas de indexar e recuperar vem o dilema: como avaliar se uma é melhor que a outra? Repetir o processo acima pra todas as opções? Isto é, mostrar N melhores resultados e comparar manualmente? Ou colocar labels em algumas leis? Ex: essa lei trata disso, com tais entidades. Checar formas de avaliação. Se tivesse em produção, podia avaliar por CTR por ex, mas não é o caso"
   ]
  },
  {
   "cell_type": "code",
   "execution_count": 22,
   "metadata": {
    "tags": []
   },
   "outputs": [
    {
     "output_type": "stream",
     "name": "stdout",
     "text": "972616\n"
    },
    {
     "output_type": "execute_result",
     "data": {
      "text/plain": "28875"
     },
     "metadata": {},
     "execution_count": 22
    }
   ],
   "source": [
    "# Descrevendo a palavra pelos seus vizinhos\n",
    "texto_limpo = ' '.join(leis['texto_limpo'].tolist())\n",
    "texto_limpo = texto_limpo.split()\n",
    "palavras_unicas = set(texto_limpo)\n",
    "print(len(texto_limpo))\n",
    "len(palavras_unicas)"
   ]
  },
  {
   "cell_type": "code",
   "execution_count": 25,
   "metadata": {},
   "outputs": [],
   "source": [
    "# Transformar nosso set pra um dicionário de indices\n",
    "idx_palavras = {}\n",
    "for i, palavra in enumerate(palavras_unicas):\n",
    "    idx_palavras[palavra] = i"
   ]
  },
  {
   "cell_type": "code",
   "execution_count": 26,
   "metadata": {},
   "outputs": [
    {
     "output_type": "execute_result",
     "data": {
      "text/plain": "array([[0, 0, 0, ..., 0, 0, 0],\n       [0, 0, 0, ..., 0, 0, 0],\n       [0, 0, 0, ..., 0, 0, 0],\n       ...,\n       [0, 0, 0, ..., 0, 0, 0],\n       [0, 0, 0, ..., 0, 0, 0],\n       [0, 0, 0, ..., 0, 0, 0]], dtype=int16)"
     },
     "metadata": {},
     "execution_count": 26
    }
   ],
   "source": [
    "# Criando matriz do embedding\n",
    "vetores = np.zeros((len(palavras_unicas), len(palavras_unicas)), dtype=np.int16)\n",
    "vetores"
   ]
  },
  {
   "cell_type": "code",
   "execution_count": 27,
   "metadata": {},
   "outputs": [
    {
     "output_type": "execute_result",
     "data": {
      "text/plain": "array([[0, 0, 0, ..., 0, 0, 0],\n       [0, 0, 0, ..., 0, 0, 0],\n       [0, 0, 0, ..., 0, 0, 0],\n       ...,\n       [0, 0, 0, ..., 0, 0, 0],\n       [0, 0, 0, ..., 0, 0, 0],\n       [0, 0, 0, ..., 0, 0, 0]], dtype=int16)"
     },
     "metadata": {},
     "execution_count": 27
    }
   ],
   "source": [
    "# Definir ate qual distancia utilizar\n",
    "vizinhanca = 2\n",
    "for idx, palavra in enumerate(texto_limpo):\n",
    "    for i in range(1, vizinhanca):\n",
    "        pal_vizinha = texto_limpo[idx+i]\n",
    "\n",
    "        idx_pal = idx_palavras[palavra]\n",
    "        idx_vizinha = idx_palavras[pal_vizinha]\n",
    "\n",
    "        vetores[idx_pal, idx_vizinha] += 1\n",
    "        vetores[idx_vizinha, idx_pal] += 1\n",
    "    if (idx == len(texto_limpo) - vizinhanca):\n",
    "        break\n",
    "vetores"
   ]
  },
  {
   "cell_type": "code",
   "execution_count": 28,
   "metadata": {},
   "outputs": [
    {
     "output_type": "execute_result",
     "data": {
      "text/plain": "<28875x28875 sparse matrix of type '<class 'numpy.int16'>'\n\twith 658329 stored elements in Compressed Sparse Row format>"
     },
     "metadata": {},
     "execution_count": 28
    }
   ],
   "source": [
    "# Matriz tem que ser espassa, se não na hora de calcular\n",
    "# similaridade gasta muita memoria\n",
    "\n",
    "from scipy.sparse import csr_matrix\n",
    "vetores = csr_matrix(vetores)\n",
    "vetores"
   ]
  },
  {
   "cell_type": "code",
   "execution_count": 29,
   "metadata": {},
   "outputs": [
    {
     "output_type": "execute_result",
     "data": {
      "text/plain": "<28875x28875 sparse matrix of type '<class 'numpy.float64'>'\n\twith 76446099 stored elements in Compressed Sparse Row format>"
     },
     "metadata": {},
     "execution_count": 29
    }
   ],
   "source": [
    "# Ok, temos nossas representacoes pras palavras\n",
    "# Como um teste de sanidade, vamos ver \n",
    "# as palavras mais proximas de 10 palavras aleatorias\n",
    "cos_sim_palavras = cosine_similarity(vetores, dense_output=False)\n",
    "cos_sim_palavras\n"
   ]
  },
  {
   "cell_type": "code",
   "execution_count": 30,
   "metadata": {
    "tags": []
   },
   "outputs": [
    {
     "output_type": "execute_result",
     "data": {
      "text/plain": "array([[14437, 19120, 19118, ...,  5766,  8587,     0]])"
     },
     "metadata": {},
     "execution_count": 30
    }
   ],
   "source": [
    "# palavras_semelhantes = np.asanyarray(cos_sim_palavras)\n",
    "# palavras_semelhantes = np.argsort(palavras_semelhantes, axis=1)\n",
    "# palavras_semelhantes = np.sort(cos_sim_palavras)\n",
    "palavras_semelhantes = np.argsort(cos_sim_palavras[0].toarray())\n",
    "palavras_semelhantes"
   ]
  },
  {
   "cell_type": "code",
   "execution_count": 31,
   "metadata": {
    "tags": []
   },
   "outputs": [
    {
     "output_type": "stream",
     "name": "stdout",
     "text": "Lista de palavras semelhantes a corrente - 11417:\narredondando - 5534\npalace - 18991\nfinanceiro - 14345\nvereanca - 1672\nfindaram - 11887\nletivo - 21714\nnaquele - 8727\ndestacamento - 9150\ncada - 1720\n\n- - - - - \n\n\nLista de palavras semelhantes a reparar - 15764:\ncair - 26448\nregressiva - 12284\nconstituem - 21491\nindenizar - 10903\nacessoria - 15001\nsubsistente - 301\ncuprimento - 10306\nclausuladas - 27641\nlega - 86\n\n- - - - - \n\n\nLista de palavras semelhantes a tipos - 19159:\nvenc - 19724\nbaseara - 7069\ngeometricos - 1052\nbiopsicossocial - 9095\ngovernanca - 10942\ntotal - 27363\ntelevisores - 11679\nanexa - 20003\nmotomotores - 27722\n\n- - - - - \n\n\nLista de palavras semelhantes a reintegrados - 16926:\naplicados - 10532\npunidas - 23149\nefetivadas - 618\nrevistos - 2457\naplicadas - 3493\ncomputadas - 23994\nescolhidos - 4384\nrevertidos - 14480\nresolvidos - 11702\n\n- - - - - \n\n\nLista de palavras semelhantes a decorrerem - 12242:\nexime - 10320\nedificados - 24924\ngera - 21012\nnotas - 5561\nferrosos - 25530\ncumprirem - 13958\ngovernamentais - 15663\nexcedera - 25667\nmadeireiros - 4598\n\n- - - - - \n\n\nLista de palavras semelhantes a consolidada - 27958:\nocupado - 6126\nconstruida - 3762\nocupada - 20277\nrecomposta - 22734\natuacao - 3988\ndegradada - 13239\nreprimido - 7328\nnormalidade - 27309\nrecompostas - 4744\n\n- - - - - \n\n\nLista de palavras semelhantes a resistencia - 515:\nnesse - 15032\ndobrado - 14639\nobedecam - 18394\ninfantes - 528\nofensor - 22172\nreincidencia - 12047\nrecusa - 1894\nempate - 24252\nobstam - 777\n\n- - - - - \n\n\nLista de palavras semelhantes a controles - 14784:\nincentiva - 6423\ntransforma - 18309\nagilizar - 14033\nempossadas - 11006\ngovenamental - 27711\nreducacao - 28846\nconem - 19716\nconcretizacao - 9938\nambulatorias - 15861\n\n- - - - - \n\n\nLista de palavras semelhantes a auferindo - 11986:\npecuniaria - 6036\nfundamente - 25798\ngrafia - 19529\nignorancia - 1244\nverdadeiras - 754\ngramatical - 2691\nengano - 12777\nprivilegio - 8632\nfundamentou - 13225\n\n- - - - - \n\n\nLista de palavras semelhantes a ora - 19426:\nconcebidos - 21043\nbolsoes - 25079\ninfra - 24809\npasep - 2683\ncriados - 423\norganizacional - 21797\nambito - 9506\nsas - 14643\naumentando - 22791\n\n- - - - - \n\n\n"
    }
   ],
   "source": [
    "idx_palavras_rand = np.random.randint(len(palavras_unicas), size=10)\n",
    "\n",
    "def mostra_palavras_semelhantes(idx: int, semelhantes: list, lista_palavras: list):\n",
    "    pal = lista_palavras[idx]\n",
    "    print(f'Lista de palavras semelhantes a {pal} - {idx}:')\n",
    "    for i in semelhantes:\n",
    "        pal = lista_palavras[i]\n",
    "        print(f'{pal} - {i}')\n",
    "    print('\\n- - - - - \\n\\n')\n",
    "\n",
    "lista_palavras = list(idx_palavras.keys())\n",
    "for idx in idx_palavras_rand:\n",
    "    palavras_semelhantes = np.argsort(cos_sim_palavras[idx].toarray())\n",
    "    semelhantes = palavras_semelhantes[0][-10:-1]\n",
    "    mostra_palavras_semelhantes(idx, semelhantes, lista_palavras)"
   ]
  },
  {
   "cell_type": "markdown",
   "metadata": {},
   "source": [
    "Neste corpus, pra algumas palavras, a hipótese distribucional parece funcionar bem, pra outras nem tanto, pra outras não funciona.\n",
    "\n",
    "Semelhantes a \"outorgar\" temos: \"permutar\", \"editar\", \"contratar\", \"doar\", \"conceder\", \"dispensar\", \"celebrar\", \"subscrever\", \"proibir\". Embora a semântica (significado) não seja necessariamente próxima, todas as palavras são verbos, então a sintaxe é próxima. Semelhantes a \"ibitita\": \"axixa\", \"ibirarema\", \"peritoro\", \"piracaia\", \"igarata\", \"erechim\", \"itaperuna\", \"piata\", \"vandinha\". Todos parecem nomes de locais.\n",
    "\n",
    "Existem casos horríveis. Semelhantes à \"coesao\" temos: \"sedeso\", \"his\", \"ctps\", \"zeis\", \"pnas\", \"cgfmhis\", \"snhis\", \"acemas\". O que significam essas palavras? Talvez seja útil melhorar a qualidade do pré-processamento pra melhorar na indexação. Semelhantes à \"separando\" temos: \"agrossilvopastoris\", \"cemiteriais\", \"solidos\", \"molhados\", \"domiciliares\", \"volumosos\", \"baldios\", \"antecedencia\", \"dimensao\".\n",
    "\n",
    "Há casos mistos. Semelhantes `a \"trasporte\" (note o erro) temos: \"meia\" (talvez meia passagem?), \"transporte\" (a palavra correta aparece em segundo), \"roletas\", \"vala\" (?), \"trafegos\", \"convencional\" (?), \"edificar\" (?), \"passageiros\", \"fretado\".\n",
    "\n",
    "Talvez o corpus seja pequeno demais pra encontrar as relações entre as palavras só contando? Há de se testar se não é melhor então trabalhar com vetores de palavras, mesmo aprendidos em um corpus pequeno. Segundo o paper \"Don't count, predict! a systematic comparison of context-counting vs. context-predicting semantic vectors (2014) - Baroni, Dinu, Kruszeweski\", predizer é melhor que contar. Há de se testar se neste nosso contexto isso também se verifica.\n",
    "\n",
    "Por hora, vamos testar se a busca melhora ou não utilizando as palavras. Então vamos construir a representação das leis.\n",
    "\n",
    "# Construindo representação das leis com base na hipotese distribucional"
   ]
  },
  {
   "cell_type": "code",
   "execution_count": 33,
   "metadata": {
    "tags": []
   },
   "outputs": [
    {
     "output_type": "error",
     "ename": "NameError",
     "evalue": "name 'int8' is not defined",
     "traceback": [
      "\u001b[0;31m---------------------------------------------------------------------------\u001b[0m",
      "\u001b[0;31mNameError\u001b[0m                                 Traceback (most recent call last)",
      "\u001b[0;32m<ipython-input-33-bd6a0b42078f>\u001b[0m in \u001b[0;36m<module>\u001b[0;34m\u001b[0m\n\u001b[1;32m      1\u001b[0m \u001b[0;31m# Cada lei vai ser a soma dos vetores de suas palavras\u001b[0m\u001b[0;34m\u001b[0m\u001b[0;34m\u001b[0m\u001b[0;34m\u001b[0m\u001b[0m\n\u001b[0;32m----> 2\u001b[0;31m \u001b[0mleis_vetores_palavras\u001b[0m \u001b[0;34m=\u001b[0m \u001b[0mcsr_matrix\u001b[0m\u001b[0;34m(\u001b[0m\u001b[0;34m(\u001b[0m\u001b[0mlen\u001b[0m\u001b[0;34m(\u001b[0m\u001b[0mleis\u001b[0m\u001b[0;34m[\u001b[0m\u001b[0;34m'texto_limpo'\u001b[0m\u001b[0;34m]\u001b[0m\u001b[0;34m)\u001b[0m\u001b[0;34m,\u001b[0m \u001b[0mvetores\u001b[0m\u001b[0;34m.\u001b[0m\u001b[0mshape\u001b[0m\u001b[0;34m[\u001b[0m\u001b[0;36m1\u001b[0m\u001b[0;34m]\u001b[0m\u001b[0;34m)\u001b[0m\u001b[0;34m,\u001b[0m \u001b[0mdtype\u001b[0m\u001b[0;34m=\u001b[0m\u001b[0mint8\u001b[0m\u001b[0;34m)\u001b[0m\u001b[0;34m\u001b[0m\u001b[0;34m\u001b[0m\u001b[0m\n\u001b[0m\u001b[1;32m      3\u001b[0m \u001b[0;32mfor\u001b[0m \u001b[0midx\u001b[0m\u001b[0;34m,\u001b[0m \u001b[0mlei\u001b[0m \u001b[0;32min\u001b[0m \u001b[0menumerate\u001b[0m\u001b[0;34m(\u001b[0m\u001b[0mleis\u001b[0m\u001b[0;34m[\u001b[0m\u001b[0;34m'texto_limpo'\u001b[0m\u001b[0;34m]\u001b[0m\u001b[0;34m)\u001b[0m\u001b[0;34m:\u001b[0m\u001b[0;34m\u001b[0m\u001b[0;34m\u001b[0m\u001b[0m\n\u001b[1;32m      4\u001b[0m     \u001b[0;32mfor\u001b[0m \u001b[0mpalavra\u001b[0m \u001b[0;32min\u001b[0m \u001b[0mlei\u001b[0m\u001b[0;34m.\u001b[0m\u001b[0msplit\u001b[0m\u001b[0;34m(\u001b[0m\u001b[0;34m)\u001b[0m\u001b[0;34m:\u001b[0m\u001b[0;34m\u001b[0m\u001b[0;34m\u001b[0m\u001b[0m\n\u001b[1;32m      5\u001b[0m         \u001b[0midx_palavra\u001b[0m \u001b[0;34m=\u001b[0m \u001b[0midx_palavras\u001b[0m\u001b[0;34m[\u001b[0m\u001b[0mpalavra\u001b[0m\u001b[0;34m]\u001b[0m\u001b[0;34m\u001b[0m\u001b[0;34m\u001b[0m\u001b[0m\n",
      "\u001b[0;31mNameError\u001b[0m: name 'int8' is not defined"
     ]
    }
   ],
   "source": [
    "# Cada lei vai ser a soma dos vetores de suas palavras\n",
    "# Usando np.zeros gasta muita memoria, mas csr_matrix eh muito lento\n",
    "leis_vetores_palavras = np.zeros((len(leis['texto_limpo']), vetores.shape[1]))\n",
    "for idx, lei in enumerate(leis['texto_limpo']):\n",
    "    for palavra in lei.split():\n",
    "        idx_palavra = idx_palavras[palavra]\n",
    "        leis_vetores_palavras[idx] += vetores[idx_palavra]\n",
    "leis_vetores_palavras"
   ]
  }
 ],
 "metadata": {
  "language_info": {
   "codemirror_mode": {
    "name": "ipython",
    "version": 3
   },
   "file_extension": ".py",
   "mimetype": "text/x-python",
   "name": "python",
   "nbconvert_exporter": "python",
   "pygments_lexer": "ipython3",
   "version": "3.8.2-final"
  },
  "orig_nbformat": 2,
  "kernelspec": {
   "name": "python38264bit16b8003628b145c39b7161d6e18cffed",
   "display_name": "Python 3.8.2 64-bit"
  }
 },
 "nbformat": 4,
 "nbformat_minor": 2
}