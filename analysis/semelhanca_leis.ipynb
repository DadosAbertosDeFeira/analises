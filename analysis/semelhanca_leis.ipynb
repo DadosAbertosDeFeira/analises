{
  "nbformat": 4,
  "nbformat_minor": 0,
  "metadata": {
    "language_info": {
      "codemirror_mode": {
        "name": "ipython",
        "version": 3
      },
      "file_extension": ".py",
      "mimetype": "text/x-python",
      "name": "python",
      "nbconvert_exporter": "python",
      "pygments_lexer": "ipython3",
      "version": "3.8.2-final"
    },
    "orig_nbformat": 2,
    "kernelspec": {
      "name": "python38264bitdafsaanalisesb94857b5318c463e9159f3e68c6000f6",
      "display_name": "Python 3.8.2 64-bit ('dafsa-analises')"
    },
    "colab": {
      "name": "semelhanca_leis.ipynb",
      "provenance": [],
      "collapsed_sections": []
    }
  },
  "cells": [
    {
      "source": [
        "# Semelhança de documentos\n",
        "\n",
        "A função desse notebook é criar representações para o texto dos documentos, exibir textos semelhantes e com isso avaliar as representações.\n",
        "Os textos semelhantes são um teste para a representação do texto: se os textos mostrados não são semelhantes, então a representação não é boa; se são semelhantes, então a representação um pouco melhor."
      ],
      "cell_type": "markdown",
      "metadata": {}
    },
    {
      "cell_type": "code",
      "metadata": {
        "id": "Fw0cBhm80T-w",
        "colab_type": "code",
        "colab": {}
      },
      "source": [
        "import pandas as pd\n",
        "import matplotlib.pyplot as plt"
      ],
      "execution_count": 23,
      "outputs": []
    },
    {
      "cell_type": "code",
      "metadata": {
        "id": "t9rDGqZO0cbK",
        "colab_type": "code",
        "colab": {
          "resources": {
            "http://localhost:8080/nbextensions/google.colab/files.js": {
              "data": "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",
              "ok": true,
              "headers": [
                [
                  "content-type",
                  "application/javascript"
                ]
              ],
              "status": 200,
              "status_text": "OK"
            }
          },
          "base_uri": "https://localhost:8080/",
          "height": 79
        },
        "outputId": "f084561d-b993-4e0d-f456-a01a0f3cb626"
      },
      "source": [
        "# Importa arquivos\n",
        "# Descomente pra usar no Google Colab\n",
        "# from google.colab import files\n",
        "# import os.path\n",
        "\n",
        "laws_file = 'leis.json'\n",
        "\n",
        "# if (not os.path.isfile(arq_leis)):\n",
        "#     uploaded = files.upload()"
      ],
      "execution_count": 24,
      "outputs": []
    },
    {
      "cell_type": "code",
      "metadata": {
        "tags": [],
        "id": "SvTVbdbn0T-8",
        "colab_type": "code",
        "colab": {
          "base_uri": "https://localhost:8080/",
          "height": 312
        },
        "outputId": "84f7d034-d28f-4582-9842-a1925c045c26"
      },
      "source": [
        "laws = pd.read_json(laws_file)\n",
        "laws.drop(['documento'], inplace=True, axis=1)\n",
        "print(laws.info())\n",
        "print(laws.nunique())"
      ],
      "execution_count": 25,
      "outputs": [
        {
          "output_type": "stream",
          "name": "stdout",
          "text": [
            "<class 'pandas.core.frame.DataFrame'>\nRangeIndex: 6033 entries, 0 to 6032\nData columns (total 4 columns):\n #   Column     Non-Null Count  Dtype \n---  ------     --------------  ----- \n 0   titulo     6033 non-null   object\n 1   categoria  6033 non-null   object\n 2   resumo     6033 non-null   object\n 3   texto      6033 non-null   object\ndtypes: object(4)\nmemory usage: 188.7+ KB\nNone\ntitulo       6033\ncategoria       8\nresumo       4961\ntexto        6029\ndtype: int64\n"
          ]
        }
      ]
    },
    {
      "cell_type": "code",
      "metadata": {
        "id": "IHdRkZoU0T_H",
        "colab_type": "code",
        "colab": {
          "base_uri": "https://localhost:8080/",
          "height": 424
        },
        "outputId": "731a47c1-d4e0-4f50-83d4-fbd8e1e33ca6"
      },
      "source": [
        "laws"
      ],
      "execution_count": 26,
      "outputs": [
        {
          "output_type": "execute_result",
          "data": {
            "text/plain": [
              "                                            titulo   categoria  \\\n",
              "0     DECRETO Nº 8854, de 28 de fevereiro de 2013.    Decretos   \n",
              "1     DECRETO Nº 8849, de 25 de fevereiro de 2013.    Decretos   \n",
              "2     DECRETO Nº 8853, de 27 de fevereiro de 2013.    Decretos   \n",
              "3          DECRETO Nº 8967, de 17 de julho de 2013    Decretos   \n",
              "4          DECRETO Nº 8982, de 30 de julho de 2013    Decretos   \n",
              "...                                            ...         ...   \n",
              "6028                         RESOLUÇÃO Nº 125/1980  Resoluções   \n",
              "6029                         RESOLUÇÃO Nº 403/2003  Resoluções   \n",
              "6030                         RESOLUÇÃO Nº 492/2014  Resoluções   \n",
              "6031                         RESOLUÇÃO Nº 382/2001  Resoluções   \n",
              "6032                         RESOLUÇÃO Nº 431/2004  Resoluções   \n",
              "\n",
              "                                                 resumo  \\\n",
              "0     DELEGA COMPETÊNCIA À SECRETARIA MUNICIPAL DE P...   \n",
              "1     ABRE CRÉDITO SUPLEMENTAR AO ORÇAMENTO DO MUNIC...   \n",
              "2     NOMEIA MEMBROS DO CONSELHO MUNICIPAL DE DESENV...   \n",
              "3     ALTERA O QUADRO DE DETALHAMENTO DE DESPESA DO ...   \n",
              "4     AUTORIZA O FUNCIONAMENTO DE ESTABELECIMENTOS C...   \n",
              "...                                                 ...   \n",
              "6028  DISPÕE SOBRE A CONCESSÃO DE TÍTULO DE CIDADÃO ...   \n",
              "6029  AUTORIZA A MESA DIRETIVA DO PODER LEGISLATIVO ...   \n",
              "6030  INSTITUI A SEGUNDA SEMANA DO MÊS DE AGOSTO EM ...   \n",
              "6031  CRIA A MEDALHA VEREADOR DIVAL FIGUEIREDO MACHA...   \n",
              "6032  MODIFICA E SUPRIME DISPOSITIVOS DA RESOLUÇÃO N...   \n",
              "\n",
              "                                                  texto  \n",
              "0     O PREFEITO MUNICIPAL DE FEIRA DE SANTANA, Esta...  \n",
              "1     O PREFEITO MUNICIPAL DE FEIRA DE SANTANA, Esta...  \n",
              "2     O PREFEITO MUNICIPAL DE FEIRA DE SANTANA, Esta...  \n",
              "3     O PREFEITO MUNICIPAL DE FEIRA DE SANTANA, Esta...  \n",
              "4     O PREFEITO MUNICIPAL DE FEIRA DE SANTANA, Esta...  \n",
              "...                                                 ...  \n",
              "6028  Faço saber que a Câmara Municipal aprovou e eu...  \n",
              "6029  A CÂMARA MUNICIPAL DE FEIRA DE SANTANA, Estado...  \n",
              "6030  A CÂMARA MUNICIPAL DE FEIRA DE SANTANA, Estado...  \n",
              "6031  A CÂMARA MUNICIPAL DE FEIRA DE SANTANA, Estado...  \n",
              "6032  A CÂMARA MUNICIPAL DE FEIRA DE SANTANA, Estado...  \n",
              "\n",
              "[6033 rows x 4 columns]"
            ],
            "text/html": "<div>\n<style scoped>\n    .dataframe tbody tr th:only-of-type {\n        vertical-align: middle;\n    }\n\n    .dataframe tbody tr th {\n        vertical-align: top;\n    }\n\n    .dataframe thead th {\n        text-align: right;\n    }\n</style>\n<table border=\"1\" class=\"dataframe\">\n  <thead>\n    <tr style=\"text-align: right;\">\n      <th></th>\n      <th>titulo</th>\n      <th>categoria</th>\n      <th>resumo</th>\n      <th>texto</th>\n    </tr>\n  </thead>\n  <tbody>\n    <tr>\n      <th>0</th>\n      <td>DECRETO Nº 8854, de 28 de fevereiro de 2013.</td>\n      <td>Decretos</td>\n      <td>DELEGA COMPETÊNCIA À SECRETARIA MUNICIPAL DE P...</td>\n      <td>O PREFEITO MUNICIPAL DE FEIRA DE SANTANA, Esta...</td>\n    </tr>\n    <tr>\n      <th>1</th>\n      <td>DECRETO Nº 8849, de 25 de fevereiro de 2013.</td>\n      <td>Decretos</td>\n      <td>ABRE CRÉDITO SUPLEMENTAR AO ORÇAMENTO DO MUNIC...</td>\n      <td>O PREFEITO MUNICIPAL DE FEIRA DE SANTANA, Esta...</td>\n    </tr>\n    <tr>\n      <th>2</th>\n      <td>DECRETO Nº 8853, de 27 de fevereiro de 2013.</td>\n      <td>Decretos</td>\n      <td>NOMEIA MEMBROS DO CONSELHO MUNICIPAL DE DESENV...</td>\n      <td>O PREFEITO MUNICIPAL DE FEIRA DE SANTANA, Esta...</td>\n    </tr>\n    <tr>\n      <th>3</th>\n      <td>DECRETO Nº 8967, de 17 de julho de 2013</td>\n      <td>Decretos</td>\n      <td>ALTERA O QUADRO DE DETALHAMENTO DE DESPESA DO ...</td>\n      <td>O PREFEITO MUNICIPAL DE FEIRA DE SANTANA, Esta...</td>\n    </tr>\n    <tr>\n      <th>4</th>\n      <td>DECRETO Nº 8982, de 30 de julho de 2013</td>\n      <td>Decretos</td>\n      <td>AUTORIZA O FUNCIONAMENTO DE ESTABELECIMENTOS C...</td>\n      <td>O PREFEITO MUNICIPAL DE FEIRA DE SANTANA, Esta...</td>\n    </tr>\n    <tr>\n      <th>...</th>\n      <td>...</td>\n      <td>...</td>\n      <td>...</td>\n      <td>...</td>\n    </tr>\n    <tr>\n      <th>6028</th>\n      <td>RESOLUÇÃO Nº 125/1980</td>\n      <td>Resoluções</td>\n      <td>DISPÕE SOBRE A CONCESSÃO DE TÍTULO DE CIDADÃO ...</td>\n      <td>Faço saber que a Câmara Municipal aprovou e eu...</td>\n    </tr>\n    <tr>\n      <th>6029</th>\n      <td>RESOLUÇÃO Nº 403/2003</td>\n      <td>Resoluções</td>\n      <td>AUTORIZA A MESA DIRETIVA DO PODER LEGISLATIVO ...</td>\n      <td>A CÂMARA MUNICIPAL DE FEIRA DE SANTANA, Estado...</td>\n    </tr>\n    <tr>\n      <th>6030</th>\n      <td>RESOLUÇÃO Nº 492/2014</td>\n      <td>Resoluções</td>\n      <td>INSTITUI A SEGUNDA SEMANA DO MÊS DE AGOSTO EM ...</td>\n      <td>A CÂMARA MUNICIPAL DE FEIRA DE SANTANA, Estado...</td>\n    </tr>\n    <tr>\n      <th>6031</th>\n      <td>RESOLUÇÃO Nº 382/2001</td>\n      <td>Resoluções</td>\n      <td>CRIA A MEDALHA VEREADOR DIVAL FIGUEIREDO MACHA...</td>\n      <td>A CÂMARA MUNICIPAL DE FEIRA DE SANTANA, Estado...</td>\n    </tr>\n    <tr>\n      <th>6032</th>\n      <td>RESOLUÇÃO Nº 431/2004</td>\n      <td>Resoluções</td>\n      <td>MODIFICA E SUPRIME DISPOSITIVOS DA RESOLUÇÃO N...</td>\n      <td>A CÂMARA MUNICIPAL DE FEIRA DE SANTANA, Estado...</td>\n    </tr>\n  </tbody>\n</table>\n<p>6033 rows × 4 columns</p>\n</div>"
          },
          "metadata": {},
          "execution_count": 26
        }
      ]
    },
    {
      "cell_type": "code",
      "metadata": {
        "id": "7bY1XZSe0T_O",
        "colab_type": "code",
        "colab": {
          "base_uri": "https://localhost:8080/",
          "height": 106
        },
        "outputId": "104ae31c-0044-4273-b2f9-00838ffec295"
      },
      "source": [
        "# Exemplo de texto de lei\n",
        "laws.loc[len(laws)-1, 'texto']"
      ],
      "execution_count": 27,
      "outputs": [
        {
          "output_type": "execute_result",
          "data": {
            "text/plain": [
              "'A CÂMARA MUNICIPAL DE FEIRA DE SANTANA, Estado da Bahia, na conformidade do artigo 70, Inciso V, da Lei Municipal nº37, de 05 de Abril de 1990 e, artigos 287, § 2º e, 420, do Regimento Interno, promulga a seguinte Resolução:\\n\\nArt. 1ºDê-se aos dispositivos abaixo mencionados, da Resolução nº393/2002 - Regimento Interno, as seguintes redações:\\n\\n\"Art. 7º A Mesa Diretora da Câmara compor-se-á do Presidente, Primeiro e Segundo Secretários, com mandato de 02 ( dois ) anos, admitida a recondução para a eleição subsequente.\\n\\n§ 4º Se, hora regimental, não estiver presente o Presidente, abrirá os trabalhos o Vice-Presidente ou, na falta deste, o Primeiro ou Segundo Secretários, na sequência, ou ainda, caso estes não estejam presentes, o Vereador mais votado nas eleições municipais.\"\\n\\n\"Art. 33 Compete, privativamente, ao Vice-Presidente:\"\\n\\n\"Art. 36 ...\\n\\nI - ...\\n\\ne) acompanhar e supervisionar a Ata da Sessão, proceder a sua leitura e assiná-la depois do Presidente e do Vice-Presidente.\\n\\nII - ...\\n\\nc) assinar, depois do Presidente e do Vice-Presidente, os atos da Mesa Diretora.\\n\\nParágrafo Único - O Primeiro Secretário será substituído em suas faltas, ausências, impedimentos ou licenças, havendo nas duas últimas hipóteses investidura na plenitude da respectiva função, pelo Segundo Secretário.\"\\n\\n\"Art. 48 As Comissões Permanentes, em número de 05 ( cinco ), são as seguinte:\\n\\nI - ...\\n\\nII - ...\\n\\nIII - ...\\n\\nIV - ...\\n\\nV - Comissão de Meio Ambiente, Direitos Humanos e Defesa do Consumidor.\"\\n\\n\"Art. 57 ...\\n\\nI - ...\\n\\nII - ...\\n\\nIII - ...\\n\\nIV - ...\\n\\nV - da Comissão de Meio Ambiente, Direitos Humanos e Defesa do Consumidor.\"\\n\\n\"a) ...\\n\\n1 - ...\\n2 - ...\\n3 - ...\\nb) ...\\nc) ...\\nd) ...\\ne) opinar sobre todas as proposições que digam respeito aos direitos humanos, especialmente àquelas que envolvam matérias referentes à criança, adolescente e idoso;\\nf) propor iniciativas relacionadas a direitos humanos;\\ng) receber reclamações e encaminhá-las aos órgãos competentes;\\nh) propor ações de combate ao rascismo e discriminação de qualquer natureza, bem como manter intercâmbio com órgãos públicos, entidades civis e filantrópicas sem fins lucrativos, para atender o disposto na alínea anterior;\\ni) divulga a legislação que trata dos direitos da mulher trabalhadora urbana e rural;\\nj) propor ações de combate à violência e prostituição infanto-juvenil;\\nk) opinar sobre proposições que versem a respeito da saúde da mulher, planejamento familiar e assistência social;\\nl) fiscalizar, em conjunto com a Delegacia Regional do Trabalho, a instalação de creches nas empresas e demais locais de trabalhos, exigidos por lei;\\nm) opinar sobre proposições relativas a produtos, serviços e, quando cabível, contratos que norteiam as relações de consumo;\\nn) desenvolver ampla divulgação da legislação e dos programas de defesa do consumidor;\\no) propor a criação de políticas e instrumentos de defesa do consumidor, em conjunto com os demais órgãos públicos e particulares;\\np) fiscalizar os produtos de consumo e seu fornecimento, e zelar pela sua qualidade;\\nq) receber reclamações e encaminhá-las ao órgão competente.\"\\n\\n\"Art. 164 O Líder e Vice-Líder podem fazer parte de Comissões Permanentes e Temporárias, exceto o Líder e Vice-Líder do Governo.\"\\n\\n\"Art. 168 Lavrar-se-á a ata, com o resumo dos trabalhos de cada sessão, cujo redação obedecerá ao padrão uniforme adotado pela Mesa Diretora.\"\\n\\n\"Art. 188 As atas serão organizadas em anais, por ordem cronológica, por período legislativo e recolhidas ao Arquivo da Câmara.\"\\n\\n\"Art. 190 Os Vereadores só poderão falar sobre a ata para impugná-la ou retificá-la no todo em parte, logo após a leitura da mesma.\\n\\n§ 1º A discussão sobre a impugnação ou retificação da ata não poderá exceder o tempo destinado ao Grande Expediente, que nesta hipótese ficará prejudicado.\"\\n\\n\"Art. 199 Aberto a sessão, o Segundo Secretário fará a leitura da ata anterior, que o Presidente submeterá à apreciação do Plenário.\"\\n\\n\"Art. 200 Após a leitura da ata, o Primeiro Secretário procederá a leitura de:\"\\n\\n\"Art. 413 - ...\\n\\nParágrafo Único - Caso o Presidente da Câmara não promulgue a lei, caberá ao Vice-Presidente promulgá-la.\"\\n\\n\"Art. 418 - ...\\n\\n§ 2º Se lei não for promulgada dentro de 48 ( quarenta e oito ) horas o Presidente da Câmara Municipal a promulgará, e se este em igual prazo, não o fizer, fá-lo-á obrigatoriamente, o Vice-Presidente.\"\\n\\nArt. 2ºDê-se ao capítulo III, do Título VII - Da Elaboração Legislativo Especial, a seguinte redação:\\n\\n\\n\"CapítuloIII\\nDA CONCESSÃO DE HONRARIAS\\n\\n\\nSEÇÃO I\\nDAS HONRARIAS\"\\n\\n\\n\\n\"Art. 402 - A Câmara Municipal concederá o Título Honorífico de Cidadão Feirense a pessoas, pelos seus relevantes e notórios serviços prestados ao Município e ao seu povo.\"\\n\\n\"Art. 403 - A Câmara Municipal também concederá:\\n\\na) Comenda - Maria Quitéria, Áureo Filho, Filinto Justiniano Ferreira Bastos, Padre Ovídio Alves de São Boaventura, Godofredo Rebello de Figueiredo Filho, Maestro Tertuliano Ferreira Santos, Armando Curvelo de Menezes e, Dr. Gastão Guimarães;\\nb) Medalhas - Mérito de Meio Ambiente, Fundação Senhor dos Passos, Vereador Dival Figueiredo Machado, Missionário Roderick Murdo Gillanders, Mérito Rotário, Zumbi dos Palmares e Arquiteto Anápio Aurélio de Miranda;\\nc) Certificados - Verde e, de Excelência.\"\\n\\n\\n\"SEÇÃO\\nDISPOSIÇÕES GERAIS\"\\n\\n\\n\"Art. 404 - O Projeto de Decreto Legislativo destinado a concessão de honrarias, deverá ser apresentado por, no mínimo, 2/3 ( dois terços ) dos membros da Câmara e, acompanhado de justificativa, além de, biografia quando inerente a pessoa física.\\n\\n§ 1º Recebido o Projeto de Decreto Legislativo, o mesmo após lido, será encaminhado à Comissão de Constituição Justiça e Redação que, dentro de 10 ( dez ) dias, emitirá parecer fundamentado, o qual após lido será pautado para a Ordem do Dia da sessão seguinte.\\n\\n§ 2º Será considerado aprovado o Projeto de Decreto Legislativo que obtiver 2/3 ( dois terços ) de votos favoráveis dos membros da Câmara.\\n\\n§ 3º Cada Vereador poderá apresentar 08 ( oito ) projetos de Decreto Legislativo por legislatura destinados a concessão do Título de Cidadão Feirense, enquanto que as demais Honrarias tem suas quantidades estabelecidas nas Resoluções que as instituíram.\"\\n\\n\"Art. 405 - As honrarias poderão ser cassadas, caso os homenageados tenham comprovadamente praticado atos que colidam com os motivos que as ensejam\\n\\nParágrafo Único - Aplicam-se os dispositivos desta Seção, no que couber, ao Projeto de Decreto Legislativo de cassação da honraria\"\\n\\nArt. 3ºSuprima-se os dispositivos abaixo mencionados, e dê-se nova numeração aos demais:\\n\\n\"a) artigos - 34,37. 87, 99, 100, 102, 124, 187, 189, 191, 192, 193, 223, 356, 417;\\nb) parágrafos - 3º do art. 101, 4º do art. 135 e único do art. 199;\"\\n\\nArt. 4ºEsta Resolução entrará em vigor na data de sua publicação, produzindo seus efeitos a partir de 1º de Janeiro de 2005, revogadas as disposições em contrário.\\n\\nMESA DIRETIVA DA CÂMARA MUNICIPAL DE FEIRA DE SANTANA, 26 de Outubro de 2004.\\n\\nVer. ANTÔNIO CARLOS DALTRO COELHO\\nPresidente\\n\\nVer. GENÉSIO SERAFIM DE LIMA\\n1º Secretário\\n\\nVer. JORGE RAIMUNDO DE OLIVEIRA SILVA\\n2º Secretário'"
            ]
          },
          "metadata": {},
          "execution_count": 27
        }
      ]
    },
    {
      "cell_type": "markdown",
      "metadata": {
        "id": "o3JpPMrw0T_Z",
        "colab_type": "text"
      },
      "source": [
        "## Comparando documentos: representação e calculo de similaridade\n",
        "\n",
        "Para comparar quão parecido são dois documentos, primeiro temos que transformar estes documentos para uma representação que o computador consiga calcular alguma coisa a respeito. Existem alguns métodos para isto. Neste notebook temos 3: TF, TF-IDF e vetores de palavras. Para calcular a similaridade, também existem alguns métodos diferentes. Utilizamos similaridade do cosseno.\n",
        "\n",
        "### Term Frequency (TF)\n",
        "\n",
        "A primeira representação construída é bastante ingênua:\n",
        "apenas conta a quantidade de vezes que cada palavra apareceu em cada texto e atribuir um vetor pra esse texto.\n",
        "Cada posição do vetor é uma palavra e cada valor representa quantas vezes essa palavra apareceu no dado texto.\n",
        "Todos os textos, portanto, são representados por uma matriz de dimensões _m_ x _n_,\n",
        " onde _m_ é o número de textos e _n_ é o número de palavras únicas (tamanho do vocabulário)."
      ]
    },
    {
      "cell_type": "code",
      "metadata": {
        "id": "SEh4OLr-0T_b",
        "colab_type": "code",
        "colab": {}
      },
      "source": [
        "from scripts.parsers import clean_text\n",
        "laws['texto_limpo'] = laws['texto'].apply(clean_text)"
      ],
      "execution_count": 28,
      "outputs": []
    },
    {
      "cell_type": "code",
      "metadata": {
        "id": "1SPaMnra0T_g",
        "colab_type": "code",
        "colab": {
          "base_uri": "https://localhost:8080/",
          "height": 52
        },
        "outputId": "bdabe518-a835-4d1e-f5cd-17744618cf27"
      },
      "source": [
        "# Generates document matrix\n",
        "from sklearn.feature_extraction.text import CountVectorizer, TfidfTransformer\n",
        "vectorizer = CountVectorizer()\n",
        "tf_representation = vectorizer.fit_transform(laws['texto_limpo'])\n",
        "tf_representation"
      ],
      "execution_count": null,
      "outputs": []
    },
    {
      "source": [
        "Com a matriz de documentos ~literalmente~ em mãos, vamos calcular a similaridade entre dois textos.\n",
        "A similaridade é calculada pela similaridade do cosseno (ver algebra linear)."
      ],
      "cell_type": "markdown",
      "metadata": {}
    },
    {
      "cell_type": "code",
      "metadata": {
        "id": "QZImYpcZ0T_k",
        "colab_type": "code",
        "colab": {}
      },
      "source": [
        "from sklearn.metrics.pairwise import cosine_similarity\n",
        "import numpy as np\n",
        "\n",
        "cos_sim_matrix = cosine_similarity(tf_representation, dense_output=True)\n",
        "cos_sim_argsort = np.argsort(cos_sim) # sorts ascending, per row, the indexes of the documents according to their cossine similarity"
      ],
      "execution_count": 13,
      "outputs": []
    },
    {
      "cell_type": "code",
      "metadata": {
        "tags": [],
        "id": "D1Qr2msI0T_o",
        "colab_type": "code",
        "colab": {
          "base_uri": "https://localhost:8080/",
          "height": 34
        },
        "outputId": "1bfd3a37-6ef9-488e-d315-2316f2325f9c"
      },
      "source": [
        "most_similar_indexes_tf = cos_sim_argsort[:,-2] # -1 is the same text\n",
        "tf_similarities = [cos_sim_matrix[i, ind] for i, ind in enumerate(most_similar_indexes_tf)] "
      ],
      "execution_count": 31,
      "outputs": []
    },
    {
      "cell_type": "code",
      "metadata": {
        "tags": [],
        "id": "Px1gHxey0T_y",
        "colab_type": "code",
        "colab": {
          "base_uri": "https://localhost:8080/",
          "height": 1000
        },
        "outputId": "fd18530f-37b5-498d-b2ef-05f7936a3a49"
      },
      "source": [
        "def print_laws(original_law_index, compared_law_index: int):\n",
        "    print(f'- - - LEI: {original_law_index}: - - -\\n\\n')\n",
        "    print(laws.loc[original_law_index, 'texto'])\n",
        "    print(f'\\n\\n- - - LEI COMPARADA: {compared_law_index} - - -\\n\\n')\n",
        "    print(laws.loc[compared_law_index, 'texto'])"
      ],
      "execution_count": 36,
      "outputs": []
    },
    {
      "cell_type": "code",
      "execution_count": 18,
      "metadata": {},
      "outputs": [
        {
          "output_type": "stream",
          "name": "stdout",
          "text": [
            "Maximum similarity between two laws: 1.0000000000000013\n- - - LAW: 5949: - - -\n\n\nA CÂMARA MUNICIPAL DE FEIRA DE SANTANA, Estado da Bahia, na conformidade do Art. 70, inciso VII, da Lei Municipal nº37de 05 de abril de 1990, e Artigos 72, inciso III e 138 § 2º, do Regimento Interno, Promulga a seguinte Resolução:\n\nArt. 1ºFicam reajustados em 12% (doze por cento), os valores dos vencimentos dos servidores da Câmara Municipal de Feira de Santana, referentes ao mês de maio do corrente ano.\n\nArt. 2ºAs despesas decorrentes desta Resolução correrão por conta de verba orçamentária desta Câmara.\n\nArt. 3ºEsta Resolução entrará em vigor na data da sua publicação e seus efeitos a partir de 1º de maio de 1996, revogadas as disposições em contrário.\n\nMESA DIRETIVA DA CÂMARA MUNICIPAL DE FEIRA DE SANTANA, EM 18 DE JUNHO DE 1996.\n\nJOSÉ FLANTILDES RIBEIRO DE OLIVEIRA\nPresidente\n\nJOSÉ MARCONE PAULO DE SOUSA\n1º Vice-Presidente\n\nSEVERINO SOARES\n1º Secretário\n\nNANTES BELLAS VIEIRA\n2º Secretário\n\n\n- - - COMPARED LAW: 6026 - - -\n\n\nA CÂMARA MUNICIPAL DE FEIRA DE SANTANA, Estado da Bahia, na conformidade do Art. 70, inciso VII, da Lei Municipal nº37de 05 de abril de 1990, e Artigos 72, inciso III e 138 § 2º, do Regimento Interno, Promulga a seguinte Resolução:\n\nArt. 1ºFicam reajustados em 12% (doze por cento), os valores dos vencimentos dos servidores da Câmara Municipal de Feira de Santana, referentes ao mês de maio do corrente ano.\n\nArt. 2ºAs despesas decorrentes desta Resolução correrão por conta de verba orçamentária desta Câmara.\n\nArt. 3ºEsta Resolução entrará em vigor na data da sua publicação e seus efeitos a partir de 1º de maio de 1996, revogadas as disposições em contrário.\n\nMESA DIRETIVA DA CÂMARA MUNICIPAL DE FEIRA DE SANTANA, EM 18 DE JUNHO DE 1996.\n\nJOSÉ FLANTILDES RIBEIRO DE OLIVEIRA\nPresidente\n\nJOSÉ MARCONE PAULO DE SOUSA\n1º Vice-Presidente\n\nSEVERINO SOARES\n1º Secretário\n\nNANTES BELLAS VIEIRA\n2º Secretário\n"
          ]
        }
      ],
      "source": [
        "max_sim_overall = np.max(tf_similarities)\n",
        "print(f'Maximum similarity between two laws: {max_sim_overall}')\n",
        "\n",
        "original_law_index = np.argmax(tf_similarities)\n",
        "most_similar_law_index = most_similar_index[original_law_index]\n",
        "\n",
        "print_laws(original_law_index, most_similar_law_index)"
      ]
    },
    {
      "cell_type": "markdown",
      "metadata": {
        "id": "2JBmGOe10T_3",
        "colab_type": "text"
      },
      "source": [
        "As leis 5949 e 6026 são idênticas.\n",
        "Opa! Lei 13 e Lei 118 são a mesma lei, com 3 dias de diferença. Por que existe isso?"
      ]
    },
    {
      "source": [
        "### TF-IDF\n",
        "Outra representação possível para os textos é TF-IDF. \n",
        "Ainda contamos a frequência de cada termo (TF), porém ponderamos esta frequência pela raridade da palavra, medida pela frequência inversa que ela aparece nos documentos (Inverse Document Frequency). \n",
        "Ou seja, quanto mais rara é a palavra no corpus, mais ela caracteriza o texto em que ela aparece, maior será o peso dela."
      ],
      "cell_type": "markdown",
      "metadata": {}
    },
    {
      "cell_type": "code",
      "metadata": {
        "tags": [],
        "id": "NzYMpD_P0T_3",
        "colab_type": "code",
        "colab": {
          "base_uri": "https://localhost:8080/",
          "height": 52
        },
        "outputId": "43a460b6-2869-4f73-92ae-402bde4416e1"
      },
      "source": [
        "transformer = TfidfTransformer()\n",
        "tfidf_representation = transformer.fit_transform(tf_representation)\n",
        "\n",
        "cos_sim_tfidf = cosine_similarity(tfidf_representation, dense_output=True)\n",
        "cos_sim_tfidf_sorted_idxs = np.argsort(cos_sim_tfidf)\n",
        "\n",
        "tfidf_representation"
      ],
      "execution_count": 20,
      "outputs": [
        {
          "output_type": "execute_result",
          "data": {
            "text/plain": [
              "<6033x30209 sparse matrix of type '<class 'numpy.float64'>'\n",
              "\twith 625873 stored elements in Compressed Sparse Row format>"
            ]
          },
          "metadata": {},
          "execution_count": 20
        }
      ]
    },
    {
      "cell_type": "code",
      "metadata": {
        "tags": [],
        "id": "Nh12GLZi0T_9",
        "colab_type": "code",
        "colab": {
          "base_uri": "https://localhost:8080/",
          "height": 1000
        },
        "outputId": "1b916cfb-fdfc-43ca-d017-4dec67d56fe2"
      },
      "source": [
        "most_similar_law_idx = cos_sim_tfidf_sorted_idxs[original_law_index, -2]\n",
        "tfidf_similarity = cos_sim_tfidf[original_law_index, most_similar_law_idx]\n",
        "\n",
        "print(f'Given same law, the highest similarity using TF-IDF is: {tfidf_similarity}')\n",
        "print_laws(original_law_index, most_similar_law_idx)"
      ],
      "execution_count": 21,
      "outputs": [
        {
          "output_type": "stream",
          "name": "stdout",
          "text": [
            "Given same law, the highest similarity using TF-IDF is: 1.0000000000000002\n- - - LAW: 5949: - - -\n\n\nA CÂMARA MUNICIPAL DE FEIRA DE SANTANA, Estado da Bahia, na conformidade do Art. 70, inciso VII, da Lei Municipal nº37de 05 de abril de 1990, e Artigos 72, inciso III e 138 § 2º, do Regimento Interno, Promulga a seguinte Resolução:\n\nArt. 1ºFicam reajustados em 12% (doze por cento), os valores dos vencimentos dos servidores da Câmara Municipal de Feira de Santana, referentes ao mês de maio do corrente ano.\n\nArt. 2ºAs despesas decorrentes desta Resolução correrão por conta de verba orçamentária desta Câmara.\n\nArt. 3ºEsta Resolução entrará em vigor na data da sua publicação e seus efeitos a partir de 1º de maio de 1996, revogadas as disposições em contrário.\n\nMESA DIRETIVA DA CÂMARA MUNICIPAL DE FEIRA DE SANTANA, EM 18 DE JUNHO DE 1996.\n\nJOSÉ FLANTILDES RIBEIRO DE OLIVEIRA\nPresidente\n\nJOSÉ MARCONE PAULO DE SOUSA\n1º Vice-Presidente\n\nSEVERINO SOARES\n1º Secretário\n\nNANTES BELLAS VIEIRA\n2º Secretário\n\n\n- - - COMPARED LAW: 6026 - - -\n\n\nA CÂMARA MUNICIPAL DE FEIRA DE SANTANA, Estado da Bahia, na conformidade do Art. 70, inciso VII, da Lei Municipal nº37de 05 de abril de 1990, e Artigos 72, inciso III e 138 § 2º, do Regimento Interno, Promulga a seguinte Resolução:\n\nArt. 1ºFicam reajustados em 12% (doze por cento), os valores dos vencimentos dos servidores da Câmara Municipal de Feira de Santana, referentes ao mês de maio do corrente ano.\n\nArt. 2ºAs despesas decorrentes desta Resolução correrão por conta de verba orçamentária desta Câmara.\n\nArt. 3ºEsta Resolução entrará em vigor na data da sua publicação e seus efeitos a partir de 1º de maio de 1996, revogadas as disposições em contrário.\n\nMESA DIRETIVA DA CÂMARA MUNICIPAL DE FEIRA DE SANTANA, EM 18 DE JUNHO DE 1996.\n\nJOSÉ FLANTILDES RIBEIRO DE OLIVEIRA\nPresidente\n\nJOSÉ MARCONE PAULO DE SOUSA\n1º Vice-Presidente\n\nSEVERINO SOARES\n1º Secretário\n\nNANTES BELLAS VIEIRA\n2º Secretário\n"
          ]
        }
      ]
    },
    {
      "source": [
        "Mostram a mesma lei. O que faz sentido, já que as leis são idênticas."
      ],
      "cell_type": "markdown",
      "metadata": {}
    },
    {
      "cell_type": "code",
      "metadata": {
        "tags": [],
        "id": "L_ofWndW0UAC",
        "colab_type": "code",
        "colab": {
          "base_uri": "https://localhost:8080/",
          "height": 34
        },
        "outputId": "422a20d3-4355-476e-8ded-5594ed8cca23"
      },
      "source": [
        "most_similar_indexes_tfidf = cos_sim_tfidf_sorted_idxs[:,-2]\n",
        "\n",
        "same_result = (most_similar_indexes_tf == most_similar_indexes_tfidf)\n",
        "print(same_result)\n",
        "print(f\"Agrees on {sum(same_result) / len(same_result) * 100}% of the results\")"
      ],
      "execution_count": 34,
      "outputs": [
        {
          "output_type": "stream",
          "name": "stdout",
          "text": [
            "[False  True  True ...  True  True False]\nAgrees on 40.44422343775899% of the results\n"
          ]
        }
      ]
    },
    {
      "source": [
        "A lei mais semelhante de acordo com TF e TF-IDF é a mesma 40% das vezes.\n",
        "\n",
        "Vamos dar uma olhada em algumas leis onde os resultados diferem, para ter uma intuição sobre qual representação é melhor para as leis.\n",
        "\n",
        "Vamo sortear indices aleatorios desse vetor e ler as leis que eles representam e as similaridades"
      ],
      "cell_type": "markdown",
      "metadata": {}
    },
    {
      "cell_type": "code",
      "metadata": {
        "tags": [],
        "id": "Z2x3NEDM0UAb",
        "colab_type": "code",
        "colab": {
          "base_uri": "https://localhost:8080/",
          "height": 34
        },
        "outputId": "b263fba8-0fab-4523-dd04-9e36dd189f2e"
      },
      "source": [
        "different_result_indexes = [i for i, _ in enumerate(same_result) if not same_result[i]]\n",
        "comparisons_count = 10\n",
        "drafted_indexes = np.random.randint(0, high=len(different_result_indexes)-1, size=comparisons_count)\n",
        "drafted_laws = [different_result_indexes[i] for i in drafted_indexes]\n",
        "print(drafted_laws)"
      ],
      "execution_count": 38,
      "outputs": [
        {
          "output_type": "stream",
          "name": "stdout",
          "text": [
            "[3958, 1845, 2942, 1569, 2097, 4906, 2067, 2713, 1197, 61]\n"
          ]
        }
      ]
    },
    {
      "cell_type": "code",
      "metadata": {
        "tags": [
          "outputPrepend"
        ],
        "id": "eNvPyncl0UAg",
        "colab_type": "code",
        "colab": {
          "base_uri": "https://localhost:8080/",
          "height": 1000
        },
        "outputId": "9d91fe26-62de-411d-9cc2-90f3282cb51c"
      },
      "source": [
        "for i in drafted_laws:\n",
        "    print(f'\\n\\nCOMPARACAO UTILIZANDO TF:\\n\\n')\n",
        "    print_laws(i, most_similar_indexes_tf[i])\n",
        "    print('\\n\\nCOMPARACAO UTILIZANDO TF-IDF:\\n\\n')\n",
        "    print_laws(i, most_similar_indexes_tfidf[i])"
      ],
      "execution_count": 40,
      "outputs": [
        {
          "output_type": "stream",
          "name": "stdout",
          "text": [
            " na Rua Cônego Olímpio, nº 83, Distrito de Humildes, neste Município.\n\nArt. 2ºEsta Lei entrará em vigor na data sua publicação, revogadas as disposições em contrário.\n\nGabinete do Prefeito, 16 de maio de 2017.\n\nJOSÉ RONALDO DE CARVALHO\nPREFEITO MUNICIPAL\n\nMARIO COSTA BORGES\nCHEFE DE GABINETE DO PREFEITO\n\nCLEUDSON SANTOS ALMEIDA\nPROCURADOR GERAL DO MUNICÍPIO\n\nPUBLICADO NO DIÁRIO OFICIAL ELETRÔNICO DIA 18 DE MAIO DE 2017.\n\n\nCOMPARACAO UTILIZANDO TF-IDF:\n\n\n- - - LEI: 2097: - - -\n\n\nO PREFEITO MUNICIPAL DE FEIRA DE SANTANA, Estado da Bahia, Faço Saber que a Câmara Municipal, através do Projeto de Lei nº 44/2017, de autoria do Edil José Carneiro Rocha, decretou e eu sanciono a seguinte Lei:\n\nArt. 1ºFica considerado de utilidade pública o INSTITUTO TENDA DA PAZ, com sede na Rua Picos, nº 33, Bairro da Queimadinha, neste Município de Feira de Santana.\n\nArt. 2ºEsta Lei entrará em vigor na data de sua publicação, revogadas as disposições em contrário.\n\nGabinete do Prefeito, 02 de maio de 2017.\n\nGabinete do Prefeito, 02 de maio de 2017.\n\nJOSÉ RONALDO DE CARVALHO\nPREFEITO MUNICIPAL\n\nMARIO COSTA BORGES\nCHEFE DE GABINETE DO PREFEITO\n\nCLEUDSON SANTOS ALMEIDA\nPROCURADOR GERAL DO MUNICÍPIO\n\nPUBLICADO NO DIÁRIO OFICIAL ELETRÔNICO DIA 04 DE MAIO DE 2017.\n\n\n- - - LEI COMPARADA: 851 - - -\n\n\nO PREFEITO MUNICIPAL DE FEIRA DE SANTANA, Estado da Bahia, FAÇO saber que a Câmara Municipal, através do Projeto de Lei nº 39/2018, de autoria da Edil Aldney Bastos Marques, decretou e eu sanciono a seguinte Lei:\n\nArt. 1ºFica considerado de utilidade pública o INSTITUTO DE AÇÃO PRÓ EMPREGO E SUSTENTABILIDADE, com sede à Avenida Francisco Pinto nº 942, Sala B, no Bairro Pedra do Descanso, neste Município de Feira de Santana.\n\nArt. 2ºEsta Lei entrará em vigor na data de sua publicação, revogadas as disposições em contrário.\n\nGabinete do Prefeito, 28 de maio de 2018.\n\nCOLBERT MARTINS DA SILVA FILHO\nPREFEITO MUNICIPAL\n\nMARIO COSTA BORGES\nCHEFE DE GABINETE DO PREFEITO\n\nCLEUDSON SANTOS ALMEIDA\nPROCURADOR GERAL DO MUNICÍPIO\n\nPUBLICADO NO DIÁRIO OFICIAL ELETRÔNICO DIA 29 DE MAIO DE 2018.\n\n\nCOMPARACAO UTILIZANDO TF:\n\n\n- - - LEI: 4906: - - -\n\n\nVisualizar Ato:Decreto Legislativo nº 21/2000 - Feira de Santana-BA\n\n\n- - - LEI COMPARADA: 4818 - - -\n\n\nVisualizar Ato:Decreto Legislativo nº 11/2003 - Feira de Santana-BA\n\n\nCOMPARACAO UTILIZANDO TF-IDF:\n\n\n- - - LEI: 4906: - - -\n\n\nVisualizar Ato:Decreto Legislativo nº 21/2000 - Feira de Santana-BA\n\n\n- - - LEI COMPARADA: 4956 - - -\n\n\nVisualizar Ato:Decreto Legislativo nº 27/2005 - Feira de Santana-BA\n\n\nCOMPARACAO UTILIZANDO TF:\n\n\n- - - LEI: 2067: - - -\n\n\nO PREFEITO MUNICIPAL DE FEIRA DE SANTANA, Estado da Bahia, FAÇO saber que a Câmara Municipal, através do Projeto de Lei nº 135/99, de autoria do Edil Everton Pereira Cerqueira, decretou e eu sanciono a seguinte Lei:\n\nArt. 1ºFica considerada de Utilidade Pública a ASSOCIAÇÃO DOS MORADORES DO DISTRITO DE BONFIM DE FEIRA (AMDBF), com sede na Rua José Alves de Freitas, nº 29, Distrito de Bonfim de Feira, neste Município.\n\nArt. 2ºEsta Lei entrará em vigor na data de sua publicação, revogadas as disposições em contrário.\n\nGabinete do Prefeito Municipal, em 13 de dezembro de 1999.\n\nCLAILTON COSTA MASCARENHA\nPrefeito\n\nEVANGIVALDO DE FIGUEIREDO OLIVEIRA\nChefe de Gabinete do Prefeito\n\n\n- - - LEI COMPARADA: 2707 - - -\n\n\nO PREFEITO MUNICIPAL DE FEIRA DE SANTANA, Estado da Bahia, FAÇO saber que a Câmara Municipal, através do Projeto de Lei nº 118/99, de autoria do Edil José Benedito Souza da Hora, decretou e eu sanciono a seguinte Lei:\n\nArt. 1ºFica considerada de Utilidade Pública a ASSOCIAÇÃO COMUNITÁRIA CAMINHO DA PAZ, com sede à Rua C 1, nº 155, Conjunto George Américo, neste Município.\n\nArt. 2ºEsta Lei entrará em vigor na data de sua publicação, revogadas as disposições em contrário.\n\nGabinete do Prefeito Municipal, em 13 de dezembro de 1999.\n\nCLAILTON COSTA MASCARENHA\nPrefeito\n\nEVANGIVALDO DE FIGUEIREDO OLIVEIRA\nChefe de Gabinete do Prefeito\n\n\nCOMPARACAO UTILIZANDO TF-IDF:\n\n\n- - - LEI: 2067: - - -\n\n\nO PREFEITO MUNICIPAL DE FEIRA DE SANTANA, Estado da Bahia, FAÇO saber que a Câmara Municipal, através do Projeto de Lei nº 135/99, de autoria do Edil Everton Pereira Cerqueira, decretou e eu sanciono a seguinte Lei:\n\nArt. 1ºFica considerada de Utilidade Pública a ASSOCIAÇÃO DOS MORADORES DO DISTRITO DE BONFIM DE FEIRA (AMDBF), com sede na Rua José Alves de Freitas, nº 29, Distrito de Bonfim de Feira, neste Município.\n\nArt. 2ºEsta Lei entrará em vigor na data de sua publicação, revogadas as disposições em contrário.\n\nGabinete do Prefeito Municipal, em 13 de dezembro de 1999.\n\nCLAILTON COSTA MASCARENHA\nPrefeito\n\nEVANGIVALDO DE FIGUEIREDO OLIVEIRA\nChefe de Gabinete do Prefeito\n\n\n- - - LEI COMPARADA: 2966 - - -\n\n\nO PREFEITO MUNICIPAL DE FEIRA DE SANTANA, Estado da Bahia, FAÇO saber que a Câmara Municipal, através do Projeto de Lei nº 114/99, de autoria do Edil Genésio Serafim de Lima, decretou e eu sanciono a seguinte Lei:\n\nArt. 1ºFica considerada de Utilidade Pública a ASSOCIAÇÃO RURAL DA COMUNIDADE DE TERRA NOVA, entidade sem fins lucrativos, com sede provisória na Fazenda Sucupira, Distrito de Bonfim de Feira, neste Município.\n\nArt. 2ºEsta Lei entrará em vigor na data de sua publicação, revogadas as disposições em contrário.\n\nGabinete do Prefeito Municipal, em 25 de novembro de 1999.\n\nCLAILTON COSTA MASCARENHA\nPrefeito\n\nEVANGIVALDO DE FIGUEIREDO OLIVEIRA\nChefe de Gabinete do Prefeito\n\n\nCOMPARACAO UTILIZANDO TF:\n\n\n- - - LEI: 2713: - - -\n\n\nAutor: Antonio Joel Barbosa\n\nO PREFEITO MUNICIPAL DE FEIRA DE SANTANA, ESTADO DA BAHIA, FAÇO saber que a Câmara Municipal, através do Projeto de Lei nº 14/2007, de autoria do Edil Antonio Joel Barbosa, decretou e eu sanciono a seguinte Lei:\n\nArt. 1ºFica instituído no Município de Feira de Santana, o Dia do Vaqueiro.\n\nArt. 2ºO dia instituído no artigo anterior será comemorado, anualmente no dia 31 de Maio.\n\nArt. 3ºDurante o evento o Poder Público Municipal desenvolverá atividades, juntamente com entidades da sociedade civil pertinentes.\n\nArt. 4ºEsta Lei entrará em vigor na data de sua publicação.\n\nArt. 5ºRevoga-se as disposições em contrário.\n\nPREFEITURA MUNICIPAL DE FEIRA DE SANTANA, em 03 de Abril de 2007.\n\nJOSÉ RONALDO DE CARVALHO\nPREFEITO\n\n\n- - - LEI COMPARADA: 1812 - - -\n\n\nO Prefeito Municipal de Feira de Santana, Estado da Bahia, faço saber que a Câmara Municipal, através do Projeto de Lei nº 42/2012, de autoria do Edil Carlos Alberto Costa Rocha, decretou e eu sanciono a seguinte Lei:\n\nArt. 1ºDê-se ao art. 1º, da Lei nº3068/2010, a seguinte redação:\n\n\"Art. 1º Fica instituído no âmbito do Município de Feira de Santana o Dia da Trabalhadora Doméstica e do Trabalhador doméstico, a ser comemorado anualmente no dia 27 de abril.\"\n\nArt. 2ºEsta Lei entrará em vigor na data de sua publicação, revogadas as disposições em contrário.\n\nGabinete do Prefeito Municipal, em 17 de maio de 2012.\n\nTARCÍZIO SUZART PIMENTA JÚNIOR\nPrefeito Municipal\n\n\nCOMPARACAO UTILIZANDO TF-IDF:\n\n\n- - - LEI: 2713: - - -\n\n\nAutor: Antonio Joel Barbosa\n\nO PREFEITO MUNICIPAL DE FEIRA DE SANTANA, ESTADO DA BAHIA, FAÇO saber que a Câmara Municipal, através do Projeto de Lei nº 14/2007, de autoria do Edil Antonio Joel Barbosa, decretou e eu sanciono a seguinte Lei:\n\nArt. 1ºFica instituído no Município de Feira de Santana, o Dia do Vaqueiro.\n\nArt. 2ºO dia instituído no artigo anterior será comemorado, anualmente no dia 31 de Maio.\n\nArt. 3ºDurante o evento o Poder Público Municipal desenvolverá atividades, juntamente com entidades da sociedade civil pertinentes.\n\nArt. 4ºEsta Lei entrará em vigor na data de sua publicação.\n\nArt. 5ºRevoga-se as disposições em contrário.\n\nPREFEITURA MUNICIPAL DE FEIRA DE SANTANA, em 03 de Abril de 2007.\n\nJOSÉ RONALDO DE CARVALHO\nPREFEITO\n\n\n- - - LEI COMPARADA: 3554 - - -\n\n\nAutor: Antonio Joel Barbosa\n\nO PREFEITO MUNICIPAL DE FEIRA DE SANTANA, ESTADO DA BAHIA, FAÇO saber que a Câmara Municipal, através do Projeto de Lei nº 167/2006, de autoria do Edil Antonio Joel Barbosa, decretou e eu sanciono a seguinte Lei:\n\nArt. 1ºFica considerada de utilidade pública a ASSOCIAÇÃO COMUNITÁRIA DO GALHARDO, com sede no Distrito de João Durval Carneiro, neste Município de Feira de Santana.\n\nArt. 2ºEsta Lei entra em vigor na data de sua publicação, revogadas as disposições em contrário.\n\nPREFEITURA MUNICIPAL DE FEIRA DE SANTANA, em 27 de Março de 2007.\n\nJOSÉ RONALDO DE CARVALHO\nPREFEITO\n\n\nCOMPARACAO UTILIZANDO TF:\n\n\n- - - LEI: 1197: - - -\n\n\nO PREFEITO MUNICIPAL DE FEIRA DE SANTANA, ESTADO DA BAHIA, FAÇO saber que a Câmara Municipal decreta e eu sanciono a seguinte Lei:\n\nArt. 1ºFica o Poder Executivo Municipal, através da Secretaria de Saúde, obrigado a efetuar semestralmente revisão OFTALMOLÓGICA a todos os alunos da rede municipal de ensino.\n\nArt. 2ºO Poder Executivo fornecerá óculos aos alunos que apresentarem DEFICIÊNCIA VISUAL.\n\nArt. 3ºA Secretaria de Saúde assumirá as cirurgias oftalmológicas dos alunos que delas necessitarem.\n\nArt. 4ºAs despesas decorrentes da execução desta Lei correrão por conta da verba orçamentária destinada à Secretaria de Saúde.\n\nArt. 5ºEsta Lei entrará em vigor na data de sua publicação, revogadas as disposições em contrário.\n\nPrefeitura Municipal de Feira de Santana, em 20 de agosto de 1991.\n\nDR. COLBERT MARTINS DA SILVA\nPrefeito\n\nAutor: José Marcone Paulo de Sousa\n\n\n- - - LEI COMPARADA: 1839 - - -\n\n\nO PREFEITO MUNICIPAL DE FEIRA DE SANTANA, ESTADO DA BAHIA. FAÇO saber que a Câmara Municipal decreta e eu sanciono a seguinte Lei:\n\nArt. 1ºFicam majorados em 40% (quarenta por cento) os vencimentos dos funcionários da secretaria da Câmara Municipal, nestes compreendidos os inativos.\n\nArt. 2ºFica o Poder Executivo Municipal autorizado a abrir crédito suplementar necessário à execução desta Lei, ocorrendo por conta dos recursos previstos no art. 43, da Lei nº 4.320, de 17 março de 1964, revogadas as disposições em contrário.\n\nArt. 3ºEsta Lei entrará em vigor na data de sua publicação, revogadas as disposições em contrário.\n\nPrefeitura Municipal de Feira de Santana, em 06 de julho de 1978.\n\nDR. COLBERT MARTINS DA SILVA\nPrefeito\n\n\nCOMPARACAO UTILIZANDO TF-IDF:\n\n\n- - - LEI: 1197: - - -\n\n\nO PREFEITO MUNICIPAL DE FEIRA DE SANTANA, ESTADO DA BAHIA, FAÇO saber que a Câmara Municipal decreta e eu sanciono a seguinte Lei:\n\nArt. 1ºFica o Poder Executivo Municipal, através da Secretaria de Saúde, obrigado a efetuar semestralmente revisão OFTALMOLÓGICA a todos os alunos da rede municipal de ensino.\n\nArt. 2ºO Poder Executivo fornecerá óculos aos alunos que apresentarem DEFICIÊNCIA VISUAL.\n\nArt. 3ºA Secretaria de Saúde assumirá as cirurgias oftalmológicas dos alunos que delas necessitarem.\n\nArt. 4ºAs despesas decorrentes da execução desta Lei correrão por conta da verba orçamentária destinada à Secretaria de Saúde.\n\nArt. 5ºEsta Lei entrará em vigor na data de sua publicação, revogadas as disposições em contrário.\n\nPrefeitura Municipal de Feira de Santana, em 20 de agosto de 1991.\n\nDR. COLBERT MARTINS DA SILVA\nPrefeito\n\nAutor: José Marcone Paulo de Sousa\n\n\n- - - LEI COMPARADA: 2859 - - -\n\n\nO PREFEITO MUNICIPAL DE FEIRA DE SANTANA, ESTADO DA BAHIA, FAÇO saber que a Câmara Municipal decreta e eu sanciono a seguinte Lei:\n\nArt. 1ºÉ assegurado a portadores de deficiência auditiva ou visual, tratamento especial em escolas públicas municipais de 1º a 4º séries.\n\nArt. 2ºA Secretaria de Educação do Município, reservará um prédio escolar, com instalações exclusivas para os alunos deficientes de que fala o artigo anterior, quando não for possível a integração destes no sistema regular de ensino.\n\nArt. 3ºAs aulas aos alunos de que trata esta Lei serão ministradas por professores especializados.\n\nParágrafo Único - Os alunos portadores de deficiência auditiva receberão assistência de fonoaudiólogo.\n\nArt. 4ºO Poder Executivo regulamentará esta Lei no prazo de 90 (noventa) dias, a partir de sua vigência.\n\nArt. 5ºFica o Poder Executivo autorizado a abrir crédito especial para fazer face às despesas decorrentes com as adaptações necessárias ao cumprimento desta Lei.\n\nArt. 6ºEsta Lei entrará em vigor na data de sua publicação, revogadas as disposições em contrário.\n\nPrefeitura Municipal de Feira de Santana, em 15 de dezembro de 1992.\n\nDR. COLBERT MARTINS DA SILVA\nPrefeito\n\nAutor: Roberto Luis da Silva Tourinho\n\n\nCOMPARACAO UTILIZANDO TF:\n\n\n- - - LEI: 61: - - -\n\n\nO PREFEITO MUNICIPAL DE FEIRA DE SANTANA, Estado da Bahia, no uso de suas atribuições legais e com base na autorização contida na Lei Nº3.350, de 11 de dezembro de 2012, artigo 6º, § 1º, DECRETA:\n\nArt. 1ºFica aberto Crédito Suplementar ao Orçamento do Município no valor de R$ 220.000,00 (duzentos e vinte mil reais), conforme detalhamento abaixo:__________________________________________________\n| CLASS.|  PROGRAMÁTICA |ECONÔMICA|FONTE|VALOR (R$)|\n| INST. |               |         |     |          |\n|=======|===============|=========|=====|==========|\n|14.1414|23.692.022.2102|3.1.90.13| 0000| 30.000,00|\n|-------|---------------|---------|-----|----------|\n|14.1414|23.691.022.2109|3.3.90.39| 0000|190.000,00|\n|-------|---------------|---------|-----|----------|\n|       |               |         |TOTAL|220.000,00|\n|_______|_______________|_________|_____|__________| * tabela formatada pela equipe técnica do LeisMunicipais.com.br\nArt. 2ºOs recursos disponíveis para acorrer às despesas decorrentes do presente crédito suplementar correrão à conta de anulações nas dotações abaixo detalhadas:__________________________________________________\n| CLASS.|  PROGRAMÁTICA |ECONÔMICA|FONTE|VALOR (R$)|\n| INST. |               |         |     |          |\n|=======|===============|=========|=====|==========|\n|14.1414|15.244.022.2148|3.3.90.30| 0000|220.000,00|\n|-------|---------------|---------|-----|----------|\n|       |               |         |TOTAL|220.000,00|\n|_______|_______________|_________|_____|__________| * tabela formatada pela equipe técnica do LeisMunicipais.com.br\nArt. 3ºFica a Contabilidade Municipal autorizada a efetuar os registros contábeis necessários ao cumprimento deste Decreto.\n\nArt. 4ºEste Decreto entra em vigor na data da sua publicação.\n\nGabinete do Prefeito Municipal, 13 de junho de 2013.\n\nJOSÉ RONALDO DE CARVALHO\nPrefeito Municipal\n\n\n- - - LEI COMPARADA: 142 - - -\n\n\nO PREFEITO MUNICIPAL DE FEIRA DE SANTANA, Estado da Bahia, no uso de suas atribuições legais e com base na autorização contida na Lei Nº3.350, de 11 de dezembro de 2012, artigo 6º, § 1º, DECRETA:\n\nArt. 1ºFica aberto Crédito Suplementar ao Orçamento do Município no valor de R$ 1.300.000,00 (um milhão e trezentos mil reais), conforme detalhamento abaixo:_____________________________________________________\n| CLASS. | PROGRAMÁTICA  |ECONÔMICA|FONTE| VALOR (R$) |\n| INST.  |               |         |     |            |\n|========|===============|=========|=====|============|\n|19.1926 |26.452.011.2141|3.3.90.39| 0050|1.100.000,00|\n|--------|---------------|---------|-----|------------|\n|19.1926 |04.122.001.2142|3.3.90.39|0050 |  200.000,00|\n|--------|---------------|---------|-----|------------|\n|TOTAL   |               |         |     |1.300.000,00|\n|________|_______________|_________|_____|____________| * tabela formatada pela equipe técnica do LeisMunicipais.com.br\nArt. 2ºOs recursos disponíveis para acorrer às despesas decorrentes do presente crédito suplementar correrão à conta de anulações nas dotações abaixo detalhadas:_____________________________________________________\n| CLASS. | PROGRAMÁTICA  |ECONÔMICA|FONTE| VALOR (R$) |\n| INST.  |               |         |     |            |\n|========|===============|=========|=====|============|\n|19.1926 |26.452.011.2141|3.3.90.39|0000 |1.300.000,00|\n|--------|---------------|---------|-----|------------|\n|TOTAL   |               |         |     |1.300.000,00|\n|________|_______________|_________|_____|____________| * tabela formatada pela equipe técnica do LeisMunicipais.com.br\nArt. 3ºFica a Contabilidade Municipal autorizada a efetuar os registros contábeis necessários ao cumprimento deste Decreto.\n\nArt. 4ºEste Decreto entra em vigor na data da sua publicação.\n\nGabinete do Prefeito Municipal, 12 de junho de 2013.\n\nJOSÉ RONALDO DE CARVALHO\nPrefeito Municipal\n\n\nCOMPARACAO UTILIZANDO TF-IDF:\n\n\n- - - LEI: 61: - - -\n\n\nO PREFEITO MUNICIPAL DE FEIRA DE SANTANA, Estado da Bahia, no uso de suas atribuições legais e com base na autorização contida na Lei Nº3.350, de 11 de dezembro de 2012, artigo 6º, § 1º, DECRETA:\n\nArt. 1ºFica aberto Crédito Suplementar ao Orçamento do Município no valor de R$ 220.000,00 (duzentos e vinte mil reais), conforme detalhamento abaixo:__________________________________________________\n| CLASS.|  PROGRAMÁTICA |ECONÔMICA|FONTE|VALOR (R$)|\n| INST. |               |         |     |          |\n|=======|===============|=========|=====|==========|\n|14.1414|23.692.022.2102|3.1.90.13| 0000| 30.000,00|\n|-------|---------------|---------|-----|----------|\n|14.1414|23.691.022.2109|3.3.90.39| 0000|190.000,00|\n|-------|---------------|---------|-----|----------|\n|       |               |         |TOTAL|220.000,00|\n|_______|_______________|_________|_____|__________| * tabela formatada pela equipe técnica do LeisMunicipais.com.br\nArt. 2ºOs recursos disponíveis para acorrer às despesas decorrentes do presente crédito suplementar correrão à conta de anulações nas dotações abaixo detalhadas:__________________________________________________\n| CLASS.|  PROGRAMÁTICA |ECONÔMICA|FONTE|VALOR (R$)|\n| INST. |               |         |     |          |\n|=======|===============|=========|=====|==========|\n|14.1414|15.244.022.2148|3.3.90.30| 0000|220.000,00|\n|-------|---------------|---------|-----|----------|\n|       |               |         |TOTAL|220.000,00|\n|_______|_______________|_________|_____|__________| * tabela formatada pela equipe técnica do LeisMunicipais.com.br\nArt. 3ºFica a Contabilidade Municipal autorizada a efetuar os registros contábeis necessários ao cumprimento deste Decreto.\n\nArt. 4ºEste Decreto entra em vigor na data da sua publicação.\n\nGabinete do Prefeito Municipal, 13 de junho de 2013.\n\nJOSÉ RONALDO DE CARVALHO\nPrefeito Municipal\n\n\n- - - LEI COMPARADA: 114 - - -\n\n\nO PREFEITO MUNICIPAL DE FEIRA DE SANTANA, Estado da Bahia, no uso de suas atribuições legais e com base na autorização contida na Lei Nº3.350, de 11 de dezembro de 2012, art. 6º, § 1º, DECRETA:\n\nArt. 1ºFica aberto Crédito Suplementar ao Orçamento do Município no valor de R$ 130.000,00 (cento e trinta mil reais), conforme detalhamento abaixo:__________________________________________________\n| CLASS.|  PROGRAMÁTICA |ECONÔMICA|FONTE|VALOR (R$)|\n| INST. |               |         |     |          |\n|=======|===============|=========|=====|==========|\n|02.0228|14.122.001.2224|3.3.90.39| 0050|130.000,00|\n|-------|---------------|---------|-----|----------|\n|       |               |         |TOTAL|130.000,00|\n|_______|_______________|_________|_____|__________| * tabela formatada pela equipe técnica do LeisMunicipais.com.br\nArt. 2ºOs recursos disponíveis para acorrer às despesas decorrentes do presente crédito suplementar correrão à conta de anulações nas dotações abaixo detalhadas:__________________________________________________\n| CLASS.|  PROGRAMÁTICA |ECONÔMICA|FONTE|VALOR (R$)|\n| INST. |               |         |     |          |\n|=======|===============|=========|=====|==========|\n|02.0228|14.122.001.2224|3.3.90.39| 0000| 25.000,00|\n|-------|---------------|---------|-----|----------|\n|02.0228|14.122.002.2226|3.3.90.39| 0000|105.000,00|\n|-------|---------------|---------|-----|----------|\n|       |               |         |TOTAL|130.000,00|\n|_______|_______________|_________|_____|__________| * tabela formatada pela equipe técnica do LeisMunicipais.com.br\nArt. 3ºFica a Contabilidade Municipal autorizada a efetuar os registros contábeis necessários ao cumprimento deste Decreto.\n\nArt. 4ºEste Decreto entra em vigor na data da sua publicação.\n\nGabinete do Prefeito Municipal, 26 de março de 2013.\n\nJOSÉ RONALDO DE CARVALHO\nPrefeito Municipal\n"
          ]
        }
      ]
    },
    {
      "cell_type": "markdown",
      "metadata": {
        "id": "t4MMxx8J0UAl",
        "colab_type": "text"
      },
      "source": [
        "### Lei 1018\n",
        "Lei 1018 é sobre proibição de homenagens a condenados por corrupção. Count trouxe uma lei sobre tornar uma associação pública. TF-IDF trouxe uma lei sobre evento de comemoração de adoção animal. Todas duas erraram. TF-IDF chegou mais perto? Difícil dizer\n",
        "\n",
        "### Lei 5776\n",
        "Lei 5776 sobre pagamento servidor público. Count trouxe: leitura da bíblia na abertura da câmara. TF-IDF: aposentadoria diretor valor vencimento etc. Ambas as leis parecem ter sido trazidas como semelhantes pq dos nomes próprios contidos nas leis.\n",
        "\n",
        "### Lei 2789\n",
        "Lei 2789 (mil anos da revolução francesa) sobre obrigatoriedade de um servidor formado em primeiros socorros em escolas. Count: faço saber inkaba instituto de karate. TF-IDF: faço saber associação estrela jaco. Novamente as semelhanças são os nomes próprios nas leis.\n",
        "\n",
        "### Lei 1772\n",
        "Lei 1772: faço saber sindicato trabalhadores rurais. Count: faço saber associação profissionais sexo. TF-IDF: faço saber associação pequenos agricultures apaeb. A rua da sede é a mesma da lei comparada. \n",
        "\n",
        "TF-IDF se saiu melhor nessa. Os nomes das pessoas em Count eram os mesmos da Lei, mas em TF-IDF não. O fator decisivo aqui foi o nome da rua, que era o mesmo. Ponto pra TF-IDF.\n",
        "\n",
        "### Lei 503\n",
        "Lei 530: faço saber igreja ministerio pentecostal fogo gloria. rua volta redonda bairro campo limpo.\n",
        "Count: faço saber instituto nobre sede rodovia br km cis. nomes das pessoas iguais.\n",
        "TF-IDF: faço saber igreja evangelica pentecostal monte carmelo rua espassonavel bairro george americo. prefeitos diferentes.\n",
        "\n",
        "### Lei 4810\n",
        "Lei: comenda. nomes: godofredo rebell figueiredo filho, raymundo luiz oliveira lopes. \n",
        "Count: comenda. nomes: godofredo rebello figueiredo filho, nilton bellas vieira.\n",
        "TF-IDF: comenda. nomes: godofredo rebello figueiredo filho, raimundo antonio carneiro pinto.\n",
        "\n",
        "As duas acertaram. TF-iDF nome mais parecido? Não deve influenciar...\n",
        "\n",
        "### Lei 5238 \n",
        "Lei 5238: promulgação de novas vias públicas. A via por TF-IDF passa por mais ruas semelhantes.\n",
        "\n",
        "### Lei 5383\n",
        "Lei promulga academia de ginástica. Count: promulga empresas serviço funerario. TF-IDF: promulga novos aparelhos de ginástica.\n",
        "\n",
        "### Outras\n",
        "As outras leis eram: _visualizar legislativo ba_. Ambas trouxeram textos idênticos."
      ]
    },
    {
      "cell_type": "markdown",
      "metadata": {
        "id": "mwB0E6_80UAm",
        "colab_type": "text"
      },
      "source": [
        "Ok! Massa! Funciona!\n",
        "\n",
        "Pelos resultados acima, TF-IDF se saiu melhor. \n",
        "Inclusive pra retornar semelhança por nomes de ruas e de bairros, que é o que a gente quer pras buscas.\n",
        "\n",
        "Mesmo com 28k features, o resultado foi bastante rápido. \n",
        "Caso tivessemos um corpus maior, poderíamos ainda usar PCA pra reduzir as dimensões e ainda assim calcular a similaridade mantendo as relações entre os documentos."
      ]
    },
    {
      "cell_type": "markdown",
      "metadata": {
        "id": "ipPoW9DQ0UAn",
        "colab_type": "text"
      },
      "source": [
        "## Outras opções\n",
        "### Indexar\n",
        "Há outras formas de indexar os documentos e de recuperar, também simples. Uma outra forma de indexar, por exemplo, é fazer um vetor pra cada palavra contando as palavras vizinhas. E depois, o vetor do documento seria a soma dos vetores das palavras. É uma forma interessante porque pode gerar visualizações interessantes entre a similaridade das palavras. Por exemplo, no corpus das Leis Municipais, a quais palavras EDUCAÇÃO mais se assemelha? Ou SAÚDE? Etc.\n",
        "\n",
        "Outra forma é contar n-gramas - por exemplo, bi-gramas: duas palavras juntas formando um token. Dessa forma, você possui uma matriz maior e de certa forma uma relação entre a sequencialidade das palavras, que pode ser útil pra nomes de pessoas e bairros, como citado acima.\n",
        "\n",
        "### Recuperar\n",
        "Outra forma de recuperar é por local sensitive hashing. Divide em vários planos múltiplas vezes e retorna os resultados que estão na mesma região da query. No entanto, o corpus não é grande o suficiente pra precisar essa estratégia, que é mais pra grandes corpora. O método acima (calcular a simlaridade cosseno e retornar os maiores valores) é rápido o suficiente pra parecer instantâneo. Talvez com uma demanda mais alta pelo servidor venha a necessidade de aumentar a velocidade da busca, porém por enquanto não é o caso. Mais sobre recuperação: Google lançou novo método e uma lib pra isso agora, dia 28 de Julho: https://ai.googleblog.com/2020/07/announcing-scann-efficient-vector.html\n",
        "\n",
        "### Avaliação\n",
        "Com múltiplas formas de indexar e recuperar vem o dilema: como avaliar se uma é melhor que a outra? Repetir o processo acima pra todas as opções? Isto é, mostrar N melhores resultados e comparar manualmente? Ou colocar labels em algumas leis? Ex: essa lei trata disso, com tais entidades. Checar formas de avaliação. Se tivesse em produção, podia avaliar por CTR por ex, mas não é o caso"
      ]
    },
    {
      "cell_type": "code",
      "metadata": {
        "tags": [],
        "id": "wS-15fVG0UAn",
        "colab_type": "code",
        "colab": {
          "base_uri": "https://localhost:8080/",
          "height": 52
        },
        "outputId": "53ce1ce4-ac2c-40fd-afae-d1b2dd1c7203"
      },
      "source": [
        "# Descrevendo a palavra pelos seus vizinhos\n",
        "texto_limpo = ' '.join(leis['texto_limpo'].tolist())\n",
        "texto_limpo = texto_limpo.split()\n",
        "palavras_unicas = set(texto_limpo)\n",
        "print(len(texto_limpo))\n",
        "len(palavras_unicas)"
      ],
      "execution_count": 27,
      "outputs": [
        {
          "output_type": "stream",
          "text": [
            "972616\n"
          ],
          "name": "stdout"
        },
        {
          "output_type": "execute_result",
          "data": {
            "text/plain": [
              "28875"
            ]
          },
          "metadata": {
            "tags": []
          },
          "execution_count": 27
        }
      ]
    },
    {
      "cell_type": "code",
      "metadata": {
        "id": "VTXaa1WD0UAr",
        "colab_type": "code",
        "colab": {}
      },
      "source": [
        "# Transformar nosso set pra um dicionário de indices\n",
        "idx_palavras = {}\n",
        "for i, palavra in enumerate(palavras_unicas):\n",
        "    idx_palavras[palavra] = i"
      ],
      "execution_count": 28,
      "outputs": []
    },
    {
      "cell_type": "code",
      "metadata": {
        "id": "fIXTyXpb0UAv",
        "colab_type": "code",
        "colab": {
          "base_uri": "https://localhost:8080/",
          "height": 139
        },
        "outputId": "c6ea58f9-5618-47be-e21f-9b4a08279546"
      },
      "source": [
        "# Criando matriz do embedding\n",
        "vetores = np.zeros((len(palavras_unicas), len(palavras_unicas)), dtype=np.int16)\n",
        "vetores"
      ],
      "execution_count": 29,
      "outputs": [
        {
          "output_type": "execute_result",
          "data": {
            "text/plain": [
              "array([[0, 0, 0, ..., 0, 0, 0],\n",
              "       [0, 0, 0, ..., 0, 0, 0],\n",
              "       [0, 0, 0, ..., 0, 0, 0],\n",
              "       ...,\n",
              "       [0, 0, 0, ..., 0, 0, 0],\n",
              "       [0, 0, 0, ..., 0, 0, 0],\n",
              "       [0, 0, 0, ..., 0, 0, 0]], dtype=int16)"
            ]
          },
          "metadata": {
            "tags": []
          },
          "execution_count": 29
        }
      ]
    },
    {
      "cell_type": "code",
      "metadata": {
        "id": "3oDi3dF-0UAx",
        "colab_type": "code",
        "colab": {
          "base_uri": "https://localhost:8080/",
          "height": 139
        },
        "outputId": "d01c813c-0421-44ad-d3e4-da2b0ed6be7d"
      },
      "source": [
        "# Definir ate qual distancia utilizar\n",
        "vizinhanca = 2\n",
        "for idx, palavra in enumerate(texto_limpo):\n",
        "    for i in range(1, vizinhanca):\n",
        "        pal_vizinha = texto_limpo[idx+i]\n",
        "\n",
        "        idx_pal = idx_palavras[palavra]\n",
        "        idx_vizinha = idx_palavras[pal_vizinha]\n",
        "\n",
        "        vetores[idx_pal, idx_vizinha] += 1\n",
        "        vetores[idx_vizinha, idx_pal] += 1\n",
        "    if (idx == len(texto_limpo) - vizinhanca):\n",
        "        break\n",
        "vetores"
      ],
      "execution_count": 30,
      "outputs": [
        {
          "output_type": "execute_result",
          "data": {
            "text/plain": [
              "array([[0, 0, 0, ..., 0, 0, 0],\n",
              "       [0, 0, 0, ..., 0, 0, 0],\n",
              "       [0, 0, 0, ..., 0, 0, 0],\n",
              "       ...,\n",
              "       [0, 0, 0, ..., 0, 0, 0],\n",
              "       [0, 0, 0, ..., 0, 0, 0],\n",
              "       [0, 0, 0, ..., 0, 0, 0]], dtype=int16)"
            ]
          },
          "metadata": {
            "tags": []
          },
          "execution_count": 30
        }
      ]
    },
    {
      "cell_type": "code",
      "metadata": {
        "id": "Q2Oyjsnw0UA2",
        "colab_type": "code",
        "colab": {
          "base_uri": "https://localhost:8080/",
          "height": 52
        },
        "outputId": "174fbe2d-9bcf-421c-c4f9-29091f5bf968"
      },
      "source": [
        "# Matriz tem que ser espassa, se não na hora de calcular\n",
        "# similaridade gasta muita memoria\n",
        "\n",
        "from scipy.sparse import csr_matrix\n",
        "vetores = csr_matrix(vetores)\n",
        "vetores"
      ],
      "execution_count": 31,
      "outputs": [
        {
          "output_type": "execute_result",
          "data": {
            "text/plain": [
              "<28875x28875 sparse matrix of type '<class 'numpy.int16'>'\n",
              "\twith 658329 stored elements in Compressed Sparse Row format>"
            ]
          },
          "metadata": {
            "tags": []
          },
          "execution_count": 31
        }
      ]
    },
    {
      "cell_type": "code",
      "metadata": {
        "id": "arG4D1Vv0UA5",
        "colab_type": "code",
        "colab": {
          "base_uri": "https://localhost:8080/",
          "height": 52
        },
        "outputId": "2fc4f7fd-c656-4522-a092-6067909f7dd2"
      },
      "source": [
        "# Ok, temos nossas representacoes pras palavras\n",
        "# Como um teste de sanidade, vamos ver \n",
        "# as palavras mais proximas de 10 palavras aleatorias\n",
        "cos_sim_palavras = cosine_similarity(vetores, dense_output=False)\n",
        "cos_sim_palavras\n"
      ],
      "execution_count": 32,
      "outputs": [
        {
          "output_type": "execute_result",
          "data": {
            "text/plain": [
              "<28875x28875 sparse matrix of type '<class 'numpy.float64'>'\n",
              "\twith 76446099 stored elements in Compressed Sparse Row format>"
            ]
          },
          "metadata": {
            "tags": []
          },
          "execution_count": 32
        }
      ]
    },
    {
      "cell_type": "code",
      "metadata": {
        "tags": [],
        "id": "6XKVcQWK0UA_",
        "colab_type": "code",
        "colab": {
          "base_uri": "https://localhost:8080/",
          "height": 34
        },
        "outputId": "47a9d847-1c59-4256-8cf2-8a722f8aea99"
      },
      "source": [
        "# palavras_semelhantes = np.asanyarray(cos_sim_palavras)\n",
        "# palavras_semelhantes = np.argsort(palavras_semelhantes, axis=1)\n",
        "# palavras_semelhantes = np.sort(cos_sim_palavras)\n",
        "palavras_semelhantes = np.argsort(cos_sim_palavras[0].toarray())\n",
        "palavras_semelhantes"
      ],
      "execution_count": 33,
      "outputs": [
        {
          "output_type": "execute_result",
          "data": {
            "text/plain": [
              "array([[14437, 18921, 18920, ..., 14528, 14974,     0]])"
            ]
          },
          "metadata": {
            "tags": []
          },
          "execution_count": 33
        }
      ]
    },
    {
      "cell_type": "code",
      "metadata": {
        "tags": [],
        "id": "cX8aNaJt0UBD",
        "colab_type": "code",
        "colab": {
          "base_uri": "https://localhost:8080/",
          "height": 1000
        },
        "outputId": "03f6f0b3-3df3-4db6-cad9-d55a30b4bda2"
      },
      "source": [
        "idx_palavras_rand = np.random.randint(len(palavras_unicas), size=10)\n",
        "\n",
        "def mostra_palavras_semelhantes(idx: int, semelhantes: list, lista_palavras: list):\n",
        "    pal = lista_palavras[idx]\n",
        "    print(f'Lista de palavras semelhantes a {pal} - {idx}:')\n",
        "    for i in semelhantes:\n",
        "        pal = lista_palavras[i]\n",
        "        print(f'{pal} - {i}')\n",
        "    print('\\n- - - - - \\n\\n')\n",
        "\n",
        "lista_palavras = list(idx_palavras.keys())\n",
        "for idx in idx_palavras_rand:\n",
        "    palavras_semelhantes = np.argsort(cos_sim_palavras[idx].toarray())\n",
        "    semelhantes = palavras_semelhantes[0][-10:-1]\n",
        "    mostra_palavras_semelhantes(idx, semelhantes, lista_palavras)"
      ],
      "execution_count": 34,
      "outputs": [
        {
          "output_type": "stream",
          "text": [
            "Lista de palavras semelhantes a funerais - 3755:\n",
            "rela - 25787\n",
            "oe - 18886\n",
            "volumosa - 28313\n",
            "diligenciando - 3698\n",
            "equipando - 22118\n",
            "aerofotogrametria - 22416\n",
            "sondagem - 13553\n",
            "portico - 2178\n",
            "adjudicacoes - 13209\n",
            "\n",
            "- - - - - \n",
            "\n",
            "\n",
            "Lista de palavras semelhantes a eeg - 4993:\n",
            "concorrentemente - 744\n",
            "discordancia - 27422\n",
            "consorciar - 9462\n",
            "estimulaa - 10918\n",
            "instrumen - 21973\n",
            "usada - 13383\n",
            "paramentos - 12168\n",
            "estimulacao - 1754\n",
            "televisores - 7262\n",
            "\n",
            "- - - - - \n",
            "\n",
            "\n",
            "Lista de palavras semelhantes a estomologia - 7844:\n",
            "laboratorial - 22997\n",
            "terapeutico - 3229\n",
            "turma - 12594\n",
            "compondo - 3565\n",
            "imagem - 11763\n",
            "radioisotopos - 1179\n",
            "neonatal - 26241\n",
            "socioterritorial - 27798\n",
            "estomologia - 7844\n",
            "\n",
            "- - - - - \n",
            "\n",
            "\n",
            "Lista de palavras semelhantes a digitalizada - 16781:\n",
            "base - 16268\n",
            "regras - 4471\n",
            "implantar - 4372\n",
            "restituicao - 4335\n",
            "aeronaves - 4581\n",
            "visual - 5228\n",
            "comprometer - 20083\n",
            "aero - 12379\n",
            "ifr - 4252\n",
            "\n",
            "- - - - - \n",
            "\n",
            "\n",
            "Lista de palavras semelhantes a providencias - 8126:\n",
            "estatuindo - 7324\n",
            "repassa - 11663\n",
            "procuracoes - 1967\n",
            "recuperativo - 26395\n",
            "findas - 2218\n",
            "licenciamentos - 16956\n",
            "julgarem - 12444\n",
            "previdencias - 28848\n",
            "medidas - 7705\n",
            "\n",
            "- - - - - \n",
            "\n",
            "\n",
            "Lista de palavras semelhantes a expedidas - 12144:\n",
            "dirimidos - 11998\n",
            "aplicados - 727\n",
            "revistos - 5391\n",
            "revertidos - 25631\n",
            "escolhidos - 16777\n",
            "anotados - 18337\n",
            "computadas - 5637\n",
            "aplicadas - 14584\n",
            "resolvidos - 4845\n",
            "\n",
            "- - - - - \n",
            "\n",
            "\n",
            "Lista de palavras semelhantes a litro - 6466:\n",
            "seletivos - 24404\n",
            "vocacional - 4249\n",
            "alcoolico - 12102\n",
            "bafometro - 10838\n",
            "falcemia - 16472\n",
            "mancha - 10278\n",
            "orelhinha - 26284\n",
            "afoicamento - 10543\n",
            "pezinho - 28146\n",
            "\n",
            "- - - - - \n",
            "\n",
            "\n",
            "Lista de palavras semelhantes a faltante - 18618:\n",
            "frequentes - 25716\n",
            "tributar - 26839\n",
            "conter - 27466\n",
            "autorizado - 8909\n",
            "judiciario - 9167\n",
            "exorbitem - 20702\n",
            "sanciona - 16891\n",
            "autorizante - 15321\n",
            "concedente - 10461\n",
            "\n",
            "- - - - - \n",
            "\n",
            "\n",
            "Lista de palavras semelhantes a territorios - 2946:\n",
            "autografas - 5972\n",
            "negarem - 10229\n",
            "consolidara - 12614\n",
            "cic - 16308\n",
            "cronogramas - 12846\n",
            "carteira - 12230\n",
            "receituarios - 8543\n",
            "suplentes - 20211\n",
            "reconstruindo - 13631\n",
            "\n",
            "- - - - - \n",
            "\n",
            "\n",
            "Lista de palavras semelhantes a marcelino - 77:\n",
            "galena - 20833\n",
            "dumont - 26360\n",
            "reginaldo - 1007\n",
            "herminio - 12105\n",
            "josafa - 624\n",
            "domitilia - 21733\n",
            "camilo - 13497\n",
            "aethur - 15133\n",
            "leoncio - 23128\n",
            "\n",
            "- - - - - \n",
            "\n",
            "\n"
          ],
          "name": "stdout"
        }
      ]
    },
    {
      "cell_type": "markdown",
      "metadata": {
        "id": "zaHPf6bo0UBG",
        "colab_type": "text"
      },
      "source": [
        "Neste corpus, pra algumas palavras, a hipótese distribucional parece funcionar bem, pra outras nem tanto, pra outras não funciona.\n",
        "\n",
        "Semelhantes a \"outorgar\" temos: \"permutar\", \"editar\", \"contratar\", \"doar\", \"conceder\", \"dispensar\", \"celebrar\", \"subscrever\", \"proibir\". Embora a semântica (significado) não seja necessariamente próxima, todas as palavras são verbos, então a sintaxe é próxima. Semelhantes a \"ibitita\": \"axixa\", \"ibirarema\", \"peritoro\", \"piracaia\", \"igarata\", \"erechim\", \"itaperuna\", \"piata\", \"vandinha\". Todos parecem nomes de locais.\n",
        "\n",
        "Existem casos horríveis. Semelhantes à \"coesao\" temos: \"sedeso\", \"his\", \"ctps\", \"zeis\", \"pnas\", \"cgfmhis\", \"snhis\", \"acemas\". O que significam essas palavras? Talvez seja útil melhorar a qualidade do pré-processamento pra melhorar na indexação. Semelhantes à \"separando\" temos: \"agrossilvopastoris\", \"cemiteriais\", \"solidos\", \"molhados\", \"domiciliares\", \"volumosos\", \"baldios\", \"antecedencia\", \"dimensao\".\n",
        "\n",
        "Há casos mistos. Semelhantes `a \"trasporte\" (note o erro) temos: \"meia\" (talvez meia passagem?), \"transporte\" (a palavra correta aparece em segundo), \"roletas\", \"vala\" (?), \"trafegos\", \"convencional\" (?), \"edificar\" (?), \"passageiros\", \"fretado\".\n",
        "\n",
        "Talvez o corpus seja pequeno demais pra encontrar as relações entre as palavras só contando? Há de se testar se não é melhor então trabalhar com vetores de palavras, mesmo aprendidos em um corpus pequeno. Segundo o paper \"Don't count, predict! a systematic comparison of context-counting vs. context-predicting semantic vectors (2014) - Baroni, Dinu, Kruszeweski\", predizer é melhor que contar. Há de se testar se neste nosso contexto isso também se verifica.\n",
        "\n",
        "Por hora, vamos testar se a busca melhora ou não utilizando as palavras. Então vamos construir a representação das leis.\n",
        "\n",
        "# Construindo representação das leis com base na hipotese distribucional"
      ]
    },
    {
      "cell_type": "markdown",
      "metadata": {
        "id": "O7VoHo8x06hr",
        "colab_type": "text"
      },
      "source": [
        ""
      ]
    },
    {
      "cell_type": "code",
      "metadata": {
        "tags": [],
        "id": "FLTahner0UBH",
        "colab_type": "code",
        "colab": {
          "base_uri": "https://localhost:8080/",
          "height": 139
        },
        "outputId": "97f30ae5-a27a-4fa9-b364-204bd621b71d"
      },
      "source": [
        "# Cada lei vai ser a soma dos vetores de suas palavras\n",
        "# Usando np.zeros gasta muita memoria, mas csr_matrix eh muito lento\n",
        "leis_vetores_palavras = np.zeros((len(leis['texto_limpo']), vetores.shape[1]))\n",
        "for idx, lei in enumerate(leis['texto_limpo']):\n",
        "    for palavra in lei.split():\n",
        "        idx_palavra = idx_palavras[palavra]\n",
        "        leis_vetores_palavras[idx] += vetores[idx_palavra]\n",
        "leis_vetores_palavras"
      ],
      "execution_count": 35,
      "outputs": [
        {
          "output_type": "execute_result",
          "data": {
            "text/plain": [
              "array([[ 1.,  0.,  4., ...,  0.,  0.,  0.],\n",
              "       [ 0.,  0.,  0., ...,  0.,  0.,  0.],\n",
              "       [ 2., 12.,  0., ...,  0.,  0.,  0.],\n",
              "       ...,\n",
              "       [ 0.,  6.,  0., ...,  0.,  0.,  0.],\n",
              "       [ 0., 21.,  0., ...,  0.,  0.,  0.],\n",
              "       [ 0., 33., 17., ...,  0.,  0.,  0.]])"
            ]
          },
          "metadata": {
            "tags": []
          },
          "execution_count": 35
        }
      ]
    },
    {
      "cell_type": "code",
      "metadata": {
        "id": "DU1T1aya26Ss",
        "colab_type": "code",
        "colab": {}
      },
      "source": [
        "vetores_similaridade = cosine_similarity(leis_vetores_palavras)"
      ],
      "execution_count": 36,
      "outputs": []
    },
    {
      "cell_type": "code",
      "metadata": {
        "id": "oK2ZpkXI3Dh4",
        "colab_type": "code",
        "colab": {}
      },
      "source": [
        "mais_semelhantes_vetores = [idx for idx in np.argsort(vetores_similaridade)[:,-2]]"
      ],
      "execution_count": 37,
      "outputs": []
    },
    {
      "cell_type": "code",
      "metadata": {
        "id": "yIpgoJqA3u0O",
        "colab_type": "code",
        "colab": {
          "base_uri": "https://localhost:8080/",
          "height": 34
        },
        "outputId": "7bbd5953-0041-482c-99e0-a56eccc8ffc6"
      },
      "source": [
        "# Diferenca de vetores pra TFIDF eh bem maior.\n",
        "# Vamos samplear algumas dessas diferencas e \n",
        "# mostrar uma lei q tanto TFIDF como Count erraram\n",
        "diferencas_TFIDF = (mais_semelhantes_vetores != max_sim_idx_tfidf)\n",
        "sum(diferencas_TFIDF)"
      ],
      "execution_count": 42,
      "outputs": [
        {
          "output_type": "execute_result",
          "data": {
            "text/plain": [
              "5163"
            ]
          },
          "metadata": {
            "tags": []
          },
          "execution_count": 42
        }
      ]
    },
    {
      "cell_type": "code",
      "metadata": {
        "id": "wOwOOGp-4ICI",
        "colab_type": "code",
        "colab": {
          "base_uri": "https://localhost:8080/",
          "height": 1000
        },
        "outputId": "88b3084f-d0ab-4a29-eb06-a42862fcf15a"
      },
      "source": [
        "sorteadas = np.random.randint(len(diferencas_TFIDF), size=10)\n",
        "for i in sorteadas:\n",
        "    if diferencas_TFIDF[i]:\n",
        "        print(f'\\n\\nLei numero {i}\\nPAR UTILIZANDO VETOR:\\n\\n')\n",
        "        print_lei_mais_sem(i, mais_semelhantes_vetores[i])\n",
        "        print('\\n\\nPAR UTILIZANDO TF-IDF:\\n\\n')\n",
        "        print_lei_mais_sem(i, max_sim_idx_tfidf[i])"
      ],
      "execution_count": 43,
      "outputs": [
        {
          "output_type": "stream",
          "text": [
            "\n",
            "\n",
            "Lei numero 3366\n",
            "PAR UTILIZANDO VETOR:\n",
            "\n",
            "\n",
            "- - - LEI COMPARADA 3366: - - -\n",
            "\n",
            "\n",
            "O PREFEITO MUNICIPAL DE FEIRA DE SANTANA, Estado da Bahia, FAÇO saber que a Câmara Municipal, através do Projeto de Lei nº 5/2014, de autoria da Edil Gerusa Maria Bastos Sampaio, decretou e eu sanciono a seguinte Lei:\n",
            "\n",
            "Art. 1ºFica considerado de utilidade pública o PROJETO IRMÃO SOLIDÁRIO - PROISO, com sede localizada à Rua Estrela do Sul, nº 200, Conjunto Stella Maria, no Bairro Muchila I, neste Município de Feira de Santana.\n",
            "\n",
            "Art. 2ºEsta Lei entrará em vigor na data de sua publicação, revogadas as disposições em contrário.\n",
            "\n",
            "Gabinete do Prefeito, 19 de Março de 2014.\n",
            "\n",
            "JOSÉ RONALDO DE CARVALHO\n",
            "Prefeito\n",
            "\n",
            "MÁRIO COSTA BORGES\n",
            "Chefe de Gabinete do Prefeito\n",
            "\n",
            "Autor: Gerusa Maria Bastos Sampaio\n",
            "\n",
            "\n",
            "- - - LEI MAIS SEMELHANTE 2145 - - -\n",
            "\n",
            "\n",
            "O PREFEITO MUNCIPAL DE FEIRA DE SANTANA, Estado da Bahia, FAÇO saber que a Câmara Municipal, através do Projeto de Lei nº 135/2013, de autoria da Edil Gerusa Maria Bastos Sampaio, decretou e eu sanciono a seguinte Lei:\n",
            "\n",
            "Art. 1ºFica considerada de utilidade pública a ENTIDADE BENEFICENTE BETEL, com sede na Rua Ibituba, nº 06, Bairro da Mangabeira, neste Município de Feira de Santana.\n",
            "\n",
            "Art. 2ºEsta Lei entrará em vigor na data de sua publicação, revogadas as disposições em contrário.\n",
            "\n",
            "Gabinete do Prefeito, 27 de Fevereiro de 2014.\n",
            "\n",
            "JOSÉ RONALDO DE CARVALHO\n",
            "Prefeito\n",
            "\n",
            "MÁRIO COSTA BORGES\n",
            "Chefe de Gabinete do Prefeito\n",
            "\n",
            "Autor: Gerusa Maria Bastos Sampaio\n",
            "\n",
            "\n",
            "PAR UTILIZANDO TF-IDF:\n",
            "\n",
            "\n",
            "- - - LEI COMPARADA 3366: - - -\n",
            "\n",
            "\n",
            "O PREFEITO MUNICIPAL DE FEIRA DE SANTANA, Estado da Bahia, FAÇO saber que a Câmara Municipal, através do Projeto de Lei nº 5/2014, de autoria da Edil Gerusa Maria Bastos Sampaio, decretou e eu sanciono a seguinte Lei:\n",
            "\n",
            "Art. 1ºFica considerado de utilidade pública o PROJETO IRMÃO SOLIDÁRIO - PROISO, com sede localizada à Rua Estrela do Sul, nº 200, Conjunto Stella Maria, no Bairro Muchila I, neste Município de Feira de Santana.\n",
            "\n",
            "Art. 2ºEsta Lei entrará em vigor na data de sua publicação, revogadas as disposições em contrário.\n",
            "\n",
            "Gabinete do Prefeito, 19 de Março de 2014.\n",
            "\n",
            "JOSÉ RONALDO DE CARVALHO\n",
            "Prefeito\n",
            "\n",
            "MÁRIO COSTA BORGES\n",
            "Chefe de Gabinete do Prefeito\n",
            "\n",
            "Autor: Gerusa Maria Bastos Sampaio\n",
            "\n",
            "\n",
            "- - - LEI MAIS SEMELHANTE 1060 - - -\n",
            "\n",
            "\n",
            "O PREFEITO MUNICIPAL DE FEIRA DE SANTANA, Estado da Bahia, Faço Saber que a Câmara Municipal, através do Projeto de Lei nº 25/2017, de autoria da Edil Gerusa Maria Bastos Silva Sampaio, decretou e eu sanciono a seguinte Lei:\n",
            "\n",
            "Art. 1ºFica considerado de utilidade pública o SINDICATO DOS EMPREENDEDORES DE FEIRA DE SANTANA, com sede localizada no Conjunto Feira X, Bairro Muchila, neste Município de Feira de Santana.\n",
            "\n",
            "Art. 2ºEsta Lei entrará em vigor na data de sua publicação, revogadas as disposições em contrário.\n",
            "\n",
            "Gabinete do Prefeito, 03 de abril de 2017.\n",
            "\n",
            "JOSÉ RONALDO DE CARVALHO\n",
            "PREFEITO MUNICIPAL\n",
            "\n",
            "MARIO COSTA BORGES\n",
            "CHEFE DE GABINETE DO PREFEITO\n",
            "\n",
            "CLEUDSON SANTOS ALMEIDA\n",
            "PROCURADOR GERAL DO MUNICÍPIO\n",
            "\n",
            "PUBLICADO NO DIÁRIO OFICIAL ELETRÔNICO DIA 05 DE ABRIL DE 2017.\n",
            "\n",
            "\n",
            "Lei numero 3439\n",
            "PAR UTILIZANDO VETOR:\n",
            "\n",
            "\n",
            "- - - LEI COMPARADA 3439: - - -\n",
            "\n",
            "\n",
            "O PREFEITO MUNICIPAL DE FEIRA DE SANTANA, Estado da Bahia, FAÇO saber que a Câmara Municipal, através do Projeto de Lei nº 181/2017, de autoria do Edil José Carneiro da Rocha, decretou e eu sanciono a seguinte Lei:\n",
            "\n",
            "Art. 1ºFica incluído no Calendário Oficial de Festas Populares, ou de Eventos do Município de Feira de Santana, a Festa do Padroeiro e a Cavalgada da Juventude do Povoado de Pé de Serra, que acontecem sempre no início do mês de outubro, o Dia do Padroeiro da Comunidade São Francisco de Assis que é 04 de outubro.\n",
            "\n",
            "Art. 2ºEsta Lei entrará em vigor na data de sua publicação, revogadas as disposições em contrário.\n",
            "\n",
            "Gabinete do Prefeito, 07 de novembro de 2017.\n",
            "\n",
            "JOSÉ RONALDO DE CARVALHO\n",
            "PREFEITO MUNICIPAL\n",
            "\n",
            "MARIO COSTA BORGES\n",
            "CHEFE DE GABINETE DO PREFEITO\n",
            "\n",
            "CLEUDSON SANTOS ALMEIDA\n",
            "PROCURADOR GERAL DO MUNICÍPIO\n",
            "\n",
            "PUBLICADO NO DIÁRIO OFICIAL ELETRÔNICO DIA 08 DE NOVEMBRO DE 2017.\n",
            "\n",
            "\n",
            "- - - LEI MAIS SEMELHANTE 3530 - - -\n",
            "\n",
            "\n",
            "O PREFEITO MUNICIPAL DE FEIRA DE SANTANA, Estado da Bahia, FAÇO saber que a Câmara Municipal, através do Projeto de Lei nº 97/2016, de autoria do Edil José Carneiro Rocha, decretou e eu sanciono a seguinte Lei:\n",
            "\n",
            "Art. 1ºFica instituído no Calendário Oficial do Municipal de Feira de Santana, o 2º domingo de fevereiro, como o Dia da Lavagem do Bairro Campo Limpo.\n",
            "\n",
            "Art. 2ºEsta Lei entrará em vigor na data de sua publicação, revogadas as disposições em contrário.\n",
            "\n",
            "Gabinete do Prefeito, 19 de dezembro de 2016.\n",
            "\n",
            "JOSÉ RONALDO DE CARVALHO\n",
            "PREFEITO MUNICIPAL\n",
            "\n",
            "MARIO COSTA BORGES\n",
            "CHEFE DE GABINETE DO PREFEITO\n",
            "\n",
            "CLEUDSON SANTOS ALMEIDA\n",
            "PROCURADOR GERAL DO MUNICÍPIO\n",
            "\n",
            "PUBLICADO NO DIÁRIO OFICIAL ELETRÔNICO DIA 20 DE DEZEMBRO DE 2016.\n",
            "\n",
            "\n",
            "PAR UTILIZANDO TF-IDF:\n",
            "\n",
            "\n",
            "- - - LEI COMPARADA 3439: - - -\n",
            "\n",
            "\n",
            "O PREFEITO MUNICIPAL DE FEIRA DE SANTANA, Estado da Bahia, FAÇO saber que a Câmara Municipal, através do Projeto de Lei nº 181/2017, de autoria do Edil José Carneiro da Rocha, decretou e eu sanciono a seguinte Lei:\n",
            "\n",
            "Art. 1ºFica incluído no Calendário Oficial de Festas Populares, ou de Eventos do Município de Feira de Santana, a Festa do Padroeiro e a Cavalgada da Juventude do Povoado de Pé de Serra, que acontecem sempre no início do mês de outubro, o Dia do Padroeiro da Comunidade São Francisco de Assis que é 04 de outubro.\n",
            "\n",
            "Art. 2ºEsta Lei entrará em vigor na data de sua publicação, revogadas as disposições em contrário.\n",
            "\n",
            "Gabinete do Prefeito, 07 de novembro de 2017.\n",
            "\n",
            "JOSÉ RONALDO DE CARVALHO\n",
            "PREFEITO MUNICIPAL\n",
            "\n",
            "MARIO COSTA BORGES\n",
            "CHEFE DE GABINETE DO PREFEITO\n",
            "\n",
            "CLEUDSON SANTOS ALMEIDA\n",
            "PROCURADOR GERAL DO MUNICÍPIO\n",
            "\n",
            "PUBLICADO NO DIÁRIO OFICIAL ELETRÔNICO DIA 08 DE NOVEMBRO DE 2017.\n",
            "\n",
            "\n",
            "- - - LEI MAIS SEMELHANTE 1562 - - -\n",
            "\n",
            "\n",
            "O PREFEITO MUNICIPAL DE FEIRA DE SANTANA, Estado da Bahia, FAÇO saber que a Câmara Municipal, através do Projeto de Lei nº 125/2018, de autoria do Edil Marcos Antonio dos Santos Lima, decretou e eu sanciono a seguinte Lei:\n",
            "\n",
            "Art. 1ºFica incluído no Calendário Oficial de Festas Populares ou de Eventos do Município de Feira de Santana, a FESTA MARCHA ZUMBI DOS PALMARES, no mês de novembro.\n",
            "\n",
            "Art. 2ºEsta Lei entrará em vigor na data de sua publicação, revogadas as disposições em contrário.\n",
            "\n",
            "Gabinete do Prefeito Municipal, 14 de setembro de 2018\n",
            "\n",
            "COLBERT MARTINS DA SILVA FILHO\n",
            "PREFEITO MUNICIPAL\n",
            "\n",
            "MARIO COSTA BORGES\n",
            "CHEFE DE GABINETE DO PREFEITO\n",
            "\n",
            "CLEUDSON SANTOS ALMEIDA\n",
            "PROCURADOR GERAL DO MUNICÍPIO\n",
            "\n",
            "PUBLICADO NO DIÁRIO OFICIAL DIA 15 DE SETEMBRO DE 2018\n",
            "\n",
            "\n",
            "Lei numero 1668\n",
            "PAR UTILIZANDO VETOR:\n",
            "\n",
            "\n",
            "- - - LEI COMPARADA 1668: - - -\n",
            "\n",
            "\n",
            "O PREFEITO MUNICIPAL DE FEIRA DE SANTANA, Estado da Bahia, FAÇO saber que a Câmara Municipal, através do Projeto de Lei nº 55/98, de autoria do Edil Antonio Francisco Neto, decretou e eu sanciono a seguinte Lei:\n",
            "\n",
            "Art. 1ºFica instituído no Município de Feira de Santana o Programa Municipal de Conservação e Melhoramento de Estradas Rurais, objetivando, manter as estradas em perfeitas condições de uso, de forma a garantir aos produtores rurais o transporte seguro dos insumos e safras agrícolas.\n",
            "\n",
            "Art. 2ºPara execução do Programa ora instituído caberá ao Poder Público Municipal:\n",
            "\n",
            "I - Zelar pelo sistema de drenagem das estradas visando:\n",
            "\n",
            "a) Proteger a pista de rolamento, impedindo que as águas pluviais corram diretamente sobre ela, mediante a manutenção de um abaulamento transversal de no mínimo 3% (três por cento);\n",
            "b) Diminuir a quantidade de água conduzida através da estrada, por meio de saídas laterais, passagens abertas e bueiros com espaçamento adequado, de forma a conduzir tecnicamente a água para fora do leito de estrada.\n",
            "\n",
            "II - Manter atualizados mapas cadastrais das estradas municipais e das jazidas de material utilizável na recuperação das estradas.\n",
            "\n",
            "Art. 3ºSão obrigações dos proprietários de imóveis adjacentes às estradas municipais:\n",
            "\n",
            "I - Executar as obras e serviços que impeçam as águas pluviais de atingirem as estradas;\n",
            "\n",
            "II - Evitar a dispersão ou o escoamento de excessos de água nas estradas municipais;\n",
            "\n",
            "III - Evitar qualquer dano no leito carroçável ou ao acostamento, bem como a retirada do material vegetal necessário a conservação e manutenção da estrada;\n",
            "\n",
            "IV - Evitar a obstrução ou dificultar a passagem das águas pluviais pelos canais de escoamento, abertos pelo Município ao longo das estradas.\n",
            "\n",
            "Art. 4ºAos infratores das disposições contidas nesta Lei serão aplicadas, na forma prevista em regulamento, as penalidades:\n",
            "\n",
            "I - Advertência;\n",
            "\n",
            "II - Multa de 50 a 100 (UFIR`s).\n",
            "\n",
            "Parágrafo Único - As penalidades acima referidas incidirão sobre autores; sejam eles arrendatários, parceiros, posseiros, gerentes, técnico responsável, administradores, Diretores, promitentes-compradores ou proprietários da área agro-silvo-pastoril, ainda que praticadas por prepostos ou subordinadas e no interesse dos proponentes ou superiores hierárquicos.\n",
            "\n",
            "Art. 5ºO Poder Executivo regulamentará a presente Lei no prazo de 60 (sessenta) dias a contar de sua publicação.\n",
            "\n",
            "Art. 6ºEsta Lei entrará em vigor na data de sua publicação, revogadas as disposições em contrário.\n",
            "\n",
            "Gabinete do Prefeito Municipal, 27 de agosto de 1998.\n",
            "\n",
            "CLAILTON COSTA MASCARENHAS\n",
            "Prefeito\n",
            "\n",
            "EVANGIVALDO DE FIGUEIREDO OLIVEIRA\n",
            "Chefe de Gabinete do Prefeito\n",
            "\n",
            "DATA DE PUBLICAÇÃO: 28/8/1998\n",
            "\n",
            "\n",
            "- - - LEI MAIS SEMELHANTE 2421 - - -\n",
            "\n",
            "\n",
            "O PREFEITO MUNICIPAL DE FEIRA DE SANTANA, ESTADO DA BAHIA, FAÇO saber que a Câmara Municipal decreta e eu sanciono a seguinte Lei:\n",
            "\n",
            "Art. 1ºFica o Poder Executivo Municipal autorizado a conceder anistia fiscal de obrigações tributárias relativas ao imposto sobre serviços de qualquer natureza nos moldes desta Lei.\n",
            "\n",
            "Art. 2ºA anistia compreenderá os valores atribuídos a título de multa, juros e de 50% (cinqüenta por cento) da correção monetária.\n",
            "\n",
            "Art. 3ºA anistia só poderá abranger os débitos liquidados em 30 (trinta) dias contados da publicação desta Lei.\n",
            "\n",
            "Parágrafo Único - O Executivo poderá prorrogar este prazo, por igual período, através de decreto.\n",
            "\n",
            "Art. 4ºIgualmente a anistia poderá abranger os valores relativos a tributos já inscritos na dívida ativa ou já acionados judicialmente.\n",
            "\n",
            "Art. 5ºEsta Lei entrará em vigor na data de sua publicação, revogadas as disposições em contrário.\n",
            "\n",
            "Gabinete do Prefeito Municipal, 29 de novembro de 1996.\n",
            "\n",
            "Profº. JOSÉ RAIMUNDO PEREIRA DE AZEVEDO\n",
            "Prefeito\n",
            "\n",
            "Profº. JORGE ANTONIO DE ARAÚJO CAZUMBÁ\n",
            "Chefe de Gabinete do Prefeito\n",
            "\n",
            "BEL. JÚLIO MARTINS DE OLIVEIRA NETO\n",
            "Secretário Municipal da Fazenda\n",
            "\n",
            "Autor: Poder Executivo\n",
            "Data da Publicação: 30/11/1996R\n",
            "\n",
            "\n",
            "PAR UTILIZANDO TF-IDF:\n",
            "\n",
            "\n",
            "- - - LEI COMPARADA 1668: - - -\n",
            "\n",
            "\n",
            "O PREFEITO MUNICIPAL DE FEIRA DE SANTANA, Estado da Bahia, FAÇO saber que a Câmara Municipal, através do Projeto de Lei nº 55/98, de autoria do Edil Antonio Francisco Neto, decretou e eu sanciono a seguinte Lei:\n",
            "\n",
            "Art. 1ºFica instituído no Município de Feira de Santana o Programa Municipal de Conservação e Melhoramento de Estradas Rurais, objetivando, manter as estradas em perfeitas condições de uso, de forma a garantir aos produtores rurais o transporte seguro dos insumos e safras agrícolas.\n",
            "\n",
            "Art. 2ºPara execução do Programa ora instituído caberá ao Poder Público Municipal:\n",
            "\n",
            "I - Zelar pelo sistema de drenagem das estradas visando:\n",
            "\n",
            "a) Proteger a pista de rolamento, impedindo que as águas pluviais corram diretamente sobre ela, mediante a manutenção de um abaulamento transversal de no mínimo 3% (três por cento);\n",
            "b) Diminuir a quantidade de água conduzida através da estrada, por meio de saídas laterais, passagens abertas e bueiros com espaçamento adequado, de forma a conduzir tecnicamente a água para fora do leito de estrada.\n",
            "\n",
            "II - Manter atualizados mapas cadastrais das estradas municipais e das jazidas de material utilizável na recuperação das estradas.\n",
            "\n",
            "Art. 3ºSão obrigações dos proprietários de imóveis adjacentes às estradas municipais:\n",
            "\n",
            "I - Executar as obras e serviços que impeçam as águas pluviais de atingirem as estradas;\n",
            "\n",
            "II - Evitar a dispersão ou o escoamento de excessos de água nas estradas municipais;\n",
            "\n",
            "III - Evitar qualquer dano no leito carroçável ou ao acostamento, bem como a retirada do material vegetal necessário a conservação e manutenção da estrada;\n",
            "\n",
            "IV - Evitar a obstrução ou dificultar a passagem das águas pluviais pelos canais de escoamento, abertos pelo Município ao longo das estradas.\n",
            "\n",
            "Art. 4ºAos infratores das disposições contidas nesta Lei serão aplicadas, na forma prevista em regulamento, as penalidades:\n",
            "\n",
            "I - Advertência;\n",
            "\n",
            "II - Multa de 50 a 100 (UFIR`s).\n",
            "\n",
            "Parágrafo Único - As penalidades acima referidas incidirão sobre autores; sejam eles arrendatários, parceiros, posseiros, gerentes, técnico responsável, administradores, Diretores, promitentes-compradores ou proprietários da área agro-silvo-pastoril, ainda que praticadas por prepostos ou subordinadas e no interesse dos proponentes ou superiores hierárquicos.\n",
            "\n",
            "Art. 5ºO Poder Executivo regulamentará a presente Lei no prazo de 60 (sessenta) dias a contar de sua publicação.\n",
            "\n",
            "Art. 6ºEsta Lei entrará em vigor na data de sua publicação, revogadas as disposições em contrário.\n",
            "\n",
            "Gabinete do Prefeito Municipal, 27 de agosto de 1998.\n",
            "\n",
            "CLAILTON COSTA MASCARENHAS\n",
            "Prefeito\n",
            "\n",
            "EVANGIVALDO DE FIGUEIREDO OLIVEIRA\n",
            "Chefe de Gabinete do Prefeito\n",
            "\n",
            "DATA DE PUBLICAÇÃO: 28/8/1998\n",
            "\n",
            "\n",
            "- - - LEI MAIS SEMELHANTE 5348 - - -\n",
            "\n",
            "\n",
            "CÂMARA MUNICIPAL DE FEIRA DE SANTANA DECRETA E PROMULGA A SEGUINTE LEI:\n",
            "\n",
            "\n",
            "CapítuloI\n",
            "DO CARÁTER E DOS FINS DO DEPARTAMENTO MUNICIPAL DE ESTRADAS DE RODAGEM.\n",
            "\n",
            "\n",
            "\n",
            "Art. 1ºFica criado o Departamento Municipal de Estradas de Rodagem (D.M.E.R), diretamente subordinada ao Prefeito Municipal e com autonomia administrativa e financeira, nos termos desta Lei.\n",
            "\n",
            "Art. 2ºAo D. M. E. R. compete:\n",
            "\n",
            "a) Elaborar o Plano Rodoviário Municipal e proceder à sua revisão periódica, de acordo com o Departamento Nacional de Estradas de Rodagem, de cinco em cinco anos pelo menos;\n",
            "b) Dar execução sistemática a esse plano, efetuando ou fiscalizando todos os serviços técnicos e administrativos concernentes a estudos, projetos, especificações, orçamentos, localização, construção e melhoramento das rodovias municipais;\n",
            "c) Conservar, permanentemente, as rodovias municipais;\n",
            "d) Exercer a polícia de tráfego nas rodovias municipais;\n",
            "e) Autorizar ou conceder e fiscalizar a exploração de serviços de transportes coletivo nas rodovias municipais, observando as condições técnicas estabelecidas pelo departamento Nacional de Estradas de Rodagem;\n",
            "f) Conceder licença para colocação de postes, anúncios, postos de gasolina e outras utilidades compatíveis com o local na faixa de domínio das rodovias municipais;\n",
            "g) Submeter à aprovação do Departamento Nacional de Estradas de Rodagem (5º D.R.F.), por intermédio do Prefeito, os planos de operação de crédito ou financeiras de qualquer natureza que tiverem de ser garantidas pela quota do Município no Fundo Rodoviário Nacional;\n",
            "h) Prestar, ao Departamento Nacional de Estradas de Rodagem (5º D.R.F.), contas pormenorizadas da aplicação integral, ao fim a que se destinam, das quotas do Fundo Rodoviário Nacional, recebidas no exercício anterior, acompanhadas de relatório sobre a execução do orçamento do citado exercício;\n",
            "i) Facilitar, ao Departamento Nacional de Estradas de Rodagem (5º D.R.F.), o conhecimento das atividades rodoviárias do Municipio, permitindo-lhe fiscalizar a perfeita observância das condições para o recebimento da quota de Fundo Rodoviário Nacional.\n",
            "j) Adotar as mesmas técnicas e administrativas, inclusive nomenclatura, vigorantes nos serviços dos departamentos Nacional e Estadual de Estradas de Rolagem;\n",
            "k) Manter-se em constante comunicação com o Departamento Nacional de Estradas de Rodagem (5º D.R.F.), dando-lhe pleno e imediato conhecimento da situação exata da Viação rodoviária municipal, inclusive das leis e demais disposições que a regulamentem ou venham a regulamentar;\n",
            "l) Estimular por todos os meios hábeis, a propaganda da Estrada de Rodagem, dando publicidade às atividades do D.M.E.R. e a estudos, sobre técnica, economia e administração de rodovias e demais assuntos relativos ao tráfego em estradas de rodagem.\n",
            "\n",
            "Parágrafo Único - Consideram-se rodovias municipais as estradas de rodagem compreendidas no Plano Rodoviário do Município.\n",
            "\n",
            "\n",
            "CapítuloII\n",
            "DA ORGANIZAÇÃO\n",
            "\n",
            "\n",
            "\n",
            "Art. 3ºO D.M.E.R. será dirigido,preferentemente, por um engenheiro civil nomeado, em comissão, pelo Prefeito.\n",
            "\n",
            "Parágrafo Único - A nomeação de que trata este artigo poderá recair em funcionário da Prefeitura.\n",
            "\n",
            "Art. 4ºA chefia do D.M.E.R. compete:\n",
            "\n",
            "a) Elaborar e submeter ao Prefeito os programas anuais e receptivos orçamentos;\n",
            "b) Dirigir e fiscalizar a execução desses programas;\n",
            "c) Informar o Prefeito sobre o andamento dos trabalhos do D.M.E.R. e prestar todas as informações solicitadas;\n",
            "d) Prestar contas, pormenorizadas, ao Prefeito, do emprego da receita do D.M.E.R.;\n",
            "e) Exercer as demais atribuições que lhe forem conferidas pelo Regimento Interno\n",
            "\n",
            "Art. 5ºPara atender às necessidades da presente lei, ficam criados os seguintes cargos:\n",
            "\n",
            "1 - Diretor - CC - Especial\n",
            "1 - Assistente de Diretor - CC2\n",
            "1 - Tesoureiro - nível 20\n",
            "1 - Escriturário - nível 11\n",
            "1 - Topógrafo - nível 20\n",
            "1 - Desenhista - nível 11\n",
            "1 - Nivelador - nível 11\n",
            "3 - Fiscais de Serviços Rodoviários - nível 11.\n",
            "\n",
            "\n",
            "CapítuloIII\n",
            "DA RECEITA DO D.M.E.R.\n",
            "\n",
            "\n",
            "\n",
            "Art. 6ºA receita do D.M.E.R. será constituída:\n",
            "\n",
            "a) Da quota que couber ao Município no Fundo Rodoviário Nacional;\n",
            "b) Da contribuição orçamentária do Municipio, em importância nunca inferior a 5% (cinco por cento) da receita gerais orçada, excluídas as rendas industriais;\n",
            "c) Do produto da contribuição de melhoria e de quaisquer taxas, multas ou licenças, cobradas pelo uso de rodovias nacionais ou das suas faixas de domínio;\n",
            "d) De créditos especiais;\n",
            "e) Das demais rendas que por sua natureza ou disposição especial devam competir ao D.M.E.R...\n",
            "\n",
            "Art. 7ºOs recursos mencionados no artigo anterior, recebidos por quem de direito, serão depositados em conta especial do D.M.E.R.\n",
            "\n",
            "Parágrafo Único - A contribuição do Município será depositada na mesma conta bancaria, por duodécimo até o dia 13 (treze) de cada mês.\n",
            "\n",
            "Art. 8ºA quota do Fundo Rodoviário deverá ser depositada em Banco como conta a parte das demais fontes de receita do D.M.E.R..\n",
            "\n",
            "Art. 9ºSomente o Tesoureiro poderá sacar numerário pertencente ao Departamento, em documento que deverá ser assinado, também pelo Diretor.\n",
            "\n",
            "\n",
            "CapítuloIV\n",
            "DISPOSIÇÕES GERAIS E TRANSITÒRIAS\n",
            "\n",
            "\n",
            "\n",
            "Art. 10As dúvidas e omissões desta Lei serão resolvidas pelo Prefeito Municipal.\n",
            "\n",
            "Art. 11Dentro de cento e vinte (120) dias o Prefeito baixará o Regimento Interno do D.M.E.R..\n",
            "\n",
            "Art. 12Esta Lei entrará em vigor na data da sua publicação revogadas as disposições em contrário.\n",
            "\n",
            "PUBLIQUE-SE.\n",
            "\n",
            "SALA das Sessões da Câmara Municipal de Feira de Santana, Em 29 de abril de 1966.\n",
            "\n",
            "PAULO ALMEIDA CORDEIRO\n",
            "PRESIDENTE\n",
            "\n",
            "Autor: Hugo Navarro da Silva\n",
            "DATA DE PUBLICAÇÃO: 29/04/1966\n",
            "\n",
            "\n",
            "Lei numero 652\n",
            "PAR UTILIZANDO VETOR:\n",
            "\n",
            "\n",
            "- - - LEI COMPARADA 652: - - -\n",
            "\n",
            "\n",
            "Autor: Fábio Fernandes de Moraes Lucena\n",
            "\n",
            "O PREFEITO MUNICIPAL DE FEIRA DE SANTANA, Estado da Bahia; FAÇO saber que a Câmara Municipal através do Projeto de Lei nº 173/2007, de autoria do Edil Fábio Fernandes de Moraes Lucena, decretou e eu sanciono a seguinte Lei:\n",
            "\n",
            "Art. 1ºFica considerada de utilidade pública a LOJA MAÇÔNICA LUZ E FRATERNIDADE, com sede na Avenida Getúlio Vargas nº 639, neste Município de Feira de Santana.\n",
            "\n",
            "Art. 2ºEsta Lei entrará em vigor na data de sua publicação, revogadas as disposições em contrário.\n",
            "\n",
            "PREFEITURA MUNICIPAL DE FEIRA DE SANTANA, em 12 de Dezembro de 2007.\n",
            "\n",
            "JOSÉ RONALDO DE CARVALHO\n",
            "Prefeito\n",
            "\n",
            "\n",
            "- - - LEI MAIS SEMELHANTE 1413 - - -\n",
            "\n",
            "\n",
            "Autor: Fábio Fernandes de Moraes Lucena\n",
            "\n",
            "O PREFEITO MUNICIPAL DE FEIRA DE SANTANA, Estado da Bahia, FAÇO saber que a Câmara Municipal, através do Projeto de Lei nº 64/2005, de autoria do Edil Fábio Fernandes de Moraes Lucena, decretou e eu sanciono a seguinte Lei:\n",
            "\n",
            "Art. 1ºFica considerado de utilidade pública o MINISTÉRIO EVANGÉLICO MONTE DO SENHOR, com sede á Via Pedestre nº 04 - Conjunto Habitacional Viveiros - Feira de Santana.\n",
            "\n",
            "Art. 2ºEsta Lei entrará em vigor na data de sua publicação, revogadas as disposições em contrário.\n",
            "\n",
            "PREFEITURA MUNICIPAL DE FEIRA DE SANTANA, em 14 de junho de 2005.\n",
            "\n",
            "JOSÉ RONALDO DE CARVALHO\n",
            "Prefeito\n",
            "\n",
            "\n",
            "PAR UTILIZANDO TF-IDF:\n",
            "\n",
            "\n",
            "- - - LEI COMPARADA 652: - - -\n",
            "\n",
            "\n",
            "Autor: Fábio Fernandes de Moraes Lucena\n",
            "\n",
            "O PREFEITO MUNICIPAL DE FEIRA DE SANTANA, Estado da Bahia; FAÇO saber que a Câmara Municipal através do Projeto de Lei nº 173/2007, de autoria do Edil Fábio Fernandes de Moraes Lucena, decretou e eu sanciono a seguinte Lei:\n",
            "\n",
            "Art. 1ºFica considerada de utilidade pública a LOJA MAÇÔNICA LUZ E FRATERNIDADE, com sede na Avenida Getúlio Vargas nº 639, neste Município de Feira de Santana.\n",
            "\n",
            "Art. 2ºEsta Lei entrará em vigor na data de sua publicação, revogadas as disposições em contrário.\n",
            "\n",
            "PREFEITURA MUNICIPAL DE FEIRA DE SANTANA, em 12 de Dezembro de 2007.\n",
            "\n",
            "JOSÉ RONALDO DE CARVALHO\n",
            "Prefeito\n",
            "\n",
            "\n",
            "- - - LEI MAIS SEMELHANTE 903 - - -\n",
            "\n",
            "\n",
            "Autor: Fábio Fernandes de Moraes Lucena\n",
            "\n",
            "O PREFEITO MUNICIPAL DE FEIRA DE SANTANA, Estado da Bahia, FAÇO saber que a Câmara Municipal, através do Projeto de Lei nº 126/2008, de autoria do Edil Fábio Fernandes de Moraes Lucena, decretou e eu sanciono a seguinte Lei:\n",
            "\n",
            "Art. 1ºFica considerada de utilidade pública a LFS - LIGA DE FUTSAL DE FEIRA DE SANTANA, com sede na Avenida Getúlio Vargas nº 621 - Centro, neste Município.\n",
            "\n",
            "Art. 2ºEsta Lei entrará em vigor na data de sua publicação, revogadas as disposições em contrário.\n",
            "\n",
            "PREFEITURA MUNICIPAL DE FEIRA DE SANTANA, em 22 de outubro de 2008.\n",
            "\n",
            "\n",
            "Lei numero 1854\n",
            "PAR UTILIZANDO VETOR:\n",
            "\n",
            "\n",
            "- - - LEI COMPARADA 1854: - - -\n",
            "\n",
            "\n",
            "O PREFEITO MUNICIPAL DE FEIRA DE SANTANA, ESTADO DA BAHIA, FAÇO saber que a Câmara de Vereadores decretou e eu sanciono a seguinte Lei:\n",
            "\n",
            "Art. 1ºFica aberto, na Secretaria de Educação e Cultura, o Crédito Especial de NCr$ 7.000,00 (sete mil cruzeiros novos), para atender as despesas com aquisição de móveis para os Grupos Escolares.\n",
            "\n",
            "Art. 2ºAs despesas decorrentes com a presente Lei, correrão por conta dos recursos previstos no art. 186, letras A e B, da Lei nº 140, de 22 de dezembro de 1948.\n",
            "\n",
            "Art. 3ºEsta Lei entrará em vigor na data de sua publicação, revogadas as disposições em contrário.\n",
            "\n",
            "Prefeitura Municipal de Feira de Santana, em 12 de dezembro de 1967.\n",
            "\n",
            "DR. JOÃO DURVAL CARNEIRO\n",
            "Prefeito\n",
            "\n",
            "\n",
            "- - - LEI MAIS SEMELHANTE 3229 - - -\n",
            "\n",
            "\n",
            "O PREFEITO MUNICIPAL DE FEIRA DE SANTANA, ESTADO DA BAHIA, FAÇO saber que a Câmara de Vereadores decretou e eu sanciono a seguinte Lei:\n",
            "\n",
            "Art. 1ºFica aberto na Secretaria de Viação e Obras Públicas, o crédito especial de NCr$ 15.000,00 (quinze mil cruzeiros novos), para atender as despesas com várias desapropriações nesta Cidade.\n",
            "\n",
            "Art. 2ºAs despesas decorrentes da presente Lei, correrão por conta dos recursos previstos do art. 186, letras A e B, da Lei nº 140, de 22 de dezembro de 1948.\n",
            "\n",
            "Art. 3ºEsta Lei entrará em vigor na data de sua publicação, revogadas as disposições em contrário.\n",
            "\n",
            "Prefeitura Municipal de Feira de Santana, em 24 de novembro de 1967.\n",
            "\n",
            "DR. JOÃO DURVAL CARNEIRO\n",
            "Prefeito\n",
            "\n",
            "\n",
            "PAR UTILIZANDO TF-IDF:\n",
            "\n",
            "\n",
            "- - - LEI COMPARADA 1854: - - -\n",
            "\n",
            "\n",
            "O PREFEITO MUNICIPAL DE FEIRA DE SANTANA, ESTADO DA BAHIA, FAÇO saber que a Câmara de Vereadores decretou e eu sanciono a seguinte Lei:\n",
            "\n",
            "Art. 1ºFica aberto, na Secretaria de Educação e Cultura, o Crédito Especial de NCr$ 7.000,00 (sete mil cruzeiros novos), para atender as despesas com aquisição de móveis para os Grupos Escolares.\n",
            "\n",
            "Art. 2ºAs despesas decorrentes com a presente Lei, correrão por conta dos recursos previstos no art. 186, letras A e B, da Lei nº 140, de 22 de dezembro de 1948.\n",
            "\n",
            "Art. 3ºEsta Lei entrará em vigor na data de sua publicação, revogadas as disposições em contrário.\n",
            "\n",
            "Prefeitura Municipal de Feira de Santana, em 12 de dezembro de 1967.\n",
            "\n",
            "DR. JOÃO DURVAL CARNEIRO\n",
            "Prefeito\n",
            "\n",
            "\n",
            "- - - LEI MAIS SEMELHANTE 281 - - -\n",
            "\n",
            "\n",
            "O PREFEITO MUNICIPAL DE FEIRA DE SANTANA, ESTADO DA BAHIA, FAÇO saber que a Câmara de Vereadores decreta e eu sanciono a seguinte Lei:\n",
            "\n",
            "Art. 1ºFica aberto, na Secretária de Saúde e Assistência Social, o crédito especial de NCr$ 7.000,00 (sete mil cruzeiros novos), para atender despesas com a construção do posto médico do Distrito de Maria Quitéria.\n",
            "\n",
            "Art. 2ºAs despesas decorrentes com a presente Lei correrão por conta dos recursos previstos no art. 186, letras A e B, da Lei nº 140, de 22 de dezembro de 1948.\n",
            "\n",
            "Art. 3ºEsta Lei entrará em vigor na data de sua publicação, revogadas as disposições em contrário.\n",
            "\n",
            "Prefeitura Municipal de Feira de Santana, em 12 de dezembro de 1967.\n",
            "\n",
            "DR. JOÃO DURVAL CARNEIRO\n",
            "Prefeito\n",
            "\n",
            "\n",
            "Lei numero 4341\n",
            "PAR UTILIZANDO VETOR:\n",
            "\n",
            "\n",
            "- - - LEI COMPARADA 4341: - - -\n",
            "\n",
            "\n",
            "A CÂMARA MUNICIPAL DE FEIRA DE SANTANA, Estado da Bahia, na conformidade do artigo 70, inciso V, daLei Orgânicado Município e artigos 274, § 2º e, 400, do Regimento Interno, e do Projeto de Decreto Legislativo nº 21/2015, de autoria da Edil Gerusa Maria Bastos Silva Sampaio, promulga o seguinte Decreto Legislativo:\n",
            "\n",
            "Art. 1ºFica concedido o Título de Cidadão Feirense ao Senhor NOE DE OLIVEIRA SOUZA.\n",
            "\n",
            "Art. 2ºA Mesa Diretiva da Câmara Municipal providenciará a impressão do Título que será entregue em Sessão Solene, convocada especialmente para este fim.\n",
            "\n",
            "Art. 3ºAs despesas decorrentes da execução deste Decreto Legislativo correrão por conta de verba existente na Secretaria da Casa.\n",
            "\n",
            "Art. 4ºEste Decreto Legislativo entrará em vigor na data de sua publicação, revogadas as disposições em contrário.\n",
            "\n",
            "MESA DIRETIVA DA CÂMARA MUNICIPAL DE FEIRA DE SANTANA, em 12 de Maio de 2015.\n",
            "\n",
            "Ver. REINALDO MIRANDA VIEIRA FILHO\n",
            "Presidente\n",
            "\n",
            "Ver. ROQUE PEREIRA DO CARMO\n",
            "1º Vice-Presidente\n",
            "\n",
            "Ver. ALBERTO MATOS NERY\n",
            "2º Vice-Presidente\n",
            "\n",
            "Ver. ISAÍAS DOS SANTOS\n",
            "3º Vice-Presidente\n",
            "\n",
            "Ver. GERUSA MARIA BASTOS SILVA SAMPAIO\n",
            "1ª Secretária\n",
            "\n",
            "Ver. DAVID EVANGELISTA LEITE NETO\n",
            "2º Secretário\n",
            "\n",
            "Ver. ROBECI DA SILVA LIMA\n",
            "3º Secretário\n",
            "\n",
            "\n",
            "- - - LEI MAIS SEMELHANTE 4920 - - -\n",
            "\n",
            "\n",
            "A CÂMARA MUNICIPAL DE FEIRA DE SANTANA, Estado da Bahia, na conformidade do artigo 70, inciso V, daLei Orgânicado Município e artigos 274, § 2º e, 400, do Regimento Interno, e do Projeto de Decreto Legislativo nº06/2015, de autoria do Edil Robeci da Silva Lima, promulga o seguinte Decreto Legislativo:\n",
            "\n",
            "Art. 1ºFica concedida a Comenda Maria Quitéria ao Senhor ADILSON FERNANDES GUIMARÃES.\n",
            "\n",
            "Art. 2ºA Mesa Diretiva da Câmara Municipal providenciará a confecção da Comenda que será entregue em Sessão Solene, convocada especialmente para este fim.\n",
            "\n",
            "Art. 3ºAs despesas decorrentes da execução deste Decreto Legislativo correrão por conta de verba existente na Secretaria da Casa.\n",
            "\n",
            "Art. 4ºEste Decreto Legislativo entrará em vigor na data de sua publicação, revogadas as disposições em contrário.\n",
            "\n",
            "MESA DIRETIVA DA CÂMARA MUNICIPAL DE FEIRA DE SANTANA, EM 23 DE MARÇO DE 2015.\n",
            "\n",
            "Ver. REINALDO MIRANDA VIEIRA FILHO\n",
            "Presidente\n",
            "\n",
            "Ver. ROQUE PEREIRA DO CARMO\n",
            "1º Vice-Presidente\n",
            "\n",
            "Ver. ALBERTO MATOS NERY\n",
            "2º Vice-Presidente\n",
            "\n",
            "Ver. ISAÍAS DOS SANTOS\n",
            "3º Vice-Presidente\n",
            "\n",
            "Ver. GERUSA MARIA BASTOS SILVA SAMPAIO\n",
            "1ª Secretária\n",
            "\n",
            "Ver. DAVID EVANGELISTA LEITE NETO\n",
            "2º Secretário\n",
            "\n",
            "Ver. ROBECI DA SILVA LIMA\n",
            "3º Secretário\n",
            "\n",
            "\n",
            "PAR UTILIZANDO TF-IDF:\n",
            "\n",
            "\n",
            "- - - LEI COMPARADA 4341: - - -\n",
            "\n",
            "\n",
            "A CÂMARA MUNICIPAL DE FEIRA DE SANTANA, Estado da Bahia, na conformidade do artigo 70, inciso V, daLei Orgânicado Município e artigos 274, § 2º e, 400, do Regimento Interno, e do Projeto de Decreto Legislativo nº 21/2015, de autoria da Edil Gerusa Maria Bastos Silva Sampaio, promulga o seguinte Decreto Legislativo:\n",
            "\n",
            "Art. 1ºFica concedido o Título de Cidadão Feirense ao Senhor NOE DE OLIVEIRA SOUZA.\n",
            "\n",
            "Art. 2ºA Mesa Diretiva da Câmara Municipal providenciará a impressão do Título que será entregue em Sessão Solene, convocada especialmente para este fim.\n",
            "\n",
            "Art. 3ºAs despesas decorrentes da execução deste Decreto Legislativo correrão por conta de verba existente na Secretaria da Casa.\n",
            "\n",
            "Art. 4ºEste Decreto Legislativo entrará em vigor na data de sua publicação, revogadas as disposições em contrário.\n",
            "\n",
            "MESA DIRETIVA DA CÂMARA MUNICIPAL DE FEIRA DE SANTANA, em 12 de Maio de 2015.\n",
            "\n",
            "Ver. REINALDO MIRANDA VIEIRA FILHO\n",
            "Presidente\n",
            "\n",
            "Ver. ROQUE PEREIRA DO CARMO\n",
            "1º Vice-Presidente\n",
            "\n",
            "Ver. ALBERTO MATOS NERY\n",
            "2º Vice-Presidente\n",
            "\n",
            "Ver. ISAÍAS DOS SANTOS\n",
            "3º Vice-Presidente\n",
            "\n",
            "Ver. GERUSA MARIA BASTOS SILVA SAMPAIO\n",
            "1ª Secretária\n",
            "\n",
            "Ver. DAVID EVANGELISTA LEITE NETO\n",
            "2º Secretário\n",
            "\n",
            "Ver. ROBECI DA SILVA LIMA\n",
            "3º Secretário\n",
            "\n",
            "\n",
            "- - - LEI MAIS SEMELHANTE 5149 - - -\n",
            "\n",
            "\n",
            "A CÂMARA MUNICIPAL DE FEIRA DE SANTANA, Estado da Bahia, na conformidade do artigo 70, inciso V, daLei Orgânicado Município e artigos 274, § 2º e, 400, do Regimento Interno, e do Projeto de Decreto Legislativo nº 71/2016, de autoria do Edil Isaías dos Santos, promulga o seguinte Decreto Legislativo:\n",
            "\n",
            "Art. 1ºFica concedido o Título de Cidadão Feirense ao Senhor CARLOS CARVALHO DA SILVA.\n",
            "\n",
            "Art. 2ºA Mesa Diretiva da Câmara Municipal providenciará a impressão do Título que será entregue em Sessão Solene, convocada especialmente para este fim.\n",
            "\n",
            "Art. 3ºAs despesas decorrentes da execução deste Decreto Legislativo correrão por conta de verba existente na Secretaria da Casa.\n",
            "\n",
            "Art. 4ºEste Decreto Legislativo entrará em vigor na data de sua publicação, revogadas as disposições em contrário.\n",
            "\n",
            "MESA DIRETIVA DA CÂMARA MUNICIPAL DE FEIRA DE SANTANA, em 07 de Novembro de 2016.\n",
            "\n",
            "Ver. REINALDO MIRANDA VIEIRA FILHO\n",
            "Presidente\n",
            "\n",
            "Ver. ROQUE PEREIRA DO CARMO\n",
            "1º Vice-Presidente\n",
            "\n",
            "Ver. ALBERTO MATOS NERY\n",
            "2º Vice-Presidente\n",
            "\n",
            "Ver. ISAÍAS DOS SANTOS\n",
            "3º Vice-Presidente\n",
            "\n",
            "Ver. GERUSA MARIA BASTOS SILVA SAMPAIO\n",
            "1ª Secretária\n",
            "\n",
            "Ver. DAVID EVANGELISTA LEITE NETO\n",
            "2º Secretário\n",
            "\n",
            "Ver. ROBECI DA SILVA LIMA\n",
            "3º Secretário\n",
            "\n",
            "DATA DA PUBLICAÇÃO NO DIÁRIO OFICIAL ELETRÔNICO: 08 DE NOVEMBRO DE 2016\n"
          ],
          "name": "stdout"
        }
      ]
    },
    {
      "cell_type": "markdown",
      "metadata": {
        "id": "QDqTxHud7z8N",
        "colab_type": "text"
      },
      "source": [
        "Parece que TF-IDF é um pouco melhor na comparação de leis, pq traz resultados mais relevantes quando comparados nome de bairros e ruas. No entanto, a forma vetorizada parece ser boa pra reconhecer formatos da Lei em geral, uma especie de POS, reconhecendo que existe uma entidade alí ou verbo etc. Ao menos foi minha impressão. Cabe mais investigação a respeito.\n",
        "\n",
        "Vale salientar que a qualidade dos vetores parece não estar tão boa. Vide a semelhança de palavras. Como fazer pra consertar isso? Seria muito interessante corrigir isso pra ver as palavras mais semelhantes à educação, saúde etc e também pra visualizar com tsne os clusters gerados a partir daí."
      ]
    },
    {
      "cell_type": "code",
      "metadata": {
        "id": "OImRkP2s8w7K",
        "colab_type": "code",
        "colab": {}
      },
      "source": [
        ""
      ],
      "execution_count": null,
      "outputs": []
    }
  ]
}
