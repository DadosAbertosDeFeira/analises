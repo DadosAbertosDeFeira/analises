{
 "cells": [
  {
   "cell_type": "code",
   "execution_count": 1,
   "metadata": {},
   "outputs": [],
   "source": [
    "import pandas as pd\n",
    "import matplotlib.pyplot as plt"
   ]
  },
  {
   "cell_type": "code",
   "execution_count": 2,
   "metadata": {
    "tags": []
   },
   "outputs": [
    {
     "output_type": "stream",
     "name": "stdout",
     "text": "<class 'pandas.core.frame.DataFrame'>\nRangeIndex: 6033 entries, 0 to 6032\nData columns (total 4 columns):\n #   Column     Non-Null Count  Dtype \n---  ------     --------------  ----- \n 0   titulo     6033 non-null   object\n 1   categoria  6033 non-null   object\n 2   resumo     6033 non-null   object\n 3   texto      6033 non-null   object\ndtypes: object(4)\nmemory usage: 188.7+ KB\nNone\ntitulo       6033\ncategoria       8\nresumo       4961\ntexto        6029\ndtype: int64\n"
    },
    {
     "output_type": "execute_result",
     "data": {
      "text/plain": "                                            titulo   categoria  \\\n0     DECRETO Nº 8854, de 28 de fevereiro de 2013.    Decretos   \n1     DECRETO Nº 8849, de 25 de fevereiro de 2013.    Decretos   \n2     DECRETO Nº 8853, de 27 de fevereiro de 2013.    Decretos   \n3          DECRETO Nº 8967, de 17 de julho de 2013    Decretos   \n4          DECRETO Nº 8982, de 30 de julho de 2013    Decretos   \n...                                            ...         ...   \n6028                         RESOLUÇÃO Nº 125/1980  Resoluções   \n6029                         RESOLUÇÃO Nº 403/2003  Resoluções   \n6030                         RESOLUÇÃO Nº 492/2014  Resoluções   \n6031                         RESOLUÇÃO Nº 382/2001  Resoluções   \n6032                         RESOLUÇÃO Nº 431/2004  Resoluções   \n\n                                                 resumo  \\\n0     DELEGA COMPETÊNCIA À SECRETARIA MUNICIPAL DE P...   \n1     ABRE CRÉDITO SUPLEMENTAR AO ORÇAMENTO DO MUNIC...   \n2     NOMEIA MEMBROS DO CONSELHO MUNICIPAL DE DESENV...   \n3     ALTERA O QUADRO DE DETALHAMENTO DE DESPESA DO ...   \n4     AUTORIZA O FUNCIONAMENTO DE ESTABELECIMENTOS C...   \n...                                                 ...   \n6028  DISPÕE SOBRE A CONCESSÃO DE TÍTULO DE CIDADÃO ...   \n6029  AUTORIZA A MESA DIRETIVA DO PODER LEGISLATIVO ...   \n6030  INSTITUI A SEGUNDA SEMANA DO MÊS DE AGOSTO EM ...   \n6031  CRIA A MEDALHA VEREADOR DIVAL FIGUEIREDO MACHA...   \n6032  MODIFICA E SUPRIME DISPOSITIVOS DA RESOLUÇÃO N...   \n\n                                                  texto  \n0     O PREFEITO MUNICIPAL DE FEIRA DE SANTANA, Esta...  \n1     O PREFEITO MUNICIPAL DE FEIRA DE SANTANA, Esta...  \n2     O PREFEITO MUNICIPAL DE FEIRA DE SANTANA, Esta...  \n3     O PREFEITO MUNICIPAL DE FEIRA DE SANTANA, Esta...  \n4     O PREFEITO MUNICIPAL DE FEIRA DE SANTANA, Esta...  \n...                                                 ...  \n6028  Faço saber que a Câmara Municipal aprovou e eu...  \n6029  A CÂMARA MUNICIPAL DE FEIRA DE SANTANA, Estado...  \n6030  A CÂMARA MUNICIPAL DE FEIRA DE SANTANA, Estado...  \n6031  A CÂMARA MUNICIPAL DE FEIRA DE SANTANA, Estado...  \n6032  A CÂMARA MUNICIPAL DE FEIRA DE SANTANA, Estado...  \n\n[6033 rows x 4 columns]",
      "text/html": "<div>\n<style scoped>\n    .dataframe tbody tr th:only-of-type {\n        vertical-align: middle;\n    }\n\n    .dataframe tbody tr th {\n        vertical-align: top;\n    }\n\n    .dataframe thead th {\n        text-align: right;\n    }\n</style>\n<table border=\"1\" class=\"dataframe\">\n  <thead>\n    <tr style=\"text-align: right;\">\n      <th></th>\n      <th>titulo</th>\n      <th>categoria</th>\n      <th>resumo</th>\n      <th>texto</th>\n    </tr>\n  </thead>\n  <tbody>\n    <tr>\n      <th>0</th>\n      <td>DECRETO Nº 8854, de 28 de fevereiro de 2013.</td>\n      <td>Decretos</td>\n      <td>DELEGA COMPETÊNCIA À SECRETARIA MUNICIPAL DE P...</td>\n      <td>O PREFEITO MUNICIPAL DE FEIRA DE SANTANA, Esta...</td>\n    </tr>\n    <tr>\n      <th>1</th>\n      <td>DECRETO Nº 8849, de 25 de fevereiro de 2013.</td>\n      <td>Decretos</td>\n      <td>ABRE CRÉDITO SUPLEMENTAR AO ORÇAMENTO DO MUNIC...</td>\n      <td>O PREFEITO MUNICIPAL DE FEIRA DE SANTANA, Esta...</td>\n    </tr>\n    <tr>\n      <th>2</th>\n      <td>DECRETO Nº 8853, de 27 de fevereiro de 2013.</td>\n      <td>Decretos</td>\n      <td>NOMEIA MEMBROS DO CONSELHO MUNICIPAL DE DESENV...</td>\n      <td>O PREFEITO MUNICIPAL DE FEIRA DE SANTANA, Esta...</td>\n    </tr>\n    <tr>\n      <th>3</th>\n      <td>DECRETO Nº 8967, de 17 de julho de 2013</td>\n      <td>Decretos</td>\n      <td>ALTERA O QUADRO DE DETALHAMENTO DE DESPESA DO ...</td>\n      <td>O PREFEITO MUNICIPAL DE FEIRA DE SANTANA, Esta...</td>\n    </tr>\n    <tr>\n      <th>4</th>\n      <td>DECRETO Nº 8982, de 30 de julho de 2013</td>\n      <td>Decretos</td>\n      <td>AUTORIZA O FUNCIONAMENTO DE ESTABELECIMENTOS C...</td>\n      <td>O PREFEITO MUNICIPAL DE FEIRA DE SANTANA, Esta...</td>\n    </tr>\n    <tr>\n      <th>...</th>\n      <td>...</td>\n      <td>...</td>\n      <td>...</td>\n      <td>...</td>\n    </tr>\n    <tr>\n      <th>6028</th>\n      <td>RESOLUÇÃO Nº 125/1980</td>\n      <td>Resoluções</td>\n      <td>DISPÕE SOBRE A CONCESSÃO DE TÍTULO DE CIDADÃO ...</td>\n      <td>Faço saber que a Câmara Municipal aprovou e eu...</td>\n    </tr>\n    <tr>\n      <th>6029</th>\n      <td>RESOLUÇÃO Nº 403/2003</td>\n      <td>Resoluções</td>\n      <td>AUTORIZA A MESA DIRETIVA DO PODER LEGISLATIVO ...</td>\n      <td>A CÂMARA MUNICIPAL DE FEIRA DE SANTANA, Estado...</td>\n    </tr>\n    <tr>\n      <th>6030</th>\n      <td>RESOLUÇÃO Nº 492/2014</td>\n      <td>Resoluções</td>\n      <td>INSTITUI A SEGUNDA SEMANA DO MÊS DE AGOSTO EM ...</td>\n      <td>A CÂMARA MUNICIPAL DE FEIRA DE SANTANA, Estado...</td>\n    </tr>\n    <tr>\n      <th>6031</th>\n      <td>RESOLUÇÃO Nº 382/2001</td>\n      <td>Resoluções</td>\n      <td>CRIA A MEDALHA VEREADOR DIVAL FIGUEIREDO MACHA...</td>\n      <td>A CÂMARA MUNICIPAL DE FEIRA DE SANTANA, Estado...</td>\n    </tr>\n    <tr>\n      <th>6032</th>\n      <td>RESOLUÇÃO Nº 431/2004</td>\n      <td>Resoluções</td>\n      <td>MODIFICA E SUPRIME DISPOSITIVOS DA RESOLUÇÃO N...</td>\n      <td>A CÂMARA MUNICIPAL DE FEIRA DE SANTANA, Estado...</td>\n    </tr>\n  </tbody>\n</table>\n<p>6033 rows × 4 columns</p>\n</div>"
     },
     "metadata": {},
     "execution_count": 2
    }
   ],
   "source": [
    "leis = pd.read_json('leis.json')\n",
    "leis.drop(['documento'], inplace=True, axis=1)\n",
    "print(leis.info())\n",
    "print(leis.nunique())\n",
    "leis"
   ]
  },
  {
   "cell_type": "code",
   "execution_count": 3,
   "metadata": {},
   "outputs": [
    {
     "output_type": "execute_result",
     "data": {
      "text/plain": "'A CÂMARA MUNICIPAL DE FEIRA DE SANTANA, Estado da Bahia, na conformidade do artigo 70, Inciso V, da Lei Municipal nº37, de 05 de Abril de 1990 e, artigos 287, § 2º e, 420, do Regimento Interno, promulga a seguinte Resolução:\\n\\nArt. 1ºDê-se aos dispositivos abaixo mencionados, da Resolução nº393/2002 - Regimento Interno, as seguintes redações:\\n\\n\"Art. 7º A Mesa Diretora da Câmara compor-se-á do Presidente, Primeiro e Segundo Secretários, com mandato de 02 ( dois ) anos, admitida a recondução para a eleição subsequente.\\n\\n§ 4º Se, hora regimental, não estiver presente o Presidente, abrirá os trabalhos o Vice-Presidente ou, na falta deste, o Primeiro ou Segundo Secretários, na sequência, ou ainda, caso estes não estejam presentes, o Vereador mais votado nas eleições municipais.\"\\n\\n\"Art. 33 Compete, privativamente, ao Vice-Presidente:\"\\n\\n\"Art. 36 ...\\n\\nI - ...\\n\\ne) acompanhar e supervisionar a Ata da Sessão, proceder a sua leitura e assiná-la depois do Presidente e do Vice-Presidente.\\n\\nII - ...\\n\\nc) assinar, depois do Presidente e do Vice-Presidente, os atos da Mesa Diretora.\\n\\nParágrafo Único - O Primeiro Secretário será substituído em suas faltas, ausências, impedimentos ou licenças, havendo nas duas últimas hipóteses investidura na plenitude da respectiva função, pelo Segundo Secretário.\"\\n\\n\"Art. 48 As Comissões Permanentes, em número de 05 ( cinco ), são as seguinte:\\n\\nI - ...\\n\\nII - ...\\n\\nIII - ...\\n\\nIV - ...\\n\\nV - Comissão de Meio Ambiente, Direitos Humanos e Defesa do Consumidor.\"\\n\\n\"Art. 57 ...\\n\\nI - ...\\n\\nII - ...\\n\\nIII - ...\\n\\nIV - ...\\n\\nV - da Comissão de Meio Ambiente, Direitos Humanos e Defesa do Consumidor.\"\\n\\n\"a) ...\\n\\n1 - ...\\n2 - ...\\n3 - ...\\nb) ...\\nc) ...\\nd) ...\\ne) opinar sobre todas as proposições que digam respeito aos direitos humanos, especialmente àquelas que envolvam matérias referentes à criança, adolescente e idoso;\\nf) propor iniciativas relacionadas a direitos humanos;\\ng) receber reclamações e encaminhá-las aos órgãos competentes;\\nh) propor ações de combate ao rascismo e discriminação de qualquer natureza, bem como manter intercâmbio com órgãos públicos, entidades civis e filantrópicas sem fins lucrativos, para atender o disposto na alínea anterior;\\ni) divulga a legislação que trata dos direitos da mulher trabalhadora urbana e rural;\\nj) propor ações de combate à violência e prostituição infanto-juvenil;\\nk) opinar sobre proposições que versem a respeito da saúde da mulher, planejamento familiar e assistência social;\\nl) fiscalizar, em conjunto com a Delegacia Regional do Trabalho, a instalação de creches nas empresas e demais locais de trabalhos, exigidos por lei;\\nm) opinar sobre proposições relativas a produtos, serviços e, quando cabível, contratos que norteiam as relações de consumo;\\nn) desenvolver ampla divulgação da legislação e dos programas de defesa do consumidor;\\no) propor a criação de políticas e instrumentos de defesa do consumidor, em conjunto com os demais órgãos públicos e particulares;\\np) fiscalizar os produtos de consumo e seu fornecimento, e zelar pela sua qualidade;\\nq) receber reclamações e encaminhá-las ao órgão competente.\"\\n\\n\"Art. 164 O Líder e Vice-Líder podem fazer parte de Comissões Permanentes e Temporárias, exceto o Líder e Vice-Líder do Governo.\"\\n\\n\"Art. 168 Lavrar-se-á a ata, com o resumo dos trabalhos de cada sessão, cujo redação obedecerá ao padrão uniforme adotado pela Mesa Diretora.\"\\n\\n\"Art. 188 As atas serão organizadas em anais, por ordem cronológica, por período legislativo e recolhidas ao Arquivo da Câmara.\"\\n\\n\"Art. 190 Os Vereadores só poderão falar sobre a ata para impugná-la ou retificá-la no todo em parte, logo após a leitura da mesma.\\n\\n§ 1º A discussão sobre a impugnação ou retificação da ata não poderá exceder o tempo destinado ao Grande Expediente, que nesta hipótese ficará prejudicado.\"\\n\\n\"Art. 199 Aberto a sessão, o Segundo Secretário fará a leitura da ata anterior, que o Presidente submeterá à apreciação do Plenário.\"\\n\\n\"Art. 200 Após a leitura da ata, o Primeiro Secretário procederá a leitura de:\"\\n\\n\"Art. 413 - ...\\n\\nParágrafo Único - Caso o Presidente da Câmara não promulgue a lei, caberá ao Vice-Presidente promulgá-la.\"\\n\\n\"Art. 418 - ...\\n\\n§ 2º Se lei não for promulgada dentro de 48 ( quarenta e oito ) horas o Presidente da Câmara Municipal a promulgará, e se este em igual prazo, não o fizer, fá-lo-á obrigatoriamente, o Vice-Presidente.\"\\n\\nArt. 2ºDê-se ao capítulo III, do Título VII - Da Elaboração Legislativo Especial, a seguinte redação:\\n\\n\\n\"CapítuloIII\\nDA CONCESSÃO DE HONRARIAS\\n\\n\\nSEÇÃO I\\nDAS HONRARIAS\"\\n\\n\\n\\n\"Art. 402 - A Câmara Municipal concederá o Título Honorífico de Cidadão Feirense a pessoas, pelos seus relevantes e notórios serviços prestados ao Município e ao seu povo.\"\\n\\n\"Art. 403 - A Câmara Municipal também concederá:\\n\\na) Comenda - Maria Quitéria, Áureo Filho, Filinto Justiniano Ferreira Bastos, Padre Ovídio Alves de São Boaventura, Godofredo Rebello de Figueiredo Filho, Maestro Tertuliano Ferreira Santos, Armando Curvelo de Menezes e, Dr. Gastão Guimarães;\\nb) Medalhas - Mérito de Meio Ambiente, Fundação Senhor dos Passos, Vereador Dival Figueiredo Machado, Missionário Roderick Murdo Gillanders, Mérito Rotário, Zumbi dos Palmares e Arquiteto Anápio Aurélio de Miranda;\\nc) Certificados - Verde e, de Excelência.\"\\n\\n\\n\"SEÇÃO\\nDISPOSIÇÕES GERAIS\"\\n\\n\\n\"Art. 404 - O Projeto de Decreto Legislativo destinado a concessão de honrarias, deverá ser apresentado por, no mínimo, 2/3 ( dois terços ) dos membros da Câmara e, acompanhado de justificativa, além de, biografia quando inerente a pessoa física.\\n\\n§ 1º Recebido o Projeto de Decreto Legislativo, o mesmo após lido, será encaminhado à Comissão de Constituição Justiça e Redação que, dentro de 10 ( dez ) dias, emitirá parecer fundamentado, o qual após lido será pautado para a Ordem do Dia da sessão seguinte.\\n\\n§ 2º Será considerado aprovado o Projeto de Decreto Legislativo que obtiver 2/3 ( dois terços ) de votos favoráveis dos membros da Câmara.\\n\\n§ 3º Cada Vereador poderá apresentar 08 ( oito ) projetos de Decreto Legislativo por legislatura destinados a concessão do Título de Cidadão Feirense, enquanto que as demais Honrarias tem suas quantidades estabelecidas nas Resoluções que as instituíram.\"\\n\\n\"Art. 405 - As honrarias poderão ser cassadas, caso os homenageados tenham comprovadamente praticado atos que colidam com os motivos que as ensejam\\n\\nParágrafo Único - Aplicam-se os dispositivos desta Seção, no que couber, ao Projeto de Decreto Legislativo de cassação da honraria\"\\n\\nArt. 3ºSuprima-se os dispositivos abaixo mencionados, e dê-se nova numeração aos demais:\\n\\n\"a) artigos - 34,37. 87, 99, 100, 102, 124, 187, 189, 191, 192, 193, 223, 356, 417;\\nb) parágrafos - 3º do art. 101, 4º do art. 135 e único do art. 199;\"\\n\\nArt. 4ºEsta Resolução entrará em vigor na data de sua publicação, produzindo seus efeitos a partir de 1º de Janeiro de 2005, revogadas as disposições em contrário.\\n\\nMESA DIRETIVA DA CÂMARA MUNICIPAL DE FEIRA DE SANTANA, 26 de Outubro de 2004.\\n\\nVer. ANTÔNIO CARLOS DALTRO COELHO\\nPresidente\\n\\nVer. GENÉSIO SERAFIM DE LIMA\\n1º Secretário\\n\\nVer. JORGE RAIMUNDO DE OLIVEIRA SILVA\\n2º Secretário'"
     },
     "metadata": {},
     "execution_count": 3
    }
   ],
   "source": [
    "leis.iloc[len(leis)-1, 3]"
   ]
  },
  {
   "cell_type": "code",
   "execution_count": 4,
   "metadata": {},
   "outputs": [],
   "source": [
    "from nltk.corpus import stopwords\n",
    "import re\n",
    "import unicodedata\n",
    "\n",
    "def limpa_texto(text, string=True) -> str or list:\n",
    "    if (type(text) == float):\n",
    "        return ''\n",
    "\n",
    "    # Remove pontuacao, digitos e espacos\n",
    "    text = ' '.join(re.findall(r'\\b[a-zÀ-ú]+\\b', text.lower()))\n",
    "    \n",
    "    # Remove acentos, cedilhas etc\n",
    "    nfkd_form = unicodedata.normalize('NFKD', text)\n",
    "    text = ''.join([char for char in nfkd_form if not unicodedata.combining(char)])\n",
    "\n",
    "    # Remove stopwords\n",
    "    my_stopwords = stopwords.words('portuguese')\n",
    "    my_words = ['feira', 'santana', 'art', 'municipal', 'lei', 'r', \n",
    "    'prefeito', 'câmara', 'municipio', 'data', 'seguinte', 'disposições',\n",
    "    'estado', 'bahia', 'vigor', 'secretário', 'decreto', 'projeto', \n",
    "    'iii', 'i', 'ii',  'contrário', 'presidente', 'artigo',\n",
    "    'faço', 'parágrafo', 'executivo', 'gabinete', 'único', 'sanciono', \n",
    "    'desta', 'v', 'iv', 'autoria', 'através', 'deste', 'vice', 'autor',\n",
    "    'qualquer', 'b', 'decretou', 'execução', 'sobre', 'das', 'decorrentes',\n",
    "    'decreta', 'resolução', 'geral', 'uso', 'ato', 'diretiva', 'exercício',\n",
    "    'seguintes', 'meio', 'm', 'c', 'correrão']\n",
    "    my_stopwords = my_stopwords + my_words\n",
    "\n",
    "    text = [word for word in text.split() if word not in my_stopwords]\n",
    "\n",
    "    if string:\n",
    "        return ' '.join(text)\n",
    "    else:\n",
    "        return text"
   ]
  },
  {
   "cell_type": "markdown",
   "metadata": {},
   "source": [
    "# Semelhança de documentos"
   ]
  },
  {
   "cell_type": "code",
   "execution_count": 7,
   "metadata": {},
   "outputs": [],
   "source": [
    "leis['texto_limpo'] = leis['texto'].apply(limpa_texto)"
   ]
  },
  {
   "cell_type": "code",
   "execution_count": 8,
   "metadata": {},
   "outputs": [
    {
     "output_type": "execute_result",
     "data": {
      "text/plain": "<6033x28875 sparse matrix of type '<class 'numpy.int64'>'\n\twith 534596 stored elements in Compressed Sparse Row format>"
     },
     "metadata": {},
     "execution_count": 8
    }
   ],
   "source": [
    "# Constrói matriz de documentos\n",
    "from sklearn.feature_extraction.text import CountVectorizer, TfidfTransformer # Trasnformar pra TF IDF depois pra testar\n",
    "vectorizer = CountVectorizer()\n",
    "X = vectorizer.fit_transform(leis['texto_limpo'])\n",
    "X"
   ]
  },
  {
   "cell_type": "code",
   "execution_count": 9,
   "metadata": {},
   "outputs": [
    {
     "output_type": "execute_result",
     "data": {
      "text/plain": "(6033, 6033)"
     },
     "metadata": {},
     "execution_count": 9
    }
   ],
   "source": [
    "# Quero pegar o primeiro documento e achar qual documento mais similar a ele\n",
    "# A partir daí, ler as leis pra ver se faz sentido, se são similares etc\n",
    "\n",
    "# Pra achar os similares, computar a similaridade do cosseno\n",
    "from sklearn.metrics.pairwise import cosine_similarity\n",
    "import numpy as np\n",
    "\n",
    "cos_sim = cosine_similarity(X, dense_output=True)\n",
    "cos_sim_argsort = np.argsort(cos_sim)"
   ]
  },
  {
   "cell_type": "code",
   "execution_count": 12,
   "metadata": {
    "tags": []
   },
   "outputs": [
    {
     "output_type": "stream",
     "name": "stdout",
     "text": "Similaridade maxima dos docs: 0.5439544481389702\natribuicoes considerando necessidade implementar programa governo federal denominado crack possivel vencer busca aumentar oferta tratamento atencao usuarios aludido elemento toxico considerando julho dispoe criacao conselho antidrogas nao estabelece vinculo conselho secretaria prevencao violencia promocao direitos humanos tampouco outra secretaria considerando enfim competencia inerente secretaria prevencao violencia promocao direitos humanos concomitantemente desenvolvimento politicas publicas modo celere eficiente especial combate drogas ilicitas delegada competencia secretaria prevencao violencia promocao direitos humanos implantacao conselho antidrogas comad respectivas atividades entrara publicacao revogadas disposicoes contrario fevereiro jose ronaldo carvalho mario costa borges chefe carlos antonio moraes lucena procurador mauro oliveira moraes secretario prevencao violencia promocao direitos humanos\n\n\n- - - TEXTO MAIS SEMELHANTE - - -\n\n\npoder atribuicoes especialmente estabelecidas inciso dalei organicado redacao dada emenda faco saber camara atraves origem poder crida estrutura organizacional prefeitura secretaria prevencao violencia promocao direitos humanos orgao integrante poder competencias atribuicoes fixadas forma secretaria prevencao violencia promocao direitos humanos finalidades coordenar orientar supervisionar controlar executar acoes administracao area seguranca bem atuacao orgaos publicos municipais forma articulada priorizado politicas publicas urbanas prevencao violencia promocao defesa direitos humanos minimizacao vitimam preservacao seguranca integridade patrimonio servicos publicos municipais acordo atribuicoes ora estabelecidas competindo formular coordenar implantacao politica prevencao violencia variadas formas executar politicas publicas concernentes combate violencia defesa direitos humanos apoio vitimas violencia preservacao integridade patrimonio servicos publicos municipais integrando s demais politicas sociais forma relacionadas materia prevencao violencia manutencao seguridade cidade relacionar orgaos seguranca estaduais federais objetivo promover acao integrada cidade planejamento aglutinamento comunicacoes estabelecer conjunto s demais secretarias municipais diretrizes prioridades necessarias cumprimento competencias propor medidas priorizar acoes policiamento investigativo preventivo ostensivo realizadas orgaos seguranca publica atuam atraves intercambio constante dados informacoes tratem materia vi promover executar acoes atraves convenios firmar parcerias entidades nacionais estrangeiras exercam atividades destinadas estudos pesquisas inerentes seguranca urbana vii construir prevencao diminuicao violencia todos niveis afastar concretizacao criminalidade variadas formas promovendo respeito direitos fundamentais cidadaos viii criar servico disque denuncia onde serao colhidas comunicacoes referentes atos vandalismo congeneres praticados contra equipamentos servicos publicos municipais ix elaborar plano prevencao violencia promocao direitos humanos x implantar programa nacional seguranca publica cidadania pronasci xi contribuir bom desempenho acoes comissao defesa civil elaborando planos executando acoes avaliando permanentemente atuacao oferecendo recursos administrativos funcionamento xii realizar bienalmente conferencia seguranca publica xiii exercer outras atividades correlatas estrutura secretaria prevencao violencia promocao direitos humanos serao gestao integrada seguranca secretaria prevencao violencia promocao direitos humanos secretario departamento guarda subcomando guarda coordenadorias guarda secretaria executiva comissao defesa civil d departamento apoio juridico divisao apoio familia divisao procedimentos criminais coordenacao projetos especiais coordenadoria nivel coordenadoria nivel conselhos municipais conselho seguranca conselho prevencao drogas paragrafo unico estruturas competencias gestao integrada seguranca conselhos municipais seguranca prevencao drogas permanentes inalteradas conforme definido legislacao vigente quadro cargos provimento temporario nivel especial direcao assessoramento correspondente estrutura organizacional secretaria prevencao violencia promocao direitos humanos secretario prevencao violencia promocao direitos humanos simbolo ne chefe secretario simbolo oficial simbolo comandante guarda simbolo subcomandante guarda simbolo vi dez coordenadores guarda simbolo vii secretario comissao defesa civil simbolo viii coordenador projetos especiais nivel simbolo ix coordenador projetos especiais nivel simbolo x diretor departamento apoio juridico simbolo xi divisao apoio familia simbolo xii divisao procedimentos criminais simbolo autorizado poder praticar praticar todos atos necessarios regulamentacao editando regimento interno secretaria prevencao violencia promocao direitos humanos inclusive estabelecimentos funcoes complementarao estrutura ora estabelecida consoante disposto complementar paragrafo unico poder podera editar mediante atos necessarios alteracoes orcamentaria decorrente aplicacao extintos orgaos cargos sao correspondentes departamento comando guarda secretaria governo secretaria executiva comissao defesa civil secretaria governo divisao assistencia juridica secretaria desenvolvimento social entrara publicacao revogadas disposicoes contrario prefeitura outubro dr tarcizio suzart pimenta junior\n"
    }
   ],
   "source": [
    "# cos_dist guarda uma matriz de similaridades cosseno\n",
    "# Na primeira linha da matriz, estão as similaridades do primeiro texto pra todos os outros\n",
    "# Capturar os 3 textos mais similares (tirando ele mesmo) e ler\n",
    "max_sim_index = cos_sim_argsort[:,-2]\n",
    "\n",
    "for i, ind in enumerate(max_sim_index):\n",
    "    max_sim = cos_sim[i, ind]\n",
    "\n",
    "max_sim_overall = np.max(max_sim)\n",
    "print(f'Similaridade maxima dos docs: {max_sim_overall}')\n",
    "\n",
    "orig_text_ind = np.argmax(max_sim)\n",
    "text_mais_sem_ind = max_sim_index[orig_text_ind]"
   ]
  },
  {
   "cell_type": "code",
   "execution_count": 37,
   "metadata": {
    "tags": []
   },
   "outputs": [
    {
     "output_type": "stream",
     "name": "stdout",
     "text": "- - - LEI COMPARADA: - - -\n\n\natribuicoes considerando necessidade implementar programa governo federal denominado crack possivel vencer busca aumentar oferta tratamento atencao usuarios aludido elemento toxico considerando julho dispoe criacao conselho antidrogas nao estabelece vinculo conselho secretaria prevencao violencia promocao direitos humanos tampouco outra secretaria considerando enfim competencia inerente secretaria prevencao violencia promocao direitos humanos concomitantemente desenvolvimento politicas publicas modo celere eficiente especial combate drogas ilicitas delegada competencia secretaria prevencao violencia promocao direitos humanos implantacao conselho antidrogas comad respectivas atividades entrara publicacao revogadas disposicoes contrario fevereiro jose ronaldo carvalho mario costa borges chefe carlos antonio moraes lucena procurador mauro oliveira moraes secretario prevencao violencia promocao direitos humanos\n\n\n- - - LEI MAIS SEMELHANTE - - -\n\n\npoder atribuicoes especialmente estabelecidas inciso dalei organicado redacao dada emenda faco saber camara atraves origem poder crida estrutura organizacional prefeitura secretaria prevencao violencia promocao direitos humanos orgao integrante poder competencias atribuicoes fixadas forma secretaria prevencao violencia promocao direitos humanos finalidades coordenar orientar supervisionar controlar executar acoes administracao area seguranca bem atuacao orgaos publicos municipais forma articulada priorizado politicas publicas urbanas prevencao violencia promocao defesa direitos humanos minimizacao vitimam preservacao seguranca integridade patrimonio servicos publicos municipais acordo atribuicoes ora estabelecidas competindo formular coordenar implantacao politica prevencao violencia variadas formas executar politicas publicas concernentes combate violencia defesa direitos humanos apoio vitimas violencia preservacao integridade patrimonio servicos publicos municipais integrando s demais politicas sociais forma relacionadas materia prevencao violencia manutencao seguridade cidade relacionar orgaos seguranca estaduais federais objetivo promover acao integrada cidade planejamento aglutinamento comunicacoes estabelecer conjunto s demais secretarias municipais diretrizes prioridades necessarias cumprimento competencias propor medidas priorizar acoes policiamento investigativo preventivo ostensivo realizadas orgaos seguranca publica atuam atraves intercambio constante dados informacoes tratem materia vi promover executar acoes atraves convenios firmar parcerias entidades nacionais estrangeiras exercam atividades destinadas estudos pesquisas inerentes seguranca urbana vii construir prevencao diminuicao violencia todos niveis afastar concretizacao criminalidade variadas formas promovendo respeito direitos fundamentais cidadaos viii criar servico disque denuncia onde serao colhidas comunicacoes referentes atos vandalismo congeneres praticados contra equipamentos servicos publicos municipais ix elaborar plano prevencao violencia promocao direitos humanos x implantar programa nacional seguranca publica cidadania pronasci xi contribuir bom desempenho acoes comissao defesa civil elaborando planos executando acoes avaliando permanentemente atuacao oferecendo recursos administrativos funcionamento xii realizar bienalmente conferencia seguranca publica xiii exercer outras atividades correlatas estrutura secretaria prevencao violencia promocao direitos humanos serao gestao integrada seguranca secretaria prevencao violencia promocao direitos humanos secretario departamento guarda subcomando guarda coordenadorias guarda secretaria executiva comissao defesa civil d departamento apoio juridico divisao apoio familia divisao procedimentos criminais coordenacao projetos especiais coordenadoria nivel coordenadoria nivel conselhos municipais conselho seguranca conselho prevencao drogas paragrafo unico estruturas competencias gestao integrada seguranca conselhos municipais seguranca prevencao drogas permanentes inalteradas conforme definido legislacao vigente quadro cargos provimento temporario nivel especial direcao assessoramento correspondente estrutura organizacional secretaria prevencao violencia promocao direitos humanos secretario prevencao violencia promocao direitos humanos simbolo ne chefe secretario simbolo oficial simbolo comandante guarda simbolo subcomandante guarda simbolo vi dez coordenadores guarda simbolo vii secretario comissao defesa civil simbolo viii coordenador projetos especiais nivel simbolo ix coordenador projetos especiais nivel simbolo x diretor departamento apoio juridico simbolo xi divisao apoio familia simbolo xii divisao procedimentos criminais simbolo autorizado poder praticar praticar todos atos necessarios regulamentacao editando regimento interno secretaria prevencao violencia promocao direitos humanos inclusive estabelecimentos funcoes complementarao estrutura ora estabelecida consoante disposto complementar paragrafo unico poder podera editar mediante atos necessarios alteracoes orcamentaria decorrente aplicacao extintos orgaos cargos sao correspondentes departamento comando guarda secretaria governo secretaria executiva comissao defesa civil secretaria governo divisao assistencia juridica secretaria desenvolvimento social entrara publicacao revogadas disposicoes contrario prefeitura outubro dr tarcizio suzart pimenta junior\n"
    }
   ],
   "source": [
    "def print_lei_mais_sem(orig_idx : int, sem_idx: int):\n",
    "    print('- - - LEI COMPARADA {orig_idx}: - - -\\n\\n')\n",
    "    print(leis.loc[orig_idx, 'texto'])\n",
    "    print('\\n\\n- - - LEI MAIS SEMELHANTE {sem_idx} - - -\\n\\n')\n",
    "    print(leis.loc[sem_idx, 'texto'])\n",
    "\n",
    "print_lei_mais_sem(orig_text_ind, text_mais_sem_ind)"
   ]
  },
  {
   "cell_type": "code",
   "execution_count": 19,
   "metadata": {
    "tags": []
   },
   "outputs": [
    {
     "output_type": "stream",
     "name": "stdout",
     "text": "Para o texto original, a semelhanca do mais semelhante e: 0.43452539573076604\natribuicoes considerando necessidade implementar programa governo federal denominado crack possivel vencer busca aumentar oferta tratamento atencao usuarios aludido elemento toxico considerando julho dispoe criacao conselho antidrogas nao estabelece vinculo conselho secretaria prevencao violencia promocao direitos humanos tampouco outra secretaria considerando enfim competencia inerente secretaria prevencao violencia promocao direitos humanos concomitantemente desenvolvimento politicas publicas modo celere eficiente especial combate drogas ilicitas delegada competencia secretaria prevencao violencia promocao direitos humanos implantacao conselho antidrogas comad respectivas atividades entrara publicacao revogadas disposicoes contrario fevereiro jose ronaldo carvalho mario costa borges chefe carlos antonio moraes lucena procurador mauro oliveira moraes secretario prevencao violencia promocao direitos humanos\n\n\n- - - TEXTO MAIS SEMELHANTE - - -\n\n\npoder atribuicoes especialmente estabelecidas inciso dalei organicado redacao dada emenda faco saber camara atraves origem poder crida estrutura organizacional prefeitura secretaria prevencao violencia promocao direitos humanos orgao integrante poder competencias atribuicoes fixadas forma secretaria prevencao violencia promocao direitos humanos finalidades coordenar orientar supervisionar controlar executar acoes administracao area seguranca bem atuacao orgaos publicos municipais forma articulada priorizado politicas publicas urbanas prevencao violencia promocao defesa direitos humanos minimizacao vitimam preservacao seguranca integridade patrimonio servicos publicos municipais acordo atribuicoes ora estabelecidas competindo formular coordenar implantacao politica prevencao violencia variadas formas executar politicas publicas concernentes combate violencia defesa direitos humanos apoio vitimas violencia preservacao integridade patrimonio servicos publicos municipais integrando s demais politicas sociais forma relacionadas materia prevencao violencia manutencao seguridade cidade relacionar orgaos seguranca estaduais federais objetivo promover acao integrada cidade planejamento aglutinamento comunicacoes estabelecer conjunto s demais secretarias municipais diretrizes prioridades necessarias cumprimento competencias propor medidas priorizar acoes policiamento investigativo preventivo ostensivo realizadas orgaos seguranca publica atuam atraves intercambio constante dados informacoes tratem materia vi promover executar acoes atraves convenios firmar parcerias entidades nacionais estrangeiras exercam atividades destinadas estudos pesquisas inerentes seguranca urbana vii construir prevencao diminuicao violencia todos niveis afastar concretizacao criminalidade variadas formas promovendo respeito direitos fundamentais cidadaos viii criar servico disque denuncia onde serao colhidas comunicacoes referentes atos vandalismo congeneres praticados contra equipamentos servicos publicos municipais ix elaborar plano prevencao violencia promocao direitos humanos x implantar programa nacional seguranca publica cidadania pronasci xi contribuir bom desempenho acoes comissao defesa civil elaborando planos executando acoes avaliando permanentemente atuacao oferecendo recursos administrativos funcionamento xii realizar bienalmente conferencia seguranca publica xiii exercer outras atividades correlatas estrutura secretaria prevencao violencia promocao direitos humanos serao gestao integrada seguranca secretaria prevencao violencia promocao direitos humanos secretario departamento guarda subcomando guarda coordenadorias guarda secretaria executiva comissao defesa civil d departamento apoio juridico divisao apoio familia divisao procedimentos criminais coordenacao projetos especiais coordenadoria nivel coordenadoria nivel conselhos municipais conselho seguranca conselho prevencao drogas paragrafo unico estruturas competencias gestao integrada seguranca conselhos municipais seguranca prevencao drogas permanentes inalteradas conforme definido legislacao vigente quadro cargos provimento temporario nivel especial direcao assessoramento correspondente estrutura organizacional secretaria prevencao violencia promocao direitos humanos secretario prevencao violencia promocao direitos humanos simbolo ne chefe secretario simbolo oficial simbolo comandante guarda simbolo subcomandante guarda simbolo vi dez coordenadores guarda simbolo vii secretario comissao defesa civil simbolo viii coordenador projetos especiais nivel simbolo ix coordenador projetos especiais nivel simbolo x diretor departamento apoio juridico simbolo xi divisao apoio familia simbolo xii divisao procedimentos criminais simbolo autorizado poder praticar praticar todos atos necessarios regulamentacao editando regimento interno secretaria prevencao violencia promocao direitos humanos inclusive estabelecimentos funcoes complementarao estrutura ora estabelecida consoante disposto complementar paragrafo unico poder podera editar mediante atos necessarios alteracoes orcamentaria decorrente aplicacao extintos orgaos cargos sao correspondentes departamento comando guarda secretaria governo secretaria executiva comissao defesa civil secretaria governo divisao assistencia juridica secretaria desenvolvimento social entrara publicacao revogadas disposicoes contrario prefeitura outubro dr tarcizio suzart pimenta junior\n"
    }
   ],
   "source": [
    "# Calcular similaridade usando TF-IDF agora\n",
    "# Comparar com a mesma lei original anterior\n",
    "transformer = TfidfTransformer()\n",
    "X_tfidf = transformer.fit_transform(X)\n",
    "\n",
    "cos_sim_tfidf = cosine_similarity(X_tfidf, dense_output=True)\n",
    "cos_sim_tfidf_idx = np.argsort(cos_sim_tfidf)"
   ]
  },
  {
   "cell_type": "code",
   "execution_count": 20,
   "metadata": {
    "tags": []
   },
   "outputs": [
    {
     "output_type": "stream",
     "name": "stdout",
     "text": "Para o texto original, a semelhanca do mais semelhante e: 0.43452539573076604\natribuicoes considerando necessidade implementar programa governo federal denominado crack possivel vencer busca aumentar oferta tratamento atencao usuarios aludido elemento toxico considerando julho dispoe criacao conselho antidrogas nao estabelece vinculo conselho secretaria prevencao violencia promocao direitos humanos tampouco outra secretaria considerando enfim competencia inerente secretaria prevencao violencia promocao direitos humanos concomitantemente desenvolvimento politicas publicas modo celere eficiente especial combate drogas ilicitas delegada competencia secretaria prevencao violencia promocao direitos humanos implantacao conselho antidrogas comad respectivas atividades entrara publicacao revogadas disposicoes contrario fevereiro jose ronaldo carvalho mario costa borges chefe carlos antonio moraes lucena procurador mauro oliveira moraes secretario prevencao violencia promocao direitos humanos\n\n\n- - - TEXTO MAIS SEMELHANTE - - -\n\n\npoder atribuicoes especialmente estabelecidas inciso dalei organicado redacao dada emenda faco saber camara atraves origem poder crida estrutura organizacional prefeitura secretaria prevencao violencia promocao direitos humanos orgao integrante poder competencias atribuicoes fixadas forma secretaria prevencao violencia promocao direitos humanos finalidades coordenar orientar supervisionar controlar executar acoes administracao area seguranca bem atuacao orgaos publicos municipais forma articulada priorizado politicas publicas urbanas prevencao violencia promocao defesa direitos humanos minimizacao vitimam preservacao seguranca integridade patrimonio servicos publicos municipais acordo atribuicoes ora estabelecidas competindo formular coordenar implantacao politica prevencao violencia variadas formas executar politicas publicas concernentes combate violencia defesa direitos humanos apoio vitimas violencia preservacao integridade patrimonio servicos publicos municipais integrando s demais politicas sociais forma relacionadas materia prevencao violencia manutencao seguridade cidade relacionar orgaos seguranca estaduais federais objetivo promover acao integrada cidade planejamento aglutinamento comunicacoes estabelecer conjunto s demais secretarias municipais diretrizes prioridades necessarias cumprimento competencias propor medidas priorizar acoes policiamento investigativo preventivo ostensivo realizadas orgaos seguranca publica atuam atraves intercambio constante dados informacoes tratem materia vi promover executar acoes atraves convenios firmar parcerias entidades nacionais estrangeiras exercam atividades destinadas estudos pesquisas inerentes seguranca urbana vii construir prevencao diminuicao violencia todos niveis afastar concretizacao criminalidade variadas formas promovendo respeito direitos fundamentais cidadaos viii criar servico disque denuncia onde serao colhidas comunicacoes referentes atos vandalismo congeneres praticados contra equipamentos servicos publicos municipais ix elaborar plano prevencao violencia promocao direitos humanos x implantar programa nacional seguranca publica cidadania pronasci xi contribuir bom desempenho acoes comissao defesa civil elaborando planos executando acoes avaliando permanentemente atuacao oferecendo recursos administrativos funcionamento xii realizar bienalmente conferencia seguranca publica xiii exercer outras atividades correlatas estrutura secretaria prevencao violencia promocao direitos humanos serao gestao integrada seguranca secretaria prevencao violencia promocao direitos humanos secretario departamento guarda subcomando guarda coordenadorias guarda secretaria executiva comissao defesa civil d departamento apoio juridico divisao apoio familia divisao procedimentos criminais coordenacao projetos especiais coordenadoria nivel coordenadoria nivel conselhos municipais conselho seguranca conselho prevencao drogas paragrafo unico estruturas competencias gestao integrada seguranca conselhos municipais seguranca prevencao drogas permanentes inalteradas conforme definido legislacao vigente quadro cargos provimento temporario nivel especial direcao assessoramento correspondente estrutura organizacional secretaria prevencao violencia promocao direitos humanos secretario prevencao violencia promocao direitos humanos simbolo ne chefe secretario simbolo oficial simbolo comandante guarda simbolo subcomandante guarda simbolo vi dez coordenadores guarda simbolo vii secretario comissao defesa civil simbolo viii coordenador projetos especiais nivel simbolo ix coordenador projetos especiais nivel simbolo x diretor departamento apoio juridico simbolo xi divisao apoio familia simbolo xii divisao procedimentos criminais simbolo autorizado poder praticar praticar todos atos necessarios regulamentacao editando regimento interno secretaria prevencao violencia promocao direitos humanos inclusive estabelecimentos funcoes complementarao estrutura ora estabelecida consoante disposto complementar paragrafo unico poder podera editar mediante atos necessarios alteracoes orcamentaria decorrente aplicacao extintos orgaos cargos sao correspondentes departamento comando guarda secretaria governo secretaria executiva comissao defesa civil secretaria governo divisao assistencia juridica secretaria desenvolvimento social entrara publicacao revogadas disposicoes contrario prefeitura outubro dr tarcizio suzart pimenta junior\n"
    }
   ],
   "source": [
    "text_sem_ind = cos_sim_tfidf_idx[orig_text_ind, -2]\n",
    "sem_tfidf = cos_sim_tfidf[orig_text_ind, text_sem_ind]\n",
    "\n",
    "print(f'Para o texto original, a semelhanca do mais semelhante e: {sem_tfidf}')\n",
    "print_lei_mais_sem(orig_text_ind, text_sem_ind)"
   ]
  },
  {
   "cell_type": "code",
   "execution_count": 22,
   "metadata": {
    "tags": []
   },
   "outputs": [
    {
     "output_type": "stream",
     "name": "stdout",
     "text": "[ True False  True ... False  True  True]\n"
    }
   ],
   "source": [
    "# Ok, mostraram a mesma lei!\n",
    "# A semelhanca usando tfidf eh menor\n",
    "# Será que sempre mostram a mesma lei ou existe alguma dif?\n",
    "# Se existe diff, qual o melhor metodo? Contando ou tfidf?\n",
    "max_sim_idx_tfidf = cos_sim_tfidf_idx[:,-2]\n",
    "\n",
    "idx_iguais = (max_sim_index == max_sim_idx_tfidf)\n",
    "print(idx_iguais)"
   ]
  },
  {
   "cell_type": "code",
   "execution_count": 25,
   "metadata": {
    "tags": []
   },
   "outputs": [
    {
     "output_type": "stream",
     "name": "stdout",
     "text": "Segunda lei e lei mais semelhante de acordo com count:\n\n\natribuicoes legais base autorizacao contida dezembro aberto credito suplementar orcamento valor cento noventa nove mil reais conforme detalhamento abaixo class programatica economica fonte valor inst total tabela formatada equipe tecnica leismunicipais br recursos disponiveis acorrer despesas presente credito suplementar correrao conta anulacoes dotacoes abaixo detalhadas class programatica economica fonte valor inst total tabela formatada equipe tecnica leismunicipais br contabilidade autorizada efetuar registros contabeis necessarios cumprimento entra publicacao fevereiro jose ronaldo carvalho\n\n\n- - - TEXTO MAIS SEMELHANTE - - -\n\n\natribuicoes legais base autorizacao contida dezembro aberto credito suplementar orcamento valor seiscentos cinquenta mil reais conforme detalhamento abaixo class programatica economica fonte valor inst total tabela formatada equipe tecnica leismunicipais br recursos disponiveis acorrer despesas presente credito suplementar correrao conta anulacoes dotacoes abaixo detalhadas class programatica economica fonte valor inst total tabela formatada equipe tecnica leismunicipais br contabilidade autorizada efetuar registros contabeis necessarios cumprimento entra publicacao fevereiro jose ronaldo carvalho\n"
    }
   ],
   "source": [
    "# Os semelhantes pra segunda lei e pra anti-penultima sao diferentes\n",
    "# Vamos dar uma olhada\n",
    "print('Segunda lei e lei mais semelhante de acordo com count:\\n\\n')\n",
    "print_lei_mais_sem(1, max_sim_index[1])"
   ]
  },
  {
   "cell_type": "code",
   "execution_count": 24,
   "metadata": {
    "tags": []
   },
   "outputs": [
    {
     "output_type": "stream",
     "name": "stdout",
     "text": "Segunda lei e lei mais semelhante de acordo com tfidf:\natribuicoes legais base autorizacao contida dezembro aberto credito suplementar orcamento valor cento noventa nove mil reais conforme detalhamento abaixo class programatica economica fonte valor inst total tabela formatada equipe tecnica leismunicipais br recursos disponiveis acorrer despesas presente credito suplementar correrao conta anulacoes dotacoes abaixo detalhadas class programatica economica fonte valor inst total tabela formatada equipe tecnica leismunicipais br contabilidade autorizada efetuar registros contabeis necessarios cumprimento entra publicacao fevereiro jose ronaldo carvalho\n\n\n- - - TEXTO MAIS SEMELHANTE - - -\n\n\natribuicoes legais base autorizacao contida dezembro aberto credito suplementar orcamento valor mil reais conforme detalhamento abaixo class programatica economica fonte valor inst total tabela formatada equipe tecnica leismunicipais br recursos disponiveis acorrer despesas presente credito suplementar correrao conta anulacoes dotacoes abaixo detalhadas class programatica economica fonte valor inst total tabela formatada equipe tecnica leismunicipais br contabilidade autorizada efetuar registros contabeis necessarios cumprimento entra publicacao abril jose ronaldo carvalho\n"
    }
   ],
   "source": [
    "print('Segunda lei e lei mais semelhante de acordo com tfidf:\\n\\n')\n",
    "print_lei_mais_sem(1, max_sim_idx_tfidf[1])"
   ]
  },
  {
   "cell_type": "markdown",
   "metadata": {},
   "source": [
    "- - - -\n",
    "\n",
    "Ok, sao bastante similares ainda assim.\n",
    "\n",
    "Acho que Count se saiu um pouco melhor porque o valor da segunda lei eh mais parecido com a primeira e ambas sao publicacao fevereiro, enquanto a tfidf eh publicacao abril.\n",
    "\n",
    "Vamos olhar a antepenultima lei:"
   ]
  },
  {
   "cell_type": "code",
   "execution_count": 28,
   "metadata": {
    "tags": []
   },
   "outputs": [
    {
     "output_type": "stream",
     "name": "stdout",
     "text": "Antpe lei e lei mais semelhante de acordo com count:\n\n\ncamara conformidade inciso abril artigos regimento interno resolucao edil gerusa maria bastos s sampaio promulga resolucao instituida ambito camara semana comemoracao dia pais sera segunda semana mes agosto cada ano paragrafo unico efeito exposto caput casa realizara atividades comemorativas alusivas periodo dedicado semana comemoracao dia pais externando direito cada parlamentar homenagear pai sendo figura paternal genitor pessoa despesas resolucao correrao conta verba existente secretaria casa resolucao entrara publicacao revogadas disposicoes contrario mesa camara agosto ver justiniano oliveira franca ver reinaldo miranda vieira filho ver edvaldo lima santos ver roque pereira carmo secretario ver jose carneiro rocha secretario ver welligton andrade jesus secretario\n\n\n- - - TEXTO MAIS SEMELHANTE - - -\n\n\ncamara conformidade inciso abril artigos regimento interno resolucao mesa resolucao redacao outubro fica considerada dia agente comunitario saude endemias despesas resolucao correrao conta verba existente secretaria d casa resolucao entrara publicacao revogadas disposicoes contrario mesa camara muncipal outubro ver justiniano oliveira franca ver reinaldo miranda vieira filho ver edvaldo lima santos ver roque pereira carmo secretario ver jose carneiro rocha secretario ver welligton andrade jesus secretario\n"
    }
   ],
   "source": [
    "print('Antpe lei e lei mais semelhante de acordo com count:\\n\\n')\n",
    "orig_idx = len(leis) - 3\n",
    "print_lei_mais_sem(orig_idx, max_sim_index[-3])"
   ]
  },
  {
   "cell_type": "code",
   "execution_count": 29,
   "metadata": {
    "tags": []
   },
   "outputs": [
    {
     "output_type": "stream",
     "name": "stdout",
     "text": "Antpe lei e lei mais semelhante de acordo com TFIDF:\n\n\ncamara conformidade inciso abril artigos regimento interno resolucao edil gerusa maria bastos s sampaio promulga resolucao instituida ambito camara semana comemoracao dia pais sera segunda semana mes agosto cada ano paragrafo unico efeito exposto caput casa realizara atividades comemorativas alusivas periodo dedicado semana comemoracao dia pais externando direito cada parlamentar homenagear pai sendo figura paternal genitor pessoa despesas resolucao correrao conta verba existente secretaria casa resolucao entrara publicacao revogadas disposicoes contrario mesa camara agosto ver justiniano oliveira franca ver reinaldo miranda vieira filho ver edvaldo lima santos ver roque pereira carmo secretario ver jose carneiro rocha secretario ver welligton andrade jesus secretario\n\n\n- - - TEXTO MAIS SEMELHANTE - - -\n\n\ncamara conformidade inciso abril artigos regimento interno resolucao edil eremita mota araujo promulga resolucao instituida ambito camara semana familia sera comemorada primeira semana mes maio cada ano paragrafo unico efeito exposto caput casa realizara atividades comemorativas alusivas periodo dedicado semana familia despesas resolucao correrao conta verba existente secretaria casa resolucao entrara publicacao revogadas disposicoes contrario mesa camara abril ver antonio carlos passos ataide ver luiz augusto jesus ver reinaldo miranda vieira filho ver antonio francisco neto secretario eremita mota araujo secretario ver ewerton carneiro costa secretario\n"
    }
   ],
   "source": [
    "print('Antpe lei e lei mais semelhante de acordo com TFIDF:\\n\\n')\n",
    "print_lei_mais_sem(orig_idx, max_sim_idx_tfidf[-3])"
   ]
  },
  {
   "cell_type": "markdown",
   "metadata": {},
   "source": [
    "Ok, nessa o TF-IDF se sai bem melhor.\n",
    "\n",
    "A original trata de semana de dia dos pais.\n",
    "\n",
    "A que o count pegou trata de dia do agente comunitario e cita coisas como saude, endemia, despesas, que não ficaram muit claras pra mim o que são.\n",
    "\n",
    "Já o TF-IDF trata de semana da familia. Não só familia é parecido com pai, mas tb é uma semnaa. E o texto da lei tb é sobre uma semana comemorativa. \n",
    "\n",
    "Vamos ver se existem mais diferenças e quais são estas diferenças:"
   ]
  },
  {
   "cell_type": "code",
   "execution_count": 31,
   "metadata": {
    "tags": []
   },
   "outputs": [
    {
     "output_type": "stream",
     "name": "stdout",
     "text": "[1, 5, 10, 11, 20, 24, 25, 35, 39, 42, 46, 51, 54, 62, 63, 65, 68, 73, 75, 76, 77, 79, 80, 83, 84, 85, 92, 93, 94, 95, 96, 97, 98, 103, 104, 105, 114, 115, 117, 121, 124, 126, 129, 130, 146, 149, 150, 153, 157, 160, 162, 165, 168, 170, 174, 176, 177, 178, 189, 191, 193, 194, 195, 196, 197, 198, 199, 200, 202, 203, 205, 207, 213, 214, 219, 220, 221, 222, 225, 226, 228, 231, 233, 234, 235, 236, 237, 238, 239, 240, 241, 243, 244, 245, 250, 257, 259, 260, 263, 265, 266, 269, 272, 275, 276, 277, 279, 284, 285, 286, 297, 301, 302, 303, 304, 306, 310, 311, 312, 314, 315, 316, 317, 320, 322, 323, 324, 328, 329, 330, 332, 333, 334, 335, 336, 337, 341, 343, 344, 345, 346, 347, 348, 351, 354, 355, 357, 359, 362, 363, 364, 365, 367, 368, 369, 370, 373, 374, 375, 376, 377, 378, 379, 385, 393, 394, 395, 399, 400, 404, 405, 411, 412, 420, 422, 423, 424, 427, 428, 430, 439, 440, 450, 451, 452, 453, 457, 458, 459, 462, 464, 465, 469, 473, 474, 476, 477, 478, 481, 484, 487, 488, 492, 493, 494, 495, 496, 502, 503, 504, 509, 514, 517, 519, 523, 526, 528, 530, 533, 537, 538, 541, 544, 547, 552, 554, 555, 556, 557, 559, 560, 561, 564, 565, 567, 570, 574, 579, 580, 584, 589, 592, 593, 595, 596, 597, 601, 603, 605, 607, 609, 612, 616, 617, 618, 622, 623, 625, 626, 627, 628, 629, 630, 631, 633, 635, 638, 639, 640, 641, 643, 645, 647, 649, 651, 654, 655, 657, 659, 660, 661, 662, 663, 666, 667, 668, 670, 675, 676, 682, 685, 686, 687, 689, 694, 696, 699, 700, 701, 704, 706, 710, 711, 712, 713, 714, 715, 720, 721, 722, 723, 725, 726, 727, 729, 730, 731, 734, 736, 738, 739, 747, 748, 749, 751, 752, 754, 756, 757, 758, 759, 760, 761, 764, 766, 768, 769, 770, 771, 773, 774, 776, 779, 781, 782, 783, 786, 788, 789, 790, 794, 800, 802, 804, 807, 809, 811, 812, 814, 815, 817, 818, 820, 823, 825, 827, 829, 838, 840, 842, 843, 844, 845, 849, 851, 852, 853, 855, 857, 858, 859, 861, 863, 866, 870, 871, 873, 874, 877, 881, 882, 886, 888, 890, 892, 894, 900, 904, 905, 906, 910, 914, 915, 916, 917, 918, 920, 922, 923, 924, 926, 927, 930, 931, 933, 942, 946, 947, 948, 949, 950, 953, 957, 960, 961, 962, 968, 970, 972, 973, 974, 977, 978, 983, 987, 990, 992, 995, 996, 997, 998, 1005, 1008, 1009, 1010, 1011, 1012, 1014, 1015, 1018, 1019, 1022, 1024, 1026, 1029, 1030, 1033, 1036, 1044, 1045, 1046, 1047, 1048, 1049, 1052, 1054, 1056, 1060, 1062, 1066, 1068, 1070, 1072, 1074, 1076, 1085, 1086, 1088, 1090, 1093, 1098, 1100, 1103, 1104, 1105, 1113, 1116, 1117, 1118, 1122, 1126, 1127, 1128, 1130, 1131, 1133, 1135, 1136, 1137, 1138, 1139, 1140, 1143, 1145, 1146, 1147, 1150, 1155, 1156, 1159, 1160, 1161, 1162, 1166, 1172, 1173, 1174, 1175, 1178, 1180, 1183, 1186, 1190, 1197, 1198, 1200, 1201, 1202, 1204, 1205, 1208, 1209, 1210, 1211, 1217, 1218, 1219, 1220, 1222, 1224, 1225, 1226, 1233, 1234, 1237, 1238, 1240, 1241, 1243, 1244, 1245, 1247, 1248, 1249, 1250, 1254, 1256, 1261, 1262, 1264, 1266, 1267, 1270, 1271, 1272, 1275, 1276, 1277, 1278, 1280, 1281, 1283, 1284, 1285, 1286, 1290, 1291, 1292, 1293, 1294, 1296, 1301, 1310, 1313, 1315, 1318, 1319, 1320, 1321, 1327, 1333, 1335, 1337, 1340, 1341, 1342, 1344, 1347, 1348, 1349, 1350, 1351, 1354, 1361, 1362, 1364, 1366, 1370, 1372, 1375, 1381, 1384, 1386, 1387, 1390, 1392, 1395, 1396, 1397, 1402, 1407, 1408, 1409, 1412, 1414, 1415, 1416, 1418, 1419, 1423, 1424, 1426, 1434, 1435, 1438, 1440, 1443, 1446, 1451, 1456, 1457, 1460, 1461, 1462, 1463, 1464, 1467, 1468, 1470, 1472, 1475, 1477, 1478, 1479, 1480, 1484, 1486, 1492, 1493, 1494, 1496, 1497, 1500, 1501, 1504, 1509, 1512, 1513, 1516, 1517, 1518, 1523, 1525, 1528, 1536, 1538, 1542, 1543, 1544, 1550, 1551, 1555, 1559, 1562, 1563, 1567, 1570, 1571, 1572, 1573, 1576, 1581, 1585, 1587, 1588, 1590, 1591, 1595, 1596, 1597, 1598, 1599, 1602, 1604, 1605, 1607, 1608, 1611, 1612, 1615, 1618, 1620, 1621, 1627, 1628, 1633, 1636, 1641, 1642, 1644, 1645, 1646, 1647, 1652, 1653, 1656, 1658, 1660, 1661, 1662, 1664, 1668, 1669, 1670, 1672, 1675, 1676, 1677, 1678, 1682, 1684, 1685, 1686, 1689, 1690, 1691, 1692, 1695, 1699, 1700, 1702, 1706, 1707, 1708, 1709, 1712, 1713, 1714, 1717, 1718, 1719, 1720, 1722, 1725, 1727, 1728, 1729, 1730, 1735, 1737, 1738, 1743, 1746, 1749, 1750, 1751, 1752, 1753, 1754, 1756, 1757, 1758, 1767, 1769, 1772, 1775, 1776, 1777, 1778, 1779, 1780, 1782, 1783, 1786, 1788, 1789, 1790, 1792, 1794, 1799, 1805, 1806, 1807, 1809, 1810, 1812, 1814, 1815, 1820, 1827, 1828, 1834, 1837, 1840, 1841, 1843, 1844, 1846, 1847, 1850, 1851, 1860, 1861, 1863, 1865, 1866, 1867, 1869, 1872, 1875, 1877, 1878, 1879, 1880, 1883, 1886, 1887, 1888, 1893, 1894, 1895, 1899, 1900, 1901, 1902, 1904, 1906, 1907, 1910, 1911, 1917, 1919, 1920, 1921, 1925, 1927, 1928, 1934, 1935, 1937, 1939, 1941, 1943, 1944, 1945, 1948, 1954, 1955, 1958, 1960, 1962, 1965, 1966, 1967, 1968, 1970, 1973, 1974, 1975, 1977, 1979, 1980, 1983, 1989, 1993, 1995, 1997, 1998, 1999, 2000, 2004, 2006, 2007, 2008, 2009, 2017, 2019, 2020, 2021, 2023, 2024, 2026, 2029, 2030, 2033, 2034, 2035, 2037, 2040, 2043, 2044, 2045, 2046, 2047, 2050, 2056, 2057, 2060, 2063, 2064, 2067, 2068, 2069, 2072, 2075, 2076, 2077, 2078, 2082, 2083, 2085, 2086, 2087, 2088, 2089, 2091, 2093, 2097, 2098, 2100, 2101, 2102, 2103, 2104, 2113, 2117, 2118, 2121, 2122, 2123, 2127, 2132, 2133, 2137, 2139, 2140, 2141, 2143, 2150, 2152, 2154, 2155, 2158, 2161, 2162, 2163, 2166, 2167, 2174, 2177, 2180, 2181, 2182, 2184, 2187, 2189, 2191, 2194, 2195, 2196, 2198, 2201, 2203, 2204, 2207, 2209, 2211, 2213, 2214, 2216, 2217, 2218, 2219, 2220, 2222, 2226, 2227, 2228, 2229, 2231, 2233, 2235, 2236, 2238, 2239, 2243, 2246, 2250, 2251, 2252, 2253, 2257, 2258, 2260, 2266, 2268, 2269, 2271, 2273, 2274, 2278, 2281, 2282, 2284, 2285, 2289, 2290, 2292, 2294, 2295, 2297, 2298, 2299, 2301, 2304, 2306, 2314, 2315, 2319, 2320, 2322, 2326, 2327, 2328, 2329, 2332, 2334, 2337, 2339, 2340, 2343, 2345, 2346, 2348, 2354, 2355, 2356, 2357, 2358, 2362, 2366, 2367, 2370, 2371, 2373, 2374, 2376, 2377, 2378, 2379, 2380, 2381, 2384, 2388, 2391, 2393, 2394, 2395, 2396, 2397, 2402, 2407, 2409, 2413, 2414, 2415, 2418, 2419, 2422, 2423, 2425, 2427, 2429, 2431, 2432, 2433, 2437, 2438, 2439, 2441, 2442, 2443, 2445, 2450, 2452, 2453, 2454, 2455, 2456, 2458, 2461, 2462, 2463, 2465, 2468, 2470, 2472, 2481, 2483, 2490, 2492, 2497, 2500, 2501, 2505, 2506, 2507, 2508, 2511, 2513, 2515, 2516, 2517, 2519, 2522, 2524, 2527, 2530, 2532, 2533, 2534, 2537, 2540, 2545, 2550, 2551, 2552, 2553, 2556, 2557, 2558, 2564, 2567, 2570, 2571, 2574, 2579, 2582, 2585, 2588, 2589, 2596, 2600, 2604, 2608, 2610, 2611, 2613, 2616, 2617, 2620, 2623, 2625, 2627, 2628, 2630, 2631, 2632, 2633, 2636, 2638, 2640, 2641, 2643, 2644, 2645, 2649, 2651, 2655, 2656, 2658, 2659, 2661, 2669, 2670, 2673, 2675, 2676, 2681, 2682, 2683, 2686, 2688, 2690, 2691, 2692, 2693, 2694, 2695, 2696, 2699, 2701, 2703, 2705, 2706, 2708, 2711, 2712, 2713, 2715, 2719, 2720, 2722, 2731, 2733, 2734, 2740, 2741, 2742, 2747, 2749, 2752, 2753, 2754, 2757, 2759, 2760, 2761, 2763, 2767, 2768, 2769, 2775, 2777, 2779, 2780, 2783, 2784, 2785, 2786, 2789, 2794, 2800, 2807, 2811, 2813, 2815, 2817, 2818, 2821, 2822, 2823, 2824, 2825, 2826, 2830, 2834, 2836, 2837, 2839, 2840, 2842, 2844, 2846, 2847, 2848, 2849, 2851, 2852, 2854, 2856, 2857, 2859, 2860, 2863, 2866, 2869, 2876, 2879, 2883, 2884, 2885, 2887, 2888, 2889, 2893, 2895, 2897, 2899, 2900, 2901, 2903, 2910, 2912, 2916, 2919, 2921, 2922, 2923, 2924, 2926, 2934, 2935, 2939, 2940, 2942, 2944, 2945, 2947, 2950, 2951, 2952, 2953, 2955, 2961, 2962, 2963, 2964, 2967, 2970, 2972, 2973, 2975, 2983, 2985, 2986, 2987, 2990, 2991, 2993, 2994, 2996, 2997, 2999, 3003, 3004, 3008, 3009, 3010, 3011, 3015, 3021, 3023, 3024, 3025, 3027, 3028, 3032, 3035, 3038, 3039, 3054, 3056, 3057, 3058, 3061, 3066, 3068, 3072, 3073, 3074, 3075, 3076, 3077, 3080, 3082, 3085, 3086, 3087, 3090, 3091, 3092, 3094, 3095, 3098, 3100, 3106, 3108, 3109, 3111, 3112, 3113, 3119, 3120, 3122, 3125, 3126, 3130, 3131, 3132, 3138, 3139, 3141, 3144, 3145, 3146, 3147, 3151, 3152, 3153, 3155, 3158, 3162, 3164, 3165, 3167, 3171, 3172, 3173, 3174, 3179, 3181, 3184, 3187, 3188, 3192, 3193, 3194, 3195, 3196, 3197, 3199, 3201, 3204, 3206, 3210, 3213, 3217, 3218, 3219, 3225, 3234, 3235, 3236, 3237, 3238, 3239, 3247, 3249, 3254, 3256, 3257, 3260, 3264, 3265, 3273, 3275, 3279, 3280, 3282, 3283, 3287, 3293, 3301, 3302, 3307, 3310, 3313, 3317, 3318, 3319, 3320, 3322, 3324, 3328, 3330, 3332, 3334, 3336, 3338, 3339, 3342, 3343, 3344, 3345, 3348, 3354, 3355, 3356, 3357, 3359, 3361, 3362, 3363, 3366, 3367, 3370, 3375, 3378, 3379, 3383, 3388, 3389, 3392, 3394, 3395, 3396, 3397, 3398, 3399, 3403, 3405, 3408, 3409, 3413, 3415, 3422, 3429, 3430, 3433, 3434, 3435, 3436, 3437, 3438, 3439, 3441, 3443, 3446, 3448, 3451, 3452, 3454, 3459, 3461, 3464, 3465, 3467, 3472, 3477, 3482, 3484, 3487, 3489, 3490, 3491, 3492, 3493, 3495, 3499, 3500, 3502, 3503, 3505, 3512, 3514, 3515, 3519, 3520, 3521, 3522, 3523, 3526, 3527, 3530, 3532, 3536, 3537, 3540, 3544, 3545, 3546, 3548, 3550, 3551, 3552, 3555, 3558, 3559, 3560, 3564, 3566, 3567, 3570, 3571, 3572, 3574, 3576, 3577, 3578, 3582, 3593, 3606, 3610, 3622, 3624, 3625, 3626, 3627, 3633, 3636, 3637, 3639, 3641, 3659, 3660, 3666, 3668, 3670, 3671, 3673, 3675, 3681, 3682, 3687, 3689, 3690, 3695, 3697, 3698, 3705, 3707, 3720, 3724, 3728, 3732, 3734, 3736, 3737, 3738, 3740, 3741, 3742, 3743, 3745, 3746, 3747, 3749, 3750, 3751, 3752, 3754, 3755, 3756, 3761, 3762, 3763, 3764, 3765, 3766, 3767, 3768, 3770, 3771, 3773, 3774, 3775, 3776, 3779, 3780, 3781, 3782, 3783, 3784, 3785, 3786, 3787, 3788, 3789, 3790, 3791, 3792, 3793, 3794, 3795, 3796, 3797, 3798, 3799, 3800, 3801, 3803, 3804, 3805, 3806, 3807, 3808, 3809, 3810, 3811, 3812, 3814, 3815, 3816, 3818, 3819, 3820, 3821, 3822, 3823, 3825, 3826, 3827, 3828, 3829, 3830, 3832, 3833, 3834, 3835, 3836, 3837, 3839, 3840, 3841, 3843, 3844, 3845, 3846, 3847, 3848, 3849, 3850, 3851, 3852, 3853, 3855, 3856, 3857, 3858, 3859, 3861, 3862, 3863, 3864, 3865, 3866, 3867, 3869, 3870, 3871, 3872, 3873, 3874, 3875, 3876, 3877, 3879, 3881, 3882, 3883, 3884, 3885, 3886, 3887, 3888, 3889, 3890, 3893, 3894, 3896, 3897, 3898, 3900, 3901, 3902, 3905, 3906, 3907, 3908, 3909, 3910, 3911, 3913, 3914, 3915, 3916, 3918, 3920, 3921, 3922, 3923, 3924, 3925, 3926, 3928, 3930, 3931, 3932, 3933, 3934, 3935, 3936, 3937, 3938, 3939, 3941, 3942, 3945, 3947, 3948, 3949, 3950, 3951, 3952, 3953, 3954, 3955, 3956, 3958, 3959, 3961, 3962, 3964, 3965, 3966, 3967, 3968, 3969, 3970, 3971, 3972, 3973, 3974, 3975, 3976, 3977, 3979, 3980, 3981, 3982, 3984, 3985, 3986, 3987, 3988, 3989, 3990, 3991, 3992, 3993, 3994, 3995, 3996, 3997, 3998, 3999, 4001, 4002, 4004, 4005, 4007, 4008, 4009, 4011, 4012, 4015, 4016, 4018, 4019, 4020, 4021, 4022, 4023, 4024, 4025, 4026, 4027, 4028, 4029, 4030, 4032, 4033, 4034, 4035, 4036, 4037, 4038, 4040, 4041, 4043, 4044, 4046, 4047, 4049, 4051, 4052, 4053, 4055, 4057, 4058, 4060, 4061, 4062, 4063, 4064, 4065, 4066, 4067, 4068, 4070, 4071, 4074, 4077, 4078, 4079, 4080, 4082, 4083, 4085, 4086, 4087, 4088, 4089, 4092, 4095, 4097, 4098, 4099, 4100, 4101, 4102, 4103, 4104, 4105, 4106, 4108, 4109, 4110, 4111, 4112, 4113, 4114, 4115, 4116, 4117, 4119, 4120, 4121, 4122, 4123, 4124, 4125, 4127, 4128, 4129, 4130, 4132, 4133, 4134, 4136, 4137, 4138, 4141, 4142, 4143, 4144, 4145, 4146, 4147, 4148, 4149, 4150, 4151, 4154, 4155, 4156, 4158, 4160, 4161, 4162, 4163, 4165, 4166, 4167, 4168, 4169, 4170, 4172, 4174, 4175, 4176, 4177, 4178, 4179, 4181, 4182, 4186, 4187, 4188, 4189, 4190, 4191, 4192, 4193, 4194, 4195, 4196, 4197, 4198, 4199, 4200, 4201, 4202, 4203, 4204, 4205, 4206, 4207, 4210, 4213, 4214, 4215, 4216, 4217, 4218, 4219, 4220, 4221, 4222, 4223, 4225, 4226, 4228, 4229, 4230, 4231, 4232, 4233, 4234, 4235, 4236, 4237, 4238, 4239, 4240, 4241, 4242, 4243, 4244, 4245, 4246, 4247, 4248, 4249, 4251, 4253, 4254, 4255, 4256, 4258, 4259, 4260, 4261, 4262, 4263, 4264, 4265, 4266, 4267, 4268, 4269, 4270, 4271, 4273, 4274, 4275, 4277, 4278, 4279, 4280, 4281, 4282, 4283, 4285, 4286, 4287, 4288, 4289, 4290, 4291, 4292, 4293, 4294, 4296, 4298, 4299, 4300, 4301, 4302, 4304, 4305, 4306, 4308, 4309, 4310, 4311, 4312, 4313, 4314, 4315, 4316, 4317, 4318, 4319, 4320, 4321, 4322, 4323, 4324, 4325, 4326, 4327, 4328, 4329, 4331, 4332, 4333, 4334, 4335, 4337, 4339, 4340, 4341, 4342, 4343, 4344, 4345, 4347, 4348, 4349, 4350, 4352, 4353, 4354, 4355, 4356, 4358, 4359, 4360, 4361, 4362, 4363, 4365, 4366, 4367, 4368, 4369, 4370, 4371, 4372, 4374, 4375, 4376, 4377, 4378, 4379, 4380, 4383, 4384, 4385, 4386, 4388, 4389, 4391, 4392, 4393, 4394, 4395, 4396, 4397, 4398, 4400, 4401, 4402, 4403, 4405, 4406, 4407, 4408, 4409, 4410, 4411, 4412, 4414, 4415, 4416, 4417, 4418, 4419, 4420, 4421, 4422, 4423, 4425, 4428, 4429, 4430, 4431, 4433, 4434, 4435, 4436, 4437, 4441, 4442, 4443, 4445, 4446, 4447, 4448, 4449, 4450, 4452, 4453, 4454, 4455, 4456, 4459, 4460, 4462, 4463, 4464, 4465, 4466, 4467, 4469, 4471, 4472, 4473, 4474, 4475, 4476, 4477, 4478, 4479, 4480, 4482, 4483, 4484, 4485, 4486, 4487, 4488, 4489, 4490, 4491, 4493, 4494, 4495, 4496, 4497, 4498, 4499, 4500, 4502, 4504, 4505, 4506, 4508, 4511, 4512, 4513, 4518, 4519, 4520, 4521, 4522, 4523, 4524, 4526, 4527, 4528, 4529, 4530, 4531, 4532, 4533, 4534, 4536, 4537, 4538, 4539, 4540, 4541, 4542, 4543, 4544, 4546, 4547, 4548, 4549, 4551, 4553, 4554, 4555, 4557, 4558, 4559, 4560, 4561, 4563, 4564, 4565, 4566, 4567, 4568, 4569, 4570, 4571, 4572, 4573, 4574, 4575, 4576, 4577, 4578, 4579, 4580, 4582, 4584, 4585, 4586, 4587, 4589, 4590, 4591, 4592, 4593, 4595, 4597, 4598, 4599, 4600, 4601, 4602, 4603, 4604, 4606, 4607, 4608, 4609, 4611, 4612, 4613, 4614, 4617, 4620, 4621, 4623, 4627, 4628, 4629, 4630, 4631, 4632, 4634, 4635, 4636, 4637, 4638, 4639, 4640, 4641, 4642, 4643, 4647, 4648, 4649, 4650, 4651, 4652, 4653, 4654, 4655, 4656, 4657, 4658, 4660, 4661, 4662, 4663, 4665, 4666, 4667, 4668, 4669, 4670, 4671, 4673, 4675, 4676, 4679, 4680, 4681, 4682, 4683, 4684, 4685, 4687, 4688, 4689, 4691, 4692, 4693, 4694, 4695, 4696, 4697, 4699, 4700, 4701, 4702, 4705, 4709, 4710, 4711, 4713, 4714, 4715, 4716, 4717, 4718, 4719, 4720, 4721, 4722, 4723, 4724, 4726, 4727, 4728, 4729, 4733, 4734, 4735, 4736, 4737, 4738, 4739, 4740, 4741, 4742, 4744, 4745, 4748, 4749, 4750, 4751, 4752, 4753, 4755, 4756, 4757, 4758, 4759, 4760, 4761, 4762, 4763, 4765, 4766, 4767, 4768, 4769, 4770, 4771, 4772, 4773, 4774, 4775, 4776, 4777, 4778, 4780, 4781, 4782, 4783, 4784, 4785, 4786, 4788, 4789, 4790, 4791, 4792, 4793, 4794, 4795, 4796, 4797, 4798, 4800, 4802, 4803, 4805, 4806, 4807, 4808, 4810, 4811, 4814, 4817, 4818, 4819, 4820, 4821, 4822, 4824, 4825, 4826, 4827, 4828, 4830, 4831, 4832, 4833, 4834, 4835, 4836, 4837, 4838, 4839, 4841, 4842, 4843, 4845, 4846, 4847, 4848, 4849, 4851, 4852, 4853, 4854, 4856, 4857, 4858, 4859, 4860, 4861, 4862, 4863, 4865, 4866, 4869, 4871, 4872, 4873, 4874, 4876, 4877, 4878, 4879, 4880, 4881, 4882, 4883, 4885, 4888, 4889, 4890, 4891, 4893, 4895, 4896, 4898, 4899, 4900, 4901, 4902, 4905, 4906, 4907, 4908, 4909, 4910, 4911, 4912, 4913, 4914, 4915, 4916, 4917, 4918, 4919, 4920, 4921, 4922, 4923, 4924, 4925, 4928, 4929, 4930, 4931, 4932, 4933, 4934, 4935, 4937, 4938, 4939, 4941, 4942, 4943, 4944, 4945, 4946, 4947, 4948, 4949, 4950, 4952, 4953, 4954, 4955, 4956, 4957, 4958, 4959, 4960, 4961, 4962, 4963, 4964, 4965, 4966, 4967, 4968, 4969, 4970, 4971, 4972, 4973, 4974, 4975, 4976, 4977, 4979, 4980, 4981, 4982, 4983, 4985, 4986, 4988, 4989, 4991, 4993, 4994, 4995, 4996, 4997, 4998, 4999, 5000, 5001, 5004, 5006, 5009, 5010, 5012, 5013, 5014, 5015, 5016, 5017, 5018, 5019, 5020, 5021, 5022, 5023, 5024, 5025, 5028, 5029, 5030, 5031, 5033, 5034, 5035, 5036, 5037, 5038, 5039, 5040, 5041, 5042, 5043, 5044, 5045, 5046, 5048, 5052, 5053, 5054, 5055, 5056, 5057, 5058, 5059, 5060, 5061, 5062, 5065, 5067, 5068, 5069, 5070, 5071, 5072, 5073, 5076, 5078, 5080, 5081, 5082, 5083, 5084, 5086, 5087, 5089, 5090, 5091, 5092, 5093, 5095, 5098, 5099, 5100, 5101, 5103, 5104, 5105, 5107, 5108, 5109, 5110, 5111, 5112, 5113, 5114, 5115, 5116, 5117, 5118, 5119, 5120, 5121, 5122, 5123, 5124, 5125, 5126, 5127, 5128, 5129, 5130, 5131, 5132, 5133, 5135, 5136, 5137, 5138, 5139, 5140, 5142, 5143, 5144, 5145, 5147, 5148, 5150, 5151, 5152, 5153, 5154, 5155, 5156, 5157, 5158, 5160, 5161, 5162, 5163, 5164, 5165, 5168, 5171, 5173, 5174, 5178, 5179, 5181, 5184, 5187, 5188, 5189, 5190, 5194, 5197, 5199, 5200, 5201, 5202, 5203, 5205, 5208, 5210, 5212, 5213, 5215, 5216, 5217, 5218, 5219, 5220, 5221, 5223, 5224, 5227, 5228, 5229, 5230, 5233, 5235, 5236, 5237, 5238, 5239, 5240, 5243, 5244, 5247, 5248, 5250, 5251, 5252, 5254, 5255, 5256, 5257, 5258, 5260, 5261, 5264, 5265, 5266, 5273, 5276, 5278, 5279, 5280, 5284, 5287, 5288, 5289, 5290, 5291, 5293, 5295, 5296, 5298, 5299, 5300, 5302, 5303, 5305, 5309, 5310, 5312, 5314, 5315, 5316, 5318, 5319, 5320, 5321, 5324, 5327, 5328, 5330, 5334, 5335, 5336, 5337, 5340, 5342, 5343, 5344, 5346, 5347, 5348, 5353, 5355, 5356, 5358, 5361, 5362, 5363, 5364, 5365, 5368, 5369, 5370, 5372, 5373, 5374, 5377, 5378, 5379, 5382, 5383, 5384, 5385, 5386, 5392, 5393, 5396, 5399, 5400, 5402, 5407, 5410, 5414, 5416, 5417, 5418, 5420, 5421, 5423, 5424, 5425, 5426, 5427, 5428, 5429, 5431, 5434, 5436, 5437, 5438, 5440, 5441, 5442, 5443, 5446, 5447, 5448, 5450, 5451, 5452, 5453, 5454, 5455, 5456, 5458, 5459, 5461, 5462, 5464, 5466, 5467, 5468, 5469, 5470, 5471, 5474, 5475, 5477, 5480, 5481, 5483, 5484, 5487, 5491, 5494, 5495, 5496, 5499, 5500, 5502, 5503, 5506, 5507, 5508, 5509, 5511, 5514, 5515, 5519, 5523, 5524, 5529, 5530, 5536, 5542, 5543, 5545, 5551, 5552, 5555, 5556, 5561, 5562, 5564, 5566, 5567, 5573, 5576, 5585, 5587, 5591, 5592, 5593, 5594, 5598, 5601, 5602, 5604, 5605, 5610, 5612, 5613, 5615, 5618, 5621, 5622, 5626, 5628, 5634, 5635, 5636, 5637, 5638, 5640, 5641, 5642, 5644, 5648, 5658, 5659, 5667, 5669, 5670, 5676, 5689, 5690, 5692, 5695, 5696, 5698, 5699, 5701, 5703, 5704, 5705, 5706, 5710, 5711, 5713, 5714, 5715, 5716, 5721, 5723, 5724, 5729, 5735, 5740, 5743, 5744, 5748, 5750, 5756, 5760, 5761, 5766, 5769, 5776, 5777, 5779, 5781, 5789, 5795, 5796, 5797, 5798, 5799, 5805, 5806, 5810, 5812, 5813, 5818, 5820, 5821, 5822, 5823, 5828, 5830, 5847, 5848, 5849, 5855, 5860, 5863, 5864, 5865, 5866, 5867, 5874, 5876, 5878, 5879, 5881, 5883, 5884, 5890, 5904, 5905, 5906, 5909, 5912, 5913, 5917, 5920, 5921, 5925, 5926, 5935, 5936, 5938, 5948, 5949, 5951, 5959, 5961, 5964, 5972, 5976, 5978, 5981, 5983, 5984, 5994, 5997, 6000, 6005, 6006, 6015, 6018, 6019, 6023, 6024, 6026, 6028, 6030]\n3161\n"
    }
   ],
   "source": [
    "difs = [i for i, igual in enumerate(idx_iguais) if not igual]\n",
    "print(difs)\n",
    "print(len(difs))"
   ]
  },
  {
   "cell_type": "markdown",
   "metadata": {},
   "source": [
    "Então pra mais da metade das leis Count e TF-IDF retornam resultados diferentes. Será que de TF-IDF pra vetor de palavras vai ter essa diferença toda também? Uma questão. \n",
    "\n",
    "Voltando ao que interessa, vamo dar uma olhada em mais algumas leis pra continuar a comparação entre Count e TF-IDF.\n",
    "\n",
    "Vamo sortear indices aleatorios desse vetor e ler as leis que eles representam e as similaridades"
   ]
  },
  {
   "cell_type": "code",
   "execution_count": 35,
   "metadata": {
    "tags": []
   },
   "outputs": [
    {
     "output_type": "stream",
     "name": "stdout",
     "text": "[1018, 5776, 2789, 1772, 530, 4810, 5238, 4660, 5383, 4699]\n"
    }
   ],
   "source": [
    "num_leis_sorteadas = 10\n",
    "idx_dif = np.random.randint(0, high=len(difs)-1, size=num_leis_sorteadas)\n",
    "sorteadas = [difs[i] for i in idx_dif]\n",
    "print(sorteadas)"
   ]
  },
  {
   "cell_type": "code",
   "execution_count": 39,
   "metadata": {
    "tags": []
   },
   "outputs": [
    {
     "output_type": "stream",
     "name": "stdout",
     "text": "\n\nLei numero 1018\nPAR UTILIZANDO COUNT:\n\n\n- - - LEI COMPARADA: - - -\n\n\nfaco saber camara atraves edil roberto luis silva tourinho proibida ambito administracao publica concessao homenagens pessoas sido condenadas sentencas transitados julgado improbidade administracao publica crime corrupcao paragrafo unico incluem vedacao caput denominacao predios locais publicos municipais vedacao dispoe estende tambem pessoas sido condenadas sentencas transitadas julgado pratica crimes contra direitos humanos exploracao trabalho escravo maus tratos animais sido historicamente considerados participantes condenados dolosos contra vida entrara publicacao revogadas disposicoes contrario setembro jose ronaldo carvalho mario costa borges chefe cleudson santos almeida procurador justiniano oliveira franca secretario servicos publicos publicado diario oficial eletronico dia outubro\n\n\n- - - LEI MAIS SEMELHANTE - - -\n\n\nfaco saber camara atraves edil roberto luis silva tourinho considerada utilidade publica associacao maos sonham sede rua juarez tavora s neste entrara publicacao revogadas disposicoes contrario agosto jose ronaldo carvalho mario costa borges chefe cleudson santos almeida procurador publicado diario oficial eletronico dia setembro\n\n\nPAR UTILIZANDO TF-IDF:\n\n\n- - - LEI COMPARADA: - - -\n\n\nfaco saber camara atraves edil roberto luis silva tourinho proibida ambito administracao publica concessao homenagens pessoas sido condenadas sentencas transitados julgado improbidade administracao publica crime corrupcao paragrafo unico incluem vedacao caput denominacao predios locais publicos municipais vedacao dispoe estende tambem pessoas sido condenadas sentencas transitadas julgado pratica crimes contra direitos humanos exploracao trabalho escravo maus tratos animais sido historicamente considerados participantes condenados dolosos contra vida entrara publicacao revogadas disposicoes contrario setembro jose ronaldo carvalho mario costa borges chefe cleudson santos almeida procurador justiniano oliveira franca secretario servicos publicos publicado diario oficial eletronico dia outubro\n\n\n- - - LEI MAIS SEMELHANTE - - -\n\n\nfaco saber camara atraves edil roberto luis silva tourinho instituido calendario oficial eventos dia adocao animal ser comemorado anualmente maio entrara publicacao revogadas disposicoes contrario agosto jose ronaldo carvalho mario costa borges chefe cleudson santos almeida procurador publicado diario oficial eletronico dia setembro\n\n\nLei numero 5776\nPAR UTILIZANDO COUNT:\n\n\n- - - LEI COMPARADA: - - -\n\n\nmesa camara conformidade inciso vii abril regimento interno promulga resolucao adicional tempo servico devido servidor poder legislativo razao dez cento quinquenio efetivo exercicio incidente exclusivamente vencimento cargo efetivo ate limite cinquenta cento paragrafo unico adicional trata sera devido partir mes imediato servidor completar quinquenio sera pago automaticamente resolucao entrara publicacao revogadas disposicoes contrario mesa camara outubro oyama figueiredo jose flantildes ribeiro oliveira joao batista cerqueira secretario eliana maria santos boaventura secretario\n\n\n- - - LEI MAIS SEMELHANTE - - -\n\n\nmesa camara conformidade inciso vii abril regimento interno promulga resolucao paragrafo resolucao seguir abertura cada sessao camara determinara leitura livros biblia sagrada resolucao entrara publicacao revogadas disposicoes contrario mesa camara outubro oyama figueiredo jose flantildes ribeiro oliveira joao batista cerqueira secretario eliana maria santos boaventura secretario\n\n\nPAR UTILIZANDO TF-IDF:\n\n\n- - - LEI COMPARADA: - - -\n\n\nmesa camara conformidade inciso vii abril regimento interno promulga resolucao adicional tempo servico devido servidor poder legislativo razao dez cento quinquenio efetivo exercicio incidente exclusivamente vencimento cargo efetivo ate limite cinquenta cento paragrafo unico adicional trata sera devido partir mes imediato servidor completar quinquenio sera pago automaticamente resolucao entrara publicacao revogadas disposicoes contrario mesa camara outubro oyama figueiredo jose flantildes ribeiro oliveira joao batista cerqueira secretario eliana maria santos boaventura secretario\n\n\n- - - LEI MAIS SEMELHANTE - - -\n\n\nmesa camara conformidade inciso vii inciso alinea abril promulga resolucao resolucao paragrafo unico redacao paragrafo unico aposentadoria diretor valor vencimentos correspondera oitenta cento vencimento diretor resolucao entrara publicacao ficando revogadas disposicoes contrario mesa camara agosto oyama figueiredo jose flantildes ribeiro oliveira joao batista cerqueira secretario eliana maria santos boaventura secretario\n\n\nLei numero 2789\nPAR UTILIZANDO COUNT:\n\n\n- - - LEI COMPARADA: - - -\n\n\ncintia daltro machado faco saber camara atraves edil cintia daltro machado determinado obrigatoriedade presenca servidor formacao comprovada primeiros socorros escolas rede ensino duzentos alunos obrigatoriedade presenca servidor turnos vespertinos matutino conforme obedecera calendario escolar determinado secretaria educacao prefeitura atraves secretaria saude ficara responsabilidade fazer treinamento servidor prefeitura atraves secretaria educacao viabilizara todas condicoes cumprimento presente apos publicacao entrara dia janeiro revogadas disposicoes contrario prefeitura outrubro jose ronaldo carvalho\n\n\n- - - LEI MAIS SEMELHANTE - - -\n\n\ncintia daltro machado faco saber camara atraves edil cintia daltro machado considerada utilidade publica inkaba instituto karate sede rua honorato bonfim centro neste entrara publicacao revogadas disposicoes contrario prefeitura novembro jose ronaldo carvalho\n\n\nPAR UTILIZANDO TF-IDF:\n\n\n- - - LEI COMPARADA: - - -\n\n\ncintia daltro machado faco saber camara atraves edil cintia daltro machado determinado obrigatoriedade presenca servidor formacao comprovada primeiros socorros escolas rede ensino duzentos alunos obrigatoriedade presenca servidor turnos vespertinos matutino conforme obedecera calendario escolar determinado secretaria educacao prefeitura atraves secretaria saude ficara responsabilidade fazer treinamento servidor prefeitura atraves secretaria educacao viabilizara todas condicoes cumprimento presente apos publicacao entrara dia janeiro revogadas disposicoes contrario prefeitura outrubro jose ronaldo carvalho\n\n\n- - - LEI MAIS SEMELHANTE - - -\n\n\ncintia daltro machado faco saber camara atraves edil cintia daltro machado considerada utilidade publica associacao estrela jaco j sede rua turmalina bairro brasilia neste entrara publicacao revogadas disposicoes contrario prefeitura outubro jose ronaldo carvalho\n\n\nLei numero 1772\nPAR UTILIZANDO COUNT:\n\n\n- - - LEI COMPARADA: - - -\n\n\natribuicoes faco saber camara atraves edil manoel messias gonzaga considerado utilidade publica sindicato trabalhadores rurais sede rua juvencio erudilho bairro barroquinha entrara publicacao revogadas disposicoes contrario novembro jose ronaldo carvalho geraldo oliveira sampaio filho chefe\n\n\n- - - LEI MAIS SEMELHANTE - - -\n\n\natribuicoes faco saber camara atraves edil manoel messias gonzaga considerada utilidade publica associacao profissionais sexo sede rua conselheiro franco edificio mandacaru sala andar centro entrara publicacao revogadas disposicoes contrario novembro jose ronaldo carvalho geraldo oliveira sampaio filho chefe\n\n\nPAR UTILIZANDO TF-IDF:\n\n\n- - - LEI COMPARADA: - - -\n\n\natribuicoes faco saber camara atraves edil manoel messias gonzaga considerado utilidade publica sindicato trabalhadores rurais sede rua juvencio erudilho bairro barroquinha entrara publicacao revogadas disposicoes contrario novembro jose ronaldo carvalho geraldo oliveira sampaio filho chefe\n\n\n- - - LEI MAIS SEMELHANTE - - -\n\n\nfaco saber camara considerada utilidade publica associacao pequenos agricultores apaeb sede nesta cidade rua juvencio erudilho bairro barroquinha entrara publicacao revogadas disposicoes contrario dezembro jose raimundo p azevedo jorge antonio araujo cazumba chefe antonio francisco neto publicacao\n\n\nLei numero 530\nPAR UTILIZANDO COUNT:\n\n\n- - - LEI COMPARADA: - - -\n\n\ncintia daltro machado faco saber camara atraves edil cintia daltro machado considerada utilidade publica igreja ministerio pentecostal fogo gloria sede provisoria rua volta redonda bairro campo limpo neste entrara publicacao revogadas disposicoes contrario prefeitura setembro dr tarcizio suzart pimenta junior\n\n\n- - - LEI MAIS SEMELHANTE - - -\n\n\ncintia daltro machado faco saber camara atraves edil cintia daltro machado considerada utilidade publica instituto nobre sede rodovia br km cis neste entrara publicacao revogadas disposicoes contrario novembro dr tarcizio suzart pimenta junior\n\n\nPAR UTILIZANDO TF-IDF:\n\n\n- - - LEI COMPARADA: - - -\n\n\ncintia daltro machado faco saber camara atraves edil cintia daltro machado considerada utilidade publica igreja ministerio pentecostal fogo gloria sede provisoria rua volta redonda bairro campo limpo neste entrara publicacao revogadas disposicoes contrario prefeitura setembro dr tarcizio suzart pimenta junior\n\n\n- - - LEI MAIS SEMELHANTE - - -\n\n\ncintia daltro machado faco saber camara atraves edil cintia daltro machado considerada utilidade publica igreja evangelica pentecostal monte carmelo sede provisoria rua espassonavel bairro george americo neste entrara publicacao revogadas disposicoes contrario prefeitura fevereiro jose ronaldo carvalho\n\n\nLei numero 4810\nPAR UTILIZANDO COUNT:\n\n\n- - - LEI COMPARADA: - - -\n\n\ncamara conformidade inciso vi abril artigos regimento interno promulga legislativo concedida comenda godofredo rebello figueiredo filho professor raymundo luiz oliveira lopes mesa camara providenciara confeccao comenda godofredo rebello figueiredo filho sera entregue sessao solene convocada especialmente fim despesas correrao conta verba existente secretaria casa legislativo entrara publicacao revogadas disposicoes contrario mesa camara abril ver antonio carlos daltro coelho ver antonio francisco neto ver genesio serafim lima secretario ver jorge raimundo oliveira silva secretario visualizar integra legislativo ba\n\n\n- - - LEI MAIS SEMELHANTE - - -\n\n\ncamara conformidade inciso vi abril artigos regimento interno promulga legislativo concedida comenda godofredo rebello figueiredo filho dr nilton bellas vieira mesa camara providenciara confeccao comenda godofredo rebello figueiredo filho sera entregue sessao solene convocada especialmente fim despesas correrao conta verba existente secretaria casa legislativo entrara publicacao revogadas disposicoes contrario mesa camara abril ver antonio carlos daltro coelho ver antonio francisco neto ver genesio serafim lima secretario ver jorge raimundo oliveira silva secretario visualizar integra legislativo ba\n\n\nPAR UTILIZANDO TF-IDF:\n\n\n- - - LEI COMPARADA: - - -\n\n\ncamara conformidade inciso vi abril artigos regimento interno promulga legislativo concedida comenda godofredo rebello figueiredo filho professor raymundo luiz oliveira lopes mesa camara providenciara confeccao comenda godofredo rebello figueiredo filho sera entregue sessao solene convocada especialmente fim despesas correrao conta verba existente secretaria casa legislativo entrara publicacao revogadas disposicoes contrario mesa camara abril ver antonio carlos daltro coelho ver antonio francisco neto ver genesio serafim lima secretario ver jorge raimundo oliveira silva secretario visualizar integra legislativo ba\n\n\n- - - LEI MAIS SEMELHANTE - - -\n\n\ncamara conformidade inciso vi abril artigos regimento interno promulga legislativo concedida comenda godofredo rebello figueiredo filho dr raimundo antonio carneiro pinto mesa camara providenciara confeccao comenda godofredo rebello figueiredo filho sera entregue sessao solene convocada especialmente fim despesas correrao conta verba existente secretaria casa legislativo entrara publicacao revogadas disposicoes contrario mesa camara abril ver antonio carlos daltro coelho ver antonio francisco neto ver genesio serafim lima secretario ver jorge raimundo oliveira silva secretario visualizar integra legislativo ba\n\n\nLei numero 5238\nPAR UTILIZANDO COUNT:\n\n\n- - - LEI COMPARADA: - - -\n\n\ncamara promulga denominada avenida otavio mangabeira nova via publica nesta cidade comeca av dutra termina rua quintino bocaiuva paralela av prof fernando sao paulo rua dr simoes filho despesas constantes correrao conta verba destinada obras publicas presente entrara publicacao revogadas disposicoes contrario publique sala sessoes camara sant ana novembro jorge watt silva diversos autores publicacao\n\n\n- - - LEI MAIS SEMELHANTE - - -\n\n\ncamara sant ana promulga denominada rua manuel olavo velha via publica conhecida estrada boiadas nesta cidade despesas constantes correrao conta verba destinada obras publicas presente entrara publicacao disposicoes contrario publique sala sessoes camara outubro alberto oliveira execicio presidencia humberto cerqueira mascarenhas publicacao\n\n\nPAR UTILIZANDO TF-IDF:\n\n\n- - - LEI COMPARADA: - - -\n\n\ncamara promulga denominada avenida otavio mangabeira nova via publica nesta cidade comeca av dutra termina rua quintino bocaiuva paralela av prof fernando sao paulo rua dr simoes filho despesas constantes correrao conta verba destinada obras publicas presente entrara publicacao revogadas disposicoes contrario publique sala sessoes camara sant ana novembro jorge watt silva diversos autores publicacao\n\n\n- - - LEI MAIS SEMELHANTE - - -\n\n\ncamara promulga resolucao denominada rua dr simoes filho via publica nesta cidade comeca avenida getulio vargas passando antena radio cultura termina rua quintino bocaiuva despesas constantes sairao verba destinada obras publicas presente entrara publicacao ficando revogadas disposicoes contrario publique sala sessoes dezembro jorge watt dourival oliveira secretario mario porto secretario autores antonio manoel araujo dorival oliveira mario porto colbert martins oswaldo piraja antonio lourenco nery wilson costa falcao joselito falcao amorim arthur vieira oliveira augusto matias silva\n\n\nLei numero 4660\nPAR UTILIZANDO COUNT:\n\n\n- - - LEI COMPARADA: - - -\n\n\nvisualizar legislativo ba\n\n\n- - - LEI MAIS SEMELHANTE - - -\n\n\nvisualizar legislativo ba\n\n\nPAR UTILIZANDO TF-IDF:\n\n\n- - - LEI COMPARADA: - - -\n\n\nvisualizar legislativo ba\n\n\n- - - LEI MAIS SEMELHANTE - - -\n\n\nvisualizar legislativo ba\n\n\nLei numero 5383\nPAR UTILIZANDO COUNT:\n\n\n- - - LEI COMPARADA: - - -\n\n\njose ronaldo carvalho justiniano oliveira franca assunto saude edvaldo lima santos camara faco saber camara atraves edil edvaldo lima santos conformidade abril inciso regimento interno promulga academias ginastica estabelecimentos similares devem disponibilizar equipamento aferir pressao arterial esfignomanometro estetoscopio efeitos entenda equipamento medicao pressao arterial esfignomanometro estetoscopio instrumentos ser utilizado antes atividades fisicas semestralmente ainda fizer necessario academias ginasticas estabelecimentos similares deverao calibrar aferir aparelhos poder regulamentara prazo noventa dias apos publicacao entrara publicacao revogadas disposicoes contrario camara junho justiniano oliveira franca\n\n\n- - - LEI MAIS SEMELHANTE - - -\n\n\ncamara faco saber camara atraves edil justiniano oliveira franca conformidade abril inciso regime interno promulga empresas exploradoras servicos funerarios deverao fornecer cadeiras rodas utilizacao deficientes fisicos idosos pessoas dificuldade locomocao realizacao velorios sepultamentos entrara publicacao revogadas disposicoes contrario camara setembro ver antonio francisco neto justiniano oliveira franca publicacao\n\n\nPAR UTILIZANDO TF-IDF:\n\n\n- - - LEI COMPARADA: - - -\n\n\njose ronaldo carvalho justiniano oliveira franca assunto saude edvaldo lima santos camara faco saber camara atraves edil edvaldo lima santos conformidade abril inciso regimento interno promulga academias ginastica estabelecimentos similares devem disponibilizar equipamento aferir pressao arterial esfignomanometro estetoscopio efeitos entenda equipamento medicao pressao arterial esfignomanometro estetoscopio instrumentos ser utilizado antes atividades fisicas semestralmente ainda fizer necessario academias ginasticas estabelecimentos similares deverao calibrar aferir aparelhos poder regulamentara prazo noventa dias apos publicacao entrara publicacao revogadas disposicoes contrario camara junho justiniano oliveira franca\n\n\n- - - LEI MAIS SEMELHANTE - - -\n\n\ncamara faco saber camara atraves edil luiz augusto jesus conformidade abril inciso regimento interno promulga instituida colocacao menos tres aparelhos ginastica inicialmente destinados pessoas deficiencia fisica academias musculacao paragrafo unico entende inicialmente possibilidade progressao paulatina inclusao novos aparelhos local estipulado aparelhos especiais deverao ser instalados academias alvara funcionamento ja aparelhos ginastica area reservada pratica exercicios paragrafo unico academias vierem ser instaladas ja deverao dispor aparelhos academias precisarao construir rampas interior exterior recinto melhor acessibilidade usuarios local devera conter aviso placas informando naquele espaco existem aparelhos voltados especialmente pessoas deficiencia fisica exclusividade clientes responsabilidade proprietarios academias musculacao investimento campanhas publicitarias fomento pratica exercicios voltados pessoas deficiencia descumprimento disposto acarretara multa tres mil reais aplicada dobro reincidencia paragrafo unico multa trata caput sera atualizada anualmente variacao indice precos consumidor amplo ipca apurado instituto brasileiro geografia estatistica ibge acumulada exercicio anterior sendo caso extincao indice sera adotado outro indice criado legislacao federal reflita perda poder aquisitivo moeda poder podera regulamentar presente estabelecendo oportunidade orgao diretamente responsavel cumprimento entrara noventa dias apos publicacao revogadas disposicoes contrario camara dezembro ver antonio francisco neto luiz augusto jesus publicacao\n\n\nLei numero 4699\nPAR UTILIZANDO COUNT:\n\n\n- - - LEI COMPARADA: - - -\n\n\nvisualizar legislativo ba\n\n\n- - - LEI MAIS SEMELHANTE - - -\n\n\nvisualizar legislativo ba\n\n\nPAR UTILIZANDO TF-IDF:\n\n\n- - - LEI COMPARADA: - - -\n\n\nvisualizar legislativo ba\n\n\n- - - LEI MAIS SEMELHANTE - - -\n\n\nvisualizar legislativo ba\n"
    }
   ],
   "source": [
    "# Exibir as 10 leis:\n",
    "for i in sorteadas:\n",
    "    print(f'\\n\\nLei numero {i}\\nPAR UTILIZANDO COUNT:\\n\\n')\n",
    "    print_lei_mais_sem(i, max_sim_index[i])\n",
    "    print('\\n\\nPAR UTILIZANDO TF-IDF:\\n\\n')\n",
    "    print_lei_mais_sem(i, max_sim_idx_tfidf[i])"
   ]
  },
  {
   "cell_type": "markdown",
   "metadata": {},
   "source": [
    "### Lei 1018\n",
    "Lei 1018 é sobre proibição de homenagens a condenados por corrupção. Count trouxe uma lei sobre tornar uma associação pública. TF-IDF trouxe uma lei sobre evento de comemoração de adoção animal. Todas duas erraram. TF-IDF chegou mais perto? Difícil dizer\n",
    "\n",
    "### Lei 5776\n",
    "Lei 5776 sobre pagamento servidor público. Count trouxe: leitura da bíblia na abertura da câmara. TF-IDF: aposentadoria diretor valor vencimento etc. Ambas as leis parecem ter sido trazidas como semelhantes pq dos nomes próprios contidos nas leis.\n",
    "\n",
    "### Lei 2789\n",
    "Lei 2789 (mil anos da revolução francesa) sobre obrigatoriedade de um servidor formado em primeiros socorros em escolas. Count: faço saber inkaba instituto de karate. TF-IDF: faço saber associação estrela jaco. Novamente as semelhanças são os nomes próprios nas leis.\n",
    "\n",
    "### Lei 1772\n",
    "Lei 1772: faço saber sindicato trabalhadores rurais. Count: faço saber associação profissionais sexo. TF-IDF: faço saber associação pequenos agricultures apaeb. A rua da sede é a mesma da lei comparada. \n",
    "\n",
    "TF-IDF se saiu melhor nessa. Os nomes das pessoas em Count eram os mesmos da Lei, mas em TF-IDF não. O fator decisivo aqui foi o nome da rua, que era o mesmo. Ponto pra TF-IDF.\n",
    "\n",
    "### Lei 503\n",
    "Lei 530: faço saber igreja ministerio pentecostal fogo gloria. rua volta redonda bairro campo limpo.\n",
    "Count: faço saber instituto nobre sede rodovia br km cis. nomes das pessoas iguais.\n",
    "TF-IDF: faço saber igreja evangelica pentecostal monte carmelo rua espassonavel bairro george americo. prefeitos diferentes.\n",
    "\n",
    "### Lei 4810\n",
    "Lei: comenda. nomes: godofredo rebell figueiredo filho, raymundo luiz oliveira lopes. \n",
    "Count: comenda. nomes: godofredo rebello figueiredo filho, nilton bellas vieira.\n",
    "TF-IDF: comenda. nomes: godofredo rebello figueiredo filho, raimundo antonio carneiro pinto.\n",
    "\n",
    "As duas acertaram. TF-iDF nome mais parecido? Não deve influenciar...\n",
    "\n",
    "### Lei 5238 \n",
    "Lei 5238: promulgação de novas vias públicas. A via por TF-IDF passa por mais ruas semelhantes.\n",
    "\n",
    "### Lei 5383\n",
    "Lei promulga academia de ginástica. Count: promulga empresas serviço funerario. TF-IDF: promulga novos aparelhos de ginástica.\n",
    "\n",
    "### Outras\n",
    "As outras leis eram: _visualizar legislativo ba_. Ambas trouxeram textos idênticos."
   ]
  }
 ],
 "metadata": {
  "language_info": {
   "codemirror_mode": {
    "name": "ipython",
    "version": 3
   },
   "file_extension": ".py",
   "mimetype": "text/x-python",
   "name": "python",
   "nbconvert_exporter": "python",
   "pygments_lexer": "ipython3",
   "version": "3.8.2-final"
  },
  "orig_nbformat": 2,
  "kernelspec": {
   "name": "python38264bit16b8003628b145c39b7161d6e18cffed",
   "display_name": "Python 3.8.2 64-bit"
  }
 },
 "nbformat": 4,
 "nbformat_minor": 2
}