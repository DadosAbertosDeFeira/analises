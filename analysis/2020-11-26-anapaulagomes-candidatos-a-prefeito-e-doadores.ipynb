{
 "cells": [
  {
   "cell_type": "markdown",
   "metadata": {},
   "source": [
    "# Candidatos a prefeito, doações e doadores\n",
    "\n",
    "A partir dos dados da prestação de contas das eleições feitas ao Tribunal Superior\n",
    "Eleitoral (TSE) analisamos os dados das doações recebidas por candidatos a prefeitura\n",
    "de Feira de Santana. Apesar de saber que esse ano as doações vindas de empresas\n",
    "não são permitidas, [sabemos que não é o fim delas](https://twitter.com/fecampa/status/1325791183554154498?s=20).\n",
    "\n",
    "Vale salientar que os dados são atualizados pelo TSE diariamente. Atenção a data\n",
    "que essa análise foi publicada e a data de _download_ do arquivo.\n",
    "\n",
    "### Instruções download dos dados\n",
    "\n",
    "A análise foi feita com arquivos do [repositório de dados eleitorais do TSE](https://www.tse.jus.br/eleicoes/estatisticas/repositorio-de-dados-eleitorais-1/repositorio-de-dados-eleitorais).\n",
    "\n",
    "Faça o download do arquivo: https://cdn.tse.jus.br/estatistica/sead/odsele/prestacao_contas/prestacao_de_contas_eleitorais_candidatos_2020.zip (download feito em 16/10/2021)\n",
    "\n",
    "Siga o seguinte caminho dentro da pasta:\n",
    "```\n",
    "Prestação de contas eleitorais > 2020 > Candidatos (formato zip) > receitas_candidatos_2020_BA.csv\n",
    "```\n",
    "\n",
    "Copie o arquivo do estado desejado (`receitas_candidatos_2020_<estado>.csv`)\n",
    "para a pasta `analysis` nesse repositório.\n",
    "\n",
    "Dicionário de dados: `leiame_receitas-candidatos.pdf`\n",
    "\n",
    "Observações sobre os dados:\n",
    "\n",
    "* `#NULO` é o mesmo que `None` ou vazio\n",
    "* `#NE` significa que naquele ano a informação não era registrada\n",
    "* Campo `UF`: `BR` para nível nacional, `VT` voto em trânsito e `ZZ` para Exterior\n",
    "* Campo `NM_UE`, no caso de eleições municipais, é o nome do município"
   ]
  },
  {
   "cell_type": "code",
   "execution_count": null,
   "metadata": {},
   "outputs": [],
   "source": [
    "import pandas as pd\n",
    "from scripts.parsers import currency_to_float, is_company\n",
    "\n",
    "\n",
    "df = pd.read_csv(\"receitas_candidatos_2020_BA-16.10.2020.csv\", encoding=\"latin\", delimiter=\";\")"
   ]
  },
  {
   "cell_type": "code",
   "execution_count": null,
   "metadata": {},
   "outputs": [],
   "source": [
    "pd.set_option('display.max_rows', None)"
   ]
  },
  {
   "cell_type": "code",
   "execution_count": null,
   "metadata": {},
   "outputs": [],
   "source": [
    "import seaborn as sns\n",
    "import matplotlib.pyplot as plt"
   ]
  },
  {
   "cell_type": "code",
   "execution_count": null,
   "metadata": {},
   "outputs": [],
   "source": [
    "df_feira = df[df[\"NM_UE\"] == \"FEIRA DE SANTANA\"].copy()"
   ]
  },
  {
   "cell_type": "code",
   "execution_count": null,
   "metadata": {},
   "outputs": [],
   "source": [
    "df_feira[\"VR_RECEITA\"] = df_feira[\"VR_RECEITA\"].apply(currency_to_float)"
   ]
  },
  {
   "cell_type": "code",
   "execution_count": null,
   "metadata": {},
   "outputs": [],
   "source": [
    "fields = [\n",
    "    \"NM_CANDIDATO\", \"SG_PARTIDO\", \"DS_FONTE_RECEITA\", \"DS_ORIGEM_RECEITA\",\n",
    "    \"NR_CPF_CNPJ_DOADOR\", \"NM_DOADOR\", \"NM_DOADOR_RFB\", \"DS_CARGO\",\n",
    "    \"NM_MUNICIPIO_DOADOR\", \"NM_PARTIDO_DOADOR\", \"DT_RECEITA\", \"DS_RECEITA\", \"VR_RECEITA\",\n",
    "]\n",
    "\n",
    "df_filtered = df_feira[fields]"
   ]
  },
  {
   "cell_type": "markdown",
   "metadata": {},
   "source": [
    "Para melhorar a experiência das pessoas na visualização dos dados vamos substituir\n",
    "o valor \"#NULO#\" por vazio."
   ]
  },
  {
   "cell_type": "code",
   "execution_count": null,
   "metadata": {},
   "outputs": [],
   "source": [
    "df_filtered = df_filtered.replace(\"#NULO#\", \"\").copy()\n",
    "df_filtered[df_filtered[\"NM_PARTIDO_DOADOR\"] == \"#NULO#\"]"
   ]
  },
  {
   "cell_type": "markdown",
   "metadata": {},
   "source": [
    "## Doações recebidas por candidatos a prefeito\n",
    "\n",
    "Vamos filtrar as doações feitas para prefeitos.\n",
    "Ao final dessa página você poderá ver a lista com todos as doações\n",
    "recebidas pelos candidatos a prefeito na cidade de Feira de Santana.\n",
    "\n",
    "Abaixo uma amostra aleatória de 5 doações recebidas:"
   ]
  },
  {
   "cell_type": "code",
   "execution_count": null,
   "metadata": {},
   "outputs": [],
   "source": [
    "mayor_df = df_filtered[df_filtered[\"DS_CARGO\"] == \"Prefeito\"]\n",
    "mayor_df.sample(5)  # amostra das doações a prefeitos de Feira de Santana"
   ]
  },
  {
   "cell_type": "markdown",
   "metadata": {},
   "source": [
    "### Total, mediana e número de doações recebidas por candidato"
   ]
  },
  {
   "cell_type": "code",
   "execution_count": null,
   "metadata": {},
   "outputs": [],
   "source": [
    "statistics = mayor_df.groupby(\n",
    "    [\"NM_CANDIDATO\"]\n",
    ")[\"VR_RECEITA\"].agg([\"sum\", \"median\", \"count\"]).sort_values(ascending=False, by=[\"sum\", \"NM_CANDIDATO\"])\n",
    "statistics"
   ]
  },
  {
   "cell_type": "code",
   "execution_count": null,
   "metadata": {
    "scrolled": true
   },
   "outputs": [],
   "source": [
    "ax = sns.histplot(data=statistics, x=\"sum\")\n",
    "ax.set_xlabel(\"Valor em R$\")\n",
    "ax.set_ylabel(\"Número de doações\")\n",
    "ax.set_title(\"Distribuição das doações recebidas por candidato\")\n",
    "ax.xaxis.get_major_formatter().set_scientific(False)\n",
    "plt.xticks(rotation=45)"
   ]
  },
  {
   "cell_type": "code",
   "execution_count": null,
   "metadata": {},
   "outputs": [],
   "source": [
    "ax = sns.barplot(x=\"VR_RECEITA\", y=\"NM_CANDIDATO\", data=mayor_df, palette=\"Blues_d\", ci=None, estimator=sum)\n",
    "ax.set_xlabel(\"Doações em R$\")\n",
    "ax.set_ylabel(\"Candidatos\")\n",
    "ax.set_title(\"Gráfico do total das doações recebidas por candidatos\")\n",
    "ax.xaxis.get_major_formatter().set_scientific(False)\n",
    "plt.xticks(rotation=45)"
   ]
  },
  {
   "cell_type": "markdown",
   "metadata": {},
   "source": [
    "## Quem são os doadores?"
   ]
  },
  {
   "cell_type": "code",
   "execution_count": null,
   "metadata": {},
   "outputs": [],
   "source": [
    "mayor_df.groupby(\n",
    "    [\"NM_CANDIDATO\", \"NM_DOADOR_RFB\", \"NR_CPF_CNPJ_DOADOR\", \"NM_PARTIDO_DOADOR\", \"NM_MUNICIPIO_DOADOR\"]\n",
    ")[\"VR_RECEITA\"].agg([\"sum\"])"
   ]
  },
  {
   "cell_type": "markdown",
   "metadata": {},
   "source": [
    "### Qual a origem dos recursos?"
   ]
  },
  {
   "cell_type": "code",
   "execution_count": null,
   "metadata": {},
   "outputs": [],
   "source": [
    "ax = sns.stripplot(x=\"NM_CANDIDATO\", y=\"VR_RECEITA\", hue=\"DS_ORIGEM_RECEITA\", data=mayor_df)\n",
    "\n",
    "ax.set_xlabel(\"Candidato\")\n",
    "ax.set_ylabel(\"R$\")\n",
    "ax.set_xticklabels(ax.get_xticklabels(), rotation=90)"
   ]
  },
  {
   "cell_type": "markdown",
   "metadata": {},
   "source": [
    "Entre os candidatos podemos ver diferenças na distribuição da origem das receitas.\n",
    "\n",
    "O candidato CARLOS MEDEIROS MIRANDA (Novo) recebeu doações diversificadas de pessoas\n",
    "físicas. Enquanto DAYANE JAMILLE CARNEIRO DOS SANTOS PIMENTEL recebeu massivamente doações\n",
    "vindas do seu partido (PSL), tudo indica que graças ao fundão eleitoral ([o PSL recebeu o segundo\n",
    "maior montante dessas eleições, com cerca de 199 milhões de reais](https://www.tse.jus.br/imprensa/noticias-tse/2020/Junho/divulgada-nova-tabela-com-a-divisao-dos-recursos-do-fundo-eleitoral-para-2020)).\n",
    "\n",
    "A candidata que se destacou no recebimento de recursos de financiamento coletivo,\n",
    "modalidade que ainda não é muito popular dentre os outros candidatos, foi a MARCELA PREST (PSOL).\n",
    "\n",
    "O candidato JOSE CERQUEIRA DE SANTANA NETO foi quem mais investiu em sua campanha a partir de recursos próprios,\n",
    "seguido do candidato CARLOS GEILSON DOS SANTOS SILVA.\n",
    "\n",
    "### Veja os valores por candidato e origem"
   ]
  },
  {
   "cell_type": "code",
   "execution_count": null,
   "metadata": {},
   "outputs": [],
   "source": [
    "mayor_df.groupby([\"NM_CANDIDATO\", \"DS_ORIGEM_RECEITA\"])[\"VR_RECEITA\"].agg([\"sum\"])"
   ]
  },
  {
   "cell_type": "markdown",
   "metadata": {},
   "source": [
    "## Ranking de Doadores"
   ]
  },
  {
   "cell_type": "code",
   "execution_count": null,
   "metadata": {},
   "outputs": [],
   "source": [
    "mayor_df.groupby([\"NM_DOADOR_RFB\", \"NM_DOADOR\"])[\"VR_RECEITA\"].agg(\n",
    "    [\"sum\"]\n",
    ").sort_values(ascending=False, by=[\"sum\", \"NM_DOADOR_RFB\"])"
   ]
  },
  {
   "cell_type": "markdown",
   "metadata": {},
   "source": [
    "## As pessoas que doaram estão ligadas a empresas diretamente?"
   ]
  },
  {
   "cell_type": "code",
   "execution_count": null,
   "metadata": {},
   "outputs": [],
   "source": [
    "def mask_cpf(cpf):\n",
    "    \"\"\"Útil para busca dos sócios em empresas no Brasil.io.\"\"\"\n",
    "    cpf = str(cpf)\n",
    "    return f\"***{cpf[3:9]}**\"\n",
    "\n",
    "\n",
    "mayor_df_copy = mayor_df.copy()\n",
    "mayor_df_copy[\"DONATED_BY_CNPJ\"] = mayor_df_copy[\"NR_CPF_CNPJ_DOADOR\"].apply(is_company)\n",
    "\n",
    "donated_by_people = mayor_df_copy[mayor_df_copy[\"DONATED_BY_CNPJ\"] == False]\n",
    "donated_by_people = donated_by_people[donated_by_people[\"NM_CANDIDATO\"] != donated_by_people[\"NM_DOADOR_RFB\"]]\n",
    "donated_by_people[\"CPF_MASCARADO\"] = mayor_df_copy[\"NR_CPF_CNPJ_DOADOR\"].apply(mask_cpf)\n",
    "donated_by_people[[\"NM_CANDIDATO\", \"NM_DOADOR_RFB\", \"NR_CPF_CNPJ_DOADOR\", \"CPF_MASCARADO\"]]"
   ]
  },
  {
   "cell_type": "markdown",
   "metadata": {},
   "source": [
    "Para verificar se os doadores são sócios em empresas, basta acessar\n",
    "https://brasil.io/dataset/socios-brasil/socios/ e buscar pelo nome completo e CPF mascarado\n",
    "campos `Nome/Razão Social do Sócio` e `CPF/CNPJ do Sócio`.\n",
    "\n",
    "Para confirmar as informações, verifique se o CPF mascarado que você buscou bate com o\n",
    "CPF mostrado e com o nome completo da página para confirmar.\n",
    "\n",
    "Exemplo:\n",
    "\n",
    "https://brasil.io/dataset/socios-brasil/socios/?search=&cnpj=&razao_social=&cpf_cnpj_socio=***092875**&nome_socio=WILSON+FERREIRA+FALCAO&tipo_socio=&qualificacao_socio="
   ]
  },
  {
   "cell_type": "markdown",
   "metadata": {},
   "source": [
    "## Qual partido é mais generoso?\n",
    "\n",
    "As doações feitas por partidas podem ser identificadas pela coluna `NM_PARTIDO_DOADOR`.\n",
    "O valor `#NULO#` representa as doações feitas por todas as outras entidades que não são\n",
    "partidos (como pessoas e aplicativos de doação)."
   ]
  },
  {
   "cell_type": "code",
   "execution_count": null,
   "metadata": {},
   "outputs": [],
   "source": [
    "donations_by_party = mayor_df[mayor_df[\"NM_PARTIDO_DOADOR\"] != \"\"].groupby(\n",
    "    [\"NM_PARTIDO_DOADOR\"], as_index=False\n",
    ")[\"VR_RECEITA\"].agg({\"Total\": sum}).sort_values(\n",
    "    ascending=False, by=[\"Total\", \"NM_PARTIDO_DOADOR\"]\n",
    ")\n",
    "donations_by_party"
   ]
  },
  {
   "cell_type": "code",
   "execution_count": null,
   "metadata": {},
   "outputs": [],
   "source": [
    "ax = sns.barplot(x=\"Total\", y=\"NM_PARTIDO_DOADOR\", data=donations_by_party, ci=None, estimator=sum)\n",
    "ax.set_xlabel(\"Doações em R$\")\n",
    "ax.set_ylabel(\"Partidos\")\n",
    "ax.set_title(\"Gráfico das doações por partido\")\n",
    "ax.xaxis.get_major_formatter().set_scientific(False)\n",
    "plt.xticks(rotation=45)"
   ]
  },
  {
   "cell_type": "markdown",
   "metadata": {},
   "source": [
    "## Veja todas as doações"
   ]
  },
  {
   "cell_type": "code",
   "execution_count": null,
   "metadata": {},
   "outputs": [],
   "source": [
    "mayor_df"
   ]
  }
 ],
 "metadata": {
  "kernelspec": {
   "display_name": "Python 3",
   "language": "python",
   "name": "python3"
  },
  "language_info": {
   "codemirror_mode": {
    "name": "ipython",
    "version": 3
   },
   "file_extension": ".py",
   "mimetype": "text/x-python",
   "name": "python",
   "nbconvert_exporter": "python",
   "pygments_lexer": "ipython3",
   "version": "3.8.5"
  }
 },
 "nbformat": 4,
 "nbformat_minor": 4
}
