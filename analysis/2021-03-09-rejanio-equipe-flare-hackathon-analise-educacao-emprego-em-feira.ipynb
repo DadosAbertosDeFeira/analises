{
 "cells": [
  {
   "cell_type": "markdown",
   "id": "compressed-genesis",
   "metadata": {},
   "source": [
    "# Equipe : FlaRe análise\n",
    "# integrantes:  Flávio Monteiro e Rejanio Moraes\n",
    "# email: rejaniomoraes@gmail.com\n",
    "##### relatório explicativo da análise: https://docs.google.com/document/d/1aRzknUnMZdc_e3nqljTfou46NI-mL7rgYOyh1Bw2MAo/edit"
   ]
  },
  {
   "cell_type": "markdown",
   "id": "hired-growing",
   "metadata": {},
   "source": [
    "### Análise: O crescimento educacional da população está relacionado com o crescimento do trabalho formal?\n",
    "\n",
    "#### A análise começa investigando o nível educacional da mão de obra jovens com idade para trabalhar e a expectativa de anos de estudo. Depois foi analisada os índices de empregos formais, informais e o grau de formalização dos ocupados. Também o nível educacional da mão de obra que está trabalhando, o rendimento médio, redimento de até 1 salário mínimo.\n",
    "###### Ps: Importante salientar que os dados disponíveis do munípicio foi do censo apenas do ano 1991, 2000 e 2010. E em alguns casos só tinha os dados do censo de 2010.\n",
    "###### Os dados foram coletados do site: https://atlasbrasil.org.br/consulta/planilha"
   ]
  },
  {
   "cell_type": "code",
   "execution_count": null,
   "id": "handed-restriction",
   "metadata": {},
   "outputs": [],
   "source": [
    "import pandas as pd\n",
    "import numpy as np"
   ]
  },
  {
   "cell_type": "code",
   "execution_count": null,
   "id": "comfortable-there",
   "metadata": {},
   "outputs": [],
   "source": [
    "# Dados da educação de Feira de Santana. Os anos usado nas análises foi do censo do ano 1991, 2000 e 2010 \n",
    "# Infelizmente Feira de Santana não tem dados do PNAD - IBGE, pois não é capital e nem considerada \n",
    "# região metropolitana ainda.\n",
    "dados_edu = pd.read_csv('../data/dados_edu.csv', sep=',')\n",
    "dados_edu.set_index('Territorialidades',inplace = True)\n",
    "dados_edu.drop(index = 'Brasil', inplace = True)"
   ]
  },
  {
   "cell_type": "code",
   "execution_count": null,
   "id": "institutional-giant",
   "metadata": {},
   "outputs": [],
   "source": [
    "dados_edu.head()"
   ]
  },
  {
   "cell_type": "code",
   "execution_count": null,
   "id": "controlling-display",
   "metadata": {},
   "outputs": [],
   "source": [
    "#trocando , para . para ser transformado em float para análises \n",
    "for row , col in dados_edu.iterrows():\n",
    "    aux = col.str.replace(',','.',regex=True)\n",
    "    dados_edu.loc[row] = pd.to_numeric(aux)\n",
    "dados_edu = dados_edu.astype(float)"
   ]
  },
  {
   "cell_type": "code",
   "execution_count": null,
   "id": "assumed-bulgarian",
   "metadata": {},
   "outputs": [],
   "source": [
    "# Analisando dados da porcentagem de 18 anos ou mais de idade com ensino médio completo nos anos de 1991,2000 e 2010\n",
    "aux = dados_edu[['% de 18 anos ou mais de idade com ensino médio completo 1991','% de 18 anos ou mais de idade com ensino médio completo 2000','% de 18 anos ou mais de idade com ensino médio completo 2010']]\n",
    "aux"
   ]
  },
  {
   "cell_type": "code",
   "execution_count": null,
   "id": "regulated-filename",
   "metadata": {},
   "outputs": [],
   "source": [
    "grafico = aux.groupby(['Feira de Santana (BA)']).sum()"
   ]
  },
  {
   "cell_type": "code",
   "execution_count": null,
   "id": "numeric-majority",
   "metadata": {},
   "outputs": [],
   "source": [
    "\n",
    "ax = grafico.plot.bar()\n",
    "ax.set_title(\"Porcentagem de 18 anos ou mais de idade com ensino médio completo nos anos de 1991, 2000 e 2010\")\n",
    "ax.legend(bbox_to_anchor=(1.2, 0.5))"
   ]
  },
  {
   "cell_type": "code",
   "execution_count": null,
   "id": "cooked-julian",
   "metadata": {},
   "outputs": [],
   "source": [
    "# Analisando dados da porcentagem de 25 anos ou mais de idade com ensino superior completo nos anos de 1991,2000 e 2010\n",
    "aux = dados_edu[['% de 25 anos ou mais de idade com ensino superior completo 1991','% de 25 anos ou mais de idade com ensino superior completo 2000','% de 25 anos ou mais de idade com ensino superior completo 2010']]\n",
    "aux"
   ]
  },
  {
   "cell_type": "code",
   "execution_count": null,
   "id": "coordinated-interval",
   "metadata": {},
   "outputs": [],
   "source": [
    "grafico = aux.groupby(['Feira de Santana (BA)']).sum()"
   ]
  },
  {
   "cell_type": "code",
   "execution_count": null,
   "id": "cubic-equality",
   "metadata": {},
   "outputs": [],
   "source": [
    "ax = grafico.plot.bar()\n",
    "ax.set_title(\"Porcentagem de 25 anos ou mais de idade com ensino superior completo nos anos de 1991, 2000 e 2010\")\n",
    "ax.legend(bbox_to_anchor=(1.2, 0.5))"
   ]
  },
  {
   "cell_type": "code",
   "execution_count": null,
   "id": "average-sherman",
   "metadata": {
    "scrolled": true
   },
   "outputs": [],
   "source": [
    "# Dados do trabalho de feira de Santana. Os anos usado nas análises foi do censo do ano 2000 e 2010 \n",
    "# Infelizmente Feira de Santana não tem dados do PNAD - IBGE, pois não é capital e nem considerada \n",
    "# região metropolitana ainda.\n",
    "dados_trabalho = pd. read_csv('../data/dados_trabalho.csv', sep=',')\n",
    "\n",
    "dados_trabalho.set_index('Territorialidades',inplace = True)\n",
    "dados_trabalho.drop(index = 'Brasil', inplace = True)\n",
    "dados_trabalho.head()"
   ]
  },
  {
   "cell_type": "code",
   "execution_count": null,
   "id": "olympic-straight",
   "metadata": {},
   "outputs": [],
   "source": [
    "#trocando , para . para ser transformado em float para análises \n",
    "for row , col in dados_trabalho.iterrows():\n",
    "    aux = col.str.replace(',','.',regex=True)\n",
    "    dados_trabalho.loc[row] = pd.to_numeric(aux)\n",
    "dados_trabalho"
   ]
  },
  {
   "cell_type": "code",
   "execution_count": null,
   "id": "peaceful-fashion",
   "metadata": {},
   "outputs": [],
   "source": [
    "# convertendo todos os campos em float\n",
    "dados_trabalho = dados_trabalho.replace(np.nan,0,regex=True)\n",
    "dados_trabalho = dados_trabalho.astype(float)\n"
   ]
  },
  {
   "cell_type": "code",
   "execution_count": null,
   "id": "confused-momentum",
   "metadata": {},
   "outputs": [],
   "source": [
    "# Analisando dados da porcentagem de jovens a partir de 18 anos ocupados COM carteira assinada.\n",
    "dados_aux = dados_trabalho[['% de ocupados de 18 anos ou mais de idade que são empregados com carteira 2000','% de ocupados de 18 anos ou mais de idade que são empregados com carteira 2010']]\n",
    "\n",
    "dados_aux\n"
   ]
  },
  {
   "cell_type": "code",
   "execution_count": null,
   "id": "cathedral-store",
   "metadata": {},
   "outputs": [],
   "source": [
    "# gerando o gráfico para comparação\n",
    "\n",
    "grafico = dados_aux.groupby(['Feira de Santana (BA)']).sum()\n",
    "\n",
    "ax = grafico.plot.bar()\n",
    "\n",
    "ax.set_title(\"Porcentagem de ocupados com mais de 18 naos COM carteira assinada\")\n",
    "ax.legend( bbox_to_anchor = (1.05, 1), loc = 0 , borderaxespad = 0.)\n"
   ]
  },
  {
   "cell_type": "code",
   "execution_count": null,
   "id": "upset-begin",
   "metadata": {},
   "outputs": [],
   "source": [
    "# Analisando dados da porcentagem de jovens a partir de 18 anos ocupados SEM carteira assinada.\n",
    "dados_aux = dados_trabalho[['% de ocupados de 18 anos ou mais de idade que são empregados sem carteira 2000','% de ocupados de 18 anos ou mais de idade que são empregados sem carteira 2010']]\n",
    "\n",
    "dados_aux\n"
   ]
  },
  {
   "cell_type": "code",
   "execution_count": null,
   "id": "essential-dining",
   "metadata": {},
   "outputs": [],
   "source": [
    "# gerando o gráfico para comparação\n",
    "grafico = dados_aux.groupby(['Feira de Santana (BA)']).sum()\n",
    "\n",
    "ax = grafico.plot.bar()\n",
    "\n",
    "ax.set_title(\"Porcentagem de ocupados com mais de 18 naos SEM carteira assinada\")\n",
    "ax.legend( bbox_to_anchor = (1.05, 1), loc = 0 , borderaxespad = 0.)"
   ]
  },
  {
   "cell_type": "code",
   "execution_count": null,
   "id": "interior-patent",
   "metadata": {},
   "outputs": [],
   "source": [
    "# Analisando dados do grau de formalização dos ocupados - 18 anos ou mais no ano 2000 e 2010\n",
    "dados_aux = dados_trabalho[['Grau de formalização dos ocupados - 18 anos ou mais 2000','Grau de formalização dos ocupados - 18 anos ou mais 2010']]\n",
    "dados_aux"
   ]
  },
  {
   "cell_type": "code",
   "execution_count": null,
   "id": "nervous-fortune",
   "metadata": {},
   "outputs": [],
   "source": [
    "# gerando o gráfico para comparação\n",
    "grafico = dados_aux.groupby(['Feira de Santana (BA)']).sum()\n",
    "\n",
    "ax = grafico.plot.bar()\n",
    "\n",
    "ax.set_title(\"Grau de formalização dos ocupados - 18 anos ou mais\")\n",
    "ax.legend( bbox_to_anchor = (1.05, 1), loc = 0 , borderaxespad = 0.)"
   ]
  },
  {
   "cell_type": "code",
   "execution_count": null,
   "id": "enormous-enterprise",
   "metadata": {},
   "outputs": [],
   "source": [
    "# Analisando dados da porcentagem  dos ocupados com ensino médio completo no ano 2000 e 2010\n",
    "dados_aux = dados_trabalho[['% dos ocupados com ensino médio completo 2000','% dos ocupados com ensino médio completo 2010']]\n",
    "dados_aux\n"
   ]
  },
  {
   "cell_type": "code",
   "execution_count": null,
   "id": "combined-regulation",
   "metadata": {},
   "outputs": [],
   "source": [
    "# gerando o gráfico para comparação\n",
    "grafico = dados_aux.groupby(['Feira de Santana (BA)']).sum()\n",
    "\n",
    "ax = grafico.plot.bar()\n",
    "\n",
    "ax.set_title(\" Porcentagem dos ocupados com ensino médio completo\")\n",
    "ax.legend( bbox_to_anchor = (1.05, 1), loc = 0 , borderaxespad = 0.)"
   ]
  },
  {
   "cell_type": "code",
   "execution_count": null,
   "id": "entertaining-frontier",
   "metadata": {},
   "outputs": [],
   "source": [
    "# Analisando dados da porcentagem  dos ocupados com ensino superior completo do 2000  e 2010\n",
    "dados_aux = dados_trabalho[['% dos ocupados com ensino superior completo 2000','% dos ocupados com ensino superior completo 2010']]\n",
    "dados_aux"
   ]
  },
  {
   "cell_type": "code",
   "execution_count": null,
   "id": "extra-knitting",
   "metadata": {},
   "outputs": [],
   "source": [
    "# gerando o gráfico para comparação\n",
    "grafico = dados_aux.groupby(['Feira de Santana (BA)']).sum()\n",
    "\n",
    "ax = grafico.plot.bar()\n",
    "\n",
    "ax.set_title(\"Porcentagem dos ocupados com ensino superior completo\")\n",
    "ax.legend( bbox_to_anchor = (1.05, 1), loc = 0 , borderaxespad = 0.)"
   ]
  },
  {
   "cell_type": "code",
   "execution_count": null,
   "id": "official-letters",
   "metadata": {},
   "outputs": [],
   "source": [
    "# Analisando dados  de rendimento médio dos ocupados do ano 2010, pois o ano 2000 não teve dado.\n",
    "# No ano de 2010 o salário mínimo era de R$ 510,00\n",
    "dados_aux = dados_trabalho[['Rendimento médio dos ocupados 2010']]\n",
    "dados_aux\n"
   ]
  },
  {
   "cell_type": "code",
   "execution_count": null,
   "id": "consecutive-mercy",
   "metadata": {},
   "outputs": [],
   "source": [
    "# gerando o gráfico para comparação\n",
    "grafico = dados_aux.groupby(['Feira de Santana (BA)']).sum()\n",
    "\n",
    "ax = grafico.plot.bar()\n",
    "\n",
    "ax.set_title(\"Rendimento médio dos ocupados\")\n",
    "ax.legend( bbox_to_anchor = (1.05, 1), loc = 0 , borderaxespad = 0.)"
   ]
  },
  {
   "cell_type": "code",
   "execution_count": null,
   "id": "incident-occupation",
   "metadata": {},
   "outputs": [],
   "source": [
    "# Analisando dados de porcentagem dos ocupados com rendimento de até 1 salário mínimo do ano 2000 e 2010 \n",
    "dados_aux = dados_trabalho[['% dos ocupados com rendimento de até 1 salário mínimo 2000','% dos ocupados com rendimento de até 1 salário mínimo 2010']]\n",
    "dados_aux"
   ]
  },
  {
   "cell_type": "code",
   "execution_count": null,
   "id": "confidential-pressing",
   "metadata": {},
   "outputs": [],
   "source": [
    "# gerando o gráfico para comparação\n",
    "grafico = dados_aux.groupby(['Feira de Santana (BA)']).sum()\n",
    "\n",
    "ax = grafico.plot.bar()\n",
    "\n",
    "ax.set_title(\"Porcentagem dos ocupados com rendimento de até 1 salário mínimo\")\n",
    "ax.legend( bbox_to_anchor = (1.05, 1), loc = 0 , borderaxespad = 0.)"
   ]
  },
  {
   "cell_type": "code",
   "execution_count": null,
   "id": "otherwise-kingston",
   "metadata": {},
   "outputs": [],
   "source": [
    "# Analisando dados de porcentagem  dos ocupados com rendimento de até 2 salários mínimo do ano 2000 e 2010\n",
    "dados_aux = dados_trabalho[['% dos ocupados com rendimento de até 2 salários mínimo 2000','% dos ocupados com rendimento de até 2 salários mínimo 2010']]\n",
    "dados_aux"
   ]
  },
  {
   "cell_type": "code",
   "execution_count": null,
   "id": "bizarre-sleeve",
   "metadata": {},
   "outputs": [],
   "source": [
    "# gerando o gráfico para comparação\n",
    "grafico = dados_aux.groupby(['Feira de Santana (BA)']).sum()\n",
    "\n",
    "ax = grafico.plot.bar()\n",
    "\n",
    "ax.set_title(\"Porcentagem dos ocupados com rendimento de até 2 salário mínimo\")\n",
    "ax.legend( bbox_to_anchor = (1.05, 1), loc = 0 , borderaxespad = 0.)"
   ]
  }
 ],
 "metadata": {
  "kernelspec": {
   "display_name": "Python 3",
   "language": "python",
   "name": "python3"
  },
  "language_info": {
   "codemirror_mode": {
    "name": "ipython",
    "version": 3
   },
   "file_extension": ".py",
   "mimetype": "text/x-python",
   "name": "python",
   "nbconvert_exporter": "python",
   "pygments_lexer": "ipython3",
   "version": "3.8.5"
  }
 },
 "nbformat": 4,
 "nbformat_minor": 5
}
