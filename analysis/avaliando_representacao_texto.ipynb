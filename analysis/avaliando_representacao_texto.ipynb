{
  "nbformat": 4,
  "nbformat_minor": 0,
  "metadata": {
    "language_info": {
      "codemirror_mode": {
        "name": "ipython",
        "version": 3
      },
      "file_extension": ".py",
      "mimetype": "text/x-python",
      "name": "python",
      "nbconvert_exporter": "python",
      "pygments_lexer": "ipython3",
      "version": "3.8.2-final"
    },
    "orig_nbformat": 2,
    "kernelspec": {
      "name": "python38264bit16b8003628b145c39b7161d6e18cffed",
      "display_name": "Python 3.8.2 64-bit"
    },
    "colab": {
      "name": "semelhanca_leis.ipynb",
      "provenance": [],
      "collapsed_sections": []
    }
  },
  "cells": [
    {
      "cell_type": "markdown",
      "metadata": {},
      "source": [
        "# Analisando a representação construída para o texto das leis\n",
        "\n",
        "A pergunta central que este notebook se propõe a responder é: as representações que a gente constrói pro texto das leis faz sentido? Como avaliar qual representação é melhor? Uma espécie de teste de sanidade pras representações, ou uma análise exploratória destas representações.\n",
        "\n",
        "Inicialmente, pensei em duas formas de realizar este teste: visualizando e clusterizando os textos e ver se estes clusters correspondem mais ou menos às categorias das leis; observando se o texto das leis e seu resumo possuem representações similares (ou pelo menos uma relação algébrica clara entre texto e resumo)"
      ]
    },
    {
      "cell_type": "code",
      "metadata": {
        "id": "Fw0cBhm80T-w",
        "colab_type": "code",
        "colab": {}
      },
      "source": [
        "import pandas as pd\n",
        "import matplotlib.pyplot as plt"
      ],
      "execution_count": 1,
      "outputs": []
    },
    {
      "cell_type": "code",
      "metadata": {
        "id": "t9rDGqZO0cbK",
        "colab_type": "code",
        "colab": {
          "resources": {
            "http://localhost:8080/nbextensions/google.colab/files.js": {
              "data": "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",
              "ok": true,
              "headers": [
                [
                  "content-type",
                  "application/javascript"
                ]
              ],
              "status": 200,
              "status_text": "OK"
            }
          },
          "base_uri": "https://localhost:8080/",
          "height": 79
        },
        "outputId": "f084561d-b993-4e0d-f456-a01a0f3cb626"
      },
      "source": [
        "# Importa arquivos\n",
        "# Descomente pra usar no Google Colab\n",
        "# from google.colab import files\n",
        "# import os.path\n",
        "\n",
        "arq_leis = 'leis.json'\n",
        "\n",
        "# if (not os.path.isfile(arq_leis)):\n",
        "#     uploaded = files.upload()"
      ],
      "execution_count": 2,
      "outputs": [
        {
          "output_type": "display_data",
          "data": {
            "text/html": [
              "\n",
              "     <input type=\"file\" id=\"files-a8a17772-027b-4d6f-8963-ef19e28ac70e\" name=\"files[]\" multiple disabled\n",
              "        style=\"border:none\" />\n",
              "     <output id=\"result-a8a17772-027b-4d6f-8963-ef19e28ac70e\">\n",
              "      Upload widget is only available when the cell has been executed in the\n",
              "      current browser session. Please rerun this cell to enable.\n",
              "      </output>\n",
              "      <script src=\"/nbextensions/google.colab/files.js\"></script> "
            ],
            "text/plain": [
              "<IPython.core.display.HTML object>"
            ]
          },
          "metadata": {
            "tags": []
          }
        },
        {
          "output_type": "stream",
          "text": [
            "Saving leis.json to leis.json\n"
          ],
          "name": "stdout"
        }
      ]
    },
    {
      "cell_type": "code",
      "metadata": {
        "tags": [],
        "id": "SvTVbdbn0T-8",
        "colab_type": "code",
        "colab": {
          "base_uri": "https://localhost:8080/",
          "height": 312
        },
        "outputId": "84f7d034-d28f-4582-9842-a1925c045c26"
      },
      "source": [
        "leis = pd.read_json(arq_leis)\n",
        "leis.drop(['documento'], inplace=True, axis=1)\n",
        "print(leis.info())\n",
        "print(leis.nunique())"
      ],
      "execution_count": 3,
      "outputs": [
        {
          "output_type": "stream",
          "text": [
            "<class 'pandas.core.frame.DataFrame'>\n",
            "RangeIndex: 6033 entries, 0 to 6032\n",
            "Data columns (total 4 columns):\n",
            " #   Column     Non-Null Count  Dtype \n",
            "---  ------     --------------  ----- \n",
            " 0   titulo     6033 non-null   object\n",
            " 1   categoria  6033 non-null   object\n",
            " 2   resumo     6033 non-null   object\n",
            " 3   texto      6033 non-null   object\n",
            "dtypes: object(4)\n",
            "memory usage: 188.7+ KB\n",
            "None\n",
            "titulo       6033\n",
            "categoria       8\n",
            "resumo       4961\n",
            "texto        6029\n",
            "dtype: int64\n"
          ],
          "name": "stdout"
        }
      ]
    },
    {
      "cell_type": "code",
      "metadata": {
        "id": "IHdRkZoU0T_H",
        "colab_type": "code",
        "colab": {
          "base_uri": "https://localhost:8080/",
          "height": 424
        },
        "outputId": "731a47c1-d4e0-4f50-83d4-fbd8e1e33ca6"
      },
      "source": [
        "leis"
      ],
      "execution_count": 4,
      "outputs": [
        {
          "output_type": "execute_result",
          "data": {
            "text/html": [
              "<div>\n",
              "<style scoped>\n",
              "    .dataframe tbody tr th:only-of-type {\n",
              "        vertical-align: middle;\n",
              "    }\n",
              "\n",
              "    .dataframe tbody tr th {\n",
              "        vertical-align: top;\n",
              "    }\n",
              "\n",
              "    .dataframe thead th {\n",
              "        text-align: right;\n",
              "    }\n",
              "</style>\n",
              "<table border=\"1\" class=\"dataframe\">\n",
              "  <thead>\n",
              "    <tr style=\"text-align: right;\">\n",
              "      <th></th>\n",
              "      <th>titulo</th>\n",
              "      <th>categoria</th>\n",
              "      <th>resumo</th>\n",
              "      <th>texto</th>\n",
              "    </tr>\n",
              "  </thead>\n",
              "  <tbody>\n",
              "    <tr>\n",
              "      <th>0</th>\n",
              "      <td>DECRETO Nº 8854, de 28 de fevereiro de 2013.</td>\n",
              "      <td>Decretos</td>\n",
              "      <td>DELEGA COMPETÊNCIA À SECRETARIA MUNICIPAL DE P...</td>\n",
              "      <td>O PREFEITO MUNICIPAL DE FEIRA DE SANTANA, Esta...</td>\n",
              "    </tr>\n",
              "    <tr>\n",
              "      <th>1</th>\n",
              "      <td>DECRETO Nº 8849, de 25 de fevereiro de 2013.</td>\n",
              "      <td>Decretos</td>\n",
              "      <td>ABRE CRÉDITO SUPLEMENTAR AO ORÇAMENTO DO MUNIC...</td>\n",
              "      <td>O PREFEITO MUNICIPAL DE FEIRA DE SANTANA, Esta...</td>\n",
              "    </tr>\n",
              "    <tr>\n",
              "      <th>2</th>\n",
              "      <td>DECRETO Nº 8853, de 27 de fevereiro de 2013.</td>\n",
              "      <td>Decretos</td>\n",
              "      <td>NOMEIA MEMBROS DO CONSELHO MUNICIPAL DE DESENV...</td>\n",
              "      <td>O PREFEITO MUNICIPAL DE FEIRA DE SANTANA, Esta...</td>\n",
              "    </tr>\n",
              "    <tr>\n",
              "      <th>3</th>\n",
              "      <td>DECRETO Nº 8967, de 17 de julho de 2013</td>\n",
              "      <td>Decretos</td>\n",
              "      <td>ALTERA O QUADRO DE DETALHAMENTO DE DESPESA DO ...</td>\n",
              "      <td>O PREFEITO MUNICIPAL DE FEIRA DE SANTANA, Esta...</td>\n",
              "    </tr>\n",
              "    <tr>\n",
              "      <th>4</th>\n",
              "      <td>DECRETO Nº 8982, de 30 de julho de 2013</td>\n",
              "      <td>Decretos</td>\n",
              "      <td>AUTORIZA O FUNCIONAMENTO DE ESTABELECIMENTOS C...</td>\n",
              "      <td>O PREFEITO MUNICIPAL DE FEIRA DE SANTANA, Esta...</td>\n",
              "    </tr>\n",
              "    <tr>\n",
              "      <th>...</th>\n",
              "      <td>...</td>\n",
              "      <td>...</td>\n",
              "      <td>...</td>\n",
              "      <td>...</td>\n",
              "    </tr>\n",
              "    <tr>\n",
              "      <th>6028</th>\n",
              "      <td>RESOLUÇÃO Nº 125/1980</td>\n",
              "      <td>Resoluções</td>\n",
              "      <td>DISPÕE SOBRE A CONCESSÃO DE TÍTULO DE CIDADÃO ...</td>\n",
              "      <td>Faço saber que a Câmara Municipal aprovou e eu...</td>\n",
              "    </tr>\n",
              "    <tr>\n",
              "      <th>6029</th>\n",
              "      <td>RESOLUÇÃO Nº 403/2003</td>\n",
              "      <td>Resoluções</td>\n",
              "      <td>AUTORIZA A MESA DIRETIVA DO PODER LEGISLATIVO ...</td>\n",
              "      <td>A CÂMARA MUNICIPAL DE FEIRA DE SANTANA, Estado...</td>\n",
              "    </tr>\n",
              "    <tr>\n",
              "      <th>6030</th>\n",
              "      <td>RESOLUÇÃO Nº 492/2014</td>\n",
              "      <td>Resoluções</td>\n",
              "      <td>INSTITUI A SEGUNDA SEMANA DO MÊS DE AGOSTO EM ...</td>\n",
              "      <td>A CÂMARA MUNICIPAL DE FEIRA DE SANTANA, Estado...</td>\n",
              "    </tr>\n",
              "    <tr>\n",
              "      <th>6031</th>\n",
              "      <td>RESOLUÇÃO Nº 382/2001</td>\n",
              "      <td>Resoluções</td>\n",
              "      <td>CRIA A MEDALHA VEREADOR DIVAL FIGUEIREDO MACHA...</td>\n",
              "      <td>A CÂMARA MUNICIPAL DE FEIRA DE SANTANA, Estado...</td>\n",
              "    </tr>\n",
              "    <tr>\n",
              "      <th>6032</th>\n",
              "      <td>RESOLUÇÃO Nº 431/2004</td>\n",
              "      <td>Resoluções</td>\n",
              "      <td>MODIFICA E SUPRIME DISPOSITIVOS DA RESOLUÇÃO N...</td>\n",
              "      <td>A CÂMARA MUNICIPAL DE FEIRA DE SANTANA, Estado...</td>\n",
              "    </tr>\n",
              "  </tbody>\n",
              "</table>\n",
              "<p>6033 rows × 4 columns</p>\n",
              "</div>"
            ],
            "text/plain": [
              "                                            titulo  ...                                              texto\n",
              "0     DECRETO Nº 8854, de 28 de fevereiro de 2013.  ...  O PREFEITO MUNICIPAL DE FEIRA DE SANTANA, Esta...\n",
              "1     DECRETO Nº 8849, de 25 de fevereiro de 2013.  ...  O PREFEITO MUNICIPAL DE FEIRA DE SANTANA, Esta...\n",
              "2     DECRETO Nº 8853, de 27 de fevereiro de 2013.  ...  O PREFEITO MUNICIPAL DE FEIRA DE SANTANA, Esta...\n",
              "3          DECRETO Nº 8967, de 17 de julho de 2013  ...  O PREFEITO MUNICIPAL DE FEIRA DE SANTANA, Esta...\n",
              "4          DECRETO Nº 8982, de 30 de julho de 2013  ...  O PREFEITO MUNICIPAL DE FEIRA DE SANTANA, Esta...\n",
              "...                                            ...  ...                                                ...\n",
              "6028                         RESOLUÇÃO Nº 125/1980  ...  Faço saber que a Câmara Municipal aprovou e eu...\n",
              "6029                         RESOLUÇÃO Nº 403/2003  ...  A CÂMARA MUNICIPAL DE FEIRA DE SANTANA, Estado...\n",
              "6030                         RESOLUÇÃO Nº 492/2014  ...  A CÂMARA MUNICIPAL DE FEIRA DE SANTANA, Estado...\n",
              "6031                         RESOLUÇÃO Nº 382/2001  ...  A CÂMARA MUNICIPAL DE FEIRA DE SANTANA, Estado...\n",
              "6032                         RESOLUÇÃO Nº 431/2004  ...  A CÂMARA MUNICIPAL DE FEIRA DE SANTANA, Estado...\n",
              "\n",
              "[6033 rows x 4 columns]"
            ]
          },
          "metadata": {
            "tags": []
          },
          "execution_count": 4
        }
      ]
    },
    {
      "cell_type": "code",
      "metadata": {
        "id": "7bY1XZSe0T_O",
        "colab_type": "code",
        "colab": {
          "base_uri": "https://localhost:8080/",
          "height": 106
        },
        "outputId": "104ae31c-0044-4273-b2f9-00838ffec295"
      },
      "source": [
        "# Exemplo de texto de lei\n",
        "leis.loc[len(leis)-1, 'texto']"
      ],
      "execution_count": 5,
      "outputs": [
        {
          "output_type": "execute_result",
          "data": {
            "application/vnd.google.colaboratory.intrinsic+json": {
              "type": "string"
            },
            "text/plain": [
              "'A CÂMARA MUNICIPAL DE FEIRA DE SANTANA, Estado da Bahia, na conformidade do artigo 70, Inciso V, da Lei Municipal nº37, de 05 de Abril de 1990 e, artigos 287, § 2º e, 420, do Regimento Interno, promulga a seguinte Resolução:\\n\\nArt. 1ºDê-se aos dispositivos abaixo mencionados, da Resolução nº393/2002 - Regimento Interno, as seguintes redações:\\n\\n\"Art. 7º A Mesa Diretora da Câmara compor-se-á do Presidente, Primeiro e Segundo Secretários, com mandato de 02 ( dois ) anos, admitida a recondução para a eleição subsequente.\\n\\n§ 4º Se, hora regimental, não estiver presente o Presidente, abrirá os trabalhos o Vice-Presidente ou, na falta deste, o Primeiro ou Segundo Secretários, na sequência, ou ainda, caso estes não estejam presentes, o Vereador mais votado nas eleições municipais.\"\\n\\n\"Art. 33 Compete, privativamente, ao Vice-Presidente:\"\\n\\n\"Art. 36 ...\\n\\nI - ...\\n\\ne) acompanhar e supervisionar a Ata da Sessão, proceder a sua leitura e assiná-la depois do Presidente e do Vice-Presidente.\\n\\nII - ...\\n\\nc) assinar, depois do Presidente e do Vice-Presidente, os atos da Mesa Diretora.\\n\\nParágrafo Único - O Primeiro Secretário será substituído em suas faltas, ausências, impedimentos ou licenças, havendo nas duas últimas hipóteses investidura na plenitude da respectiva função, pelo Segundo Secretário.\"\\n\\n\"Art. 48 As Comissões Permanentes, em número de 05 ( cinco ), são as seguinte:\\n\\nI - ...\\n\\nII - ...\\n\\nIII - ...\\n\\nIV - ...\\n\\nV - Comissão de Meio Ambiente, Direitos Humanos e Defesa do Consumidor.\"\\n\\n\"Art. 57 ...\\n\\nI - ...\\n\\nII - ...\\n\\nIII - ...\\n\\nIV - ...\\n\\nV - da Comissão de Meio Ambiente, Direitos Humanos e Defesa do Consumidor.\"\\n\\n\"a) ...\\n\\n1 - ...\\n2 - ...\\n3 - ...\\nb) ...\\nc) ...\\nd) ...\\ne) opinar sobre todas as proposições que digam respeito aos direitos humanos, especialmente àquelas que envolvam matérias referentes à criança, adolescente e idoso;\\nf) propor iniciativas relacionadas a direitos humanos;\\ng) receber reclamações e encaminhá-las aos órgãos competentes;\\nh) propor ações de combate ao rascismo e discriminação de qualquer natureza, bem como manter intercâmbio com órgãos públicos, entidades civis e filantrópicas sem fins lucrativos, para atender o disposto na alínea anterior;\\ni) divulga a legislação que trata dos direitos da mulher trabalhadora urbana e rural;\\nj) propor ações de combate à violência e prostituição infanto-juvenil;\\nk) opinar sobre proposições que versem a respeito da saúde da mulher, planejamento familiar e assistência social;\\nl) fiscalizar, em conjunto com a Delegacia Regional do Trabalho, a instalação de creches nas empresas e demais locais de trabalhos, exigidos por lei;\\nm) opinar sobre proposições relativas a produtos, serviços e, quando cabível, contratos que norteiam as relações de consumo;\\nn) desenvolver ampla divulgação da legislação e dos programas de defesa do consumidor;\\no) propor a criação de políticas e instrumentos de defesa do consumidor, em conjunto com os demais órgãos públicos e particulares;\\np) fiscalizar os produtos de consumo e seu fornecimento, e zelar pela sua qualidade;\\nq) receber reclamações e encaminhá-las ao órgão competente.\"\\n\\n\"Art. 164 O Líder e Vice-Líder podem fazer parte de Comissões Permanentes e Temporárias, exceto o Líder e Vice-Líder do Governo.\"\\n\\n\"Art. 168 Lavrar-se-á a ata, com o resumo dos trabalhos de cada sessão, cujo redação obedecerá ao padrão uniforme adotado pela Mesa Diretora.\"\\n\\n\"Art. 188 As atas serão organizadas em anais, por ordem cronológica, por período legislativo e recolhidas ao Arquivo da Câmara.\"\\n\\n\"Art. 190 Os Vereadores só poderão falar sobre a ata para impugná-la ou retificá-la no todo em parte, logo após a leitura da mesma.\\n\\n§ 1º A discussão sobre a impugnação ou retificação da ata não poderá exceder o tempo destinado ao Grande Expediente, que nesta hipótese ficará prejudicado.\"\\n\\n\"Art. 199 Aberto a sessão, o Segundo Secretário fará a leitura da ata anterior, que o Presidente submeterá à apreciação do Plenário.\"\\n\\n\"Art. 200 Após a leitura da ata, o Primeiro Secretário procederá a leitura de:\"\\n\\n\"Art. 413 - ...\\n\\nParágrafo Único - Caso o Presidente da Câmara não promulgue a lei, caberá ao Vice-Presidente promulgá-la.\"\\n\\n\"Art. 418 - ...\\n\\n§ 2º Se lei não for promulgada dentro de 48 ( quarenta e oito ) horas o Presidente da Câmara Municipal a promulgará, e se este em igual prazo, não o fizer, fá-lo-á obrigatoriamente, o Vice-Presidente.\"\\n\\nArt. 2ºDê-se ao capítulo III, do Título VII - Da Elaboração Legislativo Especial, a seguinte redação:\\n\\n\\n\"CapítuloIII\\nDA CONCESSÃO DE HONRARIAS\\n\\n\\nSEÇÃO I\\nDAS HONRARIAS\"\\n\\n\\n\\n\"Art. 402 - A Câmara Municipal concederá o Título Honorífico de Cidadão Feirense a pessoas, pelos seus relevantes e notórios serviços prestados ao Município e ao seu povo.\"\\n\\n\"Art. 403 - A Câmara Municipal também concederá:\\n\\na) Comenda - Maria Quitéria, Áureo Filho, Filinto Justiniano Ferreira Bastos, Padre Ovídio Alves de São Boaventura, Godofredo Rebello de Figueiredo Filho, Maestro Tertuliano Ferreira Santos, Armando Curvelo de Menezes e, Dr. Gastão Guimarães;\\nb) Medalhas - Mérito de Meio Ambiente, Fundação Senhor dos Passos, Vereador Dival Figueiredo Machado, Missionário Roderick Murdo Gillanders, Mérito Rotário, Zumbi dos Palmares e Arquiteto Anápio Aurélio de Miranda;\\nc) Certificados - Verde e, de Excelência.\"\\n\\n\\n\"SEÇÃO\\nDISPOSIÇÕES GERAIS\"\\n\\n\\n\"Art. 404 - O Projeto de Decreto Legislativo destinado a concessão de honrarias, deverá ser apresentado por, no mínimo, 2/3 ( dois terços ) dos membros da Câmara e, acompanhado de justificativa, além de, biografia quando inerente a pessoa física.\\n\\n§ 1º Recebido o Projeto de Decreto Legislativo, o mesmo após lido, será encaminhado à Comissão de Constituição Justiça e Redação que, dentro de 10 ( dez ) dias, emitirá parecer fundamentado, o qual após lido será pautado para a Ordem do Dia da sessão seguinte.\\n\\n§ 2º Será considerado aprovado o Projeto de Decreto Legislativo que obtiver 2/3 ( dois terços ) de votos favoráveis dos membros da Câmara.\\n\\n§ 3º Cada Vereador poderá apresentar 08 ( oito ) projetos de Decreto Legislativo por legislatura destinados a concessão do Título de Cidadão Feirense, enquanto que as demais Honrarias tem suas quantidades estabelecidas nas Resoluções que as instituíram.\"\\n\\n\"Art. 405 - As honrarias poderão ser cassadas, caso os homenageados tenham comprovadamente praticado atos que colidam com os motivos que as ensejam\\n\\nParágrafo Único - Aplicam-se os dispositivos desta Seção, no que couber, ao Projeto de Decreto Legislativo de cassação da honraria\"\\n\\nArt. 3ºSuprima-se os dispositivos abaixo mencionados, e dê-se nova numeração aos demais:\\n\\n\"a) artigos - 34,37. 87, 99, 100, 102, 124, 187, 189, 191, 192, 193, 223, 356, 417;\\nb) parágrafos - 3º do art. 101, 4º do art. 135 e único do art. 199;\"\\n\\nArt. 4ºEsta Resolução entrará em vigor na data de sua publicação, produzindo seus efeitos a partir de 1º de Janeiro de 2005, revogadas as disposições em contrário.\\n\\nMESA DIRETIVA DA CÂMARA MUNICIPAL DE FEIRA DE SANTANA, 26 de Outubro de 2004.\\n\\nVer. ANTÔNIO CARLOS DALTRO COELHO\\nPresidente\\n\\nVer. GENÉSIO SERAFIM DE LIMA\\n1º Secretário\\n\\nVer. JORGE RAIMUNDO DE OLIVEIRA SILVA\\n2º Secretário'"
            ]
          },
          "metadata": {
            "tags": []
          },
          "execution_count": 5
        }
      ]
    },
    {
      "cell_type": "code",
      "metadata": {
        "id": "k2uDajvs0T_T",
        "colab_type": "code",
        "colab": {
          "base_uri": "https://localhost:8080/",
          "height": 52
        },
        "outputId": "abc09edd-bde1-4e71-c348-528f2e5138ea"
      },
      "source": [
        "import nltk\n",
        "nltk.download('stopwords')\n",
        "from nltk.corpus import stopwords\n",
        "import re\n",
        "import unicodedata\n",
        "\n",
        "def limpa_texto(text, string=True) -> str or list:\n",
        "    if (type(text) == float):\n",
        "        return ''\n",
        "\n",
        "    # Remove pontuacao, digitos e espacos\n",
        "    text = ' '.join(re.findall(r'\\b[a-zÀ-ú]+\\b', text.lower()))\n",
        "    \n",
        "    # Remove acentos, cedilhas etc\n",
        "    nfkd_form = unicodedata.normalize('NFKD', text)\n",
        "    text = ''.join([char for char in nfkd_form if not unicodedata.combining(char)])\n",
        "\n",
        "    # Remove stopwords\n",
        "    my_stopwords = stopwords.words('portuguese')\n",
        "    my_words = ['r', 'iii', 'i', 'ii', 'desta', 'v', 'iv', 'deste',\n",
        "    'qualquer', 'b', 'das', 'seguintes', 'm', 'c', 'g', 'n', 'w',\n",
        "    'k', 'l', 's', 't', 'z', 'd', 'j', 'p', 'y', 'f', 'u', 'x', 'q', 'h']\n",
        "    my_stopwords = my_stopwords + my_words\n",
        "\n",
        "    text = [word for word in text.split() if word not in my_stopwords]\n",
        "\n",
        "    if string:\n",
        "        return ' '.join(text)\n",
        "    else:\n",
        "        return text\n",
        "\n",
        "    # Outra colecao de palavras que podem ser stopwords no contexto\n",
        "    # das leis municipais de Feira de Santana, Bahia:\n",
        "\n",
        "    # other_words = ['feira', 'santana', 'art', 'municipal', 'lei',\n",
        "    # 'prefeito', 'câmara', 'municipio', 'data', 'seguinte', 'disposições',\n",
        "    # 'estado', 'bahia', 'vigor', 'secretário', 'decreto', 'projeto', \n",
        "    # 'contrário', 'presidente', 'artigo', 'parágrafo', 'executivo', \n",
        "    # 'gabinete', 'único', 'sanciono', 'autoria', 'através', 'vice', 'autor',\n",
        "    # 'decretou', 'execução', 'sobre', 'decorrentes', 'decreta', 'resolução',\n",
        "    # 'geral', 'uso', 'ato', 'diretiva', 'exercício', 'meio', 'correrão']"
      ],
      "execution_count": 10,
      "outputs": [
        {
          "output_type": "stream",
          "text": [
            "[nltk_data] Downloading package stopwords to /root/nltk_data...\n",
            "[nltk_data]   Package stopwords is already up-to-date!\n"
          ],
          "name": "stdout"
        }
      ]
    },
    {
      "cell_type": "markdown",
      "metadata": {
        "id": "o3JpPMrw0T_Z",
        "colab_type": "text"
      },
      "source": [
        "# Construindo representações para o texto"
      ]
    },
    {
      "cell_type": "code",
      "metadata": {
        "id": "SEh4OLr-0T_b",
        "colab_type": "code",
        "colab": {}
      },
      "source": [
        "leis['texto_limpo'] = leis['texto'].apply(limpa_texto)"
      ],
      "execution_count": 11,
      "outputs": []
    },
    {
      "cell_type": "code",
      "metadata": {
        "id": "1SPaMnra0T_g",
        "colab_type": "code",
        "colab": {
          "base_uri": "https://localhost:8080/",
          "height": 52
        },
        "outputId": "bdabe518-a835-4d1e-f5cd-17744618cf27"
      },
      "source": [
        "# Constrói matriz de documentos baseado em \n",
        "# contagem dos termos por documento\n",
        "from sklearn.feature_extraction.text import CountVectorizer, TfidfTransformer\n",
        "vectorizer = CountVectorizer()\n",
        "representacao_contagem = vectorizer.fit_transform(leis['texto_limpo'])\n",
        "representacao_contagem"
      ],
      "execution_count": 12,
      "outputs": [
        {
          "output_type": "execute_result",
          "data": {
            "text/plain": [
              "<6033x28875 sparse matrix of type '<class 'numpy.int64'>'\n",
              "\twith 534596 stored elements in Compressed Sparse Row format>"
            ]
          },
          "metadata": {
            "tags": []
          },
          "execution_count": 12
        }
      ]
    },
    {
      "cell_type": "code",
      "metadata": {
        "tags": [],
        "id": "NzYMpD_P0T_3",
        "colab_type": "code",
        "colab": {
          "base_uri": "https://localhost:8080/",
          "height": 52
        },
        "outputId": "43a460b6-2869-4f73-92ae-402bde4416e1"
      },
      "source": [
        "# Construindo representação baseada em TF-IDF\n",
        "transformer = TfidfTransformer()\n",
        "representacao_tfidf = transformer.fit_transform(X)\n",
        "representacao_tfidf"
      ],
      "execution_count": 17,
      "outputs": [
        {
          "output_type": "execute_result",
          "data": {
            "text/plain": [
              "<6033x28875 sparse matrix of type '<class 'numpy.float64'>'\n",
              "\twith 534596 stored elements in Compressed Sparse Row format>"
            ]
          },
          "metadata": {
            "tags": []
          },
          "execution_count": 17
        }
      ]
    },
    {
      "cell_type": "code",
      "metadata": {
        "id": "VTXaa1WD0UAr",
        "colab_type": "code",
        "colab": {}
      },
      "source": [
        "# # Construindo representação de palavras\n",
        "# # baseada na contagem das palavras vizinhas\n",
        "# # (hipótese linguística distribucional: \n",
        "# #  conhecerás as palavras pela companhia que elas têm)\n",
        "\n",
        "# # Transformar nosso set pra um dicionário de indices\n",
        "# idx_palavras = {}\n",
        "# for i, palavra in enumerate(palavras_unicas):\n",
        "#     idx_palavras[palavra] = i"
      ],
      "execution_count": 1,
      "outputs": [
        {
          "output_type": "error",
          "ename": "NameError",
          "evalue": "name 'palavras_unicas' is not defined",
          "traceback": [
            "\u001b[0;31m---------------------------------------------------------------------------\u001b[0m",
            "\u001b[0;31mNameError\u001b[0m                                 Traceback (most recent call last)",
            "\u001b[0;32m<ipython-input-1-6195dd9fd5b1>\u001b[0m in \u001b[0;36m<module>\u001b[0;34m\u001b[0m\n\u001b[1;32m      5\u001b[0m \u001b[0;31m# Transformar nosso set pra um dicionário de indices\u001b[0m\u001b[0;34m\u001b[0m\u001b[0;34m\u001b[0m\u001b[0;34m\u001b[0m\u001b[0m\n\u001b[1;32m      6\u001b[0m \u001b[0midx_palavras\u001b[0m \u001b[0;34m=\u001b[0m \u001b[0;34m{\u001b[0m\u001b[0;34m}\u001b[0m\u001b[0;34m\u001b[0m\u001b[0;34m\u001b[0m\u001b[0m\n\u001b[0;32m----> 7\u001b[0;31m \u001b[0;32mfor\u001b[0m \u001b[0mi\u001b[0m\u001b[0;34m,\u001b[0m \u001b[0mpalavra\u001b[0m \u001b[0;32min\u001b[0m \u001b[0menumerate\u001b[0m\u001b[0;34m(\u001b[0m\u001b[0mpalavras_unicas\u001b[0m\u001b[0;34m)\u001b[0m\u001b[0;34m:\u001b[0m\u001b[0;34m\u001b[0m\u001b[0;34m\u001b[0m\u001b[0m\n\u001b[0m\u001b[1;32m      8\u001b[0m     \u001b[0midx_palavras\u001b[0m\u001b[0;34m[\u001b[0m\u001b[0mpalavra\u001b[0m\u001b[0;34m]\u001b[0m \u001b[0;34m=\u001b[0m \u001b[0mi\u001b[0m\u001b[0;34m\u001b[0m\u001b[0;34m\u001b[0m\u001b[0m\n",
            "\u001b[0;31mNameError\u001b[0m: name 'palavras_unicas' is not defined"
          ]
        }
      ]
    },
    {
      "cell_type": "code",
      "metadata": {
        "id": "fIXTyXpb0UAv",
        "colab_type": "code",
        "colab": {
          "base_uri": "https://localhost:8080/",
          "height": 139
        },
        "outputId": "c6ea58f9-5618-47be-e21f-9b4a08279546"
      },
      "source": [
        "# # Criando matriz do embedding\n",
        "# vetores = np.zeros((len(palavras_unicas), len(palavras_unicas)), dtype=np.int16)\n",
        "# vetores"
      ],
      "execution_count": 29,
      "outputs": [
        {
          "output_type": "execute_result",
          "data": {
            "text/plain": [
              "array([[0, 0, 0, ..., 0, 0, 0],\n",
              "       [0, 0, 0, ..., 0, 0, 0],\n",
              "       [0, 0, 0, ..., 0, 0, 0],\n",
              "       ...,\n",
              "       [0, 0, 0, ..., 0, 0, 0],\n",
              "       [0, 0, 0, ..., 0, 0, 0],\n",
              "       [0, 0, 0, ..., 0, 0, 0]], dtype=int16)"
            ]
          },
          "metadata": {
            "tags": []
          },
          "execution_count": 29
        }
      ]
    },
    {
      "cell_type": "code",
      "metadata": {
        "id": "3oDi3dF-0UAx",
        "colab_type": "code",
        "colab": {
          "base_uri": "https://localhost:8080/",
          "height": 139
        },
        "outputId": "d01c813c-0421-44ad-d3e4-da2b0ed6be7d"
      },
      "source": [
        "# # Definir ate qual distancia utilizar\n",
        "# vizinhanca = 2\n",
        "# for idx, palavra in enumerate(texto_limpo):\n",
        "#     for i in range(1, vizinhanca):\n",
        "#         pal_vizinha = texto_limpo[idx+i]\n",
        "\n",
        "#         idx_pal = idx_palavras[palavra]\n",
        "#         idx_vizinha = idx_palavras[pal_vizinha]\n",
        "\n",
        "#         vetores[idx_pal, idx_vizinha] += 1\n",
        "#         vetores[idx_vizinha, idx_pal] += 1\n",
        "#     if (idx == len(texto_limpo) - vizinhanca):\n",
        "#         break\n",
        "# vetores"
      ],
      "execution_count": 30,
      "outputs": [
        {
          "output_type": "execute_result",
          "data": {
            "text/plain": [
              "array([[0, 0, 0, ..., 0, 0, 0],\n",
              "       [0, 0, 0, ..., 0, 0, 0],\n",
              "       [0, 0, 0, ..., 0, 0, 0],\n",
              "       ...,\n",
              "       [0, 0, 0, ..., 0, 0, 0],\n",
              "       [0, 0, 0, ..., 0, 0, 0],\n",
              "       [0, 0, 0, ..., 0, 0, 0]], dtype=int16)"
            ]
          },
          "metadata": {
            "tags": []
          },
          "execution_count": 30
        }
      ]
    },
    {
      "cell_type": "markdown",
      "metadata": {},
      "source": [
        "### Análise da representação das palavras"
      ]
    },
    {
      "cell_type": "code",
      "metadata": {
        "tags": [],
        "id": "cX8aNaJt0UBD",
        "colab_type": "code",
        "colab": {
          "base_uri": "https://localhost:8080/",
          "height": 1000
        },
        "outputId": "03f6f0b3-3df3-4db6-cad9-d55a30b4bda2"
      },
      "source": [
        "# idx_palavras_rand = np.random.randint(len(palavras_unicas), size=10)\n",
        "\n",
        "# def mostra_palavras_semelhantes(idx: int, semelhantes: list, lista_palavras: list):\n",
        "#     pal = lista_palavras[idx]\n",
        "#     print(f'Lista de palavras semelhantes a {pal} - {idx}:')\n",
        "#     for i in semelhantes:\n",
        "#         pal = lista_palavras[i]\n",
        "#         print(f'{pal} - {i}')\n",
        "#     print('\\n- - - - - \\n\\n')\n",
        "\n",
        "# lista_palavras = list(idx_palavras.keys())\n",
        "# for idx in idx_palavras_rand:\n",
        "#     palavras_semelhantes = np.argsort(cos_sim_palavras[idx].toarray())\n",
        "#     semelhantes = palavras_semelhantes[0][-10:-1]\n",
        "#     mostra_palavras_semelhantes(idx, semelhantes, lista_palavras)"
      ],
      "execution_count": 34,
      "outputs": [
        {
          "output_type": "stream",
          "text": [
            "Lista de palavras semelhantes a funerais - 3755:\n",
            "rela - 25787\n",
            "oe - 18886\n",
            "volumosa - 28313\n",
            "diligenciando - 3698\n",
            "equipando - 22118\n",
            "aerofotogrametria - 22416\n",
            "sondagem - 13553\n",
            "portico - 2178\n",
            "adjudicacoes - 13209\n",
            "\n",
            "- - - - - \n",
            "\n",
            "\n",
            "Lista de palavras semelhantes a eeg - 4993:\n",
            "concorrentemente - 744\n",
            "discordancia - 27422\n",
            "consorciar - 9462\n",
            "estimulaa - 10918\n",
            "instrumen - 21973\n",
            "usada - 13383\n",
            "paramentos - 12168\n",
            "estimulacao - 1754\n",
            "televisores - 7262\n",
            "\n",
            "- - - - - \n",
            "\n",
            "\n",
            "Lista de palavras semelhantes a estomologia - 7844:\n",
            "laboratorial - 22997\n",
            "terapeutico - 3229\n",
            "turma - 12594\n",
            "compondo - 3565\n",
            "imagem - 11763\n",
            "radioisotopos - 1179\n",
            "neonatal - 26241\n",
            "socioterritorial - 27798\n",
            "estomologia - 7844\n",
            "\n",
            "- - - - - \n",
            "\n",
            "\n",
            "Lista de palavras semelhantes a digitalizada - 16781:\n",
            "base - 16268\n",
            "regras - 4471\n",
            "implantar - 4372\n",
            "restituicao - 4335\n",
            "aeronaves - 4581\n",
            "visual - 5228\n",
            "comprometer - 20083\n",
            "aero - 12379\n",
            "ifr - 4252\n",
            "\n",
            "- - - - - \n",
            "\n",
            "\n",
            "Lista de palavras semelhantes a providencias - 8126:\n",
            "estatuindo - 7324\n",
            "repassa - 11663\n",
            "procuracoes - 1967\n",
            "recuperativo - 26395\n",
            "findas - 2218\n",
            "licenciamentos - 16956\n",
            "julgarem - 12444\n",
            "previdencias - 28848\n",
            "medidas - 7705\n",
            "\n",
            "- - - - - \n",
            "\n",
            "\n",
            "Lista de palavras semelhantes a expedidas - 12144:\n",
            "dirimidos - 11998\n",
            "aplicados - 727\n",
            "revistos - 5391\n",
            "revertidos - 25631\n",
            "escolhidos - 16777\n",
            "anotados - 18337\n",
            "computadas - 5637\n",
            "aplicadas - 14584\n",
            "resolvidos - 4845\n",
            "\n",
            "- - - - - \n",
            "\n",
            "\n",
            "Lista de palavras semelhantes a litro - 6466:\n",
            "seletivos - 24404\n",
            "vocacional - 4249\n",
            "alcoolico - 12102\n",
            "bafometro - 10838\n",
            "falcemia - 16472\n",
            "mancha - 10278\n",
            "orelhinha - 26284\n",
            "afoicamento - 10543\n",
            "pezinho - 28146\n",
            "\n",
            "- - - - - \n",
            "\n",
            "\n",
            "Lista de palavras semelhantes a faltante - 18618:\n",
            "frequentes - 25716\n",
            "tributar - 26839\n",
            "conter - 27466\n",
            "autorizado - 8909\n",
            "judiciario - 9167\n",
            "exorbitem - 20702\n",
            "sanciona - 16891\n",
            "autorizante - 15321\n",
            "concedente - 10461\n",
            "\n",
            "- - - - - \n",
            "\n",
            "\n",
            "Lista de palavras semelhantes a territorios - 2946:\n",
            "autografas - 5972\n",
            "negarem - 10229\n",
            "consolidara - 12614\n",
            "cic - 16308\n",
            "cronogramas - 12846\n",
            "carteira - 12230\n",
            "receituarios - 8543\n",
            "suplentes - 20211\n",
            "reconstruindo - 13631\n",
            "\n",
            "- - - - - \n",
            "\n",
            "\n",
            "Lista de palavras semelhantes a marcelino - 77:\n",
            "galena - 20833\n",
            "dumont - 26360\n",
            "reginaldo - 1007\n",
            "herminio - 12105\n",
            "josafa - 624\n",
            "domitilia - 21733\n",
            "camilo - 13497\n",
            "aethur - 15133\n",
            "leoncio - 23128\n",
            "\n",
            "- - - - - \n",
            "\n",
            "\n"
          ],
          "name": "stdout"
        }
      ]
    },
    {
      "cell_type": "markdown",
      "metadata": {
        "id": "zaHPf6bo0UBG",
        "colab_type": "text"
      },
      "source": [
        "Neste corpus, pra algumas palavras, a hipótese distribucional parece funcionar bem, pra outras nem tanto, pra outras não funciona.\n",
        "\n",
        "Semelhantes a \"outorgar\" temos: \"permutar\", \"editar\", \"contratar\", \"doar\", \"conceder\", \"dispensar\", \"celebrar\", \"subscrever\", \"proibir\". Embora a semântica (significado) não seja necessariamente próxima, todas as palavras são verbos, então a sintaxe é próxima. Semelhantes a \"ibitita\": \"axixa\", \"ibirarema\", \"peritoro\", \"piracaia\", \"igarata\", \"erechim\", \"itaperuna\", \"piata\", \"vandinha\". Todos parecem nomes de locais.\n",
        "\n",
        "Existem casos horríveis. Semelhantes à \"coesao\" temos: \"sedeso\", \"his\", \"ctps\", \"zeis\", \"pnas\", \"cgfmhis\", \"snhis\", \"acemas\". O que significam essas palavras? Talvez seja útil melhorar a qualidade do pré-processamento pra melhorar na indexação. Semelhantes à \"separando\" temos: \"agrossilvopastoris\", \"cemiteriais\", \"solidos\", \"molhados\", \"domiciliares\", \"volumosos\", \"baldios\", \"antecedencia\", \"dimensao\".\n",
        "\n",
        "Há casos mistos. Semelhantes `a \"trasporte\" (note o erro) temos: \"meia\" (talvez meia passagem?), \"transporte\" (a palavra correta aparece em segundo), \"roletas\", \"vala\" (?), \"trafegos\", \"convencional\" (?), \"edificar\" (?), \"passageiros\", \"fretado\".\n",
        "\n",
        "Talvez o corpus seja pequeno demais pra encontrar as relações entre as palavras só contando? Há de se testar se não é melhor então trabalhar com vetores de palavras, mesmo aprendidos em um corpus pequeno. Segundo o paper \"Don't count, predict! a systematic comparison of context-counting vs. context-predicting semantic vectors (2014) - Baroni, Dinu, Kruszeweski\", predizer é melhor que contar. Há de se testar se neste nosso contexto isso também se verifica.\n",
        "\n",
        "Por hora, vamos testar se a busca melhora ou não utilizando as palavras. Então vamos construir a representação das leis."
      ]
    },
    {
      "cell_type": "markdown",
      "metadata": {},
      "source": [
        "### Construindo representação das leis com base na hipotese distribucional"
      ]
    },
    {
      "cell_type": "code",
      "metadata": {
        "tags": [],
        "id": "FLTahner0UBH",
        "colab_type": "code",
        "colab": {
          "base_uri": "https://localhost:8080/",
          "height": 139
        },
        "outputId": "97f30ae5-a27a-4fa9-b364-204bd621b71d"
      },
      "source": [
        "# Cada lei vai ser a soma dos vetores de suas palavras\n",
        "# Usando np.zeros gasta muita memoria, mas csr_matrix eh muito lento\n",
        "leis_vetores_palavras = np.zeros((len(leis['texto_limpo']), vetores.shape[1]))\n",
        "for idx, lei in enumerate(leis['texto_limpo']):\n",
        "    for palavra in lei.split():\n",
        "        idx_palavra = idx_palavras[palavra]\n",
        "        leis_vetores_palavras[idx] += vetores[idx_palavra]\n",
        "leis_vetores_palavras"
      ],
      "execution_count": 35,
      "outputs": [
        {
          "output_type": "execute_result",
          "data": {
            "text/plain": [
              "array([[ 1.,  0.,  4., ...,  0.,  0.,  0.],\n",
              "       [ 0.,  0.,  0., ...,  0.,  0.,  0.],\n",
              "       [ 2., 12.,  0., ...,  0.,  0.,  0.],\n",
              "       ...,\n",
              "       [ 0.,  6.,  0., ...,  0.,  0.,  0.],\n",
              "       [ 0., 21.,  0., ...,  0.,  0.,  0.],\n",
              "       [ 0., 33., 17., ...,  0.,  0.,  0.]])"
            ]
          },
          "metadata": {
            "tags": []
          },
          "execution_count": 35
        }
      ]
    },
    {
      "cell_type": "markdown",
      "metadata": {
        "colab": {},
        "colab_type": "code",
        "id": "OImRkP2s8w7K"
      },
      "source": [
        "# Visualizando e clusterizando a representação dos textos\n",
        "\n",
        "Primeiro, vamos visualizar a representação de cada lei e observar se há clusters naturais. Depois, vamos clusterizar estas representações e analisar se estes clusters formados fazem sentido com as categorias atribuídas a cada Lei.\n",
        "\n",
        "### Visualizando as representações\n",
        "\n",
        "Pra visualizar, temos que antes reduzir a dimensão das representações pra 2 ou 3 dimensões. Por praticidade na visualização e interpretação, vamos visualizar em 2 dimensões. Pra reduzir a 2 dimensões, existem alguns métodos. Você pode visualizar alguns [nesta página do Sklearn.](https://scikit-learn.org/stable/modules/decomposition.html#decompositions) Um destaque especial pra Truncated SVD (LSA) e t-SNE. Um problema interessante e relacionado é aplicar LDA (Latent Dirichlet Allocation) ao corpus das Leis e verificar quais palavras caracterizam cada categoria das Leis."
      ]
    },
    {
      "cell_type": "code",
      "execution_count": null,
      "metadata": {},
      "outputs": [],
      "source": []
    }
  ]
}