{
 "cells": [
  {
   "cell_type": "markdown",
   "metadata": {},
   "source": [
    "# Exploração Inicial e frequência de palavras\n",
    "\n",
    "Este é um notebook pra exploração inicial das leis do município. \n",
    "\n",
    "Atualmente, só considera a frequência de palavras, de forma ingênua.\n",
    "\n",
    "### Algumas ideias para melhorar esse notebook:\n",
    "- Separar entidades (nome de pessoas, ruas) das outras palavras\n",
    "- Rodar o Part of Speech Tagging(POS Tagging) do Spacy e calcular frequências para cada categoria (substantivo, adjetivo, etc)\n",
    "- Separar as leis por categorias ou por Latent Semantic Analysis (LSA) e calcular a frequência de palavras pra cada categoria ou categoria latente (LSA)\n",
    "\n",
    "### Algumas referências para ideias e melhorias:\n",
    "- https://www.scientificamerican.com/article/explore-175-years-of-words-in-scientific-american/ e https://www.scientificamerican.com/article/how-to-turn-175-years-of-words-in-scientific-american-into-an-image/\n",
    "- https://infovis.fh-potsdam.de/tutorials/infovis5text.html\n",
    "- https://towardsdatascience.com/a-complete-exploratory-data-analysis-and-visualization-for-text-data-29fb1b96fb6a\n"
   ]
  },
  {
   "cell_type": "code",
   "execution_count": 5,
   "metadata": {},
   "outputs": [],
   "source": [
    "import pandas as pd\n",
    "import matplotlib.pyplot as plt"
   ]
  },
  {
   "cell_type": "code",
   "execution_count": 6,
   "metadata": {
    "tags": []
   },
   "outputs": [
    {
     "output_type": "stream",
     "name": "stdout",
     "text": [
      "<class 'pandas.core.frame.DataFrame'>\nRangeIndex: 6033 entries, 0 to 6032\nData columns (total 4 columns):\n #   Column     Non-Null Count  Dtype \n---  ------     --------------  ----- \n 0   titulo     6033 non-null   object\n 1   categoria  6033 non-null   object\n 2   resumo     6033 non-null   object\n 3   texto      6033 non-null   object\ndtypes: object(4)\nmemory usage: 188.7+ KB\nNone\ntitulo       6033\ncategoria       8\nresumo       4961\ntexto        6029\ndtype: int64\n"
     ]
    },
    {
     "output_type": "execute_result",
     "data": {
      "text/plain": [
       "                                            titulo   categoria  \\\n",
       "0     DECRETO Nº 8854, de 28 de fevereiro de 2013.    Decretos   \n",
       "1     DECRETO Nº 8849, de 25 de fevereiro de 2013.    Decretos   \n",
       "2     DECRETO Nº 8853, de 27 de fevereiro de 2013.    Decretos   \n",
       "3          DECRETO Nº 8967, de 17 de julho de 2013    Decretos   \n",
       "4          DECRETO Nº 8982, de 30 de julho de 2013    Decretos   \n",
       "...                                            ...         ...   \n",
       "6028                         RESOLUÇÃO Nº 125/1980  Resoluções   \n",
       "6029                         RESOLUÇÃO Nº 403/2003  Resoluções   \n",
       "6030                         RESOLUÇÃO Nº 492/2014  Resoluções   \n",
       "6031                         RESOLUÇÃO Nº 382/2001  Resoluções   \n",
       "6032                         RESOLUÇÃO Nº 431/2004  Resoluções   \n",
       "\n",
       "                                                 resumo  \\\n",
       "0     DELEGA COMPETÊNCIA À SECRETARIA MUNICIPAL DE P...   \n",
       "1     ABRE CRÉDITO SUPLEMENTAR AO ORÇAMENTO DO MUNIC...   \n",
       "2     NOMEIA MEMBROS DO CONSELHO MUNICIPAL DE DESENV...   \n",
       "3     ALTERA O QUADRO DE DETALHAMENTO DE DESPESA DO ...   \n",
       "4     AUTORIZA O FUNCIONAMENTO DE ESTABELECIMENTOS C...   \n",
       "...                                                 ...   \n",
       "6028  DISPÕE SOBRE A CONCESSÃO DE TÍTULO DE CIDADÃO ...   \n",
       "6029  AUTORIZA A MESA DIRETIVA DO PODER LEGISLATIVO ...   \n",
       "6030  INSTITUI A SEGUNDA SEMANA DO MÊS DE AGOSTO EM ...   \n",
       "6031  CRIA A MEDALHA VEREADOR DIVAL FIGUEIREDO MACHA...   \n",
       "6032  MODIFICA E SUPRIME DISPOSITIVOS DA RESOLUÇÃO N...   \n",
       "\n",
       "                                                  texto  \n",
       "0     O PREFEITO MUNICIPAL DE FEIRA DE SANTANA, Esta...  \n",
       "1     O PREFEITO MUNICIPAL DE FEIRA DE SANTANA, Esta...  \n",
       "2     O PREFEITO MUNICIPAL DE FEIRA DE SANTANA, Esta...  \n",
       "3     O PREFEITO MUNICIPAL DE FEIRA DE SANTANA, Esta...  \n",
       "4     O PREFEITO MUNICIPAL DE FEIRA DE SANTANA, Esta...  \n",
       "...                                                 ...  \n",
       "6028  Faço saber que a Câmara Municipal aprovou e eu...  \n",
       "6029  A CÂMARA MUNICIPAL DE FEIRA DE SANTANA, Estado...  \n",
       "6030  A CÂMARA MUNICIPAL DE FEIRA DE SANTANA, Estado...  \n",
       "6031  A CÂMARA MUNICIPAL DE FEIRA DE SANTANA, Estado...  \n",
       "6032  A CÂMARA MUNICIPAL DE FEIRA DE SANTANA, Estado...  \n",
       "\n",
       "[6033 rows x 4 columns]"
      ],
      "text/html": "<div>\n<style scoped>\n    .dataframe tbody tr th:only-of-type {\n        vertical-align: middle;\n    }\n\n    .dataframe tbody tr th {\n        vertical-align: top;\n    }\n\n    .dataframe thead th {\n        text-align: right;\n    }\n</style>\n<table border=\"1\" class=\"dataframe\">\n  <thead>\n    <tr style=\"text-align: right;\">\n      <th></th>\n      <th>titulo</th>\n      <th>categoria</th>\n      <th>resumo</th>\n      <th>texto</th>\n    </tr>\n  </thead>\n  <tbody>\n    <tr>\n      <th>0</th>\n      <td>DECRETO Nº 8854, de 28 de fevereiro de 2013.</td>\n      <td>Decretos</td>\n      <td>DELEGA COMPETÊNCIA À SECRETARIA MUNICIPAL DE P...</td>\n      <td>O PREFEITO MUNICIPAL DE FEIRA DE SANTANA, Esta...</td>\n    </tr>\n    <tr>\n      <th>1</th>\n      <td>DECRETO Nº 8849, de 25 de fevereiro de 2013.</td>\n      <td>Decretos</td>\n      <td>ABRE CRÉDITO SUPLEMENTAR AO ORÇAMENTO DO MUNIC...</td>\n      <td>O PREFEITO MUNICIPAL DE FEIRA DE SANTANA, Esta...</td>\n    </tr>\n    <tr>\n      <th>2</th>\n      <td>DECRETO Nº 8853, de 27 de fevereiro de 2013.</td>\n      <td>Decretos</td>\n      <td>NOMEIA MEMBROS DO CONSELHO MUNICIPAL DE DESENV...</td>\n      <td>O PREFEITO MUNICIPAL DE FEIRA DE SANTANA, Esta...</td>\n    </tr>\n    <tr>\n      <th>3</th>\n      <td>DECRETO Nº 8967, de 17 de julho de 2013</td>\n      <td>Decretos</td>\n      <td>ALTERA O QUADRO DE DETALHAMENTO DE DESPESA DO ...</td>\n      <td>O PREFEITO MUNICIPAL DE FEIRA DE SANTANA, Esta...</td>\n    </tr>\n    <tr>\n      <th>4</th>\n      <td>DECRETO Nº 8982, de 30 de julho de 2013</td>\n      <td>Decretos</td>\n      <td>AUTORIZA O FUNCIONAMENTO DE ESTABELECIMENTOS C...</td>\n      <td>O PREFEITO MUNICIPAL DE FEIRA DE SANTANA, Esta...</td>\n    </tr>\n    <tr>\n      <th>...</th>\n      <td>...</td>\n      <td>...</td>\n      <td>...</td>\n      <td>...</td>\n    </tr>\n    <tr>\n      <th>6028</th>\n      <td>RESOLUÇÃO Nº 125/1980</td>\n      <td>Resoluções</td>\n      <td>DISPÕE SOBRE A CONCESSÃO DE TÍTULO DE CIDADÃO ...</td>\n      <td>Faço saber que a Câmara Municipal aprovou e eu...</td>\n    </tr>\n    <tr>\n      <th>6029</th>\n      <td>RESOLUÇÃO Nº 403/2003</td>\n      <td>Resoluções</td>\n      <td>AUTORIZA A MESA DIRETIVA DO PODER LEGISLATIVO ...</td>\n      <td>A CÂMARA MUNICIPAL DE FEIRA DE SANTANA, Estado...</td>\n    </tr>\n    <tr>\n      <th>6030</th>\n      <td>RESOLUÇÃO Nº 492/2014</td>\n      <td>Resoluções</td>\n      <td>INSTITUI A SEGUNDA SEMANA DO MÊS DE AGOSTO EM ...</td>\n      <td>A CÂMARA MUNICIPAL DE FEIRA DE SANTANA, Estado...</td>\n    </tr>\n    <tr>\n      <th>6031</th>\n      <td>RESOLUÇÃO Nº 382/2001</td>\n      <td>Resoluções</td>\n      <td>CRIA A MEDALHA VEREADOR DIVAL FIGUEIREDO MACHA...</td>\n      <td>A CÂMARA MUNICIPAL DE FEIRA DE SANTANA, Estado...</td>\n    </tr>\n    <tr>\n      <th>6032</th>\n      <td>RESOLUÇÃO Nº 431/2004</td>\n      <td>Resoluções</td>\n      <td>MODIFICA E SUPRIME DISPOSITIVOS DA RESOLUÇÃO N...</td>\n      <td>A CÂMARA MUNICIPAL DE FEIRA DE SANTANA, Estado...</td>\n    </tr>\n  </tbody>\n</table>\n<p>6033 rows × 4 columns</p>\n</div>"
     },
     "metadata": {},
     "execution_count": 6
    }
   ],
   "source": [
    "city_laws = pd.read_json('leis.json')\n",
    "city_laws.drop(['documento'], inplace=True, axis=1)\n",
    "print(city_laws.info())\n",
    "print(city_laws.nunique())\n",
    "city_laws"
   ]
  },
  {
   "cell_type": "code",
   "execution_count": 7,
   "metadata": {},
   "outputs": [
    {
     "output_type": "execute_result",
     "data": {
      "text/plain": [
       "'A CÂMARA MUNICIPAL DE FEIRA DE SANTANA, Estado da Bahia, na conformidade do artigo 70, Inciso V, da Lei Municipal nº37, de 05 de Abril de 1990 e, artigos 287, § 2º e, 420, do Regimento Interno, promulga a seguinte Resolução:\\n\\nArt. 1ºDê-se aos dispositivos abaixo mencionados, da Resolução nº393/2002 - Regimento Interno, as seguintes redações:\\n\\n\"Art. 7º A Mesa Diretora da Câmara compor-se-á do Presidente, Primeiro e Segundo Secretários, com mandato de 02 ( dois ) anos, admitida a recondução para a eleição subsequente.\\n\\n§ 4º Se, hora regimental, não estiver presente o Presidente, abrirá os trabalhos o Vice-Presidente ou, na falta deste, o Primeiro ou Segundo Secretários, na sequência, ou ainda, caso estes não estejam presentes, o Vereador mais votado nas eleições municipais.\"\\n\\n\"Art. 33 Compete, privativamente, ao Vice-Presidente:\"\\n\\n\"Art. 36 ...\\n\\nI - ...\\n\\ne) acompanhar e supervisionar a Ata da Sessão, proceder a sua leitura e assiná-la depois do Presidente e do Vice-Presidente.\\n\\nII - ...\\n\\nc) assinar, depois do Presidente e do Vice-Presidente, os atos da Mesa Diretora.\\n\\nParágrafo Único - O Primeiro Secretário será substituído em suas faltas, ausências, impedimentos ou licenças, havendo nas duas últimas hipóteses investidura na plenitude da respectiva função, pelo Segundo Secretário.\"\\n\\n\"Art. 48 As Comissões Permanentes, em número de 05 ( cinco ), são as seguinte:\\n\\nI - ...\\n\\nII - ...\\n\\nIII - ...\\n\\nIV - ...\\n\\nV - Comissão de Meio Ambiente, Direitos Humanos e Defesa do Consumidor.\"\\n\\n\"Art. 57 ...\\n\\nI - ...\\n\\nII - ...\\n\\nIII - ...\\n\\nIV - ...\\n\\nV - da Comissão de Meio Ambiente, Direitos Humanos e Defesa do Consumidor.\"\\n\\n\"a) ...\\n\\n1 - ...\\n2 - ...\\n3 - ...\\nb) ...\\nc) ...\\nd) ...\\ne) opinar sobre todas as proposições que digam respeito aos direitos humanos, especialmente àquelas que envolvam matérias referentes à criança, adolescente e idoso;\\nf) propor iniciativas relacionadas a direitos humanos;\\ng) receber reclamações e encaminhá-las aos órgãos competentes;\\nh) propor ações de combate ao rascismo e discriminação de qualquer natureza, bem como manter intercâmbio com órgãos públicos, entidades civis e filantrópicas sem fins lucrativos, para atender o disposto na alínea anterior;\\ni) divulga a legislação que trata dos direitos da mulher trabalhadora urbana e rural;\\nj) propor ações de combate à violência e prostituição infanto-juvenil;\\nk) opinar sobre proposições que versem a respeito da saúde da mulher, planejamento familiar e assistência social;\\nl) fiscalizar, em conjunto com a Delegacia Regional do Trabalho, a instalação de creches nas empresas e demais locais de trabalhos, exigidos por lei;\\nm) opinar sobre proposições relativas a produtos, serviços e, quando cabível, contratos que norteiam as relações de consumo;\\nn) desenvolver ampla divulgação da legislação e dos programas de defesa do consumidor;\\no) propor a criação de políticas e instrumentos de defesa do consumidor, em conjunto com os demais órgãos públicos e particulares;\\np) fiscalizar os produtos de consumo e seu fornecimento, e zelar pela sua qualidade;\\nq) receber reclamações e encaminhá-las ao órgão competente.\"\\n\\n\"Art. 164 O Líder e Vice-Líder podem fazer parte de Comissões Permanentes e Temporárias, exceto o Líder e Vice-Líder do Governo.\"\\n\\n\"Art. 168 Lavrar-se-á a ata, com o resumo dos trabalhos de cada sessão, cujo redação obedecerá ao padrão uniforme adotado pela Mesa Diretora.\"\\n\\n\"Art. 188 As atas serão organizadas em anais, por ordem cronológica, por período legislativo e recolhidas ao Arquivo da Câmara.\"\\n\\n\"Art. 190 Os Vereadores só poderão falar sobre a ata para impugná-la ou retificá-la no todo em parte, logo após a leitura da mesma.\\n\\n§ 1º A discussão sobre a impugnação ou retificação da ata não poderá exceder o tempo destinado ao Grande Expediente, que nesta hipótese ficará prejudicado.\"\\n\\n\"Art. 199 Aberto a sessão, o Segundo Secretário fará a leitura da ata anterior, que o Presidente submeterá à apreciação do Plenário.\"\\n\\n\"Art. 200 Após a leitura da ata, o Primeiro Secretário procederá a leitura de:\"\\n\\n\"Art. 413 - ...\\n\\nParágrafo Único - Caso o Presidente da Câmara não promulgue a lei, caberá ao Vice-Presidente promulgá-la.\"\\n\\n\"Art. 418 - ...\\n\\n§ 2º Se lei não for promulgada dentro de 48 ( quarenta e oito ) horas o Presidente da Câmara Municipal a promulgará, e se este em igual prazo, não o fizer, fá-lo-á obrigatoriamente, o Vice-Presidente.\"\\n\\nArt. 2ºDê-se ao capítulo III, do Título VII - Da Elaboração Legislativo Especial, a seguinte redação:\\n\\n\\n\"CapítuloIII\\nDA CONCESSÃO DE HONRARIAS\\n\\n\\nSEÇÃO I\\nDAS HONRARIAS\"\\n\\n\\n\\n\"Art. 402 - A Câmara Municipal concederá o Título Honorífico de Cidadão Feirense a pessoas, pelos seus relevantes e notórios serviços prestados ao Município e ao seu povo.\"\\n\\n\"Art. 403 - A Câmara Municipal também concederá:\\n\\na) Comenda - Maria Quitéria, Áureo Filho, Filinto Justiniano Ferreira Bastos, Padre Ovídio Alves de São Boaventura, Godofredo Rebello de Figueiredo Filho, Maestro Tertuliano Ferreira Santos, Armando Curvelo de Menezes e, Dr. Gastão Guimarães;\\nb) Medalhas - Mérito de Meio Ambiente, Fundação Senhor dos Passos, Vereador Dival Figueiredo Machado, Missionário Roderick Murdo Gillanders, Mérito Rotário, Zumbi dos Palmares e Arquiteto Anápio Aurélio de Miranda;\\nc) Certificados - Verde e, de Excelência.\"\\n\\n\\n\"SEÇÃO\\nDISPOSIÇÕES GERAIS\"\\n\\n\\n\"Art. 404 - O Projeto de Decreto Legislativo destinado a concessão de honrarias, deverá ser apresentado por, no mínimo, 2/3 ( dois terços ) dos membros da Câmara e, acompanhado de justificativa, além de, biografia quando inerente a pessoa física.\\n\\n§ 1º Recebido o Projeto de Decreto Legislativo, o mesmo após lido, será encaminhado à Comissão de Constituição Justiça e Redação que, dentro de 10 ( dez ) dias, emitirá parecer fundamentado, o qual após lido será pautado para a Ordem do Dia da sessão seguinte.\\n\\n§ 2º Será considerado aprovado o Projeto de Decreto Legislativo que obtiver 2/3 ( dois terços ) de votos favoráveis dos membros da Câmara.\\n\\n§ 3º Cada Vereador poderá apresentar 08 ( oito ) projetos de Decreto Legislativo por legislatura destinados a concessão do Título de Cidadão Feirense, enquanto que as demais Honrarias tem suas quantidades estabelecidas nas Resoluções que as instituíram.\"\\n\\n\"Art. 405 - As honrarias poderão ser cassadas, caso os homenageados tenham comprovadamente praticado atos que colidam com os motivos que as ensejam\\n\\nParágrafo Único - Aplicam-se os dispositivos desta Seção, no que couber, ao Projeto de Decreto Legislativo de cassação da honraria\"\\n\\nArt. 3ºSuprima-se os dispositivos abaixo mencionados, e dê-se nova numeração aos demais:\\n\\n\"a) artigos - 34,37. 87, 99, 100, 102, 124, 187, 189, 191, 192, 193, 223, 356, 417;\\nb) parágrafos - 3º do art. 101, 4º do art. 135 e único do art. 199;\"\\n\\nArt. 4ºEsta Resolução entrará em vigor na data de sua publicação, produzindo seus efeitos a partir de 1º de Janeiro de 2005, revogadas as disposições em contrário.\\n\\nMESA DIRETIVA DA CÂMARA MUNICIPAL DE FEIRA DE SANTANA, 26 de Outubro de 2004.\\n\\nVer. ANTÔNIO CARLOS DALTRO COELHO\\nPresidente\\n\\nVer. GENÉSIO SERAFIM DE LIMA\\n1º Secretário\\n\\nVer. JORGE RAIMUNDO DE OLIVEIRA SILVA\\n2º Secretário'"
      ]
     },
     "metadata": {},
     "execution_count": 7
    }
   ],
   "source": [
    "city_laws.iloc[len(city_laws)-1, 3]"
   ]
  },
  {
   "cell_type": "code",
   "execution_count": 8,
   "metadata": {
    "tags": []
   },
   "outputs": [
    {
     "output_type": "error",
     "ename": "ModuleNotFoundError",
     "evalue": "No module named 'scripts'",
     "traceback": [
      "\u001b[0;31m---------------------------------------------------------------------------\u001b[0m",
      "\u001b[0;31mModuleNotFoundError\u001b[0m                       Traceback (most recent call last)",
      "\u001b[0;32m<ipython-input-8-87810f3bcc5b>\u001b[0m in \u001b[0;36m<module>\u001b[0;34m\u001b[0m\n\u001b[1;32m      1\u001b[0m \u001b[0;31m# TODO: This actually depends on NLP analysis' PR\u001b[0m\u001b[0;34m\u001b[0m\u001b[0;34m\u001b[0m\u001b[0;34m\u001b[0m\u001b[0m\n\u001b[0;32m----> 2\u001b[0;31m \u001b[0;32mfrom\u001b[0m \u001b[0mscripts\u001b[0m\u001b[0;34m.\u001b[0m\u001b[0mparsers\u001b[0m \u001b[0;32mimport\u001b[0m \u001b[0mlimpa_text\u001b[0m\u001b[0;34m\u001b[0m\u001b[0;34m\u001b[0m\u001b[0m\n\u001b[0m\u001b[1;32m      3\u001b[0m \u001b[0mtext\u001b[0m \u001b[0;34m=\u001b[0m \u001b[0;34m' '\u001b[0m\u001b[0;34m.\u001b[0m\u001b[0mjoin\u001b[0m\u001b[0;34m(\u001b[0m\u001b[0mcity_laws\u001b[0m\u001b[0;34m[\u001b[0m\u001b[0;34m'texto'\u001b[0m\u001b[0;34m]\u001b[0m\u001b[0;34m.\u001b[0m\u001b[0mtolist\u001b[0m\u001b[0;34m(\u001b[0m\u001b[0;34m)\u001b[0m\u001b[0;34m)\u001b[0m\u001b[0;34m\u001b[0m\u001b[0;34m\u001b[0m\u001b[0m\n\u001b[1;32m      4\u001b[0m \u001b[0mtext\u001b[0m \u001b[0;34m=\u001b[0m \u001b[0mlimpa_texto\u001b[0m\u001b[0;34m(\u001b[0m\u001b[0mtext\u001b[0m\u001b[0;34m,\u001b[0m \u001b[0mstring\u001b[0m\u001b[0;34m=\u001b[0m\u001b[0;32mFalse\u001b[0m\u001b[0;34m)\u001b[0m\u001b[0;34m\u001b[0m\u001b[0;34m\u001b[0m\u001b[0m\n\u001b[1;32m      5\u001b[0m \u001b[0;34m\u001b[0m\u001b[0m\n",
      "\u001b[0;31mModuleNotFoundError\u001b[0m: No module named 'scripts'"
     ]
    }
   ],
   "source": [
    "# TODO: This actually depends on NLP analysis' PR\n",
    "from scripts.parsers import limpa_text\n",
    "text = ' '.join(city_laws['texto'].tolist())\n",
    "text = limpa_texto(text, string=False)\n",
    "\n",
    "unique_words_count = len(set(text))\n",
    "print(f'Numero de palavras unicas no text: {unique_words_count}')"
   ]
  },
  {
   "cell_type": "code",
   "execution_count": null,
   "metadata": {},
   "outputs": [],
   "source": [
    "from nltk import FreqDist\n",
    "\n",
    "plt.figure(figsize=(20,10))\n",
    "fd = FreqDist(text)\n",
    "fd.plot(30, title='Palavras x Frequencia', cumulative=False)"
   ]
  }
 ],
 "metadata": {
  "language_info": {
   "codemirror_mode": {
    "name": "ipython",
    "version": 3
   },
   "file_extension": ".py",
   "mimetype": "text/x-python",
   "name": "python",
   "nbconvert_exporter": "python",
   "pygments_lexer": "ipython3",
   "version": "3.8.2-final"
  },
  "orig_nbformat": 2,
  "kernelspec": {
   "name": "python38264bitdafsaanalisesda80f0a40d5d4b8c841de8071f105fb8",
   "display_name": "Python 3.8.2 64-bit ('dafsa-analises')"
  }
 },
 "nbformat": 4,
 "nbformat_minor": 2
}
