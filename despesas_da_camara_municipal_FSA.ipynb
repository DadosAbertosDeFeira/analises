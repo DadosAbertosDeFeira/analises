{
  "nbformat": 4,
  "nbformat_minor": 0,
  "metadata": {
    "kernelspec": {
      "display_name": "Python 3",
      "language": "python",
      "name": "python3"
    },
    "language_info": {
      "codemirror_mode": {
        "name": "ipython",
        "version": 3
      },
      "file_extension": ".py",
      "mimetype": "text/x-python",
      "name": "python",
      "nbconvert_exporter": "python",
      "pygments_lexer": "ipython3",
      "version": "3.7.2"
    },
    "colab": {
      "name": "despesas-da-camara-municipal FSA.ipynb",
      "provenance": [],
      "collapsed_sections": [
        "mDFQrM_6JUNY",
        "P0km7Il4JUQs",
        "JM8Lx1NdJURK",
        "MpNkYztvJUTM",
        "sFktM3ygJUVU",
        "YGXHdEBGJUXW"
      ],
      "include_colab_link": true
    }
  },
  "cells": [
    {
      "cell_type": "markdown",
      "metadata": {
        "id": "view-in-github",
        "colab_type": "text"
      },
      "source": [
        "<a href=\"https://colab.research.google.com/github/ADMEricOliveiraDSA/analises/blob/master/despesas_da_camara_municipal_FSA.ipynb\" target=\"_parent\"><img src=\"https://colab.research.google.com/assets/colab-badge.svg\" alt=\"Open In Colab\"/></a>"
      ]
    },
    {
      "cell_type": "code",
      "metadata": {
        "id": "6vkTD2fIJurO",
        "colab_type": "code",
        "outputId": "e4952764-cf84-495b-90de-bf5d924369d8",
        "colab": {
          "base_uri": "https://localhost:8080/",
          "height": 54
        }
      },
      "source": [
        "from google.colab import drive\n",
        "drive.mount('/content/drive')"
      ],
      "execution_count": 0,
      "outputs": [
        {
          "output_type": "stream",
          "text": [
            "Drive already mounted at /content/drive; to attempt to forcibly remount, call drive.mount(\"/content/drive\", force_remount=True).\n"
          ],
          "name": "stdout"
        }
      ]
    },
    {
      "cell_type": "markdown",
      "metadata": {
        "id": "_qQFGv-kPwOU",
        "colab_type": "text"
      },
      "source": [
        "LINK DOS DADOS ENCONTRA-SE ABAIXO\n",
        "https://www.kaggle.com/anapaulagomes/despesas-da-cmara-municipal"
      ]
    },
    {
      "cell_type": "code",
      "metadata": {
        "id": "gCTTM_NoJUCs",
        "colab_type": "code",
        "colab": {}
      },
      "source": [
        "# IMPORTANDO BIBLIOTECAS \n",
        "import pandas as pd \n",
        "import numpy as np \n",
        "import seaborn as sns \n",
        "import matplotlib.pyplot as plt \n",
        "%matplotlib inline"
      ],
      "execution_count": 0,
      "outputs": []
    },
    {
      "cell_type": "code",
      "metadata": {
        "id": "DTkCN6dzJUDb",
        "colab_type": "code",
        "colab": {}
      },
      "source": [
        "# LENDO O ARQUIVO CSV DESPESAS FSA\n",
        "df = pd.read_csv ('/content/drive/My Drive/expenses-11.04.2020.csv')"
      ],
      "execution_count": 0,
      "outputs": []
    },
    {
      "cell_type": "code",
      "metadata": {
        "id": "OCNa3cL3JUD0",
        "colab_type": "code",
        "outputId": "80bc35a9-9bfd-4e44-d376-38a55740fcc2",
        "colab": {
          "base_uri": "https://localhost:8080/",
          "height": 530
        }
      },
      "source": [
        "# VENDO ÚLTIMAS 5 LINHAS \n",
        "df.tail()"
      ],
      "execution_count": 0,
      "outputs": [
        {
          "output_type": "execute_result",
          "data": {
            "text/html": [
              "<div>\n",
              "<style scoped>\n",
              "    .dataframe tbody tr th:only-of-type {\n",
              "        vertical-align: middle;\n",
              "    }\n",
              "\n",
              "    .dataframe tbody tr th {\n",
              "        vertical-align: top;\n",
              "    }\n",
              "\n",
              "    .dataframe thead th {\n",
              "        text-align: right;\n",
              "    }\n",
              "</style>\n",
              "<table border=\"1\" class=\"dataframe\">\n",
              "  <thead>\n",
              "    <tr style=\"text-align: right;\">\n",
              "      <th></th>\n",
              "      <th>company_or_person</th>\n",
              "      <th>crawled_at</th>\n",
              "      <th>crawled_from</th>\n",
              "      <th>date</th>\n",
              "      <th>document</th>\n",
              "      <th>function</th>\n",
              "      <th>group</th>\n",
              "      <th>legal_status</th>\n",
              "      <th>number</th>\n",
              "      <th>phase</th>\n",
              "      <th>process_number</th>\n",
              "      <th>published_at</th>\n",
              "      <th>resource</th>\n",
              "      <th>subfunction</th>\n",
              "      <th>subgroup</th>\n",
              "      <th>summary</th>\n",
              "      <th>type_of_process</th>\n",
              "      <th>value</th>\n",
              "    </tr>\n",
              "  </thead>\n",
              "  <tbody>\n",
              "    <tr>\n",
              "      <th>35530</th>\n",
              "      <td>VALE TRANSPORTES</td>\n",
              "      <td>2020-04-11 10:15:10.732686</td>\n",
              "      <td>https://www.transparencia.feiradesantana.ba.le...</td>\n",
              "      <td>2020-03-20</td>\n",
              "      <td>14.488.415/0001-60</td>\n",
              "      <td>NaN</td>\n",
              "      <td>NaN</td>\n",
              "      <td>NaN</td>\n",
              "      <td>00271-20</td>\n",
              "      <td>pagamento</td>\n",
              "      <td>NaN</td>\n",
              "      <td>2020-03-20</td>\n",
              "      <td>NaN</td>\n",
              "      <td>NaN</td>\n",
              "      <td>NaN</td>\n",
              "      <td>PAGAMENTO EXTRA-ORCAMENTARIO NUMERO:000058</td>\n",
              "      <td>NaN</td>\n",
              "      <td>214.87</td>\n",
              "    </tr>\n",
              "    <tr>\n",
              "      <th>35531</th>\n",
              "      <td>VEREADORES</td>\n",
              "      <td>2020-04-11 10:15:10.736784</td>\n",
              "      <td>https://www.transparencia.feiradesantana.ba.le...</td>\n",
              "      <td>2020-03-20</td>\n",
              "      <td>14.488.415/0001-60</td>\n",
              "      <td>01 - LEGISLATIVA</td>\n",
              "      <td>Administracao da acao legislativa</td>\n",
              "      <td>319011010000 - V.Vant.Fixas P.Civil(Ve.Base Fo...</td>\n",
              "      <td>00261-20</td>\n",
              "      <td>pagamento</td>\n",
              "      <td>NaN</td>\n",
              "      <td>2020-03-20</td>\n",
              "      <td>0000 - TESOURO</td>\n",
              "      <td>031 - ACAO</td>\n",
              "      <td>V.Vant.Fixas P.Civil(Ve.Base Folha)</td>\n",
              "      <td>REF A SUBSÍDIOS DOS VEREADORES, MÊS DE MARÇO/2...</td>\n",
              "      <td>ISENTO</td>\n",
              "      <td>8318.32</td>\n",
              "    </tr>\n",
              "    <tr>\n",
              "      <th>35532</th>\n",
              "      <td>VEREADORES</td>\n",
              "      <td>2020-04-11 10:15:10.739669</td>\n",
              "      <td>https://www.transparencia.feiradesantana.ba.le...</td>\n",
              "      <td>2020-03-20</td>\n",
              "      <td>14.488.415/0001-60</td>\n",
              "      <td>01 - LEGISLATIVA</td>\n",
              "      <td>Administracao da acao legislativa</td>\n",
              "      <td>319011010000 - V.Vant.Fixas P.Civil(Ve.Base Fo...</td>\n",
              "      <td>00262-20</td>\n",
              "      <td>pagamento</td>\n",
              "      <td>NaN</td>\n",
              "      <td>2020-03-20</td>\n",
              "      <td>0000 - TESOURO</td>\n",
              "      <td>031 - ACAO</td>\n",
              "      <td>V.Vant.Fixas P.Civil(Ve.Base Folha)</td>\n",
              "      <td>REF A SUBSÍDIOS DOS VEREADORES, MÊS DE MARÇO/2...</td>\n",
              "      <td>ISENTO</td>\n",
              "      <td>9362.51</td>\n",
              "    </tr>\n",
              "    <tr>\n",
              "      <th>35533</th>\n",
              "      <td>IPFS - INST. DE PREV. DOS SERV</td>\n",
              "      <td>2020-04-11 10:15:10.744187</td>\n",
              "      <td>https://www.transparencia.feiradesantana.ba.le...</td>\n",
              "      <td>2020-03-20</td>\n",
              "      <td>42.743.658/0001-33</td>\n",
              "      <td>01 - LEGISLATIVA</td>\n",
              "      <td>Administracao da acao legislativa</td>\n",
              "      <td>319113020000 - Cont.p/Reg.Proprio Prev.ser.RPP...</td>\n",
              "      <td>20000012/0006</td>\n",
              "      <td>liquidacao</td>\n",
              "      <td>NaN</td>\n",
              "      <td>2020-03-20</td>\n",
              "      <td>0000 - TESOURO</td>\n",
              "      <td>031 - ACAO</td>\n",
              "      <td>Cont.p/Reg.Proprio Prev.ser.RPPS</td>\n",
              "      <td>REF. OBRIGAÇÕES PATRONAIS SOBRE FOLHA DE VEREA...</td>\n",
              "      <td>ISENTO</td>\n",
              "      <td>605.10</td>\n",
              "    </tr>\n",
              "    <tr>\n",
              "      <th>35534</th>\n",
              "      <td>FUNCIONARIOS CARGOS EM COMISSA</td>\n",
              "      <td>2020-04-11 10:15:10.747130</td>\n",
              "      <td>https://www.transparencia.feiradesantana.ba.le...</td>\n",
              "      <td>2020-03-20</td>\n",
              "      <td>14.488.415/0001-60</td>\n",
              "      <td>01 - LEGISLATIVA</td>\n",
              "      <td>Manutencao dos servicos tecnico administrativos</td>\n",
              "      <td>339049000000 - Auxilio - Transporte           ...</td>\n",
              "      <td>00266-20</td>\n",
              "      <td>liquidacao</td>\n",
              "      <td>NaN</td>\n",
              "      <td>2020-03-20</td>\n",
              "      <td>0000 - TESOURO</td>\n",
              "      <td>031 - ACAO</td>\n",
              "      <td>Auxilio - Transporte</td>\n",
              "      <td>REF. A AUXÍLIO TRANSPORTE PARA OS SERVIDORES C...</td>\n",
              "      <td>ISENTO</td>\n",
              "      <td>14545.80</td>\n",
              "    </tr>\n",
              "  </tbody>\n",
              "</table>\n",
              "</div>"
            ],
            "text/plain": [
              "                    company_or_person  ...     value\n",
              "35530                VALE TRANSPORTES  ...    214.87\n",
              "35531                      VEREADORES  ...   8318.32\n",
              "35532                      VEREADORES  ...   9362.51\n",
              "35533  IPFS - INST. DE PREV. DOS SERV  ...    605.10\n",
              "35534  FUNCIONARIOS CARGOS EM COMISSA  ...  14545.80\n",
              "\n",
              "[5 rows x 18 columns]"
            ]
          },
          "metadata": {
            "tags": []
          },
          "execution_count": 33
        }
      ]
    },
    {
      "cell_type": "code",
      "metadata": {
        "id": "awHM_IuZJUES",
        "colab_type": "code",
        "outputId": "a28a8b16-3508-46c0-ab27-252fa9c210d3",
        "colab": {
          "base_uri": "https://localhost:8080/",
          "height": 34
        }
      },
      "source": [
        "# TAMANHO DO DATASET \n",
        "df.shape"
      ],
      "execution_count": 0,
      "outputs": [
        {
          "output_type": "execute_result",
          "data": {
            "text/plain": [
              "(35535, 18)"
            ]
          },
          "metadata": {
            "tags": []
          },
          "execution_count": 34
        }
      ]
    },
    {
      "cell_type": "code",
      "metadata": {
        "id": "8CAVguTTJUEs",
        "colab_type": "code",
        "outputId": "ab6a4704-77af-4351-f11b-1824883452c8",
        "colab": {
          "base_uri": "https://localhost:8080/",
          "height": 122
        }
      },
      "source": [
        "# COLUNAS DO DATASET \n",
        "df.columns"
      ],
      "execution_count": 0,
      "outputs": [
        {
          "output_type": "execute_result",
          "data": {
            "text/plain": [
              "Index(['company_or_person', 'crawled_at', 'crawled_from', 'date', 'document',\n",
              "       'function', 'group', 'legal_status', 'number', 'phase',\n",
              "       'process_number', 'published_at', 'resource', 'subfunction', 'subgroup',\n",
              "       'summary', 'type_of_process', 'value'],\n",
              "      dtype='object')"
            ]
          },
          "metadata": {
            "tags": []
          },
          "execution_count": 35
        }
      ]
    },
    {
      "cell_type": "code",
      "metadata": {
        "id": "j0roWKsLJUFF",
        "colab_type": "code",
        "outputId": "bcacc26e-aae9-4cf4-a940-0d76811f45fd",
        "colab": {
          "base_uri": "https://localhost:8080/",
          "height": 462
        }
      },
      "source": [
        "# INFORMAÇÃO DE TIPOS  (TYPES)\n",
        "df.info()"
      ],
      "execution_count": 0,
      "outputs": [
        {
          "output_type": "stream",
          "text": [
            "<class 'pandas.core.frame.DataFrame'>\n",
            "RangeIndex: 35535 entries, 0 to 35534\n",
            "Data columns (total 18 columns):\n",
            " #   Column             Non-Null Count  Dtype  \n",
            "---  ------             --------------  -----  \n",
            " 0   company_or_person  35432 non-null  object \n",
            " 1   crawled_at         35535 non-null  object \n",
            " 2   crawled_from       35535 non-null  object \n",
            " 3   date               35535 non-null  object \n",
            " 4   document           35432 non-null  object \n",
            " 5   function           33293 non-null  object \n",
            " 6   group              33235 non-null  object \n",
            " 7   legal_status       33283 non-null  object \n",
            " 8   number             35535 non-null  object \n",
            " 9   phase              35535 non-null  object \n",
            " 10  process_number     18128 non-null  object \n",
            " 11  published_at       35535 non-null  object \n",
            " 12  resource           33293 non-null  object \n",
            " 13  subfunction        33293 non-null  object \n",
            " 14  subgroup           33235 non-null  object \n",
            " 15  summary            35481 non-null  object \n",
            " 16  type_of_process    33293 non-null  object \n",
            " 17  value              35535 non-null  float64\n",
            "dtypes: float64(1), object(17)\n",
            "memory usage: 4.9+ MB\n"
          ],
          "name": "stdout"
        }
      ]
    },
    {
      "cell_type": "code",
      "metadata": {
        "id": "uPAmgNkuJUFp",
        "colab_type": "code",
        "outputId": "007dc9e5-6606-4f27-c975-365e8177a12d",
        "colab": {
          "base_uri": "https://localhost:8080/",
          "height": 512
        }
      },
      "source": [
        "# VALORES ESTATÍSTICOS AO TODO \n",
        "df.describe(include='all')"
      ],
      "execution_count": 0,
      "outputs": [
        {
          "output_type": "execute_result",
          "data": {
            "text/html": [
              "<div>\n",
              "<style scoped>\n",
              "    .dataframe tbody tr th:only-of-type {\n",
              "        vertical-align: middle;\n",
              "    }\n",
              "\n",
              "    .dataframe tbody tr th {\n",
              "        vertical-align: top;\n",
              "    }\n",
              "\n",
              "    .dataframe thead th {\n",
              "        text-align: right;\n",
              "    }\n",
              "</style>\n",
              "<table border=\"1\" class=\"dataframe\">\n",
              "  <thead>\n",
              "    <tr style=\"text-align: right;\">\n",
              "      <th></th>\n",
              "      <th>company_or_person</th>\n",
              "      <th>crawled_at</th>\n",
              "      <th>crawled_from</th>\n",
              "      <th>date</th>\n",
              "      <th>document</th>\n",
              "      <th>function</th>\n",
              "      <th>group</th>\n",
              "      <th>legal_status</th>\n",
              "      <th>number</th>\n",
              "      <th>phase</th>\n",
              "      <th>process_number</th>\n",
              "      <th>published_at</th>\n",
              "      <th>resource</th>\n",
              "      <th>subfunction</th>\n",
              "      <th>subgroup</th>\n",
              "      <th>summary</th>\n",
              "      <th>type_of_process</th>\n",
              "      <th>value</th>\n",
              "    </tr>\n",
              "  </thead>\n",
              "  <tbody>\n",
              "    <tr>\n",
              "      <th>count</th>\n",
              "      <td>35432</td>\n",
              "      <td>35535</td>\n",
              "      <td>35535</td>\n",
              "      <td>35535</td>\n",
              "      <td>35432</td>\n",
              "      <td>33293</td>\n",
              "      <td>33235</td>\n",
              "      <td>33283</td>\n",
              "      <td>35535</td>\n",
              "      <td>35535</td>\n",
              "      <td>18128</td>\n",
              "      <td>35535</td>\n",
              "      <td>33293</td>\n",
              "      <td>33293</td>\n",
              "      <td>33235</td>\n",
              "      <td>35481</td>\n",
              "      <td>33293</td>\n",
              "      <td>3.553500e+04</td>\n",
              "    </tr>\n",
              "    <tr>\n",
              "      <th>unique</th>\n",
              "      <td>711</td>\n",
              "      <td>35535</td>\n",
              "      <td>1</td>\n",
              "      <td>2306</td>\n",
              "      <td>740</td>\n",
              "      <td>1</td>\n",
              "      <td>3</td>\n",
              "      <td>250</td>\n",
              "      <td>16468</td>\n",
              "      <td>3</td>\n",
              "      <td>2951</td>\n",
              "      <td>2306</td>\n",
              "      <td>1</td>\n",
              "      <td>1</td>\n",
              "      <td>157</td>\n",
              "      <td>16160</td>\n",
              "      <td>8</td>\n",
              "      <td>NaN</td>\n",
              "    </tr>\n",
              "    <tr>\n",
              "      <th>top</th>\n",
              "      <td>CAIXA ECONOMICA FEDERAL</td>\n",
              "      <td>2020-04-11 10:13:12.496697</td>\n",
              "      <td>https://www.transparencia.feiradesantana.ba.le...</td>\n",
              "      <td>2017-12-20</td>\n",
              "      <td>14.488.415/0001-60</td>\n",
              "      <td>01 - LEGISLATIVA</td>\n",
              "      <td>Manutencao dos servicos tecnico administrativos</td>\n",
              "      <td>339039990000 - Outros Serv.Terceiros - P. Juri...</td>\n",
              "      <td>855/2015</td>\n",
              "      <td>pagamento</td>\n",
              "      <td>001/2014</td>\n",
              "      <td>2017-12-20</td>\n",
              "      <td>0000 - TESOURO</td>\n",
              "      <td>031 - ACAO</td>\n",
              "      <td>Outros Serv.Terceiros - P. Juridica</td>\n",
              "      <td>REF. A TARIFA BANCARIA SOBRE CONTA DESTA CASA,...</td>\n",
              "      <td>ISENTO</td>\n",
              "      <td>NaN</td>\n",
              "    </tr>\n",
              "    <tr>\n",
              "      <th>freq</th>\n",
              "      <td>2304</td>\n",
              "      <td>1</td>\n",
              "      <td>35535</td>\n",
              "      <td>140</td>\n",
              "      <td>3846</td>\n",
              "      <td>33293</td>\n",
              "      <td>23495</td>\n",
              "      <td>5483</td>\n",
              "      <td>22</td>\n",
              "      <td>15721</td>\n",
              "      <td>424</td>\n",
              "      <td>140</td>\n",
              "      <td>33293</td>\n",
              "      <td>33293</td>\n",
              "      <td>7040</td>\n",
              "      <td>785</td>\n",
              "      <td>15199</td>\n",
              "      <td>NaN</td>\n",
              "    </tr>\n",
              "    <tr>\n",
              "      <th>mean</th>\n",
              "      <td>NaN</td>\n",
              "      <td>NaN</td>\n",
              "      <td>NaN</td>\n",
              "      <td>NaN</td>\n",
              "      <td>NaN</td>\n",
              "      <td>NaN</td>\n",
              "      <td>NaN</td>\n",
              "      <td>NaN</td>\n",
              "      <td>NaN</td>\n",
              "      <td>NaN</td>\n",
              "      <td>NaN</td>\n",
              "      <td>NaN</td>\n",
              "      <td>NaN</td>\n",
              "      <td>NaN</td>\n",
              "      <td>NaN</td>\n",
              "      <td>NaN</td>\n",
              "      <td>NaN</td>\n",
              "      <td>1.729275e+04</td>\n",
              "    </tr>\n",
              "    <tr>\n",
              "      <th>std</th>\n",
              "      <td>NaN</td>\n",
              "      <td>NaN</td>\n",
              "      <td>NaN</td>\n",
              "      <td>NaN</td>\n",
              "      <td>NaN</td>\n",
              "      <td>NaN</td>\n",
              "      <td>NaN</td>\n",
              "      <td>NaN</td>\n",
              "      <td>NaN</td>\n",
              "      <td>NaN</td>\n",
              "      <td>NaN</td>\n",
              "      <td>NaN</td>\n",
              "      <td>NaN</td>\n",
              "      <td>NaN</td>\n",
              "      <td>NaN</td>\n",
              "      <td>NaN</td>\n",
              "      <td>NaN</td>\n",
              "      <td>1.726297e+05</td>\n",
              "    </tr>\n",
              "    <tr>\n",
              "      <th>min</th>\n",
              "      <td>NaN</td>\n",
              "      <td>NaN</td>\n",
              "      <td>NaN</td>\n",
              "      <td>NaN</td>\n",
              "      <td>NaN</td>\n",
              "      <td>NaN</td>\n",
              "      <td>NaN</td>\n",
              "      <td>NaN</td>\n",
              "      <td>NaN</td>\n",
              "      <td>NaN</td>\n",
              "      <td>NaN</td>\n",
              "      <td>NaN</td>\n",
              "      <td>NaN</td>\n",
              "      <td>NaN</td>\n",
              "      <td>NaN</td>\n",
              "      <td>NaN</td>\n",
              "      <td>NaN</td>\n",
              "      <td>-1.000000e+06</td>\n",
              "    </tr>\n",
              "    <tr>\n",
              "      <th>25%</th>\n",
              "      <td>NaN</td>\n",
              "      <td>NaN</td>\n",
              "      <td>NaN</td>\n",
              "      <td>NaN</td>\n",
              "      <td>NaN</td>\n",
              "      <td>NaN</td>\n",
              "      <td>NaN</td>\n",
              "      <td>NaN</td>\n",
              "      <td>NaN</td>\n",
              "      <td>NaN</td>\n",
              "      <td>NaN</td>\n",
              "      <td>NaN</td>\n",
              "      <td>NaN</td>\n",
              "      <td>NaN</td>\n",
              "      <td>NaN</td>\n",
              "      <td>NaN</td>\n",
              "      <td>NaN</td>\n",
              "      <td>1.250000e+02</td>\n",
              "    </tr>\n",
              "    <tr>\n",
              "      <th>50%</th>\n",
              "      <td>NaN</td>\n",
              "      <td>NaN</td>\n",
              "      <td>NaN</td>\n",
              "      <td>NaN</td>\n",
              "      <td>NaN</td>\n",
              "      <td>NaN</td>\n",
              "      <td>NaN</td>\n",
              "      <td>NaN</td>\n",
              "      <td>NaN</td>\n",
              "      <td>NaN</td>\n",
              "      <td>NaN</td>\n",
              "      <td>NaN</td>\n",
              "      <td>NaN</td>\n",
              "      <td>NaN</td>\n",
              "      <td>NaN</td>\n",
              "      <td>NaN</td>\n",
              "      <td>NaN</td>\n",
              "      <td>5.465100e+02</td>\n",
              "    </tr>\n",
              "    <tr>\n",
              "      <th>75%</th>\n",
              "      <td>NaN</td>\n",
              "      <td>NaN</td>\n",
              "      <td>NaN</td>\n",
              "      <td>NaN</td>\n",
              "      <td>NaN</td>\n",
              "      <td>NaN</td>\n",
              "      <td>NaN</td>\n",
              "      <td>NaN</td>\n",
              "      <td>NaN</td>\n",
              "      <td>NaN</td>\n",
              "      <td>NaN</td>\n",
              "      <td>NaN</td>\n",
              "      <td>NaN</td>\n",
              "      <td>NaN</td>\n",
              "      <td>NaN</td>\n",
              "      <td>NaN</td>\n",
              "      <td>NaN</td>\n",
              "      <td>3.000000e+03</td>\n",
              "    </tr>\n",
              "    <tr>\n",
              "      <th>max</th>\n",
              "      <td>NaN</td>\n",
              "      <td>NaN</td>\n",
              "      <td>NaN</td>\n",
              "      <td>NaN</td>\n",
              "      <td>NaN</td>\n",
              "      <td>NaN</td>\n",
              "      <td>NaN</td>\n",
              "      <td>NaN</td>\n",
              "      <td>NaN</td>\n",
              "      <td>NaN</td>\n",
              "      <td>NaN</td>\n",
              "      <td>NaN</td>\n",
              "      <td>NaN</td>\n",
              "      <td>NaN</td>\n",
              "      <td>NaN</td>\n",
              "      <td>NaN</td>\n",
              "      <td>NaN</td>\n",
              "      <td>1.240000e+07</td>\n",
              "    </tr>\n",
              "  </tbody>\n",
              "</table>\n",
              "</div>"
            ],
            "text/plain": [
              "              company_or_person  ...         value\n",
              "count                     35432  ...  3.553500e+04\n",
              "unique                      711  ...           NaN\n",
              "top     CAIXA ECONOMICA FEDERAL  ...           NaN\n",
              "freq                       2304  ...           NaN\n",
              "mean                        NaN  ...  1.729275e+04\n",
              "std                         NaN  ...  1.726297e+05\n",
              "min                         NaN  ... -1.000000e+06\n",
              "25%                         NaN  ...  1.250000e+02\n",
              "50%                         NaN  ...  5.465100e+02\n",
              "75%                         NaN  ...  3.000000e+03\n",
              "max                         NaN  ...  1.240000e+07\n",
              "\n",
              "[11 rows x 18 columns]"
            ]
          },
          "metadata": {
            "tags": []
          },
          "execution_count": 37
        }
      ]
    },
    {
      "cell_type": "markdown",
      "metadata": {
        "id": "nR7mKdZsJUGI",
        "colab_type": "text"
      },
      "source": [
        "#### INICIANDO ANÁLISE  BASEADA NO VALOR GASTO POR SUBGRUPOS "
      ]
    },
    {
      "cell_type": "code",
      "metadata": {
        "id": "s61-vRy8JUGN",
        "colab_type": "code",
        "colab": {}
      },
      "source": [
        "# ATRIBUINDO VARIÁVEL SUBGROUP A TABELA \n",
        "# DATAFRAME APENAS COM SUBGROUP E VALUE\n",
        "subgroup_valor = df[['subgroup','value']]"
      ],
      "execution_count": 0,
      "outputs": []
    },
    {
      "cell_type": "code",
      "metadata": {
        "id": "y5zdeC5fJUGj",
        "colab_type": "code",
        "colab": {}
      },
      "source": [
        "# ATRIBUINDO VARIÁVEL X AOS VALORES DOS SUBGRUPOS DO MENOR AO MAIOR \n",
        "x = subgroup_valor.sort_values (by='value')"
      ],
      "execution_count": 0,
      "outputs": []
    },
    {
      "cell_type": "code",
      "metadata": {
        "id": "ERwUF0P6JUG4",
        "colab_type": "code",
        "outputId": "8891bddc-8c5c-43ed-a925-915021bf699c",
        "colab": {
          "base_uri": "https://localhost:8080/",
          "height": 68
        }
      },
      "source": [
        "# CONTANDO VALORES POR LINHAS DO DATASET \n",
        "x.count()"
      ],
      "execution_count": 0,
      "outputs": [
        {
          "output_type": "execute_result",
          "data": {
            "text/plain": [
              "subgroup    33235\n",
              "value       35535\n",
              "dtype: int64"
            ]
          },
          "metadata": {
            "tags": []
          },
          "execution_count": 40
        }
      ]
    },
    {
      "cell_type": "code",
      "metadata": {
        "id": "jyqs5lX3JUHP",
        "colab_type": "code",
        "outputId": "32e177db-f61a-4c54-dd2a-b3b5f7abe81c",
        "colab": {
          "base_uri": "https://localhost:8080/",
          "height": 374
        }
      },
      "source": [
        "# VALORES EM ESPÉCIE POR SUBGRUPOS \n",
        "# DOS MENORES AOS MAIORES\n",
        "# PRIMEIRAS 5 LINHAS \n",
        "x.head ()"
      ],
      "execution_count": 0,
      "outputs": [
        {
          "output_type": "execute_result",
          "data": {
            "text/html": [
              "<div>\n",
              "<style scoped>\n",
              "    .dataframe tbody tr th:only-of-type {\n",
              "        vertical-align: middle;\n",
              "    }\n",
              "\n",
              "    .dataframe tbody tr th {\n",
              "        vertical-align: top;\n",
              "    }\n",
              "\n",
              "    .dataframe thead th {\n",
              "        text-align: right;\n",
              "    }\n",
              "</style>\n",
              "<table border=\"1\" class=\"dataframe\">\n",
              "  <thead>\n",
              "    <tr style=\"text-align: right;\">\n",
              "      <th></th>\n",
              "      <th>subgroup</th>\n",
              "      <th>value</th>\n",
              "    </tr>\n",
              "  </thead>\n",
              "  <tbody>\n",
              "    <tr>\n",
              "      <th>19533</th>\n",
              "      <td>V.Vant.Fixas P.Civil(Ve.Base Folha)</td>\n",
              "      <td>-1000000.00</td>\n",
              "    </tr>\n",
              "    <tr>\n",
              "      <th>13735</th>\n",
              "      <td>Outros Serv.Terceiros - P. Juridica</td>\n",
              "      <td>-625337.72</td>\n",
              "    </tr>\n",
              "    <tr>\n",
              "      <th>15791</th>\n",
              "      <td>V.Vant.Fixas P.Civil(Ve.Base Folha)</td>\n",
              "      <td>-450000.00</td>\n",
              "    </tr>\n",
              "    <tr>\n",
              "      <th>27072</th>\n",
              "      <td>V.Vant.Fixas P.Civil(Ve.Base Folha)</td>\n",
              "      <td>-400000.00</td>\n",
              "    </tr>\n",
              "    <tr>\n",
              "      <th>30978</th>\n",
              "      <td>Outros Serv.Terceiros - P. Juridica</td>\n",
              "      <td>-300000.00</td>\n",
              "    </tr>\n",
              "  </tbody>\n",
              "</table>\n",
              "</div>"
            ],
            "text/plain": [
              "                                  subgroup       value\n",
              "19533  V.Vant.Fixas P.Civil(Ve.Base Folha) -1000000.00\n",
              "13735  Outros Serv.Terceiros - P. Juridica  -625337.72\n",
              "15791  V.Vant.Fixas P.Civil(Ve.Base Folha)  -450000.00\n",
              "27072  V.Vant.Fixas P.Civil(Ve.Base Folha)  -400000.00\n",
              "30978  Outros Serv.Terceiros - P. Juridica  -300000.00"
            ]
          },
          "metadata": {
            "tags": []
          },
          "execution_count": 41
        }
      ]
    },
    {
      "cell_type": "code",
      "metadata": {
        "id": "fAYaJgbdJUHm",
        "colab_type": "code",
        "colab": {}
      },
      "source": [
        "# TOP 10 VALORES EM ESPÉCIE POR SUBGRUPOS \n",
        "x1= x[['subgroup','value']].nlargest(10,'value')"
      ],
      "execution_count": 0,
      "outputs": []
    },
    {
      "cell_type": "code",
      "metadata": {
        "id": "qbjgBqF6JUH_",
        "colab_type": "code",
        "colab": {}
      },
      "source": [
        "# TRANSFORMAND X1 EM DATAFRAME \n",
        "x1= pd.DataFrame(x1)"
      ],
      "execution_count": 0,
      "outputs": []
    },
    {
      "cell_type": "code",
      "metadata": {
        "id": "ymV3u_Y0JUIT",
        "colab_type": "code",
        "outputId": "d00e1e53-2be8-4a72-c98b-f992e443cf18",
        "colab": {
          "base_uri": "https://localhost:8080/",
          "height": 699
        }
      },
      "source": [
        "# OS TOP 10 VALORES PERTENCEM AO SUBGRUPO :\n",
        "# V.Vant.Fixas P.Civil(Ve.Base Folha)\n",
        " \n",
        "x1"
      ],
      "execution_count": 0,
      "outputs": [
        {
          "output_type": "execute_result",
          "data": {
            "text/html": [
              "<div>\n",
              "<style scoped>\n",
              "    .dataframe tbody tr th:only-of-type {\n",
              "        vertical-align: middle;\n",
              "    }\n",
              "\n",
              "    .dataframe tbody tr th {\n",
              "        vertical-align: top;\n",
              "    }\n",
              "\n",
              "    .dataframe thead th {\n",
              "        text-align: right;\n",
              "    }\n",
              "</style>\n",
              "<table border=\"1\" class=\"dataframe\">\n",
              "  <thead>\n",
              "    <tr style=\"text-align: right;\">\n",
              "      <th></th>\n",
              "      <th>subgroup</th>\n",
              "      <th>value</th>\n",
              "    </tr>\n",
              "  </thead>\n",
              "  <tbody>\n",
              "    <tr>\n",
              "      <th>34962</th>\n",
              "      <td>V.Vant.Fixas P.Civil(Ve.Base Folha)</td>\n",
              "      <td>12400000.0</td>\n",
              "    </tr>\n",
              "    <tr>\n",
              "      <th>31339</th>\n",
              "      <td>V.Vant.Fixas P.Civil(Ve.Base Folha)</td>\n",
              "      <td>11300000.0</td>\n",
              "    </tr>\n",
              "    <tr>\n",
              "      <th>24469</th>\n",
              "      <td>V.Vant.Fixas P.Civil(Ve.Base Folha)</td>\n",
              "      <td>10200000.0</td>\n",
              "    </tr>\n",
              "    <tr>\n",
              "      <th>27934</th>\n",
              "      <td>V.Vant.Fixas P.Civil(Ve.Base Folha)</td>\n",
              "      <td>10000000.0</td>\n",
              "    </tr>\n",
              "    <tr>\n",
              "      <th>21353</th>\n",
              "      <td>V.Vant.Fixas P.Civil(Ve.Base Folha)</td>\n",
              "      <td>8000000.0</td>\n",
              "    </tr>\n",
              "    <tr>\n",
              "      <th>16929</th>\n",
              "      <td>V.Vant.Fixas P.Civil(Ve.Base Folha)</td>\n",
              "      <td>7000000.0</td>\n",
              "    </tr>\n",
              "    <tr>\n",
              "      <th>13185</th>\n",
              "      <td>V.Vant.Fixas P.Civil(Ve.Base Folha)</td>\n",
              "      <td>4900000.0</td>\n",
              "    </tr>\n",
              "    <tr>\n",
              "      <th>24471</th>\n",
              "      <td>V.Vant.Fixas P.Civil(Ve.Base Folha)</td>\n",
              "      <td>4200000.0</td>\n",
              "    </tr>\n",
              "    <tr>\n",
              "      <th>34973</th>\n",
              "      <td>V.Vant.Fixas P.Civil(Ve.Base Folha)</td>\n",
              "      <td>4110000.0</td>\n",
              "    </tr>\n",
              "    <tr>\n",
              "      <th>31358</th>\n",
              "      <td>V.Vant.Fixas P.Civil(Ve.Base Folha)</td>\n",
              "      <td>4110000.0</td>\n",
              "    </tr>\n",
              "  </tbody>\n",
              "</table>\n",
              "</div>"
            ],
            "text/plain": [
              "                                  subgroup       value\n",
              "34962  V.Vant.Fixas P.Civil(Ve.Base Folha)  12400000.0\n",
              "31339  V.Vant.Fixas P.Civil(Ve.Base Folha)  11300000.0\n",
              "24469  V.Vant.Fixas P.Civil(Ve.Base Folha)  10200000.0\n",
              "27934  V.Vant.Fixas P.Civil(Ve.Base Folha)  10000000.0\n",
              "21353  V.Vant.Fixas P.Civil(Ve.Base Folha)   8000000.0\n",
              "16929  V.Vant.Fixas P.Civil(Ve.Base Folha)   7000000.0\n",
              "13185  V.Vant.Fixas P.Civil(Ve.Base Folha)   4900000.0\n",
              "24471  V.Vant.Fixas P.Civil(Ve.Base Folha)   4200000.0\n",
              "34973  V.Vant.Fixas P.Civil(Ve.Base Folha)   4110000.0\n",
              "31358  V.Vant.Fixas P.Civil(Ve.Base Folha)   4110000.0"
            ]
          },
          "metadata": {
            "tags": []
          },
          "execution_count": 44
        }
      ]
    },
    {
      "cell_type": "code",
      "metadata": {
        "id": "4LDC6yKvJUIo",
        "colab_type": "code",
        "outputId": "a59a8940-ba16-4b71-a559-39c2d1faeaf0",
        "colab": {
          "base_uri": "https://localhost:8080/",
          "height": 221
        }
      },
      "source": [
        "x1.plot (kind='bar');"
      ],
      "execution_count": 0,
      "outputs": [
        {
          "output_type": "display_data",
          "data": {
            "image/png": "[encoded data removed]",
            "text/plain": [
              "<Figure size 432x288 with 1 Axes>"
            ]
          },
          "metadata": {
            "tags": [],
            "needs_background": "light"
          }
        }
      ]
    },
    {
      "cell_type": "code",
      "metadata": {
        "id": "K1KkM4hyJUJA",
        "colab_type": "code",
        "colab": {}
      },
      "source": [
        "# ATRIBUINDO VARIÁVEL SUBGRUPO_VAL AO RESULTADO \n",
        "# DOS SUBGRUPOS MAIS ACIONADOS PELA PREFEITURA \n",
        "# NO TOPO DO OUTPUT MOSTRA OS MAIORES \n",
        "# CRIEI O DATAFRAME PARA O OUTPUT \n",
        "subgrupo_val = df['subgroup'].value_counts().to_frame ()"
      ],
      "execution_count": 0,
      "outputs": []
    },
    {
      "cell_type": "code",
      "metadata": {
        "scrolled": true,
        "id": "CsNdr_iDJUJY",
        "colab_type": "code",
        "outputId": "1b5175c0-8e22-48e2-af21-0e1911467c58",
        "colab": {
          "base_uri": "https://localhost:8080/",
          "height": 554
        }
      },
      "source": [
        "# EXIBINDO OS TOP 13 SUBGRUPOS MAIS ACIONADOS PELA PREFEITURA \n",
        "subgrupo_val.nlargest(13,'subgroup')"
      ],
      "execution_count": 0,
      "outputs": [
        {
          "output_type": "execute_result",
          "data": {
            "text/html": [
              "<div>\n",
              "<style scoped>\n",
              "    .dataframe tbody tr th:only-of-type {\n",
              "        vertical-align: middle;\n",
              "    }\n",
              "\n",
              "    .dataframe tbody tr th {\n",
              "        vertical-align: top;\n",
              "    }\n",
              "\n",
              "    .dataframe thead th {\n",
              "        text-align: right;\n",
              "    }\n",
              "</style>\n",
              "<table border=\"1\" class=\"dataframe\">\n",
              "  <thead>\n",
              "    <tr style=\"text-align: right;\">\n",
              "      <th></th>\n",
              "      <th>subgroup</th>\n",
              "    </tr>\n",
              "  </thead>\n",
              "  <tbody>\n",
              "    <tr>\n",
              "      <th>Outros Serv.Terceiros - P. Juridica</th>\n",
              "      <td>7040</td>\n",
              "    </tr>\n",
              "    <tr>\n",
              "      <th>Diarias-Civil</th>\n",
              "      <td>5441</td>\n",
              "    </tr>\n",
              "    <tr>\n",
              "      <th>OUTROS SERVICOS TERC. P.JURIDICA</th>\n",
              "      <td>2124</td>\n",
              "    </tr>\n",
              "    <tr>\n",
              "      <th>V.Vant.Fixas P.Civil(Ve.Base Folha)</th>\n",
              "      <td>1470</td>\n",
              "    </tr>\n",
              "    <tr>\n",
              "      <th>Materiais de Consumo - Outros</th>\n",
              "      <td>1266</td>\n",
              "    </tr>\n",
              "    <tr>\n",
              "      <th>Publicidades e Propaganda</th>\n",
              "      <td>1195</td>\n",
              "    </tr>\n",
              "    <tr>\n",
              "      <th>DIARIAS - CIVIL</th>\n",
              "      <td>1023</td>\n",
              "    </tr>\n",
              "    <tr>\n",
              "      <th>Serviços de Telefonia</th>\n",
              "      <td>796</td>\n",
              "    </tr>\n",
              "    <tr>\n",
              "      <th>Auxilio - Transporte</th>\n",
              "      <td>655</td>\n",
              "    </tr>\n",
              "    <tr>\n",
              "      <th>Cont.p/Reg.Geral Prev.INSS</th>\n",
              "      <td>645</td>\n",
              "    </tr>\n",
              "    <tr>\n",
              "      <th>PUBLICIDADE E PROPAGANDA</th>\n",
              "      <td>557</td>\n",
              "    </tr>\n",
              "    <tr>\n",
              "      <th>Serviços Bancários</th>\n",
              "      <td>429</td>\n",
              "    </tr>\n",
              "    <tr>\n",
              "      <th>Locaçao de Software</th>\n",
              "      <td>414</td>\n",
              "    </tr>\n",
              "  </tbody>\n",
              "</table>\n",
              "</div>"
            ],
            "text/plain": [
              "                                     subgroup\n",
              "Outros Serv.Terceiros - P. Juridica      7040\n",
              "Diarias-Civil                            5441\n",
              "OUTROS SERVICOS TERC. P.JURIDICA         2124\n",
              "V.Vant.Fixas P.Civil(Ve.Base Folha)      1470\n",
              "Materiais de Consumo - Outros            1266\n",
              "Publicidades e Propaganda                1195\n",
              "DIARIAS - CIVIL                          1023\n",
              "Serviços de Telefonia                     796\n",
              "Auxilio - Transporte                      655\n",
              "Cont.p/Reg.Geral Prev.INSS                645\n",
              "PUBLICIDADE E PROPAGANDA                  557\n",
              "Serviços Bancários                        429\n",
              "Locaçao de Software                       414"
            ]
          },
          "metadata": {
            "tags": []
          },
          "execution_count": 47
        }
      ]
    },
    {
      "cell_type": "code",
      "metadata": {
        "id": "5Vl1_XwtJUJ0",
        "colab_type": "code",
        "colab": {}
      },
      "source": [
        "# ATRIBUINDO VARIÁVEL top10_subgrupo AO RESULTADO DA OPERAÇÃO DE SELECIONAR TOP 13 SUBGRUPOS \n",
        "top10_subgrupo = subgrupo_val.nlargest(13,'subgroup')"
      ],
      "execution_count": 0,
      "outputs": []
    },
    {
      "cell_type": "code",
      "metadata": {
        "id": "WK4eLa4QJUKQ",
        "colab_type": "code",
        "colab": {}
      },
      "source": [
        "# COLOCANDO ÍNDICE NAS LINHAS DO DATASET SEGUINTE\n",
        "top10_subgrupo.reset_index(inplace =True )"
      ],
      "execution_count": 0,
      "outputs": []
    },
    {
      "cell_type": "code",
      "metadata": {
        "id": "rBlCE7JaJUKr",
        "colab_type": "code",
        "outputId": "c4d466b2-0299-43cb-d804-ff9c5a238831",
        "colab": {
          "base_uri": "https://localhost:8080/",
          "height": 571
        }
      },
      "source": [
        "# LINHAS 2 , 6 E 10 ELIMINADAS POR QUESTÃO DE VALORES REPETIDOS \n",
        "top10_subgrupo"
      ],
      "execution_count": 0,
      "outputs": [
        {
          "output_type": "execute_result",
          "data": {
            "text/html": [
              "<div>\n",
              "<style scoped>\n",
              "    .dataframe tbody tr th:only-of-type {\n",
              "        vertical-align: middle;\n",
              "    }\n",
              "\n",
              "    .dataframe tbody tr th {\n",
              "        vertical-align: top;\n",
              "    }\n",
              "\n",
              "    .dataframe thead th {\n",
              "        text-align: right;\n",
              "    }\n",
              "</style>\n",
              "<table border=\"1\" class=\"dataframe\">\n",
              "  <thead>\n",
              "    <tr style=\"text-align: right;\">\n",
              "      <th></th>\n",
              "      <th>index</th>\n",
              "      <th>subgroup</th>\n",
              "    </tr>\n",
              "  </thead>\n",
              "  <tbody>\n",
              "    <tr>\n",
              "      <th>0</th>\n",
              "      <td>Outros Serv.Terceiros - P. Juridica</td>\n",
              "      <td>7040</td>\n",
              "    </tr>\n",
              "    <tr>\n",
              "      <th>1</th>\n",
              "      <td>Diarias-Civil</td>\n",
              "      <td>5441</td>\n",
              "    </tr>\n",
              "    <tr>\n",
              "      <th>2</th>\n",
              "      <td>OUTROS SERVICOS TERC. P.JURIDICA</td>\n",
              "      <td>2124</td>\n",
              "    </tr>\n",
              "    <tr>\n",
              "      <th>3</th>\n",
              "      <td>V.Vant.Fixas P.Civil(Ve.Base Folha)</td>\n",
              "      <td>1470</td>\n",
              "    </tr>\n",
              "    <tr>\n",
              "      <th>4</th>\n",
              "      <td>Materiais de Consumo - Outros</td>\n",
              "      <td>1266</td>\n",
              "    </tr>\n",
              "    <tr>\n",
              "      <th>5</th>\n",
              "      <td>Publicidades e Propaganda</td>\n",
              "      <td>1195</td>\n",
              "    </tr>\n",
              "    <tr>\n",
              "      <th>6</th>\n",
              "      <td>DIARIAS - CIVIL</td>\n",
              "      <td>1023</td>\n",
              "    </tr>\n",
              "    <tr>\n",
              "      <th>7</th>\n",
              "      <td>Serviços de Telefonia</td>\n",
              "      <td>796</td>\n",
              "    </tr>\n",
              "    <tr>\n",
              "      <th>8</th>\n",
              "      <td>Auxilio - Transporte</td>\n",
              "      <td>655</td>\n",
              "    </tr>\n",
              "    <tr>\n",
              "      <th>9</th>\n",
              "      <td>Cont.p/Reg.Geral Prev.INSS</td>\n",
              "      <td>645</td>\n",
              "    </tr>\n",
              "    <tr>\n",
              "      <th>10</th>\n",
              "      <td>PUBLICIDADE E PROPAGANDA</td>\n",
              "      <td>557</td>\n",
              "    </tr>\n",
              "    <tr>\n",
              "      <th>11</th>\n",
              "      <td>Serviços Bancários</td>\n",
              "      <td>429</td>\n",
              "    </tr>\n",
              "    <tr>\n",
              "      <th>12</th>\n",
              "      <td>Locaçao de Software</td>\n",
              "      <td>414</td>\n",
              "    </tr>\n",
              "  </tbody>\n",
              "</table>\n",
              "</div>"
            ],
            "text/plain": [
              "                                  index  subgroup\n",
              "0   Outros Serv.Terceiros - P. Juridica      7040\n",
              "1                         Diarias-Civil      5441\n",
              "2      OUTROS SERVICOS TERC. P.JURIDICA      2124\n",
              "3   V.Vant.Fixas P.Civil(Ve.Base Folha)      1470\n",
              "4         Materiais de Consumo - Outros      1266\n",
              "5             Publicidades e Propaganda      1195\n",
              "6                       DIARIAS - CIVIL      1023\n",
              "7                 Serviços de Telefonia       796\n",
              "8                  Auxilio - Transporte       655\n",
              "9            Cont.p/Reg.Geral Prev.INSS       645\n",
              "10             PUBLICIDADE E PROPAGANDA       557\n",
              "11                   Serviços Bancários       429\n",
              "12                  Locaçao de Software       414"
            ]
          },
          "metadata": {
            "tags": []
          },
          "execution_count": 50
        }
      ]
    },
    {
      "cell_type": "code",
      "metadata": {
        "id": "PdNi2t5oJULI",
        "colab_type": "code",
        "colab": {}
      },
      "source": [
        "# ELIMINANDO LINHA 2 \n",
        "top10_subgrupo.drop(2,inplace=True)"
      ],
      "execution_count": 0,
      "outputs": []
    },
    {
      "cell_type": "code",
      "metadata": {
        "id": "Kfy8yKxSJULf",
        "colab_type": "code",
        "colab": {}
      },
      "source": [
        "# ELIMINANDO LINHA 6\n",
        "top10_subgrupo.drop(6,inplace=True)"
      ],
      "execution_count": 0,
      "outputs": []
    },
    {
      "cell_type": "code",
      "metadata": {
        "id": "K06VvbHnJUL3",
        "colab_type": "code",
        "colab": {}
      },
      "source": [
        "# ELIMINANDO LINHA 10 \n",
        "top10_subgrupo.drop (10,inplace=True)"
      ],
      "execution_count": 0,
      "outputs": []
    },
    {
      "cell_type": "markdown",
      "metadata": {
        "id": "7XOHgcBpJUMQ",
        "colab_type": "text"
      },
      "source": [
        "#### PLOTANDO GRAFICOS TOP 10 SUBGRUPOS MAIS ACIONADOS PELA PREFEITURA DE FEIRA DE SANTANA  "
      ]
    },
    {
      "cell_type": "code",
      "metadata": {
        "scrolled": false,
        "id": "DLVGsMYqJUMV",
        "colab_type": "code",
        "outputId": "18d86aed-0dbe-4233-c386-3b888806fa68",
        "colab": {
          "base_uri": "https://localhost:8080/",
          "height": 117
        }
      },
      "source": [
        "plt.figure(figsize=(15,6))\n",
        "plt.barh(top10_subgrupo['index'],top10_subgrupo.subgroup,color='g')\n",
        "plt.ylabel('N° AÇÕES POR SUBGRUPOS',color='k')\n",
        "plt.xticks(rotation=35,color='r')\n",
        "plt.title('N° DOS TOP 10 SUBGRUPOS MAIS UTILIZADOS PELA PREFEITURA DE FEIRA DE SANTANA ',color='g')\n",
        "plt.savefig('top10subg.png', dpi=250, facecolor='w', edgecolor='w',\n",
        "            orientation='portrait', format='png',\n",
        "            transparent=True,bbox_inches='tight')\n",
        " \n",
        "plt.show();"
      ],
      "execution_count": 0,
      "outputs": [
        {
          "output_type": "display_data",
          "data": {
            "image/png": "[encoded data removed]",
            "text/plain": [
              "<Figure size 1080x432 with 1 Axes>"
            ]
          },
          "metadata": {
            "tags": [],
            "needs_background": "light"
          }
        }
      ]
    },
    {
      "cell_type": "code",
      "metadata": {
        "id": "W7lRe0nkJUMs",
        "colab_type": "code",
        "outputId": "2518dce5-a197-47ff-b1c0-622339f645fe",
        "colab": {
          "base_uri": "https://localhost:8080/",
          "height": 17
        }
      },
      "source": [
        "import plotly.offline as py\n",
        "import plotly.graph_objs as go\n",
        "py.init_notebook_mode(connected=True)"
      ],
      "execution_count": 0,
      "outputs": [
        {
          "output_type": "display_data",
          "data": {
            "text/html": [
              "        <script type=\"text/javascript\">\n",
              "        window.PlotlyConfig = {MathJaxConfig: 'local'};\n",
              "        if (window.MathJax) {MathJax.Hub.Config({SVG: {font: \"STIX-Web\"}});}\n",
              "        if (typeof require !== 'undefined') {\n",
              "        require.undef(\"plotly\");\n",
              "        requirejs.config({\n",
              "            paths: {\n",
              "                'plotly': ['https://cdn.plot.ly/plotly-latest.min']\n",
              "            }\n",
              "        });\n",
              "        require(['plotly'], function(Plotly) {\n",
              "            window._Plotly = Plotly;\n",
              "        });\n",
              "        }\n",
              "        </script>\n",
              "        "
            ]
          },
          "metadata": {
            "tags": []
          }
        }
      ]
    },
    {
      "cell_type": "code",
      "metadata": {
        "id": "UPZ0Q3d5PaC-",
        "colab_type": "code",
        "colab": {}
      },
      "source": [
        " \n",
        "# Definindo o renderizador:\n",
        "import plotly.io as pio\n",
        "pio.renderers\n",
        "pio.renderers.default = \"colab\""
      ],
      "execution_count": 0,
      "outputs": []
    },
    {
      "cell_type": "code",
      "metadata": {
        "id": "eH6GDl0KJUNB",
        "colab_type": "code",
        "outputId": "3794fd90-0a12-4c51-ceac-0dbd6d462ec5",
        "colab": {
          "base_uri": "https://localhost:8080/",
          "height": 542
        }
      },
      "source": [
        "trace = go.Bar(x = top10_subgrupo['index'],\n",
        "               y = top10_subgrupo['subgroup'],\n",
        "               text=top10_subgrupo['subgroup'],\n",
        "               textposition='auto')\n",
        "data = [trace]\n",
        "layout = dict(title='TOP 10 SUBGRUPOS MAIS USADOS PREFEITURA DE FEIRA DE SANTANA')\n",
        "fig = dict(data=data, layout=layout)\n",
        " \n",
        "py.iplot(fig)"
      ],
      "execution_count": 0,
      "outputs": [
        {
          "output_type": "display_data",
          "data": {
            "text/html": [
              "<html>\n",
              "<head><meta charset=\"utf-8\" /></head>\n",
              "<body>\n",
              "    <div>\n",
              "            <script src=\"https://cdnjs.cloudflare.com/ajax/libs/mathjax/2.7.5/MathJax.js?config=TeX-AMS-MML_SVG\"></script><script type=\"text/javascript\">if (window.MathJax) {MathJax.Hub.Config({SVG: {font: \"STIX-Web\"}});}</script>\n",
              "                <script type=\"text/javascript\">window.PlotlyConfig = {MathJaxConfig: 'local'};</script>\n",
              "        <script src=\"https://cdn.plot.ly/plotly-latest.min.js\"></script>    \n",
              "            <div id=\"82cf3f06-4838-482b-8732-66e8c9f3787d\" class=\"plotly-graph-div\" style=\"height:525px; width:100%;\"></div>\n",
              "            <script type=\"text/javascript\">\n",
              "                \n",
              "                    window.PLOTLYENV=window.PLOTLYENV || {};\n",
              "                    \n",
              "                if (document.getElementById(\"82cf3f06-4838-482b-8732-66e8c9f3787d\")) {\n",
              "                    Plotly.newPlot(\n",
              "                        '82cf3f06-4838-482b-8732-66e8c9f3787d',\n",
              "                        [{\"text\": [7040.0, 5441.0, 1470.0, 1266.0, 1195.0, 796.0, 655.0, 645.0, 429.0, 414.0], \"textposition\": \"auto\", \"type\": \"bar\", \"x\": [\"Outros Serv.Terceiros - P. Juridica\", \"Diarias-Civil\", \"V.Vant.Fixas P.Civil(Ve.Base Folha)\", \"Materiais de Consumo - Outros\", \"Publicidades e Propaganda\", \"Servi\\u00e7os de Telefonia\", \"Auxilio - Transporte\", \"Cont.p/Reg.Geral Prev.INSS\", \"Servi\\u00e7os Banc\\u00e1rios\", \"Loca\\u00e7ao de Software\"], \"y\": [7040, 5441, 1470, 1266, 1195, 796, 655, 645, 429, 414]}],\n",
              "                        {\"template\": {\"data\": {\"bar\": [{\"error_x\": {\"color\": \"#2a3f5f\"}, \"error_y\": {\"color\": \"#2a3f5f\"}, \"marker\": {\"line\": {\"color\": \"#E5ECF6\", \"width\": 0.5}}, \"type\": \"bar\"}], \"barpolar\": [{\"marker\": {\"line\": {\"color\": \"#E5ECF6\", \"width\": 0.5}}, \"type\": \"barpolar\"}], \"carpet\": [{\"aaxis\": {\"endlinecolor\": \"#2a3f5f\", \"gridcolor\": \"white\", \"linecolor\": \"white\", \"minorgridcolor\": \"white\", \"startlinecolor\": \"#2a3f5f\"}, \"baxis\": {\"endlinecolor\": \"#2a3f5f\", \"gridcolor\": \"white\", \"linecolor\": \"white\", \"minorgridcolor\": \"white\", \"startlinecolor\": \"#2a3f5f\"}, \"type\": \"carpet\"}], \"choropleth\": [{\"colorbar\": {\"outlinewidth\": 0, \"ticks\": \"\"}, \"type\": \"choropleth\"}], \"contour\": [{\"colorbar\": {\"outlinewidth\": 0, \"ticks\": \"\"}, \"colorscale\": [[0.0, \"#0d0887\"], [0.1111111111111111, \"#46039f\"], [0.2222222222222222, \"#7201a8\"], [0.3333333333333333, \"#9c179e\"], [0.4444444444444444, \"#bd3786\"], [0.5555555555555556, \"#d8576b\"], [0.6666666666666666, \"#ed7953\"], [0.7777777777777778, \"#fb9f3a\"], [0.8888888888888888, \"#fdca26\"], [1.0, \"#f0f921\"]], \"type\": \"contour\"}], \"contourcarpet\": [{\"colorbar\": {\"outlinewidth\": 0, \"ticks\": \"\"}, \"type\": \"contourcarpet\"}], \"heatmap\": [{\"colorbar\": {\"outlinewidth\": 0, \"ticks\": \"\"}, \"colorscale\": [[0.0, \"#0d0887\"], [0.1111111111111111, \"#46039f\"], [0.2222222222222222, \"#7201a8\"], [0.3333333333333333, \"#9c179e\"], [0.4444444444444444, \"#bd3786\"], [0.5555555555555556, \"#d8576b\"], [0.6666666666666666, \"#ed7953\"], [0.7777777777777778, \"#fb9f3a\"], [0.8888888888888888, \"#fdca26\"], [1.0, \"#f0f921\"]], \"type\": \"heatmap\"}], \"heatmapgl\": [{\"colorbar\": {\"outlinewidth\": 0, \"ticks\": \"\"}, \"colorscale\": [[0.0, \"#0d0887\"], [0.1111111111111111, \"#46039f\"], [0.2222222222222222, \"#7201a8\"], [0.3333333333333333, \"#9c179e\"], [0.4444444444444444, \"#bd3786\"], [0.5555555555555556, \"#d8576b\"], [0.6666666666666666, \"#ed7953\"], [0.7777777777777778, \"#fb9f3a\"], [0.8888888888888888, \"#fdca26\"], [1.0, \"#f0f921\"]], \"type\": \"heatmapgl\"}], \"histogram\": [{\"marker\": {\"colorbar\": {\"outlinewidth\": 0, \"ticks\": \"\"}}, \"type\": \"histogram\"}], \"histogram2d\": [{\"colorbar\": {\"outlinewidth\": 0, \"ticks\": \"\"}, \"colorscale\": [[0.0, \"#0d0887\"], [0.1111111111111111, \"#46039f\"], [0.2222222222222222, \"#7201a8\"], [0.3333333333333333, \"#9c179e\"], [0.4444444444444444, \"#bd3786\"], [0.5555555555555556, \"#d8576b\"], [0.6666666666666666, \"#ed7953\"], [0.7777777777777778, \"#fb9f3a\"], [0.8888888888888888, \"#fdca26\"], [1.0, \"#f0f921\"]], \"type\": \"histogram2d\"}], \"histogram2dcontour\": [{\"colorbar\": {\"outlinewidth\": 0, \"ticks\": \"\"}, \"colorscale\": [[0.0, \"#0d0887\"], [0.1111111111111111, \"#46039f\"], [0.2222222222222222, \"#7201a8\"], [0.3333333333333333, \"#9c179e\"], [0.4444444444444444, \"#bd3786\"], [0.5555555555555556, \"#d8576b\"], [0.6666666666666666, \"#ed7953\"], [0.7777777777777778, \"#fb9f3a\"], [0.8888888888888888, \"#fdca26\"], [1.0, \"#f0f921\"]], \"type\": \"histogram2dcontour\"}], \"mesh3d\": [{\"colorbar\": {\"outlinewidth\": 0, \"ticks\": \"\"}, \"type\": \"mesh3d\"}], \"parcoords\": [{\"line\": {\"colorbar\": {\"outlinewidth\": 0, \"ticks\": \"\"}}, \"type\": \"parcoords\"}], \"pie\": [{\"automargin\": true, \"type\": \"pie\"}], \"scatter\": [{\"marker\": {\"colorbar\": {\"outlinewidth\": 0, \"ticks\": \"\"}}, \"type\": \"scatter\"}], \"scatter3d\": [{\"line\": {\"colorbar\": {\"outlinewidth\": 0, \"ticks\": \"\"}}, \"marker\": {\"colorbar\": {\"outlinewidth\": 0, \"ticks\": \"\"}}, \"type\": \"scatter3d\"}], \"scattercarpet\": [{\"marker\": {\"colorbar\": {\"outlinewidth\": 0, \"ticks\": \"\"}}, \"type\": \"scattercarpet\"}], \"scattergeo\": [{\"marker\": {\"colorbar\": {\"outlinewidth\": 0, \"ticks\": \"\"}}, \"type\": \"scattergeo\"}], \"scattergl\": [{\"marker\": {\"colorbar\": {\"outlinewidth\": 0, \"ticks\": \"\"}}, \"type\": \"scattergl\"}], \"scattermapbox\": [{\"marker\": {\"colorbar\": {\"outlinewidth\": 0, \"ticks\": \"\"}}, \"type\": \"scattermapbox\"}], \"scatterpolar\": [{\"marker\": {\"colorbar\": {\"outlinewidth\": 0, \"ticks\": \"\"}}, \"type\": \"scatterpolar\"}], \"scatterpolargl\": [{\"marker\": {\"colorbar\": {\"outlinewidth\": 0, \"ticks\": \"\"}}, \"type\": \"scatterpolargl\"}], \"scatterternary\": [{\"marker\": {\"colorbar\": {\"outlinewidth\": 0, \"ticks\": \"\"}}, \"type\": \"scatterternary\"}], \"surface\": [{\"colorbar\": {\"outlinewidth\": 0, \"ticks\": \"\"}, \"colorscale\": [[0.0, \"#0d0887\"], [0.1111111111111111, \"#46039f\"], [0.2222222222222222, \"#7201a8\"], [0.3333333333333333, \"#9c179e\"], [0.4444444444444444, \"#bd3786\"], [0.5555555555555556, \"#d8576b\"], [0.6666666666666666, \"#ed7953\"], [0.7777777777777778, \"#fb9f3a\"], [0.8888888888888888, \"#fdca26\"], [1.0, \"#f0f921\"]], \"type\": \"surface\"}], \"table\": [{\"cells\": {\"fill\": {\"color\": \"#EBF0F8\"}, \"line\": {\"color\": \"white\"}}, \"header\": {\"fill\": {\"color\": \"#C8D4E3\"}, \"line\": {\"color\": \"white\"}}, \"type\": \"table\"}]}, \"layout\": {\"annotationdefaults\": {\"arrowcolor\": \"#2a3f5f\", \"arrowhead\": 0, \"arrowwidth\": 1}, \"coloraxis\": {\"colorbar\": {\"outlinewidth\": 0, \"ticks\": \"\"}}, \"colorscale\": {\"diverging\": [[0, \"#8e0152\"], [0.1, \"#c51b7d\"], [0.2, \"#de77ae\"], [0.3, \"#f1b6da\"], [0.4, \"#fde0ef\"], [0.5, \"#f7f7f7\"], [0.6, \"#e6f5d0\"], [0.7, \"#b8e186\"], [0.8, \"#7fbc41\"], [0.9, \"#4d9221\"], [1, \"#276419\"]], \"sequential\": [[0.0, \"#0d0887\"], [0.1111111111111111, \"#46039f\"], [0.2222222222222222, \"#7201a8\"], [0.3333333333333333, \"#9c179e\"], [0.4444444444444444, \"#bd3786\"], [0.5555555555555556, \"#d8576b\"], [0.6666666666666666, \"#ed7953\"], [0.7777777777777778, \"#fb9f3a\"], [0.8888888888888888, \"#fdca26\"], [1.0, \"#f0f921\"]], \"sequentialminus\": [[0.0, \"#0d0887\"], [0.1111111111111111, \"#46039f\"], [0.2222222222222222, \"#7201a8\"], [0.3333333333333333, \"#9c179e\"], [0.4444444444444444, \"#bd3786\"], [0.5555555555555556, \"#d8576b\"], [0.6666666666666666, \"#ed7953\"], [0.7777777777777778, \"#fb9f3a\"], [0.8888888888888888, \"#fdca26\"], [1.0, \"#f0f921\"]]}, \"colorway\": [\"#636efa\", \"#EF553B\", \"#00cc96\", \"#ab63fa\", \"#FFA15A\", \"#19d3f3\", \"#FF6692\", \"#B6E880\", \"#FF97FF\", \"#FECB52\"], \"font\": {\"color\": \"#2a3f5f\"}, \"geo\": {\"bgcolor\": \"white\", \"lakecolor\": \"white\", \"landcolor\": \"#E5ECF6\", \"showlakes\": true, \"showland\": true, \"subunitcolor\": \"white\"}, \"hoverlabel\": {\"align\": \"left\"}, \"hovermode\": \"closest\", \"mapbox\": {\"style\": \"light\"}, \"paper_bgcolor\": \"white\", \"plot_bgcolor\": \"#E5ECF6\", \"polar\": {\"angularaxis\": {\"gridcolor\": \"white\", \"linecolor\": \"white\", \"ticks\": \"\"}, \"bgcolor\": \"#E5ECF6\", \"radialaxis\": {\"gridcolor\": \"white\", \"linecolor\": \"white\", \"ticks\": \"\"}}, \"scene\": {\"xaxis\": {\"backgroundcolor\": \"#E5ECF6\", \"gridcolor\": \"white\", \"gridwidth\": 2, \"linecolor\": \"white\", \"showbackground\": true, \"ticks\": \"\", \"zerolinecolor\": \"white\"}, \"yaxis\": {\"backgroundcolor\": \"#E5ECF6\", \"gridcolor\": \"white\", \"gridwidth\": 2, \"linecolor\": \"white\", \"showbackground\": true, \"ticks\": \"\", \"zerolinecolor\": \"white\"}, \"zaxis\": {\"backgroundcolor\": \"#E5ECF6\", \"gridcolor\": \"white\", \"gridwidth\": 2, \"linecolor\": \"white\", \"showbackground\": true, \"ticks\": \"\", \"zerolinecolor\": \"white\"}}, \"shapedefaults\": {\"line\": {\"color\": \"#2a3f5f\"}}, \"ternary\": {\"aaxis\": {\"gridcolor\": \"white\", \"linecolor\": \"white\", \"ticks\": \"\"}, \"baxis\": {\"gridcolor\": \"white\", \"linecolor\": \"white\", \"ticks\": \"\"}, \"bgcolor\": \"#E5ECF6\", \"caxis\": {\"gridcolor\": \"white\", \"linecolor\": \"white\", \"ticks\": \"\"}}, \"title\": {\"x\": 0.05}, \"xaxis\": {\"automargin\": true, \"gridcolor\": \"white\", \"linecolor\": \"white\", \"ticks\": \"\", \"title\": {\"standoff\": 15}, \"zerolinecolor\": \"white\", \"zerolinewidth\": 2}, \"yaxis\": {\"automargin\": true, \"gridcolor\": \"white\", \"linecolor\": \"white\", \"ticks\": \"\", \"title\": {\"standoff\": 15}, \"zerolinecolor\": \"white\", \"zerolinewidth\": 2}}}, \"title\": {\"text\": \"TOP 10 SUBGRUPOS MAIS USADOS PREFEITURA DE FEIRA DE SANTANA\"}},\n",
              "                        {\"responsive\": true}\n",
              "                    ).then(function(){\n",
              "                            \n",
              "var gd = document.getElementById('82cf3f06-4838-482b-8732-66e8c9f3787d');\n",
              "var x = new MutationObserver(function (mutations, observer) {{\n",
              "        var display = window.getComputedStyle(gd).display;\n",
              "        if (!display || display === 'none') {{\n",
              "            console.log([gd, 'removed!']);\n",
              "            Plotly.purge(gd);\n",
              "            observer.disconnect();\n",
              "        }}\n",
              "}});\n",
              "\n",
              "// Listen for the removal of the full notebook cells\n",
              "var notebookContainer = gd.closest('#notebook-container');\n",
              "if (notebookContainer) {{\n",
              "    x.observe(notebookContainer, {childList: true});\n",
              "}}\n",
              "\n",
              "// Listen for the clearing of the current output cell\n",
              "var outputEl = gd.closest('.output');\n",
              "if (outputEl) {{\n",
              "    x.observe(outputEl, {childList: true});\n",
              "}}\n",
              "\n",
              "                        })\n",
              "                };\n",
              "                \n",
              "            </script>\n",
              "        </div>\n",
              "</body>\n",
              "</html>"
            ]
          },
          "metadata": {
            "tags": []
          }
        }
      ]
    },
    {
      "cell_type": "markdown",
      "metadata": {
        "id": "mDFQrM_6JUNY",
        "colab_type": "text"
      },
      "source": [
        "### ANÁLISE POR PARTES REFERENTES A CADA COLUNA "
      ]
    },
    {
      "cell_type": "code",
      "metadata": {
        "id": "Lu-9duA3JUNc",
        "colab_type": "code",
        "outputId": "646e2a9b-7c10-437f-da7a-c16c703f7883",
        "colab": {
          "base_uri": "https://localhost:8080/"
        }
      },
      "source": [
        "df.head()"
      ],
      "execution_count": 0,
      "outputs": [
        {
          "output_type": "execute_result",
          "data": {
            "text/html": [
              "<div>\n",
              "<style scoped>\n",
              "    .dataframe tbody tr th:only-of-type {\n",
              "        vertical-align: middle;\n",
              "    }\n",
              "\n",
              "    .dataframe tbody tr th {\n",
              "        vertical-align: top;\n",
              "    }\n",
              "\n",
              "    .dataframe thead th {\n",
              "        text-align: right;\n",
              "    }\n",
              "</style>\n",
              "<table border=\"1\" class=\"dataframe\">\n",
              "  <thead>\n",
              "    <tr style=\"text-align: right;\">\n",
              "      <th></th>\n",
              "      <th>company_or_person</th>\n",
              "      <th>crawled_at</th>\n",
              "      <th>crawled_from</th>\n",
              "      <th>date</th>\n",
              "      <th>document</th>\n",
              "      <th>function</th>\n",
              "      <th>group</th>\n",
              "      <th>legal_status</th>\n",
              "      <th>number</th>\n",
              "      <th>phase</th>\n",
              "      <th>process_number</th>\n",
              "      <th>published_at</th>\n",
              "      <th>resource</th>\n",
              "      <th>subfunction</th>\n",
              "      <th>subgroup</th>\n",
              "      <th>summary</th>\n",
              "      <th>type_of_process</th>\n",
              "      <th>value</th>\n",
              "    </tr>\n",
              "  </thead>\n",
              "  <tbody>\n",
              "    <tr>\n",
              "      <th>0</th>\n",
              "      <td>EDITORA PRINCESA LTDA</td>\n",
              "      <td>2020-04-11 10:12:39.549868</td>\n",
              "      <td>https://www.transparencia.feiradesantana.ba.le...</td>\n",
              "      <td>2010-01-04</td>\n",
              "      <td>00.725.755/0001-62</td>\n",
              "      <td>01 - LEGISLATIVA</td>\n",
              "      <td>Manutencao dos servicos tecnico administrativos</td>\n",
              "      <td>339039680000 - Serv.de Publicidade e propagand...</td>\n",
              "      <td>062/2010</td>\n",
              "      <td>empenho</td>\n",
              "      <td>029/2010</td>\n",
              "      <td>2010-01-04</td>\n",
              "      <td>0000 - TESOURO</td>\n",
              "      <td>031 - ACAO</td>\n",
              "      <td>Serv.de Publicidade e propaganda</td>\n",
              "      <td>IMPORTE DESTINADO PUBLICACAO DE ATOS OFICIAIS ...</td>\n",
              "      <td>DISPENSA</td>\n",
              "      <td>130.00</td>\n",
              "    </tr>\n",
              "    <tr>\n",
              "      <th>1</th>\n",
              "      <td>CEDRO EDITORA GRAFICA LTDA</td>\n",
              "      <td>2020-04-11 10:12:39.553791</td>\n",
              "      <td>https://www.transparencia.feiradesantana.ba.le...</td>\n",
              "      <td>2010-01-04</td>\n",
              "      <td>00.597.920/0001-30</td>\n",
              "      <td>01 - LEGISLATIVA</td>\n",
              "      <td>Manutencao dos servicos tecnico administrativos</td>\n",
              "      <td>339039680000 - Serv.de Publicidade e propagand...</td>\n",
              "      <td>063/2010</td>\n",
              "      <td>empenho</td>\n",
              "      <td>030/2010</td>\n",
              "      <td>2010-01-04</td>\n",
              "      <td>0000 - TESOURO</td>\n",
              "      <td>031 - ACAO</td>\n",
              "      <td>Serv.de Publicidade e propaganda</td>\n",
              "      <td>IMPORTE DESTINADO A PUBLICACAO DE ATOS OFICIAI...</td>\n",
              "      <td>DISPENSA</td>\n",
              "      <td>360.00</td>\n",
              "    </tr>\n",
              "    <tr>\n",
              "      <th>2</th>\n",
              "      <td>ELEVADORES OTIS LTDA</td>\n",
              "      <td>2020-04-11 10:12:39.561768</td>\n",
              "      <td>https://www.transparencia.feiradesantana.ba.le...</td>\n",
              "      <td>2010-01-04</td>\n",
              "      <td>02.973.973/0010-01</td>\n",
              "      <td>01 - LEGISLATIVA</td>\n",
              "      <td>Manutencao dos servicos tecnico administrativos</td>\n",
              "      <td>339039150000 - Manut.e Conserv.de Maq.e Equipa...</td>\n",
              "      <td>041/2010</td>\n",
              "      <td>empenho</td>\n",
              "      <td>019/2010</td>\n",
              "      <td>2010-01-04</td>\n",
              "      <td>0000 - TESOURO</td>\n",
              "      <td>031 - ACAO</td>\n",
              "      <td>Manut.e Conserv.de Maq.e Equipament</td>\n",
              "      <td>IMPORTE DESTINADO A PAGAMENTO DE SERVICO DE MA...</td>\n",
              "      <td>DISPENSA</td>\n",
              "      <td>5166.72</td>\n",
              "    </tr>\n",
              "    <tr>\n",
              "      <th>3</th>\n",
              "      <td>EMPR. BRAS. DE CORREIOS E TELE</td>\n",
              "      <td>2020-04-11 10:12:39.564685</td>\n",
              "      <td>https://www.transparencia.feiradesantana.ba.le...</td>\n",
              "      <td>2010-01-04</td>\n",
              "      <td>03.402.831/3861-17</td>\n",
              "      <td>01 - LEGISLATIVA</td>\n",
              "      <td>Manutencao dos servicos tecnico administrativos</td>\n",
              "      <td>339039740000 - Outros Serv. de Terc.-P. Juridi...</td>\n",
              "      <td>042/2010</td>\n",
              "      <td>empenho</td>\n",
              "      <td>020/2010</td>\n",
              "      <td>2010-01-04</td>\n",
              "      <td>0000 - TESOURO</td>\n",
              "      <td>031 - ACAO</td>\n",
              "      <td>Outros Serv. de Terc.-P. Juridica</td>\n",
              "      <td>IMPORTE DESTINADO A PAGAMENTO DE SERVICO DE CO...</td>\n",
              "      <td>DISPENSA</td>\n",
              "      <td>35000.00</td>\n",
              "    </tr>\n",
              "    <tr>\n",
              "      <th>4</th>\n",
              "      <td>COMANDOS TERC. E SEG. ELETR. L</td>\n",
              "      <td>2020-04-11 10:12:39.572683</td>\n",
              "      <td>https://www.transparencia.feiradesantana.ba.le...</td>\n",
              "      <td>2010-01-04</td>\n",
              "      <td>00.046.493/0001-07</td>\n",
              "      <td>01 - LEGISLATIVA</td>\n",
              "      <td>Manutencao dos servicos tecnico administrativos</td>\n",
              "      <td>339039600000 - Vigilancia Ostensiva           ...</td>\n",
              "      <td>021/2010</td>\n",
              "      <td>empenho</td>\n",
              "      <td>013/2010</td>\n",
              "      <td>2010-01-04</td>\n",
              "      <td>0000 - TESOURO</td>\n",
              "      <td>031 - ACAO</td>\n",
              "      <td>Vigilancia Ostensiva</td>\n",
              "      <td>IMPORTE DESTINADO A PAGAMENTO                 ...</td>\n",
              "      <td>DISPENSA</td>\n",
              "      <td>2260.00</td>\n",
              "    </tr>\n",
              "  </tbody>\n",
              "</table>\n",
              "</div>"
            ],
            "text/plain": [
              "                company_or_person  ...     value\n",
              "0           EDITORA PRINCESA LTDA  ...    130.00\n",
              "1      CEDRO EDITORA GRAFICA LTDA  ...    360.00\n",
              "2            ELEVADORES OTIS LTDA  ...   5166.72\n",
              "3  EMPR. BRAS. DE CORREIOS E TELE  ...  35000.00\n",
              "4  COMANDOS TERC. E SEG. ELETR. L  ...   2260.00\n",
              "\n",
              "[5 rows x 18 columns]"
            ]
          },
          "metadata": {
            "tags": []
          },
          "execution_count": 58
        }
      ]
    },
    {
      "cell_type": "code",
      "metadata": {
        "id": "mFBHudeHJUNx",
        "colab_type": "code",
        "outputId": "77c0acb3-8945-4891-b83b-75923147d01e",
        "colab": {
          "base_uri": "https://localhost:8080/"
        }
      },
      "source": [
        "# FATIANDO DATASET POR COMPANHIA OU PESSOAS POR TIPO DE PROCESSO COM OS 20 MAIORES VALORES \n",
        "df[['company_or_person','type_of_process','value']].nlargest(20,'value')\n"
      ],
      "execution_count": 0,
      "outputs": [
        {
          "output_type": "execute_result",
          "data": {
            "text/html": [
              "<div>\n",
              "<style scoped>\n",
              "    .dataframe tbody tr th:only-of-type {\n",
              "        vertical-align: middle;\n",
              "    }\n",
              "\n",
              "    .dataframe tbody tr th {\n",
              "        vertical-align: top;\n",
              "    }\n",
              "\n",
              "    .dataframe thead th {\n",
              "        text-align: right;\n",
              "    }\n",
              "</style>\n",
              "<table border=\"1\" class=\"dataframe\">\n",
              "  <thead>\n",
              "    <tr style=\"text-align: right;\">\n",
              "      <th></th>\n",
              "      <th>company_or_person</th>\n",
              "      <th>type_of_process</th>\n",
              "      <th>value</th>\n",
              "    </tr>\n",
              "  </thead>\n",
              "  <tbody>\n",
              "    <tr>\n",
              "      <th>34962</th>\n",
              "      <td>FUNCIONARIOS CARGOS EM COMISSA</td>\n",
              "      <td>ISENTO</td>\n",
              "      <td>12400000.00</td>\n",
              "    </tr>\n",
              "    <tr>\n",
              "      <th>31339</th>\n",
              "      <td>FUNCIONARIOS CARGOS EM COMISSA</td>\n",
              "      <td>ISENTO</td>\n",
              "      <td>11300000.00</td>\n",
              "    </tr>\n",
              "    <tr>\n",
              "      <th>24469</th>\n",
              "      <td>FUNCIONARIOS CARGOS EM COMISSA</td>\n",
              "      <td>ISENTO</td>\n",
              "      <td>10200000.00</td>\n",
              "    </tr>\n",
              "    <tr>\n",
              "      <th>27934</th>\n",
              "      <td>FUNCIONARIOS CARGOS EM COMISSA</td>\n",
              "      <td>ISENTO</td>\n",
              "      <td>10000000.00</td>\n",
              "    </tr>\n",
              "    <tr>\n",
              "      <th>21353</th>\n",
              "      <td>FUNCIONARIOS CARGOS EM COMISSA</td>\n",
              "      <td>ISENTO</td>\n",
              "      <td>8000000.00</td>\n",
              "    </tr>\n",
              "    <tr>\n",
              "      <th>16929</th>\n",
              "      <td>FUNCIONARIOS CARGOS EM COMISSA</td>\n",
              "      <td>ISENTO</td>\n",
              "      <td>7000000.00</td>\n",
              "    </tr>\n",
              "    <tr>\n",
              "      <th>13185</th>\n",
              "      <td>FUNCIONARIOS CARGOS EM COMISSA</td>\n",
              "      <td>ISENTO</td>\n",
              "      <td>4900000.00</td>\n",
              "    </tr>\n",
              "    <tr>\n",
              "      <th>24471</th>\n",
              "      <td>VEREADORES</td>\n",
              "      <td>ISENTO</td>\n",
              "      <td>4200000.00</td>\n",
              "    </tr>\n",
              "    <tr>\n",
              "      <th>31358</th>\n",
              "      <td>VEREADORES</td>\n",
              "      <td>ISENTO</td>\n",
              "      <td>4110000.00</td>\n",
              "    </tr>\n",
              "    <tr>\n",
              "      <th>34973</th>\n",
              "      <td>VEREADORES</td>\n",
              "      <td>ISENTO</td>\n",
              "      <td>4110000.00</td>\n",
              "    </tr>\n",
              "    <tr>\n",
              "      <th>9834</th>\n",
              "      <td>FUNCIONARIOS CARGOS EM COMISSA</td>\n",
              "      <td>ISENTO</td>\n",
              "      <td>4109389.00</td>\n",
              "    </tr>\n",
              "    <tr>\n",
              "      <th>27936</th>\n",
              "      <td>VEREADORES</td>\n",
              "      <td>ISENTO</td>\n",
              "      <td>4103670.48</td>\n",
              "    </tr>\n",
              "    <tr>\n",
              "      <th>34963</th>\n",
              "      <td>FUNCIONARIOS EFETIVOS</td>\n",
              "      <td>ISENTO</td>\n",
              "      <td>4000000.00</td>\n",
              "    </tr>\n",
              "    <tr>\n",
              "      <th>13173</th>\n",
              "      <td>VEREADORES</td>\n",
              "      <td>ISENTO</td>\n",
              "      <td>3790000.00</td>\n",
              "    </tr>\n",
              "    <tr>\n",
              "      <th>17067</th>\n",
              "      <td>VEREADORES</td>\n",
              "      <td>ISENTO</td>\n",
              "      <td>3790000.00</td>\n",
              "    </tr>\n",
              "    <tr>\n",
              "      <th>21355</th>\n",
              "      <td>VEREADORES</td>\n",
              "      <td>ISENTO</td>\n",
              "      <td>3789000.00</td>\n",
              "    </tr>\n",
              "    <tr>\n",
              "      <th>9822</th>\n",
              "      <td>VEREADORES</td>\n",
              "      <td>ISENTO</td>\n",
              "      <td>3788003.00</td>\n",
              "    </tr>\n",
              "    <tr>\n",
              "      <th>6346</th>\n",
              "      <td>FUNCIONARIOS CARGOS EM COMISSA</td>\n",
              "      <td>ISENTO</td>\n",
              "      <td>3539000.00</td>\n",
              "    </tr>\n",
              "    <tr>\n",
              "      <th>16928</th>\n",
              "      <td>FUNCIONARIOS EFETIVOS</td>\n",
              "      <td>ISENTO</td>\n",
              "      <td>3400000.00</td>\n",
              "    </tr>\n",
              "    <tr>\n",
              "      <th>31337</th>\n",
              "      <td>FUNCIONARIOS EFETIVOS</td>\n",
              "      <td>ISENTO</td>\n",
              "      <td>3100000.00</td>\n",
              "    </tr>\n",
              "  </tbody>\n",
              "</table>\n",
              "</div>"
            ],
            "text/plain": [
              "                    company_or_person type_of_process        value\n",
              "34962  FUNCIONARIOS CARGOS EM COMISSA          ISENTO  12400000.00\n",
              "31339  FUNCIONARIOS CARGOS EM COMISSA          ISENTO  11300000.00\n",
              "24469  FUNCIONARIOS CARGOS EM COMISSA          ISENTO  10200000.00\n",
              "27934  FUNCIONARIOS CARGOS EM COMISSA          ISENTO  10000000.00\n",
              "21353  FUNCIONARIOS CARGOS EM COMISSA          ISENTO   8000000.00\n",
              "16929  FUNCIONARIOS CARGOS EM COMISSA          ISENTO   7000000.00\n",
              "13185  FUNCIONARIOS CARGOS EM COMISSA          ISENTO   4900000.00\n",
              "24471                      VEREADORES          ISENTO   4200000.00\n",
              "31358                      VEREADORES          ISENTO   4110000.00\n",
              "34973                      VEREADORES          ISENTO   4110000.00\n",
              "9834   FUNCIONARIOS CARGOS EM COMISSA          ISENTO   4109389.00\n",
              "27936                      VEREADORES          ISENTO   4103670.48\n",
              "34963           FUNCIONARIOS EFETIVOS          ISENTO   4000000.00\n",
              "13173                      VEREADORES          ISENTO   3790000.00\n",
              "17067                      VEREADORES          ISENTO   3790000.00\n",
              "21355                      VEREADORES          ISENTO   3789000.00\n",
              "9822                       VEREADORES          ISENTO   3788003.00\n",
              "6346   FUNCIONARIOS CARGOS EM COMISSA          ISENTO   3539000.00\n",
              "16928           FUNCIONARIOS EFETIVOS          ISENTO   3400000.00\n",
              "31337           FUNCIONARIOS EFETIVOS          ISENTO   3100000.00"
            ]
          },
          "metadata": {
            "tags": []
          },
          "execution_count": 59
        }
      ]
    },
    {
      "cell_type": "code",
      "metadata": {
        "id": "YrDwnu9NJUOG",
        "colab_type": "code",
        "colab": {}
      },
      "source": [
        "# ATRIBUINDO VARIÁVEL A  VEZES ONDE MAIS FORAM ACIONADAS COMPANHIAS OU PESSOAS \n",
        "# CRIANDO DATAFRAME COM O RESULTADO E COLOCANDO O ÍNDICE NO LADO ESQUERDO \n",
        "companhia_ou_pessoa = df.company_or_person.value_counts ().to_frame ().reset_index ()"
      ],
      "execution_count": 0,
      "outputs": []
    },
    {
      "cell_type": "code",
      "metadata": {
        "id": "ipXttoyzJUOZ",
        "colab_type": "code",
        "colab": {}
      },
      "source": [
        "# ATRIBUINDO VARIÁVEL AO RESULTADO DAS TOP 10 PESSOAS FÍSICAS E JURÍDICAS MAIS ACIONADOS \n",
        "c_p_10 = companhia_ou_pessoa.head (10)"
      ],
      "execution_count": 0,
      "outputs": []
    },
    {
      "cell_type": "markdown",
      "metadata": {
        "id": "tta2UTpiJUO0",
        "colab_type": "text"
      },
      "source": [
        "PLOT GRÁFICO DOS RESULTADOS ABAIXO"
      ]
    },
    {
      "cell_type": "code",
      "metadata": {
        "id": "tF1h-BLUJUO4",
        "colab_type": "code",
        "outputId": "000da9d0-2fa8-4831-dc0a-0c7f45dc4763",
        "colab": {
          "base_uri": "https://localhost:8080/"
        }
      },
      "source": [
        "plt.figure(figsize=(15,6))\n",
        "c_p_10.plot(x='index',\n",
        "            y='company_or_person',\n",
        "            kind='barh',color='g'\n",
        "            )\n",
        "plt.xticks(rotation=35)\n",
        "plt.title('TOP 10 COMPANHIAS OU PESSOAS MAIS ACIONADOS')\n",
        "plt.show();"
      ],
      "execution_count": 0,
      "outputs": [
        {
          "output_type": "display_data",
          "data": {
            "text/plain": [
              "<Figure size 1080x432 with 0 Axes>"
            ]
          },
          "metadata": {
            "tags": []
          }
        },
        {
          "output_type": "display_data",
          "data": {
            "image/png": "[encoded data removed]",
            "text/plain": [
              "<Figure size 432x288 with 1 Axes>"
            ]
          },
          "metadata": {
            "tags": [],
            "needs_background": "light"
          }
        }
      ]
    },
    {
      "cell_type": "code",
      "metadata": {
        "id": "PptI7uT3JUPT",
        "colab_type": "code",
        "colab": {}
      },
      "source": [
        "# ATRIBUINDO VARIÁVEL c_p_10valor AO RESULTADO DA OPERAÇÃO ABAIXO SOBRE 10 MAIORES VALORES EM DINHEIRO POR COMPANHIAS OU PESSOAS PARA PREF. FSA \n",
        "c_p_10valor = df[['company_or_person','value']].nlargest(10,'value')"
      ],
      "execution_count": 0,
      "outputs": []
    },
    {
      "cell_type": "code",
      "metadata": {
        "id": "Os7cgg9tJUPo",
        "colab_type": "code",
        "colab": {}
      },
      "source": [
        "# SETANDO ÍNDICE PARA FACILITAR MANIPULAÇÃO PARA FAZER O GRÁFICO APARECER OS VALORES NOMINAIS NO EIXO X , E IMPLICANDO PARA FICAR SALVO EM MEMÓRIA \n",
        "c_p_10valor.reset_index(inplace=True)"
      ],
      "execution_count": 0,
      "outputs": []
    },
    {
      "cell_type": "markdown",
      "metadata": {
        "id": "Fv91YQZTJUP6",
        "colab_type": "text"
      },
      "source": [
        "PLOTES DOS GRÁFICOS COM RESULTADOS ABAIXO "
      ]
    },
    {
      "cell_type": "code",
      "metadata": {
        "id": "7JVV-d4ZJUP-",
        "colab_type": "code",
        "outputId": "5b7b6c41-2dda-4ac6-dfd7-09fe5cf84a1f",
        "colab": {
          "base_uri": "https://localhost:8080/"
        }
      },
      "source": [
        "plt.figure(figsize=(15,6))\n",
        "c_p_10valor.plot(x='company_or_person',\n",
        "                 y='value',color='y',\n",
        "                 kind='bar'\n",
        "                )\n",
        "plt.title('TOP 10 VALORES EM REAIS POR COMPANHIAS OU PESSOAS A PAR DA PREFEITURA FSA')\n",
        "plt.ylabel('VALORES EM R$')\n",
        "plt.show ();           "
      ],
      "execution_count": 0,
      "outputs": [
        {
          "output_type": "display_data",
          "data": {
            "text/plain": [
              "<Figure size 1080x432 with 0 Axes>"
            ]
          },
          "metadata": {
            "tags": []
          }
        },
        {
          "output_type": "display_data",
          "data": {
            "image/png": "[encoded data removed]",
            "text/plain": [
              "<Figure size 432x288 with 1 Axes>"
            ]
          },
          "metadata": {
            "tags": [],
            "needs_background": "light"
          }
        }
      ]
    },
    {
      "cell_type": "code",
      "metadata": {
        "id": "V8oy-i6KJUQR",
        "colab_type": "code",
        "outputId": "5cc62964-7689-4849-d511-4e01f3b4750f",
        "colab": {
          "base_uri": "https://localhost:8080/"
        }
      },
      "source": [
        "c_p_10valor = go.Bar(x = c_p_10valor['company_or_person'],\n",
        "                     y = c_p_10valor['value'],\n",
        "                     text=c_p_10valor['value'],\n",
        "                     textposition='auto')\n",
        "data = [c_p_10valor]\n",
        "layout = dict(title='TOP 10 VALORES R$ POR COMPANHIAS OU PESSOAS  PREFEITURA DE FEIRA DE SANTANA')\n",
        "fig = dict(data=data, layout=layout)\n",
        "\n",
        "py.iplot(fig)"
      ],
      "execution_count": 0,
      "outputs": [
        {
          "output_type": "display_data",
          "data": {
            "text/html": [
              "<html>\n",
              "<head><meta charset=\"utf-8\" /></head>\n",
              "<body>\n",
              "    <div>\n",
              "            <script src=\"https://cdnjs.cloudflare.com/ajax/libs/mathjax/2.7.5/MathJax.js?config=TeX-AMS-MML_SVG\"></script><script type=\"text/javascript\">if (window.MathJax) {MathJax.Hub.Config({SVG: {font: \"STIX-Web\"}});}</script>\n",
              "                <script type=\"text/javascript\">window.PlotlyConfig = {MathJaxConfig: 'local'};</script>\n",
              "        <script src=\"https://cdn.plot.ly/plotly-latest.min.js\"></script>    \n",
              "            <div id=\"f47696a7-d698-429f-9b1d-764cce846a7b\" class=\"plotly-graph-div\" style=\"height:525px; width:100%;\"></div>\n",
              "            <script type=\"text/javascript\">\n",
              "                \n",
              "                    window.PLOTLYENV=window.PLOTLYENV || {};\n",
              "                    \n",
              "                if (document.getElementById(\"f47696a7-d698-429f-9b1d-764cce846a7b\")) {\n",
              "                    Plotly.newPlot(\n",
              "                        'f47696a7-d698-429f-9b1d-764cce846a7b',\n",
              "                        [{\"text\": [12400000.0, 11300000.0, 10200000.0, 10000000.0, 8000000.0, 7000000.0, 4900000.0, 4200000.0, 4110000.0, 4110000.0], \"textposition\": \"auto\", \"type\": \"bar\", \"x\": [\"FUNCIONARIOS CARGOS EM COMISSA\", \"FUNCIONARIOS CARGOS EM COMISSA\", \"FUNCIONARIOS CARGOS EM COMISSA\", \"FUNCIONARIOS CARGOS EM COMISSA\", \"FUNCIONARIOS CARGOS EM COMISSA\", \"FUNCIONARIOS CARGOS EM COMISSA\", \"FUNCIONARIOS CARGOS EM COMISSA\", \"VEREADORES\", \"VEREADORES\", \"VEREADORES\"], \"y\": [12400000.0, 11300000.0, 10200000.0, 10000000.0, 8000000.0, 7000000.0, 4900000.0, 4200000.0, 4110000.0, 4110000.0]}],\n",
              "                        {\"template\": {\"data\": {\"bar\": [{\"error_x\": {\"color\": \"#2a3f5f\"}, \"error_y\": {\"color\": \"#2a3f5f\"}, \"marker\": {\"line\": {\"color\": \"#E5ECF6\", \"width\": 0.5}}, \"type\": \"bar\"}], \"barpolar\": [{\"marker\": {\"line\": {\"color\": \"#E5ECF6\", \"width\": 0.5}}, \"type\": \"barpolar\"}], \"carpet\": [{\"aaxis\": {\"endlinecolor\": \"#2a3f5f\", \"gridcolor\": \"white\", \"linecolor\": \"white\", \"minorgridcolor\": \"white\", \"startlinecolor\": \"#2a3f5f\"}, \"baxis\": {\"endlinecolor\": \"#2a3f5f\", \"gridcolor\": \"white\", \"linecolor\": \"white\", \"minorgridcolor\": \"white\", \"startlinecolor\": \"#2a3f5f\"}, \"type\": \"carpet\"}], \"choropleth\": [{\"colorbar\": {\"outlinewidth\": 0, \"ticks\": \"\"}, \"type\": \"choropleth\"}], \"contour\": [{\"colorbar\": {\"outlinewidth\": 0, \"ticks\": \"\"}, \"colorscale\": [[0.0, \"#0d0887\"], [0.1111111111111111, \"#46039f\"], [0.2222222222222222, \"#7201a8\"], [0.3333333333333333, \"#9c179e\"], [0.4444444444444444, \"#bd3786\"], [0.5555555555555556, \"#d8576b\"], [0.6666666666666666, \"#ed7953\"], [0.7777777777777778, \"#fb9f3a\"], [0.8888888888888888, \"#fdca26\"], [1.0, \"#f0f921\"]], \"type\": \"contour\"}], \"contourcarpet\": [{\"colorbar\": {\"outlinewidth\": 0, \"ticks\": \"\"}, \"type\": \"contourcarpet\"}], \"heatmap\": [{\"colorbar\": {\"outlinewidth\": 0, \"ticks\": \"\"}, \"colorscale\": [[0.0, \"#0d0887\"], [0.1111111111111111, \"#46039f\"], [0.2222222222222222, \"#7201a8\"], [0.3333333333333333, \"#9c179e\"], [0.4444444444444444, \"#bd3786\"], [0.5555555555555556, \"#d8576b\"], [0.6666666666666666, \"#ed7953\"], [0.7777777777777778, \"#fb9f3a\"], [0.8888888888888888, \"#fdca26\"], [1.0, \"#f0f921\"]], \"type\": \"heatmap\"}], \"heatmapgl\": [{\"colorbar\": {\"outlinewidth\": 0, \"ticks\": \"\"}, \"colorscale\": [[0.0, \"#0d0887\"], [0.1111111111111111, \"#46039f\"], [0.2222222222222222, \"#7201a8\"], [0.3333333333333333, \"#9c179e\"], [0.4444444444444444, \"#bd3786\"], [0.5555555555555556, \"#d8576b\"], [0.6666666666666666, \"#ed7953\"], [0.7777777777777778, \"#fb9f3a\"], [0.8888888888888888, \"#fdca26\"], [1.0, \"#f0f921\"]], \"type\": \"heatmapgl\"}], \"histogram\": [{\"marker\": {\"colorbar\": {\"outlinewidth\": 0, \"ticks\": \"\"}}, \"type\": \"histogram\"}], \"histogram2d\": [{\"colorbar\": {\"outlinewidth\": 0, \"ticks\": \"\"}, \"colorscale\": [[0.0, \"#0d0887\"], [0.1111111111111111, \"#46039f\"], [0.2222222222222222, \"#7201a8\"], [0.3333333333333333, \"#9c179e\"], [0.4444444444444444, \"#bd3786\"], [0.5555555555555556, \"#d8576b\"], [0.6666666666666666, \"#ed7953\"], [0.7777777777777778, \"#fb9f3a\"], [0.8888888888888888, \"#fdca26\"], [1.0, \"#f0f921\"]], \"type\": \"histogram2d\"}], \"histogram2dcontour\": [{\"colorbar\": {\"outlinewidth\": 0, \"ticks\": \"\"}, \"colorscale\": [[0.0, \"#0d0887\"], [0.1111111111111111, \"#46039f\"], [0.2222222222222222, \"#7201a8\"], [0.3333333333333333, \"#9c179e\"], [0.4444444444444444, \"#bd3786\"], [0.5555555555555556, \"#d8576b\"], [0.6666666666666666, \"#ed7953\"], [0.7777777777777778, \"#fb9f3a\"], [0.8888888888888888, \"#fdca26\"], [1.0, \"#f0f921\"]], \"type\": \"histogram2dcontour\"}], \"mesh3d\": [{\"colorbar\": {\"outlinewidth\": 0, \"ticks\": \"\"}, \"type\": \"mesh3d\"}], \"parcoords\": [{\"line\": {\"colorbar\": {\"outlinewidth\": 0, \"ticks\": \"\"}}, \"type\": \"parcoords\"}], \"pie\": [{\"automargin\": true, \"type\": \"pie\"}], \"scatter\": [{\"marker\": {\"colorbar\": {\"outlinewidth\": 0, \"ticks\": \"\"}}, \"type\": \"scatter\"}], \"scatter3d\": [{\"line\": {\"colorbar\": {\"outlinewidth\": 0, \"ticks\": \"\"}}, \"marker\": {\"colorbar\": {\"outlinewidth\": 0, \"ticks\": \"\"}}, \"type\": \"scatter3d\"}], \"scattercarpet\": [{\"marker\": {\"colorbar\": {\"outlinewidth\": 0, \"ticks\": \"\"}}, \"type\": \"scattercarpet\"}], \"scattergeo\": [{\"marker\": {\"colorbar\": {\"outlinewidth\": 0, \"ticks\": \"\"}}, \"type\": \"scattergeo\"}], \"scattergl\": [{\"marker\": {\"colorbar\": {\"outlinewidth\": 0, \"ticks\": \"\"}}, \"type\": \"scattergl\"}], \"scattermapbox\": [{\"marker\": {\"colorbar\": {\"outlinewidth\": 0, \"ticks\": \"\"}}, \"type\": \"scattermapbox\"}], \"scatterpolar\": [{\"marker\": {\"colorbar\": {\"outlinewidth\": 0, \"ticks\": \"\"}}, \"type\": \"scatterpolar\"}], \"scatterpolargl\": [{\"marker\": {\"colorbar\": {\"outlinewidth\": 0, \"ticks\": \"\"}}, \"type\": \"scatterpolargl\"}], \"scatterternary\": [{\"marker\": {\"colorbar\": {\"outlinewidth\": 0, \"ticks\": \"\"}}, \"type\": \"scatterternary\"}], \"surface\": [{\"colorbar\": {\"outlinewidth\": 0, \"ticks\": \"\"}, \"colorscale\": [[0.0, \"#0d0887\"], [0.1111111111111111, \"#46039f\"], [0.2222222222222222, \"#7201a8\"], [0.3333333333333333, \"#9c179e\"], [0.4444444444444444, \"#bd3786\"], [0.5555555555555556, \"#d8576b\"], [0.6666666666666666, \"#ed7953\"], [0.7777777777777778, \"#fb9f3a\"], [0.8888888888888888, \"#fdca26\"], [1.0, \"#f0f921\"]], \"type\": \"surface\"}], \"table\": [{\"cells\": {\"fill\": {\"color\": \"#EBF0F8\"}, \"line\": {\"color\": \"white\"}}, \"header\": {\"fill\": {\"color\": \"#C8D4E3\"}, \"line\": {\"color\": \"white\"}}, \"type\": \"table\"}]}, \"layout\": {\"annotationdefaults\": {\"arrowcolor\": \"#2a3f5f\", \"arrowhead\": 0, \"arrowwidth\": 1}, \"coloraxis\": {\"colorbar\": {\"outlinewidth\": 0, \"ticks\": \"\"}}, \"colorscale\": {\"diverging\": [[0, \"#8e0152\"], [0.1, \"#c51b7d\"], [0.2, \"#de77ae\"], [0.3, \"#f1b6da\"], [0.4, \"#fde0ef\"], [0.5, \"#f7f7f7\"], [0.6, \"#e6f5d0\"], [0.7, \"#b8e186\"], [0.8, \"#7fbc41\"], [0.9, \"#4d9221\"], [1, \"#276419\"]], \"sequential\": [[0.0, \"#0d0887\"], [0.1111111111111111, \"#46039f\"], [0.2222222222222222, \"#7201a8\"], [0.3333333333333333, \"#9c179e\"], [0.4444444444444444, \"#bd3786\"], [0.5555555555555556, \"#d8576b\"], [0.6666666666666666, \"#ed7953\"], [0.7777777777777778, \"#fb9f3a\"], [0.8888888888888888, \"#fdca26\"], [1.0, \"#f0f921\"]], \"sequentialminus\": [[0.0, \"#0d0887\"], [0.1111111111111111, \"#46039f\"], [0.2222222222222222, \"#7201a8\"], [0.3333333333333333, \"#9c179e\"], [0.4444444444444444, \"#bd3786\"], [0.5555555555555556, \"#d8576b\"], [0.6666666666666666, \"#ed7953\"], [0.7777777777777778, \"#fb9f3a\"], [0.8888888888888888, \"#fdca26\"], [1.0, \"#f0f921\"]]}, \"colorway\": [\"#636efa\", \"#EF553B\", \"#00cc96\", \"#ab63fa\", \"#FFA15A\", \"#19d3f3\", \"#FF6692\", \"#B6E880\", \"#FF97FF\", \"#FECB52\"], \"font\": {\"color\": \"#2a3f5f\"}, \"geo\": {\"bgcolor\": \"white\", \"lakecolor\": \"white\", \"landcolor\": \"#E5ECF6\", \"showlakes\": true, \"showland\": true, \"subunitcolor\": \"white\"}, \"hoverlabel\": {\"align\": \"left\"}, \"hovermode\": \"closest\", \"mapbox\": {\"style\": \"light\"}, \"paper_bgcolor\": \"white\", \"plot_bgcolor\": \"#E5ECF6\", \"polar\": {\"angularaxis\": {\"gridcolor\": \"white\", \"linecolor\": \"white\", \"ticks\": \"\"}, \"bgcolor\": \"#E5ECF6\", \"radialaxis\": {\"gridcolor\": \"white\", \"linecolor\": \"white\", \"ticks\": \"\"}}, \"scene\": {\"xaxis\": {\"backgroundcolor\": \"#E5ECF6\", \"gridcolor\": \"white\", \"gridwidth\": 2, \"linecolor\": \"white\", \"showbackground\": true, \"ticks\": \"\", \"zerolinecolor\": \"white\"}, \"yaxis\": {\"backgroundcolor\": \"#E5ECF6\", \"gridcolor\": \"white\", \"gridwidth\": 2, \"linecolor\": \"white\", \"showbackground\": true, \"ticks\": \"\", \"zerolinecolor\": \"white\"}, \"zaxis\": {\"backgroundcolor\": \"#E5ECF6\", \"gridcolor\": \"white\", \"gridwidth\": 2, \"linecolor\": \"white\", \"showbackground\": true, \"ticks\": \"\", \"zerolinecolor\": \"white\"}}, \"shapedefaults\": {\"line\": {\"color\": \"#2a3f5f\"}}, \"ternary\": {\"aaxis\": {\"gridcolor\": \"white\", \"linecolor\": \"white\", \"ticks\": \"\"}, \"baxis\": {\"gridcolor\": \"white\", \"linecolor\": \"white\", \"ticks\": \"\"}, \"bgcolor\": \"#E5ECF6\", \"caxis\": {\"gridcolor\": \"white\", \"linecolor\": \"white\", \"ticks\": \"\"}}, \"title\": {\"x\": 0.05}, \"xaxis\": {\"automargin\": true, \"gridcolor\": \"white\", \"linecolor\": \"white\", \"ticks\": \"\", \"title\": {\"standoff\": 15}, \"zerolinecolor\": \"white\", \"zerolinewidth\": 2}, \"yaxis\": {\"automargin\": true, \"gridcolor\": \"white\", \"linecolor\": \"white\", \"ticks\": \"\", \"title\": {\"standoff\": 15}, \"zerolinecolor\": \"white\", \"zerolinewidth\": 2}}}, \"title\": {\"text\": \"TOP 10 VALORES R$ POR COMPANHIAS OU PESSOAS  PREFEITURA DE FEIRA DE SANTANA\"}},\n",
              "                        {\"responsive\": true}\n",
              "                    ).then(function(){\n",
              "                            \n",
              "var gd = document.getElementById('f47696a7-d698-429f-9b1d-764cce846a7b');\n",
              "var x = new MutationObserver(function (mutations, observer) {{\n",
              "        var display = window.getComputedStyle(gd).display;\n",
              "        if (!display || display === 'none') {{\n",
              "            console.log([gd, 'removed!']);\n",
              "            Plotly.purge(gd);\n",
              "            observer.disconnect();\n",
              "        }}\n",
              "}});\n",
              "\n",
              "// Listen for the removal of the full notebook cells\n",
              "var notebookContainer = gd.closest('#notebook-container');\n",
              "if (notebookContainer) {{\n",
              "    x.observe(notebookContainer, {childList: true});\n",
              "}}\n",
              "\n",
              "// Listen for the clearing of the current output cell\n",
              "var outputEl = gd.closest('.output');\n",
              "if (outputEl) {{\n",
              "    x.observe(outputEl, {childList: true});\n",
              "}}\n",
              "\n",
              "                        })\n",
              "                };\n",
              "                \n",
              "            </script>\n",
              "        </div>\n",
              "</body>\n",
              "</html>"
            ]
          },
          "metadata": {
            "tags": []
          }
        }
      ]
    },
    {
      "cell_type": "markdown",
      "metadata": {
        "id": "P0km7Il4JUQs",
        "colab_type": "text"
      },
      "source": [
        "### ANÁLISE PARA GRUPO EM AÇÕES LEGISLATIVAS "
      ]
    },
    {
      "cell_type": "code",
      "metadata": {
        "id": "XQIbdx3-JUQw",
        "colab_type": "code",
        "outputId": "d42bd155-4d35-401c-bbbd-0fb6a0425dd2",
        "colab": {
          "base_uri": "https://localhost:8080/"
        }
      },
      "source": [
        "# NÚMEROS DE AÇÕES POR GRUPOS EM ATIVIDADE LEGISLATIVA \n",
        "df.group.value_counts()"
      ],
      "execution_count": 0,
      "outputs": [
        {
          "output_type": "execute_result",
          "data": {
            "text/plain": [
              "Manutencao dos servicos tecnico administrativos    23495\n",
              "Administracao de pessoal e encargos                 8869\n",
              "Administracao da acao legislativa                    871\n",
              "Name: group, dtype: int64"
            ]
          },
          "metadata": {
            "tags": []
          },
          "execution_count": 67
        }
      ]
    },
    {
      "cell_type": "markdown",
      "metadata": {
        "id": "JM8Lx1NdJURK",
        "colab_type": "text"
      },
      "source": [
        "### GRÁFICOS COM OS RESULTADOS ABAIXO "
      ]
    },
    {
      "cell_type": "code",
      "metadata": {
        "id": "Ot9bh6BhJURN",
        "colab_type": "code",
        "outputId": "f964e57c-ff4d-43ad-e8a8-ba7426baa7c5",
        "colab": {
          "base_uri": "https://localhost:8080/"
        }
      },
      "source": [
        "# GRÁFICO ELEGENDO OS NÚMEROS DE AÇÕES POR GRUPOS EM ATIVIDADE LEGISLATIVA \n",
        "df.group.value_counts().plot(kind='barh',color='g')\n",
        "plt.xticks([871,8869,23495])\n",
        "plt.grid (color='r')\n",
        "plt.title('NÚMEROS DE AÇÕES POR GRUPOS EM ATIVIDADE LEGISLATIVA PREF. FSA')\n",
        "plt.show();"
      ],
      "execution_count": 0,
      "outputs": [
        {
          "output_type": "display_data",
          "data": {
            "image/png": "[encoded data removed]",
            "text/plain": [
              "<Figure size 432x288 with 1 Axes>"
            ]
          },
          "metadata": {
            "tags": [],
            "needs_background": "light"
          }
        }
      ]
    },
    {
      "cell_type": "code",
      "metadata": {
        "id": "MiHsJsRzJURf",
        "colab_type": "code",
        "colab": {}
      },
      "source": [
        "# VENDO VALORES TOTAIS EM DINHEIRO POR GRUPOS LEGISLATIVOS \n",
        "# QUE NO CASO SÃO 3 ,COMO NO OUTPUT ABAIXO \n",
        "# ATRIBUINDO VARIÁVEL grupo_valor  \n",
        "grupo_valor = df.groupby(by='group')['value'].sum ()"
      ],
      "execution_count": 0,
      "outputs": []
    },
    {
      "cell_type": "code",
      "metadata": {
        "scrolled": false,
        "id": "QDj30BDdJURw",
        "colab_type": "code",
        "colab": {}
      },
      "source": [
        "# ATRIBUINDO VARIÁVEL grupo_valor AO DATAFRAME COM ÍNDICE SETADO A ESQUERDA \n",
        "# FACILITA A LÓGICA DO PLOTLY \n",
        "grupo_valor=grupo_valor.to_frame ().reset_index ()\n"
      ],
      "execution_count": 0,
      "outputs": []
    },
    {
      "cell_type": "code",
      "metadata": {
        "id": "zaiGE_ueJUSM",
        "colab_type": "code",
        "outputId": "18f3a2e6-68b6-4e39-ee5c-416c3bc08552",
        "colab": {
          "base_uri": "https://localhost:8080/"
        }
      },
      "source": [
        "grupo_valor = go.Bar(x = grupo_valor['group'],\n",
        "                     y = grupo_valor['value'],\n",
        "                     text = grupo_valor['value'],\n",
        "                     textposition = 'auto'\n",
        "                    )\n",
        "data = [grupo_valor]\n",
        "layout = dict(title='VALORES MÁXIMOS EM ESPÉCIE POR GRUPOS EM ATIVIDADE LEGISLATIVA')\n",
        "fig = dict(data=data, layout=layout)\n",
        "\n",
        "py.iplot(fig)"
      ],
      "execution_count": 0,
      "outputs": [
        {
          "output_type": "display_data",
          "data": {
            "text/html": [
              "<html>\n",
              "<head><meta charset=\"utf-8\" /></head>\n",
              "<body>\n",
              "    <div>\n",
              "            <script src=\"https://cdnjs.cloudflare.com/ajax/libs/mathjax/2.7.5/MathJax.js?config=TeX-AMS-MML_SVG\"></script><script type=\"text/javascript\">if (window.MathJax) {MathJax.Hub.Config({SVG: {font: \"STIX-Web\"}});}</script>\n",
              "                <script type=\"text/javascript\">window.PlotlyConfig = {MathJaxConfig: 'local'};</script>\n",
              "        <script src=\"https://cdn.plot.ly/plotly-latest.min.js\"></script>    \n",
              "            <div id=\"43084273-213d-4e34-a136-4b9ce77e48eb\" class=\"plotly-graph-div\" style=\"height:525px; width:100%;\"></div>\n",
              "            <script type=\"text/javascript\">\n",
              "                \n",
              "                    window.PLOTLYENV=window.PLOTLYENV || {};\n",
              "                    \n",
              "                if (document.getElementById(\"43084273-213d-4e34-a136-4b9ce77e48eb\")) {\n",
              "                    Plotly.newPlot(\n",
              "                        '43084273-213d-4e34-a136-4b9ce77e48eb',\n",
              "                        [{\"text\": [114189764.07000016, 348174271.77000016, 123694919.62999971], \"textposition\": \"auto\", \"type\": \"bar\", \"x\": [\"Administracao da acao legislativa\", \"Administracao de pessoal e encargos\", \"Manutencao dos servicos tecnico administrativos\"], \"y\": [114189764.07000016, 348174271.77000016, 123694919.62999971]}],\n",
              "                        {\"template\": {\"data\": {\"bar\": [{\"error_x\": {\"color\": \"#2a3f5f\"}, \"error_y\": {\"color\": \"#2a3f5f\"}, \"marker\": {\"line\": {\"color\": \"#E5ECF6\", \"width\": 0.5}}, \"type\": \"bar\"}], \"barpolar\": [{\"marker\": {\"line\": {\"color\": \"#E5ECF6\", \"width\": 0.5}}, \"type\": \"barpolar\"}], \"carpet\": [{\"aaxis\": {\"endlinecolor\": \"#2a3f5f\", \"gridcolor\": \"white\", \"linecolor\": \"white\", \"minorgridcolor\": \"white\", \"startlinecolor\": \"#2a3f5f\"}, \"baxis\": {\"endlinecolor\": \"#2a3f5f\", \"gridcolor\": \"white\", \"linecolor\": \"white\", \"minorgridcolor\": \"white\", \"startlinecolor\": \"#2a3f5f\"}, \"type\": \"carpet\"}], \"choropleth\": [{\"colorbar\": {\"outlinewidth\": 0, \"ticks\": \"\"}, \"type\": \"choropleth\"}], \"contour\": [{\"colorbar\": {\"outlinewidth\": 0, \"ticks\": \"\"}, \"colorscale\": [[0.0, \"#0d0887\"], [0.1111111111111111, \"#46039f\"], [0.2222222222222222, \"#7201a8\"], [0.3333333333333333, \"#9c179e\"], [0.4444444444444444, \"#bd3786\"], [0.5555555555555556, \"#d8576b\"], [0.6666666666666666, \"#ed7953\"], [0.7777777777777778, \"#fb9f3a\"], [0.8888888888888888, \"#fdca26\"], [1.0, \"#f0f921\"]], \"type\": \"contour\"}], \"contourcarpet\": [{\"colorbar\": {\"outlinewidth\": 0, \"ticks\": \"\"}, \"type\": \"contourcarpet\"}], \"heatmap\": [{\"colorbar\": {\"outlinewidth\": 0, \"ticks\": \"\"}, \"colorscale\": [[0.0, \"#0d0887\"], [0.1111111111111111, \"#46039f\"], [0.2222222222222222, \"#7201a8\"], [0.3333333333333333, \"#9c179e\"], [0.4444444444444444, \"#bd3786\"], [0.5555555555555556, \"#d8576b\"], [0.6666666666666666, \"#ed7953\"], [0.7777777777777778, \"#fb9f3a\"], [0.8888888888888888, \"#fdca26\"], [1.0, \"#f0f921\"]], \"type\": \"heatmap\"}], \"heatmapgl\": [{\"colorbar\": {\"outlinewidth\": 0, \"ticks\": \"\"}, \"colorscale\": [[0.0, \"#0d0887\"], [0.1111111111111111, \"#46039f\"], [0.2222222222222222, \"#7201a8\"], [0.3333333333333333, \"#9c179e\"], [0.4444444444444444, \"#bd3786\"], [0.5555555555555556, \"#d8576b\"], [0.6666666666666666, \"#ed7953\"], [0.7777777777777778, \"#fb9f3a\"], [0.8888888888888888, \"#fdca26\"], [1.0, \"#f0f921\"]], \"type\": \"heatmapgl\"}], \"histogram\": [{\"marker\": {\"colorbar\": {\"outlinewidth\": 0, \"ticks\": \"\"}}, \"type\": \"histogram\"}], \"histogram2d\": [{\"colorbar\": {\"outlinewidth\": 0, \"ticks\": \"\"}, \"colorscale\": [[0.0, \"#0d0887\"], [0.1111111111111111, \"#46039f\"], [0.2222222222222222, \"#7201a8\"], [0.3333333333333333, \"#9c179e\"], [0.4444444444444444, \"#bd3786\"], [0.5555555555555556, \"#d8576b\"], [0.6666666666666666, \"#ed7953\"], [0.7777777777777778, \"#fb9f3a\"], [0.8888888888888888, \"#fdca26\"], [1.0, \"#f0f921\"]], \"type\": \"histogram2d\"}], \"histogram2dcontour\": [{\"colorbar\": {\"outlinewidth\": 0, \"ticks\": \"\"}, \"colorscale\": [[0.0, \"#0d0887\"], [0.1111111111111111, \"#46039f\"], [0.2222222222222222, \"#7201a8\"], [0.3333333333333333, \"#9c179e\"], [0.4444444444444444, \"#bd3786\"], [0.5555555555555556, \"#d8576b\"], [0.6666666666666666, \"#ed7953\"], [0.7777777777777778, \"#fb9f3a\"], [0.8888888888888888, \"#fdca26\"], [1.0, \"#f0f921\"]], \"type\": \"histogram2dcontour\"}], \"mesh3d\": [{\"colorbar\": {\"outlinewidth\": 0, \"ticks\": \"\"}, \"type\": \"mesh3d\"}], \"parcoords\": [{\"line\": {\"colorbar\": {\"outlinewidth\": 0, \"ticks\": \"\"}}, \"type\": \"parcoords\"}], \"pie\": [{\"automargin\": true, \"type\": \"pie\"}], \"scatter\": [{\"marker\": {\"colorbar\": {\"outlinewidth\": 0, \"ticks\": \"\"}}, \"type\": \"scatter\"}], \"scatter3d\": [{\"line\": {\"colorbar\": {\"outlinewidth\": 0, \"ticks\": \"\"}}, \"marker\": {\"colorbar\": {\"outlinewidth\": 0, \"ticks\": \"\"}}, \"type\": \"scatter3d\"}], \"scattercarpet\": [{\"marker\": {\"colorbar\": {\"outlinewidth\": 0, \"ticks\": \"\"}}, \"type\": \"scattercarpet\"}], \"scattergeo\": [{\"marker\": {\"colorbar\": {\"outlinewidth\": 0, \"ticks\": \"\"}}, \"type\": \"scattergeo\"}], \"scattergl\": [{\"marker\": {\"colorbar\": {\"outlinewidth\": 0, \"ticks\": \"\"}}, \"type\": \"scattergl\"}], \"scattermapbox\": [{\"marker\": {\"colorbar\": {\"outlinewidth\": 0, \"ticks\": \"\"}}, \"type\": \"scattermapbox\"}], \"scatterpolar\": [{\"marker\": {\"colorbar\": {\"outlinewidth\": 0, \"ticks\": \"\"}}, \"type\": \"scatterpolar\"}], \"scatterpolargl\": [{\"marker\": {\"colorbar\": {\"outlinewidth\": 0, \"ticks\": \"\"}}, \"type\": \"scatterpolargl\"}], \"scatterternary\": [{\"marker\": {\"colorbar\": {\"outlinewidth\": 0, \"ticks\": \"\"}}, \"type\": \"scatterternary\"}], \"surface\": [{\"colorbar\": {\"outlinewidth\": 0, \"ticks\": \"\"}, \"colorscale\": [[0.0, \"#0d0887\"], [0.1111111111111111, \"#46039f\"], [0.2222222222222222, \"#7201a8\"], [0.3333333333333333, \"#9c179e\"], [0.4444444444444444, \"#bd3786\"], [0.5555555555555556, \"#d8576b\"], [0.6666666666666666, \"#ed7953\"], [0.7777777777777778, \"#fb9f3a\"], [0.8888888888888888, \"#fdca26\"], [1.0, \"#f0f921\"]], \"type\": \"surface\"}], \"table\": [{\"cells\": {\"fill\": {\"color\": \"#EBF0F8\"}, \"line\": {\"color\": \"white\"}}, \"header\": {\"fill\": {\"color\": \"#C8D4E3\"}, \"line\": {\"color\": \"white\"}}, \"type\": \"table\"}]}, \"layout\": {\"annotationdefaults\": {\"arrowcolor\": \"#2a3f5f\", \"arrowhead\": 0, \"arrowwidth\": 1}, \"coloraxis\": {\"colorbar\": {\"outlinewidth\": 0, \"ticks\": \"\"}}, \"colorscale\": {\"diverging\": [[0, \"#8e0152\"], [0.1, \"#c51b7d\"], [0.2, \"#de77ae\"], [0.3, \"#f1b6da\"], [0.4, \"#fde0ef\"], [0.5, \"#f7f7f7\"], [0.6, \"#e6f5d0\"], [0.7, \"#b8e186\"], [0.8, \"#7fbc41\"], [0.9, \"#4d9221\"], [1, \"#276419\"]], \"sequential\": [[0.0, \"#0d0887\"], [0.1111111111111111, \"#46039f\"], [0.2222222222222222, \"#7201a8\"], [0.3333333333333333, \"#9c179e\"], [0.4444444444444444, \"#bd3786\"], [0.5555555555555556, \"#d8576b\"], [0.6666666666666666, \"#ed7953\"], [0.7777777777777778, \"#fb9f3a\"], [0.8888888888888888, \"#fdca26\"], [1.0, \"#f0f921\"]], \"sequentialminus\": [[0.0, \"#0d0887\"], [0.1111111111111111, \"#46039f\"], [0.2222222222222222, \"#7201a8\"], [0.3333333333333333, \"#9c179e\"], [0.4444444444444444, \"#bd3786\"], [0.5555555555555556, \"#d8576b\"], [0.6666666666666666, \"#ed7953\"], [0.7777777777777778, \"#fb9f3a\"], [0.8888888888888888, \"#fdca26\"], [1.0, \"#f0f921\"]]}, \"colorway\": [\"#636efa\", \"#EF553B\", \"#00cc96\", \"#ab63fa\", \"#FFA15A\", \"#19d3f3\", \"#FF6692\", \"#B6E880\", \"#FF97FF\", \"#FECB52\"], \"font\": {\"color\": \"#2a3f5f\"}, \"geo\": {\"bgcolor\": \"white\", \"lakecolor\": \"white\", \"landcolor\": \"#E5ECF6\", \"showlakes\": true, \"showland\": true, \"subunitcolor\": \"white\"}, \"hoverlabel\": {\"align\": \"left\"}, \"hovermode\": \"closest\", \"mapbox\": {\"style\": \"light\"}, \"paper_bgcolor\": \"white\", \"plot_bgcolor\": \"#E5ECF6\", \"polar\": {\"angularaxis\": {\"gridcolor\": \"white\", \"linecolor\": \"white\", \"ticks\": \"\"}, \"bgcolor\": \"#E5ECF6\", \"radialaxis\": {\"gridcolor\": \"white\", \"linecolor\": \"white\", \"ticks\": \"\"}}, \"scene\": {\"xaxis\": {\"backgroundcolor\": \"#E5ECF6\", \"gridcolor\": \"white\", \"gridwidth\": 2, \"linecolor\": \"white\", \"showbackground\": true, \"ticks\": \"\", \"zerolinecolor\": \"white\"}, \"yaxis\": {\"backgroundcolor\": \"#E5ECF6\", \"gridcolor\": \"white\", \"gridwidth\": 2, \"linecolor\": \"white\", \"showbackground\": true, \"ticks\": \"\", \"zerolinecolor\": \"white\"}, \"zaxis\": {\"backgroundcolor\": \"#E5ECF6\", \"gridcolor\": \"white\", \"gridwidth\": 2, \"linecolor\": \"white\", \"showbackground\": true, \"ticks\": \"\", \"zerolinecolor\": \"white\"}}, \"shapedefaults\": {\"line\": {\"color\": \"#2a3f5f\"}}, \"ternary\": {\"aaxis\": {\"gridcolor\": \"white\", \"linecolor\": \"white\", \"ticks\": \"\"}, \"baxis\": {\"gridcolor\": \"white\", \"linecolor\": \"white\", \"ticks\": \"\"}, \"bgcolor\": \"#E5ECF6\", \"caxis\": {\"gridcolor\": \"white\", \"linecolor\": \"white\", \"ticks\": \"\"}}, \"title\": {\"x\": 0.05}, \"xaxis\": {\"automargin\": true, \"gridcolor\": \"white\", \"linecolor\": \"white\", \"ticks\": \"\", \"title\": {\"standoff\": 15}, \"zerolinecolor\": \"white\", \"zerolinewidth\": 2}, \"yaxis\": {\"automargin\": true, \"gridcolor\": \"white\", \"linecolor\": \"white\", \"ticks\": \"\", \"title\": {\"standoff\": 15}, \"zerolinecolor\": \"white\", \"zerolinewidth\": 2}}}, \"title\": {\"text\": \"VALORES M\\u00c1XIMOS EM ESP\\u00c9CIE POR GRUPOS EM ATIVIDADE LEGISLATIVA\"}},\n",
              "                        {\"responsive\": true}\n",
              "                    ).then(function(){\n",
              "                            \n",
              "var gd = document.getElementById('43084273-213d-4e34-a136-4b9ce77e48eb');\n",
              "var x = new MutationObserver(function (mutations, observer) {{\n",
              "        var display = window.getComputedStyle(gd).display;\n",
              "        if (!display || display === 'none') {{\n",
              "            console.log([gd, 'removed!']);\n",
              "            Plotly.purge(gd);\n",
              "            observer.disconnect();\n",
              "        }}\n",
              "}});\n",
              "\n",
              "// Listen for the removal of the full notebook cells\n",
              "var notebookContainer = gd.closest('#notebook-container');\n",
              "if (notebookContainer) {{\n",
              "    x.observe(notebookContainer, {childList: true});\n",
              "}}\n",
              "\n",
              "// Listen for the clearing of the current output cell\n",
              "var outputEl = gd.closest('.output');\n",
              "if (outputEl) {{\n",
              "    x.observe(outputEl, {childList: true});\n",
              "}}\n",
              "\n",
              "                        })\n",
              "                };\n",
              "                \n",
              "            </script>\n",
              "        </div>\n",
              "</body>\n",
              "</html>"
            ]
          },
          "metadata": {
            "tags": []
          }
        }
      ]
    },
    {
      "cell_type": "code",
      "metadata": {
        "id": "8KXmWKdvJUSx",
        "colab_type": "code",
        "outputId": "12cdf36e-db6b-4fce-a356-c956a2a58baa",
        "colab": {
          "base_uri": "https://localhost:8080/"
        }
      },
      "source": [
        "df.tail ()"
      ],
      "execution_count": 0,
      "outputs": [
        {
          "output_type": "execute_result",
          "data": {
            "text/html": [
              "<div>\n",
              "<style scoped>\n",
              "    .dataframe tbody tr th:only-of-type {\n",
              "        vertical-align: middle;\n",
              "    }\n",
              "\n",
              "    .dataframe tbody tr th {\n",
              "        vertical-align: top;\n",
              "    }\n",
              "\n",
              "    .dataframe thead th {\n",
              "        text-align: right;\n",
              "    }\n",
              "</style>\n",
              "<table border=\"1\" class=\"dataframe\">\n",
              "  <thead>\n",
              "    <tr style=\"text-align: right;\">\n",
              "      <th></th>\n",
              "      <th>company_or_person</th>\n",
              "      <th>crawled_at</th>\n",
              "      <th>crawled_from</th>\n",
              "      <th>date</th>\n",
              "      <th>document</th>\n",
              "      <th>function</th>\n",
              "      <th>group</th>\n",
              "      <th>legal_status</th>\n",
              "      <th>number</th>\n",
              "      <th>phase</th>\n",
              "      <th>process_number</th>\n",
              "      <th>published_at</th>\n",
              "      <th>resource</th>\n",
              "      <th>subfunction</th>\n",
              "      <th>subgroup</th>\n",
              "      <th>summary</th>\n",
              "      <th>type_of_process</th>\n",
              "      <th>value</th>\n",
              "    </tr>\n",
              "  </thead>\n",
              "  <tbody>\n",
              "    <tr>\n",
              "      <th>35530</th>\n",
              "      <td>VALE TRANSPORTES</td>\n",
              "      <td>2020-04-11 10:15:10.732686</td>\n",
              "      <td>https://www.transparencia.feiradesantana.ba.le...</td>\n",
              "      <td>2020-03-20</td>\n",
              "      <td>14.488.415/0001-60</td>\n",
              "      <td>NaN</td>\n",
              "      <td>NaN</td>\n",
              "      <td>NaN</td>\n",
              "      <td>00271-20</td>\n",
              "      <td>pagamento</td>\n",
              "      <td>NaN</td>\n",
              "      <td>2020-03-20</td>\n",
              "      <td>NaN</td>\n",
              "      <td>NaN</td>\n",
              "      <td>NaN</td>\n",
              "      <td>PAGAMENTO EXTRA-ORCAMENTARIO NUMERO:000058</td>\n",
              "      <td>NaN</td>\n",
              "      <td>214.87</td>\n",
              "    </tr>\n",
              "    <tr>\n",
              "      <th>35531</th>\n",
              "      <td>VEREADORES</td>\n",
              "      <td>2020-04-11 10:15:10.736784</td>\n",
              "      <td>https://www.transparencia.feiradesantana.ba.le...</td>\n",
              "      <td>2020-03-20</td>\n",
              "      <td>14.488.415/0001-60</td>\n",
              "      <td>01 - LEGISLATIVA</td>\n",
              "      <td>Administracao da acao legislativa</td>\n",
              "      <td>319011010000 - V.Vant.Fixas P.Civil(Ve.Base Fo...</td>\n",
              "      <td>00261-20</td>\n",
              "      <td>pagamento</td>\n",
              "      <td>NaN</td>\n",
              "      <td>2020-03-20</td>\n",
              "      <td>0000 - TESOURO</td>\n",
              "      <td>031 - ACAO</td>\n",
              "      <td>V.Vant.Fixas P.Civil(Ve.Base Folha)</td>\n",
              "      <td>REF A SUBSÍDIOS DOS VEREADORES, MÊS DE MARÇO/2...</td>\n",
              "      <td>ISENTO</td>\n",
              "      <td>8318.32</td>\n",
              "    </tr>\n",
              "    <tr>\n",
              "      <th>35532</th>\n",
              "      <td>VEREADORES</td>\n",
              "      <td>2020-04-11 10:15:10.739669</td>\n",
              "      <td>https://www.transparencia.feiradesantana.ba.le...</td>\n",
              "      <td>2020-03-20</td>\n",
              "      <td>14.488.415/0001-60</td>\n",
              "      <td>01 - LEGISLATIVA</td>\n",
              "      <td>Administracao da acao legislativa</td>\n",
              "      <td>319011010000 - V.Vant.Fixas P.Civil(Ve.Base Fo...</td>\n",
              "      <td>00262-20</td>\n",
              "      <td>pagamento</td>\n",
              "      <td>NaN</td>\n",
              "      <td>2020-03-20</td>\n",
              "      <td>0000 - TESOURO</td>\n",
              "      <td>031 - ACAO</td>\n",
              "      <td>V.Vant.Fixas P.Civil(Ve.Base Folha)</td>\n",
              "      <td>REF A SUBSÍDIOS DOS VEREADORES, MÊS DE MARÇO/2...</td>\n",
              "      <td>ISENTO</td>\n",
              "      <td>9362.51</td>\n",
              "    </tr>\n",
              "    <tr>\n",
              "      <th>35533</th>\n",
              "      <td>IPFS - INST. DE PREV. DOS SERV</td>\n",
              "      <td>2020-04-11 10:15:10.744187</td>\n",
              "      <td>https://www.transparencia.feiradesantana.ba.le...</td>\n",
              "      <td>2020-03-20</td>\n",
              "      <td>42.743.658/0001-33</td>\n",
              "      <td>01 - LEGISLATIVA</td>\n",
              "      <td>Administracao da acao legislativa</td>\n",
              "      <td>319113020000 - Cont.p/Reg.Proprio Prev.ser.RPP...</td>\n",
              "      <td>20000012/0006</td>\n",
              "      <td>liquidacao</td>\n",
              "      <td>NaN</td>\n",
              "      <td>2020-03-20</td>\n",
              "      <td>0000 - TESOURO</td>\n",
              "      <td>031 - ACAO</td>\n",
              "      <td>Cont.p/Reg.Proprio Prev.ser.RPPS</td>\n",
              "      <td>REF. OBRIGAÇÕES PATRONAIS SOBRE FOLHA DE VEREA...</td>\n",
              "      <td>ISENTO</td>\n",
              "      <td>605.10</td>\n",
              "    </tr>\n",
              "    <tr>\n",
              "      <th>35534</th>\n",
              "      <td>FUNCIONARIOS CARGOS EM COMISSA</td>\n",
              "      <td>2020-04-11 10:15:10.747130</td>\n",
              "      <td>https://www.transparencia.feiradesantana.ba.le...</td>\n",
              "      <td>2020-03-20</td>\n",
              "      <td>14.488.415/0001-60</td>\n",
              "      <td>01 - LEGISLATIVA</td>\n",
              "      <td>Manutencao dos servicos tecnico administrativos</td>\n",
              "      <td>339049000000 - Auxilio - Transporte           ...</td>\n",
              "      <td>00266-20</td>\n",
              "      <td>liquidacao</td>\n",
              "      <td>NaN</td>\n",
              "      <td>2020-03-20</td>\n",
              "      <td>0000 - TESOURO</td>\n",
              "      <td>031 - ACAO</td>\n",
              "      <td>Auxilio - Transporte</td>\n",
              "      <td>REF. A AUXÍLIO TRANSPORTE PARA OS SERVIDORES C...</td>\n",
              "      <td>ISENTO</td>\n",
              "      <td>14545.80</td>\n",
              "    </tr>\n",
              "  </tbody>\n",
              "</table>\n",
              "</div>"
            ],
            "text/plain": [
              "                    company_or_person  ...     value\n",
              "35530                VALE TRANSPORTES  ...    214.87\n",
              "35531                      VEREADORES  ...   8318.32\n",
              "35532                      VEREADORES  ...   9362.51\n",
              "35533  IPFS - INST. DE PREV. DOS SERV  ...    605.10\n",
              "35534  FUNCIONARIOS CARGOS EM COMISSA  ...  14545.80\n",
              "\n",
              "[5 rows x 18 columns]"
            ]
          },
          "metadata": {
            "tags": []
          },
          "execution_count": 72
        }
      ]
    },
    {
      "cell_type": "markdown",
      "metadata": {
        "id": "MpNkYztvJUTM",
        "colab_type": "text"
      },
      "source": [
        "### VISUALIZAÇÃO FASES POR CATEGORIAS "
      ]
    },
    {
      "cell_type": "code",
      "metadata": {
        "id": "5fX41sc2JUTR",
        "colab_type": "code",
        "outputId": "915047fa-e3ac-4304-f362-249cd9b4889b",
        "colab": {
          "base_uri": "https://localhost:8080/"
        }
      },
      "source": [
        "# GRÁFICO ELEGENDO FASES POR CATEGORIAS \n",
        "df.phase.value_counts ().plot(kind='bar',color=['r','y','g'])\n",
        "plt.xticks(rotation=360)\n",
        "plt.title('FASES DIVIDIDAS POR NÚMEROS DE AÇÕES PREF. FSA')\n",
        "plt.grid(color='c');"
      ],
      "execution_count": 0,
      "outputs": [
        {
          "output_type": "display_data",
          "data": {
            "image/png": "[encoded data removed]",
            "text/plain": [
              "<Figure size 432x288 with 1 Axes>"
            ]
          },
          "metadata": {
            "tags": [],
            "needs_background": "light"
          }
        }
      ]
    },
    {
      "cell_type": "code",
      "metadata": {
        "id": "z2TP5VcTJUT2",
        "colab_type": "code",
        "colab": {}
      },
      "source": [
        "# ATRIBUINDO VARIÁVEL fase_valor AO AGRUPAMENTO POR FASE COM VALORES SOMADOS \n",
        "fase_valor = df.groupby(by='phase')['value'].sum ()"
      ],
      "execution_count": 0,
      "outputs": []
    },
    {
      "cell_type": "code",
      "metadata": {
        "id": "iOzs1emvJUUL",
        "colab_type": "code",
        "colab": {}
      },
      "source": [
        "# CRIANDO DATAFRAME COM O RESULTADO DE fase_valor E ADICIONANDO ÍNDICE\n",
        "fase_valor = fase_valor.to_frame ().reset_index ()"
      ],
      "execution_count": 0,
      "outputs": []
    },
    {
      "cell_type": "code",
      "metadata": {
        "id": "BsEmqpftJUUl",
        "colab_type": "code",
        "outputId": "cf66a64f-4fde-4791-abfb-8aa623d284a2",
        "colab": {
          "base_uri": "https://localhost:8080/"
        }
      },
      "source": [
        "fase_valor"
      ],
      "execution_count": 0,
      "outputs": [
        {
          "output_type": "execute_result",
          "data": {
            "text/html": [
              "<div>\n",
              "<style scoped>\n",
              "    .dataframe tbody tr th:only-of-type {\n",
              "        vertical-align: middle;\n",
              "    }\n",
              "\n",
              "    .dataframe tbody tr th {\n",
              "        vertical-align: top;\n",
              "    }\n",
              "\n",
              "    .dataframe thead th {\n",
              "        text-align: right;\n",
              "    }\n",
              "</style>\n",
              "<table border=\"1\" class=\"dataframe\">\n",
              "  <thead>\n",
              "    <tr style=\"text-align: right;\">\n",
              "      <th></th>\n",
              "      <th>phase</th>\n",
              "      <th>value</th>\n",
              "    </tr>\n",
              "  </thead>\n",
              "  <tbody>\n",
              "    <tr>\n",
              "      <th>0</th>\n",
              "      <td>empenho</td>\n",
              "      <td>2.294989e+08</td>\n",
              "    </tr>\n",
              "    <tr>\n",
              "      <th>1</th>\n",
              "      <td>liquidacao</td>\n",
              "      <td>1.971263e+08</td>\n",
              "    </tr>\n",
              "    <tr>\n",
              "      <th>2</th>\n",
              "      <td>pagamento</td>\n",
              "      <td>1.878728e+08</td>\n",
              "    </tr>\n",
              "  </tbody>\n",
              "</table>\n",
              "</div>"
            ],
            "text/plain": [
              "        phase         value\n",
              "0     empenho  2.294989e+08\n",
              "1  liquidacao  1.971263e+08\n",
              "2   pagamento  1.878728e+08"
            ]
          },
          "metadata": {
            "tags": []
          },
          "execution_count": 76
        }
      ]
    },
    {
      "cell_type": "code",
      "metadata": {
        "id": "UnQNmW8OJUU9",
        "colab_type": "code",
        "outputId": "c3f39692-fe0b-4d10-a4f6-1a01d776cdb4",
        "colab": {
          "base_uri": "https://localhost:8080/"
        }
      },
      "source": [
        "fase_valor = go.Bar(x = fase_valor['phase'],\n",
        "                     y = fase_valor['value'],\n",
        "                     text = fase_valor['value'],\n",
        "                     textposition = 'auto')\n",
        "data = [fase_valor]\n",
        "layout = dict(title='VALORES MÁXIMOS EM ESPÉCIE POR FASES ADMINISTRATIVAS PREF. FSA')\n",
        "fig = dict(data=data, layout=layout)\n",
        " \n",
        "py.iplot(fig)"
      ],
      "execution_count": 0,
      "outputs": [
        {
          "output_type": "display_data",
          "data": {
            "text/html": [
              "<html>\n",
              "<head><meta charset=\"utf-8\" /></head>\n",
              "<body>\n",
              "    <div>\n",
              "            <script src=\"https://cdnjs.cloudflare.com/ajax/libs/mathjax/2.7.5/MathJax.js?config=TeX-AMS-MML_SVG\"></script><script type=\"text/javascript\">if (window.MathJax) {MathJax.Hub.Config({SVG: {font: \"STIX-Web\"}});}</script>\n",
              "                <script type=\"text/javascript\">window.PlotlyConfig = {MathJaxConfig: 'local'};</script>\n",
              "        <script src=\"https://cdn.plot.ly/plotly-latest.min.js\"></script>    \n",
              "            <div id=\"d28b06c9-afed-40ce-a422-246150658408\" class=\"plotly-graph-div\" style=\"height:525px; width:100%;\"></div>\n",
              "            <script type=\"text/javascript\">\n",
              "                \n",
              "                    window.PLOTLYENV=window.PLOTLYENV || {};\n",
              "                    \n",
              "                if (document.getElementById(\"d28b06c9-afed-40ce-a422-246150658408\")) {\n",
              "                    Plotly.newPlot(\n",
              "                        'd28b06c9-afed-40ce-a422-246150658408',\n",
              "                        [{\"text\": [229498925.07999974, 197126290.76999986, 187872780.65999946], \"textposition\": \"auto\", \"type\": \"bar\", \"x\": [\"empenho\", \"liquidacao\", \"pagamento\"], \"y\": [229498925.07999974, 197126290.76999986, 187872780.65999946]}],\n",
              "                        {\"template\": {\"data\": {\"bar\": [{\"error_x\": {\"color\": \"#2a3f5f\"}, \"error_y\": {\"color\": \"#2a3f5f\"}, \"marker\": {\"line\": {\"color\": \"#E5ECF6\", \"width\": 0.5}}, \"type\": \"bar\"}], \"barpolar\": [{\"marker\": {\"line\": {\"color\": \"#E5ECF6\", \"width\": 0.5}}, \"type\": \"barpolar\"}], \"carpet\": [{\"aaxis\": {\"endlinecolor\": \"#2a3f5f\", \"gridcolor\": \"white\", \"linecolor\": \"white\", \"minorgridcolor\": \"white\", \"startlinecolor\": \"#2a3f5f\"}, \"baxis\": {\"endlinecolor\": \"#2a3f5f\", \"gridcolor\": \"white\", \"linecolor\": \"white\", \"minorgridcolor\": \"white\", \"startlinecolor\": \"#2a3f5f\"}, \"type\": \"carpet\"}], \"choropleth\": [{\"colorbar\": {\"outlinewidth\": 0, \"ticks\": \"\"}, \"type\": \"choropleth\"}], \"contour\": [{\"colorbar\": {\"outlinewidth\": 0, \"ticks\": \"\"}, \"colorscale\": [[0.0, \"#0d0887\"], [0.1111111111111111, \"#46039f\"], [0.2222222222222222, \"#7201a8\"], [0.3333333333333333, \"#9c179e\"], [0.4444444444444444, \"#bd3786\"], [0.5555555555555556, \"#d8576b\"], [0.6666666666666666, \"#ed7953\"], [0.7777777777777778, \"#fb9f3a\"], [0.8888888888888888, \"#fdca26\"], [1.0, \"#f0f921\"]], \"type\": \"contour\"}], \"contourcarpet\": [{\"colorbar\": {\"outlinewidth\": 0, \"ticks\": \"\"}, \"type\": \"contourcarpet\"}], \"heatmap\": [{\"colorbar\": {\"outlinewidth\": 0, \"ticks\": \"\"}, \"colorscale\": [[0.0, \"#0d0887\"], [0.1111111111111111, \"#46039f\"], [0.2222222222222222, \"#7201a8\"], [0.3333333333333333, \"#9c179e\"], [0.4444444444444444, \"#bd3786\"], [0.5555555555555556, \"#d8576b\"], [0.6666666666666666, \"#ed7953\"], [0.7777777777777778, \"#fb9f3a\"], [0.8888888888888888, \"#fdca26\"], [1.0, \"#f0f921\"]], \"type\": \"heatmap\"}], \"heatmapgl\": [{\"colorbar\": {\"outlinewidth\": 0, \"ticks\": \"\"}, \"colorscale\": [[0.0, \"#0d0887\"], [0.1111111111111111, \"#46039f\"], [0.2222222222222222, \"#7201a8\"], [0.3333333333333333, \"#9c179e\"], [0.4444444444444444, \"#bd3786\"], [0.5555555555555556, \"#d8576b\"], [0.6666666666666666, \"#ed7953\"], [0.7777777777777778, \"#fb9f3a\"], [0.8888888888888888, \"#fdca26\"], [1.0, \"#f0f921\"]], \"type\": \"heatmapgl\"}], \"histogram\": [{\"marker\": {\"colorbar\": {\"outlinewidth\": 0, \"ticks\": \"\"}}, \"type\": \"histogram\"}], \"histogram2d\": [{\"colorbar\": {\"outlinewidth\": 0, \"ticks\": \"\"}, \"colorscale\": [[0.0, \"#0d0887\"], [0.1111111111111111, \"#46039f\"], [0.2222222222222222, \"#7201a8\"], [0.3333333333333333, \"#9c179e\"], [0.4444444444444444, \"#bd3786\"], [0.5555555555555556, \"#d8576b\"], [0.6666666666666666, \"#ed7953\"], [0.7777777777777778, \"#fb9f3a\"], [0.8888888888888888, \"#fdca26\"], [1.0, \"#f0f921\"]], \"type\": \"histogram2d\"}], \"histogram2dcontour\": [{\"colorbar\": {\"outlinewidth\": 0, \"ticks\": \"\"}, \"colorscale\": [[0.0, \"#0d0887\"], [0.1111111111111111, \"#46039f\"], [0.2222222222222222, \"#7201a8\"], [0.3333333333333333, \"#9c179e\"], [0.4444444444444444, \"#bd3786\"], [0.5555555555555556, \"#d8576b\"], [0.6666666666666666, \"#ed7953\"], [0.7777777777777778, \"#fb9f3a\"], [0.8888888888888888, \"#fdca26\"], [1.0, \"#f0f921\"]], \"type\": \"histogram2dcontour\"}], \"mesh3d\": [{\"colorbar\": {\"outlinewidth\": 0, \"ticks\": \"\"}, \"type\": \"mesh3d\"}], \"parcoords\": [{\"line\": {\"colorbar\": {\"outlinewidth\": 0, \"ticks\": \"\"}}, \"type\": \"parcoords\"}], \"pie\": [{\"automargin\": true, \"type\": \"pie\"}], \"scatter\": [{\"marker\": {\"colorbar\": {\"outlinewidth\": 0, \"ticks\": \"\"}}, \"type\": \"scatter\"}], \"scatter3d\": [{\"line\": {\"colorbar\": {\"outlinewidth\": 0, \"ticks\": \"\"}}, \"marker\": {\"colorbar\": {\"outlinewidth\": 0, \"ticks\": \"\"}}, \"type\": \"scatter3d\"}], \"scattercarpet\": [{\"marker\": {\"colorbar\": {\"outlinewidth\": 0, \"ticks\": \"\"}}, \"type\": \"scattercarpet\"}], \"scattergeo\": [{\"marker\": {\"colorbar\": {\"outlinewidth\": 0, \"ticks\": \"\"}}, \"type\": \"scattergeo\"}], \"scattergl\": [{\"marker\": {\"colorbar\": {\"outlinewidth\": 0, \"ticks\": \"\"}}, \"type\": \"scattergl\"}], \"scattermapbox\": [{\"marker\": {\"colorbar\": {\"outlinewidth\": 0, \"ticks\": \"\"}}, \"type\": \"scattermapbox\"}], \"scatterpolar\": [{\"marker\": {\"colorbar\": {\"outlinewidth\": 0, \"ticks\": \"\"}}, \"type\": \"scatterpolar\"}], \"scatterpolargl\": [{\"marker\": {\"colorbar\": {\"outlinewidth\": 0, \"ticks\": \"\"}}, \"type\": \"scatterpolargl\"}], \"scatterternary\": [{\"marker\": {\"colorbar\": {\"outlinewidth\": 0, \"ticks\": \"\"}}, \"type\": \"scatterternary\"}], \"surface\": [{\"colorbar\": {\"outlinewidth\": 0, \"ticks\": \"\"}, \"colorscale\": [[0.0, \"#0d0887\"], [0.1111111111111111, \"#46039f\"], [0.2222222222222222, \"#7201a8\"], [0.3333333333333333, \"#9c179e\"], [0.4444444444444444, \"#bd3786\"], [0.5555555555555556, \"#d8576b\"], [0.6666666666666666, \"#ed7953\"], [0.7777777777777778, \"#fb9f3a\"], [0.8888888888888888, \"#fdca26\"], [1.0, \"#f0f921\"]], \"type\": \"surface\"}], \"table\": [{\"cells\": {\"fill\": {\"color\": \"#EBF0F8\"}, \"line\": {\"color\": \"white\"}}, \"header\": {\"fill\": {\"color\": \"#C8D4E3\"}, \"line\": {\"color\": \"white\"}}, \"type\": \"table\"}]}, \"layout\": {\"annotationdefaults\": {\"arrowcolor\": \"#2a3f5f\", \"arrowhead\": 0, \"arrowwidth\": 1}, \"coloraxis\": {\"colorbar\": {\"outlinewidth\": 0, \"ticks\": \"\"}}, \"colorscale\": {\"diverging\": [[0, \"#8e0152\"], [0.1, \"#c51b7d\"], [0.2, \"#de77ae\"], [0.3, \"#f1b6da\"], [0.4, \"#fde0ef\"], [0.5, \"#f7f7f7\"], [0.6, \"#e6f5d0\"], [0.7, \"#b8e186\"], [0.8, \"#7fbc41\"], [0.9, \"#4d9221\"], [1, \"#276419\"]], \"sequential\": [[0.0, \"#0d0887\"], [0.1111111111111111, \"#46039f\"], [0.2222222222222222, \"#7201a8\"], [0.3333333333333333, \"#9c179e\"], [0.4444444444444444, \"#bd3786\"], [0.5555555555555556, \"#d8576b\"], [0.6666666666666666, \"#ed7953\"], [0.7777777777777778, \"#fb9f3a\"], [0.8888888888888888, \"#fdca26\"], [1.0, \"#f0f921\"]], \"sequentialminus\": [[0.0, \"#0d0887\"], [0.1111111111111111, \"#46039f\"], [0.2222222222222222, \"#7201a8\"], [0.3333333333333333, \"#9c179e\"], [0.4444444444444444, \"#bd3786\"], [0.5555555555555556, \"#d8576b\"], [0.6666666666666666, \"#ed7953\"], [0.7777777777777778, \"#fb9f3a\"], [0.8888888888888888, \"#fdca26\"], [1.0, \"#f0f921\"]]}, \"colorway\": [\"#636efa\", \"#EF553B\", \"#00cc96\", \"#ab63fa\", \"#FFA15A\", \"#19d3f3\", \"#FF6692\", \"#B6E880\", \"#FF97FF\", \"#FECB52\"], \"font\": {\"color\": \"#2a3f5f\"}, \"geo\": {\"bgcolor\": \"white\", \"lakecolor\": \"white\", \"landcolor\": \"#E5ECF6\", \"showlakes\": true, \"showland\": true, \"subunitcolor\": \"white\"}, \"hoverlabel\": {\"align\": \"left\"}, \"hovermode\": \"closest\", \"mapbox\": {\"style\": \"light\"}, \"paper_bgcolor\": \"white\", \"plot_bgcolor\": \"#E5ECF6\", \"polar\": {\"angularaxis\": {\"gridcolor\": \"white\", \"linecolor\": \"white\", \"ticks\": \"\"}, \"bgcolor\": \"#E5ECF6\", \"radialaxis\": {\"gridcolor\": \"white\", \"linecolor\": \"white\", \"ticks\": \"\"}}, \"scene\": {\"xaxis\": {\"backgroundcolor\": \"#E5ECF6\", \"gridcolor\": \"white\", \"gridwidth\": 2, \"linecolor\": \"white\", \"showbackground\": true, \"ticks\": \"\", \"zerolinecolor\": \"white\"}, \"yaxis\": {\"backgroundcolor\": \"#E5ECF6\", \"gridcolor\": \"white\", \"gridwidth\": 2, \"linecolor\": \"white\", \"showbackground\": true, \"ticks\": \"\", \"zerolinecolor\": \"white\"}, \"zaxis\": {\"backgroundcolor\": \"#E5ECF6\", \"gridcolor\": \"white\", \"gridwidth\": 2, \"linecolor\": \"white\", \"showbackground\": true, \"ticks\": \"\", \"zerolinecolor\": \"white\"}}, \"shapedefaults\": {\"line\": {\"color\": \"#2a3f5f\"}}, \"ternary\": {\"aaxis\": {\"gridcolor\": \"white\", \"linecolor\": \"white\", \"ticks\": \"\"}, \"baxis\": {\"gridcolor\": \"white\", \"linecolor\": \"white\", \"ticks\": \"\"}, \"bgcolor\": \"#E5ECF6\", \"caxis\": {\"gridcolor\": \"white\", \"linecolor\": \"white\", \"ticks\": \"\"}}, \"title\": {\"x\": 0.05}, \"xaxis\": {\"automargin\": true, \"gridcolor\": \"white\", \"linecolor\": \"white\", \"ticks\": \"\", \"title\": {\"standoff\": 15}, \"zerolinecolor\": \"white\", \"zerolinewidth\": 2}, \"yaxis\": {\"automargin\": true, \"gridcolor\": \"white\", \"linecolor\": \"white\", \"ticks\": \"\", \"title\": {\"standoff\": 15}, \"zerolinecolor\": \"white\", \"zerolinewidth\": 2}}}, \"title\": {\"text\": \"VALORES M\\u00c1XIMOS EM ESP\\u00c9CIE POR FASES ADMINISTRATIVAS PREF. FSA\"}},\n",
              "                        {\"responsive\": true}\n",
              "                    ).then(function(){\n",
              "                            \n",
              "var gd = document.getElementById('d28b06c9-afed-40ce-a422-246150658408');\n",
              "var x = new MutationObserver(function (mutations, observer) {{\n",
              "        var display = window.getComputedStyle(gd).display;\n",
              "        if (!display || display === 'none') {{\n",
              "            console.log([gd, 'removed!']);\n",
              "            Plotly.purge(gd);\n",
              "            observer.disconnect();\n",
              "        }}\n",
              "}});\n",
              "\n",
              "// Listen for the removal of the full notebook cells\n",
              "var notebookContainer = gd.closest('#notebook-container');\n",
              "if (notebookContainer) {{\n",
              "    x.observe(notebookContainer, {childList: true});\n",
              "}}\n",
              "\n",
              "// Listen for the clearing of the current output cell\n",
              "var outputEl = gd.closest('.output');\n",
              "if (outputEl) {{\n",
              "    x.observe(outputEl, {childList: true});\n",
              "}}\n",
              "\n",
              "                        })\n",
              "                };\n",
              "                \n",
              "            </script>\n",
              "        </div>\n",
              "</body>\n",
              "</html>"
            ]
          },
          "metadata": {
            "tags": []
          }
        }
      ]
    },
    {
      "cell_type": "markdown",
      "metadata": {
        "id": "sFktM3ygJUVU",
        "colab_type": "text"
      },
      "source": [
        "### ANÁLISE DOS STATUS LEGAIS NOS 10 MAIORES VALORES EM ESPÉCIE ABAIXO "
      ]
    },
    {
      "cell_type": "code",
      "metadata": {
        "id": "z5rflc2fJUVZ",
        "colab_type": "code",
        "colab": {}
      },
      "source": [
        "# ATRIBUINDO VARIÁVEL status_legal_v AO AGRUPAMENTO DA COLUNA legal_status POR VALORES SOMADOS \n",
        "status_legal_v = df.groupby(by='legal_status')['value'].sum ()"
      ],
      "execution_count": 0,
      "outputs": []
    },
    {
      "cell_type": "code",
      "metadata": {
        "id": "CNgtpRbnJUVq",
        "colab_type": "code",
        "colab": {}
      },
      "source": [
        "# CRIANDO DATAFRAME COM O RESULTADO E COLOCANDO O ÍNDICE \n",
        "status_legal_v= pd.DataFrame(status_legal_v).reset_index()                                                          "
      ],
      "execution_count": 0,
      "outputs": []
    },
    {
      "cell_type": "code",
      "metadata": {
        "id": "k6hO6cvcJUV5",
        "colab_type": "code",
        "colab": {}
      },
      "source": [
        "# PEGANDO TOP 10 VALORES EM ESPÉCIE POR STATUS LEGAIS \n",
        "legal_status = status_legal_v[['legal_status','value']].nlargest(10,'value')"
      ],
      "execution_count": 0,
      "outputs": []
    },
    {
      "cell_type": "code",
      "metadata": {
        "id": "gy24pQNjJUWL",
        "colab_type": "code",
        "outputId": "1f6670ba-0652-4b5a-cd8a-15f71516e49d",
        "colab": {
          "base_uri": "https://localhost:8080/"
        }
      },
      "source": [
        "legal_status"
      ],
      "execution_count": 0,
      "outputs": [
        {
          "output_type": "execute_result",
          "data": {
            "text/html": [
              "<div>\n",
              "<style scoped>\n",
              "    .dataframe tbody tr th:only-of-type {\n",
              "        vertical-align: middle;\n",
              "    }\n",
              "\n",
              "    .dataframe tbody tr th {\n",
              "        vertical-align: top;\n",
              "    }\n",
              "\n",
              "    .dataframe thead th {\n",
              "        text-align: right;\n",
              "    }\n",
              "</style>\n",
              "<table border=\"1\" class=\"dataframe\">\n",
              "  <thead>\n",
              "    <tr style=\"text-align: right;\">\n",
              "      <th></th>\n",
              "      <th>legal_status</th>\n",
              "      <th>value</th>\n",
              "    </tr>\n",
              "  </thead>\n",
              "  <tbody>\n",
              "    <tr>\n",
              "      <th>2</th>\n",
              "      <td>319011010000 - V.Vant.Fixas P.Civil(Ve.Base Fo...</td>\n",
              "      <td>1.457834e+08</td>\n",
              "    </tr>\n",
              "    <tr>\n",
              "      <th>6</th>\n",
              "      <td>319011010000000000 - V.Vant.Fixas P.Civil(Ve.B...</td>\n",
              "      <td>9.740740e+07</td>\n",
              "    </tr>\n",
              "    <tr>\n",
              "      <th>3</th>\n",
              "      <td>319011010000 - V.Vant.Fixas P.Civil(Ve.Base Fo...</td>\n",
              "      <td>4.393818e+07</td>\n",
              "    </tr>\n",
              "    <tr>\n",
              "      <th>7</th>\n",
              "      <td>319011010000000000 - V.Vant.Fixas P.Civil(Ve.B...</td>\n",
              "      <td>3.123407e+07</td>\n",
              "    </tr>\n",
              "    <tr>\n",
              "      <th>4</th>\n",
              "      <td>319011010000 - VENC E VANT FIXAS P.C.( BASE-FO...</td>\n",
              "      <td>2.877766e+07</td>\n",
              "    </tr>\n",
              "    <tr>\n",
              "      <th>13</th>\n",
              "      <td>319013010000 - Cont.p/Reg.Geral Prev.INSS     ...</td>\n",
              "      <td>2.510873e+07</td>\n",
              "    </tr>\n",
              "    <tr>\n",
              "      <th>189</th>\n",
              "      <td>339039990000 - Outros Serv.Terceiros - P. Juri...</td>\n",
              "      <td>2.457158e+07</td>\n",
              "    </tr>\n",
              "    <tr>\n",
              "      <th>15</th>\n",
              "      <td>319013010000000000 - Cont.p/Reg.Geral Prev.INS...</td>\n",
              "      <td>1.507988e+07</td>\n",
              "    </tr>\n",
              "    <tr>\n",
              "      <th>190</th>\n",
              "      <td>339039990000000000 - Outros Serv.Terceiros - P...</td>\n",
              "      <td>1.256308e+07</td>\n",
              "    </tr>\n",
              "    <tr>\n",
              "      <th>5</th>\n",
              "      <td>319011010000 - VENC E VANT FIXAS P.C.( BASE-FO...</td>\n",
              "      <td>1.210831e+07</td>\n",
              "    </tr>\n",
              "  </tbody>\n",
              "</table>\n",
              "</div>"
            ],
            "text/plain": [
              "                                          legal_status         value\n",
              "2    319011010000 - V.Vant.Fixas P.Civil(Ve.Base Fo...  1.457834e+08\n",
              "6    319011010000000000 - V.Vant.Fixas P.Civil(Ve.B...  9.740740e+07\n",
              "3    319011010000 - V.Vant.Fixas P.Civil(Ve.Base Fo...  4.393818e+07\n",
              "7    319011010000000000 - V.Vant.Fixas P.Civil(Ve.B...  3.123407e+07\n",
              "4    319011010000 - VENC E VANT FIXAS P.C.( BASE-FO...  2.877766e+07\n",
              "13   319013010000 - Cont.p/Reg.Geral Prev.INSS     ...  2.510873e+07\n",
              "189  339039990000 - Outros Serv.Terceiros - P. Juri...  2.457158e+07\n",
              "15   319013010000000000 - Cont.p/Reg.Geral Prev.INS...  1.507988e+07\n",
              "190  339039990000000000 - Outros Serv.Terceiros - P...  1.256308e+07\n",
              "5    319011010000 - VENC E VANT FIXAS P.C.( BASE-FO...  1.210831e+07"
            ]
          },
          "metadata": {
            "tags": []
          },
          "execution_count": 81
        }
      ]
    },
    {
      "cell_type": "code",
      "metadata": {
        "id": "1x7cSiqnJUWf",
        "colab_type": "code",
        "outputId": "fe4f14cd-10f9-4cdf-b011-19a220b40d0d",
        "colab": {
          "base_uri": "https://localhost:8080/"
        }
      },
      "source": [
        "legal_status = go.Bar(x = legal_status['legal_status'],\n",
        "                      y = legal_status['value'],\n",
        "                      text = legal_status['value'],\n",
        "                      textposition = 'auto')\n",
        "data = [legal_status]\n",
        "layout = dict(title='VALORES MÁXIMOS EM ESPÉCIE POR STATUS LEGAIS PREF. FSA')\n",
        "fig = dict(data=data, layout=layout)\n",
        "\n",
        "py.iplot(fig)"
      ],
      "execution_count": 0,
      "outputs": [
        {
          "output_type": "display_data",
          "data": {
            "text/html": [
              "<html>\n",
              "<head><meta charset=\"utf-8\" /></head>\n",
              "<body>\n",
              "    <div>\n",
              "            <script src=\"https://cdnjs.cloudflare.com/ajax/libs/mathjax/2.7.5/MathJax.js?config=TeX-AMS-MML_SVG\"></script><script type=\"text/javascript\">if (window.MathJax) {MathJax.Hub.Config({SVG: {font: \"STIX-Web\"}});}</script>\n",
              "                <script type=\"text/javascript\">window.PlotlyConfig = {MathJaxConfig: 'local'};</script>\n",
              "        <script src=\"https://cdn.plot.ly/plotly-latest.min.js\"></script>    \n",
              "            <div id=\"84aa0e30-0970-414f-9d08-01627884a8b7\" class=\"plotly-graph-div\" style=\"height:525px; width:100%;\"></div>\n",
              "            <script type=\"text/javascript\">\n",
              "                \n",
              "                    window.PLOTLYENV=window.PLOTLYENV || {};\n",
              "                    \n",
              "                if (document.getElementById(\"84aa0e30-0970-414f-9d08-01627884a8b7\")) {\n",
              "                    Plotly.newPlot(\n",
              "                        '84aa0e30-0970-414f-9d08-01627884a8b7',\n",
              "                        [{\"text\": [145783371.4, 97407397.24000001, 43938180.54999992, 31234067.28, 28777663.129999995, 25108733.869999997, 24571579.71000005, 15079881.540000001, 12563075.350000009, 12108305.310000008], \"textposition\": \"auto\", \"type\": \"bar\", \"x\": [\"319011010000 - V.Vant.Fixas P.Civil(Ve.Base Folha) 2001 - Administracao de pessoal e encargos\", \"319011010000000000 - V.Vant.Fixas P.Civil(Ve.Base Folha)                            2001 - Administracao de pessoal e encargos\", \"319011010000 - V.Vant.Fixas P.Civil(Ve.Base Folha) 2003 - Administracao da acao legislativa\", \"319011010000000000 - V.Vant.Fixas P.Civil(Ve.Base Folha)                            2003 - Administracao da acao legislativa\", \"319011010000 - VENC E VANT FIXAS P.C.( BASE-FOLHA) 2001 - Administracao de pessoal e encargos\", \"319013010000 - Cont.p/Reg.Geral Prev.INSS          2001 - Administracao de pessoal e encargos\", \"339039990000 - Outros Serv.Terceiros - P. Juridica 2002 - Manutencao dos servicos tecnico administrativos\", \"319013010000000000 - Cont.p/Reg.Geral Prev.INSS                                     2001 - Administracao de pessoal e encargos\", \"339039990000000000 - Outros Serv.Terceiros - P. Juridica                            2002 - Manutencao dos servicos tecnico administrativos\", \"319011010000 - VENC E VANT FIXAS P.C.( BASE-FOLHA) 2003 - Administracao da acao legislativa\"], \"y\": [145783371.4, 97407397.24000001, 43938180.54999992, 31234067.28, 28777663.129999995, 25108733.869999997, 24571579.71000005, 15079881.540000001, 12563075.350000009, 12108305.310000008]}],\n",
              "                        {\"template\": {\"data\": {\"bar\": [{\"error_x\": {\"color\": \"#2a3f5f\"}, \"error_y\": {\"color\": \"#2a3f5f\"}, \"marker\": {\"line\": {\"color\": \"#E5ECF6\", \"width\": 0.5}}, \"type\": \"bar\"}], \"barpolar\": [{\"marker\": {\"line\": {\"color\": \"#E5ECF6\", \"width\": 0.5}}, \"type\": \"barpolar\"}], \"carpet\": [{\"aaxis\": {\"endlinecolor\": \"#2a3f5f\", \"gridcolor\": \"white\", \"linecolor\": \"white\", \"minorgridcolor\": \"white\", \"startlinecolor\": \"#2a3f5f\"}, \"baxis\": {\"endlinecolor\": \"#2a3f5f\", \"gridcolor\": \"white\", \"linecolor\": \"white\", \"minorgridcolor\": \"white\", \"startlinecolor\": \"#2a3f5f\"}, \"type\": \"carpet\"}], \"choropleth\": [{\"colorbar\": {\"outlinewidth\": 0, \"ticks\": \"\"}, \"type\": \"choropleth\"}], \"contour\": [{\"colorbar\": {\"outlinewidth\": 0, \"ticks\": \"\"}, \"colorscale\": [[0.0, \"#0d0887\"], [0.1111111111111111, \"#46039f\"], [0.2222222222222222, \"#7201a8\"], [0.3333333333333333, \"#9c179e\"], [0.4444444444444444, \"#bd3786\"], [0.5555555555555556, \"#d8576b\"], [0.6666666666666666, \"#ed7953\"], [0.7777777777777778, \"#fb9f3a\"], [0.8888888888888888, \"#fdca26\"], [1.0, \"#f0f921\"]], \"type\": \"contour\"}], \"contourcarpet\": [{\"colorbar\": {\"outlinewidth\": 0, \"ticks\": \"\"}, \"type\": \"contourcarpet\"}], \"heatmap\": [{\"colorbar\": {\"outlinewidth\": 0, \"ticks\": \"\"}, \"colorscale\": [[0.0, \"#0d0887\"], [0.1111111111111111, \"#46039f\"], [0.2222222222222222, \"#7201a8\"], [0.3333333333333333, \"#9c179e\"], [0.4444444444444444, \"#bd3786\"], [0.5555555555555556, \"#d8576b\"], [0.6666666666666666, \"#ed7953\"], [0.7777777777777778, \"#fb9f3a\"], [0.8888888888888888, \"#fdca26\"], [1.0, \"#f0f921\"]], \"type\": \"heatmap\"}], \"heatmapgl\": [{\"colorbar\": {\"outlinewidth\": 0, \"ticks\": \"\"}, \"colorscale\": [[0.0, \"#0d0887\"], [0.1111111111111111, \"#46039f\"], [0.2222222222222222, \"#7201a8\"], [0.3333333333333333, \"#9c179e\"], [0.4444444444444444, \"#bd3786\"], [0.5555555555555556, \"#d8576b\"], [0.6666666666666666, \"#ed7953\"], [0.7777777777777778, \"#fb9f3a\"], [0.8888888888888888, \"#fdca26\"], [1.0, \"#f0f921\"]], \"type\": \"heatmapgl\"}], \"histogram\": [{\"marker\": {\"colorbar\": {\"outlinewidth\": 0, \"ticks\": \"\"}}, \"type\": \"histogram\"}], \"histogram2d\": [{\"colorbar\": {\"outlinewidth\": 0, \"ticks\": \"\"}, \"colorscale\": [[0.0, \"#0d0887\"], [0.1111111111111111, \"#46039f\"], [0.2222222222222222, \"#7201a8\"], [0.3333333333333333, \"#9c179e\"], [0.4444444444444444, \"#bd3786\"], [0.5555555555555556, \"#d8576b\"], [0.6666666666666666, \"#ed7953\"], [0.7777777777777778, \"#fb9f3a\"], [0.8888888888888888, \"#fdca26\"], [1.0, \"#f0f921\"]], \"type\": \"histogram2d\"}], \"histogram2dcontour\": [{\"colorbar\": {\"outlinewidth\": 0, \"ticks\": \"\"}, \"colorscale\": [[0.0, \"#0d0887\"], [0.1111111111111111, \"#46039f\"], [0.2222222222222222, \"#7201a8\"], [0.3333333333333333, \"#9c179e\"], [0.4444444444444444, \"#bd3786\"], [0.5555555555555556, \"#d8576b\"], [0.6666666666666666, \"#ed7953\"], [0.7777777777777778, \"#fb9f3a\"], [0.8888888888888888, \"#fdca26\"], [1.0, \"#f0f921\"]], \"type\": \"histogram2dcontour\"}], \"mesh3d\": [{\"colorbar\": {\"outlinewidth\": 0, \"ticks\": \"\"}, \"type\": \"mesh3d\"}], \"parcoords\": [{\"line\": {\"colorbar\": {\"outlinewidth\": 0, \"ticks\": \"\"}}, \"type\": \"parcoords\"}], \"pie\": [{\"automargin\": true, \"type\": \"pie\"}], \"scatter\": [{\"marker\": {\"colorbar\": {\"outlinewidth\": 0, \"ticks\": \"\"}}, \"type\": \"scatter\"}], \"scatter3d\": [{\"line\": {\"colorbar\": {\"outlinewidth\": 0, \"ticks\": \"\"}}, \"marker\": {\"colorbar\": {\"outlinewidth\": 0, \"ticks\": \"\"}}, \"type\": \"scatter3d\"}], \"scattercarpet\": [{\"marker\": {\"colorbar\": {\"outlinewidth\": 0, \"ticks\": \"\"}}, \"type\": \"scattercarpet\"}], \"scattergeo\": [{\"marker\": {\"colorbar\": {\"outlinewidth\": 0, \"ticks\": \"\"}}, \"type\": \"scattergeo\"}], \"scattergl\": [{\"marker\": {\"colorbar\": {\"outlinewidth\": 0, \"ticks\": \"\"}}, \"type\": \"scattergl\"}], \"scattermapbox\": [{\"marker\": {\"colorbar\": {\"outlinewidth\": 0, \"ticks\": \"\"}}, \"type\": \"scattermapbox\"}], \"scatterpolar\": [{\"marker\": {\"colorbar\": {\"outlinewidth\": 0, \"ticks\": \"\"}}, \"type\": \"scatterpolar\"}], \"scatterpolargl\": [{\"marker\": {\"colorbar\": {\"outlinewidth\": 0, \"ticks\": \"\"}}, \"type\": \"scatterpolargl\"}], \"scatterternary\": [{\"marker\": {\"colorbar\": {\"outlinewidth\": 0, \"ticks\": \"\"}}, \"type\": \"scatterternary\"}], \"surface\": [{\"colorbar\": {\"outlinewidth\": 0, \"ticks\": \"\"}, \"colorscale\": [[0.0, \"#0d0887\"], [0.1111111111111111, \"#46039f\"], [0.2222222222222222, \"#7201a8\"], [0.3333333333333333, \"#9c179e\"], [0.4444444444444444, \"#bd3786\"], [0.5555555555555556, \"#d8576b\"], [0.6666666666666666, \"#ed7953\"], [0.7777777777777778, \"#fb9f3a\"], [0.8888888888888888, \"#fdca26\"], [1.0, \"#f0f921\"]], \"type\": \"surface\"}], \"table\": [{\"cells\": {\"fill\": {\"color\": \"#EBF0F8\"}, \"line\": {\"color\": \"white\"}}, \"header\": {\"fill\": {\"color\": \"#C8D4E3\"}, \"line\": {\"color\": \"white\"}}, \"type\": \"table\"}]}, \"layout\": {\"annotationdefaults\": {\"arrowcolor\": \"#2a3f5f\", \"arrowhead\": 0, \"arrowwidth\": 1}, \"coloraxis\": {\"colorbar\": {\"outlinewidth\": 0, \"ticks\": \"\"}}, \"colorscale\": {\"diverging\": [[0, \"#8e0152\"], [0.1, \"#c51b7d\"], [0.2, \"#de77ae\"], [0.3, \"#f1b6da\"], [0.4, \"#fde0ef\"], [0.5, \"#f7f7f7\"], [0.6, \"#e6f5d0\"], [0.7, \"#b8e186\"], [0.8, \"#7fbc41\"], [0.9, \"#4d9221\"], [1, \"#276419\"]], \"sequential\": [[0.0, \"#0d0887\"], [0.1111111111111111, \"#46039f\"], [0.2222222222222222, \"#7201a8\"], [0.3333333333333333, \"#9c179e\"], [0.4444444444444444, \"#bd3786\"], [0.5555555555555556, \"#d8576b\"], [0.6666666666666666, \"#ed7953\"], [0.7777777777777778, \"#fb9f3a\"], [0.8888888888888888, \"#fdca26\"], [1.0, \"#f0f921\"]], \"sequentialminus\": [[0.0, \"#0d0887\"], [0.1111111111111111, \"#46039f\"], [0.2222222222222222, \"#7201a8\"], [0.3333333333333333, \"#9c179e\"], [0.4444444444444444, \"#bd3786\"], [0.5555555555555556, \"#d8576b\"], [0.6666666666666666, \"#ed7953\"], [0.7777777777777778, \"#fb9f3a\"], [0.8888888888888888, \"#fdca26\"], [1.0, \"#f0f921\"]]}, \"colorway\": [\"#636efa\", \"#EF553B\", \"#00cc96\", \"#ab63fa\", \"#FFA15A\", \"#19d3f3\", \"#FF6692\", \"#B6E880\", \"#FF97FF\", \"#FECB52\"], \"font\": {\"color\": \"#2a3f5f\"}, \"geo\": {\"bgcolor\": \"white\", \"lakecolor\": \"white\", \"landcolor\": \"#E5ECF6\", \"showlakes\": true, \"showland\": true, \"subunitcolor\": \"white\"}, \"hoverlabel\": {\"align\": \"left\"}, \"hovermode\": \"closest\", \"mapbox\": {\"style\": \"light\"}, \"paper_bgcolor\": \"white\", \"plot_bgcolor\": \"#E5ECF6\", \"polar\": {\"angularaxis\": {\"gridcolor\": \"white\", \"linecolor\": \"white\", \"ticks\": \"\"}, \"bgcolor\": \"#E5ECF6\", \"radialaxis\": {\"gridcolor\": \"white\", \"linecolor\": \"white\", \"ticks\": \"\"}}, \"scene\": {\"xaxis\": {\"backgroundcolor\": \"#E5ECF6\", \"gridcolor\": \"white\", \"gridwidth\": 2, \"linecolor\": \"white\", \"showbackground\": true, \"ticks\": \"\", \"zerolinecolor\": \"white\"}, \"yaxis\": {\"backgroundcolor\": \"#E5ECF6\", \"gridcolor\": \"white\", \"gridwidth\": 2, \"linecolor\": \"white\", \"showbackground\": true, \"ticks\": \"\", \"zerolinecolor\": \"white\"}, \"zaxis\": {\"backgroundcolor\": \"#E5ECF6\", \"gridcolor\": \"white\", \"gridwidth\": 2, \"linecolor\": \"white\", \"showbackground\": true, \"ticks\": \"\", \"zerolinecolor\": \"white\"}}, \"shapedefaults\": {\"line\": {\"color\": \"#2a3f5f\"}}, \"ternary\": {\"aaxis\": {\"gridcolor\": \"white\", \"linecolor\": \"white\", \"ticks\": \"\"}, \"baxis\": {\"gridcolor\": \"white\", \"linecolor\": \"white\", \"ticks\": \"\"}, \"bgcolor\": \"#E5ECF6\", \"caxis\": {\"gridcolor\": \"white\", \"linecolor\": \"white\", \"ticks\": \"\"}}, \"title\": {\"x\": 0.05}, \"xaxis\": {\"automargin\": true, \"gridcolor\": \"white\", \"linecolor\": \"white\", \"ticks\": \"\", \"title\": {\"standoff\": 15}, \"zerolinecolor\": \"white\", \"zerolinewidth\": 2}, \"yaxis\": {\"automargin\": true, \"gridcolor\": \"white\", \"linecolor\": \"white\", \"ticks\": \"\", \"title\": {\"standoff\": 15}, \"zerolinecolor\": \"white\", \"zerolinewidth\": 2}}}, \"title\": {\"text\": \"VALORES M\\u00c1XIMOS EM ESP\\u00c9CIE POR STATUS LEGAIS PREF. FSA\"}},\n",
              "                        {\"responsive\": true}\n",
              "                    ).then(function(){\n",
              "                            \n",
              "var gd = document.getElementById('84aa0e30-0970-414f-9d08-01627884a8b7');\n",
              "var x = new MutationObserver(function (mutations, observer) {{\n",
              "        var display = window.getComputedStyle(gd).display;\n",
              "        if (!display || display === 'none') {{\n",
              "            console.log([gd, 'removed!']);\n",
              "            Plotly.purge(gd);\n",
              "            observer.disconnect();\n",
              "        }}\n",
              "}});\n",
              "\n",
              "// Listen for the removal of the full notebook cells\n",
              "var notebookContainer = gd.closest('#notebook-container');\n",
              "if (notebookContainer) {{\n",
              "    x.observe(notebookContainer, {childList: true});\n",
              "}}\n",
              "\n",
              "// Listen for the clearing of the current output cell\n",
              "var outputEl = gd.closest('.output');\n",
              "if (outputEl) {{\n",
              "    x.observe(outputEl, {childList: true});\n",
              "}}\n",
              "\n",
              "                        })\n",
              "                };\n",
              "                \n",
              "            </script>\n",
              "        </div>\n",
              "</body>\n",
              "</html>"
            ]
          },
          "metadata": {
            "tags": []
          }
        }
      ]
    },
    {
      "cell_type": "code",
      "metadata": {
        "id": "pprAz6oTJUW6",
        "colab_type": "code",
        "outputId": "8ef0cad3-4e4c-445d-9ad5-4aaeaf200128",
        "colab": {
          "base_uri": "https://localhost:8080/"
        }
      },
      "source": [
        "df.tail ()"
      ],
      "execution_count": 0,
      "outputs": [
        {
          "output_type": "execute_result",
          "data": {
            "text/html": [
              "<div>\n",
              "<style scoped>\n",
              "    .dataframe tbody tr th:only-of-type {\n",
              "        vertical-align: middle;\n",
              "    }\n",
              "\n",
              "    .dataframe tbody tr th {\n",
              "        vertical-align: top;\n",
              "    }\n",
              "\n",
              "    .dataframe thead th {\n",
              "        text-align: right;\n",
              "    }\n",
              "</style>\n",
              "<table border=\"1\" class=\"dataframe\">\n",
              "  <thead>\n",
              "    <tr style=\"text-align: right;\">\n",
              "      <th></th>\n",
              "      <th>company_or_person</th>\n",
              "      <th>crawled_at</th>\n",
              "      <th>crawled_from</th>\n",
              "      <th>date</th>\n",
              "      <th>document</th>\n",
              "      <th>function</th>\n",
              "      <th>group</th>\n",
              "      <th>legal_status</th>\n",
              "      <th>number</th>\n",
              "      <th>phase</th>\n",
              "      <th>process_number</th>\n",
              "      <th>published_at</th>\n",
              "      <th>resource</th>\n",
              "      <th>subfunction</th>\n",
              "      <th>subgroup</th>\n",
              "      <th>summary</th>\n",
              "      <th>type_of_process</th>\n",
              "      <th>value</th>\n",
              "    </tr>\n",
              "  </thead>\n",
              "  <tbody>\n",
              "    <tr>\n",
              "      <th>35530</th>\n",
              "      <td>VALE TRANSPORTES</td>\n",
              "      <td>2020-04-11 10:15:10.732686</td>\n",
              "      <td>https://www.transparencia.feiradesantana.ba.le...</td>\n",
              "      <td>2020-03-20</td>\n",
              "      <td>14.488.415/0001-60</td>\n",
              "      <td>NaN</td>\n",
              "      <td>NaN</td>\n",
              "      <td>NaN</td>\n",
              "      <td>00271-20</td>\n",
              "      <td>pagamento</td>\n",
              "      <td>NaN</td>\n",
              "      <td>2020-03-20</td>\n",
              "      <td>NaN</td>\n",
              "      <td>NaN</td>\n",
              "      <td>NaN</td>\n",
              "      <td>PAGAMENTO EXTRA-ORCAMENTARIO NUMERO:000058</td>\n",
              "      <td>NaN</td>\n",
              "      <td>214.87</td>\n",
              "    </tr>\n",
              "    <tr>\n",
              "      <th>35531</th>\n",
              "      <td>VEREADORES</td>\n",
              "      <td>2020-04-11 10:15:10.736784</td>\n",
              "      <td>https://www.transparencia.feiradesantana.ba.le...</td>\n",
              "      <td>2020-03-20</td>\n",
              "      <td>14.488.415/0001-60</td>\n",
              "      <td>01 - LEGISLATIVA</td>\n",
              "      <td>Administracao da acao legislativa</td>\n",
              "      <td>319011010000 - V.Vant.Fixas P.Civil(Ve.Base Fo...</td>\n",
              "      <td>00261-20</td>\n",
              "      <td>pagamento</td>\n",
              "      <td>NaN</td>\n",
              "      <td>2020-03-20</td>\n",
              "      <td>0000 - TESOURO</td>\n",
              "      <td>031 - ACAO</td>\n",
              "      <td>V.Vant.Fixas P.Civil(Ve.Base Folha)</td>\n",
              "      <td>REF A SUBSÍDIOS DOS VEREADORES, MÊS DE MARÇO/2...</td>\n",
              "      <td>ISENTO</td>\n",
              "      <td>8318.32</td>\n",
              "    </tr>\n",
              "    <tr>\n",
              "      <th>35532</th>\n",
              "      <td>VEREADORES</td>\n",
              "      <td>2020-04-11 10:15:10.739669</td>\n",
              "      <td>https://www.transparencia.feiradesantana.ba.le...</td>\n",
              "      <td>2020-03-20</td>\n",
              "      <td>14.488.415/0001-60</td>\n",
              "      <td>01 - LEGISLATIVA</td>\n",
              "      <td>Administracao da acao legislativa</td>\n",
              "      <td>319011010000 - V.Vant.Fixas P.Civil(Ve.Base Fo...</td>\n",
              "      <td>00262-20</td>\n",
              "      <td>pagamento</td>\n",
              "      <td>NaN</td>\n",
              "      <td>2020-03-20</td>\n",
              "      <td>0000 - TESOURO</td>\n",
              "      <td>031 - ACAO</td>\n",
              "      <td>V.Vant.Fixas P.Civil(Ve.Base Folha)</td>\n",
              "      <td>REF A SUBSÍDIOS DOS VEREADORES, MÊS DE MARÇO/2...</td>\n",
              "      <td>ISENTO</td>\n",
              "      <td>9362.51</td>\n",
              "    </tr>\n",
              "    <tr>\n",
              "      <th>35533</th>\n",
              "      <td>IPFS - INST. DE PREV. DOS SERV</td>\n",
              "      <td>2020-04-11 10:15:10.744187</td>\n",
              "      <td>https://www.transparencia.feiradesantana.ba.le...</td>\n",
              "      <td>2020-03-20</td>\n",
              "      <td>42.743.658/0001-33</td>\n",
              "      <td>01 - LEGISLATIVA</td>\n",
              "      <td>Administracao da acao legislativa</td>\n",
              "      <td>319113020000 - Cont.p/Reg.Proprio Prev.ser.RPP...</td>\n",
              "      <td>20000012/0006</td>\n",
              "      <td>liquidacao</td>\n",
              "      <td>NaN</td>\n",
              "      <td>2020-03-20</td>\n",
              "      <td>0000 - TESOURO</td>\n",
              "      <td>031 - ACAO</td>\n",
              "      <td>Cont.p/Reg.Proprio Prev.ser.RPPS</td>\n",
              "      <td>REF. OBRIGAÇÕES PATRONAIS SOBRE FOLHA DE VEREA...</td>\n",
              "      <td>ISENTO</td>\n",
              "      <td>605.10</td>\n",
              "    </tr>\n",
              "    <tr>\n",
              "      <th>35534</th>\n",
              "      <td>FUNCIONARIOS CARGOS EM COMISSA</td>\n",
              "      <td>2020-04-11 10:15:10.747130</td>\n",
              "      <td>https://www.transparencia.feiradesantana.ba.le...</td>\n",
              "      <td>2020-03-20</td>\n",
              "      <td>14.488.415/0001-60</td>\n",
              "      <td>01 - LEGISLATIVA</td>\n",
              "      <td>Manutencao dos servicos tecnico administrativos</td>\n",
              "      <td>339049000000 - Auxilio - Transporte           ...</td>\n",
              "      <td>00266-20</td>\n",
              "      <td>liquidacao</td>\n",
              "      <td>NaN</td>\n",
              "      <td>2020-03-20</td>\n",
              "      <td>0000 - TESOURO</td>\n",
              "      <td>031 - ACAO</td>\n",
              "      <td>Auxilio - Transporte</td>\n",
              "      <td>REF. A AUXÍLIO TRANSPORTE PARA OS SERVIDORES C...</td>\n",
              "      <td>ISENTO</td>\n",
              "      <td>14545.80</td>\n",
              "    </tr>\n",
              "  </tbody>\n",
              "</table>\n",
              "</div>"
            ],
            "text/plain": [
              "                    company_or_person  ...     value\n",
              "35530                VALE TRANSPORTES  ...    214.87\n",
              "35531                      VEREADORES  ...   8318.32\n",
              "35532                      VEREADORES  ...   9362.51\n",
              "35533  IPFS - INST. DE PREV. DOS SERV  ...    605.10\n",
              "35534  FUNCIONARIOS CARGOS EM COMISSA  ...  14545.80\n",
              "\n",
              "[5 rows x 18 columns]"
            ]
          },
          "metadata": {
            "tags": []
          },
          "execution_count": 83
        }
      ]
    },
    {
      "cell_type": "markdown",
      "metadata": {
        "id": "YGXHdEBGJUXW",
        "colab_type": "text"
      },
      "source": [
        "### ANÁLISE DOS SUMÁRIOS  \n",
        "### GRÁFICOS DOS RESULTADOS "
      ]
    },
    {
      "cell_type": "code",
      "metadata": {
        "id": "G_Of3RxTJUXa",
        "colab_type": "code",
        "colab": {}
      },
      "source": [
        "#ATRIBUINDO VARIÁVEL sumario AO DATAFRAME CONTADO POR CATEGORIAS E ÍNDICE RESETADO \n",
        "sumario = df.summary.value_counts ().to_frame ().reset_index()"
      ],
      "execution_count": 0,
      "outputs": []
    },
    {
      "cell_type": "code",
      "metadata": {
        "id": "1xbnuNUgJUX1",
        "colab_type": "code",
        "colab": {}
      },
      "source": [
        "# ATRIBUINDO VARIÁVEL dados_sumario AO DATAFRAME COM 0S 10 VALORES MAIS CONTABILIZADOS NA COLUNA summary \n",
        "dados_sumario = sumario.head(10)"
      ],
      "execution_count": 0,
      "outputs": []
    },
    {
      "cell_type": "code",
      "metadata": {
        "id": "vQ33qHUpJUYJ",
        "colab_type": "code",
        "outputId": "7bd58f8f-db90-4e72-80a8-187c89e801fa",
        "colab": {
          "base_uri": "https://localhost:8080/"
        }
      },
      "source": [
        "plt.figure(figsize=(20,7))\n",
        "plt.bar(dados_sumario['index'],\n",
        "         dados_sumario.summary,\n",
        "        color=['r','b','y','c','g'])\n",
        "plt.xticks(rotation=90)\n",
        "plt.gca().invert_xaxis()\n",
        "plt.grid()\n",
        "plt.title('TOP 10 AÇÕES POR SUMÁRIOS DE ATIVIDADE PREF.FSA')\n",
        "plt.show ();"
      ],
      "execution_count": 0,
      "outputs": [
        {
          "output_type": "display_data",
          "data": {
            "image/png": "[encoded data removed]",
            "text/plain": [
              "<Figure size 1440x504 with 1 Axes>"
            ]
          },
          "metadata": {
            "tags": [],
            "needs_background": "light"
          }
        }
      ]
    },
    {
      "cell_type": "code",
      "metadata": {
        "id": "NR-oLXKvJUYu",
        "colab_type": "code",
        "outputId": "37c8ca73-c777-4f26-c932-807e86310050",
        "colab": {
          "base_uri": "https://localhost:8080/"
        }
      },
      "source": [
        "# AGRUPAMENTO POR VALORES EM SUMÁRIOS RELAÇÃO DE OBJETIVOS, ARTIFÍCIOS, NO GERAL ADQUIRIDOS\n",
        "df.groupby(by='summary')['value'].size ()"
      ],
      "execution_count": 0,
      "outputs": [
        {
          "output_type": "execute_result",
          "data": {
            "text/plain": [
              "summary\n",
              "01 CILINDRO COM CARTUCHO DE TONER PARA IMPRESSORA BROTHER 8085 DA GERÊNCIA DE RECURSOS HUMANOS DA CMFSA.                                                                                                                                                                                                                                                                                                                                                                                                                                                                         1\n",
              "01 PUBLICAÇÃO DE RELATÓRIO DE GESTÃO FISCAL - 1º QUADRIMESTRE DESTA CASA LEGISLATIVA.                                                                                                                                                                                                                                                                                                                                                                                                                                                                                            1\n",
              "02 ASSINATURA ANUAL, NO PERÍODO DE 19/06/2015 A 19/06/216 DIÁRIA DO JORNAL A TARDE PARA A CMFS.                                                                                                                                                                                                                                                                                                                                                                                                                                                                                  1\n",
              "02 ASSINATURAS ANUAL DIÁRIA DO JORNAL  FOLHA DE SAO PAULO PARA CMFS.                                                                                                                                                                                                                                                                                                                                                                                                                                                                                                             1\n",
              "02 ASSINATURAS ANUAL DIÁRIA DO JORNAL A TARDE PARA A ADMINISTRAÇÃO DA CMFSA.                                                                                                                                                                                                                                                                                                                                                                                                                                                                                                     1\n",
              "                                                                                                                                                                                                                                                                                                                                                                                                                                                                                                                                                                                ..\n",
              "ÓLEO LUBRIFICANTE SINTÉTICO MOTOR LT - VEICULO  OF. LOGAN NZA 5245                                                                                                                                                                                                                                                                                                                                                                                                                                                  ÓLEO LUBRIFICANTE ENGENAGEM - VEICULO  OF. LOGAN NZA 5245    1\n",
              "ÓLEO MOTOR                                                                                                                                                                                                                                                                                                                                                                                                                                                                                                          FILTRO ÓLEO                                                  1\n",
              "ÓLEO PARA MOTOR LT - VEICULO OF NZA-2842                                                                                                                                                                                                                                                                                                                                                                                                                                                                            FILTRO DE ÓLEO - VEICULO OF NZA-2842                         1\n",
              "ÓLEO SINTÉTICO                                                                                                                                                                                                                                                                                                                                                                                                                                                                                                      FILTRO LUBRIFICANTE                                          1\n",
              "ÓLEO SINTÉTICO LT                                                                                                                                                                                                                                                                                                                                                                                                                                                                                                   FILTRO ÓLEO                                                  1\n",
              "Name: value, Length: 16160, dtype: int64"
            ]
          },
          "metadata": {
            "tags": []
          },
          "execution_count": 87
        }
      ]
    },
    {
      "cell_type": "code",
      "metadata": {
        "id": "7nX66UpRJUZD",
        "colab_type": "code",
        "colab": {}
      },
      "source": [
        "# ATRIBUINDO VARIÁVEL sumario_valor AOS 10 MAIORES VALORES EM ESPÉCIE PELA COLUNA SUMMARY \n",
        "sumario_valor=df[['summary','value']].nlargest(10,'value').set_index ('summary')"
      ],
      "execution_count": 0,
      "outputs": []
    },
    {
      "cell_type": "code",
      "metadata": {
        "id": "HPSDsgCfJUZV",
        "colab_type": "code",
        "outputId": "bbbd95fa-5d07-4958-859d-a1bf2d48e495",
        "colab": {
          "base_uri": "https://localhost:8080/"
        }
      },
      "source": [
        "sumario_valor = go.Bar(x = sumario_valor.index,\n",
        "                       y = sumario_valor['value'],\n",
        "                       text = sumario_valor['value'],\n",
        "                       textposition = 'auto')\n",
        "data = [sumario_valor]\n",
        "layout = dict(title='VALORES MÁXIMOS EM ESPÉCIE POR SUMÁRIOS PREF. FSA')\n",
        "fig = dict(data=data, layout=layout)\n",
        "\n",
        "py.iplot(fig)"
      ],
      "execution_count": 0,
      "outputs": [
        {
          "output_type": "display_data",
          "data": {
            "text/html": [
              "<html>\n",
              "<head><meta charset=\"utf-8\" /></head>\n",
              "<body>\n",
              "    <div>\n",
              "            <script src=\"https://cdnjs.cloudflare.com/ajax/libs/mathjax/2.7.5/MathJax.js?config=TeX-AMS-MML_SVG\"></script><script type=\"text/javascript\">if (window.MathJax) {MathJax.Hub.Config({SVG: {font: \"STIX-Web\"}});}</script>\n",
              "                <script type=\"text/javascript\">window.PlotlyConfig = {MathJaxConfig: 'local'};</script>\n",
              "        <script src=\"https://cdn.plot.ly/plotly-latest.min.js\"></script>    \n",
              "            <div id=\"d2ca1a97-6059-46ae-90d9-f648395daff6\" class=\"plotly-graph-div\" style=\"height:525px; width:100%;\"></div>\n",
              "            <script type=\"text/javascript\">\n",
              "                \n",
              "                    window.PLOTLYENV=window.PLOTLYENV || {};\n",
              "                    \n",
              "                if (document.getElementById(\"d2ca1a97-6059-46ae-90d9-f648395daff6\")) {\n",
              "                    Plotly.newPlot(\n",
              "                        'd2ca1a97-6059-46ae-90d9-f648395daff6',\n",
              "                        [{\"text\": [12400000.0, 11300000.0, 10200000.0, 10000000.0, 8000000.0, 7000000.0, 4900000.0, 4200000.0, 4110000.0, 4110000.0], \"textposition\": \"auto\", \"type\": \"bar\", \"x\": [\"IMPORTE DESTINADO A PAGAMENTO DE DESPESAS COM REMUNERA\\u00c7\\u00c3O NO PERIODO.\", \"IMPORTE DESTINADO A PAGAMENTO DE DESPESA COM REMUNERA\\u00c7\\u00c3O NO PERIODO\", \"IMPORTE DESTINADO A PAGAMENTO DE REMUNERA\\u00c7\\u00c3O NO PERIODO.\", \"IMPORTE DESTINADO A PAGAMENTO DE REMUNERA\\u00c7\\u00c3O NO PERIODO.\", \"IMPORTE DESTINADO A PAGAMENTO DE REMUNERA\\u00c7\\u00c3O NO PERIODO.\", \"IMPORTE DESTINADO A PAGAMENTO DE VENCIMENTOS NO PERIODO.\", \"IMPORTE DESTINADO A PAGAMENTO DE VENCIMENTOS NO PERIODO.\", \"IMPORTE DESTINADO A PAGAMENTO DE SUBSIDIOS NO PERIODO.\", \"IMPORTE DESTINADO A PAGAMENTO DE SUBSIDIOS NO PERIODO\", \"IMPORTE DESTINADO A PAGAMENTO DE DESPESAS COM REMUNERA\\u00c7\\u00c3O NO PER\\u00cdODO.\"], \"y\": [12400000.0, 11300000.0, 10200000.0, 10000000.0, 8000000.0, 7000000.0, 4900000.0, 4200000.0, 4110000.0, 4110000.0]}],\n",
              "                        {\"template\": {\"data\": {\"bar\": [{\"error_x\": {\"color\": \"#2a3f5f\"}, \"error_y\": {\"color\": \"#2a3f5f\"}, \"marker\": {\"line\": {\"color\": \"#E5ECF6\", \"width\": 0.5}}, \"type\": \"bar\"}], \"barpolar\": [{\"marker\": {\"line\": {\"color\": \"#E5ECF6\", \"width\": 0.5}}, \"type\": \"barpolar\"}], \"carpet\": [{\"aaxis\": {\"endlinecolor\": \"#2a3f5f\", \"gridcolor\": \"white\", \"linecolor\": \"white\", \"minorgridcolor\": \"white\", \"startlinecolor\": \"#2a3f5f\"}, \"baxis\": {\"endlinecolor\": \"#2a3f5f\", \"gridcolor\": \"white\", \"linecolor\": \"white\", \"minorgridcolor\": \"white\", \"startlinecolor\": \"#2a3f5f\"}, \"type\": \"carpet\"}], \"choropleth\": [{\"colorbar\": {\"outlinewidth\": 0, \"ticks\": \"\"}, \"type\": \"choropleth\"}], \"contour\": [{\"colorbar\": {\"outlinewidth\": 0, \"ticks\": \"\"}, \"colorscale\": [[0.0, \"#0d0887\"], [0.1111111111111111, \"#46039f\"], [0.2222222222222222, \"#7201a8\"], [0.3333333333333333, \"#9c179e\"], [0.4444444444444444, \"#bd3786\"], [0.5555555555555556, \"#d8576b\"], [0.6666666666666666, \"#ed7953\"], [0.7777777777777778, \"#fb9f3a\"], [0.8888888888888888, \"#fdca26\"], [1.0, \"#f0f921\"]], \"type\": \"contour\"}], \"contourcarpet\": [{\"colorbar\": {\"outlinewidth\": 0, \"ticks\": \"\"}, \"type\": \"contourcarpet\"}], \"heatmap\": [{\"colorbar\": {\"outlinewidth\": 0, \"ticks\": \"\"}, \"colorscale\": [[0.0, \"#0d0887\"], [0.1111111111111111, \"#46039f\"], [0.2222222222222222, \"#7201a8\"], [0.3333333333333333, \"#9c179e\"], [0.4444444444444444, \"#bd3786\"], [0.5555555555555556, \"#d8576b\"], [0.6666666666666666, \"#ed7953\"], [0.7777777777777778, \"#fb9f3a\"], [0.8888888888888888, \"#fdca26\"], [1.0, \"#f0f921\"]], \"type\": \"heatmap\"}], \"heatmapgl\": [{\"colorbar\": {\"outlinewidth\": 0, \"ticks\": \"\"}, \"colorscale\": [[0.0, \"#0d0887\"], [0.1111111111111111, \"#46039f\"], [0.2222222222222222, \"#7201a8\"], [0.3333333333333333, \"#9c179e\"], [0.4444444444444444, \"#bd3786\"], [0.5555555555555556, \"#d8576b\"], [0.6666666666666666, \"#ed7953\"], [0.7777777777777778, \"#fb9f3a\"], [0.8888888888888888, \"#fdca26\"], [1.0, \"#f0f921\"]], \"type\": \"heatmapgl\"}], \"histogram\": [{\"marker\": {\"colorbar\": {\"outlinewidth\": 0, \"ticks\": \"\"}}, \"type\": \"histogram\"}], \"histogram2d\": [{\"colorbar\": {\"outlinewidth\": 0, \"ticks\": \"\"}, \"colorscale\": [[0.0, \"#0d0887\"], [0.1111111111111111, \"#46039f\"], [0.2222222222222222, \"#7201a8\"], [0.3333333333333333, \"#9c179e\"], [0.4444444444444444, \"#bd3786\"], [0.5555555555555556, \"#d8576b\"], [0.6666666666666666, \"#ed7953\"], [0.7777777777777778, \"#fb9f3a\"], [0.8888888888888888, \"#fdca26\"], [1.0, \"#f0f921\"]], \"type\": \"histogram2d\"}], \"histogram2dcontour\": [{\"colorbar\": {\"outlinewidth\": 0, \"ticks\": \"\"}, \"colorscale\": [[0.0, \"#0d0887\"], [0.1111111111111111, \"#46039f\"], [0.2222222222222222, \"#7201a8\"], [0.3333333333333333, \"#9c179e\"], [0.4444444444444444, \"#bd3786\"], [0.5555555555555556, \"#d8576b\"], [0.6666666666666666, \"#ed7953\"], [0.7777777777777778, \"#fb9f3a\"], [0.8888888888888888, \"#fdca26\"], [1.0, \"#f0f921\"]], \"type\": \"histogram2dcontour\"}], \"mesh3d\": [{\"colorbar\": {\"outlinewidth\": 0, \"ticks\": \"\"}, \"type\": \"mesh3d\"}], \"parcoords\": [{\"line\": {\"colorbar\": {\"outlinewidth\": 0, \"ticks\": \"\"}}, \"type\": \"parcoords\"}], \"pie\": [{\"automargin\": true, \"type\": \"pie\"}], \"scatter\": [{\"marker\": {\"colorbar\": {\"outlinewidth\": 0, \"ticks\": \"\"}}, \"type\": \"scatter\"}], \"scatter3d\": [{\"line\": {\"colorbar\": {\"outlinewidth\": 0, \"ticks\": \"\"}}, \"marker\": {\"colorbar\": {\"outlinewidth\": 0, \"ticks\": \"\"}}, \"type\": \"scatter3d\"}], \"scattercarpet\": [{\"marker\": {\"colorbar\": {\"outlinewidth\": 0, \"ticks\": \"\"}}, \"type\": \"scattercarpet\"}], \"scattergeo\": [{\"marker\": {\"colorbar\": {\"outlinewidth\": 0, \"ticks\": \"\"}}, \"type\": \"scattergeo\"}], \"scattergl\": [{\"marker\": {\"colorbar\": {\"outlinewidth\": 0, \"ticks\": \"\"}}, \"type\": \"scattergl\"}], \"scattermapbox\": [{\"marker\": {\"colorbar\": {\"outlinewidth\": 0, \"ticks\": \"\"}}, \"type\": \"scattermapbox\"}], \"scatterpolar\": [{\"marker\": {\"colorbar\": {\"outlinewidth\": 0, \"ticks\": \"\"}}, \"type\": \"scatterpolar\"}], \"scatterpolargl\": [{\"marker\": {\"colorbar\": {\"outlinewidth\": 0, \"ticks\": \"\"}}, \"type\": \"scatterpolargl\"}], \"scatterternary\": [{\"marker\": {\"colorbar\": {\"outlinewidth\": 0, \"ticks\": \"\"}}, \"type\": \"scatterternary\"}], \"surface\": [{\"colorbar\": {\"outlinewidth\": 0, \"ticks\": \"\"}, \"colorscale\": [[0.0, \"#0d0887\"], [0.1111111111111111, \"#46039f\"], [0.2222222222222222, \"#7201a8\"], [0.3333333333333333, \"#9c179e\"], [0.4444444444444444, \"#bd3786\"], [0.5555555555555556, \"#d8576b\"], [0.6666666666666666, \"#ed7953\"], [0.7777777777777778, \"#fb9f3a\"], [0.8888888888888888, \"#fdca26\"], [1.0, \"#f0f921\"]], \"type\": \"surface\"}], \"table\": [{\"cells\": {\"fill\": {\"color\": \"#EBF0F8\"}, \"line\": {\"color\": \"white\"}}, \"header\": {\"fill\": {\"color\": \"#C8D4E3\"}, \"line\": {\"color\": \"white\"}}, \"type\": \"table\"}]}, \"layout\": {\"annotationdefaults\": {\"arrowcolor\": \"#2a3f5f\", \"arrowhead\": 0, \"arrowwidth\": 1}, \"coloraxis\": {\"colorbar\": {\"outlinewidth\": 0, \"ticks\": \"\"}}, \"colorscale\": {\"diverging\": [[0, \"#8e0152\"], [0.1, \"#c51b7d\"], [0.2, \"#de77ae\"], [0.3, \"#f1b6da\"], [0.4, \"#fde0ef\"], [0.5, \"#f7f7f7\"], [0.6, \"#e6f5d0\"], [0.7, \"#b8e186\"], [0.8, \"#7fbc41\"], [0.9, \"#4d9221\"], [1, \"#276419\"]], \"sequential\": [[0.0, \"#0d0887\"], [0.1111111111111111, \"#46039f\"], [0.2222222222222222, \"#7201a8\"], [0.3333333333333333, \"#9c179e\"], [0.4444444444444444, \"#bd3786\"], [0.5555555555555556, \"#d8576b\"], [0.6666666666666666, \"#ed7953\"], [0.7777777777777778, \"#fb9f3a\"], [0.8888888888888888, \"#fdca26\"], [1.0, \"#f0f921\"]], \"sequentialminus\": [[0.0, \"#0d0887\"], [0.1111111111111111, \"#46039f\"], [0.2222222222222222, \"#7201a8\"], [0.3333333333333333, \"#9c179e\"], [0.4444444444444444, \"#bd3786\"], [0.5555555555555556, \"#d8576b\"], [0.6666666666666666, \"#ed7953\"], [0.7777777777777778, \"#fb9f3a\"], [0.8888888888888888, \"#fdca26\"], [1.0, \"#f0f921\"]]}, \"colorway\": [\"#636efa\", \"#EF553B\", \"#00cc96\", \"#ab63fa\", \"#FFA15A\", \"#19d3f3\", \"#FF6692\", \"#B6E880\", \"#FF97FF\", \"#FECB52\"], \"font\": {\"color\": \"#2a3f5f\"}, \"geo\": {\"bgcolor\": \"white\", \"lakecolor\": \"white\", \"landcolor\": \"#E5ECF6\", \"showlakes\": true, \"showland\": true, \"subunitcolor\": \"white\"}, \"hoverlabel\": {\"align\": \"left\"}, \"hovermode\": \"closest\", \"mapbox\": {\"style\": \"light\"}, \"paper_bgcolor\": \"white\", \"plot_bgcolor\": \"#E5ECF6\", \"polar\": {\"angularaxis\": {\"gridcolor\": \"white\", \"linecolor\": \"white\", \"ticks\": \"\"}, \"bgcolor\": \"#E5ECF6\", \"radialaxis\": {\"gridcolor\": \"white\", \"linecolor\": \"white\", \"ticks\": \"\"}}, \"scene\": {\"xaxis\": {\"backgroundcolor\": \"#E5ECF6\", \"gridcolor\": \"white\", \"gridwidth\": 2, \"linecolor\": \"white\", \"showbackground\": true, \"ticks\": \"\", \"zerolinecolor\": \"white\"}, \"yaxis\": {\"backgroundcolor\": \"#E5ECF6\", \"gridcolor\": \"white\", \"gridwidth\": 2, \"linecolor\": \"white\", \"showbackground\": true, \"ticks\": \"\", \"zerolinecolor\": \"white\"}, \"zaxis\": {\"backgroundcolor\": \"#E5ECF6\", \"gridcolor\": \"white\", \"gridwidth\": 2, \"linecolor\": \"white\", \"showbackground\": true, \"ticks\": \"\", \"zerolinecolor\": \"white\"}}, \"shapedefaults\": {\"line\": {\"color\": \"#2a3f5f\"}}, \"ternary\": {\"aaxis\": {\"gridcolor\": \"white\", \"linecolor\": \"white\", \"ticks\": \"\"}, \"baxis\": {\"gridcolor\": \"white\", \"linecolor\": \"white\", \"ticks\": \"\"}, \"bgcolor\": \"#E5ECF6\", \"caxis\": {\"gridcolor\": \"white\", \"linecolor\": \"white\", \"ticks\": \"\"}}, \"title\": {\"x\": 0.05}, \"xaxis\": {\"automargin\": true, \"gridcolor\": \"white\", \"linecolor\": \"white\", \"ticks\": \"\", \"title\": {\"standoff\": 15}, \"zerolinecolor\": \"white\", \"zerolinewidth\": 2}, \"yaxis\": {\"automargin\": true, \"gridcolor\": \"white\", \"linecolor\": \"white\", \"ticks\": \"\", \"title\": {\"standoff\": 15}, \"zerolinecolor\": \"white\", \"zerolinewidth\": 2}}}, \"title\": {\"text\": \"VALORES M\\u00c1XIMOS EM ESP\\u00c9CIE POR SUM\\u00c1RIOS PREF. FSA\"}},\n",
              "                        {\"responsive\": true}\n",
              "                    ).then(function(){\n",
              "                            \n",
              "var gd = document.getElementById('d2ca1a97-6059-46ae-90d9-f648395daff6');\n",
              "var x = new MutationObserver(function (mutations, observer) {{\n",
              "        var display = window.getComputedStyle(gd).display;\n",
              "        if (!display || display === 'none') {{\n",
              "            console.log([gd, 'removed!']);\n",
              "            Plotly.purge(gd);\n",
              "            observer.disconnect();\n",
              "        }}\n",
              "}});\n",
              "\n",
              "// Listen for the removal of the full notebook cells\n",
              "var notebookContainer = gd.closest('#notebook-container');\n",
              "if (notebookContainer) {{\n",
              "    x.observe(notebookContainer, {childList: true});\n",
              "}}\n",
              "\n",
              "// Listen for the clearing of the current output cell\n",
              "var outputEl = gd.closest('.output');\n",
              "if (outputEl) {{\n",
              "    x.observe(outputEl, {childList: true});\n",
              "}}\n",
              "\n",
              "                        })\n",
              "                };\n",
              "                \n",
              "            </script>\n",
              "        </div>\n",
              "</body>\n",
              "</html>"
            ]
          },
          "metadata": {
            "tags": []
          }
        }
      ]
    },
    {
      "cell_type": "code",
      "metadata": {
        "id": "fuimsc_cJUZq",
        "colab_type": "code",
        "colab": {}
      },
      "source": [
        "# AO MENOS ALGUM INSIGHT , GRÁFICO, MÉTODO,LÓGICA PODE SER REAPROVEITADO OU REMODELADO POR MÃOS MAIS EXPERIENTES! "
      ],
      "execution_count": 0,
      "outputs": []
    },
    {
      "cell_type": "code",
      "metadata": {
        "id": "S64-VlZRJUZ3",
        "colab_type": "code",
        "colab": {}
      },
      "source": [
        ""
      ],
      "execution_count": 0,
      "outputs": []
    }
  ]
}