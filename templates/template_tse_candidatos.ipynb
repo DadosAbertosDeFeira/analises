{
 "cells": [
  {
   "cell_type": "markdown",
   "metadata": {},
   "source": [
    "# Notebook template para trabalhar dados do TSE"
   ]
  },
  {
   "cell_type": "markdown",
   "metadata": {},
   "source": [
    "O objetivo desse notebook é auxiliar na análise dos dados do TSE. Esses dados estão disponíveis em\n",
    "https://www.tse.jus.br/eleicoes/estatisticas/repositorio-de-dados-eleitorais-1/repositorio-de-dados-eleitorais"
   ]
  },
  {
   "cell_type": "markdown",
   "metadata": {},
   "source": [
    "Primeiramente, siga as isntruções do read.me do repositório de análises de Feira de Santana https://github.com/DadosAbertosDeFeira/analises"
   ]
  },
  {
   "cell_type": "markdown",
   "metadata": {},
   "source": [
    "Importe a biblioteca pandas como pd"
   ]
  },
  {
   "cell_type": "code",
   "execution_count": null,
   "metadata": {},
   "outputs": [],
   "source": [
    "import pandas as pd"
   ]
  },
  {
   "cell_type": "markdown",
   "metadata": {},
   "source": [
    "Faça upload do arquivo csv baixado no site do TSE e atribua a uma variável. Como o arquivo tem particularidades, são necessários argumentos específicos\n",
    "- path: coloque onde o arquivo está localizado no seu computador.\n",
    "- df: troque df para o nome que fizer sentido. Por exemplo -candidatos_2020_bahia-"
   ]
  },
  {
   "cell_type": "code",
   "execution_count": null,
   "metadata": {},
   "outputs": [],
   "source": [
    "path = ''\n",
    "df = pd.read_csv(path, encoding = \"Latin 1\", sep=';')"
   ]
  },
  {
   "cell_type": "markdown",
   "metadata": {},
   "source": [
    "A documentação do pd.read_csv() pode ser encontrada aqui https://pandas.pydata.org/pandas-docs/stable/reference/api/pandas.read_csv.html"
   ]
  },
  {
   "cell_type": "markdown",
   "metadata": {},
   "source": [
    "Cheque se o arquivo foi importado como esperado usando o sample, que mostra randomicamente um número selecionado de observações."
   ]
  },
  {
   "cell_type": "code",
   "execution_count": null,
   "metadata": {},
   "outputs": [],
   "source": [
    "df.sample(5)"
   ]
  },
  {
   "cell_type": "markdown",
   "metadata": {},
   "source": [
    "Outro ponto importante é ver quais são as colunas de dados disponíveis. Para isso podemos utilizar a .columns"
   ]
  },
  {
   "cell_type": "code",
   "execution_count": null,
   "metadata": {},
   "outputs": [],
   "source": [
    "df.columns"
   ]
  },
  {
   "cell_type": "markdown",
   "metadata": {},
   "source": [
    "#### Unir tabelas do TSE\n",
    "\n",
    "As tabelas dos TSE são disponibilizadas separadamente e podem ser unificadas usando um ```join```\n",
    "Por exemplo, uma tablea possui os dados do candidato (como partido e dados pessoais) e outra possui os bens declarados por cada candidato. Mas a tabela que possui os bens não possui o nome do candidato, apenas um número de identificação (id). Para saber o nome do candidato na tabela de bens, precisamos de um ```join```.\n",
    "\n",
    "\n",
    "```merged_df = pd.merge(df_bens, df_names, on=\"id_column\")```\n",
    "\n",
    "Lembre-se que você precisa fazer upload de ambas tabelas usando as instruções acima.\n",
    "\n",
    "No caso acima você irá incluir TODAS as informações das duas tabelas. Ou seja, se ```df_bens``` tem 10 colunas e ```df_names``` tem 5 colunas, o ```merged_df``` terá 15 colunas. Se um candidato não tiver bens, você terá os dados dele na tabela, porém com as colunas referentes do df_bens como ```NaN```. Se um candidato tiver dois bens declarados, terá duas linhas com os bens e suas informações repetidas nas colunas referentes aos seus dados.\n",
    "\n",
    "Para modificar isso você pode usar o parâmetro ```how=...``` que tem as opções ```left``` e ```right```.\n",
    "Saiba mais sobre esse comportamento em https://pandas.pydata.org/pandas-docs/stable/user_guide/merging.html#database-style-dataframe-or-named-series-joining-merging"
   ]
  },
  {
   "cell_type": "code",
   "execution_count": null,
   "metadata": {},
   "outputs": [],
   "source": [
    "df_merged = pd.merge(df_bens, df_names, on='SQ_CANDIDATO')"
   ]
  },
  {
   "cell_type": "markdown",
   "metadata": {},
   "source": [
    "#### Fazer um ranking\n",
    "\n",
    "Para listar os 10+ ou 10- de acordo com uma coluna pode ser usado o método sort_values( ) e combinar com o head( )\n",
    "A documentação do .sort_values( ) pode ser encontrada aqui https://pandas.pydata.org/pandas-docs/stable/reference/api/pandas.DataFrame.sort_values.html"
   ]
  },
  {
   "cell_type": "code",
   "execution_count": null,
   "metadata": {},
   "outputs": [],
   "source": [
    "sorted_df = df.sort_values(by='...', ascending=...)\n",
    "sorted_df.head()"
   ]
  },
  {
   "cell_type": "markdown",
   "metadata": {},
   "source": [
    "#### Fazer uma coluna calculada\n",
    "\n",
    "Para criar uma nova coluna você pode fazer cálculos matemáticos ou utilizar funções disponíveis no Pandas.\n",
    "\n",
    "Uma coluna utilizando cálcula matemático por exemplo seria:\n",
    "`df['nova coluna'] = df['coluna']*2`\n",
    "\n",
    "Uma coluna utilizando uam função como o split (transformar uma coluna em duas ou três) por exemplo seria:\n",
    "`df[['day', 'month', 'year]] = df['data de nascimento'].str.split('/')`"
   ]
  },
  {
   "cell_type": "markdown",
   "metadata": {},
   "source": [
    "#### Filtrar o arquivo de acordo com uma condição\n",
    "\n",
    "Para filtrar apenas ocorrência que sigam uma condição é preciso criar a condição e depois o filtro.\n",
    "- condição: ```condition =  df['column']=='name'```\n",
    "- filtro: ```filter_df = df[condition]```\n",
    "\n",
    "Ou você pode unir tudo da seguinte maneira ```filter_df = df[df['column']=='name']```\n",
    "\n",
    "Também podem ser usadas outros tipo de condições como ```>(maior que) < (menor que) ```"
   ]
  },
  {
   "cell_type": "markdown",
   "metadata": {},
   "source": [
    "#### Checar frequência em uma coluna\n",
    "\n",
    "Para checar a frequência de cada item numa coluna é utilizado o método ```.value_counts()```.\n",
    "\n",
    "```df['column'].value_counts()```"
   ]
  }
 ],
 "metadata": {
  "kernelspec": {
   "display_name": "Python 3.8.3 64-bit ('feira_analises': conda)",
   "language": "python",
   "name": "python38364bitfeiraanalisesconda572a959c4b174d6f996d5ce66ddfed87"
  },
  "language_info": {
   "codemirror_mode": {
    "name": "ipython",
    "version": 3
   },
   "file_extension": ".py",
   "mimetype": "text/x-python",
   "name": "python",
   "nbconvert_exporter": "python",
   "pygments_lexer": "ipython3",
   "version": "3.8.3"
  }
 },
 "nbformat": 4,
 "nbformat_minor": 4
}
